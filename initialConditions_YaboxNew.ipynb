{
 "cells": [
  {
   "cell_type": "markdown",
   "metadata": {},
   "source": [
    "# Optimize Initial Conditions\n",
    "## Yabox"
   ]
  },
  {
   "cell_type": "code",
   "execution_count": 1,
   "metadata": {},
   "outputs": [],
   "source": [
    "import numpy as np\n",
    "from datetime import datetime,timedelta\n",
    "import pandas as pd\n",
    "from yabox import DE"
   ]
  },
  {
   "cell_type": "markdown",
   "metadata": {},
   "source": [
    "# Initialize Ray"
   ]
  },
  {
   "cell_type": "code",
   "execution_count": 2,
   "metadata": {
    "tags": []
   },
   "outputs": [
    {
     "name": "stderr",
     "output_type": "stream",
     "text": [
      "2020-09-28 13:31:52,477\tINFO resource_spec.py:212 -- Starting Ray with 219.97 GiB memory available for workers and up to 1.0 GiB for objects. You can adjust these settings with ray.init(memory=<bytes>, object_store_memory=<bytes>).\n",
      "2020-09-28 13:31:52,798\tINFO services.py:1170 -- View the Ray dashboard at \u001b[1m\u001b[32mlocalhost:8265\u001b[39m\u001b[22m\n"
     ]
    },
    {
     "data": {
      "text/plain": [
       "ObjectID(45b95b1c8bd3a9c4ffffffff010000c801000000)"
      ]
     },
     "execution_count": 2,
     "metadata": {},
     "output_type": "execute_result"
    }
   ],
   "source": [
    "from environs import Env\n",
    "env = Env()\n",
    "env.str(\"CUDA_DEVICE_ORDER\",'PCI_BUS_ID')\n",
    "env.int(\"CUDA_VISIBLE_DEVICES\",1)\n",
    "env.int(\"NUMBA_ENABLE_CUDASIM\",1)\n",
    "env.bool(\"OMPI_MCA_opal_cuda_support\",True)\n",
    "\n",
    "import os\n",
    "import ray\n",
    "MB=1024*1024\n",
    "GB=MB*1024\n",
    "ray.shutdown()\n",
    "ray.init(object_store_memory=1*GB,memory=220*GB,\n",
    "         #lru_evict=True,\n",
    "         driver_object_store_memory=500*MB,num_gpus=1,num_cpus=1,\n",
    "         ignore_reinit_error=True) # , include_webui=False, ignore_reinit_error=True)\n",
    "\n",
    "@ray.remote(num_gpus=1)\n",
    "def use_gpu():\n",
    "    print(\"ray.get_gpu_ids(): {}\".format(ray.get_gpu_ids()[0]))\n",
    "    print(\"CUDA_VISIBLE_DEVICES: {}\".format(os.environ[\"CUDA_VISIBLE_DEVICES\"]))\n",
    "\n",
    "use_gpu.remote()"
   ]
  },
  {
   "cell_type": "markdown",
   "metadata": {},
   "source": [
    "# Load New and Process Data from website data.brasil.io"
   ]
  },
  {
   "cell_type": "code",
   "execution_count": 3,
   "metadata": {
    "tags": []
   },
   "outputs": [
    {
     "name": "stdout",
     "output_type": "stream",
     "text": [
      "\u001b[2m\u001b[36m(pid=18428)\u001b[0m ray.get_gpu_ids(): 0\n",
      "\u001b[2m\u001b[36m(pid=18428)\u001b[0m CUDA_VISIBLE_DEVICES: 0\n"
     ]
    }
   ],
   "source": [
    "%reload_ext autoreload\n",
    "%autoreload 2\n",
    "import get_data\n",
    "LoadData=True\n",
    "\n",
    "if LoadData:\n",
    "    get_data.get_data()"
   ]
  },
  {
   "cell_type": "markdown",
   "metadata": {},
   "source": [
    "# Functions to Load Processed Data"
   ]
  },
  {
   "cell_type": "code",
   "execution_count": 4,
   "metadata": {},
   "outputs": [],
   "source": [
    "def load_confirmed(country,start_date=None):\n",
    "    df = pd.read_csv('data/time_series_19-covid-Confirmed-country.csv')\n",
    "    country_df = df[df['Country/Region'] == country]\n",
    "    if start_date==None:\n",
    "        return country_df.iloc[0]\n",
    "    else: \n",
    "        return country_df.iloc[0].loc[start_date:]\n",
    "\n",
    "\n",
    "def load_recovered(country,start_date=None):\n",
    "    df = pd.read_csv('data/time_series_19-covid-Recovered-country.csv')\n",
    "    country_df = df[df['Country/Region'] == country]\n",
    "    if start_date==None:\n",
    "        return country_df.iloc[0]\n",
    "    else: \n",
    "        return country_df.iloc[0].loc[start_date:]\n",
    "\n",
    "def load_dead(country,start_date=None):\n",
    "    df = pd.read_csv('data/time_series_19-covid-Deaths-country.csv')\n",
    "    country_df = df[df['Country/Region'] == country]\n",
    "    if start_date==None:\n",
    "        return country_df.iloc[0]\n",
    "    else: \n",
    "        return country_df.iloc[0].loc[start_date:]"
   ]
  },
  {
   "cell_type": "markdown",
   "metadata": {},
   "source": [
    "# Load solver"
   ]
  },
  {
   "cell_type": "code",
   "execution_count": 5,
   "metadata": {},
   "outputs": [],
   "source": [
    "%reload_ext autoreload\n",
    "%autoreload 2\n",
    "import LearnerICRayNoLoadBH as L "
   ]
  },
  {
   "cell_type": "markdown",
   "metadata": {},
   "source": [
    "# Data for Countries"
   ]
  },
  {
   "cell_type": "code",
   "execution_count": 6,
   "metadata": {},
   "outputs": [
    {
     "name": "stderr",
     "output_type": "stream",
     "text": [
      "/home/ats4i/anaconda3/envs/geo_env/lib/python3.6/site-packages/ipykernel_launcher.py:4: UserWarning: Pandas doesn't allow columns to be created via a new attribute name - see https://pandas.pydata.org/pandas-docs/stable/indexing.html#attribute-access\n",
      "  after removing the cwd from sys.path.\n"
     ]
    },
    {
     "data": {
      "text/html": [
       "<div>\n",
       "<style scoped>\n",
       "    .dataframe tbody tr th:only-of-type {\n",
       "        vertical-align: middle;\n",
       "    }\n",
       "\n",
       "    .dataframe tbody tr th {\n",
       "        vertical-align: top;\n",
       "    }\n",
       "\n",
       "    .dataframe thead th {\n",
       "        text-align: right;\n",
       "    }\n",
       "</style>\n",
       "<table border=\"1\" class=\"dataframe\">\n",
       "  <thead>\n",
       "    <tr style=\"text-align: right;\">\n",
       "      <th></th>\n",
       "      <th>country</th>\n",
       "      <th>start-date</th>\n",
       "      <th>prediction-range</th>\n",
       "      <th>s0</th>\n",
       "      <th>e0</th>\n",
       "      <th>a0</th>\n",
       "      <th>i0</th>\n",
       "      <th>r0</th>\n",
       "      <th>d0</th>\n",
       "      <th>START</th>\n",
       "      <th>WCASES</th>\n",
       "      <th>WREC</th>\n",
       "      <th>popTotal</th>\n",
       "    </tr>\n",
       "  </thead>\n",
       "  <tbody>\n",
       "    <tr>\n",
       "      <th>0</th>\n",
       "      <td>Brazil</td>\n",
       "      <td>3/2/20</td>\n",
       "      <td>200</td>\n",
       "      <td>63767822.7</td>\n",
       "      <td>0.0001</td>\n",
       "      <td>0.0001</td>\n",
       "      <td>200</td>\n",
       "      <td>100</td>\n",
       "      <td>50</td>\n",
       "      <td>50</td>\n",
       "      <td>0.15</td>\n",
       "      <td>0.05</td>\n",
       "      <td>2.125594e+08</td>\n",
       "    </tr>\n",
       "    <tr>\n",
       "      <th>1</th>\n",
       "      <td>China</td>\n",
       "      <td>1/28/20</td>\n",
       "      <td>200</td>\n",
       "      <td>431797132.2</td>\n",
       "      <td>0.0001</td>\n",
       "      <td>0.0001</td>\n",
       "      <td>200</td>\n",
       "      <td>100</td>\n",
       "      <td>50</td>\n",
       "      <td>50</td>\n",
       "      <td>0.15</td>\n",
       "      <td>0.05</td>\n",
       "      <td>1.439324e+09</td>\n",
       "    </tr>\n",
       "    <tr>\n",
       "      <th>2</th>\n",
       "      <td>Italy</td>\n",
       "      <td>2/28/20</td>\n",
       "      <td>200</td>\n",
       "      <td>18138548.4</td>\n",
       "      <td>0.0001</td>\n",
       "      <td>0.0001</td>\n",
       "      <td>200</td>\n",
       "      <td>100</td>\n",
       "      <td>50</td>\n",
       "      <td>50</td>\n",
       "      <td>0.15</td>\n",
       "      <td>0.05</td>\n",
       "      <td>6.046183e+07</td>\n",
       "    </tr>\n",
       "    <tr>\n",
       "      <th>3</th>\n",
       "      <td>US</td>\n",
       "      <td>2/20/20</td>\n",
       "      <td>200</td>\n",
       "      <td>99300794.1</td>\n",
       "      <td>0.0001</td>\n",
       "      <td>0.0001</td>\n",
       "      <td>200</td>\n",
       "      <td>100</td>\n",
       "      <td>50</td>\n",
       "      <td>50</td>\n",
       "      <td>0.15</td>\n",
       "      <td>0.05</td>\n",
       "      <td>3.310026e+08</td>\n",
       "    </tr>\n",
       "    <tr>\n",
       "      <th>4</th>\n",
       "      <td>India</td>\n",
       "      <td>3/10/20</td>\n",
       "      <td>200</td>\n",
       "      <td>414001315.5</td>\n",
       "      <td>0.0001</td>\n",
       "      <td>0.0001</td>\n",
       "      <td>200</td>\n",
       "      <td>100</td>\n",
       "      <td>50</td>\n",
       "      <td>50</td>\n",
       "      <td>0.15</td>\n",
       "      <td>0.05</td>\n",
       "      <td>1.380004e+09</td>\n",
       "    </tr>\n",
       "  </tbody>\n",
       "</table>\n",
       "</div>"
      ],
      "text/plain": [
       "  country start-date  prediction-range           s0      e0      a0   i0   r0  \\\n",
       "0  Brazil     3/2/20               200   63767822.7  0.0001  0.0001  200  100   \n",
       "1   China    1/28/20               200  431797132.2  0.0001  0.0001  200  100   \n",
       "2   Italy    2/28/20               200   18138548.4  0.0001  0.0001  200  100   \n",
       "3      US    2/20/20               200   99300794.1  0.0001  0.0001  200  100   \n",
       "4   India    3/10/20               200  414001315.5  0.0001  0.0001  200  100   \n",
       "\n",
       "   d0  START  WCASES  WREC      popTotal  \n",
       "0  50     50    0.15  0.05  2.125594e+08  \n",
       "1  50     50    0.15  0.05  1.439324e+09  \n",
       "2  50     50    0.15  0.05  6.046183e+07  \n",
       "3  50     50    0.15  0.05  3.310026e+08  \n",
       "4  50     50    0.15  0.05  1.380004e+09  "
      ]
     },
     "metadata": {},
     "output_type": "display_data"
    }
   ],
   "source": [
    "dfparam = pd.read_csv(\"data/param.csv\")\n",
    "countries=dfparam.country\n",
    "popEst = pd.read_csv(\"data/WPP2019_TotalPopulationBySex.csv\")\n",
    "popEst.popTotal=pd.to_numeric(popEst.PopTotal, errors='coerce')\n",
    "\n",
    "for country in countries:\n",
    "    if country==\"US\":\n",
    "        country2=\"United States of America\"    \n",
    "    else:\n",
    "        country2=country\n",
    "    dfparam.loc[dfparam.country==country,'popTotal']=popEst.loc[popEst.Location==country2].loc[popEst.Time==2020].iloc[0,8]*1000\n",
    "    dfparam.loc[dfparam.country==country,'s0']=popEst.loc[popEst.Location==country2].loc[popEst.Time==2020].iloc[0,8]*1000*0.3\n",
    "    \n",
    "display(dfparam)\n",
    "    "
   ]
  },
  {
   "cell_type": "markdown",
   "metadata": {},
   "source": [
    "# Functions for Optimization"
   ]
  },
  {
   "cell_type": "code",
   "execution_count": 7,
   "metadata": {},
   "outputs": [],
   "source": [
    "from scipy.integrate import odeint\n",
    "import sys\n",
    "import io\n",
    "import gc\n",
    "\n",
    "def create_f(country,e0,a0,r0,date, predict_range, version):\n",
    "                \n",
    "    def fobjective(point):\n",
    "        \n",
    "        dead=  load_dead(country,date)\n",
    "        recovered = load_recovered(country,date)\n",
    "        data = load_confirmed(country,date)-recovered-dead\n",
    "        cleanRecovered=False\n",
    "        s0, deltaDate, i0, d0, startNCases, weigthCases, weigthRecov = point\n",
    "        end_date=datetime.strptime(date, \"%m/%d/%y\") + timedelta(days=deltaDate)\n",
    "        f=L.Learner.remote(country, end_date.strftime(\"%m/%d/%y\"), predict_range,\\\n",
    "                           s0, e0, a0, i0, r0, d0, startNCases, weigthCases, weigthRecov, \\\n",
    "                           cleanRecovered, version, data, dead, recovered, savedata=False)\n",
    "        result = f.train.remote() \n",
    "        result = ray.get(result) \n",
    "\n",
    "        del end_date,cleanRecovered, data, dead, point,f         \n",
    "\n",
    "        gc.collect()\n",
    "\n",
    "        return result\n",
    "    return fobjective"
   ]
  },
  {
   "cell_type": "code",
   "execution_count": 8,
   "metadata": {},
   "outputs": [],
   "source": [
    "@ray.remote(memory=50 * 1024 * 1024, max_calls=1)\n",
    "def opt(country,s0,i0,e0,a0,r0,d0,wcases,wrec,date,startNCases, \n",
    "        predict_range, version):\n",
    "\n",
    "    bounds=[(5e3,s0),(-2,2),(0,350), (0,250), (0,150),\\\n",
    "              (0.1,0.35),(0.001,.2)]\n",
    "    maxiterations=500\n",
    "    f=create_f(country,e0,a0,r0,date, predict_range, version)\n",
    "    de = DE(f, bounds, maxiters=maxiterations)\n",
    "    for step in de.geniterator():\n",
    "        try:\n",
    "            idx = step.best_idx\n",
    "            norm_vector = step.population[idx]\n",
    "            best_params = de.denormalize([norm_vector])\n",
    "            del norm_vector, idx\n",
    "        except:\n",
    "            print(\"error in function evaluation\")\n",
    "    p=best_params[0]\n",
    "    del f, bounds, data, dead,best_params\n",
    "    \n",
    "    return p"
   ]
  },
  {
   "cell_type": "markdown",
   "metadata": {},
   "source": [
    "# Main Code"
   ]
  },
  {
   "cell_type": "code",
   "execution_count": 9,
   "metadata": {},
   "outputs": [
    {
     "data": {
      "application/javascript": [
       "IPython.OutputArea.prototype._should_scroll = function(lines){\n",
       "    return true;}\n"
      ],
      "text/plain": [
       "<IPython.core.display.Javascript object>"
      ]
     },
     "metadata": {},
     "output_type": "display_data"
    }
   ],
   "source": [
    "%%javascript\n",
    "IPython.OutputArea.prototype._should_scroll = function(lines){\n",
    "    return true;}"
   ]
  },
  {
   "cell_type": "code",
   "execution_count": 10,
   "metadata": {
    "tags": []
   },
   "outputs": [
    {
     "data": {
      "text/plain": [
       "0    Brazil\n",
       "1     China\n",
       "2     Italy\n",
       "3        US\n",
       "4     India\n",
       "Name: country, dtype: object"
      ]
     },
     "metadata": {},
     "output_type": "display_data"
    },
    {
     "name": "stderr",
     "output_type": "stream",
     "text": [
      "2020-09-28 13:31:55,385\tWARNING worker.py:1090 -- WARNING: 3 PYTHON workers have been started. This could be a result of using a large number of actors, or it could be a consequence of using nested tasks (see https://github.com/ray-project/ray/issues/3644) for some a discussion of workarounds.\n"
     ]
    }
   ],
   "source": [
    "countries=dfparam.country\n",
    "display(countries)\n",
    "allCountries=True\n",
    "version=\"003\"\n",
    "gc.enable()\n",
    "\n",
    "optimal=[]\n",
    "if allCountries:\n",
    "    for country in countries:\n",
    "        #remove previous history file\n",
    "        strFile='./results/history_'+country+version+'.csv'\n",
    "        if os.path.isfile(strFile):\n",
    "            os.remove(strFile)\n",
    "        query = dfparam.query('country == \"{}\"'.format(country)).reset_index()\n",
    "        parameters = np.array(query.iloc[:, 2:])[0]\n",
    "        date,predict_range,s0,e0,a0,i0,r0,d0,startNCases,wcases,wrec,pop = parameters\n",
    "        optimal.append(opt.remote(country,s0,i0,e0,a0,r0,d0,wcases,wrec,date,startNCases, \n",
    "                                            predict_range, version))        \n",
    "else:\n",
    "    country = \"Brazil\" \n",
    "    #remove previous history file\n",
    "    strFile='./results/history_'+country+version+'.csv'\n",
    "    if os.path.isfile(strFile):\n",
    "        os.remove(strFile)\n",
    "    query = dfparam.query('country == \"{}\"'.format(country)).reset_index()\n",
    "    parameters = np.array(query.iloc[:, 2:])[0]\n",
    "    date,predict_range,s0,e0,a0,i0,r0,d0,startNCases,wcases,wrec,pop = parameters\n",
    "    optimal.append(opt.remote(country,s0,i0,e0,a0,r0,d0,wcases,wrec,date,startNCases, \n",
    "                        predict_range, version))        "
   ]
  },
  {
   "cell_type": "code",
   "execution_count": null,
   "metadata": {
    "tags": [
     "outputPrepend"
    ]
   },
   "outputs": [
    {
     "name": "stderr",
     "output_type": "stream",
     "text": [
      "2020-09-28 13:31:56,259\tWARNING worker.py:1090 -- WARNING: 4 PYTHON workers have been started. This could be a result of using a large number of actors, or it could be a consequence of using nested tasks (see https://github.com/ray-project/ray/issues/3644) for some a discussion of workarounds.\n",
      "2020-09-28 13:31:56,625\tWARNING worker.py:1090 -- WARNING: 5 PYTHON workers have been started. This could be a result of using a large number of actors, or it could be a consequence of using nested tasks (see https://github.com/ray-project/ray/issues/3644) for some a discussion of workarounds.\n",
      "2020-09-28 13:31:57,515\tWARNING worker.py:1090 -- WARNING: 6 PYTHON workers have been started. This could be a result of using a large number of actors, or it could be a consequence of using nested tasks (see https://github.com/ray-project/ray/issues/3644) for some a discussion of workarounds.\n",
      "2020-09-28 13:31:57,909\tWARNING worker.py:1090 -- WARNING: 7 PYTHON workers have been started. This could be a result of using a large number of actors, or it could be a consequence of using nested tasks (see https://github.com/ray-project/ray/issues/3644) for some a discussion of workarounds.\n",
      "2020-09-28 13:31:58,829\tWARNING worker.py:1090 -- WARNING: 8 PYTHON workers have been started. This could be a result of using a large number of actors, or it could be a consequence of using nested tasks (see https://github.com/ray-project/ray/issues/3644) for some a discussion of workarounds.\n",
      "2020-09-28 13:31:59,244\tWARNING worker.py:1090 -- WARNING: 9 PYTHON workers have been started. This could be a result of using a large number of actors, or it could be a consequence of using nested tasks (see https://github.com/ray-project/ray/issues/3644) for some a discussion of workarounds.\n",
      "2020-09-28 13:32:00,147\tWARNING worker.py:1090 -- WARNING: 10 PYTHON workers have been started. This could be a result of using a large number of actors, or it could be a consequence of using nested tasks (see https://github.com/ray-project/ray/issues/3644) for some a discussion of workarounds.\n"
     ]
    },
    {
     "name": "stdout",
     "output_type": "stream",
     "text": [
      "\u001b[2m\u001b[36m(pid=18473)\u001b[0m basinhopping step 0: f -7.82403e+12\n",
      "\u001b[2m\u001b[36m(pid=18473)\u001b[0m basinhopping step 1: f -7.82403e+12 trial_f 3.99631e+13 accepted 0  lowest_f -7.82403e+12\n",
      "\u001b[2m\u001b[36m(pid=18525)\u001b[0m basinhopping step 0: f -2.61395e+13\n",
      "\u001b[2m\u001b[36m(pid=18499)\u001b[0m basinhopping step 0: f -6.62631e+15\n",
      "\u001b[2m\u001b[36m(pid=18577)\u001b[0m warning: basinhopping: local minimization failure\n",
      "\u001b[2m\u001b[36m(pid=18577)\u001b[0m basinhopping step 0: f 7.88185e+10\n",
      "\u001b[2m\u001b[36m(pid=18525)\u001b[0m basinhopping step 1: f -4.67517e+13 trial_f -4.67517e+13 accepted 1  lowest_f -4.67517e+13\n",
      "\u001b[2m\u001b[36m(pid=18525)\u001b[0m found new global minimum on step 1 with function value -4.67517e+13\n",
      "\u001b[2m\u001b[36m(pid=18473)\u001b[0m basinhopping step 2: f -7.82403e+12 trial_f 3.99631e+13 accepted 0  lowest_f -7.82403e+12\n",
      "\u001b[2m\u001b[36m(pid=18473)\u001b[0m basinhopping step 3: f -7.82403e+12 trial_f 3.99632e+13 accepted 0  lowest_f -7.82403e+12\n",
      "\u001b[2m\u001b[36m(pid=18525)\u001b[0m basinhopping step 2: f -4.67517e+13 trial_f 2.61302e+09 accepted 0  lowest_f -4.67517e+13\n",
      "\u001b[2m\u001b[36m(pid=18525)\u001b[0m warning: basinhopping: local minimization failure\n",
      "\u001b[2m\u001b[36m(pid=18525)\u001b[0m basinhopping step 3: f -4.67517e+13 trial_f 3.04782e+09 accepted 0  lowest_f -4.67517e+13\n",
      "\u001b[2m\u001b[36m(pid=18499)\u001b[0m basinhopping step 1: f -6.62631e+15 trial_f 1.81083e+15 accepted 0  lowest_f -6.62631e+15\n",
      "\u001b[2m\u001b[36m(pid=18499)\u001b[0m basinhopping step 2: f -6.62631e+15 trial_f 1.11163e+09 accepted 0  lowest_f -6.62631e+15\n",
      "\u001b[2m\u001b[36m(pid=18551)\u001b[0m basinhopping step 0: f 5.30767e+11\n",
      "\u001b[2m\u001b[36m(pid=18473)\u001b[0m basinhopping step 4: f -7.82403e+12 trial_f 1.89767e+10 accepted 0  lowest_f -7.82403e+12\n",
      "\u001b[2m\u001b[36m(pid=18577)\u001b[0m basinhopping step 1: f 7.88185e+10 trial_f 2.3027e+12 accepted 0  lowest_f 7.88185e+10\n",
      "\u001b[2m\u001b[36m(pid=18551)\u001b[0m basinhopping step 1: f 5.30767e+11 trial_f 1.22255e+12 accepted 0  lowest_f 5.30767e+11\n",
      "\u001b[2m\u001b[36m(pid=18577)\u001b[0m basinhopping step 2: f 7.76581e+10 trial_f 7.76581e+10 accepted 1  lowest_f 7.76581e+10\n",
      "\u001b[2m\u001b[36m(pid=18577)\u001b[0m found new global minimum on step 2 with function value 7.76581e+10\n",
      "\u001b[2m\u001b[36m(pid=18473)\u001b[0m basinhopping step 5: f -7.82403e+12 trial_f 7.49526e+11 accepted 0  lowest_f -7.82403e+12\n",
      "\u001b[2m\u001b[36m(pid=18525)\u001b[0m basinhopping step 4: f -6.9352e+13 trial_f -6.9352e+13 accepted 1  lowest_f -6.9352e+13\n",
      "\u001b[2m\u001b[36m(pid=18525)\u001b[0m found new global minimum on step 4 with function value -6.9352e+13\n",
      "\u001b[2m\u001b[36m(pid=18473)\u001b[0m basinhopping step 6: f -7.82403e+12 trial_f 6.17269e+11 accepted 0  lowest_f -7.82403e+12\n",
      "\u001b[2m\u001b[36m(pid=18577)\u001b[0m basinhopping step 3: f 7.76581e+10 trial_f 1.49567e+13 accepted 0  lowest_f 7.76581e+10\n",
      "\u001b[2m\u001b[36m(pid=18577)\u001b[0m basinhopping step 4: f 7.76581e+10 trial_f 1.44424e+13 accepted 0  lowest_f 7.76581e+10\n",
      "\u001b[2m\u001b[36m(pid=18473)\u001b[0m basinhopping step 7: f -7.82403e+12 trial_f 7.86245e+11 accepted 0  lowest_f -7.82403e+12\n",
      "\u001b[2m\u001b[36m(pid=18525)\u001b[0m basinhopping step 5: f -6.9352e+13 trial_f 2.4064e+09 accepted 0  lowest_f -6.9352e+13\n",
      "\u001b[2m\u001b[36m(pid=18499)\u001b[0m basinhopping step 3: f -6.62631e+15 trial_f 5.21455e+14 accepted 0  lowest_f -6.62631e+15\n",
      "\u001b[2m\u001b[36m(pid=18525)\u001b[0m basinhopping step 6: f -6.9352e+13 trial_f 4.07511e+12 accepted 0  lowest_f -6.9352e+13\n",
      "\u001b[2m\u001b[36m(pid=18577)\u001b[0m basinhopping step 5: f 7.76581e+10 trial_f 1.50257e+13 accepted 0  lowest_f 7.76581e+10\n",
      "\u001b[2m\u001b[36m(pid=18551)\u001b[0m basinhopping step 2: f 4.01662e+11 trial_f 4.01662e+11 accepted 1  lowest_f 4.01662e+11\n",
      "\u001b[2m\u001b[36m(pid=18551)\u001b[0m found new global minimum on step 2 with function value 4.01662e+11\n",
      "\u001b[2m\u001b[36m(pid=18551)\u001b[0m warning: basinhopping: local minimization failure\n",
      "\u001b[2m\u001b[36m(pid=18551)\u001b[0m basinhopping step 3: f 2.48093e+10 trial_f 2.48093e+10 accepted 1  lowest_f 2.48093e+10\n",
      "\u001b[2m\u001b[36m(pid=18551)\u001b[0m found new global minimum on step 3 with function value 2.48093e+10\n",
      "\u001b[2m\u001b[36m(pid=18499)\u001b[0m basinhopping step 4: f -6.62631e+15 trial_f -1.53864e+15 accepted 0  lowest_f -6.62631e+15\n",
      "\u001b[2m\u001b[36m(pid=18551)\u001b[0m basinhopping step 4: f 2.48093e+10 trial_f 1.23409e+12 accepted 0  lowest_f 2.48093e+10\n",
      "\u001b[2m\u001b[36m(pid=18499)\u001b[0m basinhopping step 5: f -6.62631e+15 trial_f 1.12177e+09 accepted 0  lowest_f -6.62631e+15\n",
      "\u001b[2m\u001b[36m(pid=18577)\u001b[0m basinhopping step 6: f 7.76581e+10 trial_f 1.51098e+13 accepted 0  lowest_f 7.76581e+10\n",
      "\u001b[2m\u001b[36m(pid=18473)\u001b[0m basinhopping step 8: f -7.82403e+12 trial_f 3.57204e+10 accepted 0  lowest_f -7.82403e+12\n",
      "\u001b[2m\u001b[36m(pid=18551)\u001b[0m basinhopping step 5: f 2.48093e+10 trial_f 1.19288e+12 accepted 0  lowest_f 2.48093e+10\n",
      "\u001b[2m\u001b[36m(pid=18499)\u001b[0m basinhopping step 6: f -6.62631e+15 trial_f 9.934e+08 accepted 0  lowest_f -6.62631e+15\n",
      "\u001b[2m\u001b[36m(pid=18525)\u001b[0m basinhopping step 7: f -6.9352e+13 trial_f -3.33297e+12 accepted 0  lowest_f -6.9352e+13\n",
      "\u001b[2m\u001b[36m(pid=18551)\u001b[0m basinhopping step 6: f -1.80427e+12 trial_f -1.80427e+12 accepted 1  lowest_f -1.80427e+12\n",
      "\u001b[2m\u001b[36m(pid=18551)\u001b[0m found new global minimum on step 6 with function value -1.80427e+12\n",
      "\u001b[2m\u001b[36m(pid=18499)\u001b[0m basinhopping step 7: f -6.62631e+15 trial_f 3.22952e+15 accepted 0  lowest_f -6.62631e+15\n",
      "\u001b[2m\u001b[36m(pid=18551)\u001b[0m basinhopping step 7: f -1.80427e+12 trial_f 2.80176e+13 accepted 0  lowest_f -1.80427e+12\n",
      "\u001b[2m\u001b[36m(pid=18525)\u001b[0m basinhopping step 8: f -6.9352e+13 trial_f 4.07564e+12 accepted 0  lowest_f -6.9352e+13\n",
      "\u001b[2m\u001b[36m(pid=18551)\u001b[0m warning: basinhopping: local minimization failure\n",
      "\u001b[2m\u001b[36m(pid=18551)\u001b[0m basinhopping step 8: f -1.80427e+12 trial_f 1.00235e+12 accepted 0  lowest_f -1.80427e+12\n",
      "\u001b[2m\u001b[36m(pid=18473)\u001b[0m basinhopping step 9: f -7.82403e+12 trial_f 1.28026e+11 accepted 0  lowest_f -7.82403e+12\n",
      "\u001b[2m\u001b[36m(pid=18473)\u001b[0m basinhopping step 10: f -7.82403e+12 trial_f 3.9963e+13 accepted 0  lowest_f -7.82403e+12\n",
      "\u001b[2m\u001b[36m(pid=18499)\u001b[0m warning: basinhopping: local minimization failure\n",
      "\u001b[2m\u001b[36m(pid=18499)\u001b[0m basinhopping step 8: f -6.62631e+15 trial_f 1.10321e+09 accepted 0  lowest_f -6.62631e+15\n",
      "\u001b[2m\u001b[36m(pid=18473)\u001b[0m basinhopping step 11: f -7.82403e+12 trial_f 6.01699e+12 accepted 0  lowest_f -7.82403e+12\n",
      "\u001b[2m\u001b[36m(pid=18473)\u001b[0m basinhopping step 12: f -7.82403e+12 trial_f -7.79134e+12 accepted 0  lowest_f -7.82403e+12\n",
      "\u001b[2m\u001b[36m(pid=18525)\u001b[0m basinhopping step 9: f -6.9352e+13 trial_f 6.13083e+11 accepted 0  lowest_f -6.9352e+13\n",
      "\u001b[2m\u001b[36m(pid=18473)\u001b[0m basinhopping step 13: f -7.82403e+12 trial_f 5.89406e+10 accepted 0  lowest_f -7.82403e+12\n",
      "\u001b[2m\u001b[36m(pid=18473)\u001b[0m basinhopping step 14: f -7.82403e+12 trial_f 3.99632e+13 accepted 0  lowest_f -7.82403e+12\n",
      "\u001b[2m\u001b[36m(pid=18499)\u001b[0m warning: basinhopping: local minimization failure\n",
      "\u001b[2m\u001b[36m(pid=18499)\u001b[0m basinhopping step 9: f -6.62631e+15 trial_f 5.19762e+14 accepted 0  lowest_f -6.62631e+15\n",
      "\u001b[2m\u001b[36m(pid=18551)\u001b[0m basinhopping step 9: f -7.16687e+12 trial_f -7.16687e+12 accepted 1  lowest_f -7.16687e+12\n",
      "\u001b[2m\u001b[36m(pid=18551)\u001b[0m found new global minimum on step 9 with function value -7.16687e+12\n",
      "\u001b[2m\u001b[36m(pid=18525)\u001b[0m basinhopping step 10: f -6.9352e+13 trial_f 4.36196e+12 accepted 0  lowest_f -6.9352e+13\n",
      "\u001b[2m\u001b[36m(pid=18473)\u001b[0m basinhopping step 15: f -7.82403e+12 trial_f 1.6402e+11 accepted 0  lowest_f -7.82403e+12\n",
      "\u001b[2m\u001b[36m(pid=18525)\u001b[0m basinhopping step 11: f -6.9352e+13 trial_f -6.86894e+11 accepted 0  lowest_f -6.9352e+13\n",
      "\u001b[2m\u001b[36m(pid=18499)\u001b[0m basinhopping step 10: f -6.62631e+15 trial_f 3.23734e+15 accepted 0  lowest_f -6.62631e+15\n",
      "\u001b[2m\u001b[36m(pid=18499)\u001b[0m basinhopping step 11: f -6.62631e+15 trial_f 3.601e+15 accepted 0  lowest_f -6.62631e+15\n",
      "\u001b[2m\u001b[36m(pid=18577)\u001b[0m basinhopping step 7: f -5.63367e+15 trial_f -5.63367e+15 accepted 1  lowest_f -5.63367e+15\n",
      "\u001b[2m\u001b[36m(pid=18577)\u001b[0m found new global minimum on step 7 with function value -5.63367e+15\n",
      "\u001b[2m\u001b[36m(pid=18525)\u001b[0m basinhopping step 12: f -6.9352e+13 trial_f 8.56095e+11 accepted 0  lowest_f -6.9352e+13\n",
      "\u001b[2m\u001b[36m(pid=18473)\u001b[0m warning: basinhopping: local minimization failure\n",
      "\u001b[2m\u001b[36m(pid=18473)\u001b[0m basinhopping step 16: f -7.82403e+12 trial_f -2.60897e+11 accepted 0  lowest_f -7.82403e+12\n",
      "\u001b[2m\u001b[36m(pid=18551)\u001b[0m basinhopping step 10: f -7.16687e+12 trial_f 8.49183e+11 accepted 0  lowest_f -7.16687e+12\n",
      "\u001b[2m\u001b[36m(pid=18499)\u001b[0m basinhopping step 12: f -6.62631e+15 trial_f 8.44947e+15 accepted 0  lowest_f -6.62631e+15\n",
      "\u001b[2m\u001b[36m(pid=18577)\u001b[0m basinhopping step 8: f -5.63367e+15 trial_f 2.29113e+12 accepted 0  lowest_f -5.63367e+15\n"
     ]
    },
    {
     "name": "stdout",
     "output_type": "stream",
     "text": [
      "\u001b[2m\u001b[36m(pid=18473)\u001b[0m basinhopping step 17: f -7.82403e+12 trial_f 7.48025e+11 accepted 0  lowest_f -7.82403e+12\n",
      "\u001b[2m\u001b[36m(pid=18551)\u001b[0m basinhopping step 11: f -7.16687e+12 trial_f 8.56668e+11 accepted 0  lowest_f -7.16687e+12\n",
      "\u001b[2m\u001b[36m(pid=18551)\u001b[0m basinhopping step 12: f -7.16687e+12 trial_f 2.8018e+13 accepted 0  lowest_f -7.16687e+12\n",
      "\u001b[2m\u001b[36m(pid=18473)\u001b[0m warning: basinhopping: local minimization failure\n",
      "\u001b[2m\u001b[36m(pid=18473)\u001b[0m basinhopping step 18: f -2.03237e+13 trial_f -2.03237e+13 accepted 1  lowest_f -2.03237e+13\n",
      "\u001b[2m\u001b[36m(pid=18473)\u001b[0m found new global minimum on step 18 with function value -2.03237e+13\n",
      "\u001b[2m\u001b[36m(pid=18525)\u001b[0m basinhopping step 13: f -6.9352e+13 trial_f 6.13624e+11 accepted 0  lowest_f -6.9352e+13\n",
      "\u001b[2m\u001b[36m(pid=18551)\u001b[0m basinhopping step 13: f -7.16687e+12 trial_f 1.23327e+12 accepted 0  lowest_f -7.16687e+12\n",
      "\u001b[2m\u001b[36m(pid=18577)\u001b[0m basinhopping step 9: f -5.63367e+15 trial_f 2.29093e+12 accepted 0  lowest_f -5.63367e+15\n",
      "\u001b[2m\u001b[36m(pid=18525)\u001b[0m warning: basinhopping: local minimization failure\n",
      "\u001b[2m\u001b[36m(pid=18525)\u001b[0m basinhopping step 14: f -6.9352e+13 trial_f 3.04433e+09 accepted 0  lowest_f -6.9352e+13\n",
      "\u001b[2m\u001b[36m(pid=18473)\u001b[0m basinhopping step 19: f -2.03237e+13 trial_f 5.57512e+12 accepted 0  lowest_f -2.03237e+13\n",
      "\u001b[2m\u001b[36m(pid=18525)\u001b[0m basinhopping step 15: f -6.9352e+13 trial_f 2.42385e+09 accepted 0  lowest_f -6.9352e+13\n",
      "\u001b[2m\u001b[36m(pid=18551)\u001b[0m basinhopping step 14: f -7.16687e+12 trial_f 9.65368e+11 accepted 0  lowest_f -7.16687e+12\n",
      "\u001b[2m\u001b[36m(pid=18473)\u001b[0m basinhopping step 20: f -2.03237e+13 trial_f 3.99631e+13 accepted 0  lowest_f -2.03237e+13\n",
      "\u001b[2m\u001b[36m(pid=18577)\u001b[0m basinhopping step 10: f -5.63367e+15 trial_f 7.79481e+10 accepted 0  lowest_f -5.63367e+15\n",
      "\u001b[2m\u001b[36m(pid=18499)\u001b[0m basinhopping step 13: f -6.62631e+15 trial_f 5.24096e+14 accepted 0  lowest_f -6.62631e+15\n",
      "\u001b[2m\u001b[36m(pid=18499)\u001b[0m basinhopping step 14: f -6.62631e+15 trial_f 1.10762e+09 accepted 0  lowest_f -6.62631e+15\n",
      "\u001b[2m\u001b[36m(pid=18551)\u001b[0m basinhopping step 15: f -1.32924e+13 trial_f -1.32924e+13 accepted 1  lowest_f -1.32924e+13\n",
      "\u001b[2m\u001b[36m(pid=18551)\u001b[0m found new global minimum on step 15 with function value -1.32924e+13\n",
      "\u001b[2m\u001b[36m(pid=18551)\u001b[0m warning: basinhopping: local minimization failure\n",
      "\u001b[2m\u001b[36m(pid=18551)\u001b[0m basinhopping step 16: f -1.32924e+13 trial_f 2.66486e+14 accepted 0  lowest_f -1.32924e+13\n",
      "\u001b[2m\u001b[36m(pid=18473)\u001b[0m basinhopping step 21: f -2.03237e+13 trial_f 2.48578e+10 accepted 0  lowest_f -2.03237e+13\n",
      "\u001b[2m\u001b[36m(pid=18499)\u001b[0m basinhopping step 15: f -6.62631e+15 trial_f 1.02804e+09 accepted 0  lowest_f -6.62631e+15\n",
      "\u001b[2m\u001b[36m(pid=18577)\u001b[0m basinhopping step 11: f -5.63367e+15 trial_f 2.36107e+12 accepted 0  lowest_f -5.63367e+15\n",
      "\u001b[2m\u001b[36m(pid=18473)\u001b[0m basinhopping step 22: f -2.03237e+13 trial_f 7.85484e+11 accepted 0  lowest_f -2.03237e+13\n",
      "\u001b[2m\u001b[36m(pid=18473)\u001b[0m basinhopping step 23: f -2.03237e+13 trial_f 3.99632e+13 accepted 0  lowest_f -2.03237e+13\n",
      "\u001b[2m\u001b[36m(pid=18499)\u001b[0m warning: basinhopping: local minimization failure\n",
      "\u001b[2m\u001b[36m(pid=18499)\u001b[0m basinhopping step 16: f -6.62631e+15 trial_f 8.60324e+15 accepted 0  lowest_f -6.62631e+15\n",
      "\u001b[2m\u001b[36m(pid=18525)\u001b[0m basinhopping step 16: f -6.9352e+13 trial_f -2.87032e+13 accepted 0  lowest_f -6.9352e+13\n",
      "\u001b[2m\u001b[36m(pid=18525)\u001b[0m warning: basinhopping: local minimization failure\n",
      "\u001b[2m\u001b[36m(pid=18525)\u001b[0m basinhopping step 17: f -6.9352e+13 trial_f 3.04391e+09 accepted 0  lowest_f -6.9352e+13\n",
      "\u001b[2m\u001b[36m(pid=18473)\u001b[0m basinhopping step 24: f -2.03237e+13 trial_f 4.3149e+12 accepted 0  lowest_f -2.03237e+13\n",
      "\u001b[2m\u001b[36m(pid=18551)\u001b[0m basinhopping step 17: f -1.32924e+13 trial_f 8.17723e+11 accepted 0  lowest_f -1.32924e+13\n",
      "\u001b[2m\u001b[36m(pid=18473)\u001b[0m basinhopping step 25: f -2.03237e+13 trial_f 6.27695e+11 accepted 0  lowest_f -2.03237e+13\n",
      "\u001b[2m\u001b[36m(pid=18499)\u001b[0m basinhopping step 17: f -6.62631e+15 trial_f 5.69108e+14 accepted 0  lowest_f -6.62631e+15\n",
      "\u001b[2m\u001b[36m(pid=18551)\u001b[0m basinhopping step 18: f -1.32924e+13 trial_f 8.07397e+11 accepted 0  lowest_f -1.32924e+13\n",
      "\u001b[2m\u001b[36m(pid=18577)\u001b[0m basinhopping step 12: f -5.63367e+15 trial_f 2.87897e+12 accepted 0  lowest_f -5.63367e+15\n",
      "\u001b[2m\u001b[36m(pid=18551)\u001b[0m warning: basinhopping: local minimization failure\n",
      "\u001b[2m\u001b[36m(pid=18551)\u001b[0m basinhopping step 19: f -1.32924e+13 trial_f 1.01846e+12 accepted 0  lowest_f -1.32924e+13\n",
      "\u001b[2m\u001b[36m(pid=18499)\u001b[0m basinhopping step 18: f -6.62631e+15 trial_f 7.72564e+08 accepted 0  lowest_f -6.62631e+15\n",
      "\u001b[2m\u001b[36m(pid=18473)\u001b[0m warning: basinhopping: local minimization failure\n",
      "\u001b[2m\u001b[36m(pid=18473)\u001b[0m basinhopping step 26: f -2.03237e+13 trial_f 6.19694e+11 accepted 0  lowest_f -2.03237e+13\n",
      "\u001b[2m\u001b[36m(pid=18499)\u001b[0m basinhopping step 19: f -6.62631e+15 trial_f 4.18456e+16 accepted 0  lowest_f -6.62631e+15\n",
      "\u001b[2m\u001b[36m(pid=18473)\u001b[0m warning: basinhopping: local minimization failure\n",
      "\u001b[2m\u001b[36m(pid=18473)\u001b[0m basinhopping step 27: f -2.03237e+13 trial_f 5.973e+11 accepted 0  lowest_f -2.03237e+13\n",
      "\u001b[2m\u001b[36m(pid=18577)\u001b[0m basinhopping step 13: f -5.63367e+15 trial_f 1.04682e+13 accepted 0  lowest_f -5.63367e+15\n",
      "\u001b[2m\u001b[36m(pid=18525)\u001b[0m basinhopping step 18: f -6.9352e+13 trial_f -2.69246e+13 accepted 0  lowest_f -6.9352e+13\n",
      "\u001b[2m\u001b[36m(pid=18577)\u001b[0m basinhopping step 14: f -5.63367e+15 trial_f 1.50189e+13 accepted 0  lowest_f -5.63367e+15\n",
      "\u001b[2m\u001b[36m(pid=18577)\u001b[0m basinhopping step 15: f -5.63367e+15 trial_f 9.01694e+15 accepted 0  lowest_f -5.63367e+15\n",
      "\u001b[2m\u001b[36m(pid=18551)\u001b[0m basinhopping step 20: f -1.32924e+13 trial_f 8.59992e+11 accepted 0  lowest_f -1.32924e+13\n",
      "\u001b[2m\u001b[36m(pid=18525)\u001b[0m basinhopping step 19: f -6.9352e+13 trial_f 2.42126e+09 accepted 0  lowest_f -6.9352e+13\n",
      "\u001b[2m\u001b[36m(pid=18499)\u001b[0m warning: basinhopping: local minimization failure\n",
      "\u001b[2m\u001b[36m(pid=18499)\u001b[0m basinhopping step 20: f -6.62631e+15 trial_f 1.66709e+15 accepted 0  lowest_f -6.62631e+15\n",
      "\u001b[2m\u001b[36m(pid=18551)\u001b[0m basinhopping step 21: f -1.32924e+13 trial_f 1.00851e+12 accepted 0  lowest_f -1.32924e+13\n",
      "\u001b[2m\u001b[36m(pid=18499)\u001b[0m basinhopping step 21: f -6.62631e+15 trial_f 3.24629e+15 accepted 0  lowest_f -6.62631e+15\n",
      "\u001b[2m\u001b[36m(pid=18525)\u001b[0m basinhopping step 20: f -6.9352e+13 trial_f 4.00358e+12 accepted 0  lowest_f -6.9352e+13\n",
      "\u001b[2m\u001b[36m(pid=18473)\u001b[0m basinhopping step 28: f -2.03237e+13 trial_f 1.28513e+11 accepted 0  lowest_f -2.03237e+13\n",
      "\u001b[2m\u001b[36m(pid=18577)\u001b[0m basinhopping step 16: f -5.63367e+15 trial_f 1.09198e+13 accepted 0  lowest_f -5.63367e+15\n",
      "\u001b[2m\u001b[36m(pid=18525)\u001b[0m basinhopping step 21: f -6.9352e+13 trial_f 2.42347e+09 accepted 0  lowest_f -6.9352e+13\n",
      "\u001b[2m\u001b[36m(pid=18499)\u001b[0m basinhopping step 22: f -6.62631e+15 trial_f 2.19834e+08 accepted 0  lowest_f -6.62631e+15\n",
      "\u001b[2m\u001b[36m(pid=18551)\u001b[0m basinhopping step 22: f -1.32924e+13 trial_f 8.48567e+11 accepted 0  lowest_f -1.32924e+13\n",
      "\u001b[2m\u001b[36m(pid=18499)\u001b[0m basinhopping step 23: f -6.62631e+15 trial_f 1.18401e+16 accepted 0  lowest_f -6.62631e+15\n",
      "\u001b[2m\u001b[36m(pid=18473)\u001b[0m basinhopping step 29: f -2.03237e+13 trial_f 6.62504e+10 accepted 0  lowest_f -2.03237e+13\n",
      "\u001b[2m\u001b[36m(pid=18499)\u001b[0m basinhopping step 24: f -6.62631e+15 trial_f 9.934e+08 accepted 0  lowest_f -6.62631e+15\n",
      "\u001b[2m\u001b[36m(pid=18525)\u001b[0m basinhopping step 22: f -6.9352e+13 trial_f -2.90924e+12 accepted 0  lowest_f -6.9352e+13\n",
      "\u001b[2m\u001b[36m(pid=18577)\u001b[0m warning: basinhopping: local minimization failure\n",
      "\u001b[2m\u001b[36m(pid=18577)\u001b[0m basinhopping step 17: f -5.63367e+15 trial_f 7.74832e+10 accepted 0  lowest_f -5.63367e+15\n",
      "\u001b[2m\u001b[36m(pid=18551)\u001b[0m warning: basinhopping: local minimization failure\n",
      "\u001b[2m\u001b[36m(pid=18551)\u001b[0m basinhopping step 23: f -1.44444e+13 trial_f -1.44444e+13 accepted 1  lowest_f -1.44444e+13\n",
      "\u001b[2m\u001b[36m(pid=18551)\u001b[0m found new global minimum on step 23 with function value -1.44444e+13\n",
      "\u001b[2m\u001b[36m(pid=18499)\u001b[0m basinhopping step 25: f -6.62631e+15 trial_f 3.21192e+15 accepted 0  lowest_f -6.62631e+15\n",
      "\u001b[2m\u001b[36m(pid=18577)\u001b[0m basinhopping step 18: f -5.63367e+15 trial_f 7.79688e+10 accepted 0  lowest_f -5.63367e+15\n",
      "\u001b[2m\u001b[36m(pid=18551)\u001b[0m basinhopping step 24: f -1.44444e+13 trial_f 1.01454e+12 accepted 0  lowest_f -1.44444e+13\n",
      "\u001b[2m\u001b[36m(pid=18499)\u001b[0m basinhopping step 26: f -6.62631e+15 trial_f 3.23765e+15 accepted 0  lowest_f -6.62631e+15\n",
      "\u001b[2m\u001b[36m(pid=18525)\u001b[0m basinhopping step 23: f -6.9352e+13 trial_f 6.04551e+11 accepted 0  lowest_f -6.9352e+13\n"
     ]
    },
    {
     "name": "stdout",
     "output_type": "stream",
     "text": [
      "\u001b[2m\u001b[36m(pid=18473)\u001b[0m basinhopping step 30: f -2.03237e+13 trial_f 1.28495e+11 accepted 0  lowest_f -2.03237e+13\n",
      "\u001b[2m\u001b[36m(pid=18551)\u001b[0m warning: basinhopping: local minimization failure\n",
      "\u001b[2m\u001b[36m(pid=18551)\u001b[0m basinhopping step 25: f -1.44444e+13 trial_f 1.01805e+12 accepted 0  lowest_f -1.44444e+13\n",
      "\u001b[2m\u001b[36m(pid=18551)\u001b[0m basinhopping step 26: f -1.44444e+13 trial_f -2.96742e+12 accepted 0  lowest_f -1.44444e+13\n",
      "\u001b[2m\u001b[36m(pid=18577)\u001b[0m warning: basinhopping: local minimization failure\n",
      "\u001b[2m\u001b[36m(pid=18577)\u001b[0m basinhopping step 19: f -5.63367e+15 trial_f 1.53858e+13 accepted 0  lowest_f -5.63367e+15\n",
      "\u001b[2m\u001b[36m(pid=18499)\u001b[0m warning: basinhopping: local minimization failure\n",
      "\u001b[2m\u001b[36m(pid=18499)\u001b[0m basinhopping step 27: f -6.62631e+15 trial_f 1.09125e+09 accepted 0  lowest_f -6.62631e+15\n",
      "\u001b[2m\u001b[36m(pid=18551)\u001b[0m warning: basinhopping: local minimization failure\n",
      "\u001b[2m\u001b[36m(pid=18551)\u001b[0m basinhopping step 27: f -1.44444e+13 trial_f 1.82486e+16 accepted 0  lowest_f -1.44444e+13\n",
      "\u001b[2m\u001b[36m(pid=18473)\u001b[0m basinhopping step 31: f -2.03237e+13 trial_f 6.62414e+10 accepted 0  lowest_f -2.03237e+13\n",
      "\u001b[2m\u001b[36m(pid=18525)\u001b[0m warning: basinhopping: local minimization failure\n",
      "\u001b[2m\u001b[36m(pid=18525)\u001b[0m basinhopping step 24: f -6.9352e+13 trial_f -6.60048e+13 accepted 0  lowest_f -6.9352e+13\n",
      "\u001b[2m\u001b[36m(pid=18551)\u001b[0m basinhopping step 28: f -1.44444e+13 trial_f 1.23752e+12 accepted 0  lowest_f -1.44444e+13\n",
      "\u001b[2m\u001b[36m(pid=18577)\u001b[0m basinhopping step 20: f -5.63367e+15 trial_f 1.50656e+13 accepted 0  lowest_f -5.63367e+15\n",
      "\u001b[2m\u001b[36m(pid=18473)\u001b[0m basinhopping step 32: f -2.03237e+13 trial_f 6.27486e+11 accepted 0  lowest_f -2.03237e+13\n",
      "\u001b[2m\u001b[36m(pid=18499)\u001b[0m basinhopping step 28: f -6.62631e+15 trial_f 3.24439e+15 accepted 0  lowest_f -6.62631e+15\n",
      "\u001b[2m\u001b[36m(pid=18551)\u001b[0m basinhopping step 29: f -1.44444e+13 trial_f 1.22824e+12 accepted 0  lowest_f -1.44444e+13\n",
      "\u001b[2m\u001b[36m(pid=18551)\u001b[0m basinhopping step 30: f -1.44444e+13 trial_f 1.0073e+12 accepted 0  lowest_f -1.44444e+13\n",
      "\u001b[2m\u001b[36m(pid=18551)\u001b[0m basinhopping step 31: f -1.44444e+13 trial_f 2.80176e+13 accepted 0  lowest_f -1.44444e+13\n",
      "\u001b[2m\u001b[36m(pid=18499)\u001b[0m basinhopping step 29: f -6.62631e+15 trial_f 5.64569e+14 accepted 0  lowest_f -6.62631e+15\n",
      "\u001b[2m\u001b[36m(pid=18577)\u001b[0m basinhopping step 21: f -5.63367e+15 trial_f 1.49982e+13 accepted 0  lowest_f -5.63367e+15\n",
      "\u001b[2m\u001b[36m(pid=18473)\u001b[0m basinhopping step 33: f -2.03237e+13 trial_f 7.64223e+11 accepted 0  lowest_f -2.03237e+13\n",
      "\u001b[2m\u001b[36m(pid=18525)\u001b[0m basinhopping step 25: f -6.9352e+13 trial_f 1.69802e+09 accepted 0  lowest_f -6.9352e+13\n",
      "\u001b[2m\u001b[36m(pid=18551)\u001b[0m basinhopping step 32: f -1.44444e+13 trial_f 1.00644e+12 accepted 0  lowest_f -1.44444e+13\n",
      "\u001b[2m\u001b[36m(pid=18499)\u001b[0m basinhopping step 30: f -6.62631e+15 trial_f 3.24406e+15 accepted 0  lowest_f -6.62631e+15\n",
      "\u001b[2m\u001b[36m(pid=18577)\u001b[0m basinhopping step 22: f -5.63367e+15 trial_f 1.51361e+13 accepted 0  lowest_f -5.63367e+15\n",
      "\u001b[2m\u001b[36m(pid=18499)\u001b[0m warning: basinhopping: local minimization failure\n",
      "\u001b[2m\u001b[36m(pid=18499)\u001b[0m basinhopping step 31: f -6.62631e+15 trial_f 8.60378e+15 accepted 0  lowest_f -6.62631e+15\n",
      "\u001b[2m\u001b[36m(pid=18525)\u001b[0m basinhopping step 26: f -6.9352e+13 trial_f 4.59022e+11 accepted 0  lowest_f -6.9352e+13\n",
      "\u001b[2m\u001b[36m(pid=18551)\u001b[0m basinhopping step 33: f -1.44444e+13 trial_f 3.63263e+12 accepted 0  lowest_f -1.44444e+13\n",
      "\u001b[2m\u001b[36m(pid=18525)\u001b[0m basinhopping step 27: f -6.9352e+13 trial_f 4.07177e+12 accepted 0  lowest_f -6.9352e+13\n",
      "\u001b[2m\u001b[36m(pid=18473)\u001b[0m basinhopping step 34: f -2.03237e+13 trial_f 7.75162e+11 accepted 0  lowest_f -2.03237e+13\n",
      "\u001b[2m\u001b[36m(pid=18525)\u001b[0m warning: basinhopping: local minimization failure\n",
      "\u001b[2m\u001b[36m(pid=18525)\u001b[0m basinhopping step 28: f -6.9352e+13 trial_f 1.92738e+16 accepted 0  lowest_f -6.9352e+13\n"
     ]
    }
   ],
   "source": [
    "optimal=ray.get(optimal)\n"
   ]
  },
  {
   "cell_type": "code",
   "execution_count": null,
   "metadata": {},
   "outputs": [],
   "source": [
    "for i in range(0,len(countries)):    \n",
    "\n",
    "    country=countries[i]\n",
    "    query = dfparam.query('country == \"{}\"'.format(country)).reset_index()\n",
    "    parameters = np.array(query.iloc[:, 2:])[0]\n",
    "    startdate,predict_range,s0,e0,a0,i0,r0,d0,startNCases,wcases,wrec = parameters\n",
    "    Date = datetime.strptime(startdate, \"%m/%d/%y\")\n",
    "    end_date = Date + timedelta(days=+int(optimal[i][1]))\n",
    "    dateStr=end_date.strftime(\"%m/%d/%y\")\n",
    "\n",
    "    j = query['index'].values[0]\n",
    "    dfparam.at[j, \"s0\"] = optimal[i][0]\n",
    "    dfparam.at[j, \"start-date\"] = dateStr\n",
    "    dfparam.at[j, \"i0\"] = optimal[i][2]\n",
    "    dfparam.at[j, \"WCASES\"] = optimal[i][3]\n",
    "    dfparam.at[j, \"WREC\"] = optimal[i][4]\n",
    "\n",
    "    dfparam.to_csv(\"data/param_optimized_Yabox.csv\", sep=\",\", index=False)\n",
    "    dfparam\n",
    "    "
   ]
  },
  {
   "cell_type": "code",
   "execution_count": null,
   "metadata": {},
   "outputs": [],
   "source": []
  },
  {
   "cell_type": "code",
   "execution_count": null,
   "metadata": {},
   "outputs": [],
   "source": []
  },
  {
   "cell_type": "code",
   "execution_count": null,
   "metadata": {},
   "outputs": [],
   "source": []
  },
  {
   "cell_type": "code",
   "execution_count": null,
   "metadata": {},
   "outputs": [],
   "source": []
  }
 ],
 "metadata": {
  "celltoolbar": "Edit Metadata",
  "kernelspec": {
   "display_name": "geo_env",
   "language": "python",
   "name": "geo_env"
  },
  "language_info": {
   "codemirror_mode": {
    "name": "ipython",
    "version": 3
   },
   "file_extension": ".py",
   "mimetype": "text/x-python",
   "name": "python",
   "nbconvert_exporter": "python",
   "pygments_lexer": "ipython3",
   "version": "3.6.10"
  }
 },
 "nbformat": 4,
 "nbformat_minor": 4
}
