version https://git-lfs.github.com/spec/v1
oid sha256:c2287cb68214376e90cd5e26cd880cc24b0fdd040f91976524fc5612638e5511
size 5433104
