version https://git-lfs.github.com/spec/v1
oid sha256:a62bf050246c1ec95559f919c30015e144e556af920dfa106ab3fa4e60252107
size 14982483
