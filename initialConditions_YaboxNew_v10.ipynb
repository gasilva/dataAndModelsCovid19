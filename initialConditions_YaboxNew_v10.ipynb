version https://git-lfs.github.com/spec/v1
oid sha256:678ce27bf87757906eb6a90b1a9d5564bb8ae029804d9c9fbd35a358bcd14f3a
size 10377937
