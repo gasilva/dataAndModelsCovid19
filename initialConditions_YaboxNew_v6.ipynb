{
 "cells": [
  {
   "cell_type": "markdown",
   "metadata": {},
   "source": [
    "# Optimize Initial Conditions\n",
    "## Yabox"
   ]
  },
  {
   "cell_type": "code",
   "execution_count": 1,
   "metadata": {},
   "outputs": [],
   "source": [
    "import numpy as np\n",
    "from datetime import datetime,timedelta\n",
    "import pandas as pd\n",
    "from yabox import DE"
   ]
  },
  {
   "cell_type": "markdown",
   "metadata": {},
   "source": [
    "# Initialize Ray"
   ]
  },
  {
   "cell_type": "code",
   "execution_count": 2,
   "metadata": {
    "tags": []
   },
   "outputs": [
    {
     "name": "stderr",
     "output_type": "stream",
     "text": [
      "2020-10-22 10:28:57,091\tINFO resource_spec.py:212 -- Starting Ray with 219.97 GiB memory available for workers and up to 1.0 GiB for objects. You can adjust these settings with ray.init(memory=<bytes>, object_store_memory=<bytes>).\n",
      "2020-10-22 10:28:57,409\tINFO services.py:1170 -- View the Ray dashboard at \u001b[1m\u001b[32mlocalhost:8266\u001b[39m\u001b[22m\n"
     ]
    },
    {
     "data": {
      "text/plain": [
       "ObjectID(45b95b1c8bd3a9c4ffffffff010000c801000000)"
      ]
     },
     "execution_count": 2,
     "metadata": {},
     "output_type": "execute_result"
    }
   ],
   "source": [
    "from environs import Env\n",
    "env = Env()\n",
    "env.str(\"CUDA_DEVICE_ORDER\",'PCI_BUS_ID')\n",
    "env.int(\"CUDA_VISIBLE_DEVICES\",1)\n",
    "env.int(\"NUMBA_ENABLE_CUDASIM\",1)\n",
    "env.bool(\"OMPI_MCA_opal_cuda_support\",True)\n",
    "\n",
    "import os\n",
    "import ray\n",
    "MB=1024*1024\n",
    "GB=MB*1024\n",
    "ray.shutdown()\n",
    "ray.init(object_store_memory=1*GB,memory=220*GB,\n",
    "         lru_evict=True,\n",
    "         driver_object_store_memory=500*MB,num_gpus=5,num_cpus=1,\n",
    "         ignore_reinit_error=True) # , include_webui=False)\n",
    "\n",
    "@ray.remote(num_gpus=1)\n",
    "def use_gpu():\n",
    "    print(\"ray.get_gpu_ids(): {}\".format(ray.get_gpu_ids()[0]))\n",
    "    print(\"CUDA_VISIBLE_DEVICES: {}\".format(os.environ[\"CUDA_VISIBLE_DEVICES\"]))\n",
    "\n",
    "use_gpu.remote()"
   ]
  },
  {
   "cell_type": "markdown",
   "metadata": {},
   "source": [
    "# Load New and Process Data from website data.brasil.io"
   ]
  },
  {
   "cell_type": "code",
   "execution_count": 3,
   "metadata": {
    "tags": []
   },
   "outputs": [
    {
     "name": "stdout",
     "output_type": "stream",
     "text": [
      "\u001b[2m\u001b[36m(pid=2768)\u001b[0m ray.get_gpu_ids(): 4\n",
      "\u001b[2m\u001b[36m(pid=2768)\u001b[0m CUDA_VISIBLE_DEVICES: 4\n"
     ]
    }
   ],
   "source": [
    "%reload_ext autoreload\n",
    "%autoreload 2\n",
    "import get_data\n",
    "LoadData=True\n",
    "\n",
    "if LoadData:\n",
    "    get_data.get_data()"
   ]
  },
  {
   "cell_type": "markdown",
   "metadata": {},
   "source": [
    "# Functions to Load Processed Data"
   ]
  },
  {
   "cell_type": "code",
   "execution_count": 4,
   "metadata": {},
   "outputs": [],
   "source": [
    "def load_confirmed(country,start_date=None):\n",
    "    df = pd.read_csv('data/time_series_19-covid-Confirmed-country.csv')\n",
    "    country_df = df[df['Country/Region'] == country]\n",
    "    if start_date==None:\n",
    "        return country_df.iloc[0]\n",
    "    else: \n",
    "        return country_df.iloc[0].loc[start_date:]\n",
    "\n",
    "def load_recovered(country,start_date=None):\n",
    "    df = pd.read_csv('data/time_series_19-covid-Recovered-country.csv')\n",
    "    country_df = df[df['Country/Region'] == country]\n",
    "    if start_date==None:\n",
    "        return country_df.iloc[0]\n",
    "    else: \n",
    "        return country_df.iloc[0].loc[start_date:]\n",
    "\n",
    "def load_dead(country,start_date=None):\n",
    "    df = pd.read_csv('data/time_series_19-covid-Deaths-country.csv')\n",
    "    country_df = df[df['Country/Region'] == country]\n",
    "    if start_date==None:\n",
    "        return country_df.iloc[0]\n",
    "    else: \n",
    "        return country_df.iloc[0].loc[start_date:]"
   ]
  },
  {
   "cell_type": "markdown",
   "metadata": {},
   "source": [
    "# Load solver"
   ]
  },
  {
   "cell_type": "code",
   "execution_count": 5,
   "metadata": {},
   "outputs": [],
   "source": [
    "%reload_ext autoreload\n",
    "%autoreload 2\n",
    "import LearnerICRayNoLoadBH_v3 as L "
   ]
  },
  {
   "cell_type": "markdown",
   "metadata": {},
   "source": [
    "# Data for Countries"
   ]
  },
  {
   "cell_type": "code",
   "execution_count": 6,
   "metadata": {},
   "outputs": [
    {
     "data": {
      "text/html": [
       "<div>\n",
       "<style scoped>\n",
       "    .dataframe tbody tr th:only-of-type {\n",
       "        vertical-align: middle;\n",
       "    }\n",
       "\n",
       "    .dataframe tbody tr th {\n",
       "        vertical-align: top;\n",
       "    }\n",
       "\n",
       "    .dataframe thead th {\n",
       "        text-align: right;\n",
       "    }\n",
       "</style>\n",
       "<table border=\"1\" class=\"dataframe\">\n",
       "  <thead>\n",
       "    <tr style=\"text-align: right;\">\n",
       "      <th></th>\n",
       "      <th>country</th>\n",
       "      <th>start-date</th>\n",
       "      <th>prediction-range</th>\n",
       "      <th>s0</th>\n",
       "      <th>e0</th>\n",
       "      <th>a0</th>\n",
       "      <th>i0</th>\n",
       "      <th>r0</th>\n",
       "      <th>d0</th>\n",
       "      <th>START</th>\n",
       "      <th>WCASES</th>\n",
       "      <th>WREC</th>\n",
       "      <th>WDTH</th>\n",
       "      <th>popTotal</th>\n",
       "    </tr>\n",
       "  </thead>\n",
       "  <tbody>\n",
       "    <tr>\n",
       "      <th>0</th>\n",
       "      <td>Brazil</td>\n",
       "      <td>3/2/20</td>\n",
       "      <td>200</td>\n",
       "      <td>2.125594e+08</td>\n",
       "      <td>0.0001</td>\n",
       "      <td>0.0001</td>\n",
       "      <td>200</td>\n",
       "      <td>100</td>\n",
       "      <td>50</td>\n",
       "      <td>50</td>\n",
       "      <td>0.15</td>\n",
       "      <td>0.05</td>\n",
       "      <td>0.8</td>\n",
       "      <td>2.125594e+08</td>\n",
       "    </tr>\n",
       "    <tr>\n",
       "      <th>1</th>\n",
       "      <td>China</td>\n",
       "      <td>1/28/20</td>\n",
       "      <td>200</td>\n",
       "      <td>1.439324e+09</td>\n",
       "      <td>0.0001</td>\n",
       "      <td>0.0001</td>\n",
       "      <td>200</td>\n",
       "      <td>100</td>\n",
       "      <td>50</td>\n",
       "      <td>50</td>\n",
       "      <td>0.15</td>\n",
       "      <td>0.05</td>\n",
       "      <td>0.8</td>\n",
       "      <td>1.439324e+09</td>\n",
       "    </tr>\n",
       "    <tr>\n",
       "      <th>2</th>\n",
       "      <td>Italy</td>\n",
       "      <td>2/28/20</td>\n",
       "      <td>200</td>\n",
       "      <td>6.046183e+07</td>\n",
       "      <td>0.0001</td>\n",
       "      <td>0.0001</td>\n",
       "      <td>200</td>\n",
       "      <td>100</td>\n",
       "      <td>50</td>\n",
       "      <td>50</td>\n",
       "      <td>0.15</td>\n",
       "      <td>0.05</td>\n",
       "      <td>0.8</td>\n",
       "      <td>6.046183e+07</td>\n",
       "    </tr>\n",
       "    <tr>\n",
       "      <th>3</th>\n",
       "      <td>US</td>\n",
       "      <td>2/20/20</td>\n",
       "      <td>200</td>\n",
       "      <td>3.310026e+08</td>\n",
       "      <td>0.0001</td>\n",
       "      <td>0.0001</td>\n",
       "      <td>200</td>\n",
       "      <td>100</td>\n",
       "      <td>50</td>\n",
       "      <td>50</td>\n",
       "      <td>0.15</td>\n",
       "      <td>0.05</td>\n",
       "      <td>0.8</td>\n",
       "      <td>3.310026e+08</td>\n",
       "    </tr>\n",
       "    <tr>\n",
       "      <th>4</th>\n",
       "      <td>India</td>\n",
       "      <td>3/10/20</td>\n",
       "      <td>200</td>\n",
       "      <td>1.380004e+09</td>\n",
       "      <td>0.0001</td>\n",
       "      <td>0.0001</td>\n",
       "      <td>200</td>\n",
       "      <td>100</td>\n",
       "      <td>50</td>\n",
       "      <td>50</td>\n",
       "      <td>0.15</td>\n",
       "      <td>0.05</td>\n",
       "      <td>0.8</td>\n",
       "      <td>1.380004e+09</td>\n",
       "    </tr>\n",
       "  </tbody>\n",
       "</table>\n",
       "</div>"
      ],
      "text/plain": [
       "  country start-date  prediction-range            s0      e0      a0   i0  \\\n",
       "0  Brazil     3/2/20               200  2.125594e+08  0.0001  0.0001  200   \n",
       "1   China    1/28/20               200  1.439324e+09  0.0001  0.0001  200   \n",
       "2   Italy    2/28/20               200  6.046183e+07  0.0001  0.0001  200   \n",
       "3      US    2/20/20               200  3.310026e+08  0.0001  0.0001  200   \n",
       "4   India    3/10/20               200  1.380004e+09  0.0001  0.0001  200   \n",
       "\n",
       "    r0  d0  START  WCASES  WREC  WDTH      popTotal  \n",
       "0  100  50     50    0.15  0.05   0.8  2.125594e+08  \n",
       "1  100  50     50    0.15  0.05   0.8  1.439324e+09  \n",
       "2  100  50     50    0.15  0.05   0.8  6.046183e+07  \n",
       "3  100  50     50    0.15  0.05   0.8  3.310026e+08  \n",
       "4  100  50     50    0.15  0.05   0.8  1.380004e+09  "
      ]
     },
     "metadata": {},
     "output_type": "display_data"
    }
   ],
   "source": [
    "dfparam = pd.read_csv(\"data/param.csv\")\n",
    "countries=dfparam.country\n",
    "popEst = pd.read_csv(\"data/WPP2019_TotalPopulationBySex.csv\")\n",
    "popEst['popTotal']=pd.to_numeric(popEst.PopTotal, errors='coerce')\n",
    "\n",
    "for country in countries:\n",
    "    if country==\"US\":\n",
    "        country2=\"United States of America\"    \n",
    "    else:\n",
    "        country2=country\n",
    "    dfparam.loc[dfparam.country==country,'popTotal']=popEst.loc[popEst.Location==country2].loc[popEst.Time==2020].iloc[0,8]*1000\n",
    "    dfparam.loc[dfparam.country==country,'s0']=popEst.loc[popEst.Location==country2].loc[popEst.Time==2020].iloc[0,8]*1000\n",
    "    \n",
    "display(dfparam)\n",
    "    "
   ]
  },
  {
   "cell_type": "markdown",
   "metadata": {},
   "source": [
    "# Functions for Optimization"
   ]
  },
  {
   "cell_type": "code",
   "execution_count": 7,
   "metadata": {},
   "outputs": [],
   "source": [
    "from scipy.integrate import odeint\n",
    "import sys\n",
    "import io\n",
    "import gc\n",
    "\n",
    "def create_f(country,e0,a0,date, predict_range, version):\n",
    "                \n",
    "    def fobjective(point):\n",
    "        \n",
    "        dead=  load_dead(country,date)\n",
    "        recovered = load_recovered(country,date)\n",
    "        data = load_confirmed(country,date)-recovered-dead\n",
    "        cleanRecovered=False\n",
    "        s0, deltaDate, i0, d0, r0, startNCases, weigthCases, weigthRecov, weightDeath = point\n",
    "        end_date=datetime.strptime(date, \"%m/%d/%y\") + timedelta(days=deltaDate)\n",
    "        f=L.Learner.remote(country, end_date.strftime(\"%m/%d/%y\"), predict_range,\\\n",
    "                           s0, e0, a0, i0, r0, d0, startNCases, weigthCases, weigthRecov, weightDeath, \\\n",
    "                           cleanRecovered, version, data, dead, recovered, savedata=False)\n",
    "        result = f.train.remote() \n",
    "        result = ray.get(result) \n",
    "\n",
    "        del end_date,cleanRecovered, data, dead, point,f         \n",
    "\n",
    "        gc.collect()\n",
    "\n",
    "        return result\n",
    "    return fobjective"
   ]
  },
  {
   "cell_type": "code",
   "execution_count": 8,
   "metadata": {},
   "outputs": [],
   "source": [
    "@ray.remote(memory=50 * 1024 * 1024, max_calls=1)\n",
    "def opt(country,s0,i0,e0,a0,r0,d0,wcases,wrec,wdeath,date,startNCases, \n",
    "        predict_range, version):\n",
    "\n",
    "    bounds=[(20e3,s0),(-2,2),(0,500), (0,500),(0,500),(0,500),\\\n",
    "              (0.15,1.0),(0.1,0.5),(0.1,0.5)]\n",
    "    maxiterations=500\n",
    "    f=create_f(country,e0,a0,date, predict_range, version)\n",
    "    de = DE(f, bounds, maxiters=maxiterations)\n",
    "    for step in de.geniterator():\n",
    "        try:\n",
    "            idx = step.best_idx\n",
    "            norm_vector = step.population[idx]\n",
    "            best_params = de.denormalize([norm_vector])\n",
    "            del norm_vector, idx\n",
    "        except:\n",
    "            print(\"error in function evaluation\")\n",
    "    p=best_params[0]\n",
    "    del f, bounds, data, dead,best_params\n",
    "    \n",
    "    return p"
   ]
  },
  {
   "cell_type": "markdown",
   "metadata": {},
   "source": [
    "# Main Code"
   ]
  },
  {
   "cell_type": "code",
   "execution_count": 9,
   "metadata": {},
   "outputs": [
    {
     "data": {
      "application/javascript": [
       "IPython.OutputArea.prototype._should_scroll = function(lines){\n",
       "    return true;}\n"
      ],
      "text/plain": [
       "<IPython.core.display.Javascript object>"
      ]
     },
     "metadata": {},
     "output_type": "display_data"
    }
   ],
   "source": [
    "%%javascript\n",
    "IPython.OutputArea.prototype._should_scroll = function(lines){\n",
    "    return true;}"
   ]
  },
  {
   "cell_type": "code",
   "execution_count": 10,
   "metadata": {
    "tags": []
   },
   "outputs": [
    {
     "data": {
      "text/plain": [
       "0    Brazil\n",
       "1     China\n",
       "2     Italy\n",
       "3        US\n",
       "4     India\n",
       "Name: country, dtype: object"
      ]
     },
     "metadata": {},
     "output_type": "display_data"
    }
   ],
   "source": [
    "countries=dfparam.country\n",
    "display(countries)\n",
    "allCountries=True\n",
    "version=\"010\"\n",
    "gc.enable()\n",
    "\n",
    "optimal=[]\n",
    "if allCountries:\n",
    "    for country in countries:\n",
    "        #remove previous history file\n",
    "        strFile='./results/history_'+country+version+'.csv'\n",
    "        if os.path.isfile(strFile):\n",
    "            os.remove(strFile)\n",
    "        query = dfparam.query('country == \"{}\"'.format(country)).reset_index()\n",
    "        parameters = np.array(query.iloc[:, 2:])[0]\n",
    "        date,predict_range,s0,e0,a0,i0,r0,d0,startNCases,wcases,wrec,wdth, pop = parameters\n",
    "        optimal.append(opt.remote(country,s0,i0,e0,a0,r0,d0,wcases,wrec,wdth,date,startNCases, \n",
    "                                            predict_range, version))        \n",
    "else:\n",
    "    country = \"Brazil\" \n",
    "    #remove previous history file\n",
    "    strFile='./results/history_'+country+version+'.csv'\n",
    "    if os.path.isfile(strFile):\n",
    "        os.remove(strFile)\n",
    "    query = dfparam.query('country == \"{}\"'.format(country)).reset_index()\n",
    "    parameters = np.array(query.iloc[:, 2:])[0]\n",
    "    date,predict_range,s0,e0,a0,i0,r0,d0,startNCases,wcases,wrec,wdth, pop = parameters\n",
    "    optimal.append(opt.remote(country,s0,i0,e0,a0,r0,d0,wcases,wrec,wdth,date,startNCases, \n",
    "                                        predict_range, version))            "
   ]
  },
  {
   "cell_type": "code",
   "execution_count": null,
   "metadata": {
    "tags": [
     "outputPrepend"
    ]
   },
   "outputs": [
    {
     "name": "stderr",
     "output_type": "stream",
     "text": [
      "2020-10-22 10:29:05,320\tWARNING worker.py:1090 -- WARNING: 3 PYTHON workers have been started. This could be a result of using a large number of actors, or it could be a consequence of using nested tasks (see https://github.com/ray-project/ray/issues/3644) for some a discussion of workarounds.\n",
      "2020-10-22 10:29:06,292\tWARNING worker.py:1090 -- WARNING: 4 PYTHON workers have been started. This could be a result of using a large number of actors, or it could be a consequence of using nested tasks (see https://github.com/ray-project/ray/issues/3644) for some a discussion of workarounds.\n",
      "2020-10-22 10:29:06,689\tWARNING worker.py:1090 -- WARNING: 5 PYTHON workers have been started. This could be a result of using a large number of actors, or it could be a consequence of using nested tasks (see https://github.com/ray-project/ray/issues/3644) for some a discussion of workarounds.\n",
      "2020-10-22 10:29:07,686\tWARNING worker.py:1090 -- WARNING: 6 PYTHON workers have been started. This could be a result of using a large number of actors, or it could be a consequence of using nested tasks (see https://github.com/ray-project/ray/issues/3644) for some a discussion of workarounds.\n",
      "2020-10-22 10:29:08,113\tWARNING worker.py:1090 -- WARNING: 7 PYTHON workers have been started. This could be a result of using a large number of actors, or it could be a consequence of using nested tasks (see https://github.com/ray-project/ray/issues/3644) for some a discussion of workarounds.\n",
      "2020-10-22 10:29:09,079\tWARNING worker.py:1090 -- WARNING: 8 PYTHON workers have been started. This could be a result of using a large number of actors, or it could be a consequence of using nested tasks (see https://github.com/ray-project/ray/issues/3644) for some a discussion of workarounds.\n",
      "2020-10-22 10:29:09,527\tWARNING worker.py:1090 -- WARNING: 9 PYTHON workers have been started. This could be a result of using a large number of actors, or it could be a consequence of using nested tasks (see https://github.com/ray-project/ray/issues/3644) for some a discussion of workarounds.\n",
      "2020-10-22 10:29:10,524\tWARNING worker.py:1090 -- WARNING: 10 PYTHON workers have been started. This could be a result of using a large number of actors, or it could be a consequence of using nested tasks (see https://github.com/ray-project/ray/issues/3644) for some a discussion of workarounds.\n"
     ]
    },
    {
     "name": "stdout",
     "output_type": "stream",
     "text": [
      "\u001b[2m\u001b[36m(pid=2853)\u001b[0m warning: basinhopping: local minimization failure\n",
      "\u001b[2m\u001b[36m(pid=2853)\u001b[0m basinhopping step 0: f 1.9741e+09\n",
      "\u001b[2m\u001b[36m(pid=2912)\u001b[0m basinhopping step 0: f 2.26905e+11\n",
      "\u001b[2m\u001b[36m(pid=2886)\u001b[0m warning: basinhopping: local minimization failure\n",
      "\u001b[2m\u001b[36m(pid=2886)\u001b[0m basinhopping step 0: f 3.00784e+09\n",
      "\u001b[2m\u001b[36m(pid=2827)\u001b[0m basinhopping step 0: f 1.09482e+12\n",
      "\u001b[2m\u001b[36m(pid=2853)\u001b[0m basinhopping step 1: f 1.9741e+09 trial_f 2.14377e+16 accepted 0  lowest_f 1.9741e+09\n",
      "\u001b[2m\u001b[36m(pid=2938)\u001b[0m warning: basinhopping: local minimization failure\n",
      "\u001b[2m\u001b[36m(pid=2938)\u001b[0m basinhopping step 0: f 6.12663e+11\n",
      "\u001b[2m\u001b[36m(pid=2938)\u001b[0m basinhopping step 1: f 6.12663e+11 trial_f 1.40827e+15 accepted 0  lowest_f 6.12663e+11\n",
      "\u001b[2m\u001b[36m(pid=2827)\u001b[0m basinhopping step 1: f 1.09482e+12 trial_f 4.28778e+14 accepted 0  lowest_f 1.09482e+12\n",
      "\u001b[2m\u001b[36m(pid=2886)\u001b[0m basinhopping step 1: f 3.00784e+09 trial_f 3.99961e+11 accepted 0  lowest_f 3.00784e+09\n",
      "\u001b[2m\u001b[36m(pid=2938)\u001b[0m basinhopping step 2: f 6.12663e+11 trial_f 9.70373e+11 accepted 0  lowest_f 6.12663e+11\n",
      "\u001b[2m\u001b[36m(pid=2912)\u001b[0m basinhopping step 1: f 2.26905e+11 trial_f 4.57859e+14 accepted 0  lowest_f 2.26905e+11\n",
      "\u001b[2m\u001b[36m(pid=2853)\u001b[0m basinhopping step 2: f 1.9741e+09 trial_f 2.17101e+09 accepted 0  lowest_f 1.9741e+09\n",
      "\u001b[2m\u001b[36m(pid=2827)\u001b[0m basinhopping step 2: f 1.09482e+12 trial_f 6.3877e+13 accepted 0  lowest_f 1.09482e+12\n",
      "\u001b[2m\u001b[36m(pid=2853)\u001b[0m basinhopping step 3: f 1.9741e+09 trial_f 2.17612e+09 accepted 0  lowest_f 1.9741e+09\n",
      "\u001b[2m\u001b[36m(pid=2912)\u001b[0m warning: basinhopping: local minimization failure\n",
      "\u001b[2m\u001b[36m(pid=2912)\u001b[0m basinhopping step 2: f 2.26905e+11 trial_f 5.31804e+11 accepted 0  lowest_f 2.26905e+11\n",
      "\u001b[2m\u001b[36m(pid=2827)\u001b[0m warning: basinhopping: local minimization failure\n",
      "\u001b[2m\u001b[36m(pid=2827)\u001b[0m basinhopping step 3: f 1.09482e+12 trial_f 2.59086e+12 accepted 0  lowest_f 1.09482e+12\n",
      "\u001b[2m\u001b[36m(pid=2853)\u001b[0m basinhopping step 4: f 1.9741e+09 trial_f 2.17152e+09 accepted 0  lowest_f 1.9741e+09\n",
      "\u001b[2m\u001b[36m(pid=2827)\u001b[0m warning: basinhopping: local minimization failure\n",
      "\u001b[2m\u001b[36m(pid=2827)\u001b[0m basinhopping step 4: f 1.09482e+12 trial_f 1.82862e+12 accepted 0  lowest_f 1.09482e+12\n",
      "\u001b[2m\u001b[36m(pid=2938)\u001b[0m warning: basinhopping: local minimization failure\n",
      "\u001b[2m\u001b[36m(pid=2938)\u001b[0m basinhopping step 3: f 6.12663e+11 trial_f 1.42692e+12 accepted 0  lowest_f 6.12663e+11\n",
      "\u001b[2m\u001b[36m(pid=2912)\u001b[0m basinhopping step 3: f 1.02549e+11 trial_f 1.02549e+11 accepted 1  lowest_f 1.02549e+11\n",
      "\u001b[2m\u001b[36m(pid=2912)\u001b[0m found new global minimum on step 3 with function value 1.02549e+11\n",
      "\u001b[2m\u001b[36m(pid=2938)\u001b[0m warning: basinhopping: local minimization failure\n",
      "\u001b[2m\u001b[36m(pid=2938)\u001b[0m basinhopping step 4: f 6.12663e+11 trial_f 6.12663e+11 accepted 1  lowest_f 6.12663e+11\n",
      "\u001b[2m\u001b[36m(pid=2853)\u001b[0m basinhopping step 5: f 1.9741e+09 trial_f 2.17101e+09 accepted 0  lowest_f 1.9741e+09\n",
      "\u001b[2m\u001b[36m(pid=2938)\u001b[0m warning: basinhopping: local minimization failure\n",
      "\u001b[2m\u001b[36m(pid=2938)\u001b[0m basinhopping step 5: f 6.12663e+11 trial_f 1.42879e+12 accepted 0  lowest_f 6.12663e+11\n",
      "\u001b[2m\u001b[36m(pid=2827)\u001b[0m basinhopping step 5: f 1.09482e+12 trial_f 6.54146e+14 accepted 0  lowest_f 1.09482e+12\n",
      "\u001b[2m\u001b[36m(pid=2886)\u001b[0m warning: basinhopping: local minimization failure\n",
      "\u001b[2m\u001b[36m(pid=2886)\u001b[0m basinhopping step 2: f 3.00784e+09 trial_f 7.00479e+10 accepted 0  lowest_f 3.00784e+09\n",
      "\u001b[2m\u001b[36m(pid=2853)\u001b[0m basinhopping step 6: f 1.9741e+09 trial_f 1.82672e+16 accepted 0  lowest_f 1.9741e+09\n",
      "\u001b[2m\u001b[36m(pid=2912)\u001b[0m warning: basinhopping: local minimization failure\n",
      "\u001b[2m\u001b[36m(pid=2912)\u001b[0m basinhopping step 4: f 1.02549e+11 trial_f 5.31781e+11 accepted 0  lowest_f 1.02549e+11\n",
      "\u001b[2m\u001b[36m(pid=2886)\u001b[0m basinhopping step 3: f 3.00784e+09 trial_f 9.95921e+11 accepted 0  lowest_f 3.00784e+09\n",
      "\u001b[2m\u001b[36m(pid=2853)\u001b[0m basinhopping step 7: f 1.9741e+09 trial_f 2.17038e+09 accepted 0  lowest_f 1.9741e+09\n",
      "\u001b[2m\u001b[36m(pid=2912)\u001b[0m basinhopping step 5: f 1.02549e+11 trial_f 1.76983e+14 accepted 0  lowest_f 1.02549e+11\n",
      "\u001b[2m\u001b[36m(pid=2886)\u001b[0m basinhopping step 4: f 3.00784e+09 trial_f 7.00529e+10 accepted 0  lowest_f 3.00784e+09\n",
      "\u001b[2m\u001b[36m(pid=2827)\u001b[0m basinhopping step 6: f 1.09482e+12 trial_f 6.17621e+13 accepted 0  lowest_f 1.09482e+12\n",
      "\u001b[2m\u001b[36m(pid=2912)\u001b[0m warning: basinhopping: local minimization failure\n",
      "\u001b[2m\u001b[36m(pid=2912)\u001b[0m basinhopping step 6: f 1.02549e+11 trial_f 3.52417e+11 accepted 0  lowest_f 1.02549e+11\n",
      "\u001b[2m\u001b[36m(pid=2827)\u001b[0m basinhopping step 7: f 1.09482e+12 trial_f 2.99176e+13 accepted 0  lowest_f 1.09482e+12\n",
      "\u001b[2m\u001b[36m(pid=2886)\u001b[0m basinhopping step 5: f 3.00784e+09 trial_f 5.44832e+11 accepted 0  lowest_f 3.00784e+09\n",
      "\u001b[2m\u001b[36m(pid=2938)\u001b[0m warning: basinhopping: local minimization failure\n",
      "\u001b[2m\u001b[36m(pid=2938)\u001b[0m basinhopping step 6: f 6.12663e+11 trial_f 2.51779e+12 accepted 0  lowest_f 6.12663e+11\n",
      "\u001b[2m\u001b[36m(pid=2912)\u001b[0m warning: basinhopping: local minimization failure\n",
      "\u001b[2m\u001b[36m(pid=2912)\u001b[0m basinhopping step 7: f 1.02549e+11 trial_f 5.14565e+11 accepted 0  lowest_f 1.02549e+11\n",
      "\u001b[2m\u001b[36m(pid=2853)\u001b[0m basinhopping step 8: f 1.9741e+09 trial_f 1.82956e+16 accepted 0  lowest_f 1.9741e+09\n",
      "\u001b[2m\u001b[36m(pid=2853)\u001b[0m basinhopping step 9: f 1.9741e+09 trial_f 2.17101e+09 accepted 0  lowest_f 1.9741e+09\n",
      "\u001b[2m\u001b[36m(pid=2886)\u001b[0m basinhopping step 6: f 3.00784e+09 trial_f 7.00528e+10 accepted 0  lowest_f 3.00784e+09\n",
      "\u001b[2m\u001b[36m(pid=2938)\u001b[0m warning: basinhopping: local minimization failure\n",
      "\u001b[2m\u001b[36m(pid=2938)\u001b[0m basinhopping step 7: f 6.12663e+11 trial_f 1.43194e+12 accepted 0  lowest_f 6.12663e+11\n",
      "\u001b[2m\u001b[36m(pid=2912)\u001b[0m basinhopping step 8: f 1.02549e+11 trial_f 3.92652e+13 accepted 0  lowest_f 1.02549e+11\n",
      "\u001b[2m\u001b[36m(pid=2938)\u001b[0m warning: basinhopping: local minimization failure\n",
      "\u001b[2m\u001b[36m(pid=2938)\u001b[0m basinhopping step 8: f 6.12663e+11 trial_f 1.431e+12 accepted 0  lowest_f 6.12663e+11\n",
      "\u001b[2m\u001b[36m(pid=2886)\u001b[0m basinhopping step 7: f 2.64355e+09 trial_f 2.64355e+09 accepted 1  lowest_f 2.64355e+09\n",
      "\u001b[2m\u001b[36m(pid=2886)\u001b[0m found new global minimum on step 7 with function value 2.64355e+09\n",
      "\u001b[2m\u001b[36m(pid=2912)\u001b[0m basinhopping step 9: f 1.02549e+11 trial_f 6.96643e+12 accepted 0  lowest_f 1.02549e+11\n",
      "\u001b[2m\u001b[36m(pid=2827)\u001b[0m warning: basinhopping: local minimization failure\n",
      "\u001b[2m\u001b[36m(pid=2827)\u001b[0m basinhopping step 8: f 8.05757e+11 trial_f 8.05757e+11 accepted 1  lowest_f 8.05757e+11\n",
      "\u001b[2m\u001b[36m(pid=2827)\u001b[0m found new global minimum on step 8 with function value 8.05757e+11\n",
      "\u001b[2m\u001b[36m(pid=2912)\u001b[0m basinhopping step 10: f 1.02549e+11 trial_f 2.84092e+14 accepted 0  lowest_f 1.02549e+11\n",
      "\u001b[2m\u001b[36m(pid=2938)\u001b[0m basinhopping step 9: f 1.90157e+11 trial_f 1.90157e+11 accepted 1  lowest_f 1.90157e+11\n",
      "\u001b[2m\u001b[36m(pid=2938)\u001b[0m found new global minimum on step 9 with function value 1.90157e+11\n",
      "\u001b[2m\u001b[36m(pid=2912)\u001b[0m basinhopping step 0: f 9.4521e+10\n",
      "\u001b[2m\u001b[36m(pid=2912)\u001b[0m basinhopping step 1: f 9.4521e+10 trial_f 1.05303e+11 accepted 0  lowest_f 9.4521e+10\n",
      "\u001b[2m\u001b[36m(pid=2912)\u001b[0m basinhopping step 2: f 9.4521e+10 trial_f 9.55271e+10 accepted 0  lowest_f 9.4521e+10\n"
     ]
    },
    {
     "name": "stderr",
     "output_type": "stream",
     "text": [
      "2020-10-22 10:31:13,720\tWARNING worker.py:1090 -- WARNING: 10 PYTHON workers have been started. This could be a result of using a large number of actors, or it could be a consequence of using nested tasks (see https://github.com/ray-project/ray/issues/3644) for some a discussion of workarounds.\n"
     ]
    },
    {
     "name": "stdout",
     "output_type": "stream",
     "text": [
      "\u001b[2m\u001b[36m(pid=2886)\u001b[0m basinhopping step 8: f 2.64355e+09 trial_f 2.69862e+09 accepted 0  lowest_f 2.64355e+09\n",
      "\u001b[2m\u001b[36m(pid=2827)\u001b[0m basinhopping step 9: f 8.05757e+11 trial_f 6.1503e+14 accepted 0  lowest_f 8.05757e+11\n",
      "\u001b[2m\u001b[36m(pid=2938)\u001b[0m basinhopping step 10: f 1.90157e+11 trial_f 8.89365e+15 accepted 0  lowest_f 1.90157e+11\n",
      "\u001b[2m\u001b[36m(pid=2938)\u001b[0m basinhopping step 0: f 1.81075e+11\n",
      "\u001b[2m\u001b[36m(pid=3288)\u001b[0m basinhopping step 0: f 1.08543e+11\n",
      "\u001b[2m\u001b[36m(pid=2938)\u001b[0m basinhopping step 1: f 1.75544e+11 trial_f 1.75544e+11 accepted 1  lowest_f 1.75544e+11\n",
      "\u001b[2m\u001b[36m(pid=2938)\u001b[0m found new global minimum on step 1 with function value 1.75544e+11\n",
      "\u001b[2m\u001b[36m(pid=2938)\u001b[0m basinhopping step 2: f 1.75544e+11 trial_f 1.9606e+11 accepted 0  lowest_f 1.75544e+11\n",
      "\u001b[2m\u001b[36m(pid=2853)\u001b[0m warning: basinhopping: local minimization failure\n",
      "\u001b[2m\u001b[36m(pid=2853)\u001b[0m basinhopping step 10: f 1.9741e+09 trial_f 2.1654e+09 accepted 0  lowest_f 1.9741e+09\n",
      "\u001b[2m\u001b[36m(pid=2853)\u001b[0m basinhopping step 0: f 2.13938e+09\n"
     ]
    },
    {
     "name": "stderr",
     "output_type": "stream",
     "text": [
      "2020-10-22 10:31:22,002\tWARNING worker.py:1090 -- WARNING: 10 PYTHON workers have been started. This could be a result of using a large number of actors, or it could be a consequence of using nested tasks (see https://github.com/ray-project/ray/issues/3644) for some a discussion of workarounds.\n"
     ]
    },
    {
     "name": "stdout",
     "output_type": "stream",
     "text": [
      "\u001b[2m\u001b[36m(pid=2853)\u001b[0m basinhopping step 1: f 2.13938e+09 trial_f 2.13938e+09 accepted 1  lowest_f 2.13938e+09\n",
      "\u001b[2m\u001b[36m(pid=2853)\u001b[0m basinhopping step 2: f 2.13938e+09 trial_f 2.13938e+09 accepted 1  lowest_f 2.13938e+09\n"
     ]
    },
    {
     "name": "stderr",
     "output_type": "stream",
     "text": [
      "2020-10-22 10:31:22,640\tWARNING worker.py:1090 -- WARNING: 10 PYTHON workers have been started. This could be a result of using a large number of actors, or it could be a consequence of using nested tasks (see https://github.com/ray-project/ray/issues/3644) for some a discussion of workarounds.\n"
     ]
    },
    {
     "name": "stdout",
     "output_type": "stream",
     "text": [
      "\u001b[2m\u001b[36m(pid=3312)\u001b[0m basinhopping step 0: f 9.02523e+14\n",
      "\u001b[2m\u001b[36m(pid=3288)\u001b[0m basinhopping step 1: f 1.08543e+11 trial_f 1.58704e+11 accepted 0  lowest_f 1.08543e+11\n",
      "\u001b[2m\u001b[36m(pid=2827)\u001b[0m basinhopping step 10: f 8.05757e+11 trial_f 1.73855e+14 accepted 0  lowest_f 8.05757e+11\n",
      "\u001b[2m\u001b[36m(pid=2827)\u001b[0m basinhopping step 0: f 7.98437e+11\n",
      "\u001b[2m\u001b[36m(pid=3301)\u001b[0m basinhopping step 0: f 9.07962e+14\n",
      "\u001b[2m\u001b[36m(pid=2827)\u001b[0m basinhopping step 1: f 7.97796e+11 trial_f 7.97796e+11 accepted 1  lowest_f 7.97796e+11\n",
      "\u001b[2m\u001b[36m(pid=2827)\u001b[0m found new global minimum on step 1 with function value 7.97796e+11\n",
      "\u001b[2m\u001b[36m(pid=3312)\u001b[0m basinhopping step 1: f 9.02523e+14 trial_f 1.27527e+16 accepted 0  lowest_f 9.02523e+14\n",
      "\u001b[2m\u001b[36m(pid=3301)\u001b[0m basinhopping step 1: f 2.97545e+12 trial_f 2.97545e+12 accepted 1  lowest_f 2.97545e+12\n",
      "\u001b[2m\u001b[36m(pid=3301)\u001b[0m found new global minimum on step 1 with function value 2.97545e+12\n",
      "\u001b[2m\u001b[36m(pid=2827)\u001b[0m basinhopping step 2: f 7.97796e+11 trial_f 7.98578e+11 accepted 0  lowest_f 7.97796e+11\n"
     ]
    },
    {
     "name": "stderr",
     "output_type": "stream",
     "text": [
      "2020-10-22 10:31:31,557\tWARNING worker.py:1090 -- WARNING: 10 PYTHON workers have been started. This could be a result of using a large number of actors, or it could be a consequence of using nested tasks (see https://github.com/ray-project/ray/issues/3644) for some a discussion of workarounds.\n"
     ]
    },
    {
     "name": "stdout",
     "output_type": "stream",
     "text": [
      "\u001b[2m\u001b[36m(pid=3301)\u001b[0m warning: basinhopping: local minimization failure\n",
      "\u001b[2m\u001b[36m(pid=3301)\u001b[0m basinhopping step 2: f 2.97545e+12 trial_f 2.97585e+12 accepted 0  lowest_f 2.97545e+12\n",
      "\u001b[2m\u001b[36m(pid=3288)\u001b[0m basinhopping step 2: f 8.27873e+10 trial_f 8.27873e+10 accepted 1  lowest_f 8.27873e+10\n",
      "\u001b[2m\u001b[36m(pid=3288)\u001b[0m found new global minimum on step 2 with function value 8.27873e+10\n",
      "\u001b[2m\u001b[36m(pid=3341)\u001b[0m basinhopping step 0: f 4.85483e+11\n",
      "\u001b[2m\u001b[36m(pid=3312)\u001b[0m basinhopping step 2: f 1.12097e+09 trial_f 1.12097e+09 accepted 1  lowest_f 1.12097e+09\n",
      "\u001b[2m\u001b[36m(pid=3312)\u001b[0m found new global minimum on step 2 with function value 1.12097e+09\n",
      "\u001b[2m\u001b[36m(pid=3341)\u001b[0m basinhopping step 1: f 4.85483e+11 trial_f 9.62406e+14 accepted 0  lowest_f 4.85483e+11\n",
      "\u001b[2m\u001b[36m(pid=2886)\u001b[0m basinhopping step 9: f 2.64355e+09 trial_f 3.92804e+09 accepted 0  lowest_f 2.64355e+09\n",
      "\u001b[2m\u001b[36m(pid=3288)\u001b[0m basinhopping step 3: f 8.27873e+10 trial_f 8.55273e+13 accepted 0  lowest_f 8.27873e+10\n",
      "\u001b[2m\u001b[36m(pid=3312)\u001b[0m basinhopping step 3: f 1.12097e+09 trial_f 1.06263e+16 accepted 0  lowest_f 1.12097e+09\n",
      "\u001b[2m\u001b[36m(pid=3301)\u001b[0m basinhopping step 3: f 4.80905e+11 trial_f 4.80905e+11 accepted 1  lowest_f 4.80905e+11\n",
      "\u001b[2m\u001b[36m(pid=3301)\u001b[0m found new global minimum on step 3 with function value 4.80905e+11\n",
      "\u001b[2m\u001b[36m(pid=3341)\u001b[0m basinhopping step 2: f 4.85483e+11 trial_f 4.41032e+14 accepted 0  lowest_f 4.85483e+11\n",
      "\u001b[2m\u001b[36m(pid=2886)\u001b[0m basinhopping step 10: f 2.64355e+09 trial_f 1.0025e+12 accepted 0  lowest_f 2.64355e+09\n",
      "\u001b[2m\u001b[36m(pid=3312)\u001b[0m warning: basinhopping: local minimization failure\n",
      "\u001b[2m\u001b[36m(pid=3312)\u001b[0m basinhopping step 4: f 1.11984e+09 trial_f 1.11984e+09 accepted 1  lowest_f 1.11984e+09\n",
      "\u001b[2m\u001b[36m(pid=3312)\u001b[0m found new global minimum on step 4 with function value 1.11984e+09\n",
      "\u001b[2m\u001b[36m(pid=2886)\u001b[0m basinhopping step 0: f 2.63048e+09\n",
      "\u001b[2m\u001b[36m(pid=2886)\u001b[0m basinhopping step 1: f 2.63048e+09 trial_f 2.63727e+09 accepted 0  lowest_f 2.63048e+09\n",
      "\u001b[2m\u001b[36m(pid=3301)\u001b[0m basinhopping step 4: f 4.80905e+11 trial_f 1.53423e+15 accepted 0  lowest_f 4.80905e+11\n",
      "\u001b[2m\u001b[36m(pid=3288)\u001b[0m warning: basinhopping: local minimization failure\n",
      "\u001b[2m\u001b[36m(pid=3288)\u001b[0m basinhopping step 4: f 8.27873e+10 trial_f 3.37032e+11 accepted 0  lowest_f 8.27873e+10\n",
      "\u001b[2m\u001b[36m(pid=2886)\u001b[0m basinhopping step 2: f 2.62984e+09 trial_f 2.62984e+09 accepted 1  lowest_f 2.62984e+09\n",
      "\u001b[2m\u001b[36m(pid=2886)\u001b[0m found new global minimum on step 2 with function value 2.62984e+09\n"
     ]
    },
    {
     "name": "stderr",
     "output_type": "stream",
     "text": [
      "2020-10-22 10:32:05,002\tWARNING worker.py:1090 -- WARNING: 10 PYTHON workers have been started. This could be a result of using a large number of actors, or it could be a consequence of using nested tasks (see https://github.com/ray-project/ray/issues/3644) for some a discussion of workarounds.\n"
     ]
    },
    {
     "name": "stdout",
     "output_type": "stream",
     "text": [
      "\u001b[2m\u001b[36m(pid=3288)\u001b[0m warning: basinhopping: local minimization failure\n",
      "\u001b[2m\u001b[36m(pid=3288)\u001b[0m basinhopping step 5: f 8.27873e+10 trial_f 4.23233e+11 accepted 0  lowest_f 8.27873e+10\n",
      "\u001b[2m\u001b[36m(pid=3341)\u001b[0m basinhopping step 3: f 4.85483e+11 trial_f 2.75546e+13 accepted 0  lowest_f 4.85483e+11\n",
      "\u001b[2m\u001b[36m(pid=3369)\u001b[0m basinhopping step 0: f 9.67634e+09\n",
      "\u001b[2m\u001b[36m(pid=3301)\u001b[0m basinhopping step 5: f 4.80905e+11 trial_f 1.37254e+16 accepted 0  lowest_f 4.80905e+11\n",
      "\u001b[2m\u001b[36m(pid=3341)\u001b[0m basinhopping step 4: f 4.85483e+11 trial_f 4.57369e+14 accepted 0  lowest_f 4.85483e+11\n",
      "\u001b[2m\u001b[36m(pid=3312)\u001b[0m basinhopping step 5: f 1.11984e+09 trial_f 1.12097e+09 accepted 0  lowest_f 1.11984e+09\n",
      "\u001b[2m\u001b[36m(pid=3369)\u001b[0m basinhopping step 1: f 9.67634e+09 trial_f 1.07174e+10 accepted 0  lowest_f 9.67634e+09\n",
      "\u001b[2m\u001b[36m(pid=3369)\u001b[0m basinhopping step 2: f 9.67634e+09 trial_f 4.01075e+13 accepted 0  lowest_f 9.67634e+09\n",
      "\u001b[2m\u001b[36m(pid=3369)\u001b[0m basinhopping step 3: f 9.67634e+09 trial_f 1.04193e+10 accepted 0  lowest_f 9.67634e+09\n",
      "\u001b[2m\u001b[36m(pid=3312)\u001b[0m basinhopping step 6: f 1.11984e+09 trial_f 3.2354e+14 accepted 0  lowest_f 1.11984e+09\n",
      "\u001b[2m\u001b[36m(pid=3312)\u001b[0m basinhopping step 7: f 1.11849e+09 trial_f 1.11849e+09 accepted 1  lowest_f 1.11849e+09\n",
      "\u001b[2m\u001b[36m(pid=3312)\u001b[0m found new global minimum on step 7 with function value 1.11849e+09\n",
      "\u001b[2m\u001b[36m(pid=3288)\u001b[0m basinhopping step 6: f 8.27873e+10 trial_f 9.11857e+10 accepted 0  lowest_f 8.27873e+10\n",
      "\u001b[2m\u001b[36m(pid=3288)\u001b[0m basinhopping step 7: f 8.27873e+10 trial_f 1.83511e+11 accepted 0  lowest_f 8.27873e+10\n",
      "\u001b[2m\u001b[36m(pid=3312)\u001b[0m basinhopping step 8: f 1.11849e+09 trial_f 1.12253e+09 accepted 0  lowest_f 1.11849e+09\n",
      "\u001b[2m\u001b[36m(pid=3301)\u001b[0m basinhopping step 6: f 4.80905e+11 trial_f 2.97545e+12 accepted 0  lowest_f 4.80905e+11\n",
      "\u001b[2m\u001b[36m(pid=3369)\u001b[0m basinhopping step 4: f 9.67634e+09 trial_f 5.37154e+13 accepted 0  lowest_f 9.67634e+09\n",
      "\u001b[2m\u001b[36m(pid=3288)\u001b[0m basinhopping step 8: f 8.27873e+10 trial_f 9.29802e+13 accepted 0  lowest_f 8.27873e+10\n",
      "\u001b[2m\u001b[36m(pid=3301)\u001b[0m basinhopping step 7: f 4.80905e+11 trial_f 2.97545e+12 accepted 0  lowest_f 4.80905e+11\n",
      "\u001b[2m\u001b[36m(pid=3369)\u001b[0m basinhopping step 5: f 9.67634e+09 trial_f 6.23914e+12 accepted 0  lowest_f 9.67634e+09\n",
      "\u001b[2m\u001b[36m(pid=3312)\u001b[0m basinhopping step 9: f 1.11849e+09 trial_f 3.09931e+15 accepted 0  lowest_f 1.11849e+09\n",
      "\u001b[2m\u001b[36m(pid=3341)\u001b[0m warning: basinhopping: local minimization failure\n",
      "\u001b[2m\u001b[36m(pid=3341)\u001b[0m basinhopping step 5: f 6.52014e+10 trial_f 6.52014e+10 accepted 1  lowest_f 6.52014e+10\n",
      "\u001b[2m\u001b[36m(pid=3341)\u001b[0m found new global minimum on step 5 with function value 6.52014e+10\n",
      "\u001b[2m\u001b[36m(pid=3301)\u001b[0m basinhopping step 8: f 4.80905e+11 trial_f 2.97545e+12 accepted 0  lowest_f 4.80905e+11\n",
      "\u001b[2m\u001b[36m(pid=3288)\u001b[0m basinhopping step 9: f 8.27873e+10 trial_f 1.73985e+11 accepted 0  lowest_f 8.27873e+10\n",
      "\u001b[2m\u001b[36m(pid=3301)\u001b[0m basinhopping step 9: f 4.80905e+11 trial_f 1.54539e+15 accepted 0  lowest_f 4.80905e+11\n",
      "\u001b[2m\u001b[36m(pid=3288)\u001b[0m warning: basinhopping: local minimization failure\n",
      "\u001b[2m\u001b[36m(pid=3288)\u001b[0m basinhopping step 10: f 8.27873e+10 trial_f 1.76677e+14 accepted 0  lowest_f 8.27873e+10\n",
      "\u001b[2m\u001b[36m(pid=3288)\u001b[0m basinhopping step 0: f 8.22915e+10\n",
      "\u001b[2m\u001b[36m(pid=3288)\u001b[0m basinhopping step 1: f 8.22915e+10 trial_f 8.25745e+10 accepted 0  lowest_f 8.22915e+10\n",
      "\u001b[2m\u001b[36m(pid=3341)\u001b[0m basinhopping step 6: f 6.52014e+10 trial_f 2.75755e+13 accepted 0  lowest_f 6.52014e+10\n",
      "\u001b[2m\u001b[36m(pid=3288)\u001b[0m basinhopping step 2: f 8.22915e+10 trial_f 8.24692e+10 accepted 0  lowest_f 8.22915e+10\n"
     ]
    },
    {
     "name": "stderr",
     "output_type": "stream",
     "text": [
      "2020-10-22 10:33:23,605\tWARNING worker.py:1090 -- WARNING: 10 PYTHON workers have been started. This could be a result of using a large number of actors, or it could be a consequence of using nested tasks (see https://github.com/ray-project/ray/issues/3644) for some a discussion of workarounds.\n"
     ]
    },
    {
     "name": "stdout",
     "output_type": "stream",
     "text": [
      "\u001b[2m\u001b[36m(pid=3312)\u001b[0m basinhopping step 10: f 1.11849e+09 trial_f 1.12097e+09 accepted 0  lowest_f 1.11849e+09\n",
      "\u001b[2m\u001b[36m(pid=3369)\u001b[0m basinhopping step 6: f 9.67634e+09 trial_f 9.69228e+09 accepted 0  lowest_f 9.67634e+09\n",
      "\u001b[2m\u001b[36m(pid=3312)\u001b[0m basinhopping step 0: f 1.10512e+09\n",
      "\u001b[2m\u001b[36m(pid=3312)\u001b[0m basinhopping step 1: f 1.10512e+09 trial_f 1.10512e+09 accepted 1  lowest_f 1.10512e+09\n",
      "\u001b[2m\u001b[36m(pid=3312)\u001b[0m basinhopping step 2: f 1.10512e+09 trial_f 1.10512e+09 accepted 1  lowest_f 1.10512e+09\n"
     ]
    },
    {
     "name": "stderr",
     "output_type": "stream",
     "text": [
      "2020-10-22 10:33:28,223\tWARNING worker.py:1090 -- WARNING: 10 PYTHON workers have been started. This could be a result of using a large number of actors, or it could be a consequence of using nested tasks (see https://github.com/ray-project/ray/issues/3644) for some a discussion of workarounds.\n"
     ]
    },
    {
     "name": "stdout",
     "output_type": "stream",
     "text": [
      "\u001b[2m\u001b[36m(pid=3470)\u001b[0m warning: basinhopping: local minimization failure\n",
      "\u001b[2m\u001b[36m(pid=3470)\u001b[0m basinhopping step 0: f 5.56347e+11\n",
      "\u001b[2m\u001b[36m(pid=3369)\u001b[0m warning: basinhopping: local minimization failure\n",
      "\u001b[2m\u001b[36m(pid=3369)\u001b[0m basinhopping step 7: f 9.67634e+09 trial_f 1.45353e+10 accepted 0  lowest_f 9.67634e+09\n",
      "\u001b[2m\u001b[36m(pid=3301)\u001b[0m basinhopping step 10: f 4.80905e+11 trial_f 2.97376e+12 accepted 0  lowest_f 4.80905e+11\n",
      "\u001b[2m\u001b[36m(pid=3301)\u001b[0m basinhopping step 0: f 4.33022e+11\n",
      "\u001b[2m\u001b[36m(pid=3470)\u001b[0m basinhopping step 1: f 5.56347e+11 trial_f 1.33829e+16 accepted 0  lowest_f 5.56347e+11\n",
      "\u001b[2m\u001b[36m(pid=3341)\u001b[0m basinhopping step 7: f 6.52014e+10 trial_f 3.59223e+14 accepted 0  lowest_f 6.52014e+10\n",
      "\u001b[2m\u001b[36m(pid=3470)\u001b[0m basinhopping step 2: f 5.56347e+11 trial_f 4.56876e+14 accepted 0  lowest_f 5.56347e+11\n",
      "\u001b[2m\u001b[36m(pid=3301)\u001b[0m basinhopping step 1: f 3.79247e+11 trial_f 3.79247e+11 accepted 1  lowest_f 3.79247e+11\n",
      "\u001b[2m\u001b[36m(pid=3301)\u001b[0m found new global minimum on step 1 with function value 3.79247e+11\n",
      "\u001b[2m\u001b[36m(pid=3301)\u001b[0m basinhopping step 2: f 3.79247e+11 trial_f 3.90254e+11 accepted 0  lowest_f 3.79247e+11\n"
     ]
    },
    {
     "name": "stderr",
     "output_type": "stream",
     "text": [
      "2020-10-22 10:33:41,623\tWARNING worker.py:1090 -- WARNING: 10 PYTHON workers have been started. This could be a result of using a large number of actors, or it could be a consequence of using nested tasks (see https://github.com/ray-project/ray/issues/3644) for some a discussion of workarounds.\n"
     ]
    },
    {
     "name": "stdout",
     "output_type": "stream",
     "text": [
      "\u001b[2m\u001b[36m(pid=3369)\u001b[0m basinhopping step 8: f 9.67634e+09 trial_f 1.44731e+10 accepted 0  lowest_f 9.67634e+09\n",
      "\u001b[2m\u001b[36m(pid=3470)\u001b[0m basinhopping step 3: f 5.56347e+11 trial_f 6.77475e+15 accepted 0  lowest_f 5.56347e+11\n",
      "\u001b[2m\u001b[36m(pid=3341)\u001b[0m basinhopping step 8: f 6.52014e+10 trial_f 9.59699e+14 accepted 0  lowest_f 6.52014e+10\n",
      "\u001b[2m\u001b[36m(pid=3510)\u001b[0m basinhopping step 0: f 1.45958e+16\n",
      "\u001b[2m\u001b[36m(pid=3470)\u001b[0m warning: basinhopping: local minimization failure\n",
      "\u001b[2m\u001b[36m(pid=3470)\u001b[0m basinhopping step 4: f 5.56346e+11 trial_f 5.56346e+11 accepted 1  lowest_f 5.56346e+11\n",
      "\u001b[2m\u001b[36m(pid=3470)\u001b[0m found new global minimum on step 4 with function value 5.56346e+11\n",
      "\u001b[2m\u001b[36m(pid=3484)\u001b[0m basinhopping step 0: f 1.26205e+09\n",
      "\u001b[2m\u001b[36m(pid=3510)\u001b[0m warning: basinhopping: local minimization failure\n",
      "\u001b[2m\u001b[36m(pid=3510)\u001b[0m basinhopping step 1: f 1.45573e+12 trial_f 1.45573e+12 accepted 1  lowest_f 1.45573e+12\n",
      "\u001b[2m\u001b[36m(pid=3510)\u001b[0m found new global minimum on step 1 with function value 1.45573e+12\n",
      "\u001b[2m\u001b[36m(pid=3369)\u001b[0m warning: basinhopping: local minimization failure\n",
      "\u001b[2m\u001b[36m(pid=3369)\u001b[0m basinhopping step 9: f 9.67634e+09 trial_f 1.45195e+10 accepted 0  lowest_f 9.67634e+09\n",
      "\u001b[2m\u001b[36m(pid=3510)\u001b[0m warning: basinhopping: local minimization failure\n",
      "\u001b[2m\u001b[36m(pid=3510)\u001b[0m basinhopping step 2: f 1.45573e+12 trial_f 1.45574e+12 accepted 0  lowest_f 1.45573e+12\n",
      "\u001b[2m\u001b[36m(pid=3470)\u001b[0m basinhopping step 5: f 5.56346e+11 trial_f 6.84453e+15 accepted 0  lowest_f 5.56346e+11\n",
      "\u001b[2m\u001b[36m(pid=3341)\u001b[0m basinhopping step 9: f 6.52014e+10 trial_f 1.45318e+14 accepted 0  lowest_f 6.52014e+10\n",
      "\u001b[2m\u001b[36m(pid=3484)\u001b[0m warning: basinhopping: local minimization failure\n",
      "\u001b[2m\u001b[36m(pid=3484)\u001b[0m basinhopping step 1: f 1.26156e+09 trial_f 1.26156e+09 accepted 1  lowest_f 1.26156e+09\n",
      "\u001b[2m\u001b[36m(pid=3484)\u001b[0m found new global minimum on step 1 with function value 1.26156e+09\n",
      "\u001b[2m\u001b[36m(pid=3484)\u001b[0m warning: basinhopping: local minimization failure\n",
      "\u001b[2m\u001b[36m(pid=3484)\u001b[0m basinhopping step 2: f 1.26156e+09 trial_f 1.26174e+09 accepted 0  lowest_f 1.26156e+09\n",
      "\u001b[2m\u001b[36m(pid=3369)\u001b[0m basinhopping step 10: f 9.67634e+09 trial_f 3.40072e+13 accepted 0  lowest_f 9.67634e+09\n",
      "\u001b[2m\u001b[36m(pid=3369)\u001b[0m basinhopping step 0: f 9.26301e+09\n",
      "\u001b[2m\u001b[36m(pid=3369)\u001b[0m basinhopping step 1: f 9.17398e+09 trial_f 9.17398e+09 accepted 1  lowest_f 9.17398e+09\n",
      "\u001b[2m\u001b[36m(pid=3369)\u001b[0m found new global minimum on step 1 with function value 9.17398e+09\n",
      "\u001b[2m\u001b[36m(pid=3369)\u001b[0m basinhopping step 2: f 9.17398e+09 trial_f 9.21105e+09 accepted 0  lowest_f 9.17398e+09\n"
     ]
    },
    {
     "name": "stderr",
     "output_type": "stream",
     "text": [
      "2020-10-22 10:34:07,063\tWARNING worker.py:1090 -- WARNING: 10 PYTHON workers have been started. This could be a result of using a large number of actors, or it could be a consequence of using nested tasks (see https://github.com/ray-project/ray/issues/3644) for some a discussion of workarounds.\n"
     ]
    },
    {
     "name": "stdout",
     "output_type": "stream",
     "text": [
      "\u001b[2m\u001b[36m(pid=3341)\u001b[0m basinhopping step 10: f 6.52014e+10 trial_f 9.56038e+14 accepted 0  lowest_f 6.52014e+10\n",
      "\u001b[2m\u001b[36m(pid=3341)\u001b[0m basinhopping step 0: f 6.49348e+10\n",
      "\u001b[2m\u001b[36m(pid=3510)\u001b[0m basinhopping step 3: f 1.39604e+12 trial_f 1.39604e+12 accepted 1  lowest_f 1.39604e+12\n",
      "\u001b[2m\u001b[36m(pid=3510)\u001b[0m found new global minimum on step 3 with function value 1.39604e+12\n",
      "\u001b[2m\u001b[36m(pid=3341)\u001b[0m basinhopping step 1: f 6.48248e+10 trial_f 6.48248e+10 accepted 1  lowest_f 6.48248e+10\n",
      "\u001b[2m\u001b[36m(pid=3341)\u001b[0m found new global minimum on step 1 with function value 6.48248e+10\n",
      "\u001b[2m\u001b[36m(pid=3341)\u001b[0m basinhopping step 2: f 6.48179e+10 trial_f 6.48179e+10 accepted 1  lowest_f 6.48179e+10\n",
      "\u001b[2m\u001b[36m(pid=3341)\u001b[0m found new global minimum on step 2 with function value 6.48179e+10\n"
     ]
    },
    {
     "name": "stderr",
     "output_type": "stream",
     "text": [
      "2020-10-22 10:34:13,290\tWARNING worker.py:1090 -- WARNING: 10 PYTHON workers have been started. This could be a result of using a large number of actors, or it could be a consequence of using nested tasks (see https://github.com/ray-project/ray/issues/3644) for some a discussion of workarounds.\n"
     ]
    },
    {
     "name": "stdout",
     "output_type": "stream",
     "text": [
      "\u001b[2m\u001b[36m(pid=3470)\u001b[0m warning: basinhopping: local minimization failure\n",
      "\u001b[2m\u001b[36m(pid=3470)\u001b[0m basinhopping step 6: f 5.56345e+11 trial_f 5.56345e+11 accepted 1  lowest_f 5.56345e+11\n",
      "\u001b[2m\u001b[36m(pid=3470)\u001b[0m found new global minimum on step 6 with function value 5.56345e+11\n",
      "\u001b[2m\u001b[36m(pid=3510)\u001b[0m warning: basinhopping: local minimization failure\n",
      "\u001b[2m\u001b[36m(pid=3510)\u001b[0m basinhopping step 4: f 1.3639e+12 trial_f 1.3639e+12 accepted 1  lowest_f 1.3639e+12\n",
      "\u001b[2m\u001b[36m(pid=3510)\u001b[0m found new global minimum on step 4 with function value 1.3639e+12\n",
      "\u001b[2m\u001b[36m(pid=3550)\u001b[0m basinhopping step 0: f 5.10476e+09\n",
      "\u001b[2m\u001b[36m(pid=3484)\u001b[0m basinhopping step 3: f 1.26156e+09 trial_f 6.12816e+16 accepted 0  lowest_f 1.26156e+09\n",
      "\u001b[2m\u001b[36m(pid=3484)\u001b[0m basinhopping step 4: f 1.26156e+09 trial_f 1.26205e+09 accepted 0  lowest_f 1.26156e+09\n",
      "\u001b[2m\u001b[36m(pid=3550)\u001b[0m basinhopping step 1: f 5.10476e+09 trial_f 5.44044e+11 accepted 0  lowest_f 5.10476e+09\n",
      "\u001b[2m\u001b[36m(pid=3510)\u001b[0m warning: basinhopping: local minimization failure\n",
      "\u001b[2m\u001b[36m(pid=3510)\u001b[0m basinhopping step 5: f 1.3639e+12 trial_f 1.45573e+12 accepted 0  lowest_f 1.3639e+12\n",
      "\u001b[2m\u001b[36m(pid=3565)\u001b[0m basinhopping step 0: f 3.97664e+11\n",
      "\u001b[2m\u001b[36m(pid=3550)\u001b[0m basinhopping step 2: f 5.10476e+09 trial_f 6.11809e+11 accepted 0  lowest_f 5.10476e+09\n",
      "\u001b[2m\u001b[36m(pid=3470)\u001b[0m basinhopping step 7: f 5.56345e+11 trial_f 4.26152e+15 accepted 0  lowest_f 5.56345e+11\n",
      "\u001b[2m\u001b[36m(pid=3484)\u001b[0m basinhopping step 5: f 1.26156e+09 trial_f 1.47467e+16 accepted 0  lowest_f 1.26156e+09\n",
      "\u001b[2m\u001b[36m(pid=3484)\u001b[0m basinhopping step 6: f 1.26156e+09 trial_f 1.26175e+09 accepted 0  lowest_f 1.26156e+09\n",
      "\u001b[2m\u001b[36m(pid=3565)\u001b[0m basinhopping step 1: f 3.97664e+11 trial_f 1.2262e+15 accepted 0  lowest_f 3.97664e+11\n",
      "\u001b[2m\u001b[36m(pid=3484)\u001b[0m basinhopping step 7: f 1.26156e+09 trial_f 1.26303e+09 accepted 0  lowest_f 1.26156e+09\n",
      "\u001b[2m\u001b[36m(pid=3510)\u001b[0m basinhopping step 6: f 1.3639e+12 trial_f 5.08763e+15 accepted 0  lowest_f 1.3639e+12\n",
      "\u001b[2m\u001b[36m(pid=3565)\u001b[0m basinhopping step 2: f 3.97664e+11 trial_f 1.28965e+12 accepted 0  lowest_f 3.97664e+11\n",
      "\u001b[2m\u001b[36m(pid=3550)\u001b[0m basinhopping step 3: f 5.10476e+09 trial_f 1.46385e+11 accepted 0  lowest_f 5.10476e+09\n",
      "\u001b[2m\u001b[36m(pid=3470)\u001b[0m warning: basinhopping: local minimization failure\n",
      "\u001b[2m\u001b[36m(pid=3470)\u001b[0m basinhopping step 8: f 1.97625e+11 trial_f 1.97625e+11 accepted 1  lowest_f 1.97625e+11\n",
      "\u001b[2m\u001b[36m(pid=3470)\u001b[0m found new global minimum on step 8 with function value 1.97625e+11\n",
      "\u001b[2m\u001b[36m(pid=3484)\u001b[0m basinhopping step 8: f 1.26156e+09 trial_f 1.26205e+09 accepted 0  lowest_f 1.26156e+09\n",
      "\u001b[2m\u001b[36m(pid=3565)\u001b[0m basinhopping step 3: f 3.97664e+11 trial_f 4.91043e+14 accepted 0  lowest_f 3.97664e+11\n",
      "\u001b[2m\u001b[36m(pid=3510)\u001b[0m basinhopping step 7: f 1.26779e+12 trial_f 1.26779e+12 accepted 1  lowest_f 1.26779e+12\n",
      "\u001b[2m\u001b[36m(pid=3510)\u001b[0m found new global minimum on step 7 with function value 1.26779e+12\n",
      "\u001b[2m\u001b[36m(pid=3484)\u001b[0m basinhopping step 9: f 1.26156e+09 trial_f 2.31003e+16 accepted 0  lowest_f 1.26156e+09\n",
      "\u001b[2m\u001b[36m(pid=3470)\u001b[0m warning: basinhopping: local minimization failure\n",
      "\u001b[2m\u001b[36m(pid=3470)\u001b[0m basinhopping step 9: f 1.97625e+11 trial_f 4.24364e+11 accepted 0  lowest_f 1.97625e+11\n",
      "\u001b[2m\u001b[36m(pid=3550)\u001b[0m basinhopping step 4: f 5.10476e+09 trial_f 5.74928e+11 accepted 0  lowest_f 5.10476e+09\n",
      "\u001b[2m\u001b[36m(pid=3565)\u001b[0m warning: basinhopping: local minimization failure\n",
      "\u001b[2m\u001b[36m(pid=3565)\u001b[0m basinhopping step 4: f 3.97664e+11 trial_f 1.11486e+15 accepted 0  lowest_f 3.97664e+11\n",
      "\u001b[2m\u001b[36m(pid=3510)\u001b[0m basinhopping step 8: f 1.26779e+12 trial_f 5.96242e+16 accepted 0  lowest_f 1.26779e+12\n",
      "\u001b[2m\u001b[36m(pid=3484)\u001b[0m basinhopping step 10: f 1.26156e+09 trial_f 4.98957e+16 accepted 0  lowest_f 1.26156e+09\n",
      "\u001b[2m\u001b[36m(pid=3484)\u001b[0m basinhopping step 0: f 1.25449e+09\n",
      "\u001b[2m\u001b[36m(pid=3484)\u001b[0m basinhopping step 1: f 1.25449e+09 trial_f 1.25449e+09 accepted 1  lowest_f 1.25449e+09\n",
      "\u001b[2m\u001b[36m(pid=3484)\u001b[0m found new global minimum on step 1 with function value 1.25449e+09\n",
      "\u001b[2m\u001b[36m(pid=3484)\u001b[0m basinhopping step 2: f 1.25449e+09 trial_f 1.25449e+09 accepted 1  lowest_f 1.25449e+09\n"
     ]
    },
    {
     "name": "stderr",
     "output_type": "stream",
     "text": [
      "2020-10-22 10:35:25,834\tWARNING worker.py:1090 -- WARNING: 10 PYTHON workers have been started. This could be a result of using a large number of actors, or it could be a consequence of using nested tasks (see https://github.com/ray-project/ray/issues/3644) for some a discussion of workarounds.\n"
     ]
    },
    {
     "name": "stdout",
     "output_type": "stream",
     "text": [
      "\u001b[2m\u001b[36m(pid=3550)\u001b[0m basinhopping step 5: f 5.10476e+09 trial_f 6.05104e+09 accepted 0  lowest_f 5.10476e+09\n",
      "\u001b[2m\u001b[36m(pid=3565)\u001b[0m basinhopping step 5: f 3.97664e+11 trial_f 1.82829e+14 accepted 0  lowest_f 3.97664e+11\n",
      "\u001b[2m\u001b[36m(pid=3510)\u001b[0m basinhopping step 9: f 1.26779e+12 trial_f 6.43993e+16 accepted 0  lowest_f 1.26779e+12\n",
      "\u001b[2m\u001b[36m(pid=3510)\u001b[0m basinhopping step 10: f 1.26779e+12 trial_f 1.45502e+12 accepted 0  lowest_f 1.26779e+12\n",
      "\u001b[2m\u001b[36m(pid=3510)\u001b[0m basinhopping step 0: f 1.09453e+12\n",
      "\u001b[2m\u001b[36m(pid=3510)\u001b[0m basinhopping step 1: f 1.09453e+12 trial_f 1.09453e+12 accepted 1  lowest_f 1.09453e+12\n",
      "\u001b[2m\u001b[36m(pid=3510)\u001b[0m basinhopping step 2: f 1.09453e+12 trial_f 1.09453e+12 accepted 1  lowest_f 1.09453e+12\n"
     ]
    },
    {
     "name": "stderr",
     "output_type": "stream",
     "text": [
      "2020-10-22 10:35:51,788\tWARNING worker.py:1090 -- WARNING: 10 PYTHON workers have been started. This could be a result of using a large number of actors, or it could be a consequence of using nested tasks (see https://github.com/ray-project/ray/issues/3644) for some a discussion of workarounds.\n"
     ]
    },
    {
     "name": "stdout",
     "output_type": "stream",
     "text": [
      "\u001b[2m\u001b[36m(pid=3688)\u001b[0m warning: basinhopping: local minimization failure\n",
      "\u001b[2m\u001b[36m(pid=3688)\u001b[0m basinhopping step 0: f 6.90917e+11\n",
      "\u001b[2m\u001b[36m(pid=3470)\u001b[0m basinhopping step 10: f 1.97625e+11 trial_f 5.51366e+11 accepted 0  lowest_f 1.97625e+11\n",
      "\u001b[2m\u001b[36m(pid=3470)\u001b[0m basinhopping step 0: f 1.97167e+11\n",
      "\u001b[2m\u001b[36m(pid=3470)\u001b[0m basinhopping step 1: f 1.97167e+11 trial_f 1.97249e+11 accepted 0  lowest_f 1.97167e+11\n",
      "\u001b[2m\u001b[36m(pid=3470)\u001b[0m basinhopping step 2: f 1.97167e+11 trial_f 1.9718e+11 accepted 0  lowest_f 1.97167e+11\n"
     ]
    },
    {
     "name": "stderr",
     "output_type": "stream",
     "text": [
      "2020-10-22 10:36:02,720\tWARNING worker.py:1090 -- WARNING: 10 PYTHON workers have been started. This could be a result of using a large number of actors, or it could be a consequence of using nested tasks (see https://github.com/ray-project/ray/issues/3644) for some a discussion of workarounds.\n"
     ]
    },
    {
     "name": "stdout",
     "output_type": "stream",
     "text": [
      "\u001b[2m\u001b[36m(pid=3550)\u001b[0m basinhopping step 6: f 5.10476e+09 trial_f 4.37876e+10 accepted 0  lowest_f 5.10476e+09\n",
      "\u001b[2m\u001b[36m(pid=3550)\u001b[0m basinhopping step 7: f 5.10476e+09 trial_f 4.07801e+11 accepted 0  lowest_f 5.10476e+09\n",
      "\u001b[2m\u001b[36m(pid=3702)\u001b[0m basinhopping step 0: f 4.60917e+13\n",
      "\u001b[2m\u001b[36m(pid=3565)\u001b[0m warning: basinhopping: local minimization failure\n",
      "\u001b[2m\u001b[36m(pid=3565)\u001b[0m basinhopping step 6: f 3.97664e+11 trial_f 4.66305e+11 accepted 0  lowest_f 3.97664e+11\n",
      "\u001b[2m\u001b[36m(pid=3637)\u001b[0m basinhopping step 0: f 1.73529e+16\n",
      "\u001b[2m\u001b[36m(pid=3550)\u001b[0m basinhopping step 8: f 5.10476e+09 trial_f 4.05016e+11 accepted 0  lowest_f 5.10476e+09\n",
      "\u001b[2m\u001b[36m(pid=3688)\u001b[0m basinhopping step 1: f 6.90917e+11 trial_f 7.27845e+16 accepted 0  lowest_f 6.90917e+11\n",
      "\u001b[2m\u001b[36m(pid=3637)\u001b[0m basinhopping step 1: f 1.73529e+16 trial_f 9.301e+16 accepted 0  lowest_f 1.73529e+16\n",
      "\u001b[2m\u001b[36m(pid=3702)\u001b[0m basinhopping step 1: f 4.60917e+13 trial_f 1.60232e+15 accepted 0  lowest_f 4.60917e+13\n",
      "\u001b[2m\u001b[36m(pid=3637)\u001b[0m basinhopping step 2: f 8.40222e+08 trial_f 8.40222e+08 accepted 1  lowest_f 8.40222e+08\n",
      "\u001b[2m\u001b[36m(pid=3637)\u001b[0m found new global minimum on step 2 with function value 8.40222e+08\n",
      "\u001b[2m\u001b[36m(pid=3550)\u001b[0m basinhopping step 9: f 5.10476e+09 trial_f 1.13797e+11 accepted 0  lowest_f 5.10476e+09\n",
      "\u001b[2m\u001b[36m(pid=3565)\u001b[0m basinhopping step 7: f 3.97664e+11 trial_f 3.20313e+15 accepted 0  lowest_f 3.97664e+11\n",
      "\u001b[2m\u001b[36m(pid=3688)\u001b[0m basinhopping step 2: f 6.90917e+11 trial_f 8.87616e+16 accepted 0  lowest_f 6.90917e+11\n",
      "\u001b[2m\u001b[36m(pid=3702)\u001b[0m basinhopping step 2: f 4.60917e+13 trial_f 2.19801e+14 accepted 0  lowest_f 4.60917e+13\n",
      "\u001b[2m\u001b[36m(pid=3565)\u001b[0m basinhopping step 8: f 3.97664e+11 trial_f 1.83183e+14 accepted 0  lowest_f 3.97664e+11\n",
      "\u001b[2m\u001b[36m(pid=3702)\u001b[0m basinhopping step 3: f 2.77315e+11 trial_f 2.77315e+11 accepted 1  lowest_f 2.77315e+11\n",
      "\u001b[2m\u001b[36m(pid=3702)\u001b[0m found new global minimum on step 3 with function value 2.77315e+11\n",
      "\u001b[2m\u001b[36m(pid=3688)\u001b[0m basinhopping step 3: f 6.90917e+11 trial_f 1.54208e+12 accepted 0  lowest_f 6.90917e+11\n",
      "\u001b[2m\u001b[36m(pid=3637)\u001b[0m basinhopping step 3: f 8.40222e+08 trial_f 3.21051e+16 accepted 0  lowest_f 8.40222e+08\n",
      "\u001b[2m\u001b[36m(pid=3688)\u001b[0m warning: basinhopping: local minimization failure\n",
      "\u001b[2m\u001b[36m(pid=3688)\u001b[0m basinhopping step 4: f 6.90917e+11 trial_f 1.5013e+12 accepted 0  lowest_f 6.90917e+11\n",
      "\u001b[2m\u001b[36m(pid=3565)\u001b[0m basinhopping step 9: f 3.97664e+11 trial_f 1.22403e+15 accepted 0  lowest_f 3.97664e+11\n",
      "\u001b[2m\u001b[36m(pid=3702)\u001b[0m basinhopping step 4: f 2.77315e+11 trial_f 3.09135e+11 accepted 0  lowest_f 2.77315e+11\n",
      "\u001b[2m\u001b[36m(pid=3550)\u001b[0m basinhopping step 10: f 5.10476e+09 trial_f 9.34709e+09 accepted 0  lowest_f 5.10476e+09\n",
      "\u001b[2m\u001b[36m(pid=3550)\u001b[0m basinhopping step 0: f 5.06722e+09\n",
      "\u001b[2m\u001b[36m(pid=3550)\u001b[0m basinhopping step 1: f 5.06722e+09 trial_f 5.06935e+09 accepted 0  lowest_f 5.06722e+09\n",
      "\u001b[2m\u001b[36m(pid=3637)\u001b[0m basinhopping step 4: f 8.40222e+08 trial_f 8.94012e+16 accepted 0  lowest_f 8.40222e+08\n",
      "\u001b[2m\u001b[36m(pid=3550)\u001b[0m basinhopping step 2: f 5.06722e+09 trial_f 5.07623e+09 accepted 0  lowest_f 5.06722e+09\n"
     ]
    },
    {
     "name": "stderr",
     "output_type": "stream",
     "text": [
      "2020-10-22 10:37:09,735\tWARNING worker.py:1090 -- WARNING: 10 PYTHON workers have been started. This could be a result of using a large number of actors, or it could be a consequence of using nested tasks (see https://github.com/ray-project/ray/issues/3644) for some a discussion of workarounds.\n"
     ]
    },
    {
     "name": "stdout",
     "output_type": "stream",
     "text": [
      "\u001b[2m\u001b[36m(pid=3637)\u001b[0m basinhopping step 5: f 8.38491e+08 trial_f 8.38491e+08 accepted 1  lowest_f 8.38491e+08\n",
      "\u001b[2m\u001b[36m(pid=3637)\u001b[0m found new global minimum on step 5 with function value 8.38491e+08\n",
      "\u001b[2m\u001b[36m(pid=3745)\u001b[0m basinhopping step 0: f 7.95773e+12\n",
      "\u001b[2m\u001b[36m(pid=3637)\u001b[0m basinhopping step 6: f 8.38491e+08 trial_f 8.56807e+16 accepted 0  lowest_f 8.38491e+08\n",
      "\u001b[2m\u001b[36m(pid=3565)\u001b[0m basinhopping step 10: f 3.97664e+11 trial_f 1.23304e+15 accepted 0  lowest_f 3.97664e+11\n",
      "\u001b[2m\u001b[36m(pid=3565)\u001b[0m basinhopping step 0: f 3.82543e+11\n",
      "\u001b[2m\u001b[36m(pid=3565)\u001b[0m basinhopping step 1: f 3.82543e+11 trial_f 3.82709e+11 accepted 0  lowest_f 3.82543e+11\n",
      "\u001b[2m\u001b[36m(pid=3565)\u001b[0m basinhopping step 2: f 3.82543e+11 trial_f 3.82662e+11 accepted 0  lowest_f 3.82543e+11\n"
     ]
    },
    {
     "name": "stderr",
     "output_type": "stream",
     "text": [
      "2020-10-22 10:37:25,028\tWARNING worker.py:1090 -- WARNING: 10 PYTHON workers have been started. This could be a result of using a large number of actors, or it could be a consequence of using nested tasks (see https://github.com/ray-project/ray/issues/3644) for some a discussion of workarounds.\n"
     ]
    },
    {
     "name": "stdout",
     "output_type": "stream",
     "text": [
      "\u001b[2m\u001b[36m(pid=3702)\u001b[0m basinhopping step 5: f 1.25641e+11 trial_f 1.25641e+11 accepted 1  lowest_f 1.25641e+11\n",
      "\u001b[2m\u001b[36m(pid=3702)\u001b[0m found new global minimum on step 5 with function value 1.25641e+11\n",
      "\u001b[2m\u001b[36m(pid=3745)\u001b[0m warning: basinhopping: local minimization failure\n",
      "\u001b[2m\u001b[36m(pid=3745)\u001b[0m basinhopping step 1: f 2.61451e+09 trial_f 2.61451e+09 accepted 1  lowest_f 2.61451e+09\n",
      "\u001b[2m\u001b[36m(pid=3745)\u001b[0m found new global minimum on step 1 with function value 2.61451e+09\n",
      "\u001b[2m\u001b[36m(pid=3688)\u001b[0m basinhopping step 5: f 6.90917e+11 trial_f 6.53538e+16 accepted 0  lowest_f 6.90917e+11\n",
      "\u001b[2m\u001b[36m(pid=3637)\u001b[0m basinhopping step 7: f 8.38491e+08 trial_f 1.88181e+16 accepted 0  lowest_f 8.38491e+08\n",
      "\u001b[2m\u001b[36m(pid=3688)\u001b[0m basinhopping step 6: f 6.90917e+11 trial_f 8.97284e+16 accepted 0  lowest_f 6.90917e+11\n",
      "\u001b[2m\u001b[36m(pid=3688)\u001b[0m basinhopping step 7: f 6.90917e+11 trial_f 4.5347e+16 accepted 0  lowest_f 6.90917e+11\n",
      "\u001b[2m\u001b[36m(pid=3637)\u001b[0m basinhopping step 8: f 8.38491e+08 trial_f 8.39718e+08 accepted 0  lowest_f 8.38491e+08\n",
      "\u001b[2m\u001b[36m(pid=3637)\u001b[0m basinhopping step 9: f 8.38378e+08 trial_f 8.38378e+08 accepted 1  lowest_f 8.38378e+08\n",
      "\u001b[2m\u001b[36m(pid=3637)\u001b[0m found new global minimum on step 9 with function value 8.38378e+08\n",
      "\u001b[2m\u001b[36m(pid=3774)\u001b[0m warning: basinhopping: local minimization failure\n",
      "\u001b[2m\u001b[36m(pid=3774)\u001b[0m basinhopping step 0: f 1.40013e+11\n",
      "\u001b[2m\u001b[36m(pid=3745)\u001b[0m basinhopping step 2: f 1.56016e+09 trial_f 1.56016e+09 accepted 1  lowest_f 1.56016e+09\n",
      "\u001b[2m\u001b[36m(pid=3745)\u001b[0m found new global minimum on step 2 with function value 1.56016e+09\n",
      "\u001b[2m\u001b[36m(pid=3688)\u001b[0m warning: basinhopping: local minimization failure\n",
      "\u001b[2m\u001b[36m(pid=3688)\u001b[0m basinhopping step 8: f 6.90917e+11 trial_f 1.16611e+16 accepted 0  lowest_f 6.90917e+11\n",
      "\u001b[2m\u001b[36m(pid=3637)\u001b[0m basinhopping step 10: f 8.38378e+08 trial_f 9.24915e+16 accepted 0  lowest_f 8.38378e+08\n",
      "\u001b[2m\u001b[36m(pid=3637)\u001b[0m basinhopping step 0: f 8.32818e+08\n",
      "\u001b[2m\u001b[36m(pid=3637)\u001b[0m basinhopping step 1: f 8.32818e+08 trial_f 8.32818e+08 accepted 1  lowest_f 8.32818e+08\n",
      "\u001b[2m\u001b[36m(pid=3637)\u001b[0m basinhopping step 2: f 8.32818e+08 trial_f 8.32818e+08 accepted 1  lowest_f 8.32818e+08\n"
     ]
    },
    {
     "name": "stderr",
     "output_type": "stream",
     "text": [
      "2020-10-22 10:38:11,798\tWARNING worker.py:1090 -- WARNING: 10 PYTHON workers have been started. This could be a result of using a large number of actors, or it could be a consequence of using nested tasks (see https://github.com/ray-project/ray/issues/3644) for some a discussion of workarounds.\n"
     ]
    },
    {
     "name": "stdout",
     "output_type": "stream",
     "text": [
      "\u001b[2m\u001b[36m(pid=3774)\u001b[0m basinhopping step 1: f 1.40013e+11 trial_f 1.35877e+14 accepted 0  lowest_f 1.40013e+11\n",
      "\u001b[2m\u001b[36m(pid=3745)\u001b[0m basinhopping step 3: f 1.54322e+09 trial_f 1.54322e+09 accepted 1  lowest_f 1.54322e+09\n",
      "\u001b[2m\u001b[36m(pid=3745)\u001b[0m found new global minimum on step 3 with function value 1.54322e+09\n",
      "\u001b[2m\u001b[36m(pid=3688)\u001b[0m basinhopping step 9: f 6.90917e+11 trial_f 1.5377e+12 accepted 0  lowest_f 6.90917e+11\n",
      "\u001b[2m\u001b[36m(pid=3745)\u001b[0m warning: basinhopping: local minimization failure\n",
      "\u001b[2m\u001b[36m(pid=3745)\u001b[0m basinhopping step 4: f 1.54322e+09 trial_f 2.61549e+09 accepted 0  lowest_f 1.54322e+09\n",
      "\u001b[2m\u001b[36m(pid=3774)\u001b[0m warning: basinhopping: local minimization failure\n",
      "\u001b[2m\u001b[36m(pid=3774)\u001b[0m basinhopping step 2: f 1.40013e+11 trial_f 4.10633e+11 accepted 0  lowest_f 1.40013e+11\n",
      "\u001b[2m\u001b[36m(pid=3745)\u001b[0m basinhopping step 5: f 1.54322e+09 trial_f 4.94385e+13 accepted 0  lowest_f 1.54322e+09\n",
      "\u001b[2m\u001b[36m(pid=3845)\u001b[0m basinhopping step 0: f 1.08854e+09\n",
      "\u001b[2m\u001b[36m(pid=3702)\u001b[0m basinhopping step 6: f 1.25641e+11 trial_f 1.69431e+14 accepted 0  lowest_f 1.25641e+11\n",
      "\u001b[2m\u001b[36m(pid=3688)\u001b[0m basinhopping step 10: f 6.90917e+11 trial_f 1.54208e+12 accepted 0  lowest_f 6.90917e+11\n",
      "\u001b[2m\u001b[36m(pid=3688)\u001b[0m basinhopping step 0: f 1.54259e+12\n",
      "\u001b[2m\u001b[36m(pid=3688)\u001b[0m basinhopping step 1: f 1.54259e+12 trial_f 1.54259e+12 accepted 1  lowest_f 1.54259e+12\n",
      "\u001b[2m\u001b[36m(pid=3688)\u001b[0m basinhopping step 2: f 1.54259e+12 trial_f 1.54259e+12 accepted 1  lowest_f 1.54259e+12\n"
     ]
    },
    {
     "name": "stderr",
     "output_type": "stream",
     "text": [
      "2020-10-22 10:38:46,114\tWARNING worker.py:1090 -- WARNING: 10 PYTHON workers have been started. This could be a result of using a large number of actors, or it could be a consequence of using nested tasks (see https://github.com/ray-project/ray/issues/3644) for some a discussion of workarounds.\n"
     ]
    },
    {
     "name": "stdout",
     "output_type": "stream",
     "text": [
      "\u001b[2m\u001b[36m(pid=3702)\u001b[0m basinhopping step 7: f 1.25641e+11 trial_f 2.55514e+11 accepted 0  lowest_f 1.25641e+11\n",
      "\u001b[2m\u001b[36m(pid=3845)\u001b[0m basinhopping step 1: f 1.08854e+09 trial_f 1.21719e+16 accepted 0  lowest_f 1.08854e+09\n",
      "\u001b[2m\u001b[36m(pid=3745)\u001b[0m warning: basinhopping: local minimization failure\n",
      "\u001b[2m\u001b[36m(pid=3745)\u001b[0m basinhopping step 6: f 1.54322e+09 trial_f 2.54664e+09 accepted 0  lowest_f 1.54322e+09\n",
      "\u001b[2m\u001b[36m(pid=3745)\u001b[0m warning: basinhopping: local minimization failure\n",
      "\u001b[2m\u001b[36m(pid=3745)\u001b[0m basinhopping step 7: f 1.54322e+09 trial_f 2.61451e+09 accepted 0  lowest_f 1.54322e+09\n",
      "\u001b[2m\u001b[36m(pid=3774)\u001b[0m basinhopping step 3: f 1.40013e+11 trial_f 5.46614e+11 accepted 0  lowest_f 1.40013e+11\n",
      "\u001b[2m\u001b[36m(pid=3845)\u001b[0m basinhopping step 2: f 1.08854e+09 trial_f 1.08883e+09 accepted 0  lowest_f 1.08854e+09\n",
      "\u001b[2m\u001b[36m(pid=3745)\u001b[0m warning: basinhopping: local minimization failure\n",
      "\u001b[2m\u001b[36m(pid=3745)\u001b[0m basinhopping step 8: f 1.54322e+09 trial_f 2.61409e+09 accepted 0  lowest_f 1.54322e+09\n",
      "\u001b[2m\u001b[36m(pid=3845)\u001b[0m basinhopping step 3: f 1.08841e+09 trial_f 1.08841e+09 accepted 1  lowest_f 1.08841e+09\n",
      "\u001b[2m\u001b[36m(pid=3845)\u001b[0m found new global minimum on step 3 with function value 1.08841e+09\n",
      "\u001b[2m\u001b[36m(pid=3933)\u001b[0m basinhopping step 0: f 1.14514e+12\n",
      "\u001b[2m\u001b[36m(pid=3933)\u001b[0m warning: basinhopping: local minimization failure\n",
      "\u001b[2m\u001b[36m(pid=3933)\u001b[0m basinhopping step 1: f 1.14507e+12 trial_f 1.14507e+12 accepted 1  lowest_f 1.14507e+12\n",
      "\u001b[2m\u001b[36m(pid=3933)\u001b[0m found new global minimum on step 1 with function value 1.14507e+12\n",
      "\u001b[2m\u001b[36m(pid=3702)\u001b[0m basinhopping step 8: f 1.25641e+11 trial_f 4.6221e+13 accepted 0  lowest_f 1.25641e+11\n",
      "\u001b[2m\u001b[36m(pid=3774)\u001b[0m basinhopping step 4: f 1.40013e+11 trial_f 5.76465e+13 accepted 0  lowest_f 1.40013e+11\n",
      "\u001b[2m\u001b[36m(pid=3745)\u001b[0m basinhopping step 9: f 1.54322e+09 trial_f 3.88966e+13 accepted 0  lowest_f 1.54322e+09\n",
      "\u001b[2m\u001b[36m(pid=3745)\u001b[0m basinhopping step 10: f 1.54322e+09 trial_f 5.28941e+13 accepted 0  lowest_f 1.54322e+09\n",
      "\u001b[2m\u001b[36m(pid=3845)\u001b[0m warning: basinhopping: local minimization failure\n",
      "\u001b[2m\u001b[36m(pid=3845)\u001b[0m basinhopping step 4: f 7.93988e+08 trial_f 7.93988e+08 accepted 1  lowest_f 7.93988e+08\n",
      "\u001b[2m\u001b[36m(pid=3845)\u001b[0m found new global minimum on step 4 with function value 7.93988e+08\n",
      "\u001b[2m\u001b[36m(pid=3745)\u001b[0m basinhopping step 0: f 1.36596e+09\n",
      "\u001b[2m\u001b[36m(pid=3745)\u001b[0m basinhopping step 1: f 1.35611e+09 trial_f 1.35611e+09 accepted 1  lowest_f 1.35611e+09\n",
      "\u001b[2m\u001b[36m(pid=3745)\u001b[0m found new global minimum on step 1 with function value 1.35611e+09\n",
      "\u001b[2m\u001b[36m(pid=3745)\u001b[0m basinhopping step 2: f 1.35551e+09 trial_f 1.35551e+09 accepted 1  lowest_f 1.35551e+09\n",
      "\u001b[2m\u001b[36m(pid=3745)\u001b[0m found new global minimum on step 2 with function value 1.35551e+09\n"
     ]
    },
    {
     "name": "stderr",
     "output_type": "stream",
     "text": [
      "2020-10-22 10:39:32,320\tWARNING worker.py:1090 -- WARNING: 10 PYTHON workers have been started. This could be a result of using a large number of actors, or it could be a consequence of using nested tasks (see https://github.com/ray-project/ray/issues/3644) for some a discussion of workarounds.\n"
     ]
    },
    {
     "name": "stdout",
     "output_type": "stream",
     "text": [
      "\u001b[2m\u001b[36m(pid=3933)\u001b[0m basinhopping step 2: f 1.14507e+12 trial_f 1.14514e+12 accepted 0  lowest_f 1.14507e+12\n",
      "\u001b[2m\u001b[36m(pid=3774)\u001b[0m basinhopping step 5: f 1.40013e+11 trial_f 7.47588e+11 accepted 0  lowest_f 1.40013e+11\n",
      "\u001b[2m\u001b[36m(pid=3845)\u001b[0m warning: basinhopping: local minimization failure\n",
      "\u001b[2m\u001b[36m(pid=3845)\u001b[0m basinhopping step 5: f 7.93988e+08 trial_f 1.06986e+09 accepted 0  lowest_f 7.93988e+08\n",
      "\u001b[2m\u001b[36m(pid=3845)\u001b[0m basinhopping step 6: f 7.93988e+08 trial_f 1.00441e+16 accepted 0  lowest_f 7.93988e+08\n",
      "\u001b[2m\u001b[36m(pid=3702)\u001b[0m warning: basinhopping: local minimization failure\n",
      "\u001b[2m\u001b[36m(pid=3702)\u001b[0m basinhopping step 9: f 1.25641e+11 trial_f 7.97913e+13 accepted 0  lowest_f 1.25641e+11\n",
      "\u001b[2m\u001b[36m(pid=3933)\u001b[0m basinhopping step 3: f 1.14507e+12 trial_f 1.14514e+12 accepted 0  lowest_f 1.14507e+12\n",
      "\u001b[2m\u001b[36m(pid=3702)\u001b[0m basinhopping step 10: f 1.25641e+11 trial_f 5.58283e+14 accepted 0  lowest_f 1.25641e+11\n",
      "\u001b[2m\u001b[36m(pid=3702)\u001b[0m basinhopping step 0: f 1.18143e+11\n",
      "\u001b[2m\u001b[36m(pid=3982)\u001b[0m basinhopping step 0: f 1.40346e+09\n",
      "\u001b[2m\u001b[36m(pid=3702)\u001b[0m basinhopping step 1: f 1.1213e+11 trial_f 1.1213e+11 accepted 1  lowest_f 1.1213e+11\n",
      "\u001b[2m\u001b[36m(pid=3702)\u001b[0m found new global minimum on step 1 with function value 1.1213e+11\n",
      "\u001b[2m\u001b[36m(pid=3702)\u001b[0m basinhopping step 2: f 1.1213e+11 trial_f 1.1213e+11 accepted 1  lowest_f 1.1213e+11\n",
      "\u001b[2m\u001b[36m(pid=3702)\u001b[0m found new global minimum on step 2 with function value 1.1213e+11\n"
     ]
    },
    {
     "name": "stderr",
     "output_type": "stream",
     "text": [
      "2020-10-22 10:39:58,621\tWARNING worker.py:1090 -- WARNING: 10 PYTHON workers have been started. This could be a result of using a large number of actors, or it could be a consequence of using nested tasks (see https://github.com/ray-project/ray/issues/3644) for some a discussion of workarounds.\n"
     ]
    },
    {
     "name": "stdout",
     "output_type": "stream",
     "text": [
      "\u001b[2m\u001b[36m(pid=3933)\u001b[0m basinhopping step 4: f 1.14507e+12 trial_f 1.14507e+12 accepted 1  lowest_f 1.14507e+12\n",
      "\u001b[2m\u001b[36m(pid=3933)\u001b[0m found new global minimum on step 4 with function value 1.14507e+12\n",
      "\u001b[2m\u001b[36m(pid=3933)\u001b[0m basinhopping step 5: f 1.14507e+12 trial_f 7.42281e+16 accepted 0  lowest_f 1.14507e+12\n",
      "\u001b[2m\u001b[36m(pid=3982)\u001b[0m basinhopping step 1: f 1.40346e+09 trial_f 1.29489e+13 accepted 0  lowest_f 1.40346e+09\n",
      "\u001b[2m\u001b[36m(pid=3774)\u001b[0m basinhopping step 6: f 1.40013e+11 trial_f 1.74652e+12 accepted 0  lowest_f 1.40013e+11\n",
      "\u001b[2m\u001b[36m(pid=3933)\u001b[0m basinhopping step 6: f 1.14507e+12 trial_f 2.19163e+16 accepted 0  lowest_f 1.14507e+12\n",
      "\u001b[2m\u001b[36m(pid=3982)\u001b[0m basinhopping step 2: f 1.40346e+09 trial_f 1.36059e+13 accepted 0  lowest_f 1.40346e+09\n",
      "\u001b[2m\u001b[36m(pid=3845)\u001b[0m basinhopping step 7: f 7.93988e+08 trial_f 1.08854e+09 accepted 0  lowest_f 7.93988e+08\n",
      "\u001b[2m\u001b[36m(pid=3982)\u001b[0m basinhopping step 3: f 1.40346e+09 trial_f 1.59185e+09 accepted 0  lowest_f 1.40346e+09\n",
      "\u001b[2m\u001b[36m(pid=3845)\u001b[0m basinhopping step 8: f 7.93988e+08 trial_f 9.78659e+15 accepted 0  lowest_f 7.93988e+08\n",
      "\u001b[2m\u001b[36m(pid=3774)\u001b[0m basinhopping step 7: f 1.40013e+11 trial_f 4.603e+13 accepted 0  lowest_f 1.40013e+11\n",
      "\u001b[2m\u001b[36m(pid=3845)\u001b[0m basinhopping step 9: f 7.93988e+08 trial_f 1.08239e+16 accepted 0  lowest_f 7.93988e+08\n",
      "\u001b[2m\u001b[36m(pid=3845)\u001b[0m warning: basinhopping: local minimization failure\n",
      "\u001b[2m\u001b[36m(pid=3845)\u001b[0m basinhopping step 10: f 7.93988e+08 trial_f 9.50163e+15 accepted 0  lowest_f 7.93988e+08\n",
      "\u001b[2m\u001b[36m(pid=3845)\u001b[0m basinhopping step 0: f 7.62539e+08\n",
      "\u001b[2m\u001b[36m(pid=3774)\u001b[0m basinhopping step 8: f 1.40013e+11 trial_f 1.89228e+13 accepted 0  lowest_f 1.40013e+11\n",
      "\u001b[2m\u001b[36m(pid=3845)\u001b[0m basinhopping step 1: f 7.5272e+08 trial_f 7.5272e+08 accepted 1  lowest_f 7.5272e+08\n",
      "\u001b[2m\u001b[36m(pid=3845)\u001b[0m found new global minimum on step 1 with function value 7.5272e+08\n",
      "\u001b[2m\u001b[36m(pid=3933)\u001b[0m basinhopping step 7: f 1.14507e+12 trial_f 7.8873e+16 accepted 0  lowest_f 1.14507e+12\n",
      "\u001b[2m\u001b[36m(pid=3845)\u001b[0m basinhopping step 2: f 7.5272e+08 trial_f 7.55025e+08 accepted 0  lowest_f 7.5272e+08\n",
      "\u001b[2m\u001b[36m(pid=3982)\u001b[0m warning: basinhopping: local minimization failure\n",
      "\u001b[2m\u001b[36m(pid=3982)\u001b[0m basinhopping step 4: f 1.40346e+09 trial_f 1.57538e+09 accepted 0  lowest_f 1.40346e+09\n"
     ]
    },
    {
     "name": "stderr",
     "output_type": "stream",
     "text": [
      "2020-10-22 10:40:40,775\tWARNING worker.py:1090 -- WARNING: 10 PYTHON workers have been started. This could be a result of using a large number of actors, or it could be a consequence of using nested tasks (see https://github.com/ray-project/ray/issues/3644) for some a discussion of workarounds.\n"
     ]
    },
    {
     "name": "stdout",
     "output_type": "stream",
     "text": [
      "\u001b[2m\u001b[36m(pid=3933)\u001b[0m basinhopping step 8: f 1.14507e+12 trial_f 1.14508e+12 accepted 0  lowest_f 1.14507e+12\n",
      "\u001b[2m\u001b[36m(pid=3982)\u001b[0m basinhopping step 5: f 1.40346e+09 trial_f 3.57302e+13 accepted 0  lowest_f 1.40346e+09\n",
      "\u001b[2m\u001b[36m(pid=4237)\u001b[0m warning: basinhopping: local minimization failure\n",
      "\u001b[2m\u001b[36m(pid=4237)\u001b[0m basinhopping step 0: f 1.40739e+15\n",
      "\u001b[2m\u001b[36m(pid=4023)\u001b[0m basinhopping step 0: f 6.09809e+11\n",
      "\u001b[2m\u001b[36m(pid=3982)\u001b[0m basinhopping step 6: f 1.40346e+09 trial_f 1.37599e+12 accepted 0  lowest_f 1.40346e+09\n",
      "\u001b[2m\u001b[36m(pid=4237)\u001b[0m basinhopping step 1: f 5.40138e+14 trial_f 5.40138e+14 accepted 1  lowest_f 5.40138e+14\n",
      "\u001b[2m\u001b[36m(pid=4237)\u001b[0m found new global minimum on step 1 with function value 5.40138e+14\n",
      "\u001b[2m\u001b[36m(pid=3774)\u001b[0m basinhopping step 9: f 1.40013e+11 trial_f 1.48172e+14 accepted 0  lowest_f 1.40013e+11\n",
      "\u001b[2m\u001b[36m(pid=3774)\u001b[0m basinhopping step 10: f 1.40013e+11 trial_f 2.27134e+12 accepted 0  lowest_f 1.40013e+11\n",
      "\u001b[2m\u001b[36m(pid=3774)\u001b[0m basinhopping step 0: f 1.30268e+11\n",
      "\u001b[2m\u001b[36m(pid=3933)\u001b[0m basinhopping step 9: f 1.14507e+12 trial_f 7.37891e+16 accepted 0  lowest_f 1.14507e+12\n",
      "\u001b[2m\u001b[36m(pid=3774)\u001b[0m basinhopping step 1: f 1.30268e+11 trial_f 1.30428e+11 accepted 0  lowest_f 1.30268e+11\n",
      "\u001b[2m\u001b[36m(pid=3774)\u001b[0m basinhopping step 2: f 1.30268e+11 trial_f 1.30471e+11 accepted 0  lowest_f 1.30268e+11\n"
     ]
    },
    {
     "name": "stderr",
     "output_type": "stream",
     "text": [
      "2020-10-22 10:41:07,257\tWARNING worker.py:1090 -- WARNING: 10 PYTHON workers have been started. This could be a result of using a large number of actors, or it could be a consequence of using nested tasks (see https://github.com/ray-project/ray/issues/3644) for some a discussion of workarounds.\n"
     ]
    },
    {
     "name": "stdout",
     "output_type": "stream",
     "text": [
      "\u001b[2m\u001b[36m(pid=4023)\u001b[0m basinhopping step 1: f 6.09809e+11 trial_f 5.73344e+15 accepted 0  lowest_f 6.09809e+11\n",
      "\u001b[2m\u001b[36m(pid=3933)\u001b[0m basinhopping step 10: f 1.14507e+12 trial_f 8.30272e+16 accepted 0  lowest_f 1.14507e+12\n",
      "\u001b[2m\u001b[36m(pid=3933)\u001b[0m basinhopping step 0: f 1.14499e+12\n",
      "\u001b[2m\u001b[36m(pid=3933)\u001b[0m basinhopping step 1: f 1.14486e+12 trial_f 1.14486e+12 accepted 1  lowest_f 1.14486e+12\n",
      "\u001b[2m\u001b[36m(pid=3933)\u001b[0m found new global minimum on step 1 with function value 1.14486e+12\n",
      "\u001b[2m\u001b[36m(pid=3933)\u001b[0m basinhopping step 2: f 1.14484e+12 trial_f 1.14484e+12 accepted 1  lowest_f 1.14484e+12\n",
      "\u001b[2m\u001b[36m(pid=3933)\u001b[0m found new global minimum on step 2 with function value 1.14484e+12\n"
     ]
    },
    {
     "name": "stderr",
     "output_type": "stream",
     "text": [
      "2020-10-22 10:41:13,643\tWARNING worker.py:1090 -- WARNING: 10 PYTHON workers have been started. This could be a result of using a large number of actors, or it could be a consequence of using nested tasks (see https://github.com/ray-project/ray/issues/3644) for some a discussion of workarounds.\n"
     ]
    },
    {
     "name": "stdout",
     "output_type": "stream",
     "text": [
      "\u001b[2m\u001b[36m(pid=4237)\u001b[0m warning: basinhopping: local minimization failure\n",
      "\u001b[2m\u001b[36m(pid=4237)\u001b[0m basinhopping step 2: f 6.03812e+08 trial_f 6.03812e+08 accepted 1  lowest_f 6.03812e+08\n",
      "\u001b[2m\u001b[36m(pid=4237)\u001b[0m found new global minimum on step 2 with function value 6.03812e+08\n",
      "\u001b[2m\u001b[36m(pid=3982)\u001b[0m warning: basinhopping: local minimization failure\n",
      "\u001b[2m\u001b[36m(pid=3982)\u001b[0m basinhopping step 7: f 1.40346e+09 trial_f 2.82421e+09 accepted 0  lowest_f 1.40346e+09\n",
      "\u001b[2m\u001b[36m(pid=3982)\u001b[0m basinhopping step 8: f 1.40346e+09 trial_f 2.25834e+09 accepted 0  lowest_f 1.40346e+09\n",
      "\u001b[2m\u001b[36m(pid=4313)\u001b[0m basinhopping step 0: f 8.9793e+11\n",
      "\u001b[2m\u001b[36m(pid=4237)\u001b[0m warning: basinhopping: local minimization failure\n",
      "\u001b[2m\u001b[36m(pid=4237)\u001b[0m basinhopping step 3: f 6.03812e+08 trial_f 7.71961e+08 accepted 0  lowest_f 6.03812e+08\n",
      "\u001b[2m\u001b[36m(pid=3982)\u001b[0m basinhopping step 9: f 1.40346e+09 trial_f 2.27096e+09 accepted 0  lowest_f 1.40346e+09\n",
      "\u001b[2m\u001b[36m(pid=4237)\u001b[0m warning: basinhopping: local minimization failure\n",
      "\u001b[2m\u001b[36m(pid=4237)\u001b[0m basinhopping step 4: f 6.03812e+08 trial_f 7.87214e+08 accepted 0  lowest_f 6.03812e+08\n",
      "\u001b[2m\u001b[36m(pid=3982)\u001b[0m basinhopping step 10: f 1.40346e+09 trial_f 2.01411e+12 accepted 0  lowest_f 1.40346e+09\n",
      "\u001b[2m\u001b[36m(pid=3982)\u001b[0m basinhopping step 0: f 1.33041e+09\n",
      "\u001b[2m\u001b[36m(pid=3982)\u001b[0m basinhopping step 1: f 1.32353e+09 trial_f 1.32353e+09 accepted 1  lowest_f 1.32353e+09\n",
      "\u001b[2m\u001b[36m(pid=3982)\u001b[0m found new global minimum on step 1 with function value 1.32353e+09\n",
      "\u001b[2m\u001b[36m(pid=4023)\u001b[0m warning: basinhopping: local minimization failure\n",
      "\u001b[2m\u001b[36m(pid=4023)\u001b[0m basinhopping step 2: f 3.52203e+11 trial_f 3.52203e+11 accepted 1  lowest_f 3.52203e+11\n",
      "\u001b[2m\u001b[36m(pid=4023)\u001b[0m found new global minimum on step 2 with function value 3.52203e+11\n",
      "\u001b[2m\u001b[36m(pid=3982)\u001b[0m basinhopping step 2: f 1.32353e+09 trial_f 1.37108e+09 accepted 0  lowest_f 1.32353e+09\n"
     ]
    },
    {
     "name": "stderr",
     "output_type": "stream",
     "text": [
      "2020-10-22 10:41:49,411\tWARNING worker.py:1090 -- WARNING: 10 PYTHON workers have been started. This could be a result of using a large number of actors, or it could be a consequence of using nested tasks (see https://github.com/ray-project/ray/issues/3644) for some a discussion of workarounds.\n"
     ]
    },
    {
     "name": "stdout",
     "output_type": "stream",
     "text": [
      "\u001b[2m\u001b[36m(pid=4328)\u001b[0m basinhopping step 0: f 1.07324e+12\n",
      "\u001b[2m\u001b[36m(pid=4382)\u001b[0m basinhopping step 0: f 4.97346e+09\n",
      "\u001b[2m\u001b[36m(pid=4313)\u001b[0m basinhopping step 1: f 8.9793e+11 trial_f 1.47264e+14 accepted 0  lowest_f 8.9793e+11\n",
      "\u001b[2m\u001b[36m(pid=4237)\u001b[0m warning: basinhopping: local minimization failure\n",
      "\u001b[2m\u001b[36m(pid=4237)\u001b[0m basinhopping step 5: f 6.03812e+08 trial_f 7.89447e+08 accepted 0  lowest_f 6.03812e+08\n",
      "\u001b[2m\u001b[36m(pid=4237)\u001b[0m basinhopping step 6: f 6.03812e+08 trial_f 7.87261e+08 accepted 0  lowest_f 6.03812e+08\n",
      "\u001b[2m\u001b[36m(pid=4313)\u001b[0m basinhopping step 2: f 8.9793e+11 trial_f 1.18624e+15 accepted 0  lowest_f 8.9793e+11\n",
      "\u001b[2m\u001b[36m(pid=4328)\u001b[0m basinhopping step 1: f 1.07324e+12 trial_f 3.73143e+16 accepted 0  lowest_f 1.07324e+12\n",
      "\u001b[2m\u001b[36m(pid=4382)\u001b[0m basinhopping step 1: f 4.97346e+09 trial_f 2.93268e+12 accepted 0  lowest_f 4.97346e+09\n",
      "\u001b[2m\u001b[36m(pid=4023)\u001b[0m warning: basinhopping: local minimization failure\n",
      "\u001b[2m\u001b[36m(pid=4023)\u001b[0m basinhopping step 3: f 3.52203e+11 trial_f 5.19645e+11 accepted 0  lowest_f 3.52203e+11\n",
      "\u001b[2m\u001b[36m(pid=4313)\u001b[0m basinhopping step 3: f 8.9793e+11 trial_f 7.58088e+14 accepted 0  lowest_f 8.9793e+11\n",
      "\u001b[2m\u001b[36m(pid=4328)\u001b[0m basinhopping step 2: f 1.07324e+12 trial_f 4.63829e+16 accepted 0  lowest_f 1.07324e+12\n",
      "\u001b[2m\u001b[36m(pid=4023)\u001b[0m basinhopping step 4: f 3.52203e+11 trial_f 9.01093e+14 accepted 0  lowest_f 3.52203e+11\n",
      "\u001b[2m\u001b[36m(pid=4382)\u001b[0m basinhopping step 2: f 4.97346e+09 trial_f 1.49137e+13 accepted 0  lowest_f 4.97346e+09\n",
      "\u001b[2m\u001b[36m(pid=4237)\u001b[0m warning: basinhopping: local minimization failure\n",
      "\u001b[2m\u001b[36m(pid=4237)\u001b[0m basinhopping step 7: f 6.03812e+08 trial_f 7.71961e+08 accepted 0  lowest_f 6.03812e+08\n",
      "\u001b[2m\u001b[36m(pid=4382)\u001b[0m basinhopping step 3: f 4.97346e+09 trial_f 5.56332e+09 accepted 0  lowest_f 4.97346e+09\n",
      "\u001b[2m\u001b[36m(pid=4237)\u001b[0m basinhopping step 8: f 6.03812e+08 trial_f 7.87261e+08 accepted 0  lowest_f 6.03812e+08\n",
      "\u001b[2m\u001b[36m(pid=4382)\u001b[0m warning: basinhopping: local minimization failure\n",
      "\u001b[2m\u001b[36m(pid=4382)\u001b[0m basinhopping step 4: f 4.97346e+09 trial_f 5.76671e+09 accepted 0  lowest_f 4.97346e+09\n",
      "\u001b[2m\u001b[36m(pid=4313)\u001b[0m basinhopping step 4: f 2.91965e+11 trial_f 2.91965e+11 accepted 1  lowest_f 2.91965e+11\n",
      "\u001b[2m\u001b[36m(pid=4313)\u001b[0m found new global minimum on step 4 with function value 2.91965e+11\n",
      "\u001b[2m\u001b[36m(pid=4237)\u001b[0m basinhopping step 9: f 6.03812e+08 trial_f 7.87262e+08 accepted 0  lowest_f 6.03812e+08\n",
      "\u001b[2m\u001b[36m(pid=4313)\u001b[0m warning: basinhopping: local minimization failure\n",
      "\u001b[2m\u001b[36m(pid=4313)\u001b[0m basinhopping step 5: f 2.91965e+11 trial_f 6.98662e+14 accepted 0  lowest_f 2.91965e+11\n",
      "\u001b[2m\u001b[36m(pid=4023)\u001b[0m basinhopping step 5: f 3.52203e+11 trial_f 1.81051e+15 accepted 0  lowest_f 3.52203e+11\n",
      "\u001b[2m\u001b[36m(pid=4237)\u001b[0m basinhopping step 10: f 6.03812e+08 trial_f 3.93145e+15 accepted 0  lowest_f 6.03812e+08\n",
      "\u001b[2m\u001b[36m(pid=4237)\u001b[0m basinhopping step 0: f 4.52175e+08\n",
      "\u001b[2m\u001b[36m(pid=4237)\u001b[0m basinhopping step 1: f 4.52175e+08 trial_f 4.52175e+08 accepted 1  lowest_f 4.52175e+08\n",
      "\u001b[2m\u001b[36m(pid=4237)\u001b[0m basinhopping step 2: f 4.52175e+08 trial_f 4.52175e+08 accepted 1  lowest_f 4.52175e+08\n"
     ]
    },
    {
     "name": "stderr",
     "output_type": "stream",
     "text": [
      "2020-10-22 10:42:46,474\tWARNING worker.py:1090 -- WARNING: 10 PYTHON workers have been started. This could be a result of using a large number of actors, or it could be a consequence of using nested tasks (see https://github.com/ray-project/ray/issues/3644) for some a discussion of workarounds.\n"
     ]
    },
    {
     "name": "stdout",
     "output_type": "stream",
     "text": [
      "\u001b[2m\u001b[36m(pid=4023)\u001b[0m warning: basinhopping: local minimization failure\n",
      "\u001b[2m\u001b[36m(pid=4023)\u001b[0m basinhopping step 6: f 3.52203e+11 trial_f 6.16843e+11 accepted 0  lowest_f 3.52203e+11\n",
      "\u001b[2m\u001b[36m(pid=4382)\u001b[0m basinhopping step 5: f 4.97346e+09 trial_f 8.47963e+12 accepted 0  lowest_f 4.97346e+09\n",
      "\u001b[2m\u001b[36m(pid=4313)\u001b[0m basinhopping step 6: f 2.91965e+11 trial_f 9.83055e+14 accepted 0  lowest_f 2.91965e+11\n",
      "\u001b[2m\u001b[36m(pid=4328)\u001b[0m basinhopping step 3: f 1.07324e+12 trial_f 3.06051e+15 accepted 0  lowest_f 1.07324e+12\n",
      "\u001b[2m\u001b[36m(pid=4382)\u001b[0m warning: basinhopping: local minimization failure\n",
      "\u001b[2m\u001b[36m(pid=4382)\u001b[0m basinhopping step 6: f 4.97346e+09 trial_f 5.85697e+09 accepted 0  lowest_f 4.97346e+09\n",
      "\u001b[2m\u001b[36m(pid=4023)\u001b[0m basinhopping step 7: f 3.52203e+11 trial_f 2.85458e+15 accepted 0  lowest_f 3.52203e+11\n",
      "\u001b[2m\u001b[36m(pid=4439)\u001b[0m warning: basinhopping: local minimization failure\n",
      "\u001b[2m\u001b[36m(pid=4439)\u001b[0m basinhopping step 0: f 5.9948e+08\n",
      "\u001b[2m\u001b[36m(pid=4382)\u001b[0m basinhopping step 7: f 4.97346e+09 trial_f 4.97346e+09 accepted 1  lowest_f 4.97346e+09\n",
      "\u001b[2m\u001b[36m(pid=4328)\u001b[0m basinhopping step 4: f 1.07324e+12 trial_f 1.0734e+12 accepted 0  lowest_f 1.07324e+12\n",
      "\u001b[2m\u001b[36m(pid=4439)\u001b[0m warning: basinhopping: local minimization failure\n",
      "\u001b[2m\u001b[36m(pid=4439)\u001b[0m basinhopping step 1: f 5.9948e+08 trial_f 7.09954e+08 accepted 0  lowest_f 5.9948e+08\n",
      "\u001b[2m\u001b[36m(pid=4382)\u001b[0m basinhopping step 8: f 4.97346e+09 trial_f 3.6061e+13 accepted 0  lowest_f 4.97346e+09\n",
      "\u001b[2m\u001b[36m(pid=4328)\u001b[0m basinhopping step 5: f 1.07324e+12 trial_f 1.07324e+12 accepted 1  lowest_f 1.07324e+12\n",
      "\u001b[2m\u001b[36m(pid=4328)\u001b[0m found new global minimum on step 5 with function value 1.07324e+12\n",
      "\u001b[2m\u001b[36m(pid=4382)\u001b[0m basinhopping step 9: f 4.97346e+09 trial_f 4.66906e+13 accepted 0  lowest_f 4.97346e+09\n",
      "\u001b[2m\u001b[36m(pid=4439)\u001b[0m basinhopping step 2: f 5.1638e+08 trial_f 5.1638e+08 accepted 1  lowest_f 5.1638e+08\n",
      "\u001b[2m\u001b[36m(pid=4439)\u001b[0m found new global minimum on step 2 with function value 5.1638e+08\n",
      "\u001b[2m\u001b[36m(pid=4023)\u001b[0m warning: basinhopping: local minimization failure\n",
      "\u001b[2m\u001b[36m(pid=4023)\u001b[0m basinhopping step 8: f 3.52203e+11 trial_f 3.52203e+11 accepted 1  lowest_f 3.52203e+11\n",
      "\u001b[2m\u001b[36m(pid=4023)\u001b[0m basinhopping step 9: f 3.52203e+11 trial_f 2.72585e+15 accepted 0  lowest_f 3.52203e+11\n",
      "\u001b[2m\u001b[36m(pid=4328)\u001b[0m basinhopping step 6: f 1.07324e+12 trial_f 4.63743e+16 accepted 0  lowest_f 1.07324e+12\n",
      "\u001b[2m\u001b[36m(pid=4382)\u001b[0m basinhopping step 10: f 4.97346e+09 trial_f 2.93221e+12 accepted 0  lowest_f 4.97346e+09\n",
      "\u001b[2m\u001b[36m(pid=4382)\u001b[0m basinhopping step 0: f 4.28324e+09\n",
      "\u001b[2m\u001b[36m(pid=4382)\u001b[0m basinhopping step 1: f 4.28324e+09 trial_f 4.28324e+09 accepted 1  lowest_f 4.28324e+09\n",
      "\u001b[2m\u001b[36m(pid=4382)\u001b[0m basinhopping step 2: f 4.28324e+09 trial_f 4.28324e+09 accepted 1  lowest_f 4.28324e+09\n"
     ]
    },
    {
     "name": "stderr",
     "output_type": "stream",
     "text": [
      "2020-10-22 10:43:30,733\tWARNING worker.py:1090 -- WARNING: 10 PYTHON workers have been started. This could be a result of using a large number of actors, or it could be a consequence of using nested tasks (see https://github.com/ray-project/ray/issues/3644) for some a discussion of workarounds.\n"
     ]
    },
    {
     "name": "stdout",
     "output_type": "stream",
     "text": [
      "\u001b[2m\u001b[36m(pid=4486)\u001b[0m basinhopping step 0: f 5.93297e+09\n",
      "\u001b[2m\u001b[36m(pid=4023)\u001b[0m basinhopping step 10: f 3.52203e+11 trial_f 4.6163e+11 accepted 0  lowest_f 3.52203e+11\n",
      "\u001b[2m\u001b[36m(pid=4023)\u001b[0m basinhopping step 0: f 3.49678e+11\n",
      "\u001b[2m\u001b[36m(pid=4023)\u001b[0m basinhopping step 1: f 3.47699e+11 trial_f 3.47699e+11 accepted 1  lowest_f 3.47699e+11\n",
      "\u001b[2m\u001b[36m(pid=4023)\u001b[0m found new global minimum on step 1 with function value 3.47699e+11\n",
      "\u001b[2m\u001b[36m(pid=4023)\u001b[0m basinhopping step 2: f 3.4678e+11 trial_f 3.4678e+11 accepted 1  lowest_f 3.4678e+11\n",
      "\u001b[2m\u001b[36m(pid=4023)\u001b[0m found new global minimum on step 2 with function value 3.4678e+11\n"
     ]
    },
    {
     "name": "stderr",
     "output_type": "stream",
     "text": [
      "2020-10-22 10:43:47,671\tWARNING worker.py:1090 -- WARNING: 10 PYTHON workers have been started. This could be a result of using a large number of actors, or it could be a consequence of using nested tasks (see https://github.com/ray-project/ray/issues/3644) for some a discussion of workarounds.\n"
     ]
    },
    {
     "name": "stdout",
     "output_type": "stream",
     "text": [
      "\u001b[2m\u001b[36m(pid=4486)\u001b[0m basinhopping step 1: f 5.93297e+09 trial_f 1.13571e+14 accepted 0  lowest_f 5.93297e+09\n",
      "\u001b[2m\u001b[36m(pid=4328)\u001b[0m basinhopping step 7: f 1.07324e+12 trial_f 4.64052e+16 accepted 0  lowest_f 1.07324e+12\n",
      "\u001b[2m\u001b[36m(pid=4439)\u001b[0m warning: basinhopping: local minimization failure\n",
      "\u001b[2m\u001b[36m(pid=4439)\u001b[0m basinhopping step 3: f 5.1638e+08 trial_f 8.94281e+08 accepted 0  lowest_f 5.1638e+08\n",
      "\u001b[2m\u001b[36m(pid=4328)\u001b[0m basinhopping step 8: f 1.07324e+12 trial_f 1.07324e+12 accepted 0  lowest_f 1.07324e+12\n",
      "\u001b[2m\u001b[36m(pid=4439)\u001b[0m basinhopping step 4: f 5.1638e+08 trial_f 1.10381e+09 accepted 0  lowest_f 5.1638e+08\n",
      "\u001b[2m\u001b[36m(pid=4580)\u001b[0m basinhopping step 0: f 6.11054e+11\n",
      "\u001b[2m\u001b[36m(pid=4439)\u001b[0m warning: basinhopping: local minimization failure\n",
      "\u001b[2m\u001b[36m(pid=4439)\u001b[0m basinhopping step 5: f 5.1638e+08 trial_f 1.09959e+09 accepted 0  lowest_f 5.1638e+08\n",
      "\u001b[2m\u001b[36m(pid=4580)\u001b[0m basinhopping step 1: f 6.11054e+11 trial_f 2.99788e+14 accepted 0  lowest_f 6.11054e+11\n",
      "\u001b[2m\u001b[36m(pid=4486)\u001b[0m warning: basinhopping: local minimization failure\n",
      "\u001b[2m\u001b[36m(pid=4486)\u001b[0m basinhopping step 2: f 5.91934e+09 trial_f 5.91934e+09 accepted 1  lowest_f 5.91934e+09\n",
      "\u001b[2m\u001b[36m(pid=4486)\u001b[0m found new global minimum on step 2 with function value 5.91934e+09\n",
      "\u001b[2m\u001b[36m(pid=4486)\u001b[0m basinhopping step 3: f 5.91934e+09 trial_f 6.05221e+09 accepted 0  lowest_f 5.91934e+09\n",
      "\u001b[2m\u001b[36m(pid=4328)\u001b[0m basinhopping step 9: f 1.07324e+12 trial_f 1.07324e+12 accepted 0  lowest_f 1.07324e+12\n",
      "\u001b[2m\u001b[36m(pid=4486)\u001b[0m basinhopping step 4: f 5.91934e+09 trial_f 3.12191e+14 accepted 0  lowest_f 5.91934e+09\n",
      "\u001b[2m\u001b[36m(pid=4328)\u001b[0m basinhopping step 10: f 1.07324e+12 trial_f 1.07332e+12 accepted 0  lowest_f 1.07324e+12\n",
      "\u001b[2m\u001b[36m(pid=4328)\u001b[0m basinhopping step 0: f 1.07298e+12\n",
      "\u001b[2m\u001b[36m(pid=4328)\u001b[0m basinhopping step 1: f 1.07298e+12 trial_f 1.07298e+12 accepted 1  lowest_f 1.07298e+12\n",
      "\u001b[2m\u001b[36m(pid=4328)\u001b[0m basinhopping step 2: f 1.07298e+12 trial_f 1.073e+12 accepted 0  lowest_f 1.07298e+12\n"
     ]
    },
    {
     "name": "stderr",
     "output_type": "stream",
     "text": [
      "2020-10-22 10:44:22,005\tWARNING worker.py:1090 -- WARNING: 10 PYTHON workers have been started. This could be a result of using a large number of actors, or it could be a consequence of using nested tasks (see https://github.com/ray-project/ray/issues/3644) for some a discussion of workarounds.\n"
     ]
    },
    {
     "name": "stdout",
     "output_type": "stream",
     "text": [
      "\u001b[2m\u001b[36m(pid=4611)\u001b[0m basinhopping step 0: f 4.90107e+14\n",
      "\u001b[2m\u001b[36m(pid=4611)\u001b[0m basinhopping step 1: f 2.26588e+12 trial_f 2.26588e+12 accepted 1  lowest_f 2.26588e+12\n",
      "\u001b[2m\u001b[36m(pid=4611)\u001b[0m found new global minimum on step 1 with function value 2.26588e+12\n",
      "\u001b[2m\u001b[36m(pid=4580)\u001b[0m basinhopping step 2: f 3.74316e+11 trial_f 3.74316e+11 accepted 1  lowest_f 3.74316e+11\n",
      "\u001b[2m\u001b[36m(pid=4580)\u001b[0m found new global minimum on step 2 with function value 3.74316e+11\n",
      "\u001b[2m\u001b[36m(pid=4486)\u001b[0m basinhopping step 5: f 2.89951e+09 trial_f 2.89951e+09 accepted 1  lowest_f 2.89951e+09\n",
      "\u001b[2m\u001b[36m(pid=4486)\u001b[0m found new global minimum on step 5 with function value 2.89951e+09\n",
      "\u001b[2m\u001b[36m(pid=4439)\u001b[0m basinhopping step 6: f 5.1638e+08 trial_f 1.10381e+09 accepted 0  lowest_f 5.1638e+08\n",
      "\u001b[2m\u001b[36m(pid=4313)\u001b[0m basinhopping step 7: f 2.91965e+11 trial_f 5.09959e+11 accepted 0  lowest_f 2.91965e+11\n",
      "\u001b[2m\u001b[36m(pid=4439)\u001b[0m basinhopping step 7: f 5.1638e+08 trial_f 3.35997e+15 accepted 0  lowest_f 5.1638e+08\n",
      "\u001b[2m\u001b[36m(pid=4313)\u001b[0m warning: basinhopping: local minimization failure\n",
      "\u001b[2m\u001b[36m(pid=4313)\u001b[0m basinhopping step 8: f 2.91965e+11 trial_f 8.97423e+11 accepted 0  lowest_f 2.91965e+11\n",
      "\u001b[2m\u001b[36m(pid=4580)\u001b[0m basinhopping step 3: f 3.74316e+11 trial_f 2.52666e+15 accepted 0  lowest_f 3.74316e+11\n",
      "\u001b[2m\u001b[36m(pid=4486)\u001b[0m basinhopping step 6: f 2.89951e+09 trial_f 2.94237e+13 accepted 0  lowest_f 2.89951e+09\n",
      "\u001b[2m\u001b[36m(pid=4580)\u001b[0m basinhopping step 4: f 3.74316e+11 trial_f 1.20251e+12 accepted 0  lowest_f 3.74316e+11\n",
      "\u001b[2m\u001b[36m(pid=4439)\u001b[0m basinhopping step 8: f 5.1638e+08 trial_f 1.10381e+09 accepted 0  lowest_f 5.1638e+08\n",
      "\u001b[2m\u001b[36m(pid=4580)\u001b[0m basinhopping step 5: f 3.74316e+11 trial_f 2.88371e+15 accepted 0  lowest_f 3.74316e+11\n",
      "\u001b[2m\u001b[36m(pid=4611)\u001b[0m warning: basinhopping: local minimization failure\n",
      "\u001b[2m\u001b[36m(pid=4611)\u001b[0m basinhopping step 2: f 2.26588e+12 trial_f 2.26682e+12 accepted 0  lowest_f 2.26588e+12\n",
      "\u001b[2m\u001b[36m(pid=4439)\u001b[0m basinhopping step 9: f 5.1638e+08 trial_f 1.1019e+09 accepted 0  lowest_f 5.1638e+08\n",
      "\u001b[2m\u001b[36m(pid=4580)\u001b[0m basinhopping step 6: f 3.74316e+11 trial_f 2.87587e+15 accepted 0  lowest_f 3.74316e+11\n",
      "\u001b[2m\u001b[36m(pid=4486)\u001b[0m basinhopping step 7: f 2.89951e+09 trial_f 2.16655e+13 accepted 0  lowest_f 2.89951e+09\n",
      "\u001b[2m\u001b[36m(pid=4313)\u001b[0m basinhopping step 9: f 2.91965e+11 trial_f 3.99722e+14 accepted 0  lowest_f 2.91965e+11\n",
      "\u001b[2m\u001b[36m(pid=4611)\u001b[0m basinhopping step 3: f 2.26588e+12 trial_f 8.65839e+15 accepted 0  lowest_f 2.26588e+12\n",
      "\u001b[2m\u001b[36m(pid=4580)\u001b[0m basinhopping step 7: f 3.74316e+11 trial_f 2.56279e+15 accepted 0  lowest_f 3.74316e+11\n",
      "\u001b[2m\u001b[36m(pid=4611)\u001b[0m warning: basinhopping: local minimization failure\n",
      "\u001b[2m\u001b[36m(pid=4611)\u001b[0m basinhopping step 4: f 2.26588e+12 trial_f 2.26682e+12 accepted 0  lowest_f 2.26588e+12\n",
      "\u001b[2m\u001b[36m(pid=4486)\u001b[0m warning: basinhopping: local minimization failure\n",
      "\u001b[2m\u001b[36m(pid=4486)\u001b[0m basinhopping step 8: f 2.89951e+09 trial_f 5.14512e+14 accepted 0  lowest_f 2.89951e+09\n",
      "\u001b[2m\u001b[36m(pid=4439)\u001b[0m basinhopping step 10: f 5.1638e+08 trial_f 1.10381e+09 accepted 0  lowest_f 5.1638e+08\n",
      "\u001b[2m\u001b[36m(pid=4439)\u001b[0m basinhopping step 0: f 5.14311e+08\n",
      "\u001b[2m\u001b[36m(pid=4439)\u001b[0m basinhopping step 1: f 5.14311e+08 trial_f 5.14484e+08 accepted 0  lowest_f 5.14311e+08\n",
      "\u001b[2m\u001b[36m(pid=4439)\u001b[0m basinhopping step 2: f 5.14021e+08 trial_f 5.14021e+08 accepted 1  lowest_f 5.14021e+08\n",
      "\u001b[2m\u001b[36m(pid=4439)\u001b[0m found new global minimum on step 2 with function value 5.14021e+08\n"
     ]
    },
    {
     "name": "stderr",
     "output_type": "stream",
     "text": [
      "2020-10-22 10:45:26,015\tWARNING worker.py:1090 -- WARNING: 10 PYTHON workers have been started. This could be a result of using a large number of actors, or it could be a consequence of using nested tasks (see https://github.com/ray-project/ray/issues/3644) for some a discussion of workarounds.\n"
     ]
    },
    {
     "name": "stdout",
     "output_type": "stream",
     "text": [
      "\u001b[2m\u001b[36m(pid=4714)\u001b[0m warning: basinhopping: local minimization failure\n",
      "\u001b[2m\u001b[36m(pid=4714)\u001b[0m basinhopping step 0: f 1.29452e+15\n",
      "\u001b[2m\u001b[36m(pid=4486)\u001b[0m basinhopping step 9: f 2.89951e+09 trial_f 1.01032e+13 accepted 0  lowest_f 2.89951e+09\n",
      "\u001b[2m\u001b[36m(pid=4486)\u001b[0m basinhopping step 10: f 2.89951e+09 trial_f 4.38459e+13 accepted 0  lowest_f 2.89951e+09\n",
      "\u001b[2m\u001b[36m(pid=4486)\u001b[0m basinhopping step 0: f 2.88227e+09\n",
      "\u001b[2m\u001b[36m(pid=4313)\u001b[0m warning: basinhopping: local minimization failure\n",
      "\u001b[2m\u001b[36m(pid=4313)\u001b[0m basinhopping step 10: f 2.91965e+11 trial_f 7.12557e+11 accepted 0  lowest_f 2.91965e+11\n",
      "\u001b[2m\u001b[36m(pid=4313)\u001b[0m basinhopping step 0: f 2.91221e+11\n",
      "\u001b[2m\u001b[36m(pid=4486)\u001b[0m basinhopping step 1: f 2.88227e+09 trial_f 2.90807e+09 accepted 0  lowest_f 2.88227e+09\n",
      "\u001b[2m\u001b[36m(pid=4313)\u001b[0m basinhopping step 1: f 2.91157e+11 trial_f 2.91157e+11 accepted 1  lowest_f 2.91157e+11\n",
      "\u001b[2m\u001b[36m(pid=4313)\u001b[0m found new global minimum on step 1 with function value 2.91157e+11\n",
      "\u001b[2m\u001b[36m(pid=4313)\u001b[0m basinhopping step 2: f 2.91155e+11 trial_f 2.91155e+11 accepted 1  lowest_f 2.91155e+11\n",
      "\u001b[2m\u001b[36m(pid=4313)\u001b[0m found new global minimum on step 2 with function value 2.91155e+11\n",
      "\u001b[2m\u001b[36m(pid=4580)\u001b[0m basinhopping step 8: f 3.74316e+11 trial_f 2.92228e+15 accepted 0  lowest_f 3.74316e+11\n"
     ]
    },
    {
     "name": "stderr",
     "output_type": "stream",
     "text": [
      "2020-10-22 10:45:38,341\tWARNING worker.py:1090 -- WARNING: 10 PYTHON workers have been started. This could be a result of using a large number of actors, or it could be a consequence of using nested tasks (see https://github.com/ray-project/ray/issues/3644) for some a discussion of workarounds.\n"
     ]
    },
    {
     "name": "stdout",
     "output_type": "stream",
     "text": [
      "\u001b[2m\u001b[36m(pid=4580)\u001b[0m basinhopping step 9: f 3.74316e+11 trial_f 4.85012e+15 accepted 0  lowest_f 3.74316e+11\n",
      "\u001b[2m\u001b[36m(pid=4486)\u001b[0m basinhopping step 2: f 2.88227e+09 trial_f 2.88244e+09 accepted 0  lowest_f 2.88227e+09\n"
     ]
    },
    {
     "name": "stderr",
     "output_type": "stream",
     "text": [
      "2020-10-22 10:45:44,101\tWARNING worker.py:1090 -- WARNING: 10 PYTHON workers have been started. This could be a result of using a large number of actors, or it could be a consequence of using nested tasks (see https://github.com/ray-project/ray/issues/3644) for some a discussion of workarounds.\n"
     ]
    },
    {
     "name": "stdout",
     "output_type": "stream",
     "text": [
      "\u001b[2m\u001b[36m(pid=4611)\u001b[0m basinhopping step 5: f 2.26588e+12 trial_f 4.90107e+14 accepted 0  lowest_f 2.26588e+12\n",
      "\u001b[2m\u001b[36m(pid=4714)\u001b[0m basinhopping step 1: f 1.29452e+15 trial_f 6.70207e+15 accepted 0  lowest_f 1.29452e+15\n",
      "\u001b[2m\u001b[36m(pid=4750)\u001b[0m basinhopping step 0: f 5.3454e+09\n",
      "\u001b[2m\u001b[36m(pid=4580)\u001b[0m basinhopping step 10: f 3.74316e+11 trial_f 2.54799e+15 accepted 0  lowest_f 3.74316e+11\n",
      "\u001b[2m\u001b[36m(pid=4580)\u001b[0m basinhopping step 0: f 3.71802e+11\n",
      "\u001b[2m\u001b[36m(pid=4750)\u001b[0m basinhopping step 1: f 5.3454e+09 trial_f 2.80427e+13 accepted 0  lowest_f 5.3454e+09\n",
      "\u001b[2m\u001b[36m(pid=4580)\u001b[0m basinhopping step 1: f 3.71802e+11 trial_f 3.7302e+11 accepted 0  lowest_f 3.71802e+11\n",
      "\u001b[2m\u001b[36m(pid=4580)\u001b[0m basinhopping step 2: f 3.69891e+11 trial_f 3.69891e+11 accepted 1  lowest_f 3.69891e+11\n",
      "\u001b[2m\u001b[36m(pid=4580)\u001b[0m found new global minimum on step 2 with function value 3.69891e+11\n",
      "\u001b[2m\u001b[36m(pid=4714)\u001b[0m warning: basinhopping: local minimization failure\n",
      "\u001b[2m\u001b[36m(pid=4714)\u001b[0m basinhopping step 2: f 4.71771e+08 trial_f 4.71771e+08 accepted 1  lowest_f 4.71771e+08\n",
      "\u001b[2m\u001b[36m(pid=4714)\u001b[0m found new global minimum on step 2 with function value 4.71771e+08\n"
     ]
    },
    {
     "name": "stderr",
     "output_type": "stream",
     "text": [
      "2020-10-22 10:46:00,118\tWARNING worker.py:1090 -- WARNING: 10 PYTHON workers have been started. This could be a result of using a large number of actors, or it could be a consequence of using nested tasks (see https://github.com/ray-project/ray/issues/3644) for some a discussion of workarounds.\n"
     ]
    },
    {
     "name": "stdout",
     "output_type": "stream",
     "text": [
      "\u001b[2m\u001b[36m(pid=4732)\u001b[0m basinhopping step 0: f 1.01071e+14\n",
      "\u001b[2m\u001b[36m(pid=4750)\u001b[0m basinhopping step 2: f 5.3454e+09 trial_f 7.6387e+13 accepted 0  lowest_f 5.3454e+09\n",
      "\u001b[2m\u001b[36m(pid=4714)\u001b[0m warning: basinhopping: local minimization failure\n",
      "\u001b[2m\u001b[36m(pid=4714)\u001b[0m basinhopping step 3: f 4.71771e+08 trial_f 5.22221e+08 accepted 0  lowest_f 4.71771e+08\n",
      "\u001b[2m\u001b[36m(pid=4784)\u001b[0m warning: basinhopping: local minimization failure\n",
      "\u001b[2m\u001b[36m(pid=4784)\u001b[0m basinhopping step 0: f 3.42399e+12\n",
      "\u001b[2m\u001b[36m(pid=4732)\u001b[0m basinhopping step 1: f 1.01071e+14 trial_f 5.30845e+14 accepted 0  lowest_f 1.01071e+14\n",
      "\u001b[2m\u001b[36m(pid=4714)\u001b[0m basinhopping step 4: f 4.71771e+08 trial_f 8.03374e+08 accepted 0  lowest_f 4.71771e+08\n",
      "\u001b[2m\u001b[36m(pid=4750)\u001b[0m basinhopping step 3: f 5.3454e+09 trial_f 4.53349e+12 accepted 0  lowest_f 5.3454e+09\n",
      "\u001b[2m\u001b[36m(pid=4784)\u001b[0m basinhopping step 1: f 3.42399e+12 trial_f 8.75329e+14 accepted 0  lowest_f 3.42399e+12\n",
      "\u001b[2m\u001b[36m(pid=4714)\u001b[0m basinhopping step 5: f 4.71771e+08 trial_f 9.4714e+08 accepted 0  lowest_f 4.71771e+08\n",
      "\u001b[2m\u001b[36m(pid=4714)\u001b[0m basinhopping step 6: f 4.71771e+08 trial_f 8.31373e+08 accepted 0  lowest_f 4.71771e+08\n",
      "\u001b[2m\u001b[36m(pid=4611)\u001b[0m warning: basinhopping: local minimization failure\n",
      "\u001b[2m\u001b[36m(pid=4611)\u001b[0m basinhopping step 6: f 2.26346e+12 trial_f 2.26346e+12 accepted 1  lowest_f 2.26346e+12\n",
      "\u001b[2m\u001b[36m(pid=4611)\u001b[0m found new global minimum on step 6 with function value 2.26346e+12\n",
      "\u001b[2m\u001b[36m(pid=4732)\u001b[0m basinhopping step 2: f 1.01071e+14 trial_f 1.32703e+15 accepted 0  lowest_f 1.01071e+14\n",
      "\u001b[2m\u001b[36m(pid=4714)\u001b[0m warning: basinhopping: local minimization failure\n",
      "\u001b[2m\u001b[36m(pid=4714)\u001b[0m basinhopping step 7: f 4.31224e+08 trial_f 4.31224e+08 accepted 1  lowest_f 4.31224e+08\n",
      "\u001b[2m\u001b[36m(pid=4714)\u001b[0m found new global minimum on step 7 with function value 4.31224e+08\n",
      "\u001b[2m\u001b[36m(pid=4784)\u001b[0m basinhopping step 2: f 3.42399e+12 trial_f 9.99451e+13 accepted 0  lowest_f 3.42399e+12\n",
      "\u001b[2m\u001b[36m(pid=4750)\u001b[0m basinhopping step 4: f 5.17423e+09 trial_f 5.17423e+09 accepted 1  lowest_f 5.17423e+09\n",
      "\u001b[2m\u001b[36m(pid=4750)\u001b[0m found new global minimum on step 4 with function value 5.17423e+09\n",
      "\u001b[2m\u001b[36m(pid=4611)\u001b[0m warning: basinhopping: local minimization failure\n",
      "\u001b[2m\u001b[36m(pid=4611)\u001b[0m basinhopping step 7: f 3.91948e+11 trial_f 3.91948e+11 accepted 1  lowest_f 3.91948e+11\n",
      "\u001b[2m\u001b[36m(pid=4611)\u001b[0m found new global minimum on step 7 with function value 3.91948e+11\n",
      "\u001b[2m\u001b[36m(pid=4750)\u001b[0m basinhopping step 5: f 5.17423e+09 trial_f 7.58519e+09 accepted 0  lowest_f 5.17423e+09\n",
      "\u001b[2m\u001b[36m(pid=4750)\u001b[0m warning: basinhopping: local minimization failure\n",
      "\u001b[2m\u001b[36m(pid=4750)\u001b[0m basinhopping step 6: f 5.17423e+09 trial_f 1.02286e+10 accepted 0  lowest_f 5.17423e+09\n",
      "\u001b[2m\u001b[36m(pid=4611)\u001b[0m basinhopping step 8: f 3.91948e+11 trial_f 9.49618e+14 accepted 0  lowest_f 3.91948e+11\n",
      "\u001b[2m\u001b[36m(pid=4714)\u001b[0m warning: basinhopping: local minimization failure\n",
      "\u001b[2m\u001b[36m(pid=4714)\u001b[0m basinhopping step 8: f 4.31224e+08 trial_f 5.86711e+08 accepted 0  lowest_f 4.31224e+08\n",
      "\u001b[2m\u001b[36m(pid=4611)\u001b[0m basinhopping step 9: f 3.91948e+11 trial_f 2.10445e+12 accepted 0  lowest_f 3.91948e+11\n",
      "\u001b[2m\u001b[36m(pid=4784)\u001b[0m basinhopping step 3: f 3.42399e+12 trial_f 1.32397e+14 accepted 0  lowest_f 3.42399e+12\n",
      "\u001b[2m\u001b[36m(pid=4784)\u001b[0m basinhopping step 4: f 3.04107e+11 trial_f 3.04107e+11 accepted 1  lowest_f 3.04107e+11\n",
      "\u001b[2m\u001b[36m(pid=4784)\u001b[0m found new global minimum on step 4 with function value 3.04107e+11\n",
      "\u001b[2m\u001b[36m(pid=4784)\u001b[0m basinhopping step 5: f 3.04107e+11 trial_f 3.43178e+14 accepted 0  lowest_f 3.04107e+11\n",
      "\u001b[2m\u001b[36m(pid=4732)\u001b[0m basinhopping step 3: f 3.25178e+11 trial_f 3.25178e+11 accepted 1  lowest_f 3.25178e+11\n",
      "\u001b[2m\u001b[36m(pid=4732)\u001b[0m found new global minimum on step 3 with function value 3.25178e+11\n",
      "\u001b[2m\u001b[36m(pid=4750)\u001b[0m basinhopping step 7: f 5.17423e+09 trial_f 7.8762e+09 accepted 0  lowest_f 5.17423e+09\n",
      "\u001b[2m\u001b[36m(pid=4714)\u001b[0m basinhopping step 9: f 4.31224e+08 trial_f 9.42919e+08 accepted 0  lowest_f 4.31224e+08\n",
      "\u001b[2m\u001b[36m(pid=4714)\u001b[0m basinhopping step 10: f 4.31224e+08 trial_f 8.37203e+15 accepted 0  lowest_f 4.31224e+08\n",
      "\u001b[2m\u001b[36m(pid=4714)\u001b[0m basinhopping step 0: f 4.30768e+08\n",
      "\u001b[2m\u001b[36m(pid=4714)\u001b[0m basinhopping step 1: f 4.30768e+08 trial_f 4.30897e+08 accepted 0  lowest_f 4.30768e+08\n",
      "\u001b[2m\u001b[36m(pid=4732)\u001b[0m warning: basinhopping: local minimization failure\n",
      "\u001b[2m\u001b[36m(pid=4732)\u001b[0m basinhopping step 4: f 3.25178e+11 trial_f 9.18444e+11 accepted 0  lowest_f 3.25178e+11\n",
      "\u001b[2m\u001b[36m(pid=4750)\u001b[0m basinhopping step 8: f 5.17423e+09 trial_f 2.99874e+13 accepted 0  lowest_f 5.17423e+09\n",
      "\u001b[2m\u001b[36m(pid=4714)\u001b[0m basinhopping step 2: f 4.30768e+08 trial_f 4.30852e+08 accepted 0  lowest_f 4.30768e+08\n"
     ]
    },
    {
     "name": "stderr",
     "output_type": "stream",
     "text": [
      "2020-10-22 10:47:26,901\tWARNING worker.py:1090 -- WARNING: 10 PYTHON workers have been started. This could be a result of using a large number of actors, or it could be a consequence of using nested tasks (see https://github.com/ray-project/ray/issues/3644) for some a discussion of workarounds.\n"
     ]
    },
    {
     "name": "stdout",
     "output_type": "stream",
     "text": [
      "\u001b[2m\u001b[36m(pid=4732)\u001b[0m basinhopping step 5: f 3.25178e+11 trial_f 1.2923e+15 accepted 0  lowest_f 3.25178e+11\n",
      "\u001b[2m\u001b[36m(pid=4908)\u001b[0m basinhopping step 0: f 8.24806e+08\n",
      "\u001b[2m\u001b[36m(pid=4611)\u001b[0m basinhopping step 10: f 3.91948e+11 trial_f 2.00471e+12 accepted 0  lowest_f 3.91948e+11\n",
      "\u001b[2m\u001b[36m(pid=4908)\u001b[0m basinhopping step 1: f 8.24806e+08 trial_f 1.40618e+09 accepted 0  lowest_f 8.24806e+08\n",
      "\u001b[2m\u001b[36m(pid=4611)\u001b[0m basinhopping step 0: f 3.91707e+11\n",
      "\u001b[2m\u001b[36m(pid=4784)\u001b[0m warning: basinhopping: local minimization failure\n",
      "\u001b[2m\u001b[36m(pid=4784)\u001b[0m basinhopping step 6: f 1.50443e+11 trial_f 1.50443e+11 accepted 1  lowest_f 1.50443e+11\n",
      "\u001b[2m\u001b[36m(pid=4784)\u001b[0m found new global minimum on step 6 with function value 1.50443e+11\n",
      "\u001b[2m\u001b[36m(pid=4611)\u001b[0m basinhopping step 1: f 3.91418e+11 trial_f 3.91418e+11 accepted 1  lowest_f 3.91418e+11\n",
      "\u001b[2m\u001b[36m(pid=4611)\u001b[0m found new global minimum on step 1 with function value 3.91418e+11\n",
      "\u001b[2m\u001b[36m(pid=4611)\u001b[0m basinhopping step 2: f 3.91418e+11 trial_f 3.91623e+11 accepted 0  lowest_f 3.91418e+11\n"
     ]
    },
    {
     "name": "stderr",
     "output_type": "stream",
     "text": [
      "2020-10-22 10:47:43,240\tWARNING worker.py:1090 -- WARNING: 10 PYTHON workers have been started. This could be a result of using a large number of actors, or it could be a consequence of using nested tasks (see https://github.com/ray-project/ray/issues/3644) for some a discussion of workarounds.\n"
     ]
    },
    {
     "name": "stdout",
     "output_type": "stream",
     "text": [
      "\u001b[2m\u001b[36m(pid=4784)\u001b[0m basinhopping step 7: f 1.50443e+11 trial_f 9.35112e+14 accepted 0  lowest_f 1.50443e+11\n",
      "\u001b[2m\u001b[36m(pid=4750)\u001b[0m basinhopping step 9: f 5.17423e+09 trial_f 2.35004e+12 accepted 0  lowest_f 5.17423e+09\n",
      "\u001b[2m\u001b[36m(pid=4732)\u001b[0m basinhopping step 6: f 3.25178e+11 trial_f 4.28717e+11 accepted 0  lowest_f 3.25178e+11\n",
      "\u001b[2m\u001b[36m(pid=4784)\u001b[0m basinhopping step 8: f 1.50443e+11 trial_f 3.43427e+14 accepted 0  lowest_f 1.50443e+11\n",
      "\u001b[2m\u001b[36m(pid=4936)\u001b[0m basinhopping step 0: f 2.59216e+10\n",
      "\u001b[2m\u001b[36m(pid=4750)\u001b[0m warning: basinhopping: local minimization failure\n",
      "\u001b[2m\u001b[36m(pid=4750)\u001b[0m basinhopping step 10: f 5.17423e+09 trial_f 5.51416e+09 accepted 0  lowest_f 5.17423e+09\n",
      "\u001b[2m\u001b[36m(pid=4750)\u001b[0m basinhopping step 0: f 5.10985e+09\n",
      "\u001b[2m\u001b[36m(pid=4750)\u001b[0m basinhopping step 1: f 5.10985e+09 trial_f 5.1396e+09 accepted 0  lowest_f 5.10985e+09\n",
      "\u001b[2m\u001b[36m(pid=4750)\u001b[0m basinhopping step 2: f 5.0895e+09 trial_f 5.0895e+09 accepted 1  lowest_f 5.0895e+09\n",
      "\u001b[2m\u001b[36m(pid=4750)\u001b[0m found new global minimum on step 2 with function value 5.0895e+09\n"
     ]
    },
    {
     "name": "stderr",
     "output_type": "stream",
     "text": [
      "2020-10-22 10:48:00,484\tWARNING worker.py:1090 -- WARNING: 10 PYTHON workers have been started. This could be a result of using a large number of actors, or it could be a consequence of using nested tasks (see https://github.com/ray-project/ray/issues/3644) for some a discussion of workarounds.\n"
     ]
    },
    {
     "name": "stdout",
     "output_type": "stream",
     "text": [
      "\u001b[2m\u001b[36m(pid=4784)\u001b[0m warning: basinhopping: local minimization failure\n",
      "\u001b[2m\u001b[36m(pid=4784)\u001b[0m basinhopping step 9: f 1.50443e+11 trial_f 3.04059e+11 accepted 0  lowest_f 1.50443e+11\n",
      "\u001b[2m\u001b[36m(pid=4732)\u001b[0m basinhopping step 7: f 3.25178e+11 trial_f 1.43695e+15 accepted 0  lowest_f 3.25178e+11\n",
      "\u001b[2m\u001b[36m(pid=5005)\u001b[0m basinhopping step 0: f 2.44705e+09\n",
      "\u001b[2m\u001b[36m(pid=4732)\u001b[0m warning: basinhopping: local minimization failure\n",
      "\u001b[2m\u001b[36m(pid=4732)\u001b[0m basinhopping step 8: f 3.02648e+11 trial_f 3.02648e+11 accepted 1  lowest_f 3.02648e+11\n",
      "\u001b[2m\u001b[36m(pid=4732)\u001b[0m found new global minimum on step 8 with function value 3.02648e+11\n",
      "\u001b[2m\u001b[36m(pid=5005)\u001b[0m basinhopping step 1: f 2.44705e+09 trial_f 3.96794e+09 accepted 0  lowest_f 2.44705e+09\n",
      "\u001b[2m\u001b[36m(pid=4908)\u001b[0m basinhopping step 2: f 8.24806e+08 trial_f 3.52235e+15 accepted 0  lowest_f 8.24806e+08\n",
      "\u001b[2m\u001b[36m(pid=4732)\u001b[0m basinhopping step 9: f 3.02648e+11 trial_f 9.70782e+11 accepted 0  lowest_f 3.02648e+11\n",
      "\u001b[2m\u001b[36m(pid=4908)\u001b[0m warning: basinhopping: local minimization failure\n",
      "\u001b[2m\u001b[36m(pid=4908)\u001b[0m basinhopping step 3: f 8.24806e+08 trial_f 1.40972e+09 accepted 0  lowest_f 8.24806e+08\n",
      "\u001b[2m\u001b[36m(pid=4936)\u001b[0m basinhopping step 1: f 2.59216e+10 trial_f 6.9775e+11 accepted 0  lowest_f 2.59216e+10\n",
      "\u001b[2m\u001b[36m(pid=4732)\u001b[0m warning: basinhopping: local minimization failure\n",
      "\u001b[2m\u001b[36m(pid=4732)\u001b[0m basinhopping step 10: f 3.02648e+11 trial_f 5.39955e+14 accepted 0  lowest_f 3.02648e+11\n",
      "\u001b[2m\u001b[36m(pid=4732)\u001b[0m basinhopping step 0: f 9.71585e+11\n",
      "\u001b[2m\u001b[36m(pid=4732)\u001b[0m basinhopping step 1: f 9.71585e+11 trial_f 9.71585e+11 accepted 1  lowest_f 9.71585e+11\n",
      "\u001b[2m\u001b[36m(pid=4732)\u001b[0m basinhopping step 2: f 9.71585e+11 trial_f 9.71585e+11 accepted 1  lowest_f 9.71585e+11\n"
     ]
    },
    {
     "name": "stderr",
     "output_type": "stream",
     "text": [
      "2020-10-22 10:48:23,073\tWARNING worker.py:1090 -- WARNING: 10 PYTHON workers have been started. This could be a result of using a large number of actors, or it could be a consequence of using nested tasks (see https://github.com/ray-project/ray/issues/3644) for some a discussion of workarounds.\n"
     ]
    },
    {
     "name": "stdout",
     "output_type": "stream",
     "text": [
      "\u001b[2m\u001b[36m(pid=4936)\u001b[0m warning: basinhopping: local minimization failure\n",
      "\u001b[2m\u001b[36m(pid=4936)\u001b[0m basinhopping step 2: f 2.59216e+10 trial_f 2.3595e+12 accepted 0  lowest_f 2.59216e+10\n",
      "\u001b[2m\u001b[36m(pid=5005)\u001b[0m basinhopping step 2: f 2.44705e+09 trial_f 2.06636e+12 accepted 0  lowest_f 2.44705e+09\n",
      "\u001b[2m\u001b[36m(pid=4784)\u001b[0m warning: basinhopping: local minimization failure\n",
      "\u001b[2m\u001b[36m(pid=4784)\u001b[0m basinhopping step 10: f 7.60038e+10 trial_f 7.60038e+10 accepted 1  lowest_f 7.60038e+10\n",
      "\u001b[2m\u001b[36m(pid=4784)\u001b[0m found new global minimum on step 10 with function value 7.60038e+10\n",
      "\u001b[2m\u001b[36m(pid=4784)\u001b[0m basinhopping step 0: f 7.39087e+10\n",
      "\u001b[2m\u001b[36m(pid=4784)\u001b[0m basinhopping step 1: f 7.34097e+10 trial_f 7.34097e+10 accepted 1  lowest_f 7.34097e+10\n",
      "\u001b[2m\u001b[36m(pid=4784)\u001b[0m found new global minimum on step 1 with function value 7.34097e+10\n",
      "\u001b[2m\u001b[36m(pid=4784)\u001b[0m basinhopping step 2: f 7.34097e+10 trial_f 7.55684e+10 accepted 0  lowest_f 7.34097e+10\n",
      "\u001b[2m\u001b[36m(pid=5005)\u001b[0m basinhopping step 3: f 2.44705e+09 trial_f 7.87281e+11 accepted 0  lowest_f 2.44705e+09\n"
     ]
    },
    {
     "name": "stderr",
     "output_type": "stream",
     "text": [
      "2020-10-22 10:48:41,827\tWARNING worker.py:1090 -- WARNING: 10 PYTHON workers have been started. This could be a result of using a large number of actors, or it could be a consequence of using nested tasks (see https://github.com/ray-project/ray/issues/3644) for some a discussion of workarounds.\n"
     ]
    },
    {
     "name": "stdout",
     "output_type": "stream",
     "text": [
      "\u001b[2m\u001b[36m(pid=4908)\u001b[0m warning: basinhopping: local minimization failure\n",
      "\u001b[2m\u001b[36m(pid=4908)\u001b[0m basinhopping step 4: f 8.24806e+08 trial_f 1.36893e+15 accepted 0  lowest_f 8.24806e+08\n",
      "\u001b[2m\u001b[36m(pid=4908)\u001b[0m basinhopping step 5: f 8.24806e+08 trial_f 1.23002e+09 accepted 0  lowest_f 8.24806e+08\n",
      "\u001b[2m\u001b[36m(pid=5005)\u001b[0m basinhopping step 4: f 2.08956e+09 trial_f 2.08956e+09 accepted 1  lowest_f 2.08956e+09\n",
      "\u001b[2m\u001b[36m(pid=5005)\u001b[0m found new global minimum on step 4 with function value 2.08956e+09\n",
      "\u001b[2m\u001b[36m(pid=4936)\u001b[0m basinhopping step 3: f 2.59216e+10 trial_f 2.17896e+11 accepted 0  lowest_f 2.59216e+10\n",
      "\u001b[2m\u001b[36m(pid=5005)\u001b[0m basinhopping step 5: f 2.08956e+09 trial_f 3.15199e+09 accepted 0  lowest_f 2.08956e+09\n",
      "\u001b[2m\u001b[36m(pid=5060)\u001b[0m basinhopping step 0: f 3.06657e+11\n",
      "\u001b[2m\u001b[36m(pid=5005)\u001b[0m basinhopping step 6: f 2.08956e+09 trial_f 2.44709e+09 accepted 0  lowest_f 2.08956e+09\n",
      "\u001b[2m\u001b[36m(pid=4936)\u001b[0m basinhopping step 4: f 2.59216e+10 trial_f 1.30348e+14 accepted 0  lowest_f 2.59216e+10\n",
      "\u001b[2m\u001b[36m(pid=4936)\u001b[0m warning: basinhopping: local minimization failure\n",
      "\u001b[2m\u001b[36m(pid=4936)\u001b[0m basinhopping step 5: f 2.59216e+10 trial_f 2.33327e+12 accepted 0  lowest_f 2.59216e+10\n",
      "\u001b[2m\u001b[36m(pid=5060)\u001b[0m warning: basinhopping: local minimization failure\n",
      "\u001b[2m\u001b[36m(pid=5060)\u001b[0m basinhopping step 1: f 1.42987e+11 trial_f 1.42987e+11 accepted 1  lowest_f 1.42987e+11\n",
      "\u001b[2m\u001b[36m(pid=5060)\u001b[0m found new global minimum on step 1 with function value 1.42987e+11\n",
      "\u001b[2m\u001b[36m(pid=4908)\u001b[0m basinhopping step 6: f 8.24806e+08 trial_f 1.3689e+15 accepted 0  lowest_f 8.24806e+08\n",
      "\u001b[2m\u001b[36m(pid=4936)\u001b[0m warning: basinhopping: local minimization failure\n",
      "\u001b[2m\u001b[36m(pid=4936)\u001b[0m basinhopping step 6: f 2.59216e+10 trial_f 2.35951e+12 accepted 0  lowest_f 2.59216e+10\n",
      "\u001b[2m\u001b[36m(pid=5060)\u001b[0m basinhopping step 2: f 1.42987e+11 trial_f 4.32884e+12 accepted 0  lowest_f 1.42987e+11\n",
      "\u001b[2m\u001b[36m(pid=5005)\u001b[0m basinhopping step 7: f 2.08956e+09 trial_f 5.55278e+10 accepted 0  lowest_f 2.08956e+09\n",
      "\u001b[2m\u001b[36m(pid=5046)\u001b[0m basinhopping step 0: f 2.26634e+13\n",
      "\u001b[2m\u001b[36m(pid=5060)\u001b[0m basinhopping step 3: f 1.42987e+11 trial_f 1.79401e+14 accepted 0  lowest_f 1.42987e+11\n",
      "\u001b[2m\u001b[36m(pid=4908)\u001b[0m basinhopping step 7: f 8.24806e+08 trial_f 1.23004e+09 accepted 0  lowest_f 8.24806e+08\n",
      "\u001b[2m\u001b[36m(pid=5005)\u001b[0m basinhopping step 8: f 2.08956e+09 trial_f 8.37168e+11 accepted 0  lowest_f 2.08956e+09\n",
      "\u001b[2m\u001b[36m(pid=4908)\u001b[0m /home/ats4i/anaconda3/envs/geo_env/lib/python3.6/site-packages/scipy/integrate/odepack.py:248: ODEintWarning: Repeated error test failures (internal error). Run with full_output = 1 to get quantitative information.\n",
      "\u001b[2m\u001b[36m(pid=4908)\u001b[0m   warnings.warn(warning_msg, ODEintWarning)\n",
      "\u001b[2m\u001b[36m(pid=4908)\u001b[0m warning: basinhopping: local minimization failure\n",
      "\u001b[2m\u001b[36m(pid=4908)\u001b[0m basinhopping step 8: f 8.24806e+08 trial_f 1.36893e+15 accepted 0  lowest_f 8.24806e+08\n",
      "\u001b[2m\u001b[36m(pid=5005)\u001b[0m basinhopping step 9: f 2.08956e+09 trial_f 8.34801e+11 accepted 0  lowest_f 2.08956e+09\n",
      "\u001b[2m\u001b[36m(pid=5060)\u001b[0m warning: basinhopping: local minimization failure\n",
      "\u001b[2m\u001b[36m(pid=5060)\u001b[0m basinhopping step 4: f 1.42987e+11 trial_f 1.82647e+11 accepted 0  lowest_f 1.42987e+11\n",
      "\u001b[2m\u001b[36m(pid=5060)\u001b[0m basinhopping step 5: f 1.42987e+11 trial_f 6.28116e+11 accepted 0  lowest_f 1.42987e+11\n",
      "\u001b[2m\u001b[36m(pid=5060)\u001b[0m basinhopping step 6: f 1.42987e+11 trial_f 6.28095e+11 accepted 0  lowest_f 1.42987e+11\n",
      "\u001b[2m\u001b[36m(pid=5046)\u001b[0m basinhopping step 1: f 2.26634e+13 trial_f 1.81809e+14 accepted 0  lowest_f 2.26634e+13\n",
      "\u001b[2m\u001b[36m(pid=5060)\u001b[0m warning: basinhopping: local minimization failure\n",
      "\u001b[2m\u001b[36m(pid=5060)\u001b[0m basinhopping step 7: f 1.42987e+11 trial_f 2.08298e+11 accepted 0  lowest_f 1.42987e+11\n",
      "\u001b[2m\u001b[36m(pid=5005)\u001b[0m basinhopping step 10: f 2.08956e+09 trial_f 2.24087e+09 accepted 0  lowest_f 2.08956e+09\n",
      "\u001b[2m\u001b[36m(pid=5005)\u001b[0m basinhopping step 0: f 2.13662e+08\n",
      "\u001b[2m\u001b[36m(pid=5005)\u001b[0m basinhopping step 1: f 2.13662e+08 trial_f 2.13662e+08 accepted 1  lowest_f 2.13662e+08\n",
      "\u001b[2m\u001b[36m(pid=5005)\u001b[0m basinhopping step 2: f 2.13662e+08 trial_f 2.13662e+08 accepted 1  lowest_f 2.13662e+08\n"
     ]
    },
    {
     "name": "stderr",
     "output_type": "stream",
     "text": [
      "2020-10-22 10:50:29,728\tWARNING worker.py:1090 -- WARNING: 10 PYTHON workers have been started. This could be a result of using a large number of actors, or it could be a consequence of using nested tasks (see https://github.com/ray-project/ray/issues/3644) for some a discussion of workarounds.\n"
     ]
    },
    {
     "name": "stdout",
     "output_type": "stream",
     "text": [
      "\u001b[2m\u001b[36m(pid=5060)\u001b[0m basinhopping step 8: f 1.42987e+11 trial_f 6.86912e+13 accepted 0  lowest_f 1.42987e+11\n",
      "\u001b[2m\u001b[36m(pid=5145)\u001b[0m basinhopping step 0: f 9.63751e+09\n",
      "\u001b[2m\u001b[36m(pid=4936)\u001b[0m warning: basinhopping: local minimization failure\n",
      "\u001b[2m\u001b[36m(pid=4936)\u001b[0m basinhopping step 7: f 2.59216e+10 trial_f 1.31789e+13 accepted 0  lowest_f 2.59216e+10\n",
      "\u001b[2m\u001b[36m(pid=4908)\u001b[0m warning: basinhopping: local minimization failure\n",
      "\u001b[2m\u001b[36m(pid=4908)\u001b[0m basinhopping step 9: f 8.24806e+08 trial_f 1.40972e+09 accepted 0  lowest_f 8.24806e+08\n",
      "\u001b[2m\u001b[36m(pid=4936)\u001b[0m basinhopping step 8: f 2.59216e+10 trial_f 7.90177e+11 accepted 0  lowest_f 2.59216e+10\n",
      "\u001b[2m\u001b[36m(pid=4908)\u001b[0m basinhopping step 10: f 8.24806e+08 trial_f 1.75472e+16 accepted 0  lowest_f 8.24806e+08\n",
      "\u001b[2m\u001b[36m(pid=4908)\u001b[0m basinhopping step 0: f 8.19232e+08\n",
      "\u001b[2m\u001b[36m(pid=4908)\u001b[0m basinhopping step 1: f 8.19232e+08 trial_f 8.19254e+08 accepted 0  lowest_f 8.19232e+08\n",
      "\u001b[2m\u001b[36m(pid=4908)\u001b[0m basinhopping step 2: f 8.19232e+08 trial_f 8.19241e+08 accepted 0  lowest_f 8.19232e+08\n"
     ]
    },
    {
     "name": "stderr",
     "output_type": "stream",
     "text": [
      "2020-10-22 10:50:55,799\tWARNING worker.py:1090 -- WARNING: 10 PYTHON workers have been started. This could be a result of using a large number of actors, or it could be a consequence of using nested tasks (see https://github.com/ray-project/ray/issues/3644) for some a discussion of workarounds.\n"
     ]
    },
    {
     "name": "stdout",
     "output_type": "stream",
     "text": [
      "\u001b[2m\u001b[36m(pid=4936)\u001b[0m basinhopping step 9: f 2.59216e+10 trial_f 1.40492e+14 accepted 0  lowest_f 2.59216e+10\n",
      "\u001b[2m\u001b[36m(pid=4908)\u001b[0m  lsoda--  at t(=r1) and step size h(=r2), the error\u0000\u0000\n",
      "\u001b[2m\u001b[36m(pid=4908)\u001b[0m        test failed repeatedly or with abs(h) = hmin\u0000\u0000\n",
      "\u001b[2m\u001b[36m(pid=4908)\u001b[0m       in above,  r1 =  0.2957033619402D+03   r2 =  0.5882360112069D-07\n",
      "\u001b[2m\u001b[36m(pid=5145)\u001b[0m basinhopping step 1: f 8.53675e+09 trial_f 8.53675e+09 accepted 1  lowest_f 8.53675e+09\n",
      "\u001b[2m\u001b[36m(pid=5145)\u001b[0m found new global minimum on step 1 with function value 8.53675e+09\n",
      "\u001b[2m\u001b[36m(pid=5145)\u001b[0m warning: basinhopping: local minimization failure\n",
      "\u001b[2m\u001b[36m(pid=5145)\u001b[0m basinhopping step 2: f 8.53675e+09 trial_f 5.08978e+10 accepted 0  lowest_f 8.53675e+09\n",
      "\u001b[2m\u001b[36m(pid=4936)\u001b[0m basinhopping step 10: f 2.59216e+10 trial_f 2.52131e+11 accepted 0  lowest_f 2.59216e+10\n",
      "\u001b[2m\u001b[36m(pid=5277)\u001b[0m basinhopping step 0: f 3.65288e+15\n",
      "\u001b[2m\u001b[36m(pid=4936)\u001b[0m basinhopping step 0: f 2.36665e+10\n",
      "\u001b[2m\u001b[36m(pid=5046)\u001b[0m basinhopping step 2: f 4.7612e+11 trial_f 4.7612e+11 accepted 1  lowest_f 4.7612e+11\n",
      "\u001b[2m\u001b[36m(pid=5046)\u001b[0m found new global minimum on step 2 with function value 4.7612e+11\n",
      "\u001b[2m\u001b[36m(pid=4936)\u001b[0m basinhopping step 1: f 2.36665e+10 trial_f 2.36861e+10 accepted 0  lowest_f 2.36665e+10\n",
      "\u001b[2m\u001b[36m(pid=5060)\u001b[0m basinhopping step 9: f 1.42987e+11 trial_f 2.94407e+11 accepted 0  lowest_f 1.42987e+11\n",
      "\u001b[2m\u001b[36m(pid=5046)\u001b[0m basinhopping step 3: f 4.7612e+11 trial_f 1.73469e+14 accepted 0  lowest_f 4.7612e+11\n",
      "\u001b[2m\u001b[36m(pid=5277)\u001b[0m warning: basinhopping: local minimization failure\n",
      "\u001b[2m\u001b[36m(pid=5277)\u001b[0m basinhopping step 1: f 1.51473e+09 trial_f 1.51473e+09 accepted 1  lowest_f 1.51473e+09\n",
      "\u001b[2m\u001b[36m(pid=5277)\u001b[0m found new global minimum on step 1 with function value 1.51473e+09\n",
      "\u001b[2m\u001b[36m(pid=4936)\u001b[0m basinhopping step 2: f 2.36665e+10 trial_f 2.37183e+10 accepted 0  lowest_f 2.36665e+10\n"
     ]
    },
    {
     "name": "stderr",
     "output_type": "stream",
     "text": [
      "2020-10-22 10:51:21,496\tWARNING worker.py:1090 -- WARNING: 10 PYTHON workers have been started. This could be a result of using a large number of actors, or it could be a consequence of using nested tasks (see https://github.com/ray-project/ray/issues/3644) for some a discussion of workarounds.\n"
     ]
    },
    {
     "name": "stdout",
     "output_type": "stream",
     "text": [
      "\u001b[2m\u001b[36m(pid=5325)\u001b[0m basinhopping step 0: f 5.21144e+15\n",
      "\u001b[2m\u001b[36m(pid=5060)\u001b[0m basinhopping step 10: f 1.42987e+11 trial_f 8.72062e+13 accepted 0  lowest_f 1.42987e+11\n",
      "\u001b[2m\u001b[36m(pid=5277)\u001b[0m basinhopping step 2: f 1.51473e+09 trial_f 1.51473e+09 accepted 1  lowest_f 1.51473e+09\n",
      "\u001b[2m\u001b[36m(pid=5277)\u001b[0m found new global minimum on step 2 with function value 1.51473e+09\n",
      "\u001b[2m\u001b[36m(pid=5060)\u001b[0m basinhopping step 0: f 1.41593e+11\n",
      "\u001b[2m\u001b[36m(pid=5060)\u001b[0m basinhopping step 1: f 1.40668e+11 trial_f 1.40668e+11 accepted 1  lowest_f 1.40668e+11\n",
      "\u001b[2m\u001b[36m(pid=5060)\u001b[0m found new global minimum on step 1 with function value 1.40668e+11\n",
      "\u001b[2m\u001b[36m(pid=5145)\u001b[0m basinhopping step 3: f 5.01766e+09 trial_f 5.01766e+09 accepted 1  lowest_f 5.01766e+09\n",
      "\u001b[2m\u001b[36m(pid=5145)\u001b[0m found new global minimum on step 3 with function value 5.01766e+09\n",
      "\u001b[2m\u001b[36m(pid=5325)\u001b[0m basinhopping step 1: f 2.40004e+12 trial_f 2.40004e+12 accepted 1  lowest_f 2.40004e+12\n",
      "\u001b[2m\u001b[36m(pid=5325)\u001b[0m found new global minimum on step 1 with function value 2.40004e+12\n",
      "\u001b[2m\u001b[36m(pid=5277)\u001b[0m warning: basinhopping: local minimization failure\n",
      "\u001b[2m\u001b[36m(pid=5277)\u001b[0m basinhopping step 3: f 1.51473e+09 trial_f 1.51756e+09 accepted 0  lowest_f 1.51473e+09\n",
      "\u001b[2m\u001b[36m(pid=5060)\u001b[0m basinhopping step 2: f 1.40668e+11 trial_f 1.42954e+11 accepted 0  lowest_f 1.40668e+11\n"
     ]
    },
    {
     "name": "stderr",
     "output_type": "stream",
     "text": [
      "2020-10-22 10:51:30,456\tWARNING worker.py:1090 -- WARNING: 10 PYTHON workers have been started. This could be a result of using a large number of actors, or it could be a consequence of using nested tasks (see https://github.com/ray-project/ray/issues/3644) for some a discussion of workarounds.\n"
     ]
    },
    {
     "name": "stdout",
     "output_type": "stream",
     "text": [
      "\u001b[2m\u001b[36m(pid=5046)\u001b[0m basinhopping step 4: f 4.7612e+11 trial_f 2.01655e+14 accepted 0  lowest_f 4.7612e+11\n",
      "\u001b[2m\u001b[36m(pid=5145)\u001b[0m basinhopping step 4: f 5.01766e+09 trial_f 1.11627e+13 accepted 0  lowest_f 5.01766e+09\n",
      "\u001b[2m\u001b[36m(pid=5405)\u001b[0m warning: basinhopping: local minimization failure\n",
      "\u001b[2m\u001b[36m(pid=5405)\u001b[0m basinhopping step 0: f 6.21056e+11\n",
      "\u001b[2m\u001b[36m(pid=5325)\u001b[0m basinhopping step 2: f 2.39992e+12 trial_f 2.39992e+12 accepted 1  lowest_f 2.39992e+12\n",
      "\u001b[2m\u001b[36m(pid=5325)\u001b[0m found new global minimum on step 2 with function value 2.39992e+12\n",
      "\u001b[2m\u001b[36m(pid=5405)\u001b[0m basinhopping step 1: f 6.21056e+11 trial_f 1.64182e+15 accepted 0  lowest_f 6.21056e+11\n",
      "\u001b[2m\u001b[36m(pid=5325)\u001b[0m warning: basinhopping: local minimization failure\n",
      "\u001b[2m\u001b[36m(pid=5325)\u001b[0m basinhopping step 3: f 2.39992e+12 trial_f 2.39992e+12 accepted 1  lowest_f 2.39992e+12\n",
      "\u001b[2m\u001b[36m(pid=5325)\u001b[0m found new global minimum on step 3 with function value 2.39992e+12\n",
      "\u001b[2m\u001b[36m(pid=5277)\u001b[0m warning: basinhopping: local minimization failure\n",
      "\u001b[2m\u001b[36m(pid=5277)\u001b[0m basinhopping step 4: f 1.51473e+09 trial_f 1.51473e+09 accepted 0  lowest_f 1.51473e+09\n",
      "\u001b[2m\u001b[36m(pid=5145)\u001b[0m basinhopping step 5: f 5.01766e+09 trial_f 1.31788e+14 accepted 0  lowest_f 5.01766e+09\n",
      "\u001b[2m\u001b[36m(pid=5325)\u001b[0m basinhopping step 4: f 2.39992e+12 trial_f 2.39992e+12 accepted 0  lowest_f 2.39992e+12\n",
      "\u001b[2m\u001b[36m(pid=5325)\u001b[0m basinhopping step 5: f 2.39992e+12 trial_f 2.40016e+12 accepted 0  lowest_f 2.39992e+12\n",
      "\u001b[2m\u001b[36m(pid=5145)\u001b[0m basinhopping step 6: f 5.01766e+09 trial_f 7.11618e+09 accepted 0  lowest_f 5.01766e+09\n",
      "\u001b[2m\u001b[36m(pid=5325)\u001b[0m basinhopping step 6: f 2.39992e+12 trial_f 2.40008e+12 accepted 0  lowest_f 2.39992e+12\n",
      "\u001b[2m\u001b[36m(pid=5405)\u001b[0m basinhopping step 2: f 6.10729e+11 trial_f 6.10729e+11 accepted 1  lowest_f 6.10729e+11\n",
      "\u001b[2m\u001b[36m(pid=5405)\u001b[0m found new global minimum on step 2 with function value 6.10729e+11\n",
      "\u001b[2m\u001b[36m(pid=5325)\u001b[0m warning: basinhopping: local minimization failure\n",
      "\u001b[2m\u001b[36m(pid=5325)\u001b[0m basinhopping step 7: f 2.38178e+12 trial_f 2.38178e+12 accepted 1  lowest_f 2.38178e+12\n",
      "\u001b[2m\u001b[36m(pid=5325)\u001b[0m found new global minimum on step 7 with function value 2.38178e+12\n",
      "\u001b[2m\u001b[36m(pid=5405)\u001b[0m basinhopping step 3: f 6.10729e+11 trial_f 3.43239e+15 accepted 0  lowest_f 6.10729e+11\n",
      "\u001b[2m\u001b[36m(pid=5277)\u001b[0m basinhopping step 5: f 1.51473e+09 trial_f 3.25969e+16 accepted 0  lowest_f 1.51473e+09\n",
      "\u001b[2m\u001b[36m(pid=5277)\u001b[0m basinhopping step 6: f 1.51473e+09 trial_f 1.51473e+09 accepted 1  lowest_f 1.51473e+09\n",
      "\u001b[2m\u001b[36m(pid=5277)\u001b[0m warning: basinhopping: local minimization failure\n",
      "\u001b[2m\u001b[36m(pid=5277)\u001b[0m basinhopping step 7: f 1.51473e+09 trial_f 1.51474e+09 accepted 0  lowest_f 1.51473e+09\n",
      "\u001b[2m\u001b[36m(pid=5325)\u001b[0m basinhopping step 8: f 2.38178e+12 trial_f 8.38933e+16 accepted 0  lowest_f 2.38178e+12\n",
      "\u001b[2m\u001b[36m(pid=5046)\u001b[0m basinhopping step 5: f 4.7612e+11 trial_f 4.7612e+11 accepted 1  lowest_f 4.7612e+11\n",
      "\u001b[2m\u001b[36m(pid=5145)\u001b[0m warning: basinhopping: local minimization failure\n",
      "\u001b[2m\u001b[36m(pid=5145)\u001b[0m basinhopping step 7: f 5.01766e+09 trial_f 1.11566e+13 accepted 0  lowest_f 5.01766e+09\n",
      "\u001b[2m\u001b[36m(pid=5277)\u001b[0m basinhopping step 8: f 1.51473e+09 trial_f 3.25589e+16 accepted 0  lowest_f 1.51473e+09\n",
      "\u001b[2m\u001b[36m(pid=5325)\u001b[0m basinhopping step 9: f 2.38178e+12 trial_f 2.39992e+12 accepted 0  lowest_f 2.38178e+12\n",
      "\u001b[2m\u001b[36m(pid=5145)\u001b[0m basinhopping step 8: f 5.01766e+09 trial_f 9.3714e+09 accepted 0  lowest_f 5.01766e+09\n",
      "\u001b[2m\u001b[36m(pid=5277)\u001b[0m basinhopping step 9: f 1.51473e+09 trial_f 1.51474e+09 accepted 0  lowest_f 1.51473e+09\n",
      "\u001b[2m\u001b[36m(pid=5325)\u001b[0m basinhopping step 10: f 2.38178e+12 trial_f 2.40016e+12 accepted 0  lowest_f 2.38178e+12\n",
      "\u001b[2m\u001b[36m(pid=5325)\u001b[0m basinhopping step 0: f 2.36299e+12\n",
      "\u001b[2m\u001b[36m(pid=5277)\u001b[0m basinhopping step 10: f 1.51473e+09 trial_f 1.28656e+17 accepted 0  lowest_f 1.51473e+09\n",
      "\u001b[2m\u001b[36m(pid=5277)\u001b[0m basinhopping step 0: f 1.50012e+09\n",
      "\u001b[2m\u001b[36m(pid=5325)\u001b[0m basinhopping step 1: f 2.36299e+12 trial_f 2.36299e+12 accepted 1  lowest_f 2.36299e+12\n",
      "\u001b[2m\u001b[36m(pid=5277)\u001b[0m basinhopping step 1: f 1.50012e+09 trial_f 1.50012e+09 accepted 1  lowest_f 1.50012e+09\n",
      "\u001b[2m\u001b[36m(pid=5277)\u001b[0m basinhopping step 2: f 1.50012e+09 trial_f 1.50012e+09 accepted 1  lowest_f 1.50012e+09\n",
      "\u001b[2m\u001b[36m(pid=5325)\u001b[0m basinhopping step 2: f 2.36299e+12 trial_f 2.36299e+12 accepted 1  lowest_f 2.36299e+12\n"
     ]
    },
    {
     "name": "stderr",
     "output_type": "stream",
     "text": [
      "2020-10-22 10:53:01,946\tWARNING worker.py:1090 -- WARNING: 10 PYTHON workers have been started. This could be a result of using a large number of actors, or it could be a consequence of using nested tasks (see https://github.com/ray-project/ray/issues/3644) for some a discussion of workarounds.\n",
      "2020-10-22 10:53:02,376\tWARNING worker.py:1090 -- WARNING: 10 PYTHON workers have been started. This could be a result of using a large number of actors, or it could be a consequence of using nested tasks (see https://github.com/ray-project/ray/issues/3644) for some a discussion of workarounds.\n"
     ]
    },
    {
     "name": "stdout",
     "output_type": "stream",
     "text": [
      "\u001b[2m\u001b[36m(pid=5506)\u001b[0m basinhopping step 0: f 1.06832e+09\n",
      "\u001b[2m\u001b[36m(pid=5487)\u001b[0m basinhopping step 0: f 2.56305e+12\n",
      "\u001b[2m\u001b[36m(pid=5046)\u001b[0m basinhopping step 6: f 4.7612e+11 trial_f 1.74275e+14 accepted 0  lowest_f 4.7612e+11\n",
      "\u001b[2m\u001b[36m(pid=5506)\u001b[0m basinhopping step 1: f 1.06832e+09 trial_f 2.84216e+16 accepted 0  lowest_f 1.06832e+09\n",
      "\u001b[2m\u001b[36m(pid=5487)\u001b[0m basinhopping step 1: f 2.56305e+12 trial_f 3.15042e+16 accepted 0  lowest_f 2.56305e+12\n",
      "\u001b[2m\u001b[36m(pid=5506)\u001b[0m basinhopping step 2: f 1.06832e+09 trial_f 1.06832e+09 accepted 1  lowest_f 1.06832e+09\n",
      "\u001b[2m\u001b[36m(pid=5046)\u001b[0m warning: basinhopping: local minimization failure\n",
      "\u001b[2m\u001b[36m(pid=5046)\u001b[0m basinhopping step 7: f 1.23962e+11 trial_f 1.23962e+11 accepted 1  lowest_f 1.23962e+11\n",
      "\u001b[2m\u001b[36m(pid=5046)\u001b[0m found new global minimum on step 7 with function value 1.23962e+11\n",
      "\u001b[2m\u001b[36m(pid=5487)\u001b[0m basinhopping step 2: f 2.56305e+12 trial_f 3.52147e+16 accepted 0  lowest_f 2.56305e+12\n",
      "\u001b[2m\u001b[36m(pid=5487)\u001b[0m basinhopping step 3: f 2.56303e+12 trial_f 2.56303e+12 accepted 1  lowest_f 2.56303e+12\n",
      "\u001b[2m\u001b[36m(pid=5487)\u001b[0m found new global minimum on step 3 with function value 2.56303e+12\n",
      "\u001b[2m\u001b[36m(pid=5506)\u001b[0m basinhopping step 3: f 1.06832e+09 trial_f 6.70764e+16 accepted 0  lowest_f 1.06832e+09\n",
      "\u001b[2m\u001b[36m(pid=5046)\u001b[0m basinhopping step 8: f 1.23962e+11 trial_f 2.01969e+14 accepted 0  lowest_f 1.23962e+11\n",
      "\u001b[2m\u001b[36m(pid=5145)\u001b[0m basinhopping step 9: f 5.01766e+09 trial_f 3.23827e+13 accepted 0  lowest_f 5.01766e+09\n",
      "\u001b[2m\u001b[36m(pid=5506)\u001b[0m basinhopping step 4: f 1.06832e+09 trial_f 3.18971e+16 accepted 0  lowest_f 1.06832e+09\n",
      "\u001b[2m\u001b[36m(pid=5506)\u001b[0m basinhopping step 5: f 1.06832e+09 trial_f 1.06832e+09 accepted 1  lowest_f 1.06832e+09\n",
      "\u001b[2m\u001b[36m(pid=5487)\u001b[0m basinhopping step 4: f 2.56303e+12 trial_f 2.56305e+12 accepted 0  lowest_f 2.56303e+12\n",
      "\u001b[2m\u001b[36m(pid=5145)\u001b[0m basinhopping step 10: f 5.01766e+09 trial_f 2.07462e+13 accepted 0  lowest_f 5.01766e+09\n",
      "\u001b[2m\u001b[36m(pid=5145)\u001b[0m basinhopping step 0: f 1.07818e+09\n",
      "\u001b[2m\u001b[36m(pid=5145)\u001b[0m basinhopping step 1: f 1.07818e+09 trial_f 1.07818e+09 accepted 1  lowest_f 1.07818e+09\n",
      "\u001b[2m\u001b[36m(pid=5145)\u001b[0m basinhopping step 2: f 1.07818e+09 trial_f 1.07818e+09 accepted 1  lowest_f 1.07818e+09\n"
     ]
    },
    {
     "name": "stderr",
     "output_type": "stream",
     "text": [
      "2020-10-22 10:54:11,293\tWARNING worker.py:1090 -- WARNING: 10 PYTHON workers have been started. This could be a result of using a large number of actors, or it could be a consequence of using nested tasks (see https://github.com/ray-project/ray/issues/3644) for some a discussion of workarounds.\n"
     ]
    },
    {
     "name": "stdout",
     "output_type": "stream",
     "text": [
      "\u001b[2m\u001b[36m(pid=5506)\u001b[0m basinhopping step 6: f 1.06832e+09 trial_f 1.06832e+09 accepted 1  lowest_f 1.06832e+09\n",
      "\u001b[2m\u001b[36m(pid=5046)\u001b[0m warning: basinhopping: local minimization failure\n",
      "\u001b[2m\u001b[36m(pid=5046)\u001b[0m basinhopping step 9: f 1.23962e+11 trial_f 5.25474e+11 accepted 0  lowest_f 1.23962e+11\n",
      "\u001b[2m\u001b[36m(pid=5487)\u001b[0m basinhopping step 5: f 2.56303e+12 trial_f 5.40636e+15 accepted 0  lowest_f 2.56303e+12\n",
      "\u001b[2m\u001b[36m(pid=5046)\u001b[0m basinhopping step 10: f 1.23962e+11 trial_f 1.84877e+14 accepted 0  lowest_f 1.23962e+11\n",
      "\u001b[2m\u001b[36m(pid=5046)\u001b[0m basinhopping step 0: f 1.23955e+11\n",
      "\u001b[2m\u001b[36m(pid=5487)\u001b[0m basinhopping step 6: f 2.56282e+12 trial_f 2.56282e+12 accepted 1  lowest_f 2.56282e+12\n",
      "\u001b[2m\u001b[36m(pid=5487)\u001b[0m found new global minimum on step 6 with function value 2.56282e+12\n",
      "\u001b[2m\u001b[36m(pid=5046)\u001b[0m basinhopping step 1: f 1.23955e+11 trial_f 1.24088e+11 accepted 0  lowest_f 1.23955e+11\n",
      "\u001b[2m\u001b[36m(pid=5046)\u001b[0m basinhopping step 2: f 1.23955e+11 trial_f 1.24234e+11 accepted 0  lowest_f 1.23955e+11\n"
     ]
    },
    {
     "name": "stderr",
     "output_type": "stream",
     "text": [
      "2020-10-22 10:54:23,786\tWARNING worker.py:1090 -- WARNING: 10 PYTHON workers have been started. This could be a result of using a large number of actors, or it could be a consequence of using nested tasks (see https://github.com/ray-project/ray/issues/3644) for some a discussion of workarounds.\n"
     ]
    },
    {
     "name": "stdout",
     "output_type": "stream",
     "text": [
      "\u001b[2m\u001b[36m(pid=5405)\u001b[0m basinhopping step 4: f 5.24521e+11 trial_f 5.24521e+11 accepted 1  lowest_f 5.24521e+11\n",
      "\u001b[2m\u001b[36m(pid=5405)\u001b[0m found new global minimum on step 4 with function value 5.24521e+11\n",
      "\u001b[2m\u001b[36m(pid=5720)\u001b[0m basinhopping step 0: f 4.08295e+14\n",
      "\u001b[2m\u001b[36m(pid=5405)\u001b[0m basinhopping step 5: f 1.54349e+11 trial_f 1.54349e+11 accepted 1  lowest_f 1.54349e+11\n",
      "\u001b[2m\u001b[36m(pid=5405)\u001b[0m found new global minimum on step 5 with function value 1.54349e+11\n",
      "\u001b[2m\u001b[36m(pid=5642)\u001b[0m basinhopping step 0: f 6.48137e+09\n",
      "\u001b[2m\u001b[36m(pid=5506)\u001b[0m basinhopping step 7: f 1.06832e+09 trial_f 1.07234e+09 accepted 0  lowest_f 1.06832e+09\n",
      "\u001b[2m\u001b[36m(pid=5405)\u001b[0m basinhopping step 6: f 1.54349e+11 trial_f 1.33105e+15 accepted 0  lowest_f 1.54349e+11\n",
      "\u001b[2m\u001b[36m(pid=5506)\u001b[0m basinhopping step 8: f 1.06832e+09 trial_f 2.85759e+16 accepted 0  lowest_f 1.06832e+09\n",
      "\u001b[2m\u001b[36m(pid=5720)\u001b[0m warning: basinhopping: local minimization failure\n",
      "\u001b[2m\u001b[36m(pid=5720)\u001b[0m basinhopping step 1: f 1.13009e+12 trial_f 1.13009e+12 accepted 1  lowest_f 1.13009e+12\n",
      "\u001b[2m\u001b[36m(pid=5720)\u001b[0m found new global minimum on step 1 with function value 1.13009e+12\n",
      "\u001b[2m\u001b[36m(pid=5720)\u001b[0m warning: basinhopping: local minimization failure\n",
      "\u001b[2m\u001b[36m(pid=5720)\u001b[0m basinhopping step 2: f 1.13009e+12 trial_f 1.13009e+12 accepted 1  lowest_f 1.13009e+12\n",
      "\u001b[2m\u001b[36m(pid=5405)\u001b[0m basinhopping step 7: f 1.54349e+11 trial_f 8.36475e+15 accepted 0  lowest_f 1.54349e+11\n",
      "\u001b[2m\u001b[36m(pid=5487)\u001b[0m basinhopping step 7: f 2.56282e+12 trial_f 3.16563e+16 accepted 0  lowest_f 2.56282e+12\n",
      "\u001b[2m\u001b[36m(pid=5642)\u001b[0m basinhopping step 1: f 1.22241e+09 trial_f 1.22241e+09 accepted 1  lowest_f 1.22241e+09\n",
      "\u001b[2m\u001b[36m(pid=5642)\u001b[0m found new global minimum on step 1 with function value 1.22241e+09\n",
      "\u001b[2m\u001b[36m(pid=5487)\u001b[0m basinhopping step 8: f 2.56282e+12 trial_f 2.56305e+12 accepted 0  lowest_f 2.56282e+12\n",
      "\u001b[2m\u001b[36m(pid=5405)\u001b[0m basinhopping step 8: f 1.54349e+11 trial_f 1.31572e+15 accepted 0  lowest_f 1.54349e+11\n",
      "\u001b[2m\u001b[36m(pid=5506)\u001b[0m basinhopping step 9: f 1.06832e+09 trial_f 1.06832e+09 accepted 1  lowest_f 1.06832e+09\n",
      "\u001b[2m\u001b[36m(pid=5487)\u001b[0m warning: basinhopping: local minimization failure\n",
      "\u001b[2m\u001b[36m(pid=5487)\u001b[0m basinhopping step 9: f 1.14054e+12 trial_f 1.14054e+12 accepted 1  lowest_f 1.14054e+12\n",
      "\u001b[2m\u001b[36m(pid=5487)\u001b[0m found new global minimum on step 9 with function value 1.14054e+12\n",
      "\u001b[2m\u001b[36m(pid=5506)\u001b[0m basinhopping step 10: f 1.06832e+09 trial_f 1.06832e+09 accepted 1  lowest_f 1.06832e+09\n",
      "\u001b[2m\u001b[36m(pid=5506)\u001b[0m basinhopping step 0: f 1.04726e+09\n",
      "\u001b[2m\u001b[36m(pid=5506)\u001b[0m basinhopping step 1: f 1.04726e+09 trial_f 1.04726e+09 accepted 1  lowest_f 1.04726e+09\n",
      "\u001b[2m\u001b[36m(pid=5506)\u001b[0m basinhopping step 2: f 1.04726e+09 trial_f 1.04726e+09 accepted 1  lowest_f 1.04726e+09\n"
     ]
    },
    {
     "name": "stderr",
     "output_type": "stream",
     "text": [
      "2020-10-22 10:55:12,571\tWARNING worker.py:1090 -- WARNING: 10 PYTHON workers have been started. This could be a result of using a large number of actors, or it could be a consequence of using nested tasks (see https://github.com/ray-project/ray/issues/3644) for some a discussion of workarounds.\n"
     ]
    },
    {
     "name": "stdout",
     "output_type": "stream",
     "text": [
      "\u001b[2m\u001b[36m(pid=5642)\u001b[0m warning: basinhopping: local minimization failure\n",
      "\u001b[2m\u001b[36m(pid=5642)\u001b[0m basinhopping step 2: f 1.22241e+09 trial_f 6.01601e+09 accepted 0  lowest_f 1.22241e+09\n",
      "\u001b[2m\u001b[36m(pid=5487)\u001b[0m warning: basinhopping: local minimization failure\n",
      "\u001b[2m\u001b[36m(pid=5487)\u001b[0m basinhopping step 10: f 1.14054e+12 trial_f 2.16564e+12 accepted 0  lowest_f 1.14054e+12\n",
      "\u001b[2m\u001b[36m(pid=5487)\u001b[0m basinhopping step 0: f 2.54973e+12\n",
      "\u001b[2m\u001b[36m(pid=5487)\u001b[0m basinhopping step 1: f 2.54973e+12 trial_f 2.54973e+12 accepted 1  lowest_f 2.54973e+12\n",
      "\u001b[2m\u001b[36m(pid=5487)\u001b[0m basinhopping step 2: f 2.54973e+12 trial_f 2.54973e+12 accepted 1  lowest_f 2.54973e+12\n",
      "\u001b[2m\u001b[36m(pid=5750)\u001b[0m warning: basinhopping: local minimization failure\n",
      "\u001b[2m\u001b[36m(pid=5750)\u001b[0m basinhopping step 0: f 1.30483e+16\n"
     ]
    },
    {
     "name": "stderr",
     "output_type": "stream",
     "text": [
      "2020-10-22 10:55:26,448\tWARNING worker.py:1090 -- WARNING: 10 PYTHON workers have been started. This could be a result of using a large number of actors, or it could be a consequence of using nested tasks (see https://github.com/ray-project/ray/issues/3644) for some a discussion of workarounds.\n"
     ]
    },
    {
     "name": "stdout",
     "output_type": "stream",
     "text": [
      "\u001b[2m\u001b[36m(pid=5720)\u001b[0m warning: basinhopping: local minimization failure\n",
      "\u001b[2m\u001b[36m(pid=5720)\u001b[0m basinhopping step 3: f 1.13009e+12 trial_f 1.13009e+12 accepted 1  lowest_f 1.13009e+12\n",
      "\u001b[2m\u001b[36m(pid=5750)\u001b[0m warning: basinhopping: local minimization failure\n",
      "\u001b[2m\u001b[36m(pid=5750)\u001b[0m basinhopping step 1: f 4.07394e+15 trial_f 4.07394e+15 accepted 1  lowest_f 4.07394e+15\n",
      "\u001b[2m\u001b[36m(pid=5750)\u001b[0m found new global minimum on step 1 with function value 4.07394e+15\n",
      "\u001b[2m\u001b[36m(pid=5750)\u001b[0m warning: basinhopping: local minimization failure\n",
      "\u001b[2m\u001b[36m(pid=5750)\u001b[0m basinhopping step 2: f 4.07394e+15 trial_f 4.17259e+16 accepted 0  lowest_f 4.07394e+15\n",
      "\u001b[2m\u001b[36m(pid=5750)\u001b[0m basinhopping step 3: f 4.07394e+15 trial_f 4.77742e+15 accepted 0  lowest_f 4.07394e+15\n",
      "\u001b[2m\u001b[36m(pid=5750)\u001b[0m warning: basinhopping: local minimization failure\n",
      "\u001b[2m\u001b[36m(pid=5750)\u001b[0m basinhopping step 4: f 4.07394e+15 trial_f 1.75168e+16 accepted 0  lowest_f 4.07394e+15\n",
      "\u001b[2m\u001b[36m(pid=5405)\u001b[0m basinhopping step 9: f 1.54349e+11 trial_f 1.42359e+15 accepted 0  lowest_f 1.54349e+11\n",
      "\u001b[2m\u001b[36m(pid=5750)\u001b[0m basinhopping step 5: f 4.07394e+15 trial_f 5.80911e+16 accepted 0  lowest_f 4.07394e+15\n",
      "\u001b[2m\u001b[36m(pid=5750)\u001b[0m basinhopping step 6: f 4.07394e+15 trial_f 4.89796e+16 accepted 0  lowest_f 4.07394e+15\n",
      "\u001b[2m\u001b[36m(pid=5405)\u001b[0m basinhopping step 10: f 1.54349e+11 trial_f 3.30725e+15 accepted 0  lowest_f 1.54349e+11\n",
      "\u001b[2m\u001b[36m(pid=5642)\u001b[0m basinhopping step 3: f 1.22241e+09 trial_f 9.37128e+09 accepted 0  lowest_f 1.22241e+09\n",
      "\u001b[2m\u001b[36m(pid=5405)\u001b[0m basinhopping step 0: f 1.54301e+11\n",
      "\u001b[2m\u001b[36m(pid=5750)\u001b[0m warning: basinhopping: local minimization failure\n",
      "\u001b[2m\u001b[36m(pid=5750)\u001b[0m basinhopping step 7: f 4.07394e+15 trial_f 4.07394e+15 accepted 1  lowest_f 4.07394e+15\n",
      "\u001b[2m\u001b[36m(pid=5405)\u001b[0m basinhopping step 1: f 1.54103e+11 trial_f 1.54103e+11 accepted 1  lowest_f 1.54103e+11\n",
      "\u001b[2m\u001b[36m(pid=5405)\u001b[0m found new global minimum on step 1 with function value 1.54103e+11\n",
      "\u001b[2m\u001b[36m(pid=5405)\u001b[0m basinhopping step 2: f 1.54024e+11 trial_f 1.54024e+11 accepted 1  lowest_f 1.54024e+11\n",
      "\u001b[2m\u001b[36m(pid=5405)\u001b[0m found new global minimum on step 2 with function value 1.54024e+11\n",
      "\u001b[2m\u001b[36m(pid=5720)\u001b[0m basinhopping step 4: f 9.64241e+11 trial_f 9.64241e+11 accepted 1  lowest_f 9.64241e+11\n",
      "\u001b[2m\u001b[36m(pid=5720)\u001b[0m found new global minimum on step 4 with function value 9.64241e+11\n"
     ]
    },
    {
     "name": "stderr",
     "output_type": "stream",
     "text": [
      "2020-10-22 10:55:55,325\tWARNING worker.py:1090 -- WARNING: 10 PYTHON workers have been started. This could be a result of using a large number of actors, or it could be a consequence of using nested tasks (see https://github.com/ray-project/ray/issues/3644) for some a discussion of workarounds.\n"
     ]
    },
    {
     "name": "stdout",
     "output_type": "stream",
     "text": [
      "\u001b[2m\u001b[36m(pid=5750)\u001b[0m basinhopping step 8: f 4.07394e+15 trial_f 1.43302e+16 accepted 0  lowest_f 4.07394e+15\n",
      "\u001b[2m\u001b[36m(pid=5769)\u001b[0m basinhopping step 0: f 4.52914e+11\n",
      "\u001b[2m\u001b[36m(pid=5642)\u001b[0m basinhopping step 4: f 1.22241e+09 trial_f 3.88571e+11 accepted 0  lowest_f 1.22241e+09\n",
      "\u001b[2m\u001b[36m(pid=5720)\u001b[0m basinhopping step 5: f 9.64241e+11 trial_f 9.49911e+15 accepted 0  lowest_f 9.64241e+11\n",
      "\u001b[2m\u001b[36m(pid=5642)\u001b[0m basinhopping step 5: f 1.22241e+09 trial_f 3.82486e+12 accepted 0  lowest_f 1.22241e+09\n",
      "\u001b[2m\u001b[36m(pid=5750)\u001b[0m basinhopping step 9: f 4.07394e+15 trial_f 4.89018e+16 accepted 0  lowest_f 4.07394e+15\n",
      "\u001b[2m\u001b[36m(pid=5642)\u001b[0m basinhopping step 6: f 1.22241e+09 trial_f 6.36485e+09 accepted 0  lowest_f 1.22241e+09\n",
      "\u001b[2m\u001b[36m(pid=5810)\u001b[0m warning: basinhopping: local minimization failure\n",
      "\u001b[2m\u001b[36m(pid=5810)\u001b[0m basinhopping step 0: f 2.05547e+11\n",
      "\u001b[2m\u001b[36m(pid=5769)\u001b[0m basinhopping step 1: f 4.52914e+11 trial_f 4.52914e+11 accepted 1  lowest_f 4.52914e+11\n",
      "\u001b[2m\u001b[36m(pid=5769)\u001b[0m basinhopping step 2: f 4.52914e+11 trial_f 6.31902e+15 accepted 0  lowest_f 4.52914e+11\n",
      "\u001b[2m\u001b[36m(pid=5750)\u001b[0m basinhopping step 10: f 4.07394e+15 trial_f 4.87306e+16 accepted 0  lowest_f 4.07394e+15\n",
      "\u001b[2m\u001b[36m(pid=5750)\u001b[0m basinhopping step 0: f 1.16128e+09\n",
      "\u001b[2m\u001b[36m(pid=5750)\u001b[0m basinhopping step 1: f 1.16128e+09 trial_f 1.16128e+09 accepted 1  lowest_f 1.16128e+09\n",
      "\u001b[2m\u001b[36m(pid=5750)\u001b[0m basinhopping step 2: f 1.16128e+09 trial_f 1.16128e+09 accepted 1  lowest_f 1.16128e+09\n"
     ]
    },
    {
     "name": "stderr",
     "output_type": "stream",
     "text": [
      "2020-10-22 10:56:36,164\tWARNING worker.py:1090 -- WARNING: 10 PYTHON workers have been started. This could be a result of using a large number of actors, or it could be a consequence of using nested tasks (see https://github.com/ray-project/ray/issues/3644) for some a discussion of workarounds.\n"
     ]
    },
    {
     "name": "stdout",
     "output_type": "stream",
     "text": [
      "\u001b[2m\u001b[36m(pid=5642)\u001b[0m basinhopping step 7: f 1.22241e+09 trial_f 4.65895e+09 accepted 0  lowest_f 1.22241e+09\n",
      "\u001b[2m\u001b[36m(pid=5885)\u001b[0m basinhopping step 0: f 2.65331e+08\n",
      "\u001b[2m\u001b[36m(pid=5885)\u001b[0m warning: basinhopping: local minimization failure\n",
      "\u001b[2m\u001b[36m(pid=5885)\u001b[0m basinhopping step 1: f 2.65331e+08 trial_f 5.10367e+08 accepted 0  lowest_f 2.65331e+08\n",
      "\u001b[2m\u001b[36m(pid=5642)\u001b[0m basinhopping step 8: f 1.22241e+09 trial_f 9.45046e+09 accepted 0  lowest_f 1.22241e+09\n",
      "\u001b[2m\u001b[36m(pid=5885)\u001b[0m basinhopping step 2: f 2.65331e+08 trial_f 3.06888e+08 accepted 0  lowest_f 2.65331e+08\n",
      "\u001b[2m\u001b[36m(pid=5642)\u001b[0m basinhopping step 9: f 1.22241e+09 trial_f 4.67532e+09 accepted 0  lowest_f 1.22241e+09\n",
      "\u001b[2m\u001b[36m(pid=5885)\u001b[0m basinhopping step 3: f 2.65331e+08 trial_f 2.71297e+15 accepted 0  lowest_f 2.65331e+08\n",
      "\u001b[2m\u001b[36m(pid=5885)\u001b[0m warning: basinhopping: local minimization failure\n",
      "\u001b[2m\u001b[36m(pid=5885)\u001b[0m basinhopping step 4: f 2.65331e+08 trial_f 5.10367e+08 accepted 0  lowest_f 2.65331e+08\n",
      "\u001b[2m\u001b[36m(pid=5720)\u001b[0m warning: basinhopping: local minimization failure\n",
      "\u001b[2m\u001b[36m(pid=5720)\u001b[0m basinhopping step 6: f 6.71469e+11 trial_f 6.71469e+11 accepted 1  lowest_f 6.71469e+11\n",
      "\u001b[2m\u001b[36m(pid=5720)\u001b[0m found new global minimum on step 6 with function value 6.71469e+11\n",
      "\u001b[2m\u001b[36m(pid=5720)\u001b[0m basinhopping step 7: f 6.71469e+11 trial_f 9.49882e+15 accepted 0  lowest_f 6.71469e+11\n",
      "\u001b[2m\u001b[36m(pid=5885)\u001b[0m warning: basinhopping: local minimization failure\n",
      "\u001b[2m\u001b[36m(pid=5885)\u001b[0m basinhopping step 5: f 2.65331e+08 trial_f 2.04491e+16 accepted 0  lowest_f 2.65331e+08\n",
      "\u001b[2m\u001b[36m(pid=5642)\u001b[0m basinhopping step 10: f 1.22241e+09 trial_f 3.836e+12 accepted 0  lowest_f 1.22241e+09\n",
      "\u001b[2m\u001b[36m(pid=5642)\u001b[0m basinhopping step 0: f 1.2107e+09\n",
      "\u001b[2m\u001b[36m(pid=5885)\u001b[0m basinhopping step 6: f 2.65331e+08 trial_f 5.10363e+08 accepted 0  lowest_f 2.65331e+08\n",
      "\u001b[2m\u001b[36m(pid=5642)\u001b[0m basinhopping step 1: f 1.2107e+09 trial_f 1.21245e+09 accepted 0  lowest_f 1.2107e+09\n",
      "\u001b[2m\u001b[36m(pid=5642)\u001b[0m basinhopping step 2: f 1.2107e+09 trial_f 1.21133e+09 accepted 0  lowest_f 1.2107e+09\n",
      "\u001b[2m\u001b[36m(pid=5810)\u001b[0m warning: basinhopping: local minimization failure\n",
      "\u001b[2m\u001b[36m(pid=5810)\u001b[0m basinhopping step 1: f 1.98878e+11 trial_f 1.98878e+11 accepted 1  lowest_f 1.98878e+11\n",
      "\u001b[2m\u001b[36m(pid=5810)\u001b[0m found new global minimum on step 1 with function value 1.98878e+11\n"
     ]
    },
    {
     "name": "stderr",
     "output_type": "stream",
     "text": [
      "2020-10-22 10:57:21,368\tWARNING worker.py:1090 -- WARNING: 10 PYTHON workers have been started. This could be a result of using a large number of actors, or it could be a consequence of using nested tasks (see https://github.com/ray-project/ray/issues/3644) for some a discussion of workarounds.\n"
     ]
    },
    {
     "name": "stdout",
     "output_type": "stream",
     "text": [
      "\u001b[2m\u001b[36m(pid=5810)\u001b[0m basinhopping step 2: f 1.98878e+11 trial_f 2.05638e+11 accepted 0  lowest_f 1.98878e+11\n",
      "\u001b[2m\u001b[36m(pid=5769)\u001b[0m basinhopping step 3: f 4.07771e+11 trial_f 4.07771e+11 accepted 1  lowest_f 4.07771e+11\n",
      "\u001b[2m\u001b[36m(pid=5769)\u001b[0m found new global minimum on step 3 with function value 4.07771e+11\n",
      "\u001b[2m\u001b[36m(pid=5924)\u001b[0m basinhopping step 0: f 7.95404e+07\n",
      "\u001b[2m\u001b[36m(pid=5720)\u001b[0m basinhopping step 8: f 6.71469e+11 trial_f 4.17285e+15 accepted 0  lowest_f 6.71469e+11\n",
      "\u001b[2m\u001b[36m(pid=5769)\u001b[0m basinhopping step 4: f 4.07771e+11 trial_f 2.62079e+12 accepted 0  lowest_f 4.07771e+11\n",
      "\u001b[2m\u001b[36m(pid=5769)\u001b[0m warning: basinhopping: local minimization failure\n",
      "\u001b[2m\u001b[36m(pid=5769)\u001b[0m basinhopping step 5: f 4.07771e+11 trial_f 2.36675e+12 accepted 0  lowest_f 4.07771e+11\n",
      "\u001b[2m\u001b[36m(pid=5924)\u001b[0m basinhopping step 1: f 7.95404e+07 trial_f 2.64819e+09 accepted 0  lowest_f 7.95404e+07\n",
      "\u001b[2m\u001b[36m(pid=5924)\u001b[0m basinhopping step 2: f 7.95404e+07 trial_f 2.11204e+10 accepted 0  lowest_f 7.95404e+07\n",
      "\u001b[2m\u001b[36m(pid=5769)\u001b[0m basinhopping step 6: f 4.07771e+11 trial_f 6.07036e+11 accepted 0  lowest_f 4.07771e+11\n",
      "\u001b[2m\u001b[36m(pid=5924)\u001b[0m basinhopping step 3: f 7.95404e+07 trial_f 2.77237e+09 accepted 0  lowest_f 7.95404e+07\n",
      "\u001b[2m\u001b[36m(pid=5885)\u001b[0m warning: basinhopping: local minimization failure\n",
      "\u001b[2m\u001b[36m(pid=5885)\u001b[0m basinhopping step 7: f 2.65331e+08 trial_f 5.03944e+08 accepted 0  lowest_f 2.65331e+08\n",
      "\u001b[2m\u001b[36m(pid=5720)\u001b[0m basinhopping step 9: f 6.71469e+11 trial_f 2.44339e+14 accepted 0  lowest_f 6.71469e+11\n",
      "\u001b[2m\u001b[36m(pid=5769)\u001b[0m basinhopping step 7: f 4.07771e+11 trial_f 1.75426e+16 accepted 0  lowest_f 4.07771e+11\n",
      "\u001b[2m\u001b[36m(pid=5810)\u001b[0m basinhopping step 3: f 6.29888e+10 trial_f 6.29888e+10 accepted 1  lowest_f 6.29888e+10\n",
      "\u001b[2m\u001b[36m(pid=5810)\u001b[0m found new global minimum on step 3 with function value 6.29888e+10\n",
      "\u001b[2m\u001b[36m(pid=5885)\u001b[0m warning: basinhopping: local minimization failure\n",
      "\u001b[2m\u001b[36m(pid=5885)\u001b[0m basinhopping step 8: f 2.65331e+08 trial_f 5.04056e+08 accepted 0  lowest_f 2.65331e+08\n",
      "\u001b[2m\u001b[36m(pid=5769)\u001b[0m basinhopping step 8: f 4.07771e+11 trial_f 6.28163e+15 accepted 0  lowest_f 4.07771e+11\n",
      "\u001b[2m\u001b[36m(pid=5924)\u001b[0m basinhopping step 4: f 7.95404e+07 trial_f 2.65268e+09 accepted 0  lowest_f 7.95404e+07\n",
      "\u001b[2m\u001b[36m(pid=5885)\u001b[0m warning: basinhopping: local minimization failure\n",
      "\u001b[2m\u001b[36m(pid=5885)\u001b[0m basinhopping step 9: f 2.65331e+08 trial_f 4.31855e+08 accepted 0  lowest_f 2.65331e+08\n",
      "\u001b[2m\u001b[36m(pid=5810)\u001b[0m basinhopping step 4: f 6.29888e+10 trial_f 1.84719e+14 accepted 0  lowest_f 6.29888e+10\n",
      "\u001b[2m\u001b[36m(pid=5810)\u001b[0m basinhopping step 5: f 6.29888e+10 trial_f 2.91614e+15 accepted 0  lowest_f 6.29888e+10\n",
      "\u001b[2m\u001b[36m(pid=5885)\u001b[0m basinhopping step 10: f 2.65331e+08 trial_f 2.17968e+16 accepted 0  lowest_f 2.65331e+08\n",
      "\u001b[2m\u001b[36m(pid=5769)\u001b[0m basinhopping step 9: f 4.07771e+11 trial_f 6.2576e+15 accepted 0  lowest_f 4.07771e+11\n",
      "\u001b[2m\u001b[36m(pid=5885)\u001b[0m basinhopping step 0: f 2.63191e+08\n",
      "\u001b[2m\u001b[36m(pid=5885)\u001b[0m basinhopping step 1: f 2.63177e+08 trial_f 2.63177e+08 accepted 1  lowest_f 2.63177e+08\n",
      "\u001b[2m\u001b[36m(pid=5885)\u001b[0m found new global minimum on step 1 with function value 2.63177e+08\n",
      "\u001b[2m\u001b[36m(pid=5885)\u001b[0m basinhopping step 2: f 2.63177e+08 trial_f 2.6321e+08 accepted 0  lowest_f 2.63177e+08\n"
     ]
    },
    {
     "name": "stderr",
     "output_type": "stream",
     "text": [
      "2020-10-22 10:58:47,148\tWARNING worker.py:1090 -- WARNING: 10 PYTHON workers have been started. This could be a result of using a large number of actors, or it could be a consequence of using nested tasks (see https://github.com/ray-project/ray/issues/3644) for some a discussion of workarounds.\n"
     ]
    },
    {
     "name": "stdout",
     "output_type": "stream",
     "text": [
      "\u001b[2m\u001b[36m(pid=5769)\u001b[0m warning: basinhopping: local minimization failure\n",
      "\u001b[2m\u001b[36m(pid=5769)\u001b[0m basinhopping step 10: f 4.07771e+11 trial_f 9.03276e+15 accepted 0  lowest_f 4.07771e+11\n",
      "\u001b[2m\u001b[36m(pid=5769)\u001b[0m basinhopping step 0: f 3.70323e+11\n",
      "\u001b[2m\u001b[36m(pid=5769)\u001b[0m basinhopping step 1: f 3.70323e+11 trial_f 3.88503e+11 accepted 0  lowest_f 3.70323e+11\n",
      "\u001b[2m\u001b[36m(pid=5769)\u001b[0m basinhopping step 2: f 3.45885e+11 trial_f 3.45885e+11 accepted 1  lowest_f 3.45885e+11\n",
      "\u001b[2m\u001b[36m(pid=5769)\u001b[0m found new global minimum on step 2 with function value 3.45885e+11\n",
      "\u001b[2m\u001b[36m(pid=5924)\u001b[0m basinhopping step 5: f 7.95404e+07 trial_f 1.53885e+08 accepted 0  lowest_f 7.95404e+07\n"
     ]
    },
    {
     "name": "stderr",
     "output_type": "stream",
     "text": [
      "2020-10-22 10:59:02,029\tWARNING worker.py:1090 -- WARNING: 10 PYTHON workers have been started. This could be a result of using a large number of actors, or it could be a consequence of using nested tasks (see https://github.com/ray-project/ray/issues/3644) for some a discussion of workarounds.\n"
     ]
    },
    {
     "name": "stdout",
     "output_type": "stream",
     "text": [
      "\u001b[2m\u001b[36m(pid=5982)\u001b[0m basinhopping step 0: f 1.8027e+09\n",
      "\u001b[2m\u001b[36m(pid=5720)\u001b[0m warning: basinhopping: local minimization failure\n",
      "\u001b[2m\u001b[36m(pid=5720)\u001b[0m basinhopping step 10: f 6.71469e+11 trial_f 1.12773e+12 accepted 0  lowest_f 6.71469e+11\n",
      "\u001b[2m\u001b[36m(pid=5720)\u001b[0m basinhopping step 0: f 6.66597e+11\n",
      "\u001b[2m\u001b[36m(pid=5720)\u001b[0m basinhopping step 1: f 6.66597e+11 trial_f 6.77499e+11 accepted 0  lowest_f 6.66597e+11\n",
      "\u001b[2m\u001b[36m(pid=5720)\u001b[0m basinhopping step 2: f 6.66597e+11 trial_f 6.69876e+11 accepted 0  lowest_f 6.66597e+11\n"
     ]
    },
    {
     "name": "stderr",
     "output_type": "stream",
     "text": [
      "2020-10-22 10:59:09,682\tWARNING worker.py:1090 -- WARNING: 10 PYTHON workers have been started. This could be a result of using a large number of actors, or it could be a consequence of using nested tasks (see https://github.com/ray-project/ray/issues/3644) for some a discussion of workarounds.\n"
     ]
    },
    {
     "name": "stdout",
     "output_type": "stream",
     "text": [
      "\u001b[2m\u001b[36m(pid=5982)\u001b[0m warning: basinhopping: local minimization failure\n",
      "\u001b[2m\u001b[36m(pid=5982)\u001b[0m basinhopping step 1: f 1.50217e+09 trial_f 1.50217e+09 accepted 1  lowest_f 1.50217e+09\n",
      "\u001b[2m\u001b[36m(pid=5982)\u001b[0m found new global minimum on step 1 with function value 1.50217e+09\n",
      "\u001b[2m\u001b[36m(pid=6068)\u001b[0m basinhopping step 0: f 2.20406e+11\n",
      "\u001b[2m\u001b[36m(pid=6068)\u001b[0m basinhopping step 1: f 2.20406e+11 trial_f 1.60368e+14 accepted 0  lowest_f 2.20406e+11\n",
      "\u001b[2m\u001b[36m(pid=5982)\u001b[0m basinhopping step 2: f 1.50217e+09 trial_f 1.80463e+09 accepted 0  lowest_f 1.50217e+09\n",
      "\u001b[2m\u001b[36m(pid=5924)\u001b[0m basinhopping step 6: f 7.95404e+07 trial_f 1.47594e+08 accepted 0  lowest_f 7.95404e+07\n",
      "\u001b[2m\u001b[36m(pid=6055)\u001b[0m basinhopping step 0: f 1.78299e+09\n",
      "\u001b[2m\u001b[36m(pid=5810)\u001b[0m basinhopping step 6: f 6.29888e+10 trial_f 2.05638e+11 accepted 0  lowest_f 6.29888e+10\n",
      "\u001b[2m\u001b[36m(pid=5810)\u001b[0m basinhopping step 7: f 6.29888e+10 trial_f 2.02283e+11 accepted 0  lowest_f 6.29888e+10\n",
      "\u001b[2m\u001b[36m(pid=6068)\u001b[0m basinhopping step 2: f 2.20406e+11 trial_f 1.75387e+12 accepted 0  lowest_f 2.20406e+11\n",
      "\u001b[2m\u001b[36m(pid=5982)\u001b[0m basinhopping step 3: f 1.50217e+09 trial_f 1.8026e+09 accepted 0  lowest_f 1.50217e+09\n",
      "\u001b[2m\u001b[36m(pid=6055)\u001b[0m basinhopping step 1: f 1.78299e+09 trial_f 2.09763e+13 accepted 0  lowest_f 1.78299e+09\n",
      "\u001b[2m\u001b[36m(pid=5982)\u001b[0m warning: basinhopping: local minimization failure\n",
      "\u001b[2m\u001b[36m(pid=5982)\u001b[0m basinhopping step 4: f 1.50217e+09 trial_f 1.80263e+09 accepted 0  lowest_f 1.50217e+09\n",
      "\u001b[2m\u001b[36m(pid=6055)\u001b[0m basinhopping step 2: f 1.78299e+09 trial_f 3.63357e+13 accepted 0  lowest_f 1.78299e+09\n",
      "\u001b[2m\u001b[36m(pid=6068)\u001b[0m basinhopping step 3: f 2.20406e+11 trial_f 1.07479e+14 accepted 0  lowest_f 2.20406e+11\n",
      "\u001b[2m\u001b[36m(pid=5982)\u001b[0m basinhopping step 5: f 1.50217e+09 trial_f 1.8027e+09 accepted 0  lowest_f 1.50217e+09\n",
      "\u001b[2m\u001b[36m(pid=5810)\u001b[0m basinhopping step 8: f 6.29888e+10 trial_f 3.41117e+14 accepted 0  lowest_f 6.29888e+10\n",
      "\u001b[2m\u001b[36m(pid=5810)\u001b[0m warning: basinhopping: local minimization failure\n",
      "\u001b[2m\u001b[36m(pid=5810)\u001b[0m basinhopping step 9: f 6.29888e+10 trial_f 2.05621e+11 accepted 0  lowest_f 6.29888e+10\n",
      "\u001b[2m\u001b[36m(pid=5982)\u001b[0m warning: basinhopping: local minimization failure\n",
      "\u001b[2m\u001b[36m(pid=5982)\u001b[0m basinhopping step 6: f 1.50217e+09 trial_f 4.14384e+15 accepted 0  lowest_f 1.50217e+09\n",
      "\u001b[2m\u001b[36m(pid=5982)\u001b[0m basinhopping step 7: f 1.50217e+09 trial_f 2.58679e+16 accepted 0  lowest_f 1.50217e+09\n",
      "\u001b[2m\u001b[36m(pid=5982)\u001b[0m basinhopping step 8: f 1.50217e+09 trial_f 2.74436e+16 accepted 0  lowest_f 1.50217e+09\n",
      "\u001b[2m\u001b[36m(pid=5924)\u001b[0m warning: basinhopping: local minimization failure\n",
      "\u001b[2m\u001b[36m(pid=5924)\u001b[0m basinhopping step 7: f 7.95404e+07 trial_f 8.05337e+07 accepted 0  lowest_f 7.95404e+07\n",
      "\u001b[2m\u001b[36m(pid=5810)\u001b[0m warning: basinhopping: local minimization failure\n",
      "\u001b[2m\u001b[36m(pid=5810)\u001b[0m basinhopping step 10: f 6.29861e+10 trial_f 6.29861e+10 accepted 1  lowest_f 6.29861e+10\n",
      "\u001b[2m\u001b[36m(pid=5810)\u001b[0m found new global minimum on step 10 with function value 6.29861e+10\n",
      "\u001b[2m\u001b[36m(pid=5810)\u001b[0m basinhopping step 0: f 6.27468e+10\n",
      "\u001b[2m\u001b[36m(pid=6068)\u001b[0m basinhopping step 4: f 4.28608e+09 trial_f 4.28608e+09 accepted 1  lowest_f 4.28608e+09\n",
      "\u001b[2m\u001b[36m(pid=6068)\u001b[0m found new global minimum on step 4 with function value 4.28608e+09\n",
      "\u001b[2m\u001b[36m(pid=5810)\u001b[0m basinhopping step 1: f 6.27468e+10 trial_f 6.30379e+10 accepted 0  lowest_f 6.27468e+10\n",
      "\u001b[2m\u001b[36m(pid=5810)\u001b[0m basinhopping step 2: f 6.27468e+10 trial_f 6.29643e+10 accepted 0  lowest_f 6.27468e+10\n"
     ]
    },
    {
     "name": "stderr",
     "output_type": "stream",
     "text": [
      "2020-10-22 11:00:30,815\tWARNING worker.py:1090 -- WARNING: 10 PYTHON workers have been started. This could be a result of using a large number of actors, or it could be a consequence of using nested tasks (see https://github.com/ray-project/ray/issues/3644) for some a discussion of workarounds.\n"
     ]
    },
    {
     "name": "stdout",
     "output_type": "stream",
     "text": [
      "\u001b[2m\u001b[36m(pid=5982)\u001b[0m basinhopping step 9: f 1.50217e+09 trial_f 6.84384e+15 accepted 0  lowest_f 1.50217e+09\n",
      "\u001b[2m\u001b[36m(pid=6068)\u001b[0m basinhopping step 5: f 4.28608e+09 trial_f 4.77513e+13 accepted 0  lowest_f 4.28608e+09\n",
      "\u001b[2m\u001b[36m(pid=5982)\u001b[0m basinhopping step 10: f 1.50217e+09 trial_f 3.09163e+16 accepted 0  lowest_f 1.50217e+09\n",
      "\u001b[2m\u001b[36m(pid=5982)\u001b[0m basinhopping step 0: f 1.80342e+09\n",
      "\u001b[2m\u001b[36m(pid=5982)\u001b[0m basinhopping step 1: f 1.80342e+09 trial_f 1.80342e+09 accepted 1  lowest_f 1.80342e+09\n",
      "\u001b[2m\u001b[36m(pid=5982)\u001b[0m basinhopping step 2: f 1.80342e+09 trial_f 1.80342e+09 accepted 1  lowest_f 1.80342e+09\n"
     ]
    },
    {
     "name": "stderr",
     "output_type": "stream",
     "text": [
      "2020-10-22 11:00:50,346\tWARNING worker.py:1090 -- WARNING: 10 PYTHON workers have been started. This could be a result of using a large number of actors, or it could be a consequence of using nested tasks (see https://github.com/ray-project/ray/issues/3644) for some a discussion of workarounds.\n"
     ]
    },
    {
     "name": "stdout",
     "output_type": "stream",
     "text": [
      "\u001b[2m\u001b[36m(pid=5924)\u001b[0m basinhopping step 8: f 7.95404e+07 trial_f 1.63584e+08 accepted 0  lowest_f 7.95404e+07\n",
      "\u001b[2m\u001b[36m(pid=6352)\u001b[0m basinhopping step 0: f 4.27666e+09\n",
      "\u001b[2m\u001b[36m(pid=6457)\u001b[0m warning: basinhopping: local minimization failure\n",
      "\u001b[2m\u001b[36m(pid=6457)\u001b[0m basinhopping step 0: f 8.24798e+08\n",
      "\u001b[2m\u001b[36m(pid=6055)\u001b[0m basinhopping step 3: f 1.78299e+09 trial_f 1.26975e+12 accepted 0  lowest_f 1.78299e+09\n",
      "\u001b[2m\u001b[36m(pid=6457)\u001b[0m warning: basinhopping: local minimization failure\n",
      "\u001b[2m\u001b[36m(pid=6457)\u001b[0m basinhopping step 1: f 8.22738e+08 trial_f 8.22738e+08 accepted 1  lowest_f 8.22738e+08\n",
      "\u001b[2m\u001b[36m(pid=6457)\u001b[0m found new global minimum on step 1 with function value 8.22738e+08\n",
      "\u001b[2m\u001b[36m(pid=5924)\u001b[0m basinhopping step 9: f 7.95404e+07 trial_f 2.72844e+09 accepted 0  lowest_f 7.95404e+07\n",
      "\u001b[2m\u001b[36m(pid=6068)\u001b[0m basinhopping step 6: f 4.28608e+09 trial_f 3.81017e+13 accepted 0  lowest_f 4.28608e+09\n",
      "\u001b[2m\u001b[36m(pid=6055)\u001b[0m basinhopping step 4: f 1.78299e+09 trial_f 7.30481e+11 accepted 0  lowest_f 1.78299e+09\n",
      "\u001b[2m\u001b[36m(pid=6457)\u001b[0m basinhopping step 2: f 8.22738e+08 trial_f 3.44012e+15 accepted 0  lowest_f 8.22738e+08\n",
      "\u001b[2m\u001b[36m(pid=6457)\u001b[0m basinhopping step 3: f 7.87138e+08 trial_f 7.87138e+08 accepted 1  lowest_f 7.87138e+08\n",
      "\u001b[2m\u001b[36m(pid=6457)\u001b[0m found new global minimum on step 3 with function value 7.87138e+08\n",
      "\u001b[2m\u001b[36m(pid=6055)\u001b[0m basinhopping step 5: f 1.78299e+09 trial_f 2.09841e+13 accepted 0  lowest_f 1.78299e+09\n",
      "\u001b[2m\u001b[36m(pid=5924)\u001b[0m basinhopping step 10: f 7.95404e+07 trial_f 5.15585e+08 accepted 0  lowest_f 7.95404e+07\n",
      "\u001b[2m\u001b[36m(pid=6457)\u001b[0m basinhopping step 4: f 7.87138e+08 trial_f 4.24391e+15 accepted 0  lowest_f 7.87138e+08\n",
      "\u001b[2m\u001b[36m(pid=6068)\u001b[0m warning: basinhopping: local minimization failure\n",
      "\u001b[2m\u001b[36m(pid=6068)\u001b[0m basinhopping step 7: f 4.28608e+09 trial_f 2.21585e+12 accepted 0  lowest_f 4.28608e+09\n",
      "\u001b[2m\u001b[36m(pid=5924)\u001b[0m basinhopping step 0: f 7.8977e+07\n",
      "\u001b[2m\u001b[36m(pid=5924)\u001b[0m basinhopping step 1: f 7.8977e+07 trial_f 7.8977e+07 accepted 1  lowest_f 7.8977e+07\n",
      "\u001b[2m\u001b[36m(pid=6068)\u001b[0m basinhopping step 8: f 4.28608e+09 trial_f 8.44601e+11 accepted 0  lowest_f 4.28608e+09\n",
      "\u001b[2m\u001b[36m(pid=5924)\u001b[0m basinhopping step 2: f 7.8977e+07 trial_f 7.8977e+07 accepted 1  lowest_f 7.8977e+07\n"
     ]
    },
    {
     "name": "stderr",
     "output_type": "stream",
     "text": [
      "2020-10-22 11:01:32,362\tWARNING worker.py:1090 -- WARNING: 10 PYTHON workers have been started. This could be a result of using a large number of actors, or it could be a consequence of using nested tasks (see https://github.com/ray-project/ray/issues/3644) for some a discussion of workarounds.\n"
     ]
    },
    {
     "name": "stdout",
     "output_type": "stream",
     "text": [
      "\u001b[2m\u001b[36m(pid=6457)\u001b[0m basinhopping step 5: f 7.87138e+08 trial_f 8.25816e+08 accepted 0  lowest_f 7.87138e+08\n",
      "\u001b[2m\u001b[36m(pid=6352)\u001b[0m basinhopping step 1: f 4.27666e+09 trial_f 2.50746e+11 accepted 0  lowest_f 4.27666e+09\n",
      "\u001b[2m\u001b[36m(pid=6352)\u001b[0m basinhopping step 2: f 4.27666e+09 trial_f 2.17313e+11 accepted 0  lowest_f 4.27666e+09\n",
      "\u001b[2m\u001b[36m(pid=6055)\u001b[0m warning: basinhopping: local minimization failure\n",
      "\u001b[2m\u001b[36m(pid=6055)\u001b[0m basinhopping step 6: f 1.78299e+09 trial_f 1.32042e+12 accepted 0  lowest_f 1.78299e+09\n",
      "\u001b[2m\u001b[36m(pid=6496)\u001b[0m basinhopping step 0: f 3.78027e+09\n",
      "\u001b[2m\u001b[36m(pid=6352)\u001b[0m basinhopping step 3: f 4.27666e+09 trial_f 6.76883e+12 accepted 0  lowest_f 4.27666e+09\n",
      "\u001b[2m\u001b[36m(pid=6496)\u001b[0m warning: basinhopping: local minimization failure\n",
      "\u001b[2m\u001b[36m(pid=6496)\u001b[0m basinhopping step 1: f 3.78027e+09 trial_f 6.78849e+09 accepted 0  lowest_f 3.78027e+09\n",
      "\u001b[2m\u001b[36m(pid=6068)\u001b[0m basinhopping step 9: f 4.28608e+09 trial_f 4.21565e+13 accepted 0  lowest_f 4.28608e+09\n",
      "\u001b[2m\u001b[36m(pid=6055)\u001b[0m basinhopping step 7: f 1.78299e+09 trial_f 1.40996e+14 accepted 0  lowest_f 1.78299e+09\n",
      "\u001b[2m\u001b[36m(pid=6457)\u001b[0m basinhopping step 6: f 7.87138e+08 trial_f 1.27645e+15 accepted 0  lowest_f 7.87138e+08\n",
      "\u001b[2m\u001b[36m(pid=6496)\u001b[0m basinhopping step 2: f 3.78027e+09 trial_f 7.26933e+13 accepted 0  lowest_f 3.78027e+09\n",
      "\u001b[2m\u001b[36m(pid=6068)\u001b[0m basinhopping step 10: f 4.28608e+09 trial_f 4.58713e+13 accepted 0  lowest_f 4.28608e+09\n",
      "\u001b[2m\u001b[36m(pid=6068)\u001b[0m basinhopping step 0: f 3.35255e+09\n",
      "\u001b[2m\u001b[36m(pid=6068)\u001b[0m basinhopping step 1: f 3.35255e+09 trial_f 3.43675e+09 accepted 0  lowest_f 3.35255e+09\n",
      "\u001b[2m\u001b[36m(pid=6068)\u001b[0m basinhopping step 2: f 3.29026e+09 trial_f 3.29026e+09 accepted 1  lowest_f 3.29026e+09\n",
      "\u001b[2m\u001b[36m(pid=6068)\u001b[0m found new global minimum on step 2 with function value 3.29026e+09\n"
     ]
    },
    {
     "name": "stderr",
     "output_type": "stream",
     "text": [
      "2020-10-22 11:02:06,927\tWARNING worker.py:1090 -- WARNING: 10 PYTHON workers have been started. This could be a result of using a large number of actors, or it could be a consequence of using nested tasks (see https://github.com/ray-project/ray/issues/3644) for some a discussion of workarounds.\n"
     ]
    },
    {
     "name": "stdout",
     "output_type": "stream",
     "text": [
      "\u001b[2m\u001b[36m(pid=6352)\u001b[0m basinhopping step 4: f 4.27666e+09 trial_f 1.03263e+11 accepted 0  lowest_f 4.27666e+09\n",
      "\u001b[2m\u001b[36m(pid=6496)\u001b[0m basinhopping step 3: f 3.78027e+09 trial_f 4.63607e+09 accepted 0  lowest_f 3.78027e+09\n",
      "\u001b[2m\u001b[36m(pid=6496)\u001b[0m basinhopping step 4: f 3.78027e+09 trial_f 5.16344e+12 accepted 0  lowest_f 3.78027e+09\n",
      "\u001b[2m\u001b[36m(pid=6496)\u001b[0m basinhopping step 5: f 3.78027e+09 trial_f 5.15892e+12 accepted 0  lowest_f 3.78027e+09\n",
      "\u001b[2m\u001b[36m(pid=6457)\u001b[0m basinhopping step 7: f 2.99692e+08 trial_f 2.99692e+08 accepted 1  lowest_f 2.99692e+08\n",
      "\u001b[2m\u001b[36m(pid=6457)\u001b[0m found new global minimum on step 7 with function value 2.99692e+08\n",
      "\u001b[2m\u001b[36m(pid=6352)\u001b[0m basinhopping step 5: f 4.27666e+09 trial_f 1.14164e+12 accepted 0  lowest_f 4.27666e+09\n",
      "\u001b[2m\u001b[36m(pid=6562)\u001b[0m basinhopping step 0: f 8.73013e+09\n",
      "\u001b[2m\u001b[36m(pid=6562)\u001b[0m basinhopping step 1: f 8.73013e+09 trial_f 8.05023e+12 accepted 0  lowest_f 8.73013e+09\n",
      "\u001b[2m\u001b[36m(pid=6496)\u001b[0m basinhopping step 6: f 3.78027e+09 trial_f 9.7953e+12 accepted 0  lowest_f 3.78027e+09\n",
      "\u001b[2m\u001b[36m(pid=6457)\u001b[0m warning: basinhopping: local minimization failure\n",
      "\u001b[2m\u001b[36m(pid=6457)\u001b[0m basinhopping step 8: f 2.99692e+08 trial_f 8.21716e+08 accepted 0  lowest_f 2.99692e+08\n",
      "\u001b[2m\u001b[36m(pid=6352)\u001b[0m basinhopping step 6: f 4.27666e+09 trial_f 1.87296e+13 accepted 0  lowest_f 4.27666e+09\n",
      "\u001b[2m\u001b[36m(pid=6457)\u001b[0m basinhopping step 9: f 2.99692e+08 trial_f 1.24359e+15 accepted 0  lowest_f 2.99692e+08\n",
      "\u001b[2m\u001b[36m(pid=6496)\u001b[0m basinhopping step 7: f 3.78027e+09 trial_f 1.49084e+13 accepted 0  lowest_f 3.78027e+09\n",
      "\u001b[2m\u001b[36m(pid=6496)\u001b[0m basinhopping step 8: f 3.78027e+09 trial_f 9.75785e+12 accepted 0  lowest_f 3.78027e+09\n",
      "\u001b[2m\u001b[36m(pid=6055)\u001b[0m warning: basinhopping: local minimization failure\n",
      "\u001b[2m\u001b[36m(pid=6055)\u001b[0m basinhopping step 8: f 1.78299e+09 trial_f 4.99108e+09 accepted 0  lowest_f 1.78299e+09\n",
      "\u001b[2m\u001b[36m(pid=6055)\u001b[0m basinhopping step 9: f 1.78299e+09 trial_f 5.93694e+10 accepted 0  lowest_f 1.78299e+09\n",
      "\u001b[2m\u001b[36m(pid=6496)\u001b[0m basinhopping step 9: f 3.78027e+09 trial_f 1.61763e+13 accepted 0  lowest_f 3.78027e+09\n",
      "\u001b[2m\u001b[36m(pid=6457)\u001b[0m warning: basinhopping: local minimization failure\n",
      "\u001b[2m\u001b[36m(pid=6457)\u001b[0m basinhopping step 10: f 2.99692e+08 trial_f 8.24785e+08 accepted 0  lowest_f 2.99692e+08\n",
      "\u001b[2m\u001b[36m(pid=6457)\u001b[0m basinhopping step 0: f 2.94727e+08\n",
      "\u001b[2m\u001b[36m(pid=6457)\u001b[0m basinhopping step 1: f 2.94467e+08 trial_f 2.94467e+08 accepted 1  lowest_f 2.94467e+08\n",
      "\u001b[2m\u001b[36m(pid=6457)\u001b[0m found new global minimum on step 1 with function value 2.94467e+08\n",
      "\u001b[2m\u001b[36m(pid=6457)\u001b[0m basinhopping step 2: f 2.90418e+08 trial_f 2.90418e+08 accepted 1  lowest_f 2.90418e+08\n",
      "\u001b[2m\u001b[36m(pid=6457)\u001b[0m found new global minimum on step 2 with function value 2.90418e+08\n"
     ]
    },
    {
     "name": "stderr",
     "output_type": "stream",
     "text": [
      "2020-10-22 11:02:56,888\tWARNING worker.py:1090 -- WARNING: 10 PYTHON workers have been started. This could be a result of using a large number of actors, or it could be a consequence of using nested tasks (see https://github.com/ray-project/ray/issues/3644) for some a discussion of workarounds.\n"
     ]
    },
    {
     "name": "stdout",
     "output_type": "stream",
     "text": [
      "\u001b[2m\u001b[36m(pid=6562)\u001b[0m basinhopping step 2: f 8.73013e+09 trial_f 1.22051e+11 accepted 0  lowest_f 8.73013e+09\n",
      "\u001b[2m\u001b[36m(pid=6562)\u001b[0m basinhopping step 3: f 8.73013e+09 trial_f 6.86074e+11 accepted 0  lowest_f 8.73013e+09\n",
      "\u001b[2m\u001b[36m(pid=6659)\u001b[0m basinhopping step 0: f 6.94617e+08\n",
      "\u001b[2m\u001b[36m(pid=6659)\u001b[0m basinhopping step 1: f 6.94617e+08 trial_f 4.7048e+14 accepted 0  lowest_f 6.94617e+08\n",
      "\u001b[2m\u001b[36m(pid=6562)\u001b[0m basinhopping step 4: f 8.73013e+09 trial_f 7.50769e+11 accepted 0  lowest_f 8.73013e+09\n",
      "\u001b[2m\u001b[36m(pid=6496)\u001b[0m basinhopping step 10: f 3.78027e+09 trial_f 6.8965e+13 accepted 0  lowest_f 3.78027e+09\n",
      "\u001b[2m\u001b[36m(pid=6496)\u001b[0m basinhopping step 0: f 3.77454e+09\n",
      "\u001b[2m\u001b[36m(pid=6496)\u001b[0m basinhopping step 1: f 3.77454e+09 trial_f 3.78275e+09 accepted 0  lowest_f 3.77454e+09\n",
      "\u001b[2m\u001b[36m(pid=6562)\u001b[0m warning: basinhopping: local minimization failure\n",
      "\u001b[2m\u001b[36m(pid=6562)\u001b[0m basinhopping step 5: f 8.73013e+09 trial_f 1.00019e+12 accepted 0  lowest_f 8.73013e+09\n",
      "\u001b[2m\u001b[36m(pid=6496)\u001b[0m basinhopping step 2: f 3.77006e+09 trial_f 3.77006e+09 accepted 1  lowest_f 3.77006e+09\n",
      "\u001b[2m\u001b[36m(pid=6496)\u001b[0m found new global minimum on step 2 with function value 3.77006e+09\n"
     ]
    },
    {
     "name": "stderr",
     "output_type": "stream",
     "text": [
      "2020-10-22 11:03:15,707\tWARNING worker.py:1090 -- WARNING: 10 PYTHON workers have been started. This could be a result of using a large number of actors, or it could be a consequence of using nested tasks (see https://github.com/ray-project/ray/issues/3644) for some a discussion of workarounds.\n"
     ]
    },
    {
     "name": "stdout",
     "output_type": "stream",
     "text": [
      "\u001b[2m\u001b[36m(pid=6562)\u001b[0m basinhopping step 6: f 8.73013e+09 trial_f 6.53971e+11 accepted 0  lowest_f 8.73013e+09\n",
      "\u001b[2m\u001b[36m(pid=6562)\u001b[0m basinhopping step 7: f 8.73013e+09 trial_f 6.76567e+11 accepted 0  lowest_f 8.73013e+09\n",
      "\u001b[2m\u001b[36m(pid=6055)\u001b[0m basinhopping step 10: f 1.78299e+09 trial_f 1.68959e+11 accepted 0  lowest_f 1.78299e+09\n",
      "\u001b[2m\u001b[36m(pid=6055)\u001b[0m basinhopping step 0: f 1.76884e+09\n",
      "\u001b[2m\u001b[36m(pid=6055)\u001b[0m basinhopping step 1: f 1.76884e+09 trial_f 1.77785e+09 accepted 0  lowest_f 1.76884e+09\n",
      "\u001b[2m\u001b[36m(pid=6055)\u001b[0m basinhopping step 2: f 1.76884e+09 trial_f 1.7926e+09 accepted 0  lowest_f 1.76884e+09\n"
     ]
    },
    {
     "name": "stderr",
     "output_type": "stream",
     "text": [
      "2020-10-22 11:03:36,267\tWARNING worker.py:1090 -- WARNING: 10 PYTHON workers have been started. This could be a result of using a large number of actors, or it could be a consequence of using nested tasks (see https://github.com/ray-project/ray/issues/3644) for some a discussion of workarounds.\n"
     ]
    },
    {
     "name": "stdout",
     "output_type": "stream",
     "text": [
      "\u001b[2m\u001b[36m(pid=6688)\u001b[0m warning: basinhopping: local minimization failure\n",
      "\u001b[2m\u001b[36m(pid=6688)\u001b[0m basinhopping step 0: f 3.7549e+09\n",
      "\u001b[2m\u001b[36m(pid=6562)\u001b[0m basinhopping step 8: f 8.73013e+09 trial_f 1.0018e+12 accepted 0  lowest_f 8.73013e+09\n",
      "\u001b[2m\u001b[36m(pid=6352)\u001b[0m basinhopping step 7: f 4.27666e+09 trial_f 1.04063e+11 accepted 0  lowest_f 4.27666e+09\n",
      "\u001b[2m\u001b[36m(pid=6713)\u001b[0m warning: basinhopping: local minimization failure\n",
      "\u001b[2m\u001b[36m(pid=6713)\u001b[0m basinhopping step 0: f 1.35399e+12\n",
      "\u001b[2m\u001b[36m(pid=6659)\u001b[0m basinhopping step 2: f 6.94617e+08 trial_f 1.22611e+09 accepted 0  lowest_f 6.94617e+08\n",
      "\u001b[2m\u001b[36m(pid=6713)\u001b[0m warning: basinhopping: local minimization failure\n",
      "\u001b[2m\u001b[36m(pid=6713)\u001b[0m basinhopping step 1: f 1.35399e+12 trial_f 2.29804e+16 accepted 0  lowest_f 1.35399e+12\n",
      "\u001b[2m\u001b[36m(pid=6688)\u001b[0m basinhopping step 1: f 3.7549e+09 trial_f 6.405e+09 accepted 0  lowest_f 3.7549e+09\n",
      "\u001b[2m\u001b[36m(pid=6659)\u001b[0m warning: basinhopping: local minimization failure\n",
      "\u001b[2m\u001b[36m(pid=6659)\u001b[0m basinhopping step 3: f 6.94617e+08 trial_f 1.21881e+09 accepted 0  lowest_f 6.94617e+08\n",
      "\u001b[2m\u001b[36m(pid=6352)\u001b[0m warning: basinhopping: local minimization failure\n",
      "\u001b[2m\u001b[36m(pid=6352)\u001b[0m basinhopping step 8: f 4.27666e+09 trial_f 2.49494e+11 accepted 0  lowest_f 4.27666e+09\n",
      "\u001b[2m\u001b[36m(pid=6659)\u001b[0m basinhopping step 4: f 6.94617e+08 trial_f 8.01501e+14 accepted 0  lowest_f 6.94617e+08\n",
      "\u001b[2m\u001b[36m(pid=6688)\u001b[0m warning: basinhopping: local minimization failure\n",
      "\u001b[2m\u001b[36m(pid=6688)\u001b[0m basinhopping step 2: f 3.7549e+09 trial_f 2.8327e+12 accepted 0  lowest_f 3.7549e+09\n",
      "\u001b[2m\u001b[36m(pid=6713)\u001b[0m basinhopping step 2: f 9.33816e+11 trial_f 9.33816e+11 accepted 1  lowest_f 9.33816e+11\n",
      "\u001b[2m\u001b[36m(pid=6713)\u001b[0m found new global minimum on step 2 with function value 9.33816e+11\n",
      "\u001b[2m\u001b[36m(pid=6562)\u001b[0m basinhopping step 9: f 8.73013e+09 trial_f 8.83557e+11 accepted 0  lowest_f 8.73013e+09\n",
      "\u001b[2m\u001b[36m(pid=6688)\u001b[0m basinhopping step 3: f 3.27779e+09 trial_f 3.27779e+09 accepted 1  lowest_f 3.27779e+09\n",
      "\u001b[2m\u001b[36m(pid=6688)\u001b[0m found new global minimum on step 3 with function value 3.27779e+09\n",
      "\u001b[2m\u001b[36m(pid=6562)\u001b[0m basinhopping step 10: f 8.73013e+09 trial_f 6.96081e+11 accepted 0  lowest_f 8.73013e+09\n",
      "\u001b[2m\u001b[36m(pid=6562)\u001b[0m basinhopping step 0: f 6.73058e+09\n",
      "\u001b[2m\u001b[36m(pid=6713)\u001b[0m warning: basinhopping: local minimization failure\n",
      "\u001b[2m\u001b[36m(pid=6713)\u001b[0m basinhopping step 3: f 9.33816e+11 trial_f 1.16902e+12 accepted 0  lowest_f 9.33816e+11\n",
      "\u001b[2m\u001b[36m(pid=6562)\u001b[0m basinhopping step 1: f 6.73058e+09 trial_f 6.73064e+09 accepted 0  lowest_f 6.73058e+09\n",
      "\u001b[2m\u001b[36m(pid=6562)\u001b[0m basinhopping step 2: f 6.73058e+09 trial_f 6.8107e+09 accepted 0  lowest_f 6.73058e+09\n"
     ]
    },
    {
     "name": "stderr",
     "output_type": "stream",
     "text": [
      "2020-10-22 11:04:16,098\tWARNING worker.py:1090 -- WARNING: 10 PYTHON workers have been started. This could be a result of using a large number of actors, or it could be a consequence of using nested tasks (see https://github.com/ray-project/ray/issues/3644) for some a discussion of workarounds.\n"
     ]
    },
    {
     "name": "stdout",
     "output_type": "stream",
     "text": [
      "\u001b[2m\u001b[36m(pid=6352)\u001b[0m basinhopping step 9: f 4.27666e+09 trial_f 4.92947e+13 accepted 0  lowest_f 4.27666e+09\n",
      "\u001b[2m\u001b[36m(pid=6659)\u001b[0m basinhopping step 5: f 6.94617e+08 trial_f 1.88124e+15 accepted 0  lowest_f 6.94617e+08\n",
      "\u001b[2m\u001b[36m(pid=6732)\u001b[0m warning: basinhopping: local minimization failure\n",
      "\u001b[2m\u001b[36m(pid=6732)\u001b[0m basinhopping step 0: f 4.78218e+11\n",
      "\u001b[2m\u001b[36m(pid=6688)\u001b[0m basinhopping step 4: f 3.27779e+09 trial_f 4.1316e+09 accepted 0  lowest_f 3.27779e+09\n",
      "\u001b[2m\u001b[36m(pid=6659)\u001b[0m basinhopping step 6: f 6.94617e+08 trial_f 1.36625e+16 accepted 0  lowest_f 6.94617e+08\n",
      "\u001b[2m\u001b[36m(pid=6713)\u001b[0m basinhopping step 4: f 9.33816e+11 trial_f 1.35344e+12 accepted 0  lowest_f 9.33816e+11\n",
      "\u001b[2m\u001b[36m(pid=6659)\u001b[0m warning: basinhopping: local minimization failure\n",
      "\u001b[2m\u001b[36m(pid=6659)\u001b[0m basinhopping step 7: f 6.94617e+08 trial_f 1.22859e+09 accepted 0  lowest_f 6.94617e+08\n",
      "\u001b[2m\u001b[36m(pid=6732)\u001b[0m warning: basinhopping: local minimization failure\n",
      "\u001b[2m\u001b[36m(pid=6732)\u001b[0m basinhopping step 1: f 4.78218e+11 trial_f 9.58537e+11 accepted 0  lowest_f 4.78218e+11\n",
      "\u001b[2m\u001b[36m(pid=6352)\u001b[0m basinhopping step 10: f 4.27666e+09 trial_f 1.77741e+13 accepted 0  lowest_f 4.27666e+09\n",
      "\u001b[2m\u001b[36m(pid=6352)\u001b[0m basinhopping step 0: f 2.29455e+09\n",
      "\u001b[2m\u001b[36m(pid=6352)\u001b[0m basinhopping step 1: f 2.29455e+09 trial_f 3.13355e+09 accepted 0  lowest_f 2.29455e+09\n",
      "\u001b[2m\u001b[36m(pid=6352)\u001b[0m basinhopping step 2: f 2.20648e+09 trial_f 2.20648e+09 accepted 1  lowest_f 2.20648e+09\n",
      "\u001b[2m\u001b[36m(pid=6352)\u001b[0m found new global minimum on step 2 with function value 2.20648e+09\n",
      "\u001b[2m\u001b[36m(pid=6688)\u001b[0m basinhopping step 5: f 3.27779e+09 trial_f 1.53534e+14 accepted 0  lowest_f 3.27779e+09\n"
     ]
    },
    {
     "name": "stderr",
     "output_type": "stream",
     "text": [
      "2020-10-22 11:04:50,425\tWARNING worker.py:1090 -- WARNING: 10 PYTHON workers have been started. This could be a result of using a large number of actors, or it could be a consequence of using nested tasks (see https://github.com/ray-project/ray/issues/3644) for some a discussion of workarounds.\n"
     ]
    },
    {
     "name": "stdout",
     "output_type": "stream",
     "text": [
      "\u001b[2m\u001b[36m(pid=6713)\u001b[0m warning: basinhopping: local minimization failure\n",
      "\u001b[2m\u001b[36m(pid=6713)\u001b[0m basinhopping step 5: f 9.33816e+11 trial_f 2.61753e+16 accepted 0  lowest_f 9.33816e+11\n",
      "\u001b[2m\u001b[36m(pid=6659)\u001b[0m basinhopping step 8: f 6.94617e+08 trial_f 4.70475e+14 accepted 0  lowest_f 6.94617e+08\n",
      "\u001b[2m\u001b[36m(pid=6688)\u001b[0m basinhopping step 6: f 3.27779e+09 trial_f 3.07787e+13 accepted 0  lowest_f 3.27779e+09\n",
      "\u001b[2m\u001b[36m(pid=6759)\u001b[0m basinhopping step 0: f 5.5699e+11\n",
      "\u001b[2m\u001b[36m(pid=6688)\u001b[0m warning: basinhopping: local minimization failure\n",
      "\u001b[2m\u001b[36m(pid=6688)\u001b[0m basinhopping step 7: f 3.27779e+09 trial_f 6.40805e+09 accepted 0  lowest_f 3.27779e+09\n",
      "\u001b[2m\u001b[36m(pid=6732)\u001b[0m basinhopping step 2: f 4.78218e+11 trial_f 8.95169e+13 accepted 0  lowest_f 4.78218e+11\n",
      "\u001b[2m\u001b[36m(pid=6713)\u001b[0m basinhopping step 6: f 9.33816e+11 trial_f 1.33747e+12 accepted 0  lowest_f 9.33816e+11\n",
      "\u001b[2m\u001b[36m(pid=6688)\u001b[0m warning: basinhopping: local minimization failure\n",
      "\u001b[2m\u001b[36m(pid=6688)\u001b[0m basinhopping step 8: f 3.27779e+09 trial_f 6.40699e+09 accepted 0  lowest_f 3.27779e+09\n",
      "\u001b[2m\u001b[36m(pid=6759)\u001b[0m basinhopping step 1: f 5.5699e+11 trial_f 3.00571e+15 accepted 0  lowest_f 5.5699e+11\n",
      "\u001b[2m\u001b[36m(pid=6659)\u001b[0m warning: basinhopping: local minimization failure\n",
      "\u001b[2m\u001b[36m(pid=6659)\u001b[0m basinhopping step 9: f 6.94617e+08 trial_f 1.38063e+15 accepted 0  lowest_f 6.94617e+08\n",
      "\u001b[2m\u001b[36m(pid=6688)\u001b[0m warning: basinhopping: local minimization failure\n",
      "\u001b[2m\u001b[36m(pid=6688)\u001b[0m basinhopping step 9: f 3.27779e+09 trial_f 6.18503e+09 accepted 0  lowest_f 3.27779e+09\n",
      "\u001b[2m\u001b[36m(pid=6713)\u001b[0m basinhopping step 7: f 9.33816e+11 trial_f 3.56908e+16 accepted 0  lowest_f 9.33816e+11\n",
      "\u001b[2m\u001b[36m(pid=6659)\u001b[0m basinhopping step 10: f 6.94617e+08 trial_f 4.70475e+14 accepted 0  lowest_f 6.94617e+08\n",
      "\u001b[2m\u001b[36m(pid=6659)\u001b[0m basinhopping step 0: f 6.68783e+08\n",
      "\u001b[2m\u001b[36m(pid=6659)\u001b[0m basinhopping step 1: f 6.68739e+08 trial_f 6.68739e+08 accepted 1  lowest_f 6.68739e+08\n",
      "\u001b[2m\u001b[36m(pid=6659)\u001b[0m found new global minimum on step 1 with function value 6.68739e+08\n",
      "\u001b[2m\u001b[36m(pid=6713)\u001b[0m basinhopping step 8: f 9.33816e+11 trial_f 2.62393e+16 accepted 0  lowest_f 9.33816e+11\n",
      "\u001b[2m\u001b[36m(pid=6688)\u001b[0m basinhopping step 10: f 3.27779e+09 trial_f 1.53534e+14 accepted 0  lowest_f 3.27779e+09\n",
      "\u001b[2m\u001b[36m(pid=6659)\u001b[0m basinhopping step 2: f 6.68708e+08 trial_f 6.68708e+08 accepted 1  lowest_f 6.68708e+08\n",
      "\u001b[2m\u001b[36m(pid=6659)\u001b[0m found new global minimum on step 2 with function value 6.68708e+08\n"
     ]
    },
    {
     "name": "stderr",
     "output_type": "stream",
     "text": [
      "2020-10-22 11:05:24,106\tWARNING worker.py:1090 -- WARNING: 10 PYTHON workers have been started. This could be a result of using a large number of actors, or it could be a consequence of using nested tasks (see https://github.com/ray-project/ray/issues/3644) for some a discussion of workarounds.\n"
     ]
    },
    {
     "name": "stdout",
     "output_type": "stream",
     "text": [
      "\u001b[2m\u001b[36m(pid=6688)\u001b[0m basinhopping step 0: f 2.98817e+09\n",
      "\u001b[2m\u001b[36m(pid=6688)\u001b[0m basinhopping step 1: f 2.98817e+09 trial_f 2.99124e+09 accepted 0  lowest_f 2.98817e+09\n",
      "\u001b[2m\u001b[36m(pid=6839)\u001b[0m basinhopping step 0: f 2.82019e+09\n",
      "\u001b[2m\u001b[36m(pid=6688)\u001b[0m basinhopping step 2: f 2.98391e+09 trial_f 2.98391e+09 accepted 1  lowest_f 2.98391e+09\n",
      "\u001b[2m\u001b[36m(pid=6688)\u001b[0m found new global minimum on step 2 with function value 2.98391e+09\n",
      "\u001b[2m\u001b[36m(pid=6732)\u001b[0m warning: basinhopping: local minimization failure\n",
      "\u001b[2m\u001b[36m(pid=6732)\u001b[0m basinhopping step 3: f 4.78218e+11 trial_f 6.10591e+11 accepted 0  lowest_f 4.78218e+11\n"
     ]
    },
    {
     "name": "stderr",
     "output_type": "stream",
     "text": [
      "2020-10-22 11:05:27,185\tWARNING worker.py:1090 -- WARNING: 10 PYTHON workers have been started. This could be a result of using a large number of actors, or it could be a consequence of using nested tasks (see https://github.com/ray-project/ray/issues/3644) for some a discussion of workarounds.\n"
     ]
    },
    {
     "name": "stdout",
     "output_type": "stream",
     "text": [
      "\u001b[2m\u001b[36m(pid=6839)\u001b[0m warning: basinhopping: local minimization failure\n",
      "\u001b[2m\u001b[36m(pid=6839)\u001b[0m basinhopping step 1: f 2.82019e+09 trial_f 1.83517e+15 accepted 0  lowest_f 2.82019e+09\n",
      "\u001b[2m\u001b[36m(pid=6839)\u001b[0m basinhopping step 2: f 2.81762e+09 trial_f 2.81762e+09 accepted 1  lowest_f 2.81762e+09\n",
      "\u001b[2m\u001b[36m(pid=6839)\u001b[0m found new global minimum on step 2 with function value 2.81762e+09\n",
      "\u001b[2m\u001b[36m(pid=6839)\u001b[0m basinhopping step 3: f 2.81762e+09 trial_f 2.82019e+09 accepted 0  lowest_f 2.81762e+09\n",
      "\u001b[2m\u001b[36m(pid=6732)\u001b[0m basinhopping step 4: f 4.78218e+11 trial_f 1.73401e+14 accepted 0  lowest_f 4.78218e+11\n",
      "\u001b[2m\u001b[36m(pid=6713)\u001b[0m warning: basinhopping: local minimization failure\n",
      "\u001b[2m\u001b[36m(pid=6713)\u001b[0m basinhopping step 9: f 9.33816e+11 trial_f 1.35393e+12 accepted 0  lowest_f 9.33816e+11\n",
      "\u001b[2m\u001b[36m(pid=6732)\u001b[0m basinhopping step 5: f 4.78218e+11 trial_f 1.27128e+15 accepted 0  lowest_f 4.78218e+11\n",
      "\u001b[2m\u001b[36m(pid=6839)\u001b[0m basinhopping step 4: f 2.81762e+09 trial_f 1.27688e+16 accepted 0  lowest_f 2.81762e+09\n",
      "\u001b[2m\u001b[36m(pid=6759)\u001b[0m warning: basinhopping: local minimization failure\n",
      "\u001b[2m\u001b[36m(pid=6759)\u001b[0m basinhopping step 2: f 5.5699e+11 trial_f 5.63354e+11 accepted 0  lowest_f 5.5699e+11\n",
      "\u001b[2m\u001b[36m(pid=6713)\u001b[0m warning: basinhopping: local minimization failure\n",
      "\u001b[2m\u001b[36m(pid=6713)\u001b[0m basinhopping step 10: f 9.33816e+11 trial_f 1.34109e+12 accepted 0  lowest_f 9.33816e+11\n",
      "\u001b[2m\u001b[36m(pid=6713)\u001b[0m basinhopping step 0: f 4.1702e+11\n",
      "\u001b[2m\u001b[36m(pid=6713)\u001b[0m basinhopping step 1: f 4.1702e+11 trial_f 4.1702e+11 accepted 1  lowest_f 4.1702e+11\n",
      "\u001b[2m\u001b[36m(pid=6713)\u001b[0m basinhopping step 2: f 4.1702e+11 trial_f 4.1702e+11 accepted 1  lowest_f 4.1702e+11\n"
     ]
    },
    {
     "name": "stderr",
     "output_type": "stream",
     "text": [
      "2020-10-22 11:06:02,726\tWARNING worker.py:1090 -- WARNING: 10 PYTHON workers have been started. This could be a result of using a large number of actors, or it could be a consequence of using nested tasks (see https://github.com/ray-project/ray/issues/3644) for some a discussion of workarounds.\n"
     ]
    },
    {
     "name": "stdout",
     "output_type": "stream",
     "text": [
      "\u001b[2m\u001b[36m(pid=6839)\u001b[0m warning: basinhopping: local minimization failure\n",
      "\u001b[2m\u001b[36m(pid=6839)\u001b[0m basinhopping step 5: f 2.28413e+09 trial_f 2.28413e+09 accepted 1  lowest_f 2.28413e+09\n",
      "\u001b[2m\u001b[36m(pid=6839)\u001b[0m found new global minimum on step 5 with function value 2.28413e+09\n",
      "\u001b[2m\u001b[36m(pid=6906)\u001b[0m /home/ats4i/anaconda3/envs/geo_env/lib/python3.6/site-packages/scipy/integrate/odepack.py:248: ODEintWarning: Repeated error test failures (internal error). Run with full_output = 1 to get quantitative information.\n",
      "\u001b[2m\u001b[36m(pid=6906)\u001b[0m   warnings.warn(warning_msg, ODEintWarning)\n",
      "\u001b[2m\u001b[36m(pid=6839)\u001b[0m basinhopping step 6: f 2.28413e+09 trial_f 2.82373e+09 accepted 0  lowest_f 2.28413e+09\n",
      "\u001b[2m\u001b[36m(pid=6759)\u001b[0m warning: basinhopping: local minimization failure\n",
      "\u001b[2m\u001b[36m(pid=6759)\u001b[0m basinhopping step 3: f 5.5699e+11 trial_f 3.21153e+14 accepted 0  lowest_f 5.5699e+11\n",
      "\u001b[2m\u001b[36m(pid=6839)\u001b[0m basinhopping step 7: f 2.28413e+09 trial_f 3.19864e+16 accepted 0  lowest_f 2.28413e+09\n",
      "\u001b[2m\u001b[36m(pid=6906)\u001b[0m basinhopping step 0: f 1.51994e+16\n",
      "\u001b[2m\u001b[36m(pid=6732)\u001b[0m basinhopping step 6: f 4.78218e+11 trial_f 1.2466e+15 accepted 0  lowest_f 4.78218e+11\n",
      "\u001b[2m\u001b[36m(pid=6839)\u001b[0m basinhopping step 8: f 2.28413e+09 trial_f 1.43292e+16 accepted 0  lowest_f 2.28413e+09\n",
      "\u001b[2m\u001b[36m(pid=6906)\u001b[0m warning: basinhopping: local minimization failure\n",
      "\u001b[2m\u001b[36m(pid=6906)\u001b[0m basinhopping step 1: f 1.1137e+12 trial_f 1.1137e+12 accepted 1  lowest_f 1.1137e+12\n",
      "\u001b[2m\u001b[36m(pid=6906)\u001b[0m found new global minimum on step 1 with function value 1.1137e+12\n",
      "\u001b[2m\u001b[36m(pid=6906)\u001b[0m basinhopping step 2: f 1.1137e+12 trial_f 1.61663e+12 accepted 0  lowest_f 1.1137e+12\n",
      "\u001b[2m\u001b[36m(pid=6839)\u001b[0m basinhopping step 9: f 2.28413e+09 trial_f 1.39902e+16 accepted 0  lowest_f 2.28413e+09\n",
      "\u001b[2m\u001b[36m(pid=6732)\u001b[0m warning: basinhopping: local minimization failure\n",
      "\u001b[2m\u001b[36m(pid=6732)\u001b[0m basinhopping step 7: f 4.78218e+11 trial_f 9.58533e+11 accepted 0  lowest_f 4.78218e+11\n",
      "\u001b[2m\u001b[36m(pid=6906)\u001b[0m basinhopping step 3: f 1.1137e+12 trial_f 1.57413e+12 accepted 0  lowest_f 1.1137e+12\n",
      "\u001b[2m\u001b[36m(pid=6852)\u001b[0m basinhopping step 0: f 5.10148e+09\n",
      "\u001b[2m\u001b[36m(pid=6839)\u001b[0m warning: basinhopping: local minimization failure\n",
      "\u001b[2m\u001b[36m(pid=6839)\u001b[0m basinhopping step 10: f 2.28413e+09 trial_f 2.40073e+09 accepted 0  lowest_f 2.28413e+09\n",
      "\u001b[2m\u001b[36m(pid=6839)\u001b[0m basinhopping step 0: f 1.83813e+09\n",
      "\u001b[2m\u001b[36m(pid=6839)\u001b[0m basinhopping step 1: f 1.83813e+09 trial_f 1.83813e+09 accepted 1  lowest_f 1.83813e+09\n",
      "\u001b[2m\u001b[36m(pid=6839)\u001b[0m basinhopping step 2: f 1.83813e+09 trial_f 1.83813e+09 accepted 1  lowest_f 1.83813e+09\n"
     ]
    },
    {
     "name": "stderr",
     "output_type": "stream",
     "text": [
      "2020-10-22 11:07:01,745\tWARNING worker.py:1090 -- WARNING: 10 PYTHON workers have been started. This could be a result of using a large number of actors, or it could be a consequence of using nested tasks (see https://github.com/ray-project/ray/issues/3644) for some a discussion of workarounds.\n"
     ]
    },
    {
     "name": "stdout",
     "output_type": "stream",
     "text": [
      "\u001b[2m\u001b[36m(pid=6732)\u001b[0m basinhopping step 8: f 4.78218e+11 trial_f 1.62723e+15 accepted 0  lowest_f 4.78218e+11\n",
      "\u001b[2m\u001b[36m(pid=6759)\u001b[0m basinhopping step 4: f 5.5699e+11 trial_f 6.01694e+14 accepted 0  lowest_f 5.5699e+11\n",
      "\u001b[2m\u001b[36m(pid=6906)\u001b[0m basinhopping step 4: f 1.1137e+12 trial_f 1.61698e+12 accepted 0  lowest_f 1.1137e+12\n",
      "\u001b[2m\u001b[36m(pid=6939)\u001b[0m warning: basinhopping: local minimization failure\n",
      "\u001b[2m\u001b[36m(pid=6939)\u001b[0m basinhopping step 0: f 1.22472e+09\n",
      "\u001b[2m\u001b[36m(pid=6852)\u001b[0m basinhopping step 1: f 5.10148e+09 trial_f 3.25529e+13 accepted 0  lowest_f 5.10148e+09\n",
      "\u001b[2m\u001b[36m(pid=6732)\u001b[0m basinhopping step 9: f 4.78218e+11 trial_f 1.43539e+15 accepted 0  lowest_f 4.78218e+11\n",
      "\u001b[2m\u001b[36m(pid=6852)\u001b[0m basinhopping step 2: f 5.10148e+09 trial_f 6.30339e+09 accepted 0  lowest_f 5.10148e+09\n",
      "\u001b[2m\u001b[36m(pid=6906)\u001b[0m basinhopping step 5: f 1.1137e+12 trial_f 1.61681e+12 accepted 0  lowest_f 1.1137e+12\n",
      "\u001b[2m\u001b[36m(pid=6759)\u001b[0m basinhopping step 5: f 5.5699e+11 trial_f 4.35262e+13 accepted 0  lowest_f 5.5699e+11\n",
      "\u001b[2m\u001b[36m(pid=6906)\u001b[0m basinhopping step 6: f 1.1137e+12 trial_f 1.61679e+12 accepted 0  lowest_f 1.1137e+12\n",
      "\u001b[2m\u001b[36m(pid=6906)\u001b[0m basinhopping step 7: f 1.1137e+12 trial_f 1.61699e+12 accepted 0  lowest_f 1.1137e+12\n",
      "\u001b[2m\u001b[36m(pid=6906)\u001b[0m warning: basinhopping: local minimization failure\n",
      "\u001b[2m\u001b[36m(pid=6906)\u001b[0m basinhopping step 8: f 1.1137e+12 trial_f 1.61726e+12 accepted 0  lowest_f 1.1137e+12\n",
      "\u001b[2m\u001b[36m(pid=6759)\u001b[0m basinhopping step 6: f 5.5699e+11 trial_f 5.48554e+14 accepted 0  lowest_f 5.5699e+11\n",
      "\u001b[2m\u001b[36m(pid=6906)\u001b[0m basinhopping step 9: f 1.1137e+12 trial_f 4.87855e+15 accepted 0  lowest_f 1.1137e+12\n",
      "\u001b[2m\u001b[36m(pid=6906)\u001b[0m warning: basinhopping: local minimization failure\n",
      "\u001b[2m\u001b[36m(pid=6906)\u001b[0m basinhopping step 10: f 1.1137e+12 trial_f 1.61651e+12 accepted 0  lowest_f 1.1137e+12\n",
      "\u001b[2m\u001b[36m(pid=6906)\u001b[0m basinhopping step 0: f 1.39539e+12\n",
      "\u001b[2m\u001b[36m(pid=6906)\u001b[0m basinhopping step 1: f 1.39539e+12 trial_f 1.39539e+12 accepted 1  lowest_f 1.39539e+12\n",
      "\u001b[2m\u001b[36m(pid=6906)\u001b[0m basinhopping step 2: f 1.39539e+12 trial_f 1.39539e+12 accepted 1  lowest_f 1.39539e+12\n"
     ]
    },
    {
     "name": "stderr",
     "output_type": "stream",
     "text": [
      "2020-10-22 11:08:07,211\tWARNING worker.py:1090 -- WARNING: 10 PYTHON workers have been started. This could be a result of using a large number of actors, or it could be a consequence of using nested tasks (see https://github.com/ray-project/ray/issues/3644) for some a discussion of workarounds.\n"
     ]
    },
    {
     "name": "stdout",
     "output_type": "stream",
     "text": [
      "\u001b[2m\u001b[36m(pid=6732)\u001b[0m warning: basinhopping: local minimization failure\n",
      "\u001b[2m\u001b[36m(pid=6732)\u001b[0m basinhopping step 10: f 3.6786e+11 trial_f 3.6786e+11 accepted 1  lowest_f 3.6786e+11\n",
      "\u001b[2m\u001b[36m(pid=6732)\u001b[0m found new global minimum on step 10 with function value 3.6786e+11\n",
      "\u001b[2m\u001b[36m(pid=6906)\u001b[0m  lsoda--  at t(=r1) and step size h(=r2), the error\u0000\u0000\n",
      "\u001b[2m\u001b[36m(pid=6906)\u001b[0m        test failed repeatedly or with abs(h) = hmin\u0000\u0000\n",
      "\u001b[2m\u001b[36m(pid=6906)\u001b[0m       in above,  r1 =  0.6000575919818D+02   r2 =  0.3501839016138D-07\n",
      "\u001b[2m\u001b[36m(pid=6732)\u001b[0m basinhopping step 0: f 3.67741e+11\n",
      "\u001b[2m\u001b[36m(pid=6732)\u001b[0m basinhopping step 1: f 3.67741e+11 trial_f 3.67745e+11 accepted 0  lowest_f 3.67741e+11\n",
      "\u001b[2m\u001b[36m(pid=6732)\u001b[0m basinhopping step 2: f 3.67741e+11 trial_f 3.67745e+11 accepted 0  lowest_f 3.67741e+11\n"
     ]
    },
    {
     "name": "stderr",
     "output_type": "stream",
     "text": [
      "2020-10-22 11:08:11,366\tWARNING worker.py:1090 -- WARNING: 10 PYTHON workers have been started. This could be a result of using a large number of actors, or it could be a consequence of using nested tasks (see https://github.com/ray-project/ray/issues/3644) for some a discussion of workarounds.\n"
     ]
    },
    {
     "name": "stdout",
     "output_type": "stream",
     "text": [
      "\u001b[2m\u001b[36m(pid=6939)\u001b[0m warning: basinhopping: local minimization failure\n",
      "\u001b[2m\u001b[36m(pid=6939)\u001b[0m basinhopping step 1: f 1.01938e+09 trial_f 1.01938e+09 accepted 1  lowest_f 1.01938e+09\n",
      "\u001b[2m\u001b[36m(pid=6939)\u001b[0m found new global minimum on step 1 with function value 1.01938e+09\n",
      "\u001b[2m\u001b[36m(pid=7023)\u001b[0m basinhopping step 0: f 4.48792e+11\n",
      "\u001b[2m\u001b[36m(pid=7008)\u001b[0m warning: basinhopping: local minimization failure\n",
      "\u001b[2m\u001b[36m(pid=7008)\u001b[0m basinhopping step 0: f 8.262e+11\n",
      "\u001b[2m\u001b[36m(pid=7023)\u001b[0m basinhopping step 1: f 4.48792e+11 trial_f 4.64662e+11 accepted 0  lowest_f 4.48792e+11\n",
      "\u001b[2m\u001b[36m(pid=7008)\u001b[0m basinhopping step 1: f 8.262e+11 trial_f 1.71476e+16 accepted 0  lowest_f 8.262e+11\n",
      "\u001b[2m\u001b[36m(pid=6852)\u001b[0m basinhopping step 3: f 5.10148e+09 trial_f 4.92188e+12 accepted 0  lowest_f 5.10148e+09\n",
      "\u001b[2m\u001b[36m(pid=6759)\u001b[0m basinhopping step 7: f 1.62592e+11 trial_f 1.62592e+11 accepted 1  lowest_f 1.62592e+11\n",
      "\u001b[2m\u001b[36m(pid=6759)\u001b[0m found new global minimum on step 7 with function value 1.62592e+11\n",
      "\u001b[2m\u001b[36m(pid=6939)\u001b[0m basinhopping step 2: f 1.01938e+09 trial_f 4.56039e+15 accepted 0  lowest_f 1.01938e+09\n",
      "\u001b[2m\u001b[36m(pid=6939)\u001b[0m basinhopping step 3: f 1.01938e+09 trial_f 1.22337e+09 accepted 0  lowest_f 1.01938e+09\n",
      "\u001b[2m\u001b[36m(pid=7008)\u001b[0m warning: basinhopping: local minimization failure\n",
      "\u001b[2m\u001b[36m(pid=7008)\u001b[0m basinhopping step 2: f 1.34278e+11 trial_f 1.34278e+11 accepted 1  lowest_f 1.34278e+11\n",
      "\u001b[2m\u001b[36m(pid=7008)\u001b[0m found new global minimum on step 2 with function value 1.34278e+11\n",
      "\u001b[2m\u001b[36m(pid=7008)\u001b[0m warning: basinhopping: local minimization failure\n",
      "\u001b[2m\u001b[36m(pid=7008)\u001b[0m basinhopping step 3: f 1.34278e+11 trial_f 8.25453e+11 accepted 0  lowest_f 1.34278e+11\n",
      "\u001b[2m\u001b[36m(pid=6759)\u001b[0m basinhopping step 8: f 1.62592e+11 trial_f 1.40385e+15 accepted 0  lowest_f 1.62592e+11\n",
      "\u001b[2m\u001b[36m(pid=6939)\u001b[0m basinhopping step 4: f 1.01938e+09 trial_f 1.2226e+09 accepted 0  lowest_f 1.01938e+09\n",
      "\u001b[2m\u001b[36m(pid=6759)\u001b[0m warning: basinhopping: local minimization failure\n",
      "\u001b[2m\u001b[36m(pid=6759)\u001b[0m basinhopping step 9: f 1.62592e+11 trial_f 3.41334e+11 accepted 0  lowest_f 1.62592e+11\n",
      "\u001b[2m\u001b[36m(pid=7008)\u001b[0m basinhopping step 4: f 1.34278e+11 trial_f 8.25423e+11 accepted 0  lowest_f 1.34278e+11\n",
      "\u001b[2m\u001b[36m(pid=6852)\u001b[0m basinhopping step 4: f 5.10148e+09 trial_f 6.49589e+09 accepted 0  lowest_f 5.10148e+09\n",
      "\u001b[2m\u001b[36m(pid=7008)\u001b[0m basinhopping step 5: f 1.34278e+11 trial_f 8.25459e+11 accepted 0  lowest_f 1.34278e+11\n",
      "\u001b[2m\u001b[36m(pid=6759)\u001b[0m basinhopping step 10: f 1.62592e+11 trial_f 4.36134e+14 accepted 0  lowest_f 1.62592e+11\n",
      "\u001b[2m\u001b[36m(pid=6759)\u001b[0m basinhopping step 0: f 1.61753e+11\n",
      "\u001b[2m\u001b[36m(pid=7023)\u001b[0m warning: basinhopping: local minimization failure\n",
      "\u001b[2m\u001b[36m(pid=7023)\u001b[0m basinhopping step 2: f 1.74115e+11 trial_f 1.74115e+11 accepted 1  lowest_f 1.74115e+11\n",
      "\u001b[2m\u001b[36m(pid=7023)\u001b[0m found new global minimum on step 2 with function value 1.74115e+11\n",
      "\u001b[2m\u001b[36m(pid=6759)\u001b[0m basinhopping step 1: f 1.61753e+11 trial_f 1.63819e+11 accepted 0  lowest_f 1.61753e+11\n",
      "\u001b[2m\u001b[36m(pid=6759)\u001b[0m basinhopping step 2: f 1.61753e+11 trial_f 1.62945e+11 accepted 0  lowest_f 1.61753e+11\n"
     ]
    },
    {
     "name": "stderr",
     "output_type": "stream",
     "text": [
      "2020-10-22 11:09:34,127\tWARNING worker.py:1090 -- WARNING: 10 PYTHON workers have been started. This could be a result of using a large number of actors, or it could be a consequence of using nested tasks (see https://github.com/ray-project/ray/issues/3644) for some a discussion of workarounds.\n"
     ]
    },
    {
     "name": "stdout",
     "output_type": "stream",
     "text": [
      "\u001b[2m\u001b[36m(pid=7008)\u001b[0m basinhopping step 6: f 1.34278e+11 trial_f 1.96087e+16 accepted 0  lowest_f 1.34278e+11\n",
      "\u001b[2m\u001b[36m(pid=6939)\u001b[0m basinhopping step 5: f 1.01938e+09 trial_f 1.22157e+09 accepted 0  lowest_f 1.01938e+09\n",
      "\u001b[2m\u001b[36m(pid=7095)\u001b[0m basinhopping step 0: f 3.67619e+11\n",
      "\u001b[2m\u001b[36m(pid=6939)\u001b[0m basinhopping step 6: f 1.01938e+09 trial_f 1.22256e+09 accepted 0  lowest_f 1.01938e+09\n",
      "\u001b[2m\u001b[36m(pid=6939)\u001b[0m basinhopping step 7: f 1.01938e+09 trial_f 2.65626e+16 accepted 0  lowest_f 1.01938e+09\n",
      "\u001b[2m\u001b[36m(pid=7095)\u001b[0m basinhopping step 1: f 3.67619e+11 trial_f 6.49519e+11 accepted 0  lowest_f 3.67619e+11\n",
      "\u001b[2m\u001b[36m(pid=7008)\u001b[0m basinhopping step 7: f 1.34278e+11 trial_f 1.77112e+15 accepted 0  lowest_f 1.34278e+11\n",
      "\u001b[2m\u001b[36m(pid=6852)\u001b[0m basinhopping step 5: f 5.10148e+09 trial_f 6.32198e+09 accepted 0  lowest_f 5.10148e+09\n",
      "\u001b[2m\u001b[36m(pid=7023)\u001b[0m basinhopping step 3: f 1.74115e+11 trial_f 4.72527e+14 accepted 0  lowest_f 1.74115e+11\n",
      "\u001b[2m\u001b[36m(pid=6852)\u001b[0m basinhopping step 6: f 5.10148e+09 trial_f 2.64758e+12 accepted 0  lowest_f 5.10148e+09\n",
      "\u001b[2m\u001b[36m(pid=7095)\u001b[0m basinhopping step 2: f 3.67619e+11 trial_f 2.8707e+15 accepted 0  lowest_f 3.67619e+11\n",
      "\u001b[2m\u001b[36m(pid=6939)\u001b[0m basinhopping step 8: f 1.01938e+09 trial_f 3.34948e+16 accepted 0  lowest_f 1.01938e+09\n",
      "\u001b[2m\u001b[36m(pid=7023)\u001b[0m basinhopping step 4: f 1.74115e+11 trial_f 5.91333e+14 accepted 0  lowest_f 1.74115e+11\n",
      "\u001b[2m\u001b[36m(pid=7095)\u001b[0m warning: basinhopping: local minimization failure\n",
      "\u001b[2m\u001b[36m(pid=7095)\u001b[0m basinhopping step 3: f 3.67619e+11 trial_f 6.49569e+11 accepted 0  lowest_f 3.67619e+11\n",
      "\u001b[2m\u001b[36m(pid=6939)\u001b[0m warning: basinhopping: local minimization failure\n",
      "\u001b[2m\u001b[36m(pid=6939)\u001b[0m basinhopping step 9: f 1.01938e+09 trial_f 3.88758e+16 accepted 0  lowest_f 1.01938e+09\n",
      "\u001b[2m\u001b[36m(pid=7023)\u001b[0m warning: basinhopping: local minimization failure\n",
      "\u001b[2m\u001b[36m(pid=7023)\u001b[0m basinhopping step 5: f 1.74115e+11 trial_f 5.47689e+11 accepted 0  lowest_f 1.74115e+11\n",
      "\u001b[2m\u001b[36m(pid=7008)\u001b[0m warning: basinhopping: local minimization failure\n",
      "\u001b[2m\u001b[36m(pid=7008)\u001b[0m basinhopping step 8: f 1.34278e+11 trial_f 1.77114e+15 accepted 0  lowest_f 1.34278e+11\n",
      "\u001b[2m\u001b[36m(pid=6852)\u001b[0m basinhopping step 7: f 5.10148e+09 trial_f 7.39541e+09 accepted 0  lowest_f 5.10148e+09\n",
      "\u001b[2m\u001b[36m(pid=7008)\u001b[0m basinhopping step 9: f 1.34278e+11 trial_f 7.96891e+11 accepted 0  lowest_f 1.34278e+11\n",
      "\u001b[2m\u001b[36m(pid=7095)\u001b[0m basinhopping step 4: f 3.67619e+11 trial_f 2.85757e+15 accepted 0  lowest_f 3.67619e+11\n",
      "\u001b[2m\u001b[36m(pid=6852)\u001b[0m warning: basinhopping: local minimization failure\n",
      "\u001b[2m\u001b[36m(pid=6852)\u001b[0m basinhopping step 8: f 5.10148e+09 trial_f 9.77655e+09 accepted 0  lowest_f 5.10148e+09\n",
      "\u001b[2m\u001b[36m(pid=7095)\u001b[0m basinhopping step 5: f 3.67619e+11 trial_f 3.51382e+15 accepted 0  lowest_f 3.67619e+11\n",
      "\u001b[2m\u001b[36m(pid=7008)\u001b[0m basinhopping step 10: f 1.34278e+11 trial_f 7.45422e+15 accepted 0  lowest_f 1.34278e+11\n",
      "\u001b[2m\u001b[36m(pid=7008)\u001b[0m basinhopping step 0: f 1.33523e+11\n",
      "\u001b[2m\u001b[36m(pid=7008)\u001b[0m basinhopping step 1: f 1.33494e+11 trial_f 1.33494e+11 accepted 1  lowest_f 1.33494e+11\n",
      "\u001b[2m\u001b[36m(pid=7008)\u001b[0m found new global minimum on step 1 with function value 1.33494e+11\n",
      "\u001b[2m\u001b[36m(pid=7008)\u001b[0m basinhopping step 2: f 1.33494e+11 trial_f 1.33536e+11 accepted 0  lowest_f 1.33494e+11\n"
     ]
    },
    {
     "name": "stderr",
     "output_type": "stream",
     "text": [
      "2020-10-22 11:10:35,101\tWARNING worker.py:1090 -- WARNING: 10 PYTHON workers have been started. This could be a result of using a large number of actors, or it could be a consequence of using nested tasks (see https://github.com/ray-project/ray/issues/3644) for some a discussion of workarounds.\n"
     ]
    },
    {
     "name": "stdout",
     "output_type": "stream",
     "text": [
      "\u001b[2m\u001b[36m(pid=7023)\u001b[0m warning: basinhopping: local minimization failure\n",
      "\u001b[2m\u001b[36m(pid=7023)\u001b[0m basinhopping step 6: f 1.74115e+11 trial_f 3.98936e+11 accepted 0  lowest_f 1.74115e+11\n",
      "\u001b[2m\u001b[36m(pid=7244)\u001b[0m warning: basinhopping: local minimization failure\n",
      "\u001b[2m\u001b[36m(pid=7244)\u001b[0m basinhopping step 0: f 2.21444e+12\n",
      "\u001b[2m\u001b[36m(pid=6939)\u001b[0m warning: basinhopping: local minimization failure\n",
      "\u001b[2m\u001b[36m(pid=6939)\u001b[0m basinhopping step 10: f 1.01938e+09 trial_f 1.22253e+09 accepted 0  lowest_f 1.01938e+09\n",
      "\u001b[2m\u001b[36m(pid=6939)\u001b[0m basinhopping step 0: f 8.51876e+08\n",
      "\u001b[2m\u001b[36m(pid=6939)\u001b[0m basinhopping step 1: f 8.51876e+08 trial_f 8.51876e+08 accepted 1  lowest_f 8.51876e+08\n",
      "\u001b[2m\u001b[36m(pid=6939)\u001b[0m basinhopping step 2: f 8.51876e+08 trial_f 8.51876e+08 accepted 1  lowest_f 8.51876e+08\n"
     ]
    },
    {
     "name": "stderr",
     "output_type": "stream",
     "text": [
      "2020-10-22 11:10:41,266\tWARNING worker.py:1090 -- WARNING: 10 PYTHON workers have been started. This could be a result of using a large number of actors, or it could be a consequence of using nested tasks (see https://github.com/ray-project/ray/issues/3644) for some a discussion of workarounds.\n"
     ]
    },
    {
     "name": "stdout",
     "output_type": "stream",
     "text": [
      "\u001b[2m\u001b[36m(pid=6852)\u001b[0m basinhopping step 9: f 5.10148e+09 trial_f 5.09918e+12 accepted 0  lowest_f 5.10148e+09\n",
      "\u001b[2m\u001b[36m(pid=7244)\u001b[0m warning: basinhopping: local minimization failure\n",
      "\u001b[2m\u001b[36m(pid=7244)\u001b[0m basinhopping step 1: f 2.21444e+12 trial_f 2.2145e+12 accepted 0  lowest_f 2.21444e+12\n",
      "\u001b[2m\u001b[36m(pid=7332)\u001b[0m warning: basinhopping: local minimization failure\n",
      "\u001b[2m\u001b[36m(pid=7332)\u001b[0m basinhopping step 0: f 1.2053e+09\n",
      "\u001b[2m\u001b[36m(pid=7095)\u001b[0m basinhopping step 6: f 3.67619e+11 trial_f 7.15521e+15 accepted 0  lowest_f 3.67619e+11\n",
      "\u001b[2m\u001b[36m(pid=7244)\u001b[0m basinhopping step 2: f 2.21301e+12 trial_f 2.21301e+12 accepted 1  lowest_f 2.21301e+12\n",
      "\u001b[2m\u001b[36m(pid=7244)\u001b[0m found new global minimum on step 2 with function value 2.21301e+12\n",
      "\u001b[2m\u001b[36m(pid=7244)\u001b[0m basinhopping step 3: f 2.21301e+12 trial_f 6.62954e+16 accepted 0  lowest_f 2.21301e+12\n",
      "\u001b[2m\u001b[36m(pid=7332)\u001b[0m basinhopping step 1: f 9.98055e+08 trial_f 9.98055e+08 accepted 1  lowest_f 9.98055e+08\n",
      "\u001b[2m\u001b[36m(pid=7332)\u001b[0m found new global minimum on step 1 with function value 9.98055e+08\n",
      "\u001b[2m\u001b[36m(pid=7244)\u001b[0m basinhopping step 4: f 2.21301e+12 trial_f 2.214e+12 accepted 0  lowest_f 2.21301e+12\n",
      "\u001b[2m\u001b[36m(pid=7244)\u001b[0m warning: basinhopping: local minimization failure\n",
      "\u001b[2m\u001b[36m(pid=7244)\u001b[0m basinhopping step 5: f 2.21301e+12 trial_f 2.21444e+12 accepted 0  lowest_f 2.21301e+12\n",
      "\u001b[2m\u001b[36m(pid=7023)\u001b[0m basinhopping step 7: f 1.74115e+11 trial_f 8.38408e+13 accepted 0  lowest_f 1.74115e+11\n",
      "\u001b[2m\u001b[36m(pid=7332)\u001b[0m warning: basinhopping: local minimization failure\n",
      "\u001b[2m\u001b[36m(pid=7332)\u001b[0m basinhopping step 2: f 5.82531e+08 trial_f 5.82531e+08 accepted 1  lowest_f 5.82531e+08\n",
      "\u001b[2m\u001b[36m(pid=7332)\u001b[0m found new global minimum on step 2 with function value 5.82531e+08\n",
      "\u001b[2m\u001b[36m(pid=7332)\u001b[0m warning: basinhopping: local minimization failure\n",
      "\u001b[2m\u001b[36m(pid=7332)\u001b[0m basinhopping step 3: f 5.82531e+08 trial_f 1.2028e+09 accepted 0  lowest_f 5.82531e+08\n",
      "\u001b[2m\u001b[36m(pid=7095)\u001b[0m basinhopping step 7: f 3.67619e+11 trial_f 6.49519e+11 accepted 0  lowest_f 3.67619e+11\n",
      "\u001b[2m\u001b[36m(pid=7023)\u001b[0m basinhopping step 8: f 1.74115e+11 trial_f 3.61144e+14 accepted 0  lowest_f 1.74115e+11\n",
      "\u001b[2m\u001b[36m(pid=6852)\u001b[0m basinhopping step 10: f 5.10148e+09 trial_f 4.95586e+12 accepted 0  lowest_f 5.10148e+09\n",
      "\u001b[2m\u001b[36m(pid=7332)\u001b[0m basinhopping step 4: f 5.82531e+08 trial_f 2.58939e+15 accepted 0  lowest_f 5.82531e+08\n",
      "\u001b[2m\u001b[36m(pid=6852)\u001b[0m basinhopping step 0: f 4.94114e+09\n",
      "\u001b[2m\u001b[36m(pid=6852)\u001b[0m basinhopping step 1: f 4.94114e+09 trial_f 4.94532e+09 accepted 0  lowest_f 4.94114e+09\n",
      "\u001b[2m\u001b[36m(pid=7095)\u001b[0m basinhopping step 8: f 3.67619e+11 trial_f 6.49519e+11 accepted 0  lowest_f 3.67619e+11\n",
      "\u001b[2m\u001b[36m(pid=6852)\u001b[0m basinhopping step 2: f 4.94114e+09 trial_f 4.9924e+09 accepted 0  lowest_f 4.94114e+09\n"
     ]
    },
    {
     "name": "stderr",
     "output_type": "stream",
     "text": [
      "2020-10-22 11:11:19,962\tWARNING worker.py:1090 -- WARNING: 10 PYTHON workers have been started. This could be a result of using a large number of actors, or it could be a consequence of using nested tasks (see https://github.com/ray-project/ray/issues/3644) for some a discussion of workarounds.\n"
     ]
    },
    {
     "name": "stdout",
     "output_type": "stream",
     "text": [
      "\u001b[2m\u001b[36m(pid=7095)\u001b[0m warning: basinhopping: local minimization failure\n",
      "\u001b[2m\u001b[36m(pid=7095)\u001b[0m basinhopping step 9: f 3.67619e+11 trial_f 3.85601e+11 accepted 0  lowest_f 3.67619e+11\n",
      "\u001b[2m\u001b[36m(pid=7023)\u001b[0m basinhopping step 9: f 1.74115e+11 trial_f 1.8731e+14 accepted 0  lowest_f 1.74115e+11\n",
      "\u001b[2m\u001b[36m(pid=7332)\u001b[0m basinhopping step 5: f 5.82531e+08 trial_f 4.19493e+14 accepted 0  lowest_f 5.82531e+08\n",
      "\u001b[2m\u001b[36m(pid=7244)\u001b[0m basinhopping step 6: f 2.21301e+12 trial_f 7.29091e+16 accepted 0  lowest_f 2.21301e+12\n",
      "\u001b[2m\u001b[36m(pid=7387)\u001b[0m basinhopping step 0: f 5.13951e+12\n",
      "\u001b[2m\u001b[36m(pid=7095)\u001b[0m basinhopping step 10: f 2.09703e+11 trial_f 2.09703e+11 accepted 1  lowest_f 2.09703e+11\n",
      "\u001b[2m\u001b[36m(pid=7095)\u001b[0m found new global minimum on step 10 with function value 2.09703e+11\n",
      "\u001b[2m\u001b[36m(pid=7095)\u001b[0m basinhopping step 0: f 2.0539e+11\n",
      "\u001b[2m\u001b[36m(pid=7023)\u001b[0m warning: basinhopping: local minimization failure\n",
      "\u001b[2m\u001b[36m(pid=7023)\u001b[0m basinhopping step 10: f 1.74115e+11 trial_f 4.98839e+11 accepted 0  lowest_f 1.74115e+11\n",
      "\u001b[2m\u001b[36m(pid=7095)\u001b[0m basinhopping step 1: f 2.0539e+11 trial_f 2.09994e+11 accepted 0  lowest_f 2.0539e+11\n",
      "\u001b[2m\u001b[36m(pid=7095)\u001b[0m basinhopping step 2: f 2.05171e+11 trial_f 2.05171e+11 accepted 1  lowest_f 2.05171e+11\n",
      "\u001b[2m\u001b[36m(pid=7095)\u001b[0m found new global minimum on step 2 with function value 2.05171e+11\n"
     ]
    },
    {
     "name": "stderr",
     "output_type": "stream",
     "text": [
      "2020-10-22 11:11:36,509\tWARNING worker.py:1090 -- WARNING: 10 PYTHON workers have been started. This could be a result of using a large number of actors, or it could be a consequence of using nested tasks (see https://github.com/ray-project/ray/issues/3644) for some a discussion of workarounds.\n"
     ]
    },
    {
     "name": "stdout",
     "output_type": "stream",
     "text": [
      "\u001b[2m\u001b[36m(pid=7023)\u001b[0m basinhopping step 0: f 1.73987e+11\n",
      "\u001b[2m\u001b[36m(pid=7244)\u001b[0m warning: basinhopping: local minimization failure\n",
      "\u001b[2m\u001b[36m(pid=7244)\u001b[0m basinhopping step 7: f 1.55473e+12 trial_f 1.55473e+12 accepted 1  lowest_f 1.55473e+12\n",
      "\u001b[2m\u001b[36m(pid=7244)\u001b[0m found new global minimum on step 7 with function value 1.55473e+12\n",
      "\u001b[2m\u001b[36m(pid=7023)\u001b[0m basinhopping step 1: f 1.73987e+11 trial_f 1.74105e+11 accepted 0  lowest_f 1.73987e+11\n",
      "\u001b[2m\u001b[36m(pid=7023)\u001b[0m basinhopping step 2: f 1.73987e+11 trial_f 1.74047e+11 accepted 0  lowest_f 1.73987e+11\n"
     ]
    },
    {
     "name": "stderr",
     "output_type": "stream",
     "text": [
      "2020-10-22 11:11:39,719\tWARNING worker.py:1090 -- WARNING: 10 PYTHON workers have been started. This could be a result of using a large number of actors, or it could be a consequence of using nested tasks (see https://github.com/ray-project/ray/issues/3644) for some a discussion of workarounds.\n"
     ]
    },
    {
     "name": "stdout",
     "output_type": "stream",
     "text": [
      "\u001b[2m\u001b[36m(pid=7387)\u001b[0m basinhopping step 1: f 4.34143e+09 trial_f 4.34143e+09 accepted 1  lowest_f 4.34143e+09\n",
      "\u001b[2m\u001b[36m(pid=7387)\u001b[0m found new global minimum on step 1 with function value 4.34143e+09\n",
      "\u001b[2m\u001b[36m(pid=7403)\u001b[0m basinhopping step 0: f 8.83289e+11\n",
      "\u001b[2m\u001b[36m(pid=7244)\u001b[0m warning: basinhopping: local minimization failure\n",
      "\u001b[2m\u001b[36m(pid=7244)\u001b[0m basinhopping step 8: f 1.55473e+12 trial_f 9.90312e+16 accepted 0  lowest_f 1.55473e+12\n",
      "\u001b[2m\u001b[36m(pid=7416)\u001b[0m basinhopping step 0: f 1.08542e+12\n",
      "\u001b[2m\u001b[36m(pid=7332)\u001b[0m basinhopping step 6: f 5.82531e+08 trial_f 1.18738e+09 accepted 0  lowest_f 5.82531e+08\n",
      "\u001b[2m\u001b[36m(pid=7416)\u001b[0m basinhopping step 1: f 1.08542e+12 trial_f 4.43491e+14 accepted 0  lowest_f 1.08542e+12\n",
      "\u001b[2m\u001b[36m(pid=7403)\u001b[0m basinhopping step 1: f 3.19556e+11 trial_f 3.19556e+11 accepted 1  lowest_f 3.19556e+11\n",
      "\u001b[2m\u001b[36m(pid=7403)\u001b[0m found new global minimum on step 1 with function value 3.19556e+11\n",
      "\u001b[2m\u001b[36m(pid=7387)\u001b[0m basinhopping step 2: f 4.31868e+09 trial_f 4.31868e+09 accepted 1  lowest_f 4.31868e+09\n",
      "\u001b[2m\u001b[36m(pid=7387)\u001b[0m found new global minimum on step 2 with function value 4.31868e+09\n",
      "\u001b[2m\u001b[36m(pid=7416)\u001b[0m basinhopping step 2: f 1.08542e+12 trial_f 3.85258e+14 accepted 0  lowest_f 1.08542e+12\n",
      "\u001b[2m\u001b[36m(pid=7403)\u001b[0m warning: basinhopping: local minimization failure\n",
      "\u001b[2m\u001b[36m(pid=7403)\u001b[0m basinhopping step 2: f 3.19556e+11 trial_f 9.29251e+11 accepted 0  lowest_f 3.19556e+11\n",
      "\u001b[2m\u001b[36m(pid=7244)\u001b[0m basinhopping step 9: f 1.55473e+12 trial_f 2.21384e+12 accepted 0  lowest_f 1.55473e+12\n",
      "\u001b[2m\u001b[36m(pid=7403)\u001b[0m basinhopping step 3: f 3.19556e+11 trial_f 2.73407e+14 accepted 0  lowest_f 3.19556e+11\n",
      "\u001b[2m\u001b[36m(pid=7332)\u001b[0m basinhopping step 7: f 5.82531e+08 trial_f 9.41147e+14 accepted 0  lowest_f 5.82531e+08\n",
      "\u001b[2m\u001b[36m(pid=7387)\u001b[0m basinhopping step 3: f 4.31868e+09 trial_f 5.15476e+12 accepted 0  lowest_f 4.31868e+09\n",
      "\u001b[2m\u001b[36m(pid=7416)\u001b[0m basinhopping step 3: f 1.08542e+12 trial_f 6.0303e+13 accepted 0  lowest_f 1.08542e+12\n",
      "\u001b[2m\u001b[36m(pid=7244)\u001b[0m basinhopping step 10: f 1.55473e+12 trial_f 1.79477e+17 accepted 0  lowest_f 1.55473e+12\n",
      "\u001b[2m\u001b[36m(pid=7244)\u001b[0m basinhopping step 0: f 9.62493e+11\n",
      "\u001b[2m\u001b[36m(pid=7244)\u001b[0m basinhopping step 1: f 9.62493e+11 trial_f 9.62493e+11 accepted 1  lowest_f 9.62493e+11\n",
      "\u001b[2m\u001b[36m(pid=7244)\u001b[0m basinhopping step 2: f 9.62493e+11 trial_f 9.62493e+11 accepted 1  lowest_f 9.62493e+11\n"
     ]
    },
    {
     "name": "stderr",
     "output_type": "stream",
     "text": [
      "2020-10-22 11:12:24,228\tWARNING worker.py:1090 -- WARNING: 10 PYTHON workers have been started. This could be a result of using a large number of actors, or it could be a consequence of using nested tasks (see https://github.com/ray-project/ray/issues/3644) for some a discussion of workarounds.\n"
     ]
    },
    {
     "name": "stdout",
     "output_type": "stream",
     "text": [
      "\u001b[2m\u001b[36m(pid=7416)\u001b[0m basinhopping step 4: f 1.08542e+12 trial_f 4.98765e+14 accepted 0  lowest_f 1.08542e+12\n",
      "\u001b[2m\u001b[36m(pid=7332)\u001b[0m basinhopping step 8: f 5.82531e+08 trial_f 1.26264e+14 accepted 0  lowest_f 5.82531e+08\n",
      "\u001b[2m\u001b[36m(pid=7416)\u001b[0m warning: basinhopping: local minimization failure\n",
      "\u001b[2m\u001b[36m(pid=7416)\u001b[0m basinhopping step 5: f 1.08542e+12 trial_f 1.172e+12 accepted 0  lowest_f 1.08542e+12\n",
      "\u001b[2m\u001b[36m(pid=7387)\u001b[0m warning: basinhopping: local minimization failure\n",
      "\u001b[2m\u001b[36m(pid=7387)\u001b[0m basinhopping step 4: f 4.31868e+09 trial_f 6.17794e+09 accepted 0  lowest_f 4.31868e+09\n",
      "\u001b[2m\u001b[36m(pid=7416)\u001b[0m basinhopping step 6: f 1.08542e+12 trial_f 4.98003e+14 accepted 0  lowest_f 1.08542e+12\n",
      "\u001b[2m\u001b[36m(pid=7416)\u001b[0m basinhopping step 7: f 1.08542e+12 trial_f 2.32165e+14 accepted 0  lowest_f 1.08542e+12\n",
      "\u001b[2m\u001b[36m(pid=7387)\u001b[0m warning: basinhopping: local minimization failure\n",
      "\u001b[2m\u001b[36m(pid=7387)\u001b[0m basinhopping step 5: f 4.31868e+09 trial_f 6.17794e+09 accepted 0  lowest_f 4.31868e+09\n",
      "\u001b[2m\u001b[36m(pid=7416)\u001b[0m basinhopping step 8: f 1.08542e+12 trial_f 4.86491e+14 accepted 0  lowest_f 1.08542e+12\n",
      "\u001b[2m\u001b[36m(pid=7332)\u001b[0m warning: basinhopping: local minimization failure\n",
      "\u001b[2m\u001b[36m(pid=7332)\u001b[0m basinhopping step 9: f 5.82531e+08 trial_f 1.2053e+09 accepted 0  lowest_f 5.82531e+08\n",
      "\u001b[2m\u001b[36m(pid=7416)\u001b[0m basinhopping step 9: f 1.08542e+12 trial_f 4.12004e+14 accepted 0  lowest_f 1.08542e+12\n",
      "\u001b[2m\u001b[36m(pid=7416)\u001b[0m basinhopping step 10: f 1.08542e+12 trial_f 4.16988e+14 accepted 0  lowest_f 1.08542e+12\n",
      "\u001b[2m\u001b[36m(pid=7416)\u001b[0m basinhopping step 0: f 1.00483e+12\n",
      "\u001b[2m\u001b[36m(pid=7416)\u001b[0m basinhopping step 1: f 1.00483e+12 trial_f 1.00483e+12 accepted 1  lowest_f 1.00483e+12\n",
      "\u001b[2m\u001b[36m(pid=7416)\u001b[0m basinhopping step 2: f 1.00483e+12 trial_f 1.00483e+12 accepted 1  lowest_f 1.00483e+12\n"
     ]
    },
    {
     "name": "stderr",
     "output_type": "stream",
     "text": [
      "2020-10-22 11:13:02,121\tWARNING worker.py:1090 -- WARNING: 10 PYTHON workers have been started. This could be a result of using a large number of actors, or it could be a consequence of using nested tasks (see https://github.com/ray-project/ray/issues/3644) for some a discussion of workarounds.\n"
     ]
    },
    {
     "name": "stdout",
     "output_type": "stream",
     "text": [
      "\u001b[2m\u001b[36m(pid=7387)\u001b[0m basinhopping step 6: f 4.31868e+09 trial_f 4.564e+09 accepted 0  lowest_f 4.31868e+09\n",
      "\u001b[2m\u001b[36m(pid=7499)\u001b[0m basinhopping step 0: f 1.09961e+10\n",
      "\u001b[2m\u001b[36m(pid=7332)\u001b[0m basinhopping step 10: f 5.82531e+08 trial_f 1.19713e+15 accepted 0  lowest_f 5.82531e+08\n",
      "\u001b[2m\u001b[36m(pid=7332)\u001b[0m basinhopping step 0: f 4.91576e+08\n",
      "\u001b[2m\u001b[36m(pid=7403)\u001b[0m basinhopping step 4: f 3.19556e+11 trial_f 9.27301e+11 accepted 0  lowest_f 3.19556e+11\n",
      "\u001b[2m\u001b[36m(pid=7332)\u001b[0m basinhopping step 1: f 4.91576e+08 trial_f 4.94048e+08 accepted 0  lowest_f 4.91576e+08\n",
      "\u001b[2m\u001b[36m(pid=7332)\u001b[0m basinhopping step 2: f 4.91576e+08 trial_f 4.91619e+08 accepted 0  lowest_f 4.91576e+08\n"
     ]
    },
    {
     "name": "stderr",
     "output_type": "stream",
     "text": [
      "2020-10-22 11:13:11,171\tWARNING worker.py:1090 -- WARNING: 10 PYTHON workers have been started. This could be a result of using a large number of actors, or it could be a consequence of using nested tasks (see https://github.com/ray-project/ray/issues/3644) for some a discussion of workarounds.\n"
     ]
    },
    {
     "name": "stdout",
     "output_type": "stream",
     "text": [
      "\u001b[2m\u001b[36m(pid=7387)\u001b[0m basinhopping step 7: f 1.48853e+08 trial_f 1.48853e+08 accepted 1  lowest_f 1.48853e+08\n",
      "\u001b[2m\u001b[36m(pid=7387)\u001b[0m found new global minimum on step 7 with function value 1.48853e+08\n",
      "\u001b[2m\u001b[36m(pid=7499)\u001b[0m basinhopping step 1: f 1.09961e+10 trial_f 3.1451e+11 accepted 0  lowest_f 1.09961e+10\n",
      "\u001b[2m\u001b[36m(pid=7556)\u001b[0m basinhopping step 0: f 7.97523e+15\n",
      "\u001b[2m\u001b[36m(pid=7403)\u001b[0m warning: basinhopping: local minimization failure\n",
      "\u001b[2m\u001b[36m(pid=7403)\u001b[0m basinhopping step 5: f 3.19556e+11 trial_f 9.35268e+11 accepted 0  lowest_f 3.19556e+11\n",
      "\u001b[2m\u001b[36m(pid=7387)\u001b[0m basinhopping step 8: f 1.48853e+08 trial_f 6.91063e+09 accepted 0  lowest_f 1.48853e+08\n",
      "\u001b[2m\u001b[36m(pid=7499)\u001b[0m basinhopping step 2: f 1.09961e+10 trial_f 6.73282e+12 accepted 0  lowest_f 1.09961e+10\n",
      "\u001b[2m\u001b[36m(pid=7543)\u001b[0m basinhopping step 0: f 4.35711e+11\n",
      "\u001b[2m\u001b[36m(pid=7499)\u001b[0m basinhopping step 3: f 1.09961e+10 trial_f 1.07967e+13 accepted 0  lowest_f 1.09961e+10\n",
      "\u001b[2m\u001b[36m(pid=7403)\u001b[0m warning: basinhopping: local minimization failure\n",
      "\u001b[2m\u001b[36m(pid=7403)\u001b[0m basinhopping step 6: f 3.19556e+11 trial_f 9.36517e+11 accepted 0  lowest_f 3.19556e+11\n",
      "\u001b[2m\u001b[36m(pid=7556)\u001b[0m warning: basinhopping: local minimization failure\n",
      "\u001b[2m\u001b[36m(pid=7556)\u001b[0m basinhopping step 1: f 1.74669e+09 trial_f 1.74669e+09 accepted 1  lowest_f 1.74669e+09\n",
      "\u001b[2m\u001b[36m(pid=7556)\u001b[0m found new global minimum on step 1 with function value 1.74669e+09\n",
      "\u001b[2m\u001b[36m(pid=7543)\u001b[0m basinhopping step 1: f 4.35711e+11 trial_f 5.14351e+13 accepted 0  lowest_f 4.35711e+11\n",
      "\u001b[2m\u001b[36m(pid=7556)\u001b[0m basinhopping step 2: f 1.74669e+09 trial_f 1.36657e+16 accepted 0  lowest_f 1.74669e+09\n",
      "\u001b[2m\u001b[36m(pid=7387)\u001b[0m basinhopping step 9: f 1.48853e+08 trial_f 5.93068e+09 accepted 0  lowest_f 1.48853e+08\n",
      "\u001b[2m\u001b[36m(pid=7556)\u001b[0m basinhopping step 3: f 1.11849e+09 trial_f 1.11849e+09 accepted 1  lowest_f 1.11849e+09\n",
      "\u001b[2m\u001b[36m(pid=7556)\u001b[0m found new global minimum on step 3 with function value 1.11849e+09\n",
      "\u001b[2m\u001b[36m(pid=7543)\u001b[0m warning: basinhopping: local minimization failure\n",
      "\u001b[2m\u001b[36m(pid=7543)\u001b[0m basinhopping step 2: f 4.35711e+11 trial_f 1.53994e+13 accepted 0  lowest_f 4.35711e+11\n",
      "\u001b[2m\u001b[36m(pid=7387)\u001b[0m basinhopping step 10: f 1.48853e+08 trial_f 6.29692e+13 accepted 0  lowest_f 1.48853e+08\n",
      "\u001b[2m\u001b[36m(pid=7387)\u001b[0m basinhopping step 0: f 1.2279e+08\n",
      "\u001b[2m\u001b[36m(pid=7387)\u001b[0m basinhopping step 1: f 1.2279e+08 trial_f 1.44898e+08 accepted 0  lowest_f 1.2279e+08\n",
      "\u001b[2m\u001b[36m(pid=7387)\u001b[0m basinhopping step 2: f 1.17316e+08 trial_f 1.17316e+08 accepted 1  lowest_f 1.17316e+08\n",
      "\u001b[2m\u001b[36m(pid=7387)\u001b[0m found new global minimum on step 2 with function value 1.17316e+08\n"
     ]
    },
    {
     "name": "stderr",
     "output_type": "stream",
     "text": [
      "2020-10-22 11:14:00,246\tWARNING worker.py:1090 -- WARNING: 10 PYTHON workers have been started. This could be a result of using a large number of actors, or it could be a consequence of using nested tasks (see https://github.com/ray-project/ray/issues/3644) for some a discussion of workarounds.\n"
     ]
    },
    {
     "name": "stdout",
     "output_type": "stream",
     "text": [
      "\u001b[2m\u001b[36m(pid=7543)\u001b[0m basinhopping step 3: f 3.00119e+11 trial_f 3.00119e+11 accepted 1  lowest_f 3.00119e+11\n",
      "\u001b[2m\u001b[36m(pid=7543)\u001b[0m found new global minimum on step 3 with function value 3.00119e+11\n",
      "\u001b[2m\u001b[36m(pid=7543)\u001b[0m basinhopping step 4: f 3.00119e+11 trial_f 1.24534e+12 accepted 0  lowest_f 3.00119e+11\n",
      "\u001b[2m\u001b[36m(pid=7573)\u001b[0m basinhopping step 0: f 7.24296e+09\n",
      "\u001b[2m\u001b[36m(pid=7499)\u001b[0m basinhopping step 4: f 1.09961e+10 trial_f 1.11756e+10 accepted 0  lowest_f 1.09961e+10\n",
      "\u001b[2m\u001b[36m(pid=7556)\u001b[0m basinhopping step 4: f 1.11849e+09 trial_f 1.73163e+09 accepted 0  lowest_f 1.11849e+09\n",
      "\u001b[2m\u001b[36m(pid=7403)\u001b[0m basinhopping step 7: f 3.19556e+11 trial_f 6.97225e+14 accepted 0  lowest_f 3.19556e+11\n",
      "\u001b[2m\u001b[36m(pid=7556)\u001b[0m /home/ats4i/anaconda3/envs/geo_env/lib/python3.6/site-packages/scipy/integrate/odepack.py:248: ODEintWarning: Repeated error test failures (internal error). Run with full_output = 1 to get quantitative information.\n",
      "\u001b[2m\u001b[36m(pid=7556)\u001b[0m   warnings.warn(warning_msg, ODEintWarning)\n",
      "\u001b[2m\u001b[36m(pid=7556)\u001b[0m basinhopping step 5: f 1.11849e+09 trial_f 2.68862e+16 accepted 0  lowest_f 1.11849e+09\n",
      "\u001b[2m\u001b[36m(pid=7499)\u001b[0m basinhopping step 5: f 1.09961e+10 trial_f 6.68334e+13 accepted 0  lowest_f 1.09961e+10\n",
      "\u001b[2m\u001b[36m(pid=7573)\u001b[0m basinhopping step 1: f 7.24296e+09 trial_f 1.15379e+12 accepted 0  lowest_f 7.24296e+09\n",
      "\u001b[2m\u001b[36m(pid=7573)\u001b[0m basinhopping step 2: f 7.24296e+09 trial_f 3.50774e+12 accepted 0  lowest_f 7.24296e+09\n",
      "\u001b[2m\u001b[36m(pid=7543)\u001b[0m basinhopping step 5: f 3.00119e+11 trial_f 4.52191e+13 accepted 0  lowest_f 3.00119e+11\n",
      "\u001b[2m\u001b[36m(pid=7499)\u001b[0m warning: basinhopping: local minimization failure\n",
      "\u001b[2m\u001b[36m(pid=7499)\u001b[0m basinhopping step 6: f 1.09961e+10 trial_f 6.75484e+12 accepted 0  lowest_f 1.09961e+10\n",
      "\u001b[2m\u001b[36m(pid=7543)\u001b[0m warning: basinhopping: local minimization failure\n",
      "\u001b[2m\u001b[36m(pid=7543)\u001b[0m basinhopping step 6: f 3.00119e+11 trial_f 5.05094e+14 accepted 0  lowest_f 3.00119e+11\n",
      "\u001b[2m\u001b[36m(pid=7556)\u001b[0m basinhopping step 6: f 1.11849e+09 trial_f 8.30101e+16 accepted 0  lowest_f 1.11849e+09\n",
      "\u001b[2m\u001b[36m(pid=7556)\u001b[0m basinhopping step 7: f 1.11849e+09 trial_f 3.5935e+17 accepted 0  lowest_f 1.11849e+09\n",
      "\u001b[2m\u001b[36m(pid=7543)\u001b[0m warning: basinhopping: local minimization failure\n",
      "\u001b[2m\u001b[36m(pid=7543)\u001b[0m basinhopping step 7: f 3.00119e+11 trial_f 1.24447e+12 accepted 0  lowest_f 3.00119e+11\n",
      "\u001b[2m\u001b[36m(pid=7573)\u001b[0m basinhopping step 3: f 7.24296e+09 trial_f 4.46427e+12 accepted 0  lowest_f 7.24296e+09\n",
      "\u001b[2m\u001b[36m(pid=7499)\u001b[0m basinhopping step 7: f 1.09961e+10 trial_f 5.67905e+13 accepted 0  lowest_f 1.09961e+10\n",
      "\u001b[2m\u001b[36m(pid=7543)\u001b[0m warning: basinhopping: local minimization failure\n",
      "\u001b[2m\u001b[36m(pid=7543)\u001b[0m basinhopping step 8: f 3.00119e+11 trial_f 1.23351e+14 accepted 0  lowest_f 3.00119e+11\n",
      "\u001b[2m\u001b[36m(pid=7403)\u001b[0m warning: basinhopping: local minimization failure\n",
      "\u001b[2m\u001b[36m(pid=7403)\u001b[0m basinhopping step 8: f 3.19556e+11 trial_f 3.57909e+11 accepted 0  lowest_f 3.19556e+11\n",
      "\u001b[2m\u001b[36m(pid=7556)\u001b[0m basinhopping step 8: f 1.11849e+09 trial_f 8.40983e+16 accepted 0  lowest_f 1.11849e+09\n",
      "\u001b[2m\u001b[36m(pid=7543)\u001b[0m warning: basinhopping: local minimization failure\n",
      "\u001b[2m\u001b[36m(pid=7543)\u001b[0m basinhopping step 9: f 3.00119e+11 trial_f 7.07048e+11 accepted 0  lowest_f 3.00119e+11\n",
      "\u001b[2m\u001b[36m(pid=7499)\u001b[0m basinhopping step 8: f 1.09961e+10 trial_f 6.77516e+11 accepted 0  lowest_f 1.09961e+10\n",
      "\u001b[2m\u001b[36m(pid=7556)\u001b[0m basinhopping step 9: f 1.11849e+09 trial_f 1.73163e+09 accepted 0  lowest_f 1.11849e+09\n",
      "\u001b[2m\u001b[36m(pid=7403)\u001b[0m basinhopping step 9: f 3.19556e+11 trial_f 5.55451e+14 accepted 0  lowest_f 3.19556e+11\n",
      "\u001b[2m\u001b[36m(pid=7543)\u001b[0m warning: basinhopping: local minimization failure\n",
      "\u001b[2m\u001b[36m(pid=7543)\u001b[0m basinhopping step 10: f 3.00119e+11 trial_f 5.90294e+12 accepted 0  lowest_f 3.00119e+11\n",
      "\u001b[2m\u001b[36m(pid=7573)\u001b[0m basinhopping step 4: f 7.24157e+09 trial_f 7.24157e+09 accepted 1  lowest_f 7.24157e+09\n",
      "\u001b[2m\u001b[36m(pid=7573)\u001b[0m found new global minimum on step 4 with function value 7.24157e+09\n",
      "\u001b[2m\u001b[36m(pid=7543)\u001b[0m basinhopping step 0: f 2.96351e+11\n",
      "\u001b[2m\u001b[36m(pid=7543)\u001b[0m basinhopping step 1: f 2.96285e+11 trial_f 2.96285e+11 accepted 1  lowest_f 2.96285e+11\n",
      "\u001b[2m\u001b[36m(pid=7543)\u001b[0m found new global minimum on step 1 with function value 2.96285e+11\n",
      "\u001b[2m\u001b[36m(pid=7543)\u001b[0m basinhopping step 2: f 2.96285e+11 trial_f 2.96307e+11 accepted 0  lowest_f 2.96285e+11\n"
     ]
    },
    {
     "name": "stderr",
     "output_type": "stream",
     "text": [
      "2020-10-22 11:15:22,269\tWARNING worker.py:1090 -- WARNING: 10 PYTHON workers have been started. This could be a result of using a large number of actors, or it could be a consequence of using nested tasks (see https://github.com/ray-project/ray/issues/3644) for some a discussion of workarounds.\n"
     ]
    },
    {
     "name": "stdout",
     "output_type": "stream",
     "text": [
      "\u001b[2m\u001b[36m(pid=7499)\u001b[0m basinhopping step 9: f 1.09961e+10 trial_f 2.27061e+13 accepted 0  lowest_f 1.09961e+10\n",
      "\u001b[2m\u001b[36m(pid=7695)\u001b[0m basinhopping step 0: f 4.64401e+11\n",
      "\u001b[2m\u001b[36m(pid=7556)\u001b[0m basinhopping step 10: f 1.11849e+09 trial_f 1.73163e+09 accepted 0  lowest_f 1.11849e+09\n",
      "\u001b[2m\u001b[36m(pid=7556)\u001b[0m basinhopping step 0: f 8.64437e+08\n",
      "\u001b[2m\u001b[36m(pid=7403)\u001b[0m basinhopping step 10: f 3.19556e+11 trial_f 7.05777e+14 accepted 0  lowest_f 3.19556e+11\n",
      "\u001b[2m\u001b[36m(pid=7403)\u001b[0m basinhopping step 0: f 1.03468e+11\n",
      "\u001b[2m\u001b[36m(pid=7499)\u001b[0m basinhopping step 10: f 1.09961e+10 trial_f 1.65564e+14 accepted 0  lowest_f 1.09961e+10\n",
      "\u001b[2m\u001b[36m(pid=7556)\u001b[0m basinhopping step 1: f 8.64437e+08 trial_f 8.64437e+08 accepted 1  lowest_f 8.64437e+08\n",
      "\u001b[2m\u001b[36m(pid=7556)\u001b[0m basinhopping step 2: f 8.64437e+08 trial_f 8.64437e+08 accepted 1  lowest_f 8.64437e+08\n",
      "\u001b[2m\u001b[36m(pid=7403)\u001b[0m basinhopping step 1: f 1.03468e+11 trial_f 1.03468e+11 accepted 1  lowest_f 1.03468e+11\n",
      "\u001b[2m\u001b[36m(pid=7403)\u001b[0m found new global minimum on step 1 with function value 1.03468e+11\n"
     ]
    },
    {
     "name": "stderr",
     "output_type": "stream",
     "text": [
      "2020-10-22 11:15:40,997\tWARNING worker.py:1090 -- WARNING: 10 PYTHON workers have been started. This could be a result of using a large number of actors, or it could be a consequence of using nested tasks (see https://github.com/ray-project/ray/issues/3644) for some a discussion of workarounds.\n"
     ]
    },
    {
     "name": "stdout",
     "output_type": "stream",
     "text": [
      "\u001b[2m\u001b[36m(pid=7403)\u001b[0m basinhopping step 2: f 1.03468e+11 trial_f 1.03468e+11 accepted 1  lowest_f 1.03468e+11\n",
      "\u001b[2m\u001b[36m(pid=7556)\u001b[0m  lsoda--  at t(=r1) and step size h(=r2), the error\u0000\u0000\n",
      "\u001b[2m\u001b[36m(pid=7556)\u001b[0m        test failed repeatedly or with abs(h) = hmin\u0000\u0000\n",
      "\u001b[2m\u001b[36m(pid=7556)\u001b[0m       in above,  r1 =  0.4106556071476D+03   r2 =  0.4732878854150D-07\n",
      "\u001b[2m\u001b[36m(pid=7573)\u001b[0m basinhopping step 5: f 5.77122e+09 trial_f 5.77122e+09 accepted 1  lowest_f 5.77122e+09\n",
      "\u001b[2m\u001b[36m(pid=7573)\u001b[0m found new global minimum on step 5 with function value 5.77122e+09\n"
     ]
    },
    {
     "name": "stderr",
     "output_type": "stream",
     "text": [
      "2020-10-22 11:15:41,685\tWARNING worker.py:1090 -- WARNING: 10 PYTHON workers have been started. This could be a result of using a large number of actors, or it could be a consequence of using nested tasks (see https://github.com/ray-project/ray/issues/3644) for some a discussion of workarounds.\n"
     ]
    },
    {
     "name": "stdout",
     "output_type": "stream",
     "text": [
      "\u001b[2m\u001b[36m(pid=7499)\u001b[0m basinhopping step 0: f 9.52656e+09\n",
      "\u001b[2m\u001b[36m(pid=7499)\u001b[0m basinhopping step 1: f 9.49933e+09 trial_f 9.49933e+09 accepted 1  lowest_f 9.49933e+09\n",
      "\u001b[2m\u001b[36m(pid=7499)\u001b[0m found new global minimum on step 1 with function value 9.49933e+09\n",
      "\u001b[2m\u001b[36m(pid=7499)\u001b[0m basinhopping step 2: f 9.49933e+09 trial_f 9.59533e+09 accepted 0  lowest_f 9.49933e+09\n"
     ]
    },
    {
     "name": "stderr",
     "output_type": "stream",
     "text": [
      "2020-10-22 11:15:45,077\tWARNING worker.py:1090 -- WARNING: 10 PYTHON workers have been started. This could be a result of using a large number of actors, or it could be a consequence of using nested tasks (see https://github.com/ray-project/ray/issues/3644) for some a discussion of workarounds.\n"
     ]
    },
    {
     "name": "stdout",
     "output_type": "stream",
     "text": [
      "\u001b[2m\u001b[36m(pid=7573)\u001b[0m basinhopping step 6: f 5.77122e+09 trial_f 5.00662e+11 accepted 0  lowest_f 5.77122e+09\n",
      "\u001b[2m\u001b[36m(pid=7695)\u001b[0m basinhopping step 1: f 4.25893e+11 trial_f 4.25893e+11 accepted 1  lowest_f 4.25893e+11\n",
      "\u001b[2m\u001b[36m(pid=7695)\u001b[0m found new global minimum on step 1 with function value 4.25893e+11\n",
      "\u001b[2m\u001b[36m(pid=7758)\u001b[0m warning: basinhopping: local minimization failure\n",
      "\u001b[2m\u001b[36m(pid=7758)\u001b[0m basinhopping step 0: f 1.8869e+12\n",
      "\u001b[2m\u001b[36m(pid=7729)\u001b[0m basinhopping step 0: f 3.93947e+11\n",
      "\u001b[2m\u001b[36m(pid=7758)\u001b[0m basinhopping step 1: f 1.8869e+12 trial_f 6.88015e+16 accepted 0  lowest_f 1.8869e+12\n",
      "\u001b[2m\u001b[36m(pid=7729)\u001b[0m basinhopping step 1: f 3.93947e+11 trial_f 1.37187e+15 accepted 0  lowest_f 3.93947e+11\n",
      "\u001b[2m\u001b[36m(pid=7718)\u001b[0m basinhopping step 0: f 2.10555e+16\n",
      "\u001b[2m\u001b[36m(pid=7758)\u001b[0m warning: basinhopping: local minimization failure\n",
      "\u001b[2m\u001b[36m(pid=7758)\u001b[0m basinhopping step 2: f 1.8869e+12 trial_f 1.8869e+12 accepted 1  lowest_f 1.8869e+12\n",
      "\u001b[2m\u001b[36m(pid=7695)\u001b[0m basinhopping step 2: f 4.25893e+11 trial_f 9.78661e+11 accepted 0  lowest_f 4.25893e+11\n",
      "\u001b[2m\u001b[36m(pid=7573)\u001b[0m basinhopping step 7: f 5.745e+09 trial_f 5.745e+09 accepted 1  lowest_f 5.745e+09\n",
      "\u001b[2m\u001b[36m(pid=7573)\u001b[0m found new global minimum on step 7 with function value 5.745e+09\n",
      "\u001b[2m\u001b[36m(pid=7695)\u001b[0m basinhopping step 3: f 4.25893e+11 trial_f 2.17674e+14 accepted 0  lowest_f 4.25893e+11\n",
      "\u001b[2m\u001b[36m(pid=7729)\u001b[0m warning: basinhopping: local minimization failure\n",
      "\u001b[2m\u001b[36m(pid=7729)\u001b[0m basinhopping step 2: f 3.93947e+11 trial_f 4.20385e+11 accepted 0  lowest_f 3.93947e+11\n",
      "\u001b[2m\u001b[36m(pid=7573)\u001b[0m basinhopping step 8: f 5.745e+09 trial_f 3.35571e+12 accepted 0  lowest_f 5.745e+09\n",
      "\u001b[2m\u001b[36m(pid=7718)\u001b[0m basinhopping step 1: f 2.10555e+16 trial_f 1.07138e+17 accepted 0  lowest_f 2.10555e+16\n",
      "\u001b[2m\u001b[36m(pid=7758)\u001b[0m basinhopping step 3: f 1.88522e+12 trial_f 1.88522e+12 accepted 1  lowest_f 1.88522e+12\n",
      "\u001b[2m\u001b[36m(pid=7758)\u001b[0m found new global minimum on step 3 with function value 1.88522e+12\n",
      "\u001b[2m\u001b[36m(pid=7718)\u001b[0m basinhopping step 2: f 2.10555e+16 trial_f 1.17349e+17 accepted 0  lowest_f 2.10555e+16\n",
      "\u001b[2m\u001b[36m(pid=7573)\u001b[0m basinhopping step 9: f 5.63559e+09 trial_f 5.63559e+09 accepted 1  lowest_f 5.63559e+09\n",
      "\u001b[2m\u001b[36m(pid=7573)\u001b[0m found new global minimum on step 9 with function value 5.63559e+09\n",
      "\u001b[2m\u001b[36m(pid=7758)\u001b[0m warning: basinhopping: local minimization failure\n",
      "\u001b[2m\u001b[36m(pid=7758)\u001b[0m basinhopping step 4: f 1.88522e+12 trial_f 1.8869e+12 accepted 0  lowest_f 1.88522e+12\n",
      "\u001b[2m\u001b[36m(pid=7695)\u001b[0m basinhopping step 4: f 4.25893e+11 trial_f 1.03568e+12 accepted 0  lowest_f 4.25893e+11\n",
      "\u001b[2m\u001b[36m(pid=7729)\u001b[0m basinhopping step 3: f 3.93947e+11 trial_f 1.20924e+15 accepted 0  lowest_f 3.93947e+11\n",
      "\u001b[2m\u001b[36m(pid=7729)\u001b[0m basinhopping step 4: f 3.93947e+11 trial_f 1.4288e+15 accepted 0  lowest_f 3.93947e+11\n",
      "\u001b[2m\u001b[36m(pid=7695)\u001b[0m basinhopping step 5: f 4.25893e+11 trial_f 4.31216e+11 accepted 0  lowest_f 4.25893e+11\n",
      "\u001b[2m\u001b[36m(pid=7758)\u001b[0m basinhopping step 5: f 1.88522e+12 trial_f 5.31298e+16 accepted 0  lowest_f 1.88522e+12\n",
      "\u001b[2m\u001b[36m(pid=7729)\u001b[0m basinhopping step 5: f 1.18401e+11 trial_f 1.18401e+11 accepted 1  lowest_f 1.18401e+11\n",
      "\u001b[2m\u001b[36m(pid=7729)\u001b[0m found new global minimum on step 5 with function value 1.18401e+11\n",
      "\u001b[2m\u001b[36m(pid=7718)\u001b[0m basinhopping step 3: f 2.10555e+16 trial_f 9.91623e+16 accepted 0  lowest_f 2.10555e+16\n",
      "\u001b[2m\u001b[36m(pid=7758)\u001b[0m basinhopping step 6: f 1.88522e+12 trial_f 6.77499e+16 accepted 0  lowest_f 1.88522e+12\n",
      "\u001b[2m\u001b[36m(pid=7573)\u001b[0m basinhopping step 10: f 5.63559e+09 trial_f 4.29055e+11 accepted 0  lowest_f 5.63559e+09\n",
      "\u001b[2m\u001b[36m(pid=7573)\u001b[0m basinhopping step 0: f 5.6271e+09\n",
      "\u001b[2m\u001b[36m(pid=7573)\u001b[0m basinhopping step 1: f 5.6271e+09 trial_f 5.62858e+09 accepted 0  lowest_f 5.6271e+09\n",
      "\u001b[2m\u001b[36m(pid=7573)\u001b[0m basinhopping step 2: f 5.6271e+09 trial_f 5.62922e+09 accepted 0  lowest_f 5.6271e+09\n",
      "\u001b[2m\u001b[36m(pid=7758)\u001b[0m basinhopping step 7: f 1.88522e+12 trial_f 1.88654e+12 accepted 0  lowest_f 1.88522e+12\n"
     ]
    },
    {
     "name": "stderr",
     "output_type": "stream",
     "text": [
      "2020-10-22 11:17:03,861\tWARNING worker.py:1090 -- WARNING: 10 PYTHON workers have been started. This could be a result of using a large number of actors, or it could be a consequence of using nested tasks (see https://github.com/ray-project/ray/issues/3644) for some a discussion of workarounds.\n"
     ]
    },
    {
     "name": "stdout",
     "output_type": "stream",
     "text": [
      "\u001b[2m\u001b[36m(pid=7758)\u001b[0m basinhopping step 8: f 1.88468e+12 trial_f 1.88468e+12 accepted 1  lowest_f 1.88468e+12\n",
      "\u001b[2m\u001b[36m(pid=7758)\u001b[0m found new global minimum on step 8 with function value 1.88468e+12\n",
      "\u001b[2m\u001b[36m(pid=7830)\u001b[0m warning: basinhopping: local minimization failure\n",
      "\u001b[2m\u001b[36m(pid=7830)\u001b[0m basinhopping step 0: f 9.00589e+09\n",
      "\u001b[2m\u001b[36m(pid=7695)\u001b[0m basinhopping step 6: f 4.25893e+11 trial_f 3.8352e+13 accepted 0  lowest_f 4.25893e+11\n",
      "\u001b[2m\u001b[36m(pid=7830)\u001b[0m basinhopping step 1: f 7.1103e+09 trial_f 7.1103e+09 accepted 1  lowest_f 7.1103e+09\n",
      "\u001b[2m\u001b[36m(pid=7830)\u001b[0m found new global minimum on step 1 with function value 7.1103e+09\n",
      "\u001b[2m\u001b[36m(pid=7695)\u001b[0m basinhopping step 7: f 4.25893e+11 trial_f 3.89162e+13 accepted 0  lowest_f 4.25893e+11\n",
      "\u001b[2m\u001b[36m(pid=7718)\u001b[0m basinhopping step 4: f 1.57867e+16 trial_f 1.57867e+16 accepted 1  lowest_f 1.57867e+16\n",
      "\u001b[2m\u001b[36m(pid=7718)\u001b[0m found new global minimum on step 4 with function value 1.57867e+16\n",
      "\u001b[2m\u001b[36m(pid=7695)\u001b[0m basinhopping step 8: f 4.25893e+11 trial_f 1.07374e+12 accepted 0  lowest_f 4.25893e+11\n",
      "\u001b[2m\u001b[36m(pid=7830)\u001b[0m basinhopping step 2: f 7.1103e+09 trial_f 8.16932e+09 accepted 0  lowest_f 7.1103e+09\n",
      "\u001b[2m\u001b[36m(pid=7758)\u001b[0m warning: basinhopping: local minimization failure\n",
      "\u001b[2m\u001b[36m(pid=7758)\u001b[0m basinhopping step 9: f 1.88468e+12 trial_f 1.8869e+12 accepted 0  lowest_f 1.88468e+12\n",
      "\u001b[2m\u001b[36m(pid=7830)\u001b[0m basinhopping step 3: f 7.1103e+09 trial_f 8.87376e+09 accepted 0  lowest_f 7.1103e+09\n",
      "\u001b[2m\u001b[36m(pid=7695)\u001b[0m warning: basinhopping: local minimization failure\n",
      "\u001b[2m\u001b[36m(pid=7695)\u001b[0m basinhopping step 9: f 4.25893e+11 trial_f 1.45217e+12 accepted 0  lowest_f 4.25893e+11\n",
      "\u001b[2m\u001b[36m(pid=7718)\u001b[0m basinhopping step 5: f 1.22788e+09 trial_f 1.22788e+09 accepted 1  lowest_f 1.22788e+09\n",
      "\u001b[2m\u001b[36m(pid=7718)\u001b[0m found new global minimum on step 5 with function value 1.22788e+09\n",
      "\u001b[2m\u001b[36m(pid=7729)\u001b[0m basinhopping step 6: f 1.18401e+11 trial_f 4.2042e+11 accepted 0  lowest_f 1.18401e+11\n",
      "\u001b[2m\u001b[36m(pid=7758)\u001b[0m basinhopping step 10: f 2.96045e+11 trial_f 2.96045e+11 accepted 1  lowest_f 2.96045e+11\n",
      "\u001b[2m\u001b[36m(pid=7758)\u001b[0m found new global minimum on step 10 with function value 2.96045e+11\n",
      "\u001b[2m\u001b[36m(pid=7718)\u001b[0m basinhopping step 6: f 1.22775e+09 trial_f 1.22775e+09 accepted 1  lowest_f 1.22775e+09\n",
      "\u001b[2m\u001b[36m(pid=7718)\u001b[0m found new global minimum on step 6 with function value 1.22775e+09\n",
      "\u001b[2m\u001b[36m(pid=7758)\u001b[0m basinhopping step 0: f 2.6251e+11\n",
      "\u001b[2m\u001b[36m(pid=7758)\u001b[0m basinhopping step 1: f 2.5639e+11 trial_f 2.5639e+11 accepted 1  lowest_f 2.5639e+11\n",
      "\u001b[2m\u001b[36m(pid=7758)\u001b[0m found new global minimum on step 1 with function value 2.5639e+11\n",
      "\u001b[2m\u001b[36m(pid=7758)\u001b[0m basinhopping step 2: f 2.5639e+11 trial_f 2.63242e+11 accepted 0  lowest_f 2.5639e+11\n"
     ]
    },
    {
     "name": "stderr",
     "output_type": "stream",
     "text": [
      "2020-10-22 11:17:48,023\tWARNING worker.py:1090 -- WARNING: 10 PYTHON workers have been started. This could be a result of using a large number of actors, or it could be a consequence of using nested tasks (see https://github.com/ray-project/ray/issues/3644) for some a discussion of workarounds.\n"
     ]
    },
    {
     "name": "stdout",
     "output_type": "stream",
     "text": [
      "\u001b[2m\u001b[36m(pid=7729)\u001b[0m basinhopping step 7: f 1.18401e+11 trial_f 1.20344e+15 accepted 0  lowest_f 1.18401e+11\n",
      "\u001b[2m\u001b[36m(pid=7729)\u001b[0m warning: basinhopping: local minimization failure\n",
      "\u001b[2m\u001b[36m(pid=7729)\u001b[0m basinhopping step 8: f 1.18401e+11 trial_f 4.29753e+11 accepted 0  lowest_f 1.18401e+11\n",
      "\u001b[2m\u001b[36m(pid=7830)\u001b[0m basinhopping step 4: f 5.44915e+09 trial_f 5.44915e+09 accepted 1  lowest_f 5.44915e+09\n",
      "\u001b[2m\u001b[36m(pid=7830)\u001b[0m found new global minimum on step 4 with function value 5.44915e+09\n",
      "\u001b[2m\u001b[36m(pid=7718)\u001b[0m basinhopping step 7: f 1.20084e+09 trial_f 1.20084e+09 accepted 1  lowest_f 1.20084e+09\n",
      "\u001b[2m\u001b[36m(pid=7718)\u001b[0m found new global minimum on step 7 with function value 1.20084e+09\n",
      "\u001b[2m\u001b[36m(pid=7830)\u001b[0m basinhopping step 5: f 5.44915e+09 trial_f 1.05582e+14 accepted 0  lowest_f 5.44915e+09\n",
      "\u001b[2m\u001b[36m(pid=7695)\u001b[0m basinhopping step 10: f 4.25893e+11 trial_f 3.87685e+13 accepted 0  lowest_f 4.25893e+11\n",
      "\u001b[2m\u001b[36m(pid=7695)\u001b[0m basinhopping step 0: f 4.17016e+11\n",
      "\u001b[2m\u001b[36m(pid=7695)\u001b[0m basinhopping step 1: f 4.16604e+11 trial_f 4.16604e+11 accepted 1  lowest_f 4.16604e+11\n",
      "\u001b[2m\u001b[36m(pid=7695)\u001b[0m found new global minimum on step 1 with function value 4.16604e+11\n",
      "\u001b[2m\u001b[36m(pid=7859)\u001b[0m basinhopping step 0: f 5.34748e+11\n",
      "\u001b[2m\u001b[36m(pid=7695)\u001b[0m basinhopping step 2: f 4.16604e+11 trial_f 4.16777e+11 accepted 0  lowest_f 4.16604e+11\n"
     ]
    },
    {
     "name": "stderr",
     "output_type": "stream",
     "text": [
      "2020-10-22 11:18:08,749\tWARNING worker.py:1090 -- WARNING: 10 PYTHON workers have been started. This could be a result of using a large number of actors, or it could be a consequence of using nested tasks (see https://github.com/ray-project/ray/issues/3644) for some a discussion of workarounds.\n"
     ]
    },
    {
     "name": "stdout",
     "output_type": "stream",
     "text": [
      "\u001b[2m\u001b[36m(pid=7859)\u001b[0m basinhopping step 1: f 5.34748e+11 trial_f 7.90809e+14 accepted 0  lowest_f 5.34748e+11\n",
      "\u001b[2m\u001b[36m(pid=7899)\u001b[0m basinhopping step 0: f 1.32038e+14\n",
      "\u001b[2m\u001b[36m(pid=7729)\u001b[0m basinhopping step 9: f 1.18401e+11 trial_f 4.53024e+14 accepted 0  lowest_f 1.18401e+11\n",
      "\u001b[2m\u001b[36m(pid=7899)\u001b[0m basinhopping step 1: f 1.32038e+14 trial_f 2.00512e+14 accepted 0  lowest_f 1.32038e+14\n",
      "\u001b[2m\u001b[36m(pid=7899)\u001b[0m basinhopping step 2: f 1.79596e+11 trial_f 1.79596e+11 accepted 1  lowest_f 1.79596e+11\n",
      "\u001b[2m\u001b[36m(pid=7899)\u001b[0m found new global minimum on step 2 with function value 1.79596e+11\n",
      "\u001b[2m\u001b[36m(pid=7718)\u001b[0m basinhopping step 8: f 1.20084e+09 trial_f 1.22788e+09 accepted 0  lowest_f 1.20084e+09\n",
      "\u001b[2m\u001b[36m(pid=7729)\u001b[0m basinhopping step 10: f 1.18401e+11 trial_f 1.21058e+15 accepted 0  lowest_f 1.18401e+11\n",
      "\u001b[2m\u001b[36m(pid=7729)\u001b[0m basinhopping step 0: f 1.16511e+11\n",
      "\u001b[2m\u001b[36m(pid=7729)\u001b[0m basinhopping step 1: f 1.16511e+11 trial_f 1.24145e+11 accepted 0  lowest_f 1.16511e+11\n",
      "\u001b[2m\u001b[36m(pid=7729)\u001b[0m basinhopping step 2: f 1.16245e+11 trial_f 1.16245e+11 accepted 1  lowest_f 1.16245e+11\n",
      "\u001b[2m\u001b[36m(pid=7729)\u001b[0m found new global minimum on step 2 with function value 1.16245e+11\n"
     ]
    },
    {
     "name": "stderr",
     "output_type": "stream",
     "text": [
      "2020-10-22 11:18:36,732\tWARNING worker.py:1090 -- WARNING: 10 PYTHON workers have been started. This could be a result of using a large number of actors, or it could be a consequence of using nested tasks (see https://github.com/ray-project/ray/issues/3644) for some a discussion of workarounds.\n"
     ]
    },
    {
     "name": "stdout",
     "output_type": "stream",
     "text": [
      "\u001b[2m\u001b[36m(pid=7718)\u001b[0m basinhopping step 9: f 1.20084e+09 trial_f 1.22788e+09 accepted 0  lowest_f 1.20084e+09\n",
      "\u001b[2m\u001b[36m(pid=7718)\u001b[0m basinhopping step 10: f 1.20084e+09 trial_f 1.01261e+17 accepted 0  lowest_f 1.20084e+09\n",
      "\u001b[2m\u001b[36m(pid=7718)\u001b[0m basinhopping step 0: f 1.17064e+09\n",
      "\u001b[2m\u001b[36m(pid=7718)\u001b[0m basinhopping step 1: f 1.17064e+09 trial_f 1.17064e+09 accepted 1  lowest_f 1.17064e+09\n",
      "\u001b[2m\u001b[36m(pid=7859)\u001b[0m basinhopping step 2: f 9.36968e+10 trial_f 9.36968e+10 accepted 1  lowest_f 9.36968e+10\n",
      "\u001b[2m\u001b[36m(pid=7859)\u001b[0m found new global minimum on step 2 with function value 9.36968e+10\n",
      "\u001b[2m\u001b[36m(pid=7955)\u001b[0m warning: basinhopping: local minimization failure\n",
      "\u001b[2m\u001b[36m(pid=7955)\u001b[0m basinhopping step 0: f 6.67073e+11\n",
      "\u001b[2m\u001b[36m(pid=7718)\u001b[0m basinhopping step 2: f 1.17064e+09 trial_f 1.17793e+09 accepted 0  lowest_f 1.17064e+09\n"
     ]
    },
    {
     "name": "stderr",
     "output_type": "stream",
     "text": [
      "2020-10-22 11:18:44,743\tWARNING worker.py:1090 -- WARNING: 10 PYTHON workers have been started. This could be a result of using a large number of actors, or it could be a consequence of using nested tasks (see https://github.com/ray-project/ray/issues/3644) for some a discussion of workarounds.\n"
     ]
    },
    {
     "name": "stdout",
     "output_type": "stream",
     "text": [
      "\u001b[2m\u001b[36m(pid=7859)\u001b[0m basinhopping step 3: f 9.36968e+10 trial_f 3.97468e+15 accepted 0  lowest_f 9.36968e+10\n",
      "\u001b[2m\u001b[36m(pid=7830)\u001b[0m basinhopping step 6: f 5.44915e+09 trial_f 5.82018e+09 accepted 0  lowest_f 5.44915e+09\n",
      "\u001b[2m\u001b[36m(pid=7859)\u001b[0m warning: basinhopping: local minimization failure\n",
      "\u001b[2m\u001b[36m(pid=7859)\u001b[0m basinhopping step 4: f 9.36968e+10 trial_f 4.02259e+11 accepted 0  lowest_f 9.36968e+10\n",
      "\u001b[2m\u001b[36m(pid=7830)\u001b[0m warning: basinhopping: local minimization failure\n",
      "\u001b[2m\u001b[36m(pid=7830)\u001b[0m basinhopping step 7: f 5.44915e+09 trial_f 9.00584e+09 accepted 0  lowest_f 5.44915e+09\n",
      "\u001b[2m\u001b[36m(pid=7830)\u001b[0m warning: basinhopping: local minimization failure\n",
      "\u001b[2m\u001b[36m(pid=7830)\u001b[0m basinhopping step 8: f 5.44915e+09 trial_f 9.00593e+09 accepted 0  lowest_f 5.44915e+09\n",
      "\u001b[2m\u001b[36m(pid=7955)\u001b[0m basinhopping step 1: f 6.67073e+11 trial_f 5.28563e+14 accepted 0  lowest_f 6.67073e+11\n",
      "\u001b[2m\u001b[36m(pid=7985)\u001b[0m basinhopping step 0: f 1.43845e+09\n",
      "\u001b[2m\u001b[36m(pid=7830)\u001b[0m warning: basinhopping: local minimization failure\n",
      "\u001b[2m\u001b[36m(pid=7830)\u001b[0m basinhopping step 9: f 5.44915e+09 trial_f 9.00591e+09 accepted 0  lowest_f 5.44915e+09\n",
      "\u001b[2m\u001b[36m(pid=7955)\u001b[0m basinhopping step 2: f 6.67073e+11 trial_f 5.0845e+14 accepted 0  lowest_f 6.67073e+11\n",
      "\u001b[2m\u001b[36m(pid=7899)\u001b[0m basinhopping step 3: f 1.79596e+11 trial_f 1.19455e+12 accepted 0  lowest_f 1.79596e+11\n",
      "\u001b[2m\u001b[36m(pid=7899)\u001b[0m basinhopping step 4: f 1.79596e+11 trial_f 2.06045e+12 accepted 0  lowest_f 1.79596e+11\n",
      "\u001b[2m\u001b[36m(pid=7955)\u001b[0m basinhopping step 3: f 6.67073e+11 trial_f 3.41819e+15 accepted 0  lowest_f 6.67073e+11\n",
      "\u001b[2m\u001b[36m(pid=7899)\u001b[0m basinhopping step 5: f 1.79596e+11 trial_f 1.32696e+15 accepted 0  lowest_f 1.79596e+11\n",
      "\u001b[2m\u001b[36m(pid=7859)\u001b[0m basinhopping step 5: f 9.36968e+10 trial_f 1.71024e+15 accepted 0  lowest_f 9.36968e+10\n",
      "\u001b[2m\u001b[36m(pid=7955)\u001b[0m basinhopping step 4: f 6.67073e+11 trial_f 3.9033e+15 accepted 0  lowest_f 6.67073e+11\n",
      "\u001b[2m\u001b[36m(pid=7985)\u001b[0m basinhopping step 1: f 1.43845e+09 trial_f 1.43845e+09 accepted 1  lowest_f 1.43845e+09\n",
      "\u001b[2m\u001b[36m(pid=7955)\u001b[0m warning: basinhopping: local minimization failure\n",
      "\u001b[2m\u001b[36m(pid=7955)\u001b[0m basinhopping step 5: f 6.67073e+11 trial_f 1.15067e+12 accepted 0  lowest_f 6.67073e+11\n",
      "\u001b[2m\u001b[36m(pid=7899)\u001b[0m basinhopping step 6: f 1.79596e+11 trial_f 4.97566e+14 accepted 0  lowest_f 1.79596e+11\n",
      "\u001b[2m\u001b[36m(pid=7955)\u001b[0m basinhopping step 6: f 6.67073e+11 trial_f 2.92137e+14 accepted 0  lowest_f 6.67073e+11\n",
      "\u001b[2m\u001b[36m(pid=7985)\u001b[0m basinhopping step 2: f 1.43845e+09 trial_f 1.21136e+16 accepted 0  lowest_f 1.43845e+09\n",
      "\u001b[2m\u001b[36m(pid=7859)\u001b[0m basinhopping step 6: f 9.36968e+10 trial_f 1.02139e+11 accepted 0  lowest_f 9.36968e+10\n",
      "\u001b[2m\u001b[36m(pid=7955)\u001b[0m basinhopping step 7: f 6.67073e+11 trial_f 3.40943e+15 accepted 0  lowest_f 6.67073e+11\n",
      "\u001b[2m\u001b[36m(pid=7899)\u001b[0m warning: basinhopping: local minimization failure\n",
      "\u001b[2m\u001b[36m(pid=7899)\u001b[0m basinhopping step 7: f 1.79596e+11 trial_f 7.09809e+11 accepted 0  lowest_f 1.79596e+11\n",
      "\u001b[2m\u001b[36m(pid=7899)\u001b[0m warning: basinhopping: local minimization failure\n",
      "\u001b[2m\u001b[36m(pid=7899)\u001b[0m basinhopping step 8: f 1.79596e+11 trial_f 4.06292e+12 accepted 0  lowest_f 1.79596e+11\n",
      "\u001b[2m\u001b[36m(pid=7859)\u001b[0m warning: basinhopping: local minimization failure\n",
      "\u001b[2m\u001b[36m(pid=7859)\u001b[0m basinhopping step 7: f 9.36968e+10 trial_f 5.29391e+11 accepted 0  lowest_f 9.36968e+10\n",
      "\u001b[2m\u001b[36m(pid=7985)\u001b[0m basinhopping step 3: f 1.43845e+09 trial_f 1.43946e+09 accepted 0  lowest_f 1.43845e+09\n",
      "\u001b[2m\u001b[36m(pid=7859)\u001b[0m basinhopping step 8: f 9.36968e+10 trial_f 4.52914e+15 accepted 0  lowest_f 9.36968e+10\n",
      "\u001b[2m\u001b[36m(pid=7899)\u001b[0m basinhopping step 9: f 1.79596e+11 trial_f 1.32556e+15 accepted 0  lowest_f 1.79596e+11\n",
      "\u001b[2m\u001b[36m(pid=7859)\u001b[0m warning: basinhopping: local minimization failure\n",
      "\u001b[2m\u001b[36m(pid=7859)\u001b[0m basinhopping step 9: f 9.36968e+10 trial_f 2.13558e+11 accepted 0  lowest_f 9.36968e+10\n",
      "\u001b[2m\u001b[36m(pid=7830)\u001b[0m warning: basinhopping: local minimization failure\n",
      "\u001b[2m\u001b[36m(pid=7830)\u001b[0m basinhopping step 10: f 5.44915e+09 trial_f 9.00595e+09 accepted 0  lowest_f 5.44915e+09\n",
      "\u001b[2m\u001b[36m(pid=7830)\u001b[0m basinhopping step 0: f 5.42158e+09\n",
      "\u001b[2m\u001b[36m(pid=7985)\u001b[0m basinhopping step 4: f 1.43714e+09 trial_f 1.43714e+09 accepted 1  lowest_f 1.43714e+09\n",
      "\u001b[2m\u001b[36m(pid=7985)\u001b[0m found new global minimum on step 4 with function value 1.43714e+09\n",
      "\u001b[2m\u001b[36m(pid=7830)\u001b[0m basinhopping step 1: f 5.41771e+09 trial_f 5.41771e+09 accepted 1  lowest_f 5.41771e+09\n",
      "\u001b[2m\u001b[36m(pid=7830)\u001b[0m found new global minimum on step 1 with function value 5.41771e+09\n",
      "\u001b[2m\u001b[36m(pid=7859)\u001b[0m basinhopping step 10: f 9.36968e+10 trial_f 5.48141e+11 accepted 0  lowest_f 9.36968e+10\n",
      "\u001b[2m\u001b[36m(pid=7830)\u001b[0m basinhopping step 2: f 5.41771e+09 trial_f 5.43764e+09 accepted 0  lowest_f 5.41771e+09\n"
     ]
    },
    {
     "name": "stderr",
     "output_type": "stream",
     "text": [
      "2020-10-22 11:20:09,291\tWARNING worker.py:1090 -- WARNING: 10 PYTHON workers have been started. This could be a result of using a large number of actors, or it could be a consequence of using nested tasks (see https://github.com/ray-project/ray/issues/3644) for some a discussion of workarounds.\n"
     ]
    },
    {
     "name": "stdout",
     "output_type": "stream",
     "text": [
      "\u001b[2m\u001b[36m(pid=7859)\u001b[0m basinhopping step 0: f 9.35837e+10\n",
      "\u001b[2m\u001b[36m(pid=7899)\u001b[0m warning: basinhopping: local minimization failure\n",
      "\u001b[2m\u001b[36m(pid=7899)\u001b[0m basinhopping step 10: f 1.79596e+11 trial_f 1.01926e+12 accepted 0  lowest_f 1.79596e+11\n",
      "\u001b[2m\u001b[36m(pid=7899)\u001b[0m basinhopping step 0: f 1.70654e+11\n",
      "\u001b[2m\u001b[36m(pid=7859)\u001b[0m basinhopping step 1: f 9.35837e+10 trial_f 9.35849e+10 accepted 0  lowest_f 9.35837e+10\n",
      "\u001b[2m\u001b[36m(pid=7899)\u001b[0m basinhopping step 1: f 1.7039e+11 trial_f 1.7039e+11 accepted 1  lowest_f 1.7039e+11\n",
      "\u001b[2m\u001b[36m(pid=7899)\u001b[0m found new global minimum on step 1 with function value 1.7039e+11\n",
      "\u001b[2m\u001b[36m(pid=7859)\u001b[0m basinhopping step 2: f 9.35837e+10 trial_f 9.35909e+10 accepted 0  lowest_f 9.35837e+10\n"
     ]
    },
    {
     "name": "stderr",
     "output_type": "stream",
     "text": [
      "2020-10-22 11:20:13,738\tWARNING worker.py:1090 -- WARNING: 10 PYTHON workers have been started. This could be a result of using a large number of actors, or it could be a consequence of using nested tasks (see https://github.com/ray-project/ray/issues/3644) for some a discussion of workarounds.\n"
     ]
    },
    {
     "name": "stdout",
     "output_type": "stream",
     "text": [
      "\u001b[2m\u001b[36m(pid=8056)\u001b[0m basinhopping step 0: f 1.1967e+09\n",
      "\u001b[2m\u001b[36m(pid=7955)\u001b[0m basinhopping step 8: f 6.67073e+11 trial_f 5.50056e+14 accepted 0  lowest_f 6.67073e+11\n",
      "\u001b[2m\u001b[36m(pid=7899)\u001b[0m basinhopping step 2: f 1.7039e+11 trial_f 1.70514e+11 accepted 0  lowest_f 1.7039e+11\n"
     ]
    },
    {
     "name": "stderr",
     "output_type": "stream",
     "text": [
      "2020-10-22 11:20:15,452\tWARNING worker.py:1090 -- WARNING: 10 PYTHON workers have been started. This could be a result of using a large number of actors, or it could be a consequence of using nested tasks (see https://github.com/ray-project/ray/issues/3644) for some a discussion of workarounds.\n"
     ]
    },
    {
     "name": "stdout",
     "output_type": "stream",
     "text": [
      "\u001b[2m\u001b[36m(pid=7955)\u001b[0m basinhopping step 9: f 6.67073e+11 trial_f 1.14556e+12 accepted 0  lowest_f 6.67073e+11\n",
      "\u001b[2m\u001b[36m(pid=7985)\u001b[0m basinhopping step 5: f 1.43714e+09 trial_f 4.05527e+16 accepted 0  lowest_f 1.43714e+09\n",
      "\u001b[2m\u001b[36m(pid=8069)\u001b[0m basinhopping step 0: f 8.94589e+11\n",
      "\u001b[2m\u001b[36m(pid=8084)\u001b[0m basinhopping step 0: f 1.62848e+14\n",
      "\u001b[2m\u001b[36m(pid=8056)\u001b[0m basinhopping step 1: f 9.57455e+08 trial_f 9.57455e+08 accepted 1  lowest_f 9.57455e+08\n",
      "\u001b[2m\u001b[36m(pid=8056)\u001b[0m found new global minimum on step 1 with function value 9.57455e+08\n",
      "\u001b[2m\u001b[36m(pid=7985)\u001b[0m basinhopping step 6: f 1.43714e+09 trial_f 2.70626e+16 accepted 0  lowest_f 1.43714e+09\n",
      "\u001b[2m\u001b[36m(pid=8084)\u001b[0m basinhopping step 1: f 1.62848e+14 trial_f 1.74509e+14 accepted 0  lowest_f 1.62848e+14\n",
      "\u001b[2m\u001b[36m(pid=8056)\u001b[0m basinhopping step 2: f 9.57455e+08 trial_f 3.49603e+12 accepted 0  lowest_f 9.57455e+08\n",
      "\u001b[2m\u001b[36m(pid=7985)\u001b[0m warning: basinhopping: local minimization failure\n",
      "\u001b[2m\u001b[36m(pid=7985)\u001b[0m basinhopping step 7: f 1.43706e+09 trial_f 1.43706e+09 accepted 1  lowest_f 1.43706e+09\n",
      "\u001b[2m\u001b[36m(pid=7985)\u001b[0m found new global minimum on step 7 with function value 1.43706e+09\n",
      "\u001b[2m\u001b[36m(pid=8069)\u001b[0m basinhopping step 1: f 8.94589e+11 trial_f 9.94348e+11 accepted 0  lowest_f 8.94589e+11\n",
      "\u001b[2m\u001b[36m(pid=7985)\u001b[0m basinhopping step 8: f 1.43706e+09 trial_f 1.43715e+09 accepted 0  lowest_f 1.43706e+09\n",
      "\u001b[2m\u001b[36m(pid=7955)\u001b[0m warning: basinhopping: local minimization failure\n",
      "\u001b[2m\u001b[36m(pid=7955)\u001b[0m basinhopping step 10: f 3.8553e+11 trial_f 3.8553e+11 accepted 1  lowest_f 3.8553e+11\n",
      "\u001b[2m\u001b[36m(pid=7955)\u001b[0m found new global minimum on step 10 with function value 3.8553e+11\n",
      "\u001b[2m\u001b[36m(pid=7955)\u001b[0m basinhopping step 0: f 3.36883e+11\n",
      "\u001b[2m\u001b[36m(pid=7955)\u001b[0m basinhopping step 1: f 3.24772e+11 trial_f 3.24772e+11 accepted 1  lowest_f 3.24772e+11\n",
      "\u001b[2m\u001b[36m(pid=7955)\u001b[0m found new global minimum on step 1 with function value 3.24772e+11\n",
      "\u001b[2m\u001b[36m(pid=7955)\u001b[0m basinhopping step 2: f 3.24772e+11 trial_f 3.3394e+11 accepted 0  lowest_f 3.24772e+11\n"
     ]
    },
    {
     "name": "stderr",
     "output_type": "stream",
     "text": [
      "2020-10-22 11:21:14,045\tWARNING worker.py:1090 -- WARNING: 10 PYTHON workers have been started. This could be a result of using a large number of actors, or it could be a consequence of using nested tasks (see https://github.com/ray-project/ray/issues/3644) for some a discussion of workarounds.\n"
     ]
    },
    {
     "name": "stdout",
     "output_type": "stream",
     "text": [
      "\u001b[2m\u001b[36m(pid=8084)\u001b[0m basinhopping step 2: f 1.62848e+14 trial_f 3.87699e+14 accepted 0  lowest_f 1.62848e+14\n",
      "\u001b[2m\u001b[36m(pid=8056)\u001b[0m basinhopping step 3: f 9.57455e+08 trial_f 1.12521e+09 accepted 0  lowest_f 9.57455e+08\n",
      "\u001b[2m\u001b[36m(pid=8056)\u001b[0m basinhopping step 4: f 9.57455e+08 trial_f 1.77072e+09 accepted 0  lowest_f 9.57455e+08\n",
      "\u001b[2m\u001b[36m(pid=8069)\u001b[0m basinhopping step 2: f 8.94589e+11 trial_f 1.00273e+15 accepted 0  lowest_f 8.94589e+11\n",
      "\u001b[2m\u001b[36m(pid=8056)\u001b[0m basinhopping step 5: f 9.57455e+08 trial_f 1.32724e+12 accepted 0  lowest_f 9.57455e+08\n",
      "\u001b[2m\u001b[36m(pid=7985)\u001b[0m warning: basinhopping: local minimization failure\n",
      "\u001b[2m\u001b[36m(pid=7985)\u001b[0m basinhopping step 9: f 1.33161e+09 trial_f 1.33161e+09 accepted 1  lowest_f 1.33161e+09\n",
      "\u001b[2m\u001b[36m(pid=7985)\u001b[0m found new global minimum on step 9 with function value 1.33161e+09\n",
      "\u001b[2m\u001b[36m(pid=8056)\u001b[0m basinhopping step 6: f 9.57455e+08 trial_f 3.62289e+12 accepted 0  lowest_f 9.57455e+08\n",
      "\u001b[2m\u001b[36m(pid=7985)\u001b[0m basinhopping step 10: f 1.33161e+09 trial_f 1.1584e+16 accepted 0  lowest_f 1.33161e+09\n",
      "\u001b[2m\u001b[36m(pid=7985)\u001b[0m basinhopping step 0: f 1.21454e+09\n",
      "\u001b[2m\u001b[36m(pid=7985)\u001b[0m basinhopping step 1: f 1.21454e+09 trial_f 1.21454e+09 accepted 1  lowest_f 1.21454e+09\n",
      "\u001b[2m\u001b[36m(pid=7985)\u001b[0m basinhopping step 2: f 1.21454e+09 trial_f 1.21454e+09 accepted 1  lowest_f 1.21454e+09\n"
     ]
    },
    {
     "name": "stderr",
     "output_type": "stream",
     "text": [
      "2020-10-22 11:22:02,978\tWARNING worker.py:1090 -- WARNING: 10 PYTHON workers have been started. This could be a result of using a large number of actors, or it could be a consequence of using nested tasks (see https://github.com/ray-project/ray/issues/3644) for some a discussion of workarounds.\n"
     ]
    },
    {
     "name": "stdout",
     "output_type": "stream",
     "text": [
      "\u001b[2m\u001b[36m(pid=8084)\u001b[0m basinhopping step 3: f 8.8244e+13 trial_f 8.8244e+13 accepted 1  lowest_f 8.8244e+13\n",
      "\u001b[2m\u001b[36m(pid=8084)\u001b[0m found new global minimum on step 3 with function value 8.8244e+13\n",
      "\u001b[2m\u001b[36m(pid=8215)\u001b[0m basinhopping step 0: f 1.24471e+11\n",
      "\u001b[2m\u001b[36m(pid=8215)\u001b[0m basinhopping step 1: f 1.24471e+11 trial_f 1.17308e+14 accepted 0  lowest_f 1.24471e+11\n",
      "\u001b[2m\u001b[36m(pid=8215)\u001b[0m basinhopping step 2: f 1.24471e+11 trial_f 9.3061e+13 accepted 0  lowest_f 1.24471e+11\n",
      "\u001b[2m\u001b[36m(pid=8298)\u001b[0m basinhopping step 0: f 9.43924e+08\n",
      "\u001b[2m\u001b[36m(pid=8084)\u001b[0m basinhopping step 4: f 8.8244e+13 trial_f 3.1349e+15 accepted 0  lowest_f 8.8244e+13\n",
      "\u001b[2m\u001b[36m(pid=8215)\u001b[0m basinhopping step 3: f 1.24471e+11 trial_f 1.87628e+11 accepted 0  lowest_f 1.24471e+11\n",
      "\u001b[2m\u001b[36m(pid=8069)\u001b[0m basinhopping step 3: f 8.94589e+11 trial_f 1.55553e+14 accepted 0  lowest_f 8.94589e+11\n",
      "\u001b[2m\u001b[36m(pid=8056)\u001b[0m basinhopping step 7: f 9.57455e+08 trial_f 1.36115e+11 accepted 0  lowest_f 9.57455e+08\n",
      "\u001b[2m\u001b[36m(pid=8298)\u001b[0m basinhopping step 1: f 9.43924e+08 trial_f 1.66071e+17 accepted 0  lowest_f 9.43924e+08\n",
      "\u001b[2m\u001b[36m(pid=8056)\u001b[0m basinhopping step 8: f 9.57455e+08 trial_f 1.84453e+12 accepted 0  lowest_f 9.57455e+08\n",
      "\u001b[2m\u001b[36m(pid=8215)\u001b[0m basinhopping step 4: f 1.24471e+11 trial_f 9.08649e+13 accepted 0  lowest_f 1.24471e+11\n",
      "\u001b[2m\u001b[36m(pid=8069)\u001b[0m warning: basinhopping: local minimization failure\n",
      "\u001b[2m\u001b[36m(pid=8069)\u001b[0m basinhopping step 4: f 1.04335e+11 trial_f 1.04335e+11 accepted 1  lowest_f 1.04335e+11\n",
      "\u001b[2m\u001b[36m(pid=8069)\u001b[0m found new global minimum on step 4 with function value 1.04335e+11\n",
      "\u001b[2m\u001b[36m(pid=8056)\u001b[0m basinhopping step 9: f 9.57455e+08 trial_f 1.02397e+09 accepted 0  lowest_f 9.57455e+08\n",
      "\u001b[2m\u001b[36m(pid=8298)\u001b[0m basinhopping step 2: f 9.43924e+08 trial_f 7.11999e+16 accepted 0  lowest_f 9.43924e+08\n",
      "\u001b[2m\u001b[36m(pid=8084)\u001b[0m basinhopping step 5: f 9.37579e+11 trial_f 9.37579e+11 accepted 1  lowest_f 9.37579e+11\n",
      "\u001b[2m\u001b[36m(pid=8084)\u001b[0m found new global minimum on step 5 with function value 9.37579e+11\n",
      "\u001b[2m\u001b[36m(pid=8069)\u001b[0m warning: basinhopping: local minimization failure\n",
      "\u001b[2m\u001b[36m(pid=8069)\u001b[0m basinhopping step 5: f 1.04335e+11 trial_f 3.66697e+11 accepted 0  lowest_f 1.04335e+11\n",
      "\u001b[2m\u001b[36m(pid=8215)\u001b[0m warning: basinhopping: local minimization failure\n",
      "\u001b[2m\u001b[36m(pid=8215)\u001b[0m basinhopping step 5: f 1.24471e+11 trial_f 2.93502e+11 accepted 0  lowest_f 1.24471e+11\n",
      "\u001b[2m\u001b[36m(pid=8215)\u001b[0m basinhopping step 6: f 1.24471e+11 trial_f 5.2563e+14 accepted 0  lowest_f 1.24471e+11\n",
      "\u001b[2m\u001b[36m(pid=8298)\u001b[0m basinhopping step 3: f 9.43924e+08 trial_f 8.4144e+16 accepted 0  lowest_f 9.43924e+08\n",
      "\u001b[2m\u001b[36m(pid=8215)\u001b[0m basinhopping step 7: f 1.24471e+11 trial_f 1.40116e+11 accepted 0  lowest_f 1.24471e+11\n",
      "\u001b[2m\u001b[36m(pid=8084)\u001b[0m basinhopping step 6: f 9.37579e+11 trial_f 2.94265e+15 accepted 0  lowest_f 9.37579e+11\n",
      "\u001b[2m\u001b[36m(pid=8215)\u001b[0m basinhopping step 8: f 1.24471e+11 trial_f 5.6889e+11 accepted 0  lowest_f 1.24471e+11\n",
      "\u001b[2m\u001b[36m(pid=8056)\u001b[0m basinhopping step 10: f 9.57455e+08 trial_f 1.32709e+12 accepted 0  lowest_f 9.57455e+08\n",
      "\u001b[2m\u001b[36m(pid=8056)\u001b[0m basinhopping step 0: f 9.54197e+08\n",
      "\u001b[2m\u001b[36m(pid=8056)\u001b[0m basinhopping step 1: f 9.54197e+08 trial_f 9.5989e+08 accepted 0  lowest_f 9.54197e+08\n",
      "\u001b[2m\u001b[36m(pid=8056)\u001b[0m basinhopping step 2: f 9.53453e+08 trial_f 9.53453e+08 accepted 1  lowest_f 9.53453e+08\n",
      "\u001b[2m\u001b[36m(pid=8056)\u001b[0m found new global minimum on step 2 with function value 9.53453e+08\n"
     ]
    },
    {
     "name": "stderr",
     "output_type": "stream",
     "text": [
      "2020-10-22 11:23:30,867\tWARNING worker.py:1090 -- WARNING: 10 PYTHON workers have been started. This could be a result of using a large number of actors, or it could be a consequence of using nested tasks (see https://github.com/ray-project/ray/issues/3644) for some a discussion of workarounds.\n"
     ]
    },
    {
     "name": "stdout",
     "output_type": "stream",
     "text": [
      "\u001b[2m\u001b[36m(pid=8345)\u001b[0m basinhopping step 0: f 5.06153e+09\n",
      "\u001b[2m\u001b[36m(pid=8084)\u001b[0m basinhopping step 7: f 9.37579e+11 trial_f 9.61313e+11 accepted 0  lowest_f 9.37579e+11\n",
      "\u001b[2m\u001b[36m(pid=8069)\u001b[0m warning: basinhopping: local minimization failure\n",
      "\u001b[2m\u001b[36m(pid=8069)\u001b[0m basinhopping step 6: f 1.04335e+11 trial_f 1.32742e+11 accepted 0  lowest_f 1.04335e+11\n",
      "\u001b[2m\u001b[36m(pid=8084)\u001b[0m basinhopping step 8: f 9.37579e+11 trial_f 2.94472e+15 accepted 0  lowest_f 9.37579e+11\n",
      "\u001b[2m\u001b[36m(pid=8215)\u001b[0m basinhopping step 9: f 1.24471e+11 trial_f 5.68624e+11 accepted 0  lowest_f 1.24471e+11\n",
      "\u001b[2m\u001b[36m(pid=8084)\u001b[0m basinhopping step 9: f 9.37579e+11 trial_f 1.19548e+15 accepted 0  lowest_f 9.37579e+11\n",
      "\u001b[2m\u001b[36m(pid=8345)\u001b[0m basinhopping step 1: f 5.06153e+09 trial_f 5.75814e+13 accepted 0  lowest_f 5.06153e+09\n",
      "\u001b[2m\u001b[36m(pid=8084)\u001b[0m basinhopping step 10: f 9.37579e+11 trial_f 9.68851e+11 accepted 0  lowest_f 9.37579e+11\n",
      "\u001b[2m\u001b[36m(pid=8084)\u001b[0m basinhopping step 0: f 9.0776e+11\n",
      "\u001b[2m\u001b[36m(pid=8084)\u001b[0m basinhopping step 1: f 9.0776e+11 trial_f 9.0776e+11 accepted 1  lowest_f 9.0776e+11\n",
      "\u001b[2m\u001b[36m(pid=8084)\u001b[0m found new global minimum on step 1 with function value 9.0776e+11\n",
      "\u001b[2m\u001b[36m(pid=8084)\u001b[0m basinhopping step 2: f 9.0776e+11 trial_f 9.0776e+11 accepted 1  lowest_f 9.0776e+11\n"
     ]
    },
    {
     "name": "stderr",
     "output_type": "stream",
     "text": [
      "2020-10-22 11:24:01,617\tWARNING worker.py:1090 -- WARNING: 10 PYTHON workers have been started. This could be a result of using a large number of actors, or it could be a consequence of using nested tasks (see https://github.com/ray-project/ray/issues/3644) for some a discussion of workarounds.\n"
     ]
    },
    {
     "name": "stdout",
     "output_type": "stream",
     "text": [
      "\u001b[2m\u001b[36m(pid=8345)\u001b[0m basinhopping step 2: f 2.11676e+09 trial_f 2.11676e+09 accepted 1  lowest_f 2.11676e+09\n",
      "\u001b[2m\u001b[36m(pid=8345)\u001b[0m found new global minimum on step 2 with function value 2.11676e+09\n",
      "\u001b[2m\u001b[36m(pid=8069)\u001b[0m basinhopping step 7: f 1.04335e+11 trial_f 3.54316e+11 accepted 0  lowest_f 1.04335e+11\n",
      "\u001b[2m\u001b[36m(pid=8399)\u001b[0m basinhopping step 0: f 1.24622e+14\n",
      "\u001b[2m\u001b[36m(pid=8069)\u001b[0m basinhopping step 8: f 1.04335e+11 trial_f 1.00443e+15 accepted 0  lowest_f 1.04335e+11\n",
      "\u001b[2m\u001b[36m(pid=8069)\u001b[0m basinhopping step 9: f 1.04335e+11 trial_f 9.94342e+11 accepted 0  lowest_f 1.04335e+11\n",
      "\u001b[2m\u001b[36m(pid=8215)\u001b[0m warning: basinhopping: local minimization failure\n",
      "\u001b[2m\u001b[36m(pid=8215)\u001b[0m basinhopping step 10: f 1.24471e+11 trial_f 4.76746e+11 accepted 0  lowest_f 1.24471e+11\n",
      "\u001b[2m\u001b[36m(pid=8215)\u001b[0m basinhopping step 0: f 1.22863e+11\n",
      "\u001b[2m\u001b[36m(pid=8345)\u001b[0m basinhopping step 3: f 2.11676e+09 trial_f 5.06421e+09 accepted 0  lowest_f 2.11676e+09\n",
      "\u001b[2m\u001b[36m(pid=8215)\u001b[0m basinhopping step 1: f 1.22863e+11 trial_f 1.2291e+11 accepted 0  lowest_f 1.22863e+11\n",
      "\u001b[2m\u001b[36m(pid=8215)\u001b[0m basinhopping step 2: f 1.22863e+11 trial_f 1.23187e+11 accepted 0  lowest_f 1.22863e+11\n"
     ]
    },
    {
     "name": "stderr",
     "output_type": "stream",
     "text": [
      "2020-10-22 11:24:29,493\tWARNING worker.py:1090 -- WARNING: 10 PYTHON workers have been started. This could be a result of using a large number of actors, or it could be a consequence of using nested tasks (see https://github.com/ray-project/ray/issues/3644) for some a discussion of workarounds.\n"
     ]
    },
    {
     "name": "stdout",
     "output_type": "stream",
     "text": [
      "\u001b[2m\u001b[36m(pid=8298)\u001b[0m basinhopping step 4: f 9.43924e+08 trial_f 1.13828e+16 accepted 0  lowest_f 9.43924e+08\n",
      "\u001b[2m\u001b[36m(pid=8414)\u001b[0m basinhopping step 0: f 7.25396e+11\n",
      "\u001b[2m\u001b[36m(pid=8069)\u001b[0m warning: basinhopping: local minimization failure\n",
      "\u001b[2m\u001b[36m(pid=8069)\u001b[0m basinhopping step 10: f 1.04335e+11 trial_f 3.68572e+11 accepted 0  lowest_f 1.04335e+11\n",
      "\u001b[2m\u001b[36m(pid=8069)\u001b[0m basinhopping step 0: f 1.03948e+11\n",
      "\u001b[2m\u001b[36m(pid=8069)\u001b[0m basinhopping step 1: f 1.03706e+11 trial_f 1.03706e+11 accepted 1  lowest_f 1.03706e+11\n",
      "\u001b[2m\u001b[36m(pid=8069)\u001b[0m found new global minimum on step 1 with function value 1.03706e+11\n",
      "\u001b[2m\u001b[36m(pid=8414)\u001b[0m warning: basinhopping: local minimization failure\n",
      "\u001b[2m\u001b[36m(pid=8414)\u001b[0m basinhopping step 1: f 3.2061e+11 trial_f 3.2061e+11 accepted 1  lowest_f 3.2061e+11\n",
      "\u001b[2m\u001b[36m(pid=8414)\u001b[0m found new global minimum on step 1 with function value 3.2061e+11\n",
      "\u001b[2m\u001b[36m(pid=8345)\u001b[0m basinhopping step 4: f 2.11676e+09 trial_f 4.64225e+09 accepted 0  lowest_f 2.11676e+09\n",
      "\u001b[2m\u001b[36m(pid=8298)\u001b[0m basinhopping step 5: f 9.43924e+08 trial_f 9.47598e+08 accepted 0  lowest_f 9.43924e+08\n",
      "\u001b[2m\u001b[36m(pid=8069)\u001b[0m basinhopping step 2: f 1.03706e+11 trial_f 1.03989e+11 accepted 0  lowest_f 1.03706e+11\n"
     ]
    },
    {
     "name": "stderr",
     "output_type": "stream",
     "text": [
      "2020-10-22 11:24:52,836\tWARNING worker.py:1090 -- WARNING: 10 PYTHON workers have been started. This could be a result of using a large number of actors, or it could be a consequence of using nested tasks (see https://github.com/ray-project/ray/issues/3644) for some a discussion of workarounds.\n"
     ]
    },
    {
     "name": "stdout",
     "output_type": "stream",
     "text": [
      "\u001b[2m\u001b[36m(pid=8454)\u001b[0m basinhopping step 0: f 7.67066e+14\n",
      "\u001b[2m\u001b[36m(pid=8399)\u001b[0m warning: basinhopping: local minimization failure\n",
      "\u001b[2m\u001b[36m(pid=8399)\u001b[0m basinhopping step 1: f 1.23742e+12 trial_f 1.23742e+12 accepted 1  lowest_f 1.23742e+12\n",
      "\u001b[2m\u001b[36m(pid=8399)\u001b[0m found new global minimum on step 1 with function value 1.23742e+12\n",
      "\u001b[2m\u001b[36m(pid=8298)\u001b[0m basinhopping step 6: f 9.43924e+08 trial_f 9.43924e+08 accepted 1  lowest_f 9.43924e+08\n",
      "\u001b[2m\u001b[36m(pid=8414)\u001b[0m basinhopping step 2: f 3.2061e+11 trial_f 4.28085e+11 accepted 0  lowest_f 3.2061e+11\n",
      "\u001b[2m\u001b[36m(pid=8454)\u001b[0m basinhopping step 1: f 7.67066e+14 trial_f 7.67066e+14 accepted 0  lowest_f 7.67066e+14\n",
      "\u001b[2m\u001b[36m(pid=8298)\u001b[0m basinhopping step 7: f 9.43924e+08 trial_f 9.43924e+08 accepted 0  lowest_f 9.43924e+08\n",
      "\u001b[2m\u001b[36m(pid=8345)\u001b[0m warning: basinhopping: local minimization failure\n",
      "\u001b[2m\u001b[36m(pid=8345)\u001b[0m basinhopping step 5: f 2.11676e+09 trial_f 5.83111e+13 accepted 0  lowest_f 2.11676e+09\n",
      "\u001b[2m\u001b[36m(pid=8454)\u001b[0m warning: basinhopping: local minimization failure\n",
      "\u001b[2m\u001b[36m(pid=8454)\u001b[0m basinhopping step 2: f 1.33212e+12 trial_f 1.33212e+12 accepted 1  lowest_f 1.33212e+12\n",
      "\u001b[2m\u001b[36m(pid=8454)\u001b[0m found new global minimum on step 2 with function value 1.33212e+12\n",
      "\u001b[2m\u001b[36m(pid=8345)\u001b[0m basinhopping step 6: f 2.11676e+09 trial_f 6.46985e+13 accepted 0  lowest_f 2.11676e+09\n",
      "\u001b[2m\u001b[36m(pid=8399)\u001b[0m basinhopping step 2: f 1.23742e+12 trial_f 2.4397e+14 accepted 0  lowest_f 1.23742e+12\n",
      "\u001b[2m\u001b[36m(pid=8399)\u001b[0m basinhopping step 3: f 1.23742e+12 trial_f 1.24622e+14 accepted 0  lowest_f 1.23742e+12\n",
      "\u001b[2m\u001b[36m(pid=8414)\u001b[0m basinhopping step 3: f 3.2061e+11 trial_f 4.13699e+14 accepted 0  lowest_f 3.2061e+11\n",
      "\u001b[2m\u001b[36m(pid=8345)\u001b[0m basinhopping step 7: f 2.11676e+09 trial_f 3.94945e+09 accepted 0  lowest_f 2.11676e+09\n",
      "\u001b[2m\u001b[36m(pid=8399)\u001b[0m basinhopping step 4: f 1.23742e+12 trial_f 1.25981e+15 accepted 0  lowest_f 1.23742e+12\n",
      "\u001b[2m\u001b[36m(pid=8414)\u001b[0m warning: basinhopping: local minimization failure\n",
      "\u001b[2m\u001b[36m(pid=8414)\u001b[0m basinhopping step 4: f 3.2061e+11 trial_f 7.33043e+11 accepted 0  lowest_f 3.2061e+11\n",
      "\u001b[2m\u001b[36m(pid=8298)\u001b[0m basinhopping step 8: f 9.43924e+08 trial_f 9.43924e+08 accepted 1  lowest_f 9.43924e+08\n",
      "\u001b[2m\u001b[36m(pid=8298)\u001b[0m basinhopping step 9: f 9.43924e+08 trial_f 9.47598e+08 accepted 0  lowest_f 9.43924e+08\n",
      "\u001b[2m\u001b[36m(pid=8345)\u001b[0m basinhopping step 8: f 2.11676e+09 trial_f 2.71727e+09 accepted 0  lowest_f 2.11676e+09\n",
      "\u001b[2m\u001b[36m(pid=8454)\u001b[0m basinhopping step 3: f 9.53399e+11 trial_f 9.53399e+11 accepted 1  lowest_f 9.53399e+11\n",
      "\u001b[2m\u001b[36m(pid=8454)\u001b[0m found new global minimum on step 3 with function value 9.53399e+11\n",
      "\u001b[2m\u001b[36m(pid=8414)\u001b[0m basinhopping step 5: f 3.2061e+11 trial_f 7.25042e+11 accepted 0  lowest_f 3.2061e+11\n",
      "\u001b[2m\u001b[36m(pid=8454)\u001b[0m basinhopping step 4: f 9.53399e+11 trial_f 1.36685e+16 accepted 0  lowest_f 9.53399e+11\n",
      "\u001b[2m\u001b[36m(pid=8345)\u001b[0m basinhopping step 9: f 2.11676e+09 trial_f 5.03311e+09 accepted 0  lowest_f 2.11676e+09\n",
      "\u001b[2m\u001b[36m(pid=8298)\u001b[0m basinhopping step 10: f 9.43924e+08 trial_f 9.47598e+08 accepted 0  lowest_f 9.43924e+08\n",
      "\u001b[2m\u001b[36m(pid=8298)\u001b[0m basinhopping step 0: f 9.23933e+08\n",
      "\u001b[2m\u001b[36m(pid=8298)\u001b[0m basinhopping step 1: f 9.23933e+08 trial_f 9.23933e+08 accepted 1  lowest_f 9.23933e+08\n",
      "\u001b[2m\u001b[36m(pid=8298)\u001b[0m basinhopping step 2: f 9.23933e+08 trial_f 9.23933e+08 accepted 1  lowest_f 9.23933e+08\n"
     ]
    },
    {
     "name": "stderr",
     "output_type": "stream",
     "text": [
      "2020-10-22 11:26:12,194\tWARNING worker.py:1090 -- WARNING: 10 PYTHON workers have been started. This could be a result of using a large number of actors, or it could be a consequence of using nested tasks (see https://github.com/ray-project/ray/issues/3644) for some a discussion of workarounds.\n"
     ]
    },
    {
     "name": "stdout",
     "output_type": "stream",
     "text": [
      "\u001b[2m\u001b[36m(pid=8529)\u001b[0m basinhopping step 0: f 1.14447e+09\n",
      "\u001b[2m\u001b[36m(pid=8345)\u001b[0m warning: basinhopping: local minimization failure\n",
      "\u001b[2m\u001b[36m(pid=8345)\u001b[0m basinhopping step 10: f 2.11676e+09 trial_f 5.13677e+09 accepted 0  lowest_f 2.11676e+09\n",
      "\u001b[2m\u001b[36m(pid=8345)\u001b[0m basinhopping step 0: f 2.09585e+09\n",
      "\u001b[2m\u001b[36m(pid=8345)\u001b[0m basinhopping step 1: f 2.09585e+09 trial_f 2.10775e+09 accepted 0  lowest_f 2.09585e+09\n",
      "\u001b[2m\u001b[36m(pid=8345)\u001b[0m basinhopping step 2: f 2.09585e+09 trial_f 2.09821e+09 accepted 0  lowest_f 2.09585e+09\n"
     ]
    },
    {
     "name": "stderr",
     "output_type": "stream",
     "text": [
      "2020-10-22 11:26:24,393\tWARNING worker.py:1090 -- WARNING: 10 PYTHON workers have been started. This could be a result of using a large number of actors, or it could be a consequence of using nested tasks (see https://github.com/ray-project/ray/issues/3644) for some a discussion of workarounds.\n"
     ]
    },
    {
     "name": "stdout",
     "output_type": "stream",
     "text": [
      "\u001b[2m\u001b[36m(pid=8399)\u001b[0m basinhopping step 5: f 1.23742e+12 trial_f 1.59035e+15 accepted 0  lowest_f 1.23742e+12\n",
      "\u001b[2m\u001b[36m(pid=8583)\u001b[0m basinhopping step 0: f 8.00557e+09\n",
      "\u001b[2m\u001b[36m(pid=8414)\u001b[0m basinhopping step 6: f 3.2061e+11 trial_f 2.61784e+15 accepted 0  lowest_f 3.2061e+11\n",
      "\u001b[2m\u001b[36m(pid=8414)\u001b[0m warning: basinhopping: local minimization failure\n",
      "\u001b[2m\u001b[36m(pid=8414)\u001b[0m basinhopping step 7: f 3.2061e+11 trial_f 6.00788e+11 accepted 0  lowest_f 3.2061e+11\n",
      "\u001b[2m\u001b[36m(pid=8414)\u001b[0m warning: basinhopping: local minimization failure\n",
      "\u001b[2m\u001b[36m(pid=8414)\u001b[0m basinhopping step 8: f 3.2061e+11 trial_f 7.32865e+11 accepted 0  lowest_f 3.2061e+11\n",
      "\u001b[2m\u001b[36m(pid=8454)\u001b[0m basinhopping step 5: f 9.53399e+11 trial_f 3.22277e+15 accepted 0  lowest_f 9.53399e+11\n",
      "\u001b[2m\u001b[36m(pid=8454)\u001b[0m basinhopping step 6: f 9.53399e+11 trial_f 7.67066e+14 accepted 0  lowest_f 9.53399e+11\n",
      "\u001b[2m\u001b[36m(pid=8529)\u001b[0m basinhopping step 1: f 1.14447e+09 trial_f 1.16931e+09 accepted 0  lowest_f 1.14447e+09\n",
      "\u001b[2m\u001b[36m(pid=8529)\u001b[0m warning: basinhopping: local minimization failure\n",
      "\u001b[2m\u001b[36m(pid=8529)\u001b[0m basinhopping step 2: f 1.14447e+09 trial_f 2.00397e+09 accepted 0  lowest_f 1.14447e+09\n",
      "\u001b[2m\u001b[36m(pid=8414)\u001b[0m basinhopping step 9: f 3.2061e+11 trial_f 2.63113e+15 accepted 0  lowest_f 3.2061e+11\n",
      "\u001b[2m\u001b[36m(pid=8583)\u001b[0m basinhopping step 1: f 7.22834e+09 trial_f 7.22834e+09 accepted 1  lowest_f 7.22834e+09\n",
      "\u001b[2m\u001b[36m(pid=8583)\u001b[0m found new global minimum on step 1 with function value 7.22834e+09\n",
      "\u001b[2m\u001b[36m(pid=8454)\u001b[0m warning: basinhopping: local minimization failure\n",
      "\u001b[2m\u001b[36m(pid=8454)\u001b[0m basinhopping step 7: f 8.77299e+11 trial_f 8.77299e+11 accepted 1  lowest_f 8.77299e+11\n",
      "\u001b[2m\u001b[36m(pid=8454)\u001b[0m found new global minimum on step 7 with function value 8.77299e+11\n",
      "\u001b[2m\u001b[36m(pid=8583)\u001b[0m basinhopping step 2: f 5.36841e+09 trial_f 5.36841e+09 accepted 1  lowest_f 5.36841e+09\n",
      "\u001b[2m\u001b[36m(pid=8583)\u001b[0m found new global minimum on step 2 with function value 5.36841e+09\n",
      "\u001b[2m\u001b[36m(pid=8529)\u001b[0m basinhopping step 3: f 1.14447e+09 trial_f 2.00271e+09 accepted 0  lowest_f 1.14447e+09\n",
      "\u001b[2m\u001b[36m(pid=8583)\u001b[0m warning: basinhopping: local minimization failure\n",
      "\u001b[2m\u001b[36m(pid=8583)\u001b[0m basinhopping step 3: f 5.36841e+09 trial_f 2.20526e+12 accepted 0  lowest_f 5.36841e+09\n",
      "\u001b[2m\u001b[36m(pid=8399)\u001b[0m basinhopping step 6: f 3.36657e+11 trial_f 3.36657e+11 accepted 1  lowest_f 3.36657e+11\n",
      "\u001b[2m\u001b[36m(pid=8399)\u001b[0m found new global minimum on step 6 with function value 3.36657e+11\n",
      "\u001b[2m\u001b[36m(pid=8454)\u001b[0m basinhopping step 8: f 8.77299e+11 trial_f 1.36589e+16 accepted 0  lowest_f 8.77299e+11\n",
      "\u001b[2m\u001b[36m(pid=8529)\u001b[0m basinhopping step 4: f 1.14447e+09 trial_f 4.22846e+16 accepted 0  lowest_f 1.14447e+09\n",
      "\u001b[2m\u001b[36m(pid=8529)\u001b[0m warning: basinhopping: local minimization failure\n",
      "\u001b[2m\u001b[36m(pid=8529)\u001b[0m basinhopping step 5: f 1.14447e+09 trial_f 2.00643e+09 accepted 0  lowest_f 1.14447e+09\n",
      "\u001b[2m\u001b[36m(pid=8399)\u001b[0m basinhopping step 7: f 3.36657e+11 trial_f 1.23746e+12 accepted 0  lowest_f 3.36657e+11\n",
      "\u001b[2m\u001b[36m(pid=8454)\u001b[0m basinhopping step 9: f 8.77299e+11 trial_f 1.86862e+12 accepted 0  lowest_f 8.77299e+11\n",
      "\u001b[2m\u001b[36m(pid=8583)\u001b[0m basinhopping step 4: f 5.36841e+09 trial_f 6.87204e+09 accepted 0  lowest_f 5.36841e+09\n",
      "\u001b[2m\u001b[36m(pid=8454)\u001b[0m basinhopping step 10: f 8.77299e+11 trial_f 1.37084e+16 accepted 0  lowest_f 8.77299e+11\n",
      "\u001b[2m\u001b[36m(pid=8454)\u001b[0m basinhopping step 0: f 7.07207e+11\n",
      "\u001b[2m\u001b[36m(pid=8529)\u001b[0m basinhopping step 6: f 1.24345e+08 trial_f 1.24345e+08 accepted 1  lowest_f 1.24345e+08\n",
      "\u001b[2m\u001b[36m(pid=8529)\u001b[0m found new global minimum on step 6 with function value 1.24345e+08\n",
      "\u001b[2m\u001b[36m(pid=8454)\u001b[0m basinhopping step 1: f 7.07207e+11 trial_f 7.07207e+11 accepted 1  lowest_f 7.07207e+11\n",
      "\u001b[2m\u001b[36m(pid=8454)\u001b[0m basinhopping step 2: f 7.07207e+11 trial_f 7.07207e+11 accepted 1  lowest_f 7.07207e+11\n",
      "\u001b[2m\u001b[36m(pid=8454)\u001b[0m found new global minimum on step 2 with function value 7.07207e+11\n"
     ]
    },
    {
     "name": "stderr",
     "output_type": "stream",
     "text": [
      "2020-10-22 11:27:27,963\tWARNING worker.py:1090 -- WARNING: 10 PYTHON workers have been started. This could be a result of using a large number of actors, or it could be a consequence of using nested tasks (see https://github.com/ray-project/ray/issues/3644) for some a discussion of workarounds.\n"
     ]
    },
    {
     "name": "stdout",
     "output_type": "stream",
     "text": [
      "\u001b[2m\u001b[36m(pid=8414)\u001b[0m warning: basinhopping: local minimization failure\n",
      "\u001b[2m\u001b[36m(pid=8414)\u001b[0m basinhopping step 10: f 3.2061e+11 trial_f 4.32868e+11 accepted 0  lowest_f 3.2061e+11\n",
      "\u001b[2m\u001b[36m(pid=8414)\u001b[0m basinhopping step 0: f 7.32356e+11\n",
      "\u001b[2m\u001b[36m(pid=8414)\u001b[0m basinhopping step 1: f 7.32356e+11 trial_f 7.32356e+11 accepted 1  lowest_f 7.32356e+11\n",
      "\u001b[2m\u001b[36m(pid=8414)\u001b[0m basinhopping step 2: f 7.32356e+11 trial_f 7.32356e+11 accepted 1  lowest_f 7.32356e+11\n"
     ]
    },
    {
     "name": "stderr",
     "output_type": "stream",
     "text": [
      "2020-10-22 11:27:30,484\tWARNING worker.py:1090 -- WARNING: 10 PYTHON workers have been started. This could be a result of using a large number of actors, or it could be a consequence of using nested tasks (see https://github.com/ray-project/ray/issues/3644) for some a discussion of workarounds.\n"
     ]
    },
    {
     "name": "stdout",
     "output_type": "stream",
     "text": [
      "\u001b[2m\u001b[36m(pid=8583)\u001b[0m basinhopping step 5: f 5.36841e+09 trial_f 2.20492e+12 accepted 0  lowest_f 5.36841e+09\n",
      "\u001b[2m\u001b[36m(pid=8399)\u001b[0m basinhopping step 8: f 3.36657e+11 trial_f 1.23544e+12 accepted 0  lowest_f 3.36657e+11\n",
      "\u001b[2m\u001b[36m(pid=8583)\u001b[0m warning: basinhopping: local minimization failure\n",
      "\u001b[2m\u001b[36m(pid=8583)\u001b[0m basinhopping step 6: f 5.36841e+09 trial_f 7.31869e+13 accepted 0  lowest_f 5.36841e+09\n",
      "\u001b[2m\u001b[36m(pid=8399)\u001b[0m basinhopping step 9: f 3.36657e+11 trial_f 1.77041e+15 accepted 0  lowest_f 3.36657e+11\n",
      "\u001b[2m\u001b[36m(pid=8583)\u001b[0m warning: basinhopping: local minimization failure\n",
      "\u001b[2m\u001b[36m(pid=8583)\u001b[0m basinhopping step 7: f 5.36841e+09 trial_f 1.0654e+10 accepted 0  lowest_f 5.36841e+09\n",
      "\u001b[2m\u001b[36m(pid=8529)\u001b[0m warning: basinhopping: local minimization failure\n",
      "\u001b[2m\u001b[36m(pid=8529)\u001b[0m basinhopping step 7: f 1.24345e+08 trial_f 1.06377e+09 accepted 0  lowest_f 1.24345e+08\n",
      "\u001b[2m\u001b[36m(pid=8640)\u001b[0m warning: basinhopping: local minimization failure\n",
      "\u001b[2m\u001b[36m(pid=8640)\u001b[0m basinhopping step 0: f 4.62929e+14\n",
      "\u001b[2m\u001b[36m(pid=8627)\u001b[0m warning: basinhopping: local minimization failure\n",
      "\u001b[2m\u001b[36m(pid=8627)\u001b[0m basinhopping step 0: f 7.42011e+11\n",
      "\u001b[2m\u001b[36m(pid=8627)\u001b[0m warning: basinhopping: local minimization failure\n",
      "\u001b[2m\u001b[36m(pid=8627)\u001b[0m basinhopping step 1: f 7.14097e+11 trial_f 7.14097e+11 accepted 1  lowest_f 7.14097e+11\n",
      "\u001b[2m\u001b[36m(pid=8627)\u001b[0m found new global minimum on step 1 with function value 7.14097e+11\n",
      "\u001b[2m\u001b[36m(pid=8627)\u001b[0m warning: basinhopping: local minimization failure\n",
      "\u001b[2m\u001b[36m(pid=8627)\u001b[0m basinhopping step 2: f 7.14097e+11 trial_f 7.41994e+11 accepted 0  lowest_f 7.14097e+11\n",
      "\u001b[2m\u001b[36m(pid=8399)\u001b[0m basinhopping step 10: f 3.36657e+11 trial_f 1.79708e+15 accepted 0  lowest_f 3.36657e+11\n",
      "\u001b[2m\u001b[36m(pid=8399)\u001b[0m basinhopping step 0: f 3.29956e+11\n",
      "\u001b[2m\u001b[36m(pid=8399)\u001b[0m basinhopping step 1: f 3.29956e+11 trial_f 3.31762e+11 accepted 0  lowest_f 3.29956e+11\n",
      "\u001b[2m\u001b[36m(pid=8399)\u001b[0m basinhopping step 2: f 3.27306e+11 trial_f 3.27306e+11 accepted 1  lowest_f 3.27306e+11\n",
      "\u001b[2m\u001b[36m(pid=8399)\u001b[0m found new global minimum on step 2 with function value 3.27306e+11\n"
     ]
    },
    {
     "name": "stderr",
     "output_type": "stream",
     "text": [
      "2020-10-22 11:28:04,268\tWARNING worker.py:1090 -- WARNING: 10 PYTHON workers have been started. This could be a result of using a large number of actors, or it could be a consequence of using nested tasks (see https://github.com/ray-project/ray/issues/3644) for some a discussion of workarounds.\n"
     ]
    },
    {
     "name": "stdout",
     "output_type": "stream",
     "text": [
      "\u001b[2m\u001b[36m(pid=8583)\u001b[0m basinhopping step 8: f 5.36841e+09 trial_f 2.57035e+13 accepted 0  lowest_f 5.36841e+09\n",
      "\u001b[2m\u001b[36m(pid=8640)\u001b[0m warning: basinhopping: local minimization failure\n",
      "\u001b[2m\u001b[36m(pid=8640)\u001b[0m basinhopping step 1: f 5.29419e+11 trial_f 5.29419e+11 accepted 1  lowest_f 5.29419e+11\n",
      "\u001b[2m\u001b[36m(pid=8640)\u001b[0m found new global minimum on step 1 with function value 5.29419e+11\n",
      "\u001b[2m\u001b[36m(pid=8529)\u001b[0m warning: basinhopping: local minimization failure\n",
      "\u001b[2m\u001b[36m(pid=8529)\u001b[0m basinhopping step 8: f 1.24345e+08 trial_f 5.31332e+15 accepted 0  lowest_f 1.24345e+08\n",
      "\u001b[2m\u001b[36m(pid=8583)\u001b[0m basinhopping step 9: f 5.36841e+09 trial_f 3.39236e+13 accepted 0  lowest_f 5.36841e+09\n",
      "\u001b[2m\u001b[36m(pid=8640)\u001b[0m basinhopping step 2: f 5.29419e+11 trial_f 2.5556e+16 accepted 0  lowest_f 5.29419e+11\n",
      "\u001b[2m\u001b[36m(pid=8529)\u001b[0m basinhopping step 9: f 1.24345e+08 trial_f 5.33476e+15 accepted 0  lowest_f 1.24345e+08\n",
      "\u001b[2m\u001b[36m(pid=8640)\u001b[0m basinhopping step 3: f 5.29419e+11 trial_f 8.66841e+11 accepted 0  lowest_f 5.29419e+11\n",
      "\u001b[2m\u001b[36m(pid=8669)\u001b[0m basinhopping step 0: f 2.85178e+14\n",
      "\u001b[2m\u001b[36m(pid=8529)\u001b[0m basinhopping step 10: f 1.24345e+08 trial_f 4.24437e+16 accepted 0  lowest_f 1.24345e+08\n",
      "\u001b[2m\u001b[36m(pid=8529)\u001b[0m basinhopping step 0: f 1.23872e+08\n",
      "\u001b[2m\u001b[36m(pid=8529)\u001b[0m basinhopping step 1: f 1.23782e+08 trial_f 1.23782e+08 accepted 1  lowest_f 1.23782e+08\n",
      "\u001b[2m\u001b[36m(pid=8529)\u001b[0m found new global minimum on step 1 with function value 1.23782e+08\n",
      "\u001b[2m\u001b[36m(pid=8529)\u001b[0m basinhopping step 2: f 1.23782e+08 trial_f 1.23945e+08 accepted 0  lowest_f 1.23782e+08\n"
     ]
    },
    {
     "name": "stderr",
     "output_type": "stream",
     "text": [
      "2020-10-22 11:28:24,528\tWARNING worker.py:1090 -- WARNING: 10 PYTHON workers have been started. This could be a result of using a large number of actors, or it could be a consequence of using nested tasks (see https://github.com/ray-project/ray/issues/3644) for some a discussion of workarounds.\n"
     ]
    },
    {
     "name": "stdout",
     "output_type": "stream",
     "text": [
      "\u001b[2m\u001b[36m(pid=8640)\u001b[0m warning: basinhopping: local minimization failure\n",
      "\u001b[2m\u001b[36m(pid=8640)\u001b[0m basinhopping step 4: f 5.29419e+11 trial_f 9.0316e+11 accepted 0  lowest_f 5.29419e+11\n",
      "\u001b[2m\u001b[36m(pid=8627)\u001b[0m basinhopping step 3: f 7.14097e+11 trial_f 7.41039e+11 accepted 0  lowest_f 7.14097e+11\n",
      "\u001b[2m\u001b[36m(pid=8583)\u001b[0m basinhopping step 10: f 5.36841e+09 trial_f 2.01371e+13 accepted 0  lowest_f 5.36841e+09\n",
      "\u001b[2m\u001b[36m(pid=8583)\u001b[0m basinhopping step 0: f 5.25325e+09\n",
      "\u001b[2m\u001b[36m(pid=8710)\u001b[0m basinhopping step 0: f 1.69017e+16\n",
      "\u001b[2m\u001b[36m(pid=8583)\u001b[0m basinhopping step 1: f 5.23746e+09 trial_f 5.23746e+09 accepted 1  lowest_f 5.23746e+09\n",
      "\u001b[2m\u001b[36m(pid=8583)\u001b[0m found new global minimum on step 1 with function value 5.23746e+09\n",
      "\u001b[2m\u001b[36m(pid=8583)\u001b[0m basinhopping step 2: f 5.23746e+09 trial_f 5.248e+09 accepted 0  lowest_f 5.23746e+09\n"
     ]
    },
    {
     "name": "stderr",
     "output_type": "stream",
     "text": [
      "2020-10-22 11:28:36,401\tWARNING worker.py:1090 -- WARNING: 10 PYTHON workers have been started. This could be a result of using a large number of actors, or it could be a consequence of using nested tasks (see https://github.com/ray-project/ray/issues/3644) for some a discussion of workarounds.\n"
     ]
    },
    {
     "name": "stdout",
     "output_type": "stream",
     "text": [
      "\u001b[2m\u001b[36m(pid=8710)\u001b[0m warning: basinhopping: local minimization failure\n",
      "\u001b[2m\u001b[36m(pid=8710)\u001b[0m basinhopping step 1: f 1.54933e+09 trial_f 1.54933e+09 accepted 1  lowest_f 1.54933e+09\n",
      "\u001b[2m\u001b[36m(pid=8710)\u001b[0m found new global minimum on step 1 with function value 1.54933e+09\n",
      "\u001b[2m\u001b[36m(pid=8640)\u001b[0m basinhopping step 5: f 5.29419e+11 trial_f 1.15698e+16 accepted 0  lowest_f 5.29419e+11\n",
      "\u001b[2m\u001b[36m(pid=8669)\u001b[0m basinhopping step 1: f 2.85178e+14 trial_f 1.24094e+15 accepted 0  lowest_f 2.85178e+14\n",
      "\u001b[2m\u001b[36m(pid=8640)\u001b[0m warning: basinhopping: local minimization failure\n",
      "\u001b[2m\u001b[36m(pid=8640)\u001b[0m basinhopping step 6: f 5.29419e+11 trial_f 9.03232e+11 accepted 0  lowest_f 5.29419e+11\n",
      "\u001b[2m\u001b[36m(pid=8750)\u001b[0m basinhopping step 0: f 1.65828e+13\n",
      "\u001b[2m\u001b[36m(pid=8669)\u001b[0m warning: basinhopping: local minimization failure\n",
      "\u001b[2m\u001b[36m(pid=8669)\u001b[0m basinhopping step 2: f 8.50265e+11 trial_f 8.50265e+11 accepted 1  lowest_f 8.50265e+11\n",
      "\u001b[2m\u001b[36m(pid=8669)\u001b[0m found new global minimum on step 2 with function value 8.50265e+11\n",
      "\u001b[2m\u001b[36m(pid=8669)\u001b[0m warning: basinhopping: local minimization failure\n",
      "\u001b[2m\u001b[36m(pid=8669)\u001b[0m basinhopping step 3: f 8.50265e+11 trial_f 9.8626e+11 accepted 0  lowest_f 8.50265e+11\n",
      "\u001b[2m\u001b[36m(pid=8750)\u001b[0m basinhopping step 1: f 7.88088e+09 trial_f 7.88088e+09 accepted 1  lowest_f 7.88088e+09\n",
      "\u001b[2m\u001b[36m(pid=8750)\u001b[0m found new global minimum on step 1 with function value 7.88088e+09\n",
      "\u001b[2m\u001b[36m(pid=8640)\u001b[0m basinhopping step 7: f 5.29419e+11 trial_f 5.63836e+15 accepted 0  lowest_f 5.29419e+11\n",
      "\u001b[2m\u001b[36m(pid=8710)\u001b[0m basinhopping step 2: f 1.54933e+09 trial_f 7.03967e+16 accepted 0  lowest_f 1.54933e+09\n",
      "\u001b[2m\u001b[36m(pid=8640)\u001b[0m warning: basinhopping: local minimization failure\n",
      "\u001b[2m\u001b[36m(pid=8640)\u001b[0m basinhopping step 8: f 5.29419e+11 trial_f 8.74252e+14 accepted 0  lowest_f 5.29419e+11\n",
      "\u001b[2m\u001b[36m(pid=8710)\u001b[0m basinhopping step 3: f 1.54933e+09 trial_f 6.161e+16 accepted 0  lowest_f 1.54933e+09\n",
      "\u001b[2m\u001b[36m(pid=8627)\u001b[0m warning: basinhopping: local minimization failure\n",
      "\u001b[2m\u001b[36m(pid=8627)\u001b[0m basinhopping step 4: f 9.03413e+10 trial_f 9.03413e+10 accepted 1  lowest_f 9.03413e+10\n",
      "\u001b[2m\u001b[36m(pid=8627)\u001b[0m found new global minimum on step 4 with function value 9.03413e+10\n",
      "\u001b[2m\u001b[36m(pid=8640)\u001b[0m basinhopping step 9: f 5.29419e+11 trial_f 6.95072e+15 accepted 0  lowest_f 5.29419e+11\n",
      "\u001b[2m\u001b[36m(pid=8710)\u001b[0m basinhopping step 4: f 1.54932e+09 trial_f 1.54932e+09 accepted 1  lowest_f 1.54932e+09\n",
      "\u001b[2m\u001b[36m(pid=8710)\u001b[0m found new global minimum on step 4 with function value 1.54932e+09\n",
      "\u001b[2m\u001b[36m(pid=8640)\u001b[0m basinhopping step 10: f 5.29419e+11 trial_f 5.54722e+15 accepted 0  lowest_f 5.29419e+11\n",
      "\u001b[2m\u001b[36m(pid=8640)\u001b[0m basinhopping step 0: f 2.96973e+11\n",
      "\u001b[2m\u001b[36m(pid=8640)\u001b[0m basinhopping step 1: f 2.96973e+11 trial_f 2.96973e+11 accepted 1  lowest_f 2.96973e+11\n",
      "\u001b[2m\u001b[36m(pid=8640)\u001b[0m basinhopping step 2: f 2.96973e+11 trial_f 2.96973e+11 accepted 1  lowest_f 2.96973e+11\n"
     ]
    },
    {
     "name": "stderr",
     "output_type": "stream",
     "text": [
      "2020-10-22 11:29:19,911\tWARNING worker.py:1090 -- WARNING: 10 PYTHON workers have been started. This could be a result of using a large number of actors, or it could be a consequence of using nested tasks (see https://github.com/ray-project/ray/issues/3644) for some a discussion of workarounds.\n"
     ]
    },
    {
     "name": "stdout",
     "output_type": "stream",
     "text": [
      "\u001b[2m\u001b[36m(pid=8750)\u001b[0m warning: basinhopping: local minimization failure\n",
      "\u001b[2m\u001b[36m(pid=8750)\u001b[0m basinhopping step 2: f 7.88088e+09 trial_f 2.05454e+12 accepted 0  lowest_f 7.88088e+09\n",
      "\u001b[2m\u001b[36m(pid=8792)\u001b[0m basinhopping step 0: f 7.70071e+11\n",
      "\u001b[2m\u001b[36m(pid=8792)\u001b[0m basinhopping step 1: f 7.70071e+11 trial_f 7.7322e+11 accepted 0  lowest_f 7.70071e+11\n",
      "\u001b[2m\u001b[36m(pid=8627)\u001b[0m basinhopping step 5: f 9.03413e+10 trial_f 2.68426e+15 accepted 0  lowest_f 9.03413e+10\n",
      "\u001b[2m\u001b[36m(pid=8750)\u001b[0m basinhopping step 3: f 7.88088e+09 trial_f 1.00006e+10 accepted 0  lowest_f 7.88088e+09\n",
      "\u001b[2m\u001b[36m(pid=8750)\u001b[0m basinhopping step 4: f 7.88088e+09 trial_f 2.1367e+14 accepted 0  lowest_f 7.88088e+09\n",
      "\u001b[2m\u001b[36m(pid=8669)\u001b[0m basinhopping step 4: f 8.50265e+11 trial_f 9.82371e+11 accepted 0  lowest_f 8.50265e+11\n",
      "\u001b[2m\u001b[36m(pid=8792)\u001b[0m basinhopping step 2: f 7.70071e+11 trial_f 3.7993e+15 accepted 0  lowest_f 7.70071e+11\n",
      "\u001b[2m\u001b[36m(pid=8750)\u001b[0m basinhopping step 5: f 7.88088e+09 trial_f 9.99083e+09 accepted 0  lowest_f 7.88088e+09\n",
      "\u001b[2m\u001b[36m(pid=8750)\u001b[0m basinhopping step 6: f 7.88088e+09 trial_f 1.91844e+14 accepted 0  lowest_f 7.88088e+09\n",
      "\u001b[2m\u001b[36m(pid=8627)\u001b[0m warning: basinhopping: local minimization failure\n",
      "\u001b[2m\u001b[36m(pid=8627)\u001b[0m basinhopping step 6: f 9.03413e+10 trial_f 7.4092e+11 accepted 0  lowest_f 9.03413e+10\n",
      "\u001b[2m\u001b[36m(pid=8627)\u001b[0m warning: basinhopping: local minimization failure\n",
      "\u001b[2m\u001b[36m(pid=8627)\u001b[0m basinhopping step 7: f 9.03413e+10 trial_f 7.42059e+11 accepted 0  lowest_f 9.03413e+10\n",
      "\u001b[2m\u001b[36m(pid=8669)\u001b[0m warning: basinhopping: local minimization failure\n",
      "\u001b[2m\u001b[36m(pid=8669)\u001b[0m basinhopping step 5: f 8.50265e+11 trial_f 9.86341e+11 accepted 0  lowest_f 8.50265e+11\n",
      "\u001b[2m\u001b[36m(pid=8792)\u001b[0m warning: basinhopping: local minimization failure\n",
      "\u001b[2m\u001b[36m(pid=8792)\u001b[0m basinhopping step 3: f 7.70071e+11 trial_f 8.48771e+11 accepted 0  lowest_f 7.70071e+11\n",
      "\u001b[2m\u001b[36m(pid=8669)\u001b[0m basinhopping step 6: f 8.50265e+11 trial_f 1.54094e+15 accepted 0  lowest_f 8.50265e+11\n",
      "\u001b[2m\u001b[36m(pid=8710)\u001b[0m basinhopping step 5: f 1.54932e+09 trial_f 6.12898e+16 accepted 0  lowest_f 1.54932e+09\n",
      "\u001b[2m\u001b[36m(pid=8750)\u001b[0m basinhopping step 7: f 6.63155e+09 trial_f 6.63155e+09 accepted 1  lowest_f 6.63155e+09\n",
      "\u001b[2m\u001b[36m(pid=8750)\u001b[0m found new global minimum on step 7 with function value 6.63155e+09\n",
      "\u001b[2m\u001b[36m(pid=8669)\u001b[0m warning: basinhopping: local minimization failure\n",
      "\u001b[2m\u001b[36m(pid=8669)\u001b[0m basinhopping step 7: f 8.50265e+11 trial_f 9.83531e+11 accepted 0  lowest_f 8.50265e+11\n",
      "\u001b[2m\u001b[36m(pid=8792)\u001b[0m basinhopping step 4: f 7.70071e+11 trial_f 3.13676e+14 accepted 0  lowest_f 7.70071e+11\n",
      "\u001b[2m\u001b[36m(pid=8627)\u001b[0m warning: basinhopping: local minimization failure\n",
      "\u001b[2m\u001b[36m(pid=8627)\u001b[0m basinhopping step 8: f 9.03413e+10 trial_f 7.41983e+11 accepted 0  lowest_f 9.03413e+10\n",
      "\u001b[2m\u001b[36m(pid=8750)\u001b[0m basinhopping step 8: f 6.63155e+09 trial_f 8.27757e+09 accepted 0  lowest_f 6.63155e+09\n",
      "\u001b[2m\u001b[36m(pid=8669)\u001b[0m basinhopping step 8: f 8.50265e+11 trial_f 1.54875e+15 accepted 0  lowest_f 8.50265e+11\n",
      "\u001b[2m\u001b[36m(pid=8792)\u001b[0m warning: basinhopping: local minimization failure\n",
      "\u001b[2m\u001b[36m(pid=8792)\u001b[0m basinhopping step 5: f 7.70071e+11 trial_f 7.73577e+11 accepted 0  lowest_f 7.70071e+11\n",
      "\u001b[2m\u001b[36m(pid=8669)\u001b[0m basinhopping step 9: f 4.98402e+11 trial_f 4.98402e+11 accepted 1  lowest_f 4.98402e+11\n",
      "\u001b[2m\u001b[36m(pid=8669)\u001b[0m found new global minimum on step 9 with function value 4.98402e+11\n",
      "\u001b[2m\u001b[36m(pid=8669)\u001b[0m basinhopping step 10: f 4.51823e+11 trial_f 4.51823e+11 accepted 1  lowest_f 4.51823e+11\n",
      "\u001b[2m\u001b[36m(pid=8669)\u001b[0m found new global minimum on step 10 with function value 4.51823e+11\n",
      "\u001b[2m\u001b[36m(pid=8669)\u001b[0m basinhopping step 0: f 2.25856e+11\n",
      "\u001b[2m\u001b[36m(pid=8669)\u001b[0m basinhopping step 1: f 2.25856e+11 trial_f 2.25856e+11 accepted 1  lowest_f 2.25856e+11\n",
      "\u001b[2m\u001b[36m(pid=8669)\u001b[0m basinhopping step 2: f 2.25856e+11 trial_f 2.25856e+11 accepted 1  lowest_f 2.25856e+11\n"
     ]
    },
    {
     "name": "stderr",
     "output_type": "stream",
     "text": [
      "2020-10-22 11:30:33,526\tWARNING worker.py:1090 -- WARNING: 10 PYTHON workers have been started. This could be a result of using a large number of actors, or it could be a consequence of using nested tasks (see https://github.com/ray-project/ray/issues/3644) for some a discussion of workarounds.\n"
     ]
    },
    {
     "name": "stdout",
     "output_type": "stream",
     "text": [
      "\u001b[2m\u001b[36m(pid=8750)\u001b[0m warning: basinhopping: local minimization failure\n",
      "\u001b[2m\u001b[36m(pid=8750)\u001b[0m basinhopping step 9: f 6.63155e+09 trial_f 8.21724e+09 accepted 0  lowest_f 6.63155e+09\n",
      "\u001b[2m\u001b[36m(pid=8792)\u001b[0m basinhopping step 6: f 7.70071e+11 trial_f 3.50033e+15 accepted 0  lowest_f 7.70071e+11\n",
      "\u001b[2m\u001b[36m(pid=8792)\u001b[0m basinhopping step 7: f 7.70056e+11 trial_f 7.70056e+11 accepted 1  lowest_f 7.70056e+11\n",
      "\u001b[2m\u001b[36m(pid=8792)\u001b[0m found new global minimum on step 7 with function value 7.70056e+11\n",
      "\u001b[2m\u001b[36m(pid=8750)\u001b[0m basinhopping step 10: f 6.63155e+09 trial_f 2.73504e+14 accepted 0  lowest_f 6.63155e+09\n",
      "\u001b[2m\u001b[36m(pid=8627)\u001b[0m basinhopping step 9: f 9.03413e+10 trial_f 7.41039e+11 accepted 0  lowest_f 9.03413e+10\n",
      "\u001b[2m\u001b[36m(pid=8750)\u001b[0m basinhopping step 0: f 5.08575e+09\n",
      "\u001b[2m\u001b[36m(pid=8627)\u001b[0m basinhopping step 10: f 9.03413e+10 trial_f 7.42027e+11 accepted 0  lowest_f 9.03413e+10\n",
      "\u001b[2m\u001b[36m(pid=8750)\u001b[0m basinhopping step 1: f 5.08575e+09 trial_f 5.08575e+09 accepted 1  lowest_f 5.08575e+09\n",
      "\u001b[2m\u001b[36m(pid=8627)\u001b[0m basinhopping step 0: f 7.46106e+10\n",
      "\u001b[2m\u001b[36m(pid=8627)\u001b[0m basinhopping step 1: f 6.0974e+10 trial_f 6.0974e+10 accepted 1  lowest_f 6.0974e+10\n",
      "\u001b[2m\u001b[36m(pid=8627)\u001b[0m found new global minimum on step 1 with function value 6.0974e+10\n",
      "\u001b[2m\u001b[36m(pid=8750)\u001b[0m basinhopping step 2: f 5.08575e+09 trial_f 5.30477e+09 accepted 0  lowest_f 5.08575e+09\n",
      "\u001b[2m\u001b[36m(pid=8627)\u001b[0m basinhopping step 2: f 5.66386e+10 trial_f 5.66386e+10 accepted 1  lowest_f 5.66386e+10\n",
      "\u001b[2m\u001b[36m(pid=8627)\u001b[0m found new global minimum on step 2 with function value 5.66386e+10\n"
     ]
    },
    {
     "name": "stderr",
     "output_type": "stream",
     "text": [
      "2020-10-22 11:30:52,930\tWARNING worker.py:1090 -- WARNING: 10 PYTHON workers have been started. This could be a result of using a large number of actors, or it could be a consequence of using nested tasks (see https://github.com/ray-project/ray/issues/3644) for some a discussion of workarounds.\n",
      "2020-10-22 11:30:53,366\tWARNING worker.py:1090 -- WARNING: 10 PYTHON workers have been started. This could be a result of using a large number of actors, or it could be a consequence of using nested tasks (see https://github.com/ray-project/ray/issues/3644) for some a discussion of workarounds.\n"
     ]
    },
    {
     "name": "stdout",
     "output_type": "stream",
     "text": [
      "\u001b[2m\u001b[36m(pid=8792)\u001b[0m basinhopping step 8: f 7.70056e+11 trial_f 1.35734e+15 accepted 0  lowest_f 7.70056e+11\n",
      "\u001b[2m\u001b[36m(pid=8710)\u001b[0m warning: basinhopping: local minimization failure\n",
      "\u001b[2m\u001b[36m(pid=8710)\u001b[0m basinhopping step 6: f 1.54932e+09 trial_f 1.54933e+09 accepted 0  lowest_f 1.54932e+09\n",
      "\u001b[2m\u001b[36m(pid=8970)\u001b[0m basinhopping step 0: f 2.70023e+15\n",
      "\u001b[2m\u001b[36m(pid=8978)\u001b[0m basinhopping step 0: f 6.91278e+09\n",
      "\u001b[2m\u001b[36m(pid=8881)\u001b[0m warning: basinhopping: local minimization failure\n",
      "\u001b[2m\u001b[36m(pid=8881)\u001b[0m basinhopping step 0: f 5.27394e+11\n",
      "\u001b[2m\u001b[36m(pid=8978)\u001b[0m warning: basinhopping: local minimization failure\n",
      "\u001b[2m\u001b[36m(pid=8978)\u001b[0m basinhopping step 1: f 5.88056e+09 trial_f 5.88056e+09 accepted 1  lowest_f 5.88056e+09\n",
      "\u001b[2m\u001b[36m(pid=8978)\u001b[0m found new global minimum on step 1 with function value 5.88056e+09\n",
      "\u001b[2m\u001b[36m(pid=8970)\u001b[0m basinhopping step 1: f 2.70023e+15 trial_f 2.70023e+15 accepted 1  lowest_f 2.70023e+15\n",
      "\u001b[2m\u001b[36m(pid=8970)\u001b[0m found new global minimum on step 1 with function value 2.70023e+15\n",
      "\u001b[2m\u001b[36m(pid=8792)\u001b[0m warning: basinhopping: local minimization failure\n",
      "\u001b[2m\u001b[36m(pid=8792)\u001b[0m basinhopping step 9: f 2.49381e+11 trial_f 2.49381e+11 accepted 1  lowest_f 2.49381e+11\n",
      "\u001b[2m\u001b[36m(pid=8792)\u001b[0m found new global minimum on step 9 with function value 2.49381e+11\n",
      "\u001b[2m\u001b[36m(pid=8710)\u001b[0m basinhopping step 7: f 1.54932e+09 trial_f 6.1516e+16 accepted 0  lowest_f 1.54932e+09\n",
      "\u001b[2m\u001b[36m(pid=8881)\u001b[0m basinhopping step 1: f 5.27394e+11 trial_f 6.82558e+14 accepted 0  lowest_f 5.27394e+11\n",
      "\u001b[2m\u001b[36m(pid=8710)\u001b[0m warning: basinhopping: local minimization failure\n",
      "\u001b[2m\u001b[36m(pid=8710)\u001b[0m basinhopping step 8: f 1.54932e+09 trial_f 1.54946e+09 accepted 0  lowest_f 1.54932e+09\n",
      "\u001b[2m\u001b[36m(pid=8978)\u001b[0m basinhopping step 2: f 5.6812e+09 trial_f 5.6812e+09 accepted 1  lowest_f 5.6812e+09\n",
      "\u001b[2m\u001b[36m(pid=8978)\u001b[0m found new global minimum on step 2 with function value 5.6812e+09\n",
      "\u001b[2m\u001b[36m(pid=8792)\u001b[0m basinhopping step 10: f 2.49381e+11 trial_f 1.36164e+15 accepted 0  lowest_f 2.49381e+11\n",
      "\u001b[2m\u001b[36m(pid=8792)\u001b[0m basinhopping step 0: f 2.47723e+11\n",
      "\u001b[2m\u001b[36m(pid=8970)\u001b[0m basinhopping step 2: f 2.70023e+15 trial_f 2.70023e+15 accepted 1  lowest_f 2.70023e+15\n",
      "\u001b[2m\u001b[36m(pid=8792)\u001b[0m basinhopping step 1: f 2.47723e+11 trial_f 2.49195e+11 accepted 0  lowest_f 2.47723e+11\n",
      "\u001b[2m\u001b[36m(pid=8792)\u001b[0m basinhopping step 2: f 2.47723e+11 trial_f 2.48101e+11 accepted 0  lowest_f 2.47723e+11\n"
     ]
    },
    {
     "name": "stderr",
     "output_type": "stream",
     "text": [
      "2020-10-22 11:31:36,772\tWARNING worker.py:1090 -- WARNING: 10 PYTHON workers have been started. This could be a result of using a large number of actors, or it could be a consequence of using nested tasks (see https://github.com/ray-project/ray/issues/3644) for some a discussion of workarounds.\n"
     ]
    },
    {
     "name": "stdout",
     "output_type": "stream",
     "text": [
      "\u001b[2m\u001b[36m(pid=8881)\u001b[0m basinhopping step 2: f 5.27394e+11 trial_f 1.59149e+14 accepted 0  lowest_f 5.27394e+11\n",
      "\u001b[2m\u001b[36m(pid=8881)\u001b[0m basinhopping step 3: f 4.42525e+11 trial_f 4.42525e+11 accepted 1  lowest_f 4.42525e+11\n",
      "\u001b[2m\u001b[36m(pid=8881)\u001b[0m found new global minimum on step 3 with function value 4.42525e+11\n",
      "\u001b[2m\u001b[36m(pid=8710)\u001b[0m warning: basinhopping: local minimization failure\n",
      "\u001b[2m\u001b[36m(pid=8710)\u001b[0m basinhopping step 9: f 1.54932e+09 trial_f 1.54933e+09 accepted 0  lowest_f 1.54932e+09\n",
      "\u001b[2m\u001b[36m(pid=8881)\u001b[0m basinhopping step 4: f 4.42525e+11 trial_f 5.40859e+13 accepted 0  lowest_f 4.42525e+11\n",
      "\u001b[2m\u001b[36m(pid=9038)\u001b[0m basinhopping step 0: f 3.64416e+14\n",
      "\u001b[2m\u001b[36m(pid=8970)\u001b[0m warning: basinhopping: local minimization failure\n",
      "\u001b[2m\u001b[36m(pid=8970)\u001b[0m basinhopping step 3: f 2.52899e+12 trial_f 2.52899e+12 accepted 1  lowest_f 2.52899e+12\n",
      "\u001b[2m\u001b[36m(pid=8970)\u001b[0m found new global minimum on step 3 with function value 2.52899e+12\n",
      "\u001b[2m\u001b[36m(pid=9038)\u001b[0m warning: basinhopping: local minimization failure\n",
      "\u001b[2m\u001b[36m(pid=9038)\u001b[0m basinhopping step 1: f 6.78551e+11 trial_f 6.78551e+11 accepted 1  lowest_f 6.78551e+11\n",
      "\u001b[2m\u001b[36m(pid=9038)\u001b[0m found new global minimum on step 1 with function value 6.78551e+11\n",
      "\u001b[2m\u001b[36m(pid=8978)\u001b[0m basinhopping step 3: f 5.6812e+09 trial_f 2.82776e+11 accepted 0  lowest_f 5.6812e+09\n",
      "\u001b[2m\u001b[36m(pid=8978)\u001b[0m basinhopping step 4: f 5.376e+09 trial_f 5.376e+09 accepted 1  lowest_f 5.376e+09\n",
      "\u001b[2m\u001b[36m(pid=8978)\u001b[0m found new global minimum on step 4 with function value 5.376e+09\n",
      "\u001b[2m\u001b[36m(pid=8970)\u001b[0m basinhopping step 4: f 2.52899e+12 trial_f 8.89768e+16 accepted 0  lowest_f 2.52899e+12\n",
      "\u001b[2m\u001b[36m(pid=8881)\u001b[0m warning: basinhopping: local minimization failure\n",
      "\u001b[2m\u001b[36m(pid=8881)\u001b[0m basinhopping step 5: f 4.42525e+11 trial_f 1.15198e+12 accepted 0  lowest_f 4.42525e+11\n",
      "\u001b[2m\u001b[36m(pid=8710)\u001b[0m basinhopping step 10: f 1.54932e+09 trial_f 7.03042e+16 accepted 0  lowest_f 1.54932e+09\n",
      "\u001b[2m\u001b[36m(pid=8710)\u001b[0m basinhopping step 0: f 1.51825e+09\n",
      "\u001b[2m\u001b[36m(pid=8710)\u001b[0m basinhopping step 1: f 1.51825e+09 trial_f 1.51825e+09 accepted 1  lowest_f 1.51825e+09\n",
      "\u001b[2m\u001b[36m(pid=8710)\u001b[0m basinhopping step 2: f 1.51825e+09 trial_f 1.51825e+09 accepted 1  lowest_f 1.51825e+09\n"
     ]
    },
    {
     "name": "stderr",
     "output_type": "stream",
     "text": [
      "2020-10-22 11:32:23,803\tWARNING worker.py:1090 -- WARNING: 10 PYTHON workers have been started. This could be a result of using a large number of actors, or it could be a consequence of using nested tasks (see https://github.com/ray-project/ray/issues/3644) for some a discussion of workarounds.\n"
     ]
    },
    {
     "name": "stdout",
     "output_type": "stream",
     "text": [
      "\u001b[2m\u001b[36m(pid=9038)\u001b[0m warning: basinhopping: local minimization failure\n",
      "\u001b[2m\u001b[36m(pid=9038)\u001b[0m basinhopping step 2: f 1.959e+11 trial_f 1.959e+11 accepted 1  lowest_f 1.959e+11\n",
      "\u001b[2m\u001b[36m(pid=9038)\u001b[0m found new global minimum on step 2 with function value 1.959e+11\n",
      "\u001b[2m\u001b[36m(pid=8970)\u001b[0m basinhopping step 5: f 2.52837e+12 trial_f 2.52837e+12 accepted 1  lowest_f 2.52837e+12\n",
      "\u001b[2m\u001b[36m(pid=8970)\u001b[0m found new global minimum on step 5 with function value 2.52837e+12\n",
      "\u001b[2m\u001b[36m(pid=9038)\u001b[0m warning: basinhopping: local minimization failure\n",
      "\u001b[2m\u001b[36m(pid=9038)\u001b[0m basinhopping step 3: f 1.959e+11 trial_f 8.53501e+11 accepted 0  lowest_f 1.959e+11\n",
      "\u001b[2m\u001b[36m(pid=8881)\u001b[0m warning: basinhopping: local minimization failure\n",
      "\u001b[2m\u001b[36m(pid=8881)\u001b[0m basinhopping step 6: f 3.64562e+11 trial_f 3.64562e+11 accepted 1  lowest_f 3.64562e+11\n",
      "\u001b[2m\u001b[36m(pid=8881)\u001b[0m found new global minimum on step 6 with function value 3.64562e+11\n",
      "\u001b[2m\u001b[36m(pid=9038)\u001b[0m warning: basinhopping: local minimization failure\n",
      "\u001b[2m\u001b[36m(pid=9038)\u001b[0m basinhopping step 4: f 1.959e+11 trial_f 8.53501e+11 accepted 0  lowest_f 1.959e+11\n",
      "\u001b[2m\u001b[36m(pid=9038)\u001b[0m basinhopping step 5: f 1.959e+11 trial_f 8.50679e+11 accepted 0  lowest_f 1.959e+11\n",
      "\u001b[2m\u001b[36m(pid=8978)\u001b[0m basinhopping step 5: f 5.376e+09 trial_f 2.83273e+11 accepted 0  lowest_f 5.376e+09\n",
      "\u001b[2m\u001b[36m(pid=9093)\u001b[0m basinhopping step 0: f 9.96986e+08\n",
      "\u001b[2m\u001b[36m(pid=8881)\u001b[0m basinhopping step 7: f 3.64562e+11 trial_f 1.84322e+15 accepted 0  lowest_f 3.64562e+11\n",
      "\u001b[2m\u001b[36m(pid=9093)\u001b[0m basinhopping step 1: f 8.57032e+08 trial_f 8.57032e+08 accepted 1  lowest_f 8.57032e+08\n",
      "\u001b[2m\u001b[36m(pid=9093)\u001b[0m found new global minimum on step 1 with function value 8.57032e+08\n",
      "\u001b[2m\u001b[36m(pid=8970)\u001b[0m basinhopping step 6: f 2.52837e+12 trial_f 2.52866e+12 accepted 0  lowest_f 2.52837e+12\n",
      "\u001b[2m\u001b[36m(pid=9038)\u001b[0m basinhopping step 6: f 1.959e+11 trial_f 2.08087e+11 accepted 0  lowest_f 1.959e+11\n",
      "\u001b[2m\u001b[36m(pid=9038)\u001b[0m basinhopping step 7: f 1.959e+11 trial_f 5.2899e+15 accepted 0  lowest_f 1.959e+11\n",
      "\u001b[2m\u001b[36m(pid=8970)\u001b[0m basinhopping step 7: f 2.52837e+12 trial_f 2.52837e+12 accepted 1  lowest_f 2.52837e+12\n",
      "\u001b[2m\u001b[36m(pid=8978)\u001b[0m basinhopping step 6: f 5.376e+09 trial_f 1.02636e+13 accepted 0  lowest_f 5.376e+09\n",
      "\u001b[2m\u001b[36m(pid=9093)\u001b[0m basinhopping step 2: f 8.57032e+08 trial_f 1.07331e+17 accepted 0  lowest_f 8.57032e+08\n",
      "\u001b[2m\u001b[36m(pid=8881)\u001b[0m warning: basinhopping: local minimization failure\n",
      "\u001b[2m\u001b[36m(pid=8881)\u001b[0m basinhopping step 8: f 3.22418e+11 trial_f 3.22418e+11 accepted 1  lowest_f 3.22418e+11\n",
      "\u001b[2m\u001b[36m(pid=8881)\u001b[0m found new global minimum on step 8 with function value 3.22418e+11\n",
      "\u001b[2m\u001b[36m(pid=9038)\u001b[0m basinhopping step 8: f 1.959e+11 trial_f 4.28013e+15 accepted 0  lowest_f 1.959e+11\n",
      "\u001b[2m\u001b[36m(pid=9038)\u001b[0m basinhopping step 9: f 1.959e+11 trial_f 8.44841e+11 accepted 0  lowest_f 1.959e+11\n",
      "\u001b[2m\u001b[36m(pid=8978)\u001b[0m basinhopping step 7: f 5.376e+09 trial_f 1.01596e+10 accepted 0  lowest_f 5.376e+09\n",
      "\u001b[2m\u001b[36m(pid=9038)\u001b[0m basinhopping step 10: f 1.959e+11 trial_f 4.20472e+15 accepted 0  lowest_f 1.959e+11\n",
      "\u001b[2m\u001b[36m(pid=9038)\u001b[0m basinhopping step 0: f 1.90085e+11\n",
      "\u001b[2m\u001b[36m(pid=8970)\u001b[0m basinhopping step 8: f 2.52837e+12 trial_f 5.23071e+15 accepted 0  lowest_f 2.52837e+12\n",
      "\u001b[2m\u001b[36m(pid=9038)\u001b[0m basinhopping step 1: f 1.90085e+11 trial_f 1.90386e+11 accepted 0  lowest_f 1.90085e+11\n",
      "\u001b[2m\u001b[36m(pid=9038)\u001b[0m basinhopping step 2: f 1.90083e+11 trial_f 1.90083e+11 accepted 1  lowest_f 1.90083e+11\n",
      "\u001b[2m\u001b[36m(pid=9038)\u001b[0m found new global minimum on step 2 with function value 1.90083e+11\n"
     ]
    },
    {
     "name": "stderr",
     "output_type": "stream",
     "text": [
      "2020-10-22 11:33:43,926\tWARNING worker.py:1090 -- WARNING: 10 PYTHON workers have been started. This could be a result of using a large number of actors, or it could be a consequence of using nested tasks (see https://github.com/ray-project/ray/issues/3644) for some a discussion of workarounds.\n"
     ]
    },
    {
     "name": "stdout",
     "output_type": "stream",
     "text": [
      "\u001b[2m\u001b[36m(pid=8881)\u001b[0m basinhopping step 9: f 3.22418e+11 trial_f 8.54051e+14 accepted 0  lowest_f 3.22418e+11\n",
      "\u001b[2m\u001b[36m(pid=9166)\u001b[0m basinhopping step 0: f 2.119e+11\n",
      "\u001b[2m\u001b[36m(pid=8970)\u001b[0m basinhopping step 9: f 2.52837e+12 trial_f 2.52837e+12 accepted 1  lowest_f 2.52837e+12\n",
      "\u001b[2m\u001b[36m(pid=8881)\u001b[0m basinhopping step 10: f 3.22418e+11 trial_f 2.82933e+14 accepted 0  lowest_f 3.22418e+11\n",
      "\u001b[2m\u001b[36m(pid=9093)\u001b[0m warning: basinhopping: local minimization failure\n",
      "\u001b[2m\u001b[36m(pid=9093)\u001b[0m basinhopping step 3: f 8.57032e+08 trial_f 1.34184e+16 accepted 0  lowest_f 8.57032e+08\n",
      "\u001b[2m\u001b[36m(pid=8881)\u001b[0m basinhopping step 0: f 3.21971e+11\n",
      "\u001b[2m\u001b[36m(pid=8881)\u001b[0m basinhopping step 1: f 3.21971e+11 trial_f 3.22666e+11 accepted 0  lowest_f 3.21971e+11\n",
      "\u001b[2m\u001b[36m(pid=8881)\u001b[0m basinhopping step 2: f 3.21971e+11 trial_f 3.22048e+11 accepted 0  lowest_f 3.21971e+11\n"
     ]
    },
    {
     "name": "stderr",
     "output_type": "stream",
     "text": [
      "2020-10-22 11:34:05,683\tWARNING worker.py:1090 -- WARNING: 10 PYTHON workers have been started. This could be a result of using a large number of actors, or it could be a consequence of using nested tasks (see https://github.com/ray-project/ray/issues/3644) for some a discussion of workarounds.\n"
     ]
    },
    {
     "name": "stdout",
     "output_type": "stream",
     "text": [
      "\u001b[2m\u001b[36m(pid=9093)\u001b[0m basinhopping step 4: f 8.57032e+08 trial_f 9.75427e+08 accepted 0  lowest_f 8.57032e+08\n",
      "\u001b[2m\u001b[36m(pid=9166)\u001b[0m basinhopping step 1: f 2.119e+11 trial_f 8.90734e+12 accepted 0  lowest_f 2.119e+11\n",
      "\u001b[2m\u001b[36m(pid=9193)\u001b[0m basinhopping step 0: f 6.5714e+13\n",
      "\u001b[2m\u001b[36m(pid=9166)\u001b[0m basinhopping step 2: f 2.119e+11 trial_f 2.44585e+14 accepted 0  lowest_f 2.119e+11\n",
      "\u001b[2m\u001b[36m(pid=8978)\u001b[0m basinhopping step 8: f 5.376e+09 trial_f 6.13344e+09 accepted 0  lowest_f 5.376e+09\n",
      "\u001b[2m\u001b[36m(pid=9093)\u001b[0m basinhopping step 5: f 8.57032e+08 trial_f 1.50947e+09 accepted 0  lowest_f 8.57032e+08\n",
      "\u001b[2m\u001b[36m(pid=8970)\u001b[0m warning: basinhopping: local minimization failure\n",
      "\u001b[2m\u001b[36m(pid=8970)\u001b[0m basinhopping step 10: f 2.45826e+12 trial_f 2.45826e+12 accepted 1  lowest_f 2.45826e+12\n",
      "\u001b[2m\u001b[36m(pid=8970)\u001b[0m found new global minimum on step 10 with function value 2.45826e+12\n",
      "\u001b[2m\u001b[36m(pid=8970)\u001b[0m basinhopping step 0: f 2.3886e+12\n",
      "\u001b[2m\u001b[36m(pid=8970)\u001b[0m basinhopping step 1: f 2.3886e+12 trial_f 2.3886e+12 accepted 1  lowest_f 2.3886e+12\n",
      "\u001b[2m\u001b[36m(pid=8970)\u001b[0m basinhopping step 2: f 2.3886e+12 trial_f 2.3886e+12 accepted 1  lowest_f 2.3886e+12\n",
      "\u001b[2m\u001b[36m(pid=8970)\u001b[0m found new global minimum on step 2 with function value 2.3886e+12\n"
     ]
    },
    {
     "name": "stderr",
     "output_type": "stream",
     "text": [
      "2020-10-22 11:34:24,315\tWARNING worker.py:1090 -- WARNING: 10 PYTHON workers have been started. This could be a result of using a large number of actors, or it could be a consequence of using nested tasks (see https://github.com/ray-project/ray/issues/3644) for some a discussion of workarounds.\n"
     ]
    },
    {
     "name": "stdout",
     "output_type": "stream",
     "text": [
      "\u001b[2m\u001b[36m(pid=8978)\u001b[0m warning: basinhopping: local minimization failure\n",
      "\u001b[2m\u001b[36m(pid=8978)\u001b[0m basinhopping step 9: f 5.376e+09 trial_f 1.04953e+10 accepted 0  lowest_f 5.376e+09\n",
      "\u001b[2m\u001b[36m(pid=9222)\u001b[0m warning: basinhopping: local minimization failure\n",
      "\u001b[2m\u001b[36m(pid=9222)\u001b[0m basinhopping step 0: f 1.22843e+12\n",
      "\u001b[2m\u001b[36m(pid=9093)\u001b[0m basinhopping step 6: f 8.57032e+08 trial_f 1.1603e+16 accepted 0  lowest_f 8.57032e+08\n",
      "\u001b[2m\u001b[36m(pid=9166)\u001b[0m basinhopping step 3: f 1.76827e+11 trial_f 1.76827e+11 accepted 1  lowest_f 1.76827e+11\n",
      "\u001b[2m\u001b[36m(pid=9166)\u001b[0m found new global minimum on step 3 with function value 1.76827e+11\n",
      "\u001b[2m\u001b[36m(pid=9093)\u001b[0m basinhopping step 7: f 8.57032e+08 trial_f 1.50947e+09 accepted 0  lowest_f 8.57032e+08\n",
      "\u001b[2m\u001b[36m(pid=8978)\u001b[0m basinhopping step 10: f 5.376e+09 trial_f 6.91759e+09 accepted 0  lowest_f 5.376e+09\n",
      "\u001b[2m\u001b[36m(pid=9222)\u001b[0m basinhopping step 1: f 1.22843e+12 trial_f 3.36854e+16 accepted 0  lowest_f 1.22843e+12\n",
      "\u001b[2m\u001b[36m(pid=8978)\u001b[0m basinhopping step 0: f 5.2257e+09\n",
      "\u001b[2m\u001b[36m(pid=8978)\u001b[0m basinhopping step 1: f 5.2257e+09 trial_f 5.23861e+09 accepted 0  lowest_f 5.2257e+09\n",
      "\u001b[2m\u001b[36m(pid=8978)\u001b[0m basinhopping step 2: f 5.2257e+09 trial_f 5.30185e+09 accepted 0  lowest_f 5.2257e+09\n",
      "\u001b[2m\u001b[36m(pid=9093)\u001b[0m warning: basinhopping: local minimization failure\n",
      "\u001b[2m\u001b[36m(pid=9093)\u001b[0m basinhopping step 8: f 8.57032e+08 trial_f 8.42541e+16 accepted 0  lowest_f 8.57032e+08\n"
     ]
    },
    {
     "name": "stderr",
     "output_type": "stream",
     "text": [
      "2020-10-22 11:34:40,826\tWARNING worker.py:1090 -- WARNING: 10 PYTHON workers have been started. This could be a result of using a large number of actors, or it could be a consequence of using nested tasks (see https://github.com/ray-project/ray/issues/3644) for some a discussion of workarounds.\n"
     ]
    },
    {
     "name": "stdout",
     "output_type": "stream",
     "text": [
      "\u001b[2m\u001b[36m(pid=9193)\u001b[0m basinhopping step 1: f 6.5714e+13 trial_f 1.32358e+14 accepted 0  lowest_f 6.5714e+13\n",
      "\u001b[2m\u001b[36m(pid=9093)\u001b[0m warning: basinhopping: local minimization failure\n",
      "\u001b[2m\u001b[36m(pid=9093)\u001b[0m basinhopping step 9: f 8.57032e+08 trial_f 1.5133e+09 accepted 0  lowest_f 8.57032e+08\n",
      "\u001b[2m\u001b[36m(pid=9222)\u001b[0m basinhopping step 2: f 1.22843e+12 trial_f 3.31698e+16 accepted 0  lowest_f 1.22843e+12\n",
      "\u001b[2m\u001b[36m(pid=9258)\u001b[0m basinhopping step 0: f 2.17537e+12\n",
      "\u001b[2m\u001b[36m(pid=9166)\u001b[0m basinhopping step 4: f 1.76827e+11 trial_f 9.73103e+12 accepted 0  lowest_f 1.76827e+11\n",
      "\u001b[2m\u001b[36m(pid=9222)\u001b[0m basinhopping step 3: f 8.43027e+11 trial_f 8.43027e+11 accepted 1  lowest_f 8.43027e+11\n",
      "\u001b[2m\u001b[36m(pid=9222)\u001b[0m found new global minimum on step 3 with function value 8.43027e+11\n",
      "\u001b[2m\u001b[36m(pid=9258)\u001b[0m warning: basinhopping: local minimization failure\n",
      "\u001b[2m\u001b[36m(pid=9258)\u001b[0m basinhopping step 1: f 8.06328e+09 trial_f 8.06328e+09 accepted 1  lowest_f 8.06328e+09\n",
      "\u001b[2m\u001b[36m(pid=9258)\u001b[0m found new global minimum on step 1 with function value 8.06328e+09\n",
      "\u001b[2m\u001b[36m(pid=9222)\u001b[0m basinhopping step 4: f 8.43027e+11 trial_f 4.30418e+16 accepted 0  lowest_f 8.43027e+11\n",
      "\u001b[2m\u001b[36m(pid=9193)\u001b[0m basinhopping step 2: f 6.5714e+13 trial_f 8.06414e+14 accepted 0  lowest_f 6.5714e+13\n",
      "\u001b[2m\u001b[36m(pid=9222)\u001b[0m basinhopping step 5: f 2.90164e+11 trial_f 2.90164e+11 accepted 1  lowest_f 2.90164e+11\n",
      "\u001b[2m\u001b[36m(pid=9222)\u001b[0m found new global minimum on step 5 with function value 2.90164e+11\n",
      "\u001b[2m\u001b[36m(pid=9093)\u001b[0m basinhopping step 10: f 8.57032e+08 trial_f 5.14455e+16 accepted 0  lowest_f 8.57032e+08\n",
      "\u001b[2m\u001b[36m(pid=9093)\u001b[0m basinhopping step 0: f 8.52935e+08\n",
      "\u001b[2m\u001b[36m(pid=9093)\u001b[0m basinhopping step 1: f 8.52935e+08 trial_f 8.5298e+08 accepted 0  lowest_f 8.52935e+08\n",
      "\u001b[2m\u001b[36m(pid=9258)\u001b[0m basinhopping step 2: f 8.06328e+09 trial_f 3.71586e+13 accepted 0  lowest_f 8.06328e+09\n",
      "\u001b[2m\u001b[36m(pid=9093)\u001b[0m basinhopping step 2: f 8.52935e+08 trial_f 8.52959e+08 accepted 0  lowest_f 8.52935e+08\n"
     ]
    },
    {
     "name": "stderr",
     "output_type": "stream",
     "text": [
      "2020-10-22 11:35:07,664\tWARNING worker.py:1090 -- WARNING: 10 PYTHON workers have been started. This could be a result of using a large number of actors, or it could be a consequence of using nested tasks (see https://github.com/ray-project/ray/issues/3644) for some a discussion of workarounds.\n"
     ]
    },
    {
     "name": "stdout",
     "output_type": "stream",
     "text": [
      "\u001b[2m\u001b[36m(pid=9166)\u001b[0m warning: basinhopping: local minimization failure\n",
      "\u001b[2m\u001b[36m(pid=9166)\u001b[0m basinhopping step 5: f 1.76827e+11 trial_f 4.46956e+12 accepted 0  lowest_f 1.76827e+11\n",
      "\u001b[2m\u001b[36m(pid=9166)\u001b[0m warning: basinhopping: local minimization failure\n",
      "\u001b[2m\u001b[36m(pid=9166)\u001b[0m basinhopping step 6: f 1.76827e+11 trial_f 2.57681e+11 accepted 0  lowest_f 1.76827e+11\n",
      "\u001b[2m\u001b[36m(pid=9222)\u001b[0m basinhopping step 6: f 2.90164e+11 trial_f 1.21357e+12 accepted 0  lowest_f 2.90164e+11\n",
      "\u001b[2m\u001b[36m(pid=9276)\u001b[0m warning: basinhopping: local minimization failure\n",
      "\u001b[2m\u001b[36m(pid=9276)\u001b[0m basinhopping step 0: f 1.08332e+09\n",
      "\u001b[2m\u001b[36m(pid=9222)\u001b[0m basinhopping step 7: f 2.90164e+11 trial_f 1.22848e+12 accepted 0  lowest_f 2.90164e+11\n",
      "\u001b[2m\u001b[36m(pid=9166)\u001b[0m basinhopping step 7: f 1.76827e+11 trial_f 9.38427e+13 accepted 0  lowest_f 1.76827e+11\n",
      "\u001b[2m\u001b[36m(pid=9276)\u001b[0m basinhopping step 1: f 1.08332e+09 trial_f 1.89875e+09 accepted 0  lowest_f 1.08332e+09\n",
      "\u001b[2m\u001b[36m(pid=9222)\u001b[0m warning: basinhopping: local minimization failure\n",
      "\u001b[2m\u001b[36m(pid=9222)\u001b[0m basinhopping step 8: f 2.90164e+11 trial_f 1.22843e+12 accepted 0  lowest_f 2.90164e+11\n",
      "\u001b[2m\u001b[36m(pid=9222)\u001b[0m basinhopping step 9: f 2.90164e+11 trial_f 4.47247e+16 accepted 0  lowest_f 2.90164e+11\n",
      "\u001b[2m\u001b[36m(pid=9222)\u001b[0m basinhopping step 10: f 2.90164e+11 trial_f 3.52534e+16 accepted 0  lowest_f 2.90164e+11\n",
      "\u001b[2m\u001b[36m(pid=9222)\u001b[0m basinhopping step 0: f 2.54222e+11\n",
      "\u001b[2m\u001b[36m(pid=9193)\u001b[0m basinhopping step 3: f 6.5714e+13 trial_f 1.29865e+14 accepted 0  lowest_f 6.5714e+13\n",
      "\u001b[2m\u001b[36m(pid=9222)\u001b[0m basinhopping step 1: f 2.54222e+11 trial_f 2.6846e+11 accepted 0  lowest_f 2.54222e+11\n",
      "\u001b[2m\u001b[36m(pid=9222)\u001b[0m basinhopping step 2: f 2.47328e+11 trial_f 2.47328e+11 accepted 1  lowest_f 2.47328e+11\n",
      "\u001b[2m\u001b[36m(pid=9222)\u001b[0m found new global minimum on step 2 with function value 2.47328e+11\n"
     ]
    },
    {
     "name": "stderr",
     "output_type": "stream",
     "text": [
      "2020-10-22 11:35:43,642\tWARNING worker.py:1090 -- WARNING: 10 PYTHON workers have been started. This could be a result of using a large number of actors, or it could be a consequence of using nested tasks (see https://github.com/ray-project/ray/issues/3644) for some a discussion of workarounds.\n"
     ]
    },
    {
     "name": "stdout",
     "output_type": "stream",
     "text": [
      "\u001b[2m\u001b[36m(pid=9276)\u001b[0m warning: basinhopping: local minimization failure\n",
      "\u001b[2m\u001b[36m(pid=9276)\u001b[0m basinhopping step 2: f 1.08332e+09 trial_f 1.50564e+09 accepted 0  lowest_f 1.08332e+09\n",
      "\u001b[2m\u001b[36m(pid=9276)\u001b[0m basinhopping step 3: f 1.08332e+09 trial_f 5.94588e+14 accepted 0  lowest_f 1.08332e+09\n",
      "\u001b[2m\u001b[36m(pid=9258)\u001b[0m basinhopping step 3: f 8.06328e+09 trial_f 2.44878e+13 accepted 0  lowest_f 8.06328e+09\n",
      "\u001b[2m\u001b[36m(pid=9276)\u001b[0m basinhopping step 4: f 1.08332e+09 trial_f 1.18393e+09 accepted 0  lowest_f 1.08332e+09\n",
      "\u001b[2m\u001b[36m(pid=9193)\u001b[0m basinhopping step 4: f 6.5714e+13 trial_f 8.07268e+14 accepted 0  lowest_f 6.5714e+13\n",
      "\u001b[2m\u001b[36m(pid=9320)\u001b[0m warning: basinhopping: local minimization failure\n",
      "\u001b[2m\u001b[36m(pid=9320)\u001b[0m basinhopping step 0: f 1.19774e+12\n",
      "\u001b[2m\u001b[36m(pid=9193)\u001b[0m basinhopping step 5: f 7.73687e+11 trial_f 7.73687e+11 accepted 1  lowest_f 7.73687e+11\n",
      "\u001b[2m\u001b[36m(pid=9193)\u001b[0m found new global minimum on step 5 with function value 7.73687e+11\n",
      "\u001b[2m\u001b[36m(pid=9276)\u001b[0m basinhopping step 5: f 1.08332e+09 trial_f 3.72065e+15 accepted 0  lowest_f 1.08332e+09\n",
      "\u001b[2m\u001b[36m(pid=9320)\u001b[0m basinhopping step 1: f 1.1973e+12 trial_f 1.1973e+12 accepted 1  lowest_f 1.1973e+12\n",
      "\u001b[2m\u001b[36m(pid=9320)\u001b[0m found new global minimum on step 1 with function value 1.1973e+12\n",
      "\u001b[2m\u001b[36m(pid=9193)\u001b[0m basinhopping step 6: f 7.73687e+11 trial_f 8.17774e+14 accepted 0  lowest_f 7.73687e+11\n",
      "\u001b[2m\u001b[36m(pid=9258)\u001b[0m basinhopping step 4: f 7.99416e+09 trial_f 7.99416e+09 accepted 1  lowest_f 7.99416e+09\n",
      "\u001b[2m\u001b[36m(pid=9258)\u001b[0m found new global minimum on step 4 with function value 7.99416e+09\n",
      "\u001b[2m\u001b[36m(pid=9276)\u001b[0m basinhopping step 6: f 1.08332e+09 trial_f 4.74263e+15 accepted 0  lowest_f 1.08332e+09\n",
      "\u001b[2m\u001b[36m(pid=9166)\u001b[0m basinhopping step 8: f 1.5639e+11 trial_f 1.5639e+11 accepted 1  lowest_f 1.5639e+11\n",
      "\u001b[2m\u001b[36m(pid=9166)\u001b[0m found new global minimum on step 8 with function value 1.5639e+11\n",
      "\u001b[2m\u001b[36m(pid=9193)\u001b[0m basinhopping step 7: f 7.73687e+11 trial_f 7.99767e+14 accepted 0  lowest_f 7.73687e+11\n",
      "\u001b[2m\u001b[36m(pid=9320)\u001b[0m basinhopping step 2: f 1.1973e+12 trial_f 2.21381e+16 accepted 0  lowest_f 1.1973e+12\n",
      "\u001b[2m\u001b[36m(pid=9166)\u001b[0m basinhopping step 9: f 1.5639e+11 trial_f 9.50813e+13 accepted 0  lowest_f 1.5639e+11\n",
      "\u001b[2m\u001b[36m(pid=9320)\u001b[0m basinhopping step 3: f 1.1973e+12 trial_f 2.874e+16 accepted 0  lowest_f 1.1973e+12\n",
      "\u001b[2m\u001b[36m(pid=9320)\u001b[0m basinhopping step 4: f 1.19729e+12 trial_f 1.19729e+12 accepted 1  lowest_f 1.19729e+12\n",
      "\u001b[2m\u001b[36m(pid=9320)\u001b[0m found new global minimum on step 4 with function value 1.19729e+12\n",
      "\u001b[2m\u001b[36m(pid=9320)\u001b[0m warning: basinhopping: local minimization failure\n",
      "\u001b[2m\u001b[36m(pid=9320)\u001b[0m basinhopping step 5: f 1.19729e+12 trial_f 1.19753e+12 accepted 0  lowest_f 1.19729e+12\n",
      "\u001b[2m\u001b[36m(pid=9193)\u001b[0m warning: basinhopping: local minimization failure\n",
      "\u001b[2m\u001b[36m(pid=9193)\u001b[0m basinhopping step 8: f 2.00728e+11 trial_f 2.00728e+11 accepted 1  lowest_f 2.00728e+11\n",
      "\u001b[2m\u001b[36m(pid=9193)\u001b[0m found new global minimum on step 8 with function value 2.00728e+11\n",
      "\u001b[2m\u001b[36m(pid=9258)\u001b[0m basinhopping step 5: f 7.99416e+09 trial_f 3.78625e+12 accepted 0  lowest_f 7.99416e+09\n",
      "\u001b[2m\u001b[36m(pid=9166)\u001b[0m basinhopping step 10: f 1.5639e+11 trial_f 4.45582e+12 accepted 0  lowest_f 1.5639e+11\n",
      "\u001b[2m\u001b[36m(pid=9258)\u001b[0m basinhopping step 6: f 7.84856e+09 trial_f 7.84856e+09 accepted 1  lowest_f 7.84856e+09\n",
      "\u001b[2m\u001b[36m(pid=9258)\u001b[0m found new global minimum on step 6 with function value 7.84856e+09\n",
      "\u001b[2m\u001b[36m(pid=9166)\u001b[0m basinhopping step 0: f 2.62911e+10\n",
      "\u001b[2m\u001b[36m(pid=9166)\u001b[0m basinhopping step 1: f 2.62911e+10 trial_f 6.23591e+10 accepted 0  lowest_f 2.62911e+10\n",
      "\u001b[2m\u001b[36m(pid=9166)\u001b[0m basinhopping step 2: f 2.62911e+10 trial_f 2.69449e+10 accepted 0  lowest_f 2.62911e+10\n",
      "\u001b[2m\u001b[36m(pid=9193)\u001b[0m warning: basinhopping: local minimization failure\n",
      "\u001b[2m\u001b[36m(pid=9193)\u001b[0m basinhopping step 9: f 2.00728e+11 trial_f 6.57136e+13 accepted 0  lowest_f 2.00728e+11\n"
     ]
    },
    {
     "name": "stderr",
     "output_type": "stream",
     "text": [
      "2020-10-22 11:37:22,521\tWARNING worker.py:1090 -- WARNING: 10 PYTHON workers have been started. This could be a result of using a large number of actors, or it could be a consequence of using nested tasks (see https://github.com/ray-project/ray/issues/3644) for some a discussion of workarounds.\n"
     ]
    },
    {
     "name": "stdout",
     "output_type": "stream",
     "text": [
      "\u001b[2m\u001b[36m(pid=9193)\u001b[0m warning: basinhopping: local minimization failure\n",
      "\u001b[2m\u001b[36m(pid=9193)\u001b[0m basinhopping step 10: f 2.00728e+11 trial_f 7.12953e+14 accepted 0  lowest_f 2.00728e+11\n",
      "\u001b[2m\u001b[36m(pid=9193)\u001b[0m basinhopping step 0: f 2.00369e+11\n",
      "\u001b[2m\u001b[36m(pid=9193)\u001b[0m basinhopping step 1: f 2.00369e+11 trial_f 2.00369e+11 accepted 0  lowest_f 2.00369e+11\n",
      "\u001b[2m\u001b[36m(pid=9193)\u001b[0m basinhopping step 2: f 2.00369e+11 trial_f 2.00372e+11 accepted 0  lowest_f 2.00369e+11\n"
     ]
    },
    {
     "name": "stderr",
     "output_type": "stream",
     "text": [
      "2020-10-22 11:37:28,316\tWARNING worker.py:1090 -- WARNING: 10 PYTHON workers have been started. This could be a result of using a large number of actors, or it could be a consequence of using nested tasks (see https://github.com/ray-project/ray/issues/3644) for some a discussion of workarounds.\n"
     ]
    },
    {
     "name": "stdout",
     "output_type": "stream",
     "text": [
      "\u001b[2m\u001b[36m(pid=9320)\u001b[0m basinhopping step 6: f 1.19729e+12 trial_f 1.79239e+15 accepted 0  lowest_f 1.19729e+12\n",
      "\u001b[2m\u001b[36m(pid=9447)\u001b[0m basinhopping step 0: f 1.05799e+12\n",
      "\u001b[2m\u001b[36m(pid=9320)\u001b[0m warning: basinhopping: local minimization failure\n",
      "\u001b[2m\u001b[36m(pid=9320)\u001b[0m basinhopping step 7: f 1.19729e+12 trial_f 1.19774e+12 accepted 0  lowest_f 1.19729e+12\n",
      "\u001b[2m\u001b[36m(pid=9421)\u001b[0m warning: basinhopping: local minimization failure\n",
      "\u001b[2m\u001b[36m(pid=9421)\u001b[0m basinhopping step 0: f 2.59012e+11\n",
      "\u001b[2m\u001b[36m(pid=9276)\u001b[0m basinhopping step 7: f 1.08332e+09 trial_f 1.89875e+09 accepted 0  lowest_f 1.08332e+09\n",
      "\u001b[2m\u001b[36m(pid=9320)\u001b[0m basinhopping step 8: f 1.19729e+12 trial_f 1.19733e+12 accepted 0  lowest_f 1.19729e+12\n",
      "\u001b[2m\u001b[36m(pid=9258)\u001b[0m basinhopping step 7: f 4.22714e+09 trial_f 4.22714e+09 accepted 1  lowest_f 4.22714e+09\n",
      "\u001b[2m\u001b[36m(pid=9258)\u001b[0m found new global minimum on step 7 with function value 4.22714e+09\n",
      "\u001b[2m\u001b[36m(pid=9447)\u001b[0m basinhopping step 1: f 1.05799e+12 trial_f 6.25011e+14 accepted 0  lowest_f 1.05799e+12\n",
      "\u001b[2m\u001b[36m(pid=9258)\u001b[0m warning: basinhopping: local minimization failure\n",
      "\u001b[2m\u001b[36m(pid=9258)\u001b[0m basinhopping step 8: f 4.22714e+09 trial_f 8.06139e+09 accepted 0  lowest_f 4.22714e+09\n",
      "\u001b[2m\u001b[36m(pid=9276)\u001b[0m basinhopping step 8: f 1.08332e+09 trial_f 3.70098e+15 accepted 0  lowest_f 1.08332e+09\n",
      "\u001b[2m\u001b[36m(pid=9320)\u001b[0m basinhopping step 9: f 1.19729e+12 trial_f 6.01373e+16 accepted 0  lowest_f 1.19729e+12\n",
      "\u001b[2m\u001b[36m(pid=9320)\u001b[0m basinhopping step 10: f 1.19725e+12 trial_f 1.19725e+12 accepted 1  lowest_f 1.19725e+12\n",
      "\u001b[2m\u001b[36m(pid=9320)\u001b[0m found new global minimum on step 10 with function value 1.19725e+12\n",
      "\u001b[2m\u001b[36m(pid=9320)\u001b[0m basinhopping step 0: f 1.19716e+12\n",
      "\u001b[2m\u001b[36m(pid=9320)\u001b[0m basinhopping step 1: f 1.19689e+12 trial_f 1.19689e+12 accepted 1  lowest_f 1.19689e+12\n",
      "\u001b[2m\u001b[36m(pid=9320)\u001b[0m found new global minimum on step 1 with function value 1.19689e+12\n",
      "\u001b[2m\u001b[36m(pid=9320)\u001b[0m basinhopping step 2: f 1.19687e+12 trial_f 1.19687e+12 accepted 1  lowest_f 1.19687e+12\n",
      "\u001b[2m\u001b[36m(pid=9320)\u001b[0m found new global minimum on step 2 with function value 1.19687e+12\n"
     ]
    },
    {
     "name": "stderr",
     "output_type": "stream",
     "text": [
      "2020-10-22 11:37:53,853\tWARNING worker.py:1090 -- WARNING: 10 PYTHON workers have been started. This could be a result of using a large number of actors, or it could be a consequence of using nested tasks (see https://github.com/ray-project/ray/issues/3644) for some a discussion of workarounds.\n"
     ]
    },
    {
     "name": "stdout",
     "output_type": "stream",
     "text": [
      "\u001b[2m\u001b[36m(pid=9474)\u001b[0m basinhopping step 0: f 2.90241e+12\n",
      "\u001b[2m\u001b[36m(pid=9276)\u001b[0m basinhopping step 9: f 1.08332e+09 trial_f 1.89875e+09 accepted 0  lowest_f 1.08332e+09\n",
      "\u001b[2m\u001b[36m(pid=9276)\u001b[0m basinhopping step 10: f 1.08332e+09 trial_f 4.65358e+15 accepted 0  lowest_f 1.08332e+09\n",
      "\u001b[2m\u001b[36m(pid=9276)\u001b[0m basinhopping step 0: f 1.08331e+09\n",
      "\u001b[2m\u001b[36m(pid=9258)\u001b[0m basinhopping step 9: f 4.22714e+09 trial_f 5.83881e+12 accepted 0  lowest_f 4.22714e+09\n",
      "\u001b[2m\u001b[36m(pid=9276)\u001b[0m basinhopping step 1: f 1.08331e+09 trial_f 1.08333e+09 accepted 0  lowest_f 1.08331e+09\n",
      "\u001b[2m\u001b[36m(pid=9276)\u001b[0m basinhopping step 2: f 1.08331e+09 trial_f 1.08334e+09 accepted 0  lowest_f 1.08331e+09\n"
     ]
    },
    {
     "name": "stderr",
     "output_type": "stream",
     "text": [
      "2020-10-22 11:38:19,769\tWARNING worker.py:1090 -- WARNING: 10 PYTHON workers have been started. This could be a result of using a large number of actors, or it could be a consequence of using nested tasks (see https://github.com/ray-project/ray/issues/3644) for some a discussion of workarounds.\n"
     ]
    },
    {
     "name": "stdout",
     "output_type": "stream",
     "text": [
      "\u001b[2m\u001b[36m(pid=9447)\u001b[0m warning: basinhopping: local minimization failure\n",
      "\u001b[2m\u001b[36m(pid=9447)\u001b[0m basinhopping step 2: f 8.34421e+11 trial_f 8.34421e+11 accepted 1  lowest_f 8.34421e+11\n",
      "\u001b[2m\u001b[36m(pid=9447)\u001b[0m found new global minimum on step 2 with function value 8.34421e+11\n",
      "\u001b[2m\u001b[36m(pid=9447)\u001b[0m basinhopping step 3: f 8.34421e+11 trial_f 1.44587e+15 accepted 0  lowest_f 8.34421e+11\n",
      "\u001b[2m\u001b[36m(pid=9447)\u001b[0m basinhopping step 4: f 8.34421e+11 trial_f 1.44587e+15 accepted 0  lowest_f 8.34421e+11\n",
      "\u001b[2m\u001b[36m(pid=9447)\u001b[0m basinhopping step 5: f 8.34421e+11 trial_f 1.44587e+15 accepted 0  lowest_f 8.34421e+11\n",
      "\u001b[2m\u001b[36m(pid=9503)\u001b[0m basinhopping step 0: f 8.85624e+15\n",
      "\u001b[2m\u001b[36m(pid=9421)\u001b[0m basinhopping step 1: f 2.59012e+11 trial_f 6.26955e+11 accepted 0  lowest_f 2.59012e+11\n",
      "\u001b[2m\u001b[36m(pid=9258)\u001b[0m basinhopping step 10: f 4.22714e+09 trial_f 8.03303e+09 accepted 0  lowest_f 4.22714e+09\n",
      "\u001b[2m\u001b[36m(pid=9258)\u001b[0m basinhopping step 0: f 4.19241e+09\n",
      "\u001b[2m\u001b[36m(pid=9503)\u001b[0m basinhopping step 1: f 8.85624e+15 trial_f 2.9596e+16 accepted 0  lowest_f 8.85624e+15\n",
      "\u001b[2m\u001b[36m(pid=9447)\u001b[0m warning: basinhopping: local minimization failure\n",
      "\u001b[2m\u001b[36m(pid=9447)\u001b[0m basinhopping step 6: f 8.34421e+11 trial_f 2.38912e+12 accepted 0  lowest_f 8.34421e+11\n",
      "\u001b[2m\u001b[36m(pid=9258)\u001b[0m basinhopping step 1: f 4.17852e+09 trial_f 4.17852e+09 accepted 1  lowest_f 4.17852e+09\n",
      "\u001b[2m\u001b[36m(pid=9258)\u001b[0m found new global minimum on step 1 with function value 4.17852e+09\n",
      "\u001b[2m\u001b[36m(pid=9258)\u001b[0m basinhopping step 2: f 4.17852e+09 trial_f 4.21021e+09 accepted 0  lowest_f 4.17852e+09\n",
      "\u001b[2m\u001b[36m(pid=9421)\u001b[0m warning: basinhopping: local minimization failure\n",
      "\u001b[2m\u001b[36m(pid=9421)\u001b[0m basinhopping step 2: f 2.59012e+11 trial_f 6.27165e+11 accepted 0  lowest_f 2.59012e+11\n"
     ]
    },
    {
     "name": "stderr",
     "output_type": "stream",
     "text": [
      "2020-10-22 11:38:33,573\tWARNING worker.py:1090 -- WARNING: 10 PYTHON workers have been started. This could be a result of using a large number of actors, or it could be a consequence of using nested tasks (see https://github.com/ray-project/ray/issues/3644) for some a discussion of workarounds.\n"
     ]
    },
    {
     "name": "stdout",
     "output_type": "stream",
     "text": [
      "\u001b[2m\u001b[36m(pid=9447)\u001b[0m warning: basinhopping: local minimization failure\n",
      "\u001b[2m\u001b[36m(pid=9447)\u001b[0m basinhopping step 7: f 8.34421e+11 trial_f 2.6617e+12 accepted 0  lowest_f 8.34421e+11\n",
      "\u001b[2m\u001b[36m(pid=9474)\u001b[0m basinhopping step 1: f 2.9024e+12 trial_f 2.9024e+12 accepted 1  lowest_f 2.9024e+12\n",
      "\u001b[2m\u001b[36m(pid=9474)\u001b[0m found new global minimum on step 1 with function value 2.9024e+12\n",
      "\u001b[2m\u001b[36m(pid=9542)\u001b[0m basinhopping step 0: f 7.18436e+12\n",
      "\u001b[2m\u001b[36m(pid=9447)\u001b[0m basinhopping step 8: f 8.34421e+11 trial_f 4.28075e+14 accepted 0  lowest_f 8.34421e+11\n",
      "\u001b[2m\u001b[36m(pid=9503)\u001b[0m basinhopping step 2: f 8.85624e+15 trial_f 3.3248e+16 accepted 0  lowest_f 8.85624e+15\n",
      "\u001b[2m\u001b[36m(pid=9542)\u001b[0m basinhopping step 1: f 7.18436e+12 trial_f 9.15761e+13 accepted 0  lowest_f 7.18436e+12\n",
      "\u001b[2m\u001b[36m(pid=9421)\u001b[0m basinhopping step 3: f 1.56136e+11 trial_f 1.56136e+11 accepted 1  lowest_f 1.56136e+11\n",
      "\u001b[2m\u001b[36m(pid=9421)\u001b[0m found new global minimum on step 3 with function value 1.56136e+11\n",
      "\u001b[2m\u001b[36m(pid=9421)\u001b[0m basinhopping step 4: f 1.56136e+11 trial_f 6.67505e+14 accepted 0  lowest_f 1.56136e+11\n",
      "\u001b[2m\u001b[36m(pid=9503)\u001b[0m basinhopping step 3: f 9.84365e+08 trial_f 9.84365e+08 accepted 1  lowest_f 9.84365e+08\n",
      "\u001b[2m\u001b[36m(pid=9503)\u001b[0m found new global minimum on step 3 with function value 9.84365e+08\n",
      "\u001b[2m\u001b[36m(pid=9421)\u001b[0m warning: basinhopping: local minimization failure\n",
      "\u001b[2m\u001b[36m(pid=9421)\u001b[0m basinhopping step 5: f 1.56136e+11 trial_f 6.27143e+11 accepted 0  lowest_f 1.56136e+11\n",
      "\u001b[2m\u001b[36m(pid=9447)\u001b[0m basinhopping step 9: f 8.34421e+11 trial_f 3.02277e+13 accepted 0  lowest_f 8.34421e+11\n",
      "\u001b[2m\u001b[36m(pid=9542)\u001b[0m basinhopping step 2: f 7.18436e+12 trial_f 8.23542e+13 accepted 0  lowest_f 7.18436e+12\n",
      "\u001b[2m\u001b[36m(pid=9474)\u001b[0m basinhopping step 2: f 4.44064e+11 trial_f 4.44064e+11 accepted 1  lowest_f 4.44064e+11\n",
      "\u001b[2m\u001b[36m(pid=9474)\u001b[0m found new global minimum on step 2 with function value 4.44064e+11\n",
      "\u001b[2m\u001b[36m(pid=9447)\u001b[0m basinhopping step 10: f 8.34421e+11 trial_f 1.55813e+14 accepted 0  lowest_f 8.34421e+11\n",
      "\u001b[2m\u001b[36m(pid=9503)\u001b[0m basinhopping step 4: f 9.84365e+08 trial_f 9.74082e+16 accepted 0  lowest_f 9.84365e+08\n",
      "\u001b[2m\u001b[36m(pid=9447)\u001b[0m basinhopping step 0: f 8.33818e+11\n",
      "\u001b[2m\u001b[36m(pid=9447)\u001b[0m basinhopping step 1: f 8.33381e+11 trial_f 8.33381e+11 accepted 1  lowest_f 8.33381e+11\n",
      "\u001b[2m\u001b[36m(pid=9447)\u001b[0m found new global minimum on step 1 with function value 8.33381e+11\n",
      "\u001b[2m\u001b[36m(pid=9447)\u001b[0m basinhopping step 2: f 8.33381e+11 trial_f 8.33673e+11 accepted 0  lowest_f 8.33381e+11\n"
     ]
    },
    {
     "name": "stderr",
     "output_type": "stream",
     "text": [
      "2020-10-22 11:39:23,545\tWARNING worker.py:1090 -- WARNING: 10 PYTHON workers have been started. This could be a result of using a large number of actors, or it could be a consequence of using nested tasks (see https://github.com/ray-project/ray/issues/3644) for some a discussion of workarounds.\n"
     ]
    },
    {
     "name": "stdout",
     "output_type": "stream",
     "text": [
      "\u001b[2m\u001b[36m(pid=9474)\u001b[0m basinhopping step 3: f 4.44064e+11 trial_f 2.90241e+12 accepted 0  lowest_f 4.44064e+11\n",
      "\u001b[2m\u001b[36m(pid=9503)\u001b[0m basinhopping step 5: f 9.84365e+08 trial_f 1.16766e+17 accepted 0  lowest_f 9.84365e+08\n",
      "\u001b[2m\u001b[36m(pid=9421)\u001b[0m basinhopping step 6: f 1.56136e+11 trial_f 5.96948e+14 accepted 0  lowest_f 1.56136e+11\n",
      "\u001b[2m\u001b[36m(pid=9474)\u001b[0m basinhopping step 4: f 4.44064e+11 trial_f 7.00128e+15 accepted 0  lowest_f 4.44064e+11\n",
      "\u001b[2m\u001b[36m(pid=9599)\u001b[0m warning: basinhopping: local minimization failure\n",
      "\u001b[2m\u001b[36m(pid=9599)\u001b[0m basinhopping step 0: f 2.08094e+14\n",
      "\u001b[2m\u001b[36m(pid=9421)\u001b[0m basinhopping step 7: f 1.56136e+11 trial_f 4.63584e+11 accepted 0  lowest_f 1.56136e+11\n",
      "\u001b[2m\u001b[36m(pid=9599)\u001b[0m basinhopping step 1: f 2.08094e+14 trial_f 1.29219e+15 accepted 0  lowest_f 2.08094e+14\n",
      "\u001b[2m\u001b[36m(pid=9421)\u001b[0m basinhopping step 8: f 1.56136e+11 trial_f 4.3662e+14 accepted 0  lowest_f 1.56136e+11\n",
      "\u001b[2m\u001b[36m(pid=9421)\u001b[0m basinhopping step 9: f 1.56136e+11 trial_f 4.43946e+14 accepted 0  lowest_f 1.56136e+11\n",
      "\u001b[2m\u001b[36m(pid=9599)\u001b[0m warning: basinhopping: local minimization failure\n",
      "\u001b[2m\u001b[36m(pid=9599)\u001b[0m basinhopping step 2: f 7.10274e+11 trial_f 7.10274e+11 accepted 1  lowest_f 7.10274e+11\n",
      "\u001b[2m\u001b[36m(pid=9599)\u001b[0m found new global minimum on step 2 with function value 7.10274e+11\n",
      "\u001b[2m\u001b[36m(pid=9599)\u001b[0m basinhopping step 3: f 7.10274e+11 trial_f 1.44609e+15 accepted 0  lowest_f 7.10274e+11\n",
      "\u001b[2m\u001b[36m(pid=9474)\u001b[0m basinhopping step 5: f 4.44064e+11 trial_f 2.90241e+12 accepted 0  lowest_f 4.44064e+11\n",
      "\u001b[2m\u001b[36m(pid=9503)\u001b[0m basinhopping step 6: f 9.84365e+08 trial_f 8.85624e+15 accepted 0  lowest_f 9.84365e+08\n",
      "\u001b[2m\u001b[36m(pid=9542)\u001b[0m warning: basinhopping: local minimization failure\n",
      "\u001b[2m\u001b[36m(pid=9542)\u001b[0m basinhopping step 3: f 4.92836e+09 trial_f 4.92836e+09 accepted 1  lowest_f 4.92836e+09\n",
      "\u001b[2m\u001b[36m(pid=9542)\u001b[0m found new global minimum on step 3 with function value 4.92836e+09\n",
      "\u001b[2m\u001b[36m(pid=9474)\u001b[0m basinhopping step 6: f 4.44064e+11 trial_f 9.17075e+15 accepted 0  lowest_f 4.44064e+11\n",
      "\u001b[2m\u001b[36m(pid=9542)\u001b[0m basinhopping step 4: f 4.92836e+09 trial_f 1.97526e+14 accepted 0  lowest_f 4.92836e+09\n",
      "\u001b[2m\u001b[36m(pid=9599)\u001b[0m basinhopping step 4: f 7.10274e+11 trial_f 1.25342e+14 accepted 0  lowest_f 7.10274e+11\n",
      "\u001b[2m\u001b[36m(pid=9474)\u001b[0m basinhopping step 7: f 4.44064e+11 trial_f 2.9024e+12 accepted 0  lowest_f 4.44064e+11\n",
      "\u001b[2m\u001b[36m(pid=9474)\u001b[0m basinhopping step 8: f 4.44064e+11 trial_f 2.90241e+12 accepted 0  lowest_f 4.44064e+11\n",
      "\u001b[2m\u001b[36m(pid=9503)\u001b[0m basinhopping step 7: f 9.84365e+08 trial_f 8.70876e+16 accepted 0  lowest_f 9.84365e+08\n",
      "\u001b[2m\u001b[36m(pid=9542)\u001b[0m basinhopping step 5: f 4.92836e+09 trial_f 5.20655e+09 accepted 0  lowest_f 4.92836e+09\n",
      "\u001b[2m\u001b[36m(pid=9421)\u001b[0m basinhopping step 10: f 1.56136e+11 trial_f 4.33321e+13 accepted 0  lowest_f 1.56136e+11\n",
      "\u001b[2m\u001b[36m(pid=9421)\u001b[0m basinhopping step 0: f 1.54815e+11\n",
      "\u001b[2m\u001b[36m(pid=9503)\u001b[0m warning: basinhopping: local minimization failure\n",
      "\u001b[2m\u001b[36m(pid=9503)\u001b[0m basinhopping step 8: f 9.84365e+08 trial_f 1.80627e+09 accepted 0  lowest_f 9.84365e+08\n",
      "\u001b[2m\u001b[36m(pid=9421)\u001b[0m basinhopping step 1: f 1.54815e+11 trial_f 1.5525e+11 accepted 0  lowest_f 1.54815e+11\n",
      "\u001b[2m\u001b[36m(pid=9421)\u001b[0m basinhopping step 2: f 1.5457e+11 trial_f 1.5457e+11 accepted 1  lowest_f 1.5457e+11\n",
      "\u001b[2m\u001b[36m(pid=9421)\u001b[0m found new global minimum on step 2 with function value 1.5457e+11\n"
     ]
    },
    {
     "name": "stderr",
     "output_type": "stream",
     "text": [
      "2020-10-22 11:40:43,849\tWARNING worker.py:1090 -- WARNING: 10 PYTHON workers have been started. This could be a result of using a large number of actors, or it could be a consequence of using nested tasks (see https://github.com/ray-project/ray/issues/3644) for some a discussion of workarounds.\n"
     ]
    },
    {
     "name": "stdout",
     "output_type": "stream",
     "text": [
      "\u001b[2m\u001b[36m(pid=9599)\u001b[0m basinhopping step 5: f 7.10274e+11 trial_f 3.35242e+15 accepted 0  lowest_f 7.10274e+11\n",
      "\u001b[2m\u001b[36m(pid=9542)\u001b[0m basinhopping step 6: f 4.92836e+09 trial_f 9.39945e+13 accepted 0  lowest_f 4.92836e+09\n",
      "\u001b[2m\u001b[36m(pid=9542)\u001b[0m basinhopping step 7: f 4.92836e+09 trial_f 5.20027e+09 accepted 0  lowest_f 4.92836e+09\n",
      "\u001b[2m\u001b[36m(pid=9951)\u001b[0m warning: basinhopping: local minimization failure\n",
      "\u001b[2m\u001b[36m(pid=9951)\u001b[0m basinhopping step 0: f 3.0106e+11\n",
      "\u001b[2m\u001b[36m(pid=9474)\u001b[0m basinhopping step 9: f 4.44064e+11 trial_f 2.90241e+12 accepted 0  lowest_f 4.44064e+11\n",
      "\u001b[2m\u001b[36m(pid=9599)\u001b[0m basinhopping step 6: f 7.10274e+11 trial_f 1.23555e+15 accepted 0  lowest_f 7.10274e+11\n",
      "\u001b[2m\u001b[36m(pid=9474)\u001b[0m basinhopping step 10: f 4.44064e+11 trial_f 5.57143e+15 accepted 0  lowest_f 4.44064e+11\n",
      "\u001b[2m\u001b[36m(pid=9474)\u001b[0m basinhopping step 0: f 4.43863e+11\n",
      "\u001b[2m\u001b[36m(pid=9474)\u001b[0m basinhopping step 1: f 4.43735e+11 trial_f 4.43735e+11 accepted 1  lowest_f 4.43735e+11\n",
      "\u001b[2m\u001b[36m(pid=9474)\u001b[0m found new global minimum on step 1 with function value 4.43735e+11\n",
      "\u001b[2m\u001b[36m(pid=9542)\u001b[0m basinhopping step 8: f 4.92836e+09 trial_f 9.40566e+13 accepted 0  lowest_f 4.92836e+09\n",
      "\u001b[2m\u001b[36m(pid=9542)\u001b[0m warning: basinhopping: local minimization failure\n",
      "\u001b[2m\u001b[36m(pid=9542)\u001b[0m basinhopping step 9: f 4.92836e+09 trial_f 5.27388e+09 accepted 0  lowest_f 4.92836e+09\n",
      "\u001b[2m\u001b[36m(pid=9503)\u001b[0m basinhopping step 9: f 9.84365e+08 trial_f 1.60932e+09 accepted 0  lowest_f 9.84365e+08\n",
      "\u001b[2m\u001b[36m(pid=9474)\u001b[0m basinhopping step 2: f 4.43708e+11 trial_f 4.43708e+11 accepted 1  lowest_f 4.43708e+11\n",
      "\u001b[2m\u001b[36m(pid=9474)\u001b[0m found new global minimum on step 2 with function value 4.43708e+11\n"
     ]
    },
    {
     "name": "stderr",
     "output_type": "stream",
     "text": [
      "2020-10-22 11:41:02,299\tWARNING worker.py:1090 -- WARNING: 10 PYTHON workers have been started. This could be a result of using a large number of actors, or it could be a consequence of using nested tasks (see https://github.com/ray-project/ray/issues/3644) for some a discussion of workarounds.\n"
     ]
    },
    {
     "name": "stdout",
     "output_type": "stream",
     "text": [
      "\u001b[2m\u001b[36m(pid=9599)\u001b[0m warning: basinhopping: local minimization failure\n",
      "\u001b[2m\u001b[36m(pid=9599)\u001b[0m basinhopping step 7: f 7.10274e+11 trial_f 7.14927e+11 accepted 0  lowest_f 7.10274e+11\n",
      "\u001b[2m\u001b[36m(pid=9977)\u001b[0m basinhopping step 0: f 1.0828e+12\n",
      "\u001b[2m\u001b[36m(pid=9542)\u001b[0m basinhopping step 10: f 4.92836e+09 trial_f 5.20635e+09 accepted 0  lowest_f 4.92836e+09\n",
      "\u001b[2m\u001b[36m(pid=9542)\u001b[0m basinhopping step 0: f 5.16625e+09\n",
      "\u001b[2m\u001b[36m(pid=9542)\u001b[0m basinhopping step 1: f 5.16625e+09 trial_f 5.16766e+09 accepted 0  lowest_f 5.16625e+09\n",
      "\u001b[2m\u001b[36m(pid=9542)\u001b[0m basinhopping step 2: f 5.15896e+09 trial_f 5.15896e+09 accepted 1  lowest_f 5.15896e+09\n",
      "\u001b[2m\u001b[36m(pid=9542)\u001b[0m found new global minimum on step 2 with function value 5.15896e+09\n"
     ]
    },
    {
     "name": "stderr",
     "output_type": "stream",
     "text": [
      "2020-10-22 11:41:22,695\tWARNING worker.py:1090 -- WARNING: 10 PYTHON workers have been started. This could be a result of using a large number of actors, or it could be a consequence of using nested tasks (see https://github.com/ray-project/ray/issues/3644) for some a discussion of workarounds.\n"
     ]
    },
    {
     "name": "stdout",
     "output_type": "stream",
     "text": [
      "\u001b[2m\u001b[36m(pid=9503)\u001b[0m warning: basinhopping: local minimization failure\n",
      "\u001b[2m\u001b[36m(pid=9503)\u001b[0m basinhopping step 10: f 9.84365e+08 trial_f 1.36519e+17 accepted 0  lowest_f 9.84365e+08\n",
      "\u001b[2m\u001b[36m(pid=9599)\u001b[0m warning: basinhopping: local minimization failure\n",
      "\u001b[2m\u001b[36m(pid=9599)\u001b[0m basinhopping step 8: f 7.10274e+11 trial_f 7.10274e+11 accepted 1  lowest_f 7.10274e+11\n",
      "\u001b[2m\u001b[36m(pid=9503)\u001b[0m basinhopping step 0: f 9.75983e+08\n",
      "\u001b[2m\u001b[36m(pid=9951)\u001b[0m warning: basinhopping: local minimization failure\n",
      "\u001b[2m\u001b[36m(pid=9951)\u001b[0m basinhopping step 1: f 2.76839e+11 trial_f 2.76839e+11 accepted 1  lowest_f 2.76839e+11\n",
      "\u001b[2m\u001b[36m(pid=9951)\u001b[0m found new global minimum on step 1 with function value 2.76839e+11\n",
      "\u001b[2m\u001b[36m(pid=9993)\u001b[0m basinhopping step 0: f 3.10096e+09\n",
      "\u001b[2m\u001b[36m(pid=9503)\u001b[0m basinhopping step 1: f 9.74267e+08 trial_f 9.74267e+08 accepted 1  lowest_f 9.74267e+08\n",
      "\u001b[2m\u001b[36m(pid=9503)\u001b[0m found new global minimum on step 1 with function value 9.74267e+08\n",
      "\u001b[2m\u001b[36m(pid=9503)\u001b[0m basinhopping step 2: f 9.74267e+08 trial_f 9.77272e+08 accepted 0  lowest_f 9.74267e+08\n"
     ]
    },
    {
     "name": "stderr",
     "output_type": "stream",
     "text": [
      "2020-10-22 11:41:28,382\tWARNING worker.py:1090 -- WARNING: 10 PYTHON workers have been started. This could be a result of using a large number of actors, or it could be a consequence of using nested tasks (see https://github.com/ray-project/ray/issues/3644) for some a discussion of workarounds.\n"
     ]
    },
    {
     "name": "stdout",
     "output_type": "stream",
     "text": [
      "\u001b[2m\u001b[36m(pid=9977)\u001b[0m warning: basinhopping: local minimization failure\n",
      "\u001b[2m\u001b[36m(pid=9977)\u001b[0m basinhopping step 1: f 1.0718e+12 trial_f 1.0718e+12 accepted 1  lowest_f 1.0718e+12\n",
      "\u001b[2m\u001b[36m(pid=9977)\u001b[0m found new global minimum on step 1 with function value 1.0718e+12\n",
      "\u001b[2m\u001b[36m(pid=10006)\u001b[0m warning: basinhopping: local minimization failure\n",
      "\u001b[2m\u001b[36m(pid=10006)\u001b[0m basinhopping step 0: f 2.95687e+08\n",
      "\u001b[2m\u001b[36m(pid=9951)\u001b[0m warning: basinhopping: local minimization failure\n",
      "\u001b[2m\u001b[36m(pid=9951)\u001b[0m basinhopping step 2: f 2.76839e+11 trial_f 3.48237e+11 accepted 0  lowest_f 2.76839e+11\n",
      "\u001b[2m\u001b[36m(pid=9993)\u001b[0m basinhopping step 1: f 3.10096e+09 trial_f 3.13751e+11 accepted 0  lowest_f 3.10096e+09\n",
      "\u001b[2m\u001b[36m(pid=9977)\u001b[0m basinhopping step 2: f 1.0718e+12 trial_f 1.25872e+16 accepted 0  lowest_f 1.0718e+12\n",
      "\u001b[2m\u001b[36m(pid=10006)\u001b[0m basinhopping step 1: f 2.95687e+08 trial_f 3.05296e+14 accepted 0  lowest_f 2.95687e+08\n",
      "\u001b[2m\u001b[36m(pid=10006)\u001b[0m warning: basinhopping: local minimization failure\n",
      "\u001b[2m\u001b[36m(pid=10006)\u001b[0m basinhopping step 2: f 2.95687e+08 trial_f 4.245e+08 accepted 0  lowest_f 2.95687e+08\n",
      "\u001b[2m\u001b[36m(pid=9977)\u001b[0m warning: basinhopping: local minimization failure\n",
      "\u001b[2m\u001b[36m(pid=9977)\u001b[0m basinhopping step 3: f 7.7721e+11 trial_f 7.7721e+11 accepted 1  lowest_f 7.7721e+11\n",
      "\u001b[2m\u001b[36m(pid=9977)\u001b[0m found new global minimum on step 3 with function value 7.7721e+11\n",
      "\u001b[2m\u001b[36m(pid=9599)\u001b[0m warning: basinhopping: local minimization failure\n",
      "\u001b[2m\u001b[36m(pid=9599)\u001b[0m basinhopping step 9: f 7.10274e+11 trial_f 7.14927e+11 accepted 0  lowest_f 7.10274e+11\n",
      "\u001b[2m\u001b[36m(pid=9977)\u001b[0m warning: basinhopping: local minimization failure\n",
      "\u001b[2m\u001b[36m(pid=9977)\u001b[0m basinhopping step 4: f 7.7721e+11 trial_f 7.89019e+11 accepted 0  lowest_f 7.7721e+11\n",
      "\u001b[2m\u001b[36m(pid=9951)\u001b[0m basinhopping step 3: f 2.76839e+11 trial_f 3.08539e+14 accepted 0  lowest_f 2.76839e+11\n",
      "\u001b[2m\u001b[36m(pid=9977)\u001b[0m basinhopping step 5: f 7.7721e+11 trial_f 1.0824e+12 accepted 0  lowest_f 7.7721e+11\n",
      "\u001b[2m\u001b[36m(pid=9977)\u001b[0m warning: basinhopping: local minimization failure\n",
      "\u001b[2m\u001b[36m(pid=9977)\u001b[0m basinhopping step 6: f 7.70653e+11 trial_f 7.70653e+11 accepted 1  lowest_f 7.70653e+11\n",
      "\u001b[2m\u001b[36m(pid=9977)\u001b[0m found new global minimum on step 6 with function value 7.70653e+11\n",
      "\u001b[2m\u001b[36m(pid=10006)\u001b[0m warning: basinhopping: local minimization failure\n",
      "\u001b[2m\u001b[36m(pid=10006)\u001b[0m basinhopping step 3: f 2.95687e+08 trial_f 4.48459e+08 accepted 0  lowest_f 2.95687e+08\n",
      "\u001b[2m\u001b[36m(pid=9993)\u001b[0m basinhopping step 2: f 3.10096e+09 trial_f 6.086e+09 accepted 0  lowest_f 3.10096e+09\n",
      "\u001b[2m\u001b[36m(pid=9993)\u001b[0m basinhopping step 3: f 3.10096e+09 trial_f 2.66734e+11 accepted 0  lowest_f 3.10096e+09\n",
      "\u001b[2m\u001b[36m(pid=9599)\u001b[0m warning: basinhopping: local minimization failure\n",
      "\u001b[2m\u001b[36m(pid=9599)\u001b[0m basinhopping step 10: f 1.8062e+11 trial_f 1.8062e+11 accepted 1  lowest_f 1.8062e+11\n",
      "\u001b[2m\u001b[36m(pid=9599)\u001b[0m found new global minimum on step 10 with function value 1.8062e+11\n",
      "\u001b[2m\u001b[36m(pid=9599)\u001b[0m basinhopping step 0: f 1.80307e+11\n",
      "\u001b[2m\u001b[36m(pid=9599)\u001b[0m basinhopping step 1: f 1.80307e+11 trial_f 1.80327e+11 accepted 0  lowest_f 1.80307e+11\n",
      "\u001b[2m\u001b[36m(pid=9599)\u001b[0m basinhopping step 2: f 1.80307e+11 trial_f 1.80355e+11 accepted 0  lowest_f 1.80307e+11\n"
     ]
    },
    {
     "name": "stderr",
     "output_type": "stream",
     "text": [
      "2020-10-22 11:42:25,838\tWARNING worker.py:1090 -- WARNING: 10 PYTHON workers have been started. This could be a result of using a large number of actors, or it could be a consequence of using nested tasks (see https://github.com/ray-project/ray/issues/3644) for some a discussion of workarounds.\n"
     ]
    },
    {
     "name": "stdout",
     "output_type": "stream",
     "text": [
      "\u001b[2m\u001b[36m(pid=9951)\u001b[0m basinhopping step 4: f 2.76839e+11 trial_f 1.67374e+15 accepted 0  lowest_f 2.76839e+11\n",
      "\u001b[2m\u001b[36m(pid=9977)\u001b[0m basinhopping step 7: f 7.70653e+11 trial_f 2.65487e+15 accepted 0  lowest_f 7.70653e+11\n",
      "\u001b[2m\u001b[36m(pid=9951)\u001b[0m basinhopping step 5: f 1.30022e+11 trial_f 1.30022e+11 accepted 1  lowest_f 1.30022e+11\n",
      "\u001b[2m\u001b[36m(pid=9951)\u001b[0m found new global minimum on step 5 with function value 1.30022e+11\n",
      "\u001b[2m\u001b[36m(pid=10006)\u001b[0m warning: basinhopping: local minimization failure\n",
      "\u001b[2m\u001b[36m(pid=10006)\u001b[0m basinhopping step 4: f 2.95687e+08 trial_f 3.12191e+08 accepted 0  lowest_f 2.95687e+08\n",
      "\u001b[2m\u001b[36m(pid=9977)\u001b[0m basinhopping step 8: f 7.70653e+11 trial_f 1.08279e+12 accepted 0  lowest_f 7.70653e+11\n",
      "\u001b[2m\u001b[36m(pid=9951)\u001b[0m basinhopping step 6: f 1.30022e+11 trial_f 3.04849e+15 accepted 0  lowest_f 1.30022e+11\n",
      "\u001b[2m\u001b[36m(pid=9951)\u001b[0m basinhopping step 7: f 1.30022e+11 trial_f 1.94043e+15 accepted 0  lowest_f 1.30022e+11\n",
      "\u001b[2m\u001b[36m(pid=10089)\u001b[0m basinhopping step 0: f 3.79219e+11\n",
      "\u001b[2m\u001b[36m(pid=9951)\u001b[0m warning: basinhopping: local minimization failure\n",
      "\u001b[2m\u001b[36m(pid=9951)\u001b[0m basinhopping step 8: f 1.30022e+11 trial_f 3.0106e+11 accepted 0  lowest_f 1.30022e+11\n",
      "\u001b[2m\u001b[36m(pid=9993)\u001b[0m basinhopping step 4: f 3.10096e+09 trial_f 6.18174e+09 accepted 0  lowest_f 3.10096e+09\n",
      "\u001b[2m\u001b[36m(pid=10006)\u001b[0m basinhopping step 5: f 2.70286e+08 trial_f 2.70286e+08 accepted 1  lowest_f 2.70286e+08\n",
      "\u001b[2m\u001b[36m(pid=10006)\u001b[0m found new global minimum on step 5 with function value 2.70286e+08\n",
      "\u001b[2m\u001b[36m(pid=10089)\u001b[0m basinhopping step 1: f 3.79219e+11 trial_f 1.39931e+14 accepted 0  lowest_f 3.79219e+11\n",
      "\u001b[2m\u001b[36m(pid=9951)\u001b[0m basinhopping step 9: f 1.30022e+11 trial_f 4.19876e+15 accepted 0  lowest_f 1.30022e+11\n",
      "\u001b[2m\u001b[36m(pid=9993)\u001b[0m warning: basinhopping: local minimization failure\n",
      "\u001b[2m\u001b[36m(pid=9993)\u001b[0m basinhopping step 5: f 3.10096e+09 trial_f 6.20677e+09 accepted 0  lowest_f 3.10096e+09\n",
      "\u001b[2m\u001b[36m(pid=9993)\u001b[0m warning: basinhopping: local minimization failure\n",
      "\u001b[2m\u001b[36m(pid=9993)\u001b[0m basinhopping step 6: f 3.10096e+09 trial_f 6.20171e+09 accepted 0  lowest_f 3.10096e+09\n",
      "\u001b[2m\u001b[36m(pid=9977)\u001b[0m basinhopping step 9: f 7.70653e+11 trial_f 1.26123e+16 accepted 0  lowest_f 7.70653e+11\n",
      "\u001b[2m\u001b[36m(pid=9951)\u001b[0m basinhopping step 10: f 1.30022e+11 trial_f 1.34413e+15 accepted 0  lowest_f 1.30022e+11\n",
      "\u001b[2m\u001b[36m(pid=9951)\u001b[0m basinhopping step 0: f 6.80732e+10\n",
      "\u001b[2m\u001b[36m(pid=9951)\u001b[0m basinhopping step 1: f 6.80732e+10 trial_f 6.80732e+10 accepted 1  lowest_f 6.80732e+10\n",
      "\u001b[2m\u001b[36m(pid=9993)\u001b[0m basinhopping step 7: f 3.10096e+09 trial_f 3.21797e+09 accepted 0  lowest_f 3.10096e+09\n",
      "\u001b[2m\u001b[36m(pid=10006)\u001b[0m warning: basinhopping: local minimization failure\n",
      "\u001b[2m\u001b[36m(pid=10006)\u001b[0m basinhopping step 6: f 2.70286e+08 trial_f 1.83594e+15 accepted 0  lowest_f 2.70286e+08\n",
      "\u001b[2m\u001b[36m(pid=9951)\u001b[0m basinhopping step 2: f 6.80732e+10 trial_f 7.32487e+10 accepted 0  lowest_f 6.80732e+10\n"
     ]
    },
    {
     "name": "stderr",
     "output_type": "stream",
     "text": [
      "2020-10-22 11:43:38,617\tWARNING worker.py:1090 -- WARNING: 10 PYTHON workers have been started. This could be a result of using a large number of actors, or it could be a consequence of using nested tasks (see https://github.com/ray-project/ray/issues/3644) for some a discussion of workarounds.\n"
     ]
    },
    {
     "name": "stdout",
     "output_type": "stream",
     "text": [
      "\u001b[2m\u001b[36m(pid=9977)\u001b[0m basinhopping step 10: f 7.70653e+11 trial_f 1.39953e+16 accepted 0  lowest_f 7.70653e+11\n",
      "\u001b[2m\u001b[36m(pid=9977)\u001b[0m basinhopping step 0: f 1.08348e+12\n",
      "\u001b[2m\u001b[36m(pid=9977)\u001b[0m basinhopping step 1: f 1.08348e+12 trial_f 1.08348e+12 accepted 1  lowest_f 1.08348e+12\n",
      "\u001b[2m\u001b[36m(pid=10006)\u001b[0m basinhopping step 7: f 2.70286e+08 trial_f 2.96546e+08 accepted 0  lowest_f 2.70286e+08\n",
      "\u001b[2m\u001b[36m(pid=9977)\u001b[0m basinhopping step 2: f 1.08348e+12 trial_f 1.08348e+12 accepted 1  lowest_f 1.08348e+12\n"
     ]
    },
    {
     "name": "stderr",
     "output_type": "stream",
     "text": [
      "2020-10-22 11:43:40,571\tWARNING worker.py:1090 -- WARNING: 10 PYTHON workers have been started. This could be a result of using a large number of actors, or it could be a consequence of using nested tasks (see https://github.com/ray-project/ray/issues/3644) for some a discussion of workarounds.\n"
     ]
    },
    {
     "name": "stdout",
     "output_type": "stream",
     "text": [
      "\u001b[2m\u001b[36m(pid=10173)\u001b[0m warning: basinhopping: local minimization failure\n",
      "\u001b[2m\u001b[36m(pid=10173)\u001b[0m basinhopping step 0: f 1.69866e+12\n",
      "\u001b[2m\u001b[36m(pid=9993)\u001b[0m basinhopping step 8: f 3.10096e+09 trial_f 6.11009e+09 accepted 0  lowest_f 3.10096e+09\n",
      "\u001b[2m\u001b[36m(pid=10006)\u001b[0m warning: basinhopping: local minimization failure\n",
      "\u001b[2m\u001b[36m(pid=10006)\u001b[0m basinhopping step 8: f 2.70286e+08 trial_f 2.93174e+08 accepted 0  lowest_f 2.70286e+08\n",
      "\u001b[2m\u001b[36m(pid=10089)\u001b[0m warning: basinhopping: local minimization failure\n",
      "\u001b[2m\u001b[36m(pid=10089)\u001b[0m basinhopping step 2: f 3.79219e+11 trial_f 4.59319e+11 accepted 0  lowest_f 3.79219e+11\n",
      "\u001b[2m\u001b[36m(pid=10006)\u001b[0m basinhopping step 9: f 2.70286e+08 trial_f 1.83239e+15 accepted 0  lowest_f 2.70286e+08\n",
      "\u001b[2m\u001b[36m(pid=10173)\u001b[0m basinhopping step 1: f 1.69866e+12 trial_f 1.1724e+17 accepted 0  lowest_f 1.69866e+12\n",
      "\u001b[2m\u001b[36m(pid=10160)\u001b[0m warning: basinhopping: local minimization failure\n",
      "\u001b[2m\u001b[36m(pid=10160)\u001b[0m basinhopping step 0: f 1.14773e+12\n",
      "\u001b[2m\u001b[36m(pid=10006)\u001b[0m warning: basinhopping: local minimization failure\n",
      "\u001b[2m\u001b[36m(pid=10006)\u001b[0m basinhopping step 10: f 2.70286e+08 trial_f 4.47589e+08 accepted 0  lowest_f 2.70286e+08\n",
      "\u001b[2m\u001b[36m(pid=10006)\u001b[0m basinhopping step 0: f 2.6811e+08\n",
      "\u001b[2m\u001b[36m(pid=9993)\u001b[0m basinhopping step 9: f 3.10096e+09 trial_f 2.3578e+10 accepted 0  lowest_f 3.10096e+09\n",
      "\u001b[2m\u001b[36m(pid=10006)\u001b[0m basinhopping step 1: f 2.6811e+08 trial_f 2.68152e+08 accepted 0  lowest_f 2.6811e+08\n",
      "\u001b[2m\u001b[36m(pid=10006)\u001b[0m basinhopping step 2: f 2.68043e+08 trial_f 2.68043e+08 accepted 1  lowest_f 2.68043e+08\n",
      "\u001b[2m\u001b[36m(pid=10006)\u001b[0m found new global minimum on step 2 with function value 2.68043e+08\n"
     ]
    },
    {
     "name": "stderr",
     "output_type": "stream",
     "text": [
      "2020-10-22 11:44:00,488\tWARNING worker.py:1090 -- WARNING: 10 PYTHON workers have been started. This could be a result of using a large number of actors, or it could be a consequence of using nested tasks (see https://github.com/ray-project/ray/issues/3644) for some a discussion of workarounds.\n"
     ]
    },
    {
     "name": "stdout",
     "output_type": "stream",
     "text": [
      "\u001b[2m\u001b[36m(pid=10160)\u001b[0m basinhopping step 1: f 1.14773e+12 trial_f 2.40855e+15 accepted 0  lowest_f 1.14773e+12\n",
      "\u001b[2m\u001b[36m(pid=10160)\u001b[0m basinhopping step 2: f 1.14773e+12 trial_f 3.96533e+14 accepted 0  lowest_f 1.14773e+12\n",
      "\u001b[2m\u001b[36m(pid=10160)\u001b[0m basinhopping step 3: f 1.14773e+12 trial_f 2.42344e+15 accepted 0  lowest_f 1.14773e+12\n",
      "\u001b[2m\u001b[36m(pid=10173)\u001b[0m warning: basinhopping: local minimization failure\n",
      "\u001b[2m\u001b[36m(pid=10173)\u001b[0m basinhopping step 2: f 1.04046e+12 trial_f 1.04046e+12 accepted 1  lowest_f 1.04046e+12\n",
      "\u001b[2m\u001b[36m(pid=10173)\u001b[0m found new global minimum on step 2 with function value 1.04046e+12\n",
      "\u001b[2m\u001b[36m(pid=10199)\u001b[0m basinhopping step 0: f 1.45722e+09\n",
      "\u001b[2m\u001b[36m(pid=10089)\u001b[0m basinhopping step 3: f 3.79219e+11 trial_f 4.14417e+11 accepted 0  lowest_f 3.79219e+11\n",
      "\u001b[2m\u001b[36m(pid=10199)\u001b[0m basinhopping step 1: f 1.45518e+09 trial_f 1.45518e+09 accepted 1  lowest_f 1.45518e+09\n",
      "\u001b[2m\u001b[36m(pid=10199)\u001b[0m found new global minimum on step 1 with function value 1.45518e+09\n",
      "\u001b[2m\u001b[36m(pid=9993)\u001b[0m basinhopping step 10: f 3.10096e+09 trial_f 3.1063e+09 accepted 0  lowest_f 3.10096e+09\n",
      "\u001b[2m\u001b[36m(pid=10199)\u001b[0m basinhopping step 2: f 1.45518e+09 trial_f 4.57708e+16 accepted 0  lowest_f 1.45518e+09\n",
      "\u001b[2m\u001b[36m(pid=9993)\u001b[0m basinhopping step 0: f 3.02497e+09\n",
      "\u001b[2m\u001b[36m(pid=10160)\u001b[0m basinhopping step 4: f 1.14773e+12 trial_f 9.39344e+14 accepted 0  lowest_f 1.14773e+12\n",
      "\u001b[2m\u001b[36m(pid=10173)\u001b[0m basinhopping step 3: f 1.04046e+12 trial_f 4.87089e+16 accepted 0  lowest_f 1.04046e+12\n",
      "\u001b[2m\u001b[36m(pid=9993)\u001b[0m basinhopping step 1: f 3.02382e+09 trial_f 3.02382e+09 accepted 1  lowest_f 3.02382e+09\n",
      "\u001b[2m\u001b[36m(pid=9993)\u001b[0m found new global minimum on step 1 with function value 3.02382e+09\n",
      "\u001b[2m\u001b[36m(pid=9993)\u001b[0m basinhopping step 2: f 3.02382e+09 trial_f 3.02433e+09 accepted 0  lowest_f 3.02382e+09\n"
     ]
    },
    {
     "name": "stderr",
     "output_type": "stream",
     "text": [
      "2020-10-22 11:44:31,472\tWARNING worker.py:1090 -- WARNING: 10 PYTHON workers have been started. This could be a result of using a large number of actors, or it could be a consequence of using nested tasks (see https://github.com/ray-project/ray/issues/3644) for some a discussion of workarounds.\n"
     ]
    },
    {
     "name": "stdout",
     "output_type": "stream",
     "text": [
      "\u001b[2m\u001b[36m(pid=10228)\u001b[0m basinhopping step 0: f 9.95862e+09\n",
      "\u001b[2m\u001b[36m(pid=10089)\u001b[0m warning: basinhopping: local minimization failure\n",
      "\u001b[2m\u001b[36m(pid=10089)\u001b[0m basinhopping step 4: f 2.94224e+11 trial_f 2.94224e+11 accepted 1  lowest_f 2.94224e+11\n",
      "\u001b[2m\u001b[36m(pid=10089)\u001b[0m found new global minimum on step 4 with function value 2.94224e+11\n",
      "\u001b[2m\u001b[36m(pid=10199)\u001b[0m warning: basinhopping: local minimization failure\n",
      "\u001b[2m\u001b[36m(pid=10199)\u001b[0m basinhopping step 3: f 1.28661e+09 trial_f 1.28661e+09 accepted 1  lowest_f 1.28661e+09\n",
      "\u001b[2m\u001b[36m(pid=10199)\u001b[0m found new global minimum on step 3 with function value 1.28661e+09\n",
      "\u001b[2m\u001b[36m(pid=10199)\u001b[0m basinhopping step 4: f 1.28661e+09 trial_f 1.45886e+09 accepted 0  lowest_f 1.28661e+09\n",
      "\u001b[2m\u001b[36m(pid=10160)\u001b[0m basinhopping step 5: f 1.14773e+12 trial_f 5.94294e+15 accepted 0  lowest_f 1.14773e+12\n",
      "\u001b[2m\u001b[36m(pid=10089)\u001b[0m basinhopping step 5: f 2.94224e+11 trial_f 2.63891e+15 accepted 0  lowest_f 2.94224e+11\n",
      "\u001b[2m\u001b[36m(pid=10228)\u001b[0m basinhopping step 1: f 9.95862e+09 trial_f 3.70015e+12 accepted 0  lowest_f 9.95862e+09\n",
      "\u001b[2m\u001b[36m(pid=10199)\u001b[0m warning: basinhopping: local minimization failure\n",
      "\u001b[2m\u001b[36m(pid=10199)\u001b[0m basinhopping step 5: f 1.26171e+09 trial_f 1.26171e+09 accepted 1  lowest_f 1.26171e+09\n",
      "\u001b[2m\u001b[36m(pid=10199)\u001b[0m found new global minimum on step 5 with function value 1.26171e+09\n",
      "\u001b[2m\u001b[36m(pid=10160)\u001b[0m basinhopping step 6: f 1.14773e+12 trial_f 9.39425e+14 accepted 0  lowest_f 1.14773e+12\n",
      "\u001b[2m\u001b[36m(pid=10173)\u001b[0m basinhopping step 4: f 1.04046e+12 trial_f 4.72827e+16 accepted 0  lowest_f 1.04046e+12\n",
      "\u001b[2m\u001b[36m(pid=10173)\u001b[0m warning: basinhopping: local minimization failure\n",
      "\u001b[2m\u001b[36m(pid=10173)\u001b[0m basinhopping step 5: f 1.04046e+12 trial_f 1.04049e+12 accepted 0  lowest_f 1.04046e+12\n",
      "\u001b[2m\u001b[36m(pid=10199)\u001b[0m basinhopping step 6: f 1.26171e+09 trial_f 1.45722e+09 accepted 0  lowest_f 1.26171e+09\n",
      "\u001b[2m\u001b[36m(pid=10228)\u001b[0m basinhopping step 2: f 9.95862e+09 trial_f 3.61565e+13 accepted 0  lowest_f 9.95862e+09\n",
      "\u001b[2m\u001b[36m(pid=10173)\u001b[0m warning: basinhopping: local minimization failure\n",
      "\u001b[2m\u001b[36m(pid=10173)\u001b[0m basinhopping step 6: f 1.04046e+12 trial_f 4.145e+16 accepted 0  lowest_f 1.04046e+12\n",
      "\u001b[2m\u001b[36m(pid=10228)\u001b[0m basinhopping step 3: f 6.61062e+09 trial_f 6.61062e+09 accepted 1  lowest_f 6.61062e+09\n",
      "\u001b[2m\u001b[36m(pid=10228)\u001b[0m found new global minimum on step 3 with function value 6.61062e+09\n",
      "\u001b[2m\u001b[36m(pid=10173)\u001b[0m basinhopping step 7: f 1.04046e+12 trial_f 5.36365e+16 accepted 0  lowest_f 1.04046e+12\n",
      "\u001b[2m\u001b[36m(pid=10199)\u001b[0m basinhopping step 7: f 1.26171e+09 trial_f 1.45518e+09 accepted 0  lowest_f 1.26171e+09\n",
      "\u001b[2m\u001b[36m(pid=10228)\u001b[0m basinhopping step 4: f 6.61062e+09 trial_f 7.09746e+12 accepted 0  lowest_f 6.61062e+09\n",
      "\u001b[2m\u001b[36m(pid=10228)\u001b[0m basinhopping step 5: f 6.61062e+09 trial_f 4.60026e+13 accepted 0  lowest_f 6.61062e+09\n",
      "\u001b[2m\u001b[36m(pid=10160)\u001b[0m basinhopping step 7: f 2.02622e+11 trial_f 2.02622e+11 accepted 1  lowest_f 2.02622e+11\n",
      "\u001b[2m\u001b[36m(pid=10160)\u001b[0m found new global minimum on step 7 with function value 2.02622e+11\n",
      "\u001b[2m\u001b[36m(pid=10228)\u001b[0m basinhopping step 6: f 6.61062e+09 trial_f 4.57882e+13 accepted 0  lowest_f 6.61062e+09\n",
      "\u001b[2m\u001b[36m(pid=10089)\u001b[0m basinhopping step 6: f 2.94224e+11 trial_f 4.44649e+11 accepted 0  lowest_f 2.94224e+11\n",
      "\u001b[2m\u001b[36m(pid=10199)\u001b[0m basinhopping step 8: f 1.26171e+09 trial_f 1.45722e+09 accepted 0  lowest_f 1.26171e+09\n",
      "\u001b[2m\u001b[36m(pid=10089)\u001b[0m warning: basinhopping: local minimization failure\n",
      "\u001b[2m\u001b[36m(pid=10089)\u001b[0m basinhopping step 7: f 2.83886e+11 trial_f 2.83886e+11 accepted 1  lowest_f 2.83886e+11\n",
      "\u001b[2m\u001b[36m(pid=10089)\u001b[0m found new global minimum on step 7 with function value 2.83886e+11\n",
      "\u001b[2m\u001b[36m(pid=10199)\u001b[0m warning: basinhopping: local minimization failure\n",
      "\u001b[2m\u001b[36m(pid=10199)\u001b[0m basinhopping step 9: f 1.26171e+09 trial_f 1.45734e+09 accepted 0  lowest_f 1.26171e+09\n",
      "\u001b[2m\u001b[36m(pid=10160)\u001b[0m basinhopping step 8: f 6.41134e+10 trial_f 6.41134e+10 accepted 1  lowest_f 6.41134e+10\n",
      "\u001b[2m\u001b[36m(pid=10160)\u001b[0m found new global minimum on step 8 with function value 6.41134e+10\n",
      "\u001b[2m\u001b[36m(pid=10199)\u001b[0m basinhopping step 10: f 1.26171e+09 trial_f 1.3852e+15 accepted 0  lowest_f 1.26171e+09\n",
      "\u001b[2m\u001b[36m(pid=10089)\u001b[0m warning: basinhopping: local minimization failure\n",
      "\u001b[2m\u001b[36m(pid=10089)\u001b[0m basinhopping step 8: f 2.83886e+11 trial_f 1.3054e+12 accepted 0  lowest_f 2.83886e+11\n",
      "\u001b[2m\u001b[36m(pid=10199)\u001b[0m basinhopping step 0: f 1.0738e+09\n",
      "\u001b[2m\u001b[36m(pid=10199)\u001b[0m basinhopping step 1: f 1.0738e+09 trial_f 1.0738e+09 accepted 1  lowest_f 1.0738e+09\n",
      "\u001b[2m\u001b[36m(pid=10199)\u001b[0m basinhopping step 2: f 1.0738e+09 trial_f 1.0738e+09 accepted 1  lowest_f 1.0738e+09\n"
     ]
    },
    {
     "name": "stderr",
     "output_type": "stream",
     "text": [
      "2020-10-22 11:45:50,146\tWARNING worker.py:1090 -- WARNING: 10 PYTHON workers have been started. This could be a result of using a large number of actors, or it could be a consequence of using nested tasks (see https://github.com/ray-project/ray/issues/3644) for some a discussion of workarounds.\n"
     ]
    },
    {
     "name": "stdout",
     "output_type": "stream",
     "text": [
      "\u001b[2m\u001b[36m(pid=10173)\u001b[0m warning: basinhopping: local minimization failure\n",
      "\u001b[2m\u001b[36m(pid=10173)\u001b[0m basinhopping step 8: f 8.60533e+11 trial_f 8.60533e+11 accepted 1  lowest_f 8.60533e+11\n",
      "\u001b[2m\u001b[36m(pid=10173)\u001b[0m found new global minimum on step 8 with function value 8.60533e+11\n",
      "\u001b[2m\u001b[36m(pid=10228)\u001b[0m basinhopping step 7: f 6.61062e+09 trial_f 4.53156e+13 accepted 0  lowest_f 6.61062e+09\n",
      "\u001b[2m\u001b[36m(pid=10160)\u001b[0m warning: basinhopping: local minimization failure\n",
      "\u001b[2m\u001b[36m(pid=10160)\u001b[0m basinhopping step 9: f 6.41134e+10 trial_f 1.98271e+11 accepted 0  lowest_f 6.41134e+10\n",
      "\u001b[2m\u001b[36m(pid=10173)\u001b[0m warning: basinhopping: local minimization failure\n",
      "\u001b[2m\u001b[36m(pid=10173)\u001b[0m basinhopping step 9: f 6.89813e+11 trial_f 6.89813e+11 accepted 1  lowest_f 6.89813e+11\n",
      "\u001b[2m\u001b[36m(pid=10173)\u001b[0m found new global minimum on step 9 with function value 6.89813e+11\n",
      "\u001b[2m\u001b[36m(pid=10356)\u001b[0m warning: basinhopping: local minimization failure\n",
      "\u001b[2m\u001b[36m(pid=10356)\u001b[0m basinhopping step 0: f 7.3569e+15\n",
      "\u001b[2m\u001b[36m(pid=10173)\u001b[0m basinhopping step 10: f 6.89813e+11 trial_f 1.69808e+12 accepted 0  lowest_f 6.89813e+11\n",
      "\u001b[2m\u001b[36m(pid=10173)\u001b[0m basinhopping step 0: f 1.69818e+12\n",
      "\u001b[2m\u001b[36m(pid=10173)\u001b[0m basinhopping step 1: f 1.69818e+12 trial_f 1.69818e+12 accepted 1  lowest_f 1.69818e+12\n",
      "\u001b[2m\u001b[36m(pid=10173)\u001b[0m basinhopping step 2: f 1.69818e+12 trial_f 1.69818e+12 accepted 1  lowest_f 1.69818e+12\n"
     ]
    },
    {
     "name": "stderr",
     "output_type": "stream",
     "text": [
      "2020-10-22 11:46:11,128\tWARNING worker.py:1090 -- WARNING: 10 PYTHON workers have been started. This could be a result of using a large number of actors, or it could be a consequence of using nested tasks (see https://github.com/ray-project/ray/issues/3644) for some a discussion of workarounds.\n"
     ]
    },
    {
     "name": "stdout",
     "output_type": "stream",
     "text": [
      "\u001b[2m\u001b[36m(pid=10228)\u001b[0m basinhopping step 8: f 6.61062e+09 trial_f 8.65717e+09 accepted 0  lowest_f 6.61062e+09\n",
      "\u001b[2m\u001b[36m(pid=10356)\u001b[0m basinhopping step 1: f 7.3569e+15 trial_f 2.21217e+16 accepted 0  lowest_f 7.3569e+15\n",
      "\u001b[2m\u001b[36m(pid=10356)\u001b[0m warning: basinhopping: local minimization failure\n",
      "\u001b[2m\u001b[36m(pid=10356)\u001b[0m basinhopping step 2: f 7.91835e+08 trial_f 7.91835e+08 accepted 1  lowest_f 7.91835e+08\n",
      "\u001b[2m\u001b[36m(pid=10356)\u001b[0m found new global minimum on step 2 with function value 7.91835e+08\n",
      "\u001b[2m\u001b[36m(pid=10160)\u001b[0m warning: basinhopping: local minimization failure\n",
      "\u001b[2m\u001b[36m(pid=10160)\u001b[0m basinhopping step 10: f 6.41134e+10 trial_f 2.02361e+11 accepted 0  lowest_f 6.41134e+10\n",
      "\u001b[2m\u001b[36m(pid=10160)\u001b[0m basinhopping step 0: f 5.03955e+10\n",
      "\u001b[2m\u001b[36m(pid=10160)\u001b[0m basinhopping step 1: f 5.03459e+10 trial_f 5.03459e+10 accepted 1  lowest_f 5.03459e+10\n",
      "\u001b[2m\u001b[36m(pid=10160)\u001b[0m found new global minimum on step 1 with function value 5.03459e+10\n",
      "\u001b[2m\u001b[36m(pid=10160)\u001b[0m basinhopping step 2: f 5.03459e+10 trial_f 5.03631e+10 accepted 0  lowest_f 5.03459e+10\n"
     ]
    },
    {
     "name": "stderr",
     "output_type": "stream",
     "text": [
      "2020-10-22 11:46:32,911\tWARNING worker.py:1090 -- WARNING: 10 PYTHON workers have been started. This could be a result of using a large number of actors, or it could be a consequence of using nested tasks (see https://github.com/ray-project/ray/issues/3644) for some a discussion of workarounds.\n"
     ]
    },
    {
     "name": "stdout",
     "output_type": "stream",
     "text": [
      "\u001b[2m\u001b[36m(pid=10356)\u001b[0m warning: basinhopping: local minimization failure\n",
      "\u001b[2m\u001b[36m(pid=10356)\u001b[0m basinhopping step 3: f 7.91835e+08 trial_f 9.27162e+08 accepted 0  lowest_f 7.91835e+08\n",
      "\u001b[2m\u001b[36m(pid=10228)\u001b[0m basinhopping step 9: f 6.61062e+09 trial_f 4.58969e+13 accepted 0  lowest_f 6.61062e+09\n",
      "\u001b[2m\u001b[36m(pid=10399)\u001b[0m basinhopping step 0: f 9.78275e+11\n",
      "\u001b[2m\u001b[36m(pid=10356)\u001b[0m basinhopping step 4: f 7.91835e+08 trial_f 9.27159e+08 accepted 0  lowest_f 7.91835e+08\n",
      "\u001b[2m\u001b[36m(pid=10399)\u001b[0m basinhopping step 1: f 9.78273e+11 trial_f 9.78273e+11 accepted 1  lowest_f 9.78273e+11\n",
      "\u001b[2m\u001b[36m(pid=10399)\u001b[0m found new global minimum on step 1 with function value 9.78273e+11\n",
      "\u001b[2m\u001b[36m(pid=10228)\u001b[0m basinhopping step 10: f 6.61062e+09 trial_f 7.54998e+12 accepted 0  lowest_f 6.61062e+09\n",
      "\u001b[2m\u001b[36m(pid=10228)\u001b[0m basinhopping step 0: f 6.26837e+09\n",
      "\u001b[2m\u001b[36m(pid=10228)\u001b[0m basinhopping step 1: f 6.26725e+09 trial_f 6.26725e+09 accepted 1  lowest_f 6.26725e+09\n",
      "\u001b[2m\u001b[36m(pid=10228)\u001b[0m found new global minimum on step 1 with function value 6.26725e+09\n",
      "\u001b[2m\u001b[36m(pid=10228)\u001b[0m basinhopping step 2: f 6.26149e+09 trial_f 6.26149e+09 accepted 1  lowest_f 6.26149e+09\n",
      "\u001b[2m\u001b[36m(pid=10228)\u001b[0m found new global minimum on step 2 with function value 6.26149e+09\n"
     ]
    },
    {
     "name": "stderr",
     "output_type": "stream",
     "text": [
      "2020-10-22 11:46:49,795\tWARNING worker.py:1090 -- WARNING: 10 PYTHON workers have been started. This could be a result of using a large number of actors, or it could be a consequence of using nested tasks (see https://github.com/ray-project/ray/issues/3644) for some a discussion of workarounds.\n"
     ]
    },
    {
     "name": "stdout",
     "output_type": "stream",
     "text": [
      "\u001b[2m\u001b[36m(pid=10089)\u001b[0m warning: basinhopping: local minimization failure\n",
      "\u001b[2m\u001b[36m(pid=10089)\u001b[0m basinhopping step 9: f 2.83886e+11 trial_f 3.71266e+11 accepted 0  lowest_f 2.83886e+11\n",
      "\u001b[2m\u001b[36m(pid=10399)\u001b[0m warning: basinhopping: local minimization failure\n",
      "\u001b[2m\u001b[36m(pid=10399)\u001b[0m basinhopping step 2: f 3.426e+11 trial_f 3.426e+11 accepted 1  lowest_f 3.426e+11\n",
      "\u001b[2m\u001b[36m(pid=10399)\u001b[0m found new global minimum on step 2 with function value 3.426e+11\n",
      "\u001b[2m\u001b[36m(pid=10427)\u001b[0m basinhopping step 0: f 5.93146e+09\n",
      "\u001b[2m\u001b[36m(pid=10399)\u001b[0m basinhopping step 3: f 3.426e+11 trial_f 6.43397e+15 accepted 0  lowest_f 3.426e+11\n",
      "\u001b[2m\u001b[36m(pid=10399)\u001b[0m basinhopping step 4: f 3.426e+11 trial_f 1.60205e+16 accepted 0  lowest_f 3.426e+11\n",
      "\u001b[2m\u001b[36m(pid=10399)\u001b[0m basinhopping step 5: f 3.426e+11 trial_f 1.60205e+16 accepted 0  lowest_f 3.426e+11\n",
      "\u001b[2m\u001b[36m(pid=10089)\u001b[0m basinhopping step 10: f 2.83886e+11 trial_f 9.56663e+14 accepted 0  lowest_f 2.83886e+11\n",
      "\u001b[2m\u001b[36m(pid=10089)\u001b[0m basinhopping step 0: f 2.79206e+11\n",
      "\u001b[2m\u001b[36m(pid=10089)\u001b[0m basinhopping step 1: f 2.74409e+11 trial_f 2.74409e+11 accepted 1  lowest_f 2.74409e+11\n",
      "\u001b[2m\u001b[36m(pid=10089)\u001b[0m found new global minimum on step 1 with function value 2.74409e+11\n",
      "\u001b[2m\u001b[36m(pid=10089)\u001b[0m basinhopping step 2: f 2.73782e+11 trial_f 2.73782e+11 accepted 1  lowest_f 2.73782e+11\n",
      "\u001b[2m\u001b[36m(pid=10089)\u001b[0m found new global minimum on step 2 with function value 2.73782e+11\n"
     ]
    },
    {
     "name": "stderr",
     "output_type": "stream",
     "text": [
      "2020-10-22 11:47:05,850\tWARNING worker.py:1090 -- WARNING: 10 PYTHON workers have been started. This could be a result of using a large number of actors, or it could be a consequence of using nested tasks (see https://github.com/ray-project/ray/issues/3644) for some a discussion of workarounds.\n"
     ]
    },
    {
     "name": "stdout",
     "output_type": "stream",
     "text": [
      "\u001b[2m\u001b[36m(pid=10356)\u001b[0m warning: basinhopping: local minimization failure\n",
      "\u001b[2m\u001b[36m(pid=10356)\u001b[0m basinhopping step 5: f 7.91776e+08 trial_f 7.91776e+08 accepted 1  lowest_f 7.91776e+08\n",
      "\u001b[2m\u001b[36m(pid=10356)\u001b[0m found new global minimum on step 5 with function value 7.91776e+08\n",
      "\u001b[2m\u001b[36m(pid=10399)\u001b[0m basinhopping step 6: f 3.426e+11 trial_f 1.35362e+15 accepted 0  lowest_f 3.426e+11\n",
      "\u001b[2m\u001b[36m(pid=10427)\u001b[0m basinhopping step 1: f 5.93146e+09 trial_f 8.23438e+09 accepted 0  lowest_f 5.93146e+09\n",
      "\u001b[2m\u001b[36m(pid=10452)\u001b[0m basinhopping step 0: f 1.6698e+11\n",
      "\u001b[2m\u001b[36m(pid=10399)\u001b[0m warning: basinhopping: local minimization failure\n",
      "\u001b[2m\u001b[36m(pid=10399)\u001b[0m basinhopping step 7: f 3.426e+11 trial_f 9.81902e+11 accepted 0  lowest_f 3.426e+11\n",
      "\u001b[2m\u001b[36m(pid=10427)\u001b[0m warning: basinhopping: local minimization failure\n",
      "\u001b[2m\u001b[36m(pid=10427)\u001b[0m basinhopping step 2: f 5.93146e+09 trial_f 8.28669e+09 accepted 0  lowest_f 5.93146e+09\n",
      "\u001b[2m\u001b[36m(pid=10356)\u001b[0m warning: basinhopping: local minimization failure\n",
      "\u001b[2m\u001b[36m(pid=10356)\u001b[0m basinhopping step 6: f 7.91776e+08 trial_f 8.29881e+08 accepted 0  lowest_f 7.91776e+08\n",
      "\u001b[2m\u001b[36m(pid=10427)\u001b[0m basinhopping step 3: f 5.93146e+09 trial_f 9.33433e+13 accepted 0  lowest_f 5.93146e+09\n",
      "\u001b[2m\u001b[36m(pid=10356)\u001b[0m warning: basinhopping: local minimization failure\n",
      "\u001b[2m\u001b[36m(pid=10356)\u001b[0m basinhopping step 7: f 7.91776e+08 trial_f 9.17595e+08 accepted 0  lowest_f 7.91776e+08\n",
      "\u001b[2m\u001b[36m(pid=10356)\u001b[0m basinhopping step 8: f 7.91776e+08 trial_f 2.20149e+16 accepted 0  lowest_f 7.91776e+08\n",
      "\u001b[2m\u001b[36m(pid=10452)\u001b[0m basinhopping step 1: f 1.6698e+11 trial_f 1.0933e+13 accepted 0  lowest_f 1.6698e+11\n",
      "\u001b[2m\u001b[36m(pid=10427)\u001b[0m warning: basinhopping: local minimization failure\n",
      "\u001b[2m\u001b[36m(pid=10427)\u001b[0m basinhopping step 4: f 5.93146e+09 trial_f 6.67747e+09 accepted 0  lowest_f 5.93146e+09\n",
      "\u001b[2m\u001b[36m(pid=10356)\u001b[0m basinhopping step 9: f 7.91776e+08 trial_f 2.07401e+16 accepted 0  lowest_f 7.91776e+08\n",
      "\u001b[2m\u001b[36m(pid=10427)\u001b[0m warning: basinhopping: local minimization failure\n",
      "\u001b[2m\u001b[36m(pid=10427)\u001b[0m basinhopping step 5: f 5.93146e+09 trial_f 8.28669e+09 accepted 0  lowest_f 5.93146e+09\n",
      "\u001b[2m\u001b[36m(pid=10452)\u001b[0m basinhopping step 2: f 1.6698e+11 trial_f 1.36142e+13 accepted 0  lowest_f 1.6698e+11\n",
      "\u001b[2m\u001b[36m(pid=10356)\u001b[0m basinhopping step 10: f 7.91776e+08 trial_f 2.05336e+16 accepted 0  lowest_f 7.91776e+08\n",
      "\u001b[2m\u001b[36m(pid=10452)\u001b[0m basinhopping step 3: f 1.6698e+11 trial_f 2.01043e+14 accepted 0  lowest_f 1.6698e+11\n",
      "\u001b[2m\u001b[36m(pid=10356)\u001b[0m basinhopping step 0: f 9.16625e+08\n",
      "\u001b[2m\u001b[36m(pid=10356)\u001b[0m basinhopping step 1: f 9.16625e+08 trial_f 9.16625e+08 accepted 1  lowest_f 9.16625e+08\n",
      "\u001b[2m\u001b[36m(pid=10356)\u001b[0m basinhopping step 2: f 9.16625e+08 trial_f 9.16625e+08 accepted 1  lowest_f 9.16625e+08\n"
     ]
    },
    {
     "name": "stderr",
     "output_type": "stream",
     "text": [
      "2020-10-22 11:47:59,796\tWARNING worker.py:1090 -- WARNING: 10 PYTHON workers have been started. This could be a result of using a large number of actors, or it could be a consequence of using nested tasks (see https://github.com/ray-project/ray/issues/3644) for some a discussion of workarounds.\n"
     ]
    },
    {
     "name": "stdout",
     "output_type": "stream",
     "text": [
      "\u001b[2m\u001b[36m(pid=10399)\u001b[0m basinhopping step 8: f 3.426e+11 trial_f 6.80262e+14 accepted 0  lowest_f 3.426e+11\n",
      "\u001b[2m\u001b[36m(pid=10508)\u001b[0m warning: basinhopping: local minimization failure\n",
      "\u001b[2m\u001b[36m(pid=10508)\u001b[0m basinhopping step 0: f 2.16757e+15\n",
      "\u001b[2m\u001b[36m(pid=10427)\u001b[0m basinhopping step 6: f 5.93146e+09 trial_f 8.47684e+13 accepted 0  lowest_f 5.93146e+09\n",
      "\u001b[2m\u001b[36m(pid=10508)\u001b[0m warning: basinhopping: local minimization failure\n",
      "\u001b[2m\u001b[36m(pid=10508)\u001b[0m basinhopping step 1: f 8.31039e+08 trial_f 8.31039e+08 accepted 1  lowest_f 8.31039e+08\n",
      "\u001b[2m\u001b[36m(pid=10508)\u001b[0m found new global minimum on step 1 with function value 8.31039e+08\n",
      "\u001b[2m\u001b[36m(pid=10384)\u001b[0m basinhopping step 0: f 2.58413e+09\n",
      "\u001b[2m\u001b[36m(pid=10508)\u001b[0m warning: basinhopping: local minimization failure\n",
      "\u001b[2m\u001b[36m(pid=10508)\u001b[0m basinhopping step 2: f 8.31039e+08 trial_f 2.16757e+15 accepted 0  lowest_f 8.31039e+08\n",
      "\u001b[2m\u001b[36m(pid=10452)\u001b[0m basinhopping step 4: f 1.6698e+11 trial_f 1.26287e+14 accepted 0  lowest_f 1.6698e+11\n",
      "\u001b[2m\u001b[36m(pid=10508)\u001b[0m basinhopping step 3: f 8.31039e+08 trial_f 9.3158e+16 accepted 0  lowest_f 8.31039e+08\n",
      "\u001b[2m\u001b[36m(pid=10384)\u001b[0m basinhopping step 1: f 2.58413e+09 trial_f 5.4084e+12 accepted 0  lowest_f 2.58413e+09\n",
      "\u001b[2m\u001b[36m(pid=10399)\u001b[0m warning: basinhopping: local minimization failure\n",
      "\u001b[2m\u001b[36m(pid=10399)\u001b[0m basinhopping step 9: f 3.426e+11 trial_f 6.31874e+11 accepted 0  lowest_f 3.426e+11\n",
      "\u001b[2m\u001b[36m(pid=10384)\u001b[0m warning: basinhopping: local minimization failure\n",
      "\u001b[2m\u001b[36m(pid=10384)\u001b[0m basinhopping step 2: f 2.58413e+09 trial_f 1.40005e+12 accepted 0  lowest_f 2.58413e+09\n",
      "\u001b[2m\u001b[36m(pid=10427)\u001b[0m basinhopping step 7: f 5.93146e+09 trial_f 3.51008e+13 accepted 0  lowest_f 5.93146e+09\n",
      "\u001b[2m\u001b[36m(pid=10399)\u001b[0m warning: basinhopping: local minimization failure\n",
      "\u001b[2m\u001b[36m(pid=10399)\u001b[0m basinhopping step 10: f 3.426e+11 trial_f 7.48467e+11 accepted 0  lowest_f 3.426e+11\n",
      "\u001b[2m\u001b[36m(pid=10399)\u001b[0m basinhopping step 0: f 2.77754e+11\n",
      "\u001b[2m\u001b[36m(pid=10399)\u001b[0m basinhopping step 1: f 2.77754e+11 trial_f 2.78527e+11 accepted 0  lowest_f 2.77754e+11\n",
      "\u001b[2m\u001b[36m(pid=10452)\u001b[0m basinhopping step 5: f 1.6698e+11 trial_f 3.37425e+13 accepted 0  lowest_f 1.6698e+11\n",
      "\u001b[2m\u001b[36m(pid=10399)\u001b[0m basinhopping step 2: f 2.77754e+11 trial_f 2.78386e+11 accepted 0  lowest_f 2.77754e+11\n"
     ]
    },
    {
     "name": "stderr",
     "output_type": "stream",
     "text": [
      "2020-10-22 11:48:33,366\tWARNING worker.py:1090 -- WARNING: 10 PYTHON workers have been started. This could be a result of using a large number of actors, or it could be a consequence of using nested tasks (see https://github.com/ray-project/ray/issues/3644) for some a discussion of workarounds.\n"
     ]
    },
    {
     "name": "stdout",
     "output_type": "stream",
     "text": [
      "\u001b[2m\u001b[36m(pid=10508)\u001b[0m warning: basinhopping: local minimization failure\n",
      "\u001b[2m\u001b[36m(pid=10508)\u001b[0m basinhopping step 4: f 5.07637e+08 trial_f 5.07637e+08 accepted 1  lowest_f 5.07637e+08\n",
      "\u001b[2m\u001b[36m(pid=10508)\u001b[0m found new global minimum on step 4 with function value 5.07637e+08\n",
      "\u001b[2m\u001b[36m(pid=10508)\u001b[0m warning: basinhopping: local minimization failure\n",
      "\u001b[2m\u001b[36m(pid=10508)\u001b[0m basinhopping step 5: f 5.07637e+08 trial_f 8.78817e+08 accepted 0  lowest_f 5.07637e+08\n",
      "\u001b[2m\u001b[36m(pid=10384)\u001b[0m basinhopping step 3: f 2.58413e+09 trial_f 2.32362e+14 accepted 0  lowest_f 2.58413e+09\n",
      "\u001b[2m\u001b[36m(pid=10538)\u001b[0m basinhopping step 0: f 5.36521e+13\n",
      "\u001b[2m\u001b[36m(pid=10538)\u001b[0m basinhopping step 1: f 2.78918e+11 trial_f 2.78918e+11 accepted 1  lowest_f 2.78918e+11\n",
      "\u001b[2m\u001b[36m(pid=10538)\u001b[0m found new global minimum on step 1 with function value 2.78918e+11\n",
      "\u001b[2m\u001b[36m(pid=10427)\u001b[0m warning: basinhopping: local minimization failure\n",
      "\u001b[2m\u001b[36m(pid=10427)\u001b[0m basinhopping step 8: f 5.93146e+09 trial_f 8.2997e+09 accepted 0  lowest_f 5.93146e+09\n",
      "\u001b[2m\u001b[36m(pid=10508)\u001b[0m basinhopping step 6: f 5.07637e+08 trial_f 9.60129e+08 accepted 0  lowest_f 5.07637e+08\n",
      "\u001b[2m\u001b[36m(pid=10538)\u001b[0m basinhopping step 2: f 2.78918e+11 trial_f 3.12128e+13 accepted 0  lowest_f 2.78918e+11\n",
      "\u001b[2m\u001b[36m(pid=10427)\u001b[0m warning: basinhopping: local minimization failure\n",
      "\u001b[2m\u001b[36m(pid=10427)\u001b[0m basinhopping step 9: f 5.93146e+09 trial_f 8.29665e+09 accepted 0  lowest_f 5.93146e+09\n",
      "\u001b[2m\u001b[36m(pid=10384)\u001b[0m basinhopping step 4: f 2.58413e+09 trial_f 9.55356e+13 accepted 0  lowest_f 2.58413e+09\n",
      "\u001b[2m\u001b[36m(pid=10452)\u001b[0m basinhopping step 6: f 1.6698e+11 trial_f 2.02715e+11 accepted 0  lowest_f 1.6698e+11\n",
      "\u001b[2m\u001b[36m(pid=10538)\u001b[0m warning: basinhopping: local minimization failure\n",
      "\u001b[2m\u001b[36m(pid=10538)\u001b[0m basinhopping step 3: f 2.78918e+11 trial_f 6.25168e+11 accepted 0  lowest_f 2.78918e+11\n",
      "\u001b[2m\u001b[36m(pid=10538)\u001b[0m basinhopping step 4: f 2.78918e+11 trial_f 3.88995e+14 accepted 0  lowest_f 2.78918e+11\n",
      "\u001b[2m\u001b[36m(pid=10384)\u001b[0m basinhopping step 5: f 2.58413e+09 trial_f 8.27628e+13 accepted 0  lowest_f 2.58413e+09\n",
      "\u001b[2m\u001b[36m(pid=10384)\u001b[0m basinhopping step 6: f 2.58413e+09 trial_f 8.15645e+13 accepted 0  lowest_f 2.58413e+09\n",
      "\u001b[2m\u001b[36m(pid=10427)\u001b[0m basinhopping step 10: f 5.93146e+09 trial_f 1.09351e+14 accepted 0  lowest_f 5.93146e+09\n",
      "\u001b[2m\u001b[36m(pid=10427)\u001b[0m basinhopping step 0: f 5.58791e+09\n",
      "\u001b[2m\u001b[36m(pid=10427)\u001b[0m basinhopping step 1: f 5.48751e+09 trial_f 5.48751e+09 accepted 1  lowest_f 5.48751e+09\n",
      "\u001b[2m\u001b[36m(pid=10427)\u001b[0m found new global minimum on step 1 with function value 5.48751e+09\n",
      "\u001b[2m\u001b[36m(pid=10427)\u001b[0m basinhopping step 2: f 5.457e+09 trial_f 5.457e+09 accepted 1  lowest_f 5.457e+09\n",
      "\u001b[2m\u001b[36m(pid=10427)\u001b[0m found new global minimum on step 2 with function value 5.457e+09\n"
     ]
    },
    {
     "name": "stderr",
     "output_type": "stream",
     "text": [
      "2020-10-22 11:49:21,371\tWARNING worker.py:1090 -- WARNING: 10 PYTHON workers have been started. This could be a result of using a large number of actors, or it could be a consequence of using nested tasks (see https://github.com/ray-project/ray/issues/3644) for some a discussion of workarounds.\n"
     ]
    },
    {
     "name": "stdout",
     "output_type": "stream",
     "text": [
      "\u001b[2m\u001b[36m(pid=10538)\u001b[0m basinhopping step 5: f 2.78918e+11 trial_f 2.6855e+15 accepted 0  lowest_f 2.78918e+11\n",
      "\u001b[2m\u001b[36m(pid=10452)\u001b[0m basinhopping step 7: f 1.6698e+11 trial_f 3.83018e+11 accepted 0  lowest_f 1.6698e+11\n",
      "\u001b[2m\u001b[36m(pid=10508)\u001b[0m basinhopping step 7: f 5.07637e+08 trial_f 1.18531e+16 accepted 0  lowest_f 5.07637e+08\n",
      "\u001b[2m\u001b[36m(pid=10384)\u001b[0m basinhopping step 7: f 2.58413e+09 trial_f 4.30483e+10 accepted 0  lowest_f 2.58413e+09\n",
      "\u001b[2m\u001b[36m(pid=10633)\u001b[0m warning: basinhopping: local minimization failure\n",
      "\u001b[2m\u001b[36m(pid=10633)\u001b[0m basinhopping step 0: f 5.3339e+09\n",
      "\u001b[2m\u001b[36m(pid=10452)\u001b[0m basinhopping step 8: f 1.6698e+11 trial_f 4.39093e+13 accepted 0  lowest_f 1.6698e+11\n",
      "\u001b[2m\u001b[36m(pid=10452)\u001b[0m basinhopping step 9: f 1.6698e+11 trial_f 1.7821e+13 accepted 0  lowest_f 1.6698e+11\n",
      "\u001b[2m\u001b[36m(pid=10538)\u001b[0m basinhopping step 6: f 2.78318e+11 trial_f 2.78318e+11 accepted 1  lowest_f 2.78318e+11\n",
      "\u001b[2m\u001b[36m(pid=10538)\u001b[0m found new global minimum on step 6 with function value 2.78318e+11\n",
      "\u001b[2m\u001b[36m(pid=10452)\u001b[0m warning: basinhopping: local minimization failure\n",
      "\u001b[2m\u001b[36m(pid=10452)\u001b[0m basinhopping step 10: f 1.6698e+11 trial_f 2.58339e+11 accepted 0  lowest_f 1.6698e+11\n",
      "\u001b[2m\u001b[36m(pid=10452)\u001b[0m basinhopping step 0: f 1.44419e+11\n",
      "\u001b[2m\u001b[36m(pid=10452)\u001b[0m basinhopping step 1: f 1.44419e+11 trial_f 1.44443e+11 accepted 0  lowest_f 1.44419e+11\n",
      "\u001b[2m\u001b[36m(pid=10452)\u001b[0m basinhopping step 2: f 1.44351e+11 trial_f 1.44351e+11 accepted 1  lowest_f 1.44351e+11\n",
      "\u001b[2m\u001b[36m(pid=10452)\u001b[0m found new global minimum on step 2 with function value 1.44351e+11\n"
     ]
    },
    {
     "name": "stderr",
     "output_type": "stream",
     "text": [
      "2020-10-22 11:49:44,509\tWARNING worker.py:1090 -- WARNING: 10 PYTHON workers have been started. This could be a result of using a large number of actors, or it could be a consequence of using nested tasks (see https://github.com/ray-project/ray/issues/3644) for some a discussion of workarounds.\n"
     ]
    },
    {
     "name": "stdout",
     "output_type": "stream",
     "text": [
      "\u001b[2m\u001b[36m(pid=10633)\u001b[0m basinhopping step 1: f 5.3339e+09 trial_f 1.19274e+13 accepted 0  lowest_f 5.3339e+09\n",
      "\u001b[2m\u001b[36m(pid=10508)\u001b[0m warning: basinhopping: local minimization failure\n",
      "\u001b[2m\u001b[36m(pid=10508)\u001b[0m basinhopping step 8: f 5.07637e+08 trial_f 1.77646e+15 accepted 0  lowest_f 5.07637e+08\n",
      "\u001b[2m\u001b[36m(pid=10384)\u001b[0m basinhopping step 8: f 2.58413e+09 trial_f 1.04406e+13 accepted 0  lowest_f 2.58413e+09\n",
      "\u001b[2m\u001b[36m(pid=10508)\u001b[0m basinhopping step 9: f 5.07637e+08 trial_f 1.0025e+16 accepted 0  lowest_f 5.07637e+08\n",
      "\u001b[2m\u001b[36m(pid=10538)\u001b[0m basinhopping step 7: f 2.75326e+11 trial_f 2.75326e+11 accepted 1  lowest_f 2.75326e+11\n",
      "\u001b[2m\u001b[36m(pid=10538)\u001b[0m found new global minimum on step 7 with function value 2.75326e+11\n",
      "\u001b[2m\u001b[36m(pid=10633)\u001b[0m warning: basinhopping: local minimization failure\n",
      "\u001b[2m\u001b[36m(pid=10633)\u001b[0m basinhopping step 2: f 5.3339e+09 trial_f 7.93185e+09 accepted 0  lowest_f 5.3339e+09\n",
      "\u001b[2m\u001b[36m(pid=10647)\u001b[0m basinhopping step 0: f 1.27476e+11\n",
      "\u001b[2m\u001b[36m(pid=10384)\u001b[0m warning: basinhopping: local minimization failure\n",
      "\u001b[2m\u001b[36m(pid=10384)\u001b[0m basinhopping step 9: f 2.58413e+09 trial_f 1.46132e+12 accepted 0  lowest_f 2.58413e+09\n",
      "\u001b[2m\u001b[36m(pid=10508)\u001b[0m warning: basinhopping: local minimization failure\n",
      "\u001b[2m\u001b[36m(pid=10508)\u001b[0m basinhopping step 10: f 5.07637e+08 trial_f 5.08173e+08 accepted 0  lowest_f 5.07637e+08\n",
      "\u001b[2m\u001b[36m(pid=10508)\u001b[0m basinhopping step 0: f 5.06519e+08\n",
      "\u001b[2m\u001b[36m(pid=10508)\u001b[0m basinhopping step 1: f 5.06519e+08 trial_f 5.06543e+08 accepted 0  lowest_f 5.06519e+08\n",
      "\u001b[2m\u001b[36m(pid=10508)\u001b[0m basinhopping step 2: f 5.06519e+08 trial_f 5.06591e+08 accepted 0  lowest_f 5.06519e+08\n"
     ]
    },
    {
     "name": "stderr",
     "output_type": "stream",
     "text": [
      "2020-10-22 11:50:15,087\tWARNING worker.py:1090 -- WARNING: 10 PYTHON workers have been started. This could be a result of using a large number of actors, or it could be a consequence of using nested tasks (see https://github.com/ray-project/ray/issues/3644) for some a discussion of workarounds.\n"
     ]
    },
    {
     "name": "stdout",
     "output_type": "stream",
     "text": [
      "\u001b[2m\u001b[36m(pid=10633)\u001b[0m basinhopping step 3: f 5.3339e+09 trial_f 6.54421e+12 accepted 0  lowest_f 5.3339e+09\n",
      "\u001b[2m\u001b[36m(pid=10661)\u001b[0m warning: basinhopping: local minimization failure\n",
      "\u001b[2m\u001b[36m(pid=10661)\u001b[0m basinhopping step 0: f 4.00276e+14\n",
      "\u001b[2m\u001b[36m(pid=10647)\u001b[0m basinhopping step 1: f 1.27476e+11 trial_f 1.63411e+14 accepted 0  lowest_f 1.27476e+11\n",
      "\u001b[2m\u001b[36m(pid=10384)\u001b[0m warning: basinhopping: local minimization failure\n",
      "\u001b[2m\u001b[36m(pid=10384)\u001b[0m basinhopping step 10: f 2.58413e+09 trial_f 1.45772e+12 accepted 0  lowest_f 2.58413e+09\n",
      "\u001b[2m\u001b[36m(pid=10384)\u001b[0m basinhopping step 0: f 2.44615e+09\n",
      "\u001b[2m\u001b[36m(pid=10633)\u001b[0m basinhopping step 4: f 5.3339e+09 trial_f 2.17262e+14 accepted 0  lowest_f 5.3339e+09\n",
      "\u001b[2m\u001b[36m(pid=10384)\u001b[0m basinhopping step 1: f 2.33226e+09 trial_f 2.33226e+09 accepted 1  lowest_f 2.33226e+09\n",
      "\u001b[2m\u001b[36m(pid=10384)\u001b[0m found new global minimum on step 1 with function value 2.33226e+09\n",
      "\u001b[2m\u001b[36m(pid=10384)\u001b[0m basinhopping step 2: f 2.33226e+09 trial_f 2.36741e+09 accepted 0  lowest_f 2.33226e+09\n"
     ]
    },
    {
     "name": "stderr",
     "output_type": "stream",
     "text": [
      "2020-10-22 11:50:25,507\tWARNING worker.py:1090 -- WARNING: 10 PYTHON workers have been started. This could be a result of using a large number of actors, or it could be a consequence of using nested tasks (see https://github.com/ray-project/ray/issues/3644) for some a discussion of workarounds.\n"
     ]
    },
    {
     "name": "stdout",
     "output_type": "stream",
     "text": [
      "\u001b[2m\u001b[36m(pid=10691)\u001b[0m warning: basinhopping: local minimization failure\n",
      "\u001b[2m\u001b[36m(pid=10691)\u001b[0m basinhopping step 0: f 1.14027e+12\n",
      "\u001b[2m\u001b[36m(pid=10647)\u001b[0m warning: basinhopping: local minimization failure\n",
      "\u001b[2m\u001b[36m(pid=10647)\u001b[0m basinhopping step 2: f 1.27476e+11 trial_f 3.72873e+11 accepted 0  lowest_f 1.27476e+11\n",
      "\u001b[2m\u001b[36m(pid=10538)\u001b[0m basinhopping step 8: f 8.75141e+10 trial_f 8.75141e+10 accepted 1  lowest_f 8.75141e+10\n",
      "\u001b[2m\u001b[36m(pid=10538)\u001b[0m found new global minimum on step 8 with function value 8.75141e+10\n",
      "\u001b[2m\u001b[36m(pid=10691)\u001b[0m basinhopping step 1: f 1.75363e+11 trial_f 1.75363e+11 accepted 1  lowest_f 1.75363e+11\n",
      "\u001b[2m\u001b[36m(pid=10691)\u001b[0m found new global minimum on step 1 with function value 1.75363e+11\n",
      "\u001b[2m\u001b[36m(pid=10647)\u001b[0m basinhopping step 3: f 1.27476e+11 trial_f 1.26996e+15 accepted 0  lowest_f 1.27476e+11\n",
      "\u001b[2m\u001b[36m(pid=10691)\u001b[0m warning: basinhopping: local minimization failure\n",
      "\u001b[2m\u001b[36m(pid=10691)\u001b[0m basinhopping step 2: f 1.75363e+11 trial_f 1.1405e+12 accepted 0  lowest_f 1.75363e+11\n",
      "\u001b[2m\u001b[36m(pid=10538)\u001b[0m basinhopping step 9: f 8.75141e+10 trial_f 2.81516e+11 accepted 0  lowest_f 8.75141e+10\n",
      "\u001b[2m\u001b[36m(pid=10647)\u001b[0m basinhopping step 4: f 1.27476e+11 trial_f 4.4574e+14 accepted 0  lowest_f 1.27476e+11\n",
      "\u001b[2m\u001b[36m(pid=10691)\u001b[0m basinhopping step 3: f 1.75363e+11 trial_f 7.84103e+11 accepted 0  lowest_f 1.75363e+11\n",
      "\u001b[2m\u001b[36m(pid=10633)\u001b[0m warning: basinhopping: local minimization failure\n",
      "\u001b[2m\u001b[36m(pid=10633)\u001b[0m basinhopping step 5: f 5.3339e+09 trial_f 5.81893e+09 accepted 0  lowest_f 5.3339e+09\n",
      "\u001b[2m\u001b[36m(pid=10691)\u001b[0m basinhopping step 4: f 1.75363e+11 trial_f 1.13985e+12 accepted 0  lowest_f 1.75363e+11\n",
      "\u001b[2m\u001b[36m(pid=10691)\u001b[0m warning: basinhopping: local minimization failure\n",
      "\u001b[2m\u001b[36m(pid=10691)\u001b[0m basinhopping step 5: f 1.75363e+11 trial_f 1.13951e+12 accepted 0  lowest_f 1.75363e+11\n",
      "\u001b[2m\u001b[36m(pid=10633)\u001b[0m warning: basinhopping: local minimization failure\n",
      "\u001b[2m\u001b[36m(pid=10633)\u001b[0m basinhopping step 6: f 5.3339e+09 trial_f 7.63192e+09 accepted 0  lowest_f 5.3339e+09\n",
      "\u001b[2m\u001b[36m(pid=10647)\u001b[0m warning: basinhopping: local minimization failure\n",
      "\u001b[2m\u001b[36m(pid=10647)\u001b[0m basinhopping step 5: f 1.27476e+11 trial_f 4.99686e+11 accepted 0  lowest_f 1.27476e+11\n",
      "\u001b[2m\u001b[36m(pid=10633)\u001b[0m basinhopping step 7: f 5.3339e+09 trial_f 2.09017e+13 accepted 0  lowest_f 5.3339e+09\n",
      "\u001b[2m\u001b[36m(pid=10691)\u001b[0m basinhopping step 6: f 1.75363e+11 trial_f 1.04897e+17 accepted 0  lowest_f 1.75363e+11\n",
      "\u001b[2m\u001b[36m(pid=10647)\u001b[0m basinhopping step 6: f 1.27476e+11 trial_f 1.99321e+11 accepted 0  lowest_f 1.27476e+11\n",
      "\u001b[2m\u001b[36m(pid=10633)\u001b[0m basinhopping step 8: f 5.3339e+09 trial_f 2.76369e+13 accepted 0  lowest_f 5.3339e+09\n",
      "\u001b[2m\u001b[36m(pid=10538)\u001b[0m basinhopping step 10: f 8.75141e+10 trial_f 3.31864e+14 accepted 0  lowest_f 8.75141e+10\n",
      "\u001b[2m\u001b[36m(pid=10538)\u001b[0m basinhopping step 0: f 8.5858e+10\n",
      "\u001b[2m\u001b[36m(pid=10661)\u001b[0m basinhopping step 1: f 4.00276e+14 trial_f 4.20532e+14 accepted 0  lowest_f 4.00276e+14\n",
      "\u001b[2m\u001b[36m(pid=10691)\u001b[0m basinhopping step 7: f 1.75363e+11 trial_f 3.90242e+16 accepted 0  lowest_f 1.75363e+11\n",
      "\u001b[2m\u001b[36m(pid=10647)\u001b[0m warning: basinhopping: local minimization failure\n",
      "\u001b[2m\u001b[36m(pid=10647)\u001b[0m basinhopping step 7: f 1.27476e+11 trial_f 7.93166e+11 accepted 0  lowest_f 1.27476e+11\n",
      "\u001b[2m\u001b[36m(pid=10538)\u001b[0m basinhopping step 1: f 8.5858e+10 trial_f 8.78867e+10 accepted 0  lowest_f 8.5858e+10\n",
      "\u001b[2m\u001b[36m(pid=10538)\u001b[0m basinhopping step 2: f 8.42672e+10 trial_f 8.42672e+10 accepted 1  lowest_f 8.42672e+10\n",
      "\u001b[2m\u001b[36m(pid=10538)\u001b[0m found new global minimum on step 2 with function value 8.42672e+10\n"
     ]
    },
    {
     "name": "stderr",
     "output_type": "stream",
     "text": [
      "2020-10-22 11:51:23,417\tWARNING worker.py:1090 -- WARNING: 10 PYTHON workers have been started. This could be a result of using a large number of actors, or it could be a consequence of using nested tasks (see https://github.com/ray-project/ray/issues/3644) for some a discussion of workarounds.\n"
     ]
    },
    {
     "name": "stdout",
     "output_type": "stream",
     "text": [
      "\u001b[2m\u001b[36m(pid=10850)\u001b[0m warning: basinhopping: local minimization failure\n",
      "\u001b[2m\u001b[36m(pid=10850)\u001b[0m basinhopping step 0: f 3.52918e+11\n",
      "\u001b[2m\u001b[36m(pid=10850)\u001b[0m warning: basinhopping: local minimization failure\n",
      "\u001b[2m\u001b[36m(pid=10850)\u001b[0m basinhopping step 1: f 3.52918e+11 trial_f 8.24288e+11 accepted 0  lowest_f 3.52918e+11\n",
      "\u001b[2m\u001b[36m(pid=10691)\u001b[0m basinhopping step 8: f 1.75363e+11 trial_f 3.86482e+16 accepted 0  lowest_f 1.75363e+11\n",
      "\u001b[2m\u001b[36m(pid=10661)\u001b[0m basinhopping step 2: f 5.85153e+08 trial_f 5.85153e+08 accepted 1  lowest_f 5.85153e+08\n",
      "\u001b[2m\u001b[36m(pid=10661)\u001b[0m found new global minimum on step 2 with function value 5.85153e+08\n",
      "\u001b[2m\u001b[36m(pid=10661)\u001b[0m basinhopping step 3: f 5.85153e+08 trial_f 1.95926e+14 accepted 0  lowest_f 5.85153e+08\n",
      "\u001b[2m\u001b[36m(pid=10647)\u001b[0m basinhopping step 8: f 1.27476e+11 trial_f 2.19641e+14 accepted 0  lowest_f 1.27476e+11\n",
      "\u001b[2m\u001b[36m(pid=10691)\u001b[0m basinhopping step 9: f 1.75363e+11 trial_f 1.13996e+12 accepted 0  lowest_f 1.75363e+11\n",
      "\u001b[2m\u001b[36m(pid=10850)\u001b[0m basinhopping step 2: f 2.66768e+11 trial_f 2.66768e+11 accepted 1  lowest_f 2.66768e+11\n",
      "\u001b[2m\u001b[36m(pid=10850)\u001b[0m found new global minimum on step 2 with function value 2.66768e+11\n",
      "\u001b[2m\u001b[36m(pid=10661)\u001b[0m basinhopping step 4: f 5.85153e+08 trial_f 2.27058e+15 accepted 0  lowest_f 5.85153e+08\n",
      "\u001b[2m\u001b[36m(pid=10691)\u001b[0m basinhopping step 10: f 1.75363e+11 trial_f 1.13758e+12 accepted 0  lowest_f 1.75363e+11\n",
      "\u001b[2m\u001b[36m(pid=10691)\u001b[0m basinhopping step 0: f 1.72195e+11\n",
      "\u001b[2m\u001b[36m(pid=10647)\u001b[0m warning: basinhopping: local minimization failure\n",
      "\u001b[2m\u001b[36m(pid=10647)\u001b[0m basinhopping step 9: f 1.27476e+11 trial_f 3.72873e+11 accepted 0  lowest_f 1.27476e+11\n",
      "\u001b[2m\u001b[36m(pid=10691)\u001b[0m basinhopping step 1: f 1.69595e+11 trial_f 1.69595e+11 accepted 1  lowest_f 1.69595e+11\n",
      "\u001b[2m\u001b[36m(pid=10691)\u001b[0m found new global minimum on step 1 with function value 1.69595e+11\n",
      "\u001b[2m\u001b[36m(pid=10850)\u001b[0m warning: basinhopping: local minimization failure\n",
      "\u001b[2m\u001b[36m(pid=10850)\u001b[0m basinhopping step 3: f 2.66768e+11 trial_f 8.17649e+11 accepted 0  lowest_f 2.66768e+11\n",
      "\u001b[2m\u001b[36m(pid=10691)\u001b[0m basinhopping step 2: f 1.6953e+11 trial_f 1.6953e+11 accepted 1  lowest_f 1.6953e+11\n",
      "\u001b[2m\u001b[36m(pid=10691)\u001b[0m found new global minimum on step 2 with function value 1.6953e+11\n"
     ]
    },
    {
     "name": "stderr",
     "output_type": "stream",
     "text": [
      "2020-10-22 11:52:06,967\tWARNING worker.py:1090 -- WARNING: 10 PYTHON workers have been started. This could be a result of using a large number of actors, or it could be a consequence of using nested tasks (see https://github.com/ray-project/ray/issues/3644) for some a discussion of workarounds.\n"
     ]
    },
    {
     "name": "stdout",
     "output_type": "stream",
     "text": [
      "\u001b[2m\u001b[36m(pid=10661)\u001b[0m basinhopping step 5: f 5.85153e+08 trial_f 2.03614e+15 accepted 0  lowest_f 5.85153e+08\n",
      "\u001b[2m\u001b[36m(pid=10633)\u001b[0m basinhopping step 9: f 5.3339e+09 trial_f 5.87358e+09 accepted 0  lowest_f 5.3339e+09\n",
      "\u001b[2m\u001b[36m(pid=10647)\u001b[0m basinhopping step 10: f 1.27476e+11 trial_f 5.3592e+11 accepted 0  lowest_f 1.27476e+11\n",
      "\u001b[2m\u001b[36m(pid=10647)\u001b[0m basinhopping step 0: f 1.01198e+11\n",
      "\u001b[2m\u001b[36m(pid=10647)\u001b[0m basinhopping step 1: f 1.01198e+11 trial_f 1.21326e+11 accepted 0  lowest_f 1.01198e+11\n",
      "\u001b[2m\u001b[36m(pid=10647)\u001b[0m basinhopping step 2: f 8.59857e+10 trial_f 8.59857e+10 accepted 1  lowest_f 8.59857e+10\n",
      "\u001b[2m\u001b[36m(pid=10647)\u001b[0m found new global minimum on step 2 with function value 8.59857e+10\n"
     ]
    },
    {
     "name": "stderr",
     "output_type": "stream",
     "text": [
      "2020-10-22 11:52:17,583\tWARNING worker.py:1090 -- WARNING: 10 PYTHON workers have been started. This could be a result of using a large number of actors, or it could be a consequence of using nested tasks (see https://github.com/ray-project/ray/issues/3644) for some a discussion of workarounds.\n"
     ]
    },
    {
     "name": "stdout",
     "output_type": "stream",
     "text": [
      "\u001b[2m\u001b[36m(pid=10850)\u001b[0m basinhopping step 4: f 2.66768e+11 trial_f 8.1809e+11 accepted 0  lowest_f 2.66768e+11\n",
      "\u001b[2m\u001b[36m(pid=10891)\u001b[0m basinhopping step 0: f 3.11245e+12\n",
      "\u001b[2m\u001b[36m(pid=10907)\u001b[0m basinhopping step 0: f 4.37662e+14\n",
      "\u001b[2m\u001b[36m(pid=10633)\u001b[0m basinhopping step 10: f 5.3339e+09 trial_f 1.61464e+14 accepted 0  lowest_f 5.3339e+09\n",
      "\u001b[2m\u001b[36m(pid=10633)\u001b[0m basinhopping step 0: f 6.69584e+09\n",
      "\u001b[2m\u001b[36m(pid=10633)\u001b[0m basinhopping step 1: f 6.69584e+09 trial_f 6.69584e+09 accepted 1  lowest_f 6.69584e+09\n",
      "\u001b[2m\u001b[36m(pid=10633)\u001b[0m basinhopping step 2: f 6.69584e+09 trial_f 6.69584e+09 accepted 1  lowest_f 6.69584e+09\n"
     ]
    },
    {
     "name": "stderr",
     "output_type": "stream",
     "text": [
      "2020-10-22 11:52:38,289\tWARNING worker.py:1090 -- WARNING: 10 PYTHON workers have been started. This could be a result of using a large number of actors, or it could be a consequence of using nested tasks (see https://github.com/ray-project/ray/issues/3644) for some a discussion of workarounds.\n"
     ]
    },
    {
     "name": "stdout",
     "output_type": "stream",
     "text": [
      "\u001b[2m\u001b[36m(pid=10891)\u001b[0m basinhopping step 1: f 3.11245e+12 trial_f 3.11245e+12 accepted 1  lowest_f 3.11245e+12\n",
      "\u001b[2m\u001b[36m(pid=10891)\u001b[0m found new global minimum on step 1 with function value 3.11245e+12\n",
      "\u001b[2m\u001b[36m(pid=10933)\u001b[0m basinhopping step 0: f 1.07185e+10\n",
      "\u001b[2m\u001b[36m(pid=10850)\u001b[0m basinhopping step 5: f 2.66768e+11 trial_f 4.7388e+11 accepted 0  lowest_f 2.66768e+11\n",
      "\u001b[2m\u001b[36m(pid=10907)\u001b[0m warning: basinhopping: local minimization failure\n",
      "\u001b[2m\u001b[36m(pid=10907)\u001b[0m basinhopping step 1: f 1.22261e+14 trial_f 1.22261e+14 accepted 1  lowest_f 1.22261e+14\n",
      "\u001b[2m\u001b[36m(pid=10907)\u001b[0m found new global minimum on step 1 with function value 1.22261e+14\n",
      "\u001b[2m\u001b[36m(pid=10850)\u001b[0m basinhopping step 6: f 2.66768e+11 trial_f 6.70247e+11 accepted 0  lowest_f 2.66768e+11\n",
      "\u001b[2m\u001b[36m(pid=10891)\u001b[0m basinhopping step 2: f 3.11245e+12 trial_f 4.17727e+15 accepted 0  lowest_f 3.11245e+12\n",
      "\u001b[2m\u001b[36m(pid=10661)\u001b[0m basinhopping step 6: f 5.85153e+08 trial_f 1.53456e+15 accepted 0  lowest_f 5.85153e+08\n",
      "\u001b[2m\u001b[36m(pid=10933)\u001b[0m basinhopping step 1: f 1.07185e+10 trial_f 1.13506e+10 accepted 0  lowest_f 1.07185e+10\n",
      "\u001b[2m\u001b[36m(pid=10850)\u001b[0m warning: basinhopping: local minimization failure\n",
      "\u001b[2m\u001b[36m(pid=10850)\u001b[0m basinhopping step 7: f 2.66768e+11 trial_f 4.44392e+12 accepted 0  lowest_f 2.66768e+11\n",
      "\u001b[2m\u001b[36m(pid=10891)\u001b[0m basinhopping step 3: f 3.11245e+12 trial_f 3.11245e+12 accepted 1  lowest_f 3.11245e+12\n",
      "\u001b[2m\u001b[36m(pid=10933)\u001b[0m warning: basinhopping: local minimization failure\n",
      "\u001b[2m\u001b[36m(pid=10933)\u001b[0m basinhopping step 2: f 1.07185e+10 trial_f 1.15846e+10 accepted 0  lowest_f 1.07185e+10\n",
      "\u001b[2m\u001b[36m(pid=10661)\u001b[0m basinhopping step 7: f 5.85153e+08 trial_f 2.2657e+15 accepted 0  lowest_f 5.85153e+08\n",
      "\u001b[2m\u001b[36m(pid=10850)\u001b[0m basinhopping step 8: f 2.66768e+11 trial_f 4.78356e+15 accepted 0  lowest_f 2.66768e+11\n",
      "\u001b[2m\u001b[36m(pid=10907)\u001b[0m warning: basinhopping: local minimization failure\n",
      "\u001b[2m\u001b[36m(pid=10907)\u001b[0m basinhopping step 2: f 1.94033e+12 trial_f 1.94033e+12 accepted 1  lowest_f 1.94033e+12\n",
      "\u001b[2m\u001b[36m(pid=10907)\u001b[0m found new global minimum on step 2 with function value 1.94033e+12\n",
      "\u001b[2m\u001b[36m(pid=10661)\u001b[0m basinhopping step 8: f 5.83876e+08 trial_f 5.83876e+08 accepted 1  lowest_f 5.83876e+08\n",
      "\u001b[2m\u001b[36m(pid=10661)\u001b[0m found new global minimum on step 8 with function value 5.83876e+08\n",
      "\u001b[2m\u001b[36m(pid=10850)\u001b[0m basinhopping step 9: f 2.66768e+11 trial_f 1.25659e+16 accepted 0  lowest_f 2.66768e+11\n",
      "\u001b[2m\u001b[36m(pid=10907)\u001b[0m warning: basinhopping: local minimization failure\n",
      "\u001b[2m\u001b[36m(pid=10907)\u001b[0m basinhopping step 3: f 1.9354e+12 trial_f 1.9354e+12 accepted 1  lowest_f 1.9354e+12\n",
      "\u001b[2m\u001b[36m(pid=10907)\u001b[0m found new global minimum on step 3 with function value 1.9354e+12\n",
      "\u001b[2m\u001b[36m(pid=10933)\u001b[0m basinhopping step 3: f 1.07185e+10 trial_f 1.45648e+13 accepted 0  lowest_f 1.07185e+10\n",
      "\u001b[2m\u001b[36m(pid=10891)\u001b[0m basinhopping step 4: f 3.11245e+12 trial_f 3.11245e+12 accepted 1  lowest_f 3.11245e+12\n",
      "\u001b[2m\u001b[36m(pid=10850)\u001b[0m basinhopping step 10: f 2.66768e+11 trial_f 4.02504e+14 accepted 0  lowest_f 2.66768e+11\n",
      "\u001b[2m\u001b[36m(pid=10850)\u001b[0m basinhopping step 0: f 2.57265e+11\n",
      "\u001b[2m\u001b[36m(pid=10850)\u001b[0m basinhopping step 1: f 2.57265e+11 trial_f 2.58907e+11 accepted 0  lowest_f 2.57265e+11\n",
      "\u001b[2m\u001b[36m(pid=10850)\u001b[0m basinhopping step 2: f 2.57265e+11 trial_f 2.57589e+11 accepted 0  lowest_f 2.57265e+11\n"
     ]
    },
    {
     "name": "stderr",
     "output_type": "stream",
     "text": [
      "2020-10-22 11:53:32,881\tWARNING worker.py:1090 -- WARNING: 10 PYTHON workers have been started. This could be a result of using a large number of actors, or it could be a consequence of using nested tasks (see https://github.com/ray-project/ray/issues/3644) for some a discussion of workarounds.\n"
     ]
    },
    {
     "name": "stdout",
     "output_type": "stream",
     "text": [
      "\u001b[2m\u001b[36m(pid=11041)\u001b[0m warning: basinhopping: local minimization failure\n",
      "\u001b[2m\u001b[36m(pid=11041)\u001b[0m basinhopping step 0: f 2.76378e+11\n",
      "\u001b[2m\u001b[36m(pid=10661)\u001b[0m basinhopping step 9: f 5.83876e+08 trial_f 1.95356e+15 accepted 0  lowest_f 5.83876e+08\n",
      "\u001b[2m\u001b[36m(pid=11041)\u001b[0m basinhopping step 1: f 2.07235e+11 trial_f 2.07235e+11 accepted 1  lowest_f 2.07235e+11\n",
      "\u001b[2m\u001b[36m(pid=11041)\u001b[0m found new global minimum on step 1 with function value 2.07235e+11\n",
      "\u001b[2m\u001b[36m(pid=11041)\u001b[0m basinhopping step 2: f 2.07235e+11 trial_f 2.58695e+15 accepted 0  lowest_f 2.07235e+11\n",
      "\u001b[2m\u001b[36m(pid=10907)\u001b[0m basinhopping step 4: f 1.9354e+12 trial_f 1.22261e+14 accepted 0  lowest_f 1.9354e+12\n",
      "\u001b[2m\u001b[36m(pid=11041)\u001b[0m warning: basinhopping: local minimization failure\n",
      "\u001b[2m\u001b[36m(pid=11041)\u001b[0m basinhopping step 3: f 2.07235e+11 trial_f 2.50155e+15 accepted 0  lowest_f 2.07235e+11\n",
      "\u001b[2m\u001b[36m(pid=10907)\u001b[0m basinhopping step 5: f 1.9354e+12 trial_f 1.63306e+15 accepted 0  lowest_f 1.9354e+12\n",
      "\u001b[2m\u001b[36m(pid=10661)\u001b[0m warning: basinhopping: local minimization failure\n",
      "\u001b[2m\u001b[36m(pid=10661)\u001b[0m basinhopping step 10: f 5.03625e+08 trial_f 5.03625e+08 accepted 1  lowest_f 5.03625e+08\n",
      "\u001b[2m\u001b[36m(pid=10661)\u001b[0m found new global minimum on step 10 with function value 5.03625e+08\n",
      "\u001b[2m\u001b[36m(pid=10661)\u001b[0m basinhopping step 0: f 5.77187e+08\n",
      "\u001b[2m\u001b[36m(pid=10661)\u001b[0m basinhopping step 1: f 5.77187e+08 trial_f 5.77187e+08 accepted 1  lowest_f 5.77187e+08\n",
      "\u001b[2m\u001b[36m(pid=10661)\u001b[0m basinhopping step 2: f 5.77187e+08 trial_f 5.77187e+08 accepted 1  lowest_f 5.77187e+08\n"
     ]
    },
    {
     "name": "stderr",
     "output_type": "stream",
     "text": [
      "2020-10-22 11:53:59,776\tWARNING worker.py:1090 -- WARNING: 10 PYTHON workers have been started. This could be a result of using a large number of actors, or it could be a consequence of using nested tasks (see https://github.com/ray-project/ray/issues/3644) for some a discussion of workarounds.\n"
     ]
    },
    {
     "name": "stdout",
     "output_type": "stream",
     "text": [
      "\u001b[2m\u001b[36m(pid=11041)\u001b[0m warning: basinhopping: local minimization failure\n",
      "\u001b[2m\u001b[36m(pid=11041)\u001b[0m basinhopping step 4: f 2.07235e+11 trial_f 2.76432e+11 accepted 0  lowest_f 2.07235e+11\n",
      "\u001b[2m\u001b[36m(pid=11068)\u001b[0m basinhopping step 0: f 5.00839e+15\n",
      "\u001b[2m\u001b[36m(pid=10933)\u001b[0m basinhopping step 4: f 1.07185e+10 trial_f 1.15061e+10 accepted 0  lowest_f 1.07185e+10\n",
      "\u001b[2m\u001b[36m(pid=10891)\u001b[0m basinhopping step 5: f 3.11245e+12 trial_f 3.11253e+12 accepted 0  lowest_f 3.11245e+12\n",
      "\u001b[2m\u001b[36m(pid=10891)\u001b[0m basinhopping step 6: f 3.11245e+12 trial_f 2.95539e+15 accepted 0  lowest_f 3.11245e+12\n",
      "\u001b[2m\u001b[36m(pid=11041)\u001b[0m basinhopping step 5: f 1.7588e+11 trial_f 1.7588e+11 accepted 1  lowest_f 1.7588e+11\n",
      "\u001b[2m\u001b[36m(pid=11041)\u001b[0m found new global minimum on step 5 with function value 1.7588e+11\n",
      "\u001b[2m\u001b[36m(pid=11068)\u001b[0m basinhopping step 1: f 5.00839e+15 trial_f 5.40374e+16 accepted 0  lowest_f 5.00839e+15\n",
      "\u001b[2m\u001b[36m(pid=10907)\u001b[0m warning: basinhopping: local minimization failure\n",
      "\u001b[2m\u001b[36m(pid=10907)\u001b[0m basinhopping step 6: f 1.9354e+12 trial_f 1.94033e+12 accepted 0  lowest_f 1.9354e+12\n",
      "\u001b[2m\u001b[36m(pid=11041)\u001b[0m basinhopping step 6: f 1.7588e+11 trial_f 2.9027e+15 accepted 0  lowest_f 1.7588e+11\n",
      "\u001b[2m\u001b[36m(pid=10891)\u001b[0m basinhopping step 7: f 3.11245e+12 trial_f 1.54388e+16 accepted 0  lowest_f 3.11245e+12\n",
      "\u001b[2m\u001b[36m(pid=10907)\u001b[0m basinhopping step 7: f 1.76437e+12 trial_f 1.76437e+12 accepted 1  lowest_f 1.76437e+12\n",
      "\u001b[2m\u001b[36m(pid=10907)\u001b[0m found new global minimum on step 7 with function value 1.76437e+12\n",
      "\u001b[2m\u001b[36m(pid=11041)\u001b[0m basinhopping step 7: f 8.19189e+10 trial_f 8.19189e+10 accepted 1  lowest_f 8.19189e+10\n",
      "\u001b[2m\u001b[36m(pid=11041)\u001b[0m found new global minimum on step 7 with function value 8.19189e+10\n",
      "\u001b[2m\u001b[36m(pid=11068)\u001b[0m basinhopping step 2: f 4.38701e+15 trial_f 4.38701e+15 accepted 1  lowest_f 4.38701e+15\n",
      "\u001b[2m\u001b[36m(pid=11068)\u001b[0m found new global minimum on step 2 with function value 4.38701e+15\n",
      "\u001b[2m\u001b[36m(pid=11068)\u001b[0m basinhopping step 3: f 4.38701e+15 trial_f 5.8632e+16 accepted 0  lowest_f 4.38701e+15\n",
      "\u001b[2m\u001b[36m(pid=10891)\u001b[0m basinhopping step 8: f 3.11245e+12 trial_f 3.11245e+12 accepted 1  lowest_f 3.11245e+12\n",
      "\u001b[2m\u001b[36m(pid=11068)\u001b[0m warning: basinhopping: local minimization failure\n",
      "\u001b[2m\u001b[36m(pid=11068)\u001b[0m basinhopping step 4: f 2.34784e+09 trial_f 2.34784e+09 accepted 1  lowest_f 2.34784e+09\n",
      "\u001b[2m\u001b[36m(pid=11068)\u001b[0m found new global minimum on step 4 with function value 2.34784e+09\n",
      "\u001b[2m\u001b[36m(pid=11041)\u001b[0m basinhopping step 8: f 8.19189e+10 trial_f 6.30943e+15 accepted 0  lowest_f 8.19189e+10\n",
      "\u001b[2m\u001b[36m(pid=10907)\u001b[0m basinhopping step 8: f 1.76437e+12 trial_f 2.47875e+14 accepted 0  lowest_f 1.76437e+12\n",
      "\u001b[2m\u001b[36m(pid=10891)\u001b[0m basinhopping step 9: f 3.11245e+12 trial_f 3.11245e+12 accepted 1  lowest_f 3.11245e+12\n",
      "\u001b[2m\u001b[36m(pid=10907)\u001b[0m basinhopping step 9: f 1.76437e+12 trial_f 2.17667e+15 accepted 0  lowest_f 1.76437e+12\n",
      "\u001b[2m\u001b[36m(pid=10933)\u001b[0m basinhopping step 5: f 6.12435e+09 trial_f 6.12435e+09 accepted 1  lowest_f 6.12435e+09\n",
      "\u001b[2m\u001b[36m(pid=10933)\u001b[0m found new global minimum on step 5 with function value 6.12435e+09\n",
      "\u001b[2m\u001b[36m(pid=11068)\u001b[0m warning: basinhopping: local minimization failure\n",
      "\u001b[2m\u001b[36m(pid=11068)\u001b[0m basinhopping step 5: f 2.34016e+09 trial_f 2.34016e+09 accepted 1  lowest_f 2.34016e+09\n",
      "\u001b[2m\u001b[36m(pid=11068)\u001b[0m found new global minimum on step 5 with function value 2.34016e+09\n",
      "\u001b[2m\u001b[36m(pid=11041)\u001b[0m basinhopping step 9: f 8.19189e+10 trial_f 2.07235e+11 accepted 0  lowest_f 8.19189e+10\n",
      "\u001b[2m\u001b[36m(pid=10891)\u001b[0m basinhopping step 10: f 3.11245e+12 trial_f 3.11253e+12 accepted 0  lowest_f 3.11245e+12\n",
      "\u001b[2m\u001b[36m(pid=10933)\u001b[0m warning: basinhopping: local minimization failure\n",
      "\u001b[2m\u001b[36m(pid=10933)\u001b[0m basinhopping step 6: f 6.12435e+09 trial_f 4.96943e+10 accepted 0  lowest_f 6.12435e+09\n",
      "\u001b[2m\u001b[36m(pid=10891)\u001b[0m basinhopping step 0: f 3.11187e+12\n",
      "\u001b[2m\u001b[36m(pid=10891)\u001b[0m basinhopping step 1: f 3.11187e+12 trial_f 3.11187e+12 accepted 1  lowest_f 3.11187e+12\n",
      "\u001b[2m\u001b[36m(pid=10891)\u001b[0m basinhopping step 2: f 3.11187e+12 trial_f 3.11187e+12 accepted 1  lowest_f 3.11187e+12\n",
      "\u001b[2m\u001b[36m(pid=10907)\u001b[0m warning: basinhopping: local minimization failure\n",
      "\u001b[2m\u001b[36m(pid=10907)\u001b[0m basinhopping step 10: f 1.5977e+12 trial_f 1.5977e+12 accepted 1  lowest_f 1.5977e+12\n",
      "\u001b[2m\u001b[36m(pid=10907)\u001b[0m found new global minimum on step 10 with function value 1.5977e+12\n",
      "\u001b[2m\u001b[36m(pid=10907)\u001b[0m basinhopping step 0: f 1.93474e+12\n",
      "\u001b[2m\u001b[36m(pid=10907)\u001b[0m basinhopping step 1: f 1.93474e+12 trial_f 1.93474e+12 accepted 1  lowest_f 1.93474e+12\n"
     ]
    },
    {
     "name": "stderr",
     "output_type": "stream",
     "text": [
      "2020-10-22 11:55:20,660\tWARNING worker.py:1090 -- WARNING: 10 PYTHON workers have been started. This could be a result of using a large number of actors, or it could be a consequence of using nested tasks (see https://github.com/ray-project/ray/issues/3644) for some a discussion of workarounds.\n"
     ]
    },
    {
     "name": "stdout",
     "output_type": "stream",
     "text": [
      "\u001b[2m\u001b[36m(pid=10907)\u001b[0m basinhopping step 2: f 1.93474e+12 trial_f 1.93474e+12 accepted 1  lowest_f 1.93474e+12\n"
     ]
    },
    {
     "name": "stderr",
     "output_type": "stream",
     "text": [
      "2020-10-22 11:55:21,097\tWARNING worker.py:1090 -- WARNING: 10 PYTHON workers have been started. This could be a result of using a large number of actors, or it could be a consequence of using nested tasks (see https://github.com/ray-project/ray/issues/3644) for some a discussion of workarounds.\n"
     ]
    },
    {
     "name": "stdout",
     "output_type": "stream",
     "text": [
      "\u001b[2m\u001b[36m(pid=10933)\u001b[0m basinhopping step 7: f 6.12435e+09 trial_f 1.14883e+10 accepted 0  lowest_f 6.12435e+09\n",
      "\u001b[2m\u001b[36m(pid=11139)\u001b[0m warning: basinhopping: local minimization failure\n",
      "\u001b[2m\u001b[36m(pid=11139)\u001b[0m basinhopping step 0: f 1.52127e+12\n",
      "\u001b[2m\u001b[36m(pid=10933)\u001b[0m basinhopping step 8: f 6.12435e+09 trial_f 1.02332e+13 accepted 0  lowest_f 6.12435e+09\n",
      "\u001b[2m\u001b[36m(pid=11068)\u001b[0m warning: basinhopping: local minimization failure\n",
      "\u001b[2m\u001b[36m(pid=11068)\u001b[0m basinhopping step 6: f 2.34016e+09 trial_f 2.34784e+09 accepted 0  lowest_f 2.34016e+09\n",
      "\u001b[2m\u001b[36m(pid=11139)\u001b[0m basinhopping step 1: f 1.52127e+12 trial_f 7.39131e+13 accepted 0  lowest_f 1.52127e+12\n",
      "\u001b[2m\u001b[36m(pid=11130)\u001b[0m warning: basinhopping: local minimization failure\n",
      "\u001b[2m\u001b[36m(pid=11130)\u001b[0m basinhopping step 0: f 2.20126e+12\n",
      "\u001b[2m\u001b[36m(pid=11041)\u001b[0m basinhopping step 10: f 8.19189e+10 trial_f 2.52517e+15 accepted 0  lowest_f 8.19189e+10\n",
      "\u001b[2m\u001b[36m(pid=11041)\u001b[0m basinhopping step 0: f 7.41842e+10\n",
      "\u001b[2m\u001b[36m(pid=11068)\u001b[0m warning: basinhopping: local minimization failure\n",
      "\u001b[2m\u001b[36m(pid=11068)\u001b[0m basinhopping step 7: f 1.37875e+09 trial_f 1.37875e+09 accepted 1  lowest_f 1.37875e+09\n",
      "\u001b[2m\u001b[36m(pid=11068)\u001b[0m found new global minimum on step 7 with function value 1.37875e+09\n",
      "\u001b[2m\u001b[36m(pid=11041)\u001b[0m basinhopping step 1: f 7.4093e+10 trial_f 7.4093e+10 accepted 1  lowest_f 7.4093e+10\n",
      "\u001b[2m\u001b[36m(pid=11041)\u001b[0m found new global minimum on step 1 with function value 7.4093e+10\n",
      "\u001b[2m\u001b[36m(pid=11041)\u001b[0m basinhopping step 2: f 7.40102e+10 trial_f 7.40102e+10 accepted 1  lowest_f 7.40102e+10\n",
      "\u001b[2m\u001b[36m(pid=11041)\u001b[0m found new global minimum on step 2 with function value 7.40102e+10\n"
     ]
    },
    {
     "name": "stderr",
     "output_type": "stream",
     "text": [
      "2020-10-22 11:55:45,116\tWARNING worker.py:1090 -- WARNING: 10 PYTHON workers have been started. This could be a result of using a large number of actors, or it could be a consequence of using nested tasks (see https://github.com/ray-project/ray/issues/3644) for some a discussion of workarounds.\n"
     ]
    },
    {
     "name": "stdout",
     "output_type": "stream",
     "text": [
      "\u001b[2m\u001b[36m(pid=10933)\u001b[0m basinhopping step 9: f 6.12435e+09 trial_f 1.41683e+13 accepted 0  lowest_f 6.12435e+09\n",
      "\u001b[2m\u001b[36m(pid=11139)\u001b[0m basinhopping step 2: f 1.52127e+12 trial_f 1.48804e+14 accepted 0  lowest_f 1.52127e+12\n",
      "\u001b[2m\u001b[36m(pid=11171)\u001b[0m warning: basinhopping: local minimization failure\n",
      "\u001b[2m\u001b[36m(pid=11171)\u001b[0m basinhopping step 0: f 2.58641e+13\n",
      "\u001b[2m\u001b[36m(pid=11171)\u001b[0m basinhopping step 1: f 2.58641e+13 trial_f 1.44445e+14 accepted 0  lowest_f 2.58641e+13\n",
      "\u001b[2m\u001b[36m(pid=11130)\u001b[0m basinhopping step 1: f 2.20126e+12 trial_f 1.40515e+17 accepted 0  lowest_f 2.20126e+12\n",
      "\u001b[2m\u001b[36m(pid=11068)\u001b[0m basinhopping step 8: f 1.37875e+09 trial_f 4.42351e+16 accepted 0  lowest_f 1.37875e+09\n",
      "\u001b[2m\u001b[36m(pid=11171)\u001b[0m warning: basinhopping: local minimization failure\n",
      "\u001b[2m\u001b[36m(pid=11171)\u001b[0m basinhopping step 2: f 9.16183e+12 trial_f 9.16183e+12 accepted 1  lowest_f 9.16183e+12\n",
      "\u001b[2m\u001b[36m(pid=11171)\u001b[0m found new global minimum on step 2 with function value 9.16183e+12\n",
      "\u001b[2m\u001b[36m(pid=11130)\u001b[0m basinhopping step 2: f 2.20126e+12 trial_f 1.80366e+17 accepted 0  lowest_f 2.20126e+12\n",
      "\u001b[2m\u001b[36m(pid=11130)\u001b[0m warning: basinhopping: local minimization failure\n",
      "\u001b[2m\u001b[36m(pid=11130)\u001b[0m basinhopping step 3: f 2.20126e+12 trial_f 2.20126e+12 accepted 1  lowest_f 2.20126e+12\n",
      "\u001b[2m\u001b[36m(pid=11171)\u001b[0m basinhopping step 3: f 9.16183e+12 trial_f 2.30742e+15 accepted 0  lowest_f 9.16183e+12\n",
      "\u001b[2m\u001b[36m(pid=11139)\u001b[0m basinhopping step 3: f 1.52127e+12 trial_f 1.34109e+15 accepted 0  lowest_f 1.52127e+12\n",
      "\u001b[2m\u001b[36m(pid=11139)\u001b[0m basinhopping step 4: f 1.43354e+12 trial_f 1.43354e+12 accepted 1  lowest_f 1.43354e+12\n",
      "\u001b[2m\u001b[36m(pid=11139)\u001b[0m found new global minimum on step 4 with function value 1.43354e+12\n",
      "\u001b[2m\u001b[36m(pid=11130)\u001b[0m warning: basinhopping: local minimization failure\n",
      "\u001b[2m\u001b[36m(pid=11130)\u001b[0m basinhopping step 4: f 2.20126e+12 trial_f 2.20126e+12 accepted 1  lowest_f 2.20126e+12\n",
      "\u001b[2m\u001b[36m(pid=11068)\u001b[0m basinhopping step 9: f 1.37875e+09 trial_f 2.34597e+09 accepted 0  lowest_f 1.37875e+09\n",
      "\u001b[2m\u001b[36m(pid=11171)\u001b[0m basinhopping step 4: f 4.74284e+11 trial_f 4.74284e+11 accepted 1  lowest_f 4.74284e+11\n",
      "\u001b[2m\u001b[36m(pid=11171)\u001b[0m found new global minimum on step 4 with function value 4.74284e+11\n",
      "\u001b[2m\u001b[36m(pid=11130)\u001b[0m basinhopping step 5: f 3.40351e+11 trial_f 3.40351e+11 accepted 1  lowest_f 3.40351e+11\n",
      "\u001b[2m\u001b[36m(pid=11130)\u001b[0m found new global minimum on step 5 with function value 3.40351e+11\n",
      "\u001b[2m\u001b[36m(pid=10933)\u001b[0m basinhopping step 10: f 1.32965e+09 trial_f 1.32965e+09 accepted 1  lowest_f 1.32965e+09\n",
      "\u001b[2m\u001b[36m(pid=10933)\u001b[0m found new global minimum on step 10 with function value 1.32965e+09\n",
      "\u001b[2m\u001b[36m(pid=10933)\u001b[0m basinhopping step 0: f 1.17049e+09\n",
      "\u001b[2m\u001b[36m(pid=10933)\u001b[0m basinhopping step 1: f 1.10812e+09 trial_f 1.10812e+09 accepted 1  lowest_f 1.10812e+09\n",
      "\u001b[2m\u001b[36m(pid=10933)\u001b[0m found new global minimum on step 1 with function value 1.10812e+09\n",
      "\u001b[2m\u001b[36m(pid=10933)\u001b[0m basinhopping step 2: f 9.55695e+08 trial_f 9.55695e+08 accepted 1  lowest_f 9.55695e+08\n",
      "\u001b[2m\u001b[36m(pid=10933)\u001b[0m found new global minimum on step 2 with function value 9.55695e+08\n",
      "\u001b[2m\u001b[36m(pid=11171)\u001b[0m basinhopping step 5: f 4.74284e+11 trial_f 6.69823e+11 accepted 0  lowest_f 4.74284e+11\n"
     ]
    },
    {
     "name": "stderr",
     "output_type": "stream",
     "text": [
      "2020-10-22 11:56:49,424\tWARNING worker.py:1090 -- WARNING: 10 PYTHON workers have been started. This could be a result of using a large number of actors, or it could be a consequence of using nested tasks (see https://github.com/ray-project/ray/issues/3644) for some a discussion of workarounds.\n"
     ]
    },
    {
     "name": "stdout",
     "output_type": "stream",
     "text": [
      "\u001b[2m\u001b[36m(pid=11253)\u001b[0m warning: basinhopping: local minimization failure\n",
      "\u001b[2m\u001b[36m(pid=11253)\u001b[0m basinhopping step 0: f 5.78994e+09\n",
      "\u001b[2m\u001b[36m(pid=11171)\u001b[0m basinhopping step 6: f 4.74284e+11 trial_f 1.10048e+15 accepted 0  lowest_f 4.74284e+11\n",
      "\u001b[2m\u001b[36m(pid=11068)\u001b[0m basinhopping step 10: f 1.37875e+09 trial_f 4.41272e+16 accepted 0  lowest_f 1.37875e+09\n",
      "\u001b[2m\u001b[36m(pid=11068)\u001b[0m basinhopping step 0: f 1.80514e+09\n",
      "\u001b[2m\u001b[36m(pid=11068)\u001b[0m basinhopping step 1: f 1.80514e+09 trial_f 1.80514e+09 accepted 1  lowest_f 1.80514e+09\n",
      "\u001b[2m\u001b[36m(pid=11068)\u001b[0m basinhopping step 2: f 1.80514e+09 trial_f 1.80514e+09 accepted 1  lowest_f 1.80514e+09\n"
     ]
    },
    {
     "name": "stderr",
     "output_type": "stream",
     "text": [
      "2020-10-22 11:57:03,834\tWARNING worker.py:1090 -- WARNING: 10 PYTHON workers have been started. This could be a result of using a large number of actors, or it could be a consequence of using nested tasks (see https://github.com/ray-project/ray/issues/3644) for some a discussion of workarounds.\n"
     ]
    },
    {
     "name": "stdout",
     "output_type": "stream",
     "text": [
      "\u001b[2m\u001b[36m(pid=11253)\u001b[0m warning: basinhopping: local minimization failure\n",
      "\u001b[2m\u001b[36m(pid=11253)\u001b[0m basinhopping step 1: f 2.78782e+09 trial_f 2.78782e+09 accepted 1  lowest_f 2.78782e+09\n",
      "\u001b[2m\u001b[36m(pid=11253)\u001b[0m found new global minimum on step 1 with function value 2.78782e+09\n",
      "\u001b[2m\u001b[36m(pid=11130)\u001b[0m warning: basinhopping: local minimization failure\n",
      "\u001b[2m\u001b[36m(pid=11130)\u001b[0m basinhopping step 6: f 3.40351e+11 trial_f 2.20126e+12 accepted 0  lowest_f 3.40351e+11\n",
      "\u001b[2m\u001b[36m(pid=11253)\u001b[0m basinhopping step 2: f 2.78782e+09 trial_f 8.88837e+13 accepted 0  lowest_f 2.78782e+09\n",
      "\u001b[2m\u001b[36m(pid=11171)\u001b[0m basinhopping step 7: f 4.74284e+11 trial_f 2.27294e+15 accepted 0  lowest_f 4.74284e+11\n",
      "\u001b[2m\u001b[36m(pid=11171)\u001b[0m warning: basinhopping: local minimization failure\n",
      "\u001b[2m\u001b[36m(pid=11171)\u001b[0m basinhopping step 8: f 4.74284e+11 trial_f 6.69693e+11 accepted 0  lowest_f 4.74284e+11\n",
      "\u001b[2m\u001b[36m(pid=11139)\u001b[0m basinhopping step 5: f 1.43354e+12 trial_f 7.37846e+13 accepted 0  lowest_f 1.43354e+12\n",
      "\u001b[2m\u001b[36m(pid=11253)\u001b[0m basinhopping step 3: f 2.78782e+09 trial_f 1.41332e+13 accepted 0  lowest_f 2.78782e+09\n",
      "\u001b[2m\u001b[36m(pid=11171)\u001b[0m warning: basinhopping: local minimization failure\n",
      "\u001b[2m\u001b[36m(pid=11171)\u001b[0m basinhopping step 9: f 3.20451e+11 trial_f 3.20451e+11 accepted 1  lowest_f 3.20451e+11\n",
      "\u001b[2m\u001b[36m(pid=11171)\u001b[0m found new global minimum on step 9 with function value 3.20451e+11\n",
      "\u001b[2m\u001b[36m(pid=11130)\u001b[0m basinhopping step 7: f 3.40351e+11 trial_f 1.72801e+17 accepted 0  lowest_f 3.40351e+11\n",
      "\u001b[2m\u001b[36m(pid=11253)\u001b[0m basinhopping step 4: f 2.78782e+09 trial_f 5.59193e+09 accepted 0  lowest_f 2.78782e+09\n",
      "\u001b[2m\u001b[36m(pid=11279)\u001b[0m basinhopping step 0: f 4.48562e+15\n",
      "\u001b[2m\u001b[36m(pid=11130)\u001b[0m basinhopping step 8: f 3.40351e+11 trial_f 7.556e+16 accepted 0  lowest_f 3.40351e+11\n",
      "\u001b[2m\u001b[36m(pid=11253)\u001b[0m basinhopping step 5: f 9.39224e+07 trial_f 9.39224e+07 accepted 1  lowest_f 9.39224e+07\n",
      "\u001b[2m\u001b[36m(pid=11253)\u001b[0m found new global minimum on step 5 with function value 9.39224e+07\n",
      "\u001b[2m\u001b[36m(pid=11139)\u001b[0m warning: basinhopping: local minimization failure\n",
      "\u001b[2m\u001b[36m(pid=11139)\u001b[0m basinhopping step 6: f 1.43354e+12 trial_f 1.50679e+12 accepted 0  lowest_f 1.43354e+12\n",
      "\u001b[2m\u001b[36m(pid=11171)\u001b[0m basinhopping step 10: f 3.20451e+11 trial_f 1.27818e+15 accepted 0  lowest_f 3.20451e+11\n",
      "\u001b[2m\u001b[36m(pid=11171)\u001b[0m basinhopping step 0: f 6.69348e+11\n",
      "\u001b[2m\u001b[36m(pid=11171)\u001b[0m basinhopping step 1: f 6.69348e+11 trial_f 6.69348e+11 accepted 1  lowest_f 6.69348e+11\n",
      "\u001b[2m\u001b[36m(pid=11171)\u001b[0m basinhopping step 2: f 6.69348e+11 trial_f 6.69348e+11 accepted 1  lowest_f 6.69348e+11\n"
     ]
    },
    {
     "name": "stderr",
     "output_type": "stream",
     "text": [
      "2020-10-22 11:57:51,741\tWARNING worker.py:1090 -- WARNING: 10 PYTHON workers have been started. This could be a result of using a large number of actors, or it could be a consequence of using nested tasks (see https://github.com/ray-project/ray/issues/3644) for some a discussion of workarounds.\n"
     ]
    },
    {
     "name": "stdout",
     "output_type": "stream",
     "text": [
      "\u001b[2m\u001b[36m(pid=11139)\u001b[0m basinhopping step 7: f 1.43354e+12 trial_f 2.75094e+15 accepted 0  lowest_f 1.43354e+12\n",
      "\u001b[2m\u001b[36m(pid=11279)\u001b[0m warning: basinhopping: local minimization failure\n",
      "\u001b[2m\u001b[36m(pid=11279)\u001b[0m basinhopping step 1: f 1.45246e+09 trial_f 1.45246e+09 accepted 1  lowest_f 1.45246e+09\n",
      "\u001b[2m\u001b[36m(pid=11279)\u001b[0m found new global minimum on step 1 with function value 1.45246e+09\n",
      "\u001b[2m\u001b[36m(pid=11130)\u001b[0m basinhopping step 9: f 3.40351e+11 trial_f 5.05947e+15 accepted 0  lowest_f 3.40351e+11\n",
      "\u001b[2m\u001b[36m(pid=11130)\u001b[0m basinhopping step 10: f 3.40351e+11 trial_f 1.00052e+16 accepted 0  lowest_f 3.40351e+11\n",
      "\u001b[2m\u001b[36m(pid=11130)\u001b[0m basinhopping step 0: f 2.29901e+11\n",
      "\u001b[2m\u001b[36m(pid=11130)\u001b[0m basinhopping step 1: f 2.29841e+11 trial_f 2.29841e+11 accepted 1  lowest_f 2.29841e+11\n",
      "\u001b[2m\u001b[36m(pid=11130)\u001b[0m found new global minimum on step 1 with function value 2.29841e+11\n",
      "\u001b[2m\u001b[36m(pid=11409)\u001b[0m basinhopping step 0: f 2.39282e+11\n",
      "\u001b[2m\u001b[36m(pid=11130)\u001b[0m basinhopping step 2: f 2.29766e+11 trial_f 2.29766e+11 accepted 1  lowest_f 2.29766e+11\n",
      "\u001b[2m\u001b[36m(pid=11130)\u001b[0m found new global minimum on step 2 with function value 2.29766e+11\n"
     ]
    },
    {
     "name": "stderr",
     "output_type": "stream",
     "text": [
      "2020-10-22 11:58:09,854\tWARNING worker.py:1090 -- WARNING: 10 PYTHON workers have been started. This could be a result of using a large number of actors, or it could be a consequence of using nested tasks (see https://github.com/ray-project/ray/issues/3644) for some a discussion of workarounds.\n"
     ]
    },
    {
     "name": "stdout",
     "output_type": "stream",
     "text": [
      "\u001b[2m\u001b[36m(pid=11253)\u001b[0m basinhopping step 6: f 9.39224e+07 trial_f 2.2624e+13 accepted 0  lowest_f 9.39224e+07\n",
      "\u001b[2m\u001b[36m(pid=11448)\u001b[0m basinhopping step 0: f 1.66937e+15\n",
      "\u001b[2m\u001b[36m(pid=11409)\u001b[0m warning: basinhopping: local minimization failure\n",
      "\u001b[2m\u001b[36m(pid=11409)\u001b[0m basinhopping step 1: f 2.39282e+11 trial_f 5.61983e+14 accepted 0  lowest_f 2.39282e+11\n",
      "\u001b[2m\u001b[36m(pid=11409)\u001b[0m basinhopping step 2: f 2.39282e+11 trial_f 8.86552e+15 accepted 0  lowest_f 2.39282e+11\n",
      "\u001b[2m\u001b[36m(pid=11279)\u001b[0m basinhopping step 2: f 1.45246e+09 trial_f 1.45819e+09 accepted 0  lowest_f 1.45246e+09\n",
      "\u001b[2m\u001b[36m(pid=11448)\u001b[0m basinhopping step 1: f 1.66937e+15 trial_f 2.60758e+16 accepted 0  lowest_f 1.66937e+15\n",
      "\u001b[2m\u001b[36m(pid=11253)\u001b[0m basinhopping step 7: f 9.39224e+07 trial_f 2.35365e+14 accepted 0  lowest_f 9.39224e+07\n",
      "\u001b[2m\u001b[36m(pid=11253)\u001b[0m basinhopping step 8: f 9.39224e+07 trial_f 5.51574e+09 accepted 0  lowest_f 9.39224e+07\n",
      "\u001b[2m\u001b[36m(pid=11409)\u001b[0m basinhopping step 3: f 2.39282e+11 trial_f 3.85386e+11 accepted 0  lowest_f 2.39282e+11\n",
      "\u001b[2m\u001b[36m(pid=11139)\u001b[0m basinhopping step 8: f 1.43354e+12 trial_f 3.96879e+14 accepted 0  lowest_f 1.43354e+12\n",
      "\u001b[2m\u001b[36m(pid=11139)\u001b[0m warning: basinhopping: local minimization failure\n",
      "\u001b[2m\u001b[36m(pid=11139)\u001b[0m basinhopping step 9: f 1.31233e+12 trial_f 1.31233e+12 accepted 1  lowest_f 1.31233e+12\n",
      "\u001b[2m\u001b[36m(pid=11139)\u001b[0m found new global minimum on step 9 with function value 1.31233e+12\n",
      "\u001b[2m\u001b[36m(pid=11448)\u001b[0m basinhopping step 2: f 1.13506e+12 trial_f 1.13506e+12 accepted 1  lowest_f 1.13506e+12\n",
      "\u001b[2m\u001b[36m(pid=11448)\u001b[0m found new global minimum on step 2 with function value 1.13506e+12\n",
      "\u001b[2m\u001b[36m(pid=11448)\u001b[0m basinhopping step 3: f 1.13506e+12 trial_f 1.1351e+12 accepted 0  lowest_f 1.13506e+12\n",
      "\u001b[2m\u001b[36m(pid=11448)\u001b[0m basinhopping step 4: f 1.13506e+12 trial_f 1.13513e+12 accepted 0  lowest_f 1.13506e+12\n",
      "\u001b[2m\u001b[36m(pid=11139)\u001b[0m basinhopping step 10: f 9.39081e+11 trial_f 9.39081e+11 accepted 1  lowest_f 9.39081e+11\n",
      "\u001b[2m\u001b[36m(pid=11139)\u001b[0m found new global minimum on step 10 with function value 9.39081e+11\n",
      "\u001b[2m\u001b[36m(pid=11139)\u001b[0m basinhopping step 0: f 6.15032e+11\n",
      "\u001b[2m\u001b[36m(pid=11139)\u001b[0m basinhopping step 1: f 6.15032e+11 trial_f 6.15032e+11 accepted 1  lowest_f 6.15032e+11\n",
      "\u001b[2m\u001b[36m(pid=11139)\u001b[0m basinhopping step 2: f 6.15032e+11 trial_f 6.15032e+11 accepted 1  lowest_f 6.15032e+11\n"
     ]
    },
    {
     "name": "stderr",
     "output_type": "stream",
     "text": [
      "2020-10-22 11:58:45,259\tWARNING worker.py:1090 -- WARNING: 10 PYTHON workers have been started. This could be a result of using a large number of actors, or it could be a consequence of using nested tasks (see https://github.com/ray-project/ray/issues/3644) for some a discussion of workarounds.\n"
     ]
    },
    {
     "name": "stdout",
     "output_type": "stream",
     "text": [
      "\u001b[2m\u001b[36m(pid=11409)\u001b[0m basinhopping step 4: f 2.39282e+11 trial_f 2.39282e+11 accepted 1  lowest_f 2.39282e+11\n",
      "\u001b[2m\u001b[36m(pid=11279)\u001b[0m basinhopping step 3: f 1.45246e+09 trial_f 1.45819e+09 accepted 0  lowest_f 1.45246e+09\n",
      "\u001b[2m\u001b[36m(pid=11409)\u001b[0m basinhopping step 5: f 2.39282e+11 trial_f 1.80269e+16 accepted 0  lowest_f 2.39282e+11\n",
      "\u001b[2m\u001b[36m(pid=11279)\u001b[0m basinhopping step 4: f 1.45246e+09 trial_f 1.45542e+09 accepted 0  lowest_f 1.45246e+09\n",
      "\u001b[2m\u001b[36m(pid=11279)\u001b[0m basinhopping step 5: f 1.45246e+09 trial_f 1.46134e+09 accepted 0  lowest_f 1.45246e+09\n",
      "\u001b[2m\u001b[36m(pid=11448)\u001b[0m warning: basinhopping: local minimization failure\n",
      "\u001b[2m\u001b[36m(pid=11448)\u001b[0m basinhopping step 5: f 7.96083e+11 trial_f 7.96083e+11 accepted 1  lowest_f 7.96083e+11\n",
      "\u001b[2m\u001b[36m(pid=11448)\u001b[0m found new global minimum on step 5 with function value 7.96083e+11\n",
      "\u001b[2m\u001b[36m(pid=11279)\u001b[0m warning: basinhopping: local minimization failure\n",
      "\u001b[2m\u001b[36m(pid=11279)\u001b[0m basinhopping step 6: f 1.45246e+09 trial_f 5.80031e+11 accepted 0  lowest_f 1.45246e+09\n",
      "\u001b[2m\u001b[36m(pid=11409)\u001b[0m basinhopping step 6: f 2.39282e+11 trial_f 4.71562e+15 accepted 0  lowest_f 2.39282e+11\n",
      "\u001b[2m\u001b[36m(pid=11409)\u001b[0m warning: basinhopping: local minimization failure\n",
      "\u001b[2m\u001b[36m(pid=11409)\u001b[0m basinhopping step 7: f 2.39282e+11 trial_f 8.76729e+11 accepted 0  lowest_f 2.39282e+11\n",
      "\u001b[2m\u001b[36m(pid=11448)\u001b[0m basinhopping step 6: f 7.96083e+11 trial_f 2.05987e+16 accepted 0  lowest_f 7.96083e+11\n",
      "\u001b[2m\u001b[36m(pid=11279)\u001b[0m warning: basinhopping: local minimization failure\n",
      "\u001b[2m\u001b[36m(pid=11279)\u001b[0m basinhopping step 7: f 1.09856e+09 trial_f 1.09856e+09 accepted 1  lowest_f 1.09856e+09\n",
      "\u001b[2m\u001b[36m(pid=11279)\u001b[0m found new global minimum on step 7 with function value 1.09856e+09\n",
      "\u001b[2m\u001b[36m(pid=11253)\u001b[0m basinhopping step 9: f 9.39224e+07 trial_f 4.48163e+09 accepted 0  lowest_f 9.39224e+07\n",
      "\u001b[2m\u001b[36m(pid=11253)\u001b[0m basinhopping step 10: f 9.39224e+07 trial_f 3.55583e+14 accepted 0  lowest_f 9.39224e+07\n",
      "\u001b[2m\u001b[36m(pid=11253)\u001b[0m basinhopping step 0: f 9.38745e+07\n",
      "\u001b[2m\u001b[36m(pid=11253)\u001b[0m basinhopping step 1: f 9.38745e+07 trial_f 9.55344e+07 accepted 0  lowest_f 9.38745e+07\n",
      "\u001b[2m\u001b[36m(pid=11253)\u001b[0m basinhopping step 2: f 9.38745e+07 trial_f 1.25029e+08 accepted 0  lowest_f 9.38745e+07\n"
     ]
    },
    {
     "name": "stderr",
     "output_type": "stream",
     "text": [
      "2020-10-22 11:59:14,454\tWARNING worker.py:1090 -- WARNING: 10 PYTHON workers have been started. This could be a result of using a large number of actors, or it could be a consequence of using nested tasks (see https://github.com/ray-project/ray/issues/3644) for some a discussion of workarounds.\n"
     ]
    },
    {
     "name": "stdout",
     "output_type": "stream",
     "text": [
      "\u001b[2m\u001b[36m(pid=11465)\u001b[0m basinhopping step 0: f 2.00881e+12\n",
      "\u001b[2m\u001b[36m(pid=11448)\u001b[0m basinhopping step 7: f 7.96083e+11 trial_f 2.04251e+16 accepted 0  lowest_f 7.96083e+11\n",
      "\u001b[2m\u001b[36m(pid=11409)\u001b[0m basinhopping step 8: f 2.39282e+11 trial_f 8.68685e+11 accepted 0  lowest_f 2.39282e+11\n",
      "\u001b[2m\u001b[36m(pid=11615)\u001b[0m basinhopping step 0: f 4.66147e+09\n",
      "\u001b[2m\u001b[36m(pid=11465)\u001b[0m basinhopping step 1: f 2.00881e+12 trial_f 4.01945e+15 accepted 0  lowest_f 2.00881e+12\n",
      "\u001b[2m\u001b[36m(pid=11279)\u001b[0m basinhopping step 8: f 1.09856e+09 trial_f 1.58551e+16 accepted 0  lowest_f 1.09856e+09\n",
      "\u001b[2m\u001b[36m(pid=11409)\u001b[0m basinhopping step 9: f 2.39282e+11 trial_f 3.58694e+15 accepted 0  lowest_f 2.39282e+11\n",
      "\u001b[2m\u001b[36m(pid=11279)\u001b[0m basinhopping step 9: f 1.09856e+09 trial_f 1.93256e+16 accepted 0  lowest_f 1.09856e+09\n",
      "\u001b[2m\u001b[36m(pid=11465)\u001b[0m basinhopping step 2: f 2.00881e+12 trial_f 1.50326e+15 accepted 0  lowest_f 2.00881e+12\n",
      "\u001b[2m\u001b[36m(pid=11448)\u001b[0m warning: basinhopping: local minimization failure\n",
      "\u001b[2m\u001b[36m(pid=11448)\u001b[0m basinhopping step 8: f 7.96083e+11 trial_f 1.13512e+12 accepted 0  lowest_f 7.96083e+11\n",
      "\u001b[2m\u001b[36m(pid=11279)\u001b[0m basinhopping step 10: f 1.09856e+09 trial_f 1.45246e+09 accepted 0  lowest_f 1.09856e+09\n",
      "\u001b[2m\u001b[36m(pid=11279)\u001b[0m basinhopping step 0: f 1.09854e+09\n",
      "\u001b[2m\u001b[36m(pid=11279)\u001b[0m basinhopping step 1: f 1.09854e+09 trial_f 1.09894e+09 accepted 0  lowest_f 1.09854e+09\n",
      "\u001b[2m\u001b[36m(pid=11279)\u001b[0m basinhopping step 2: f 1.09854e+09 trial_f 1.0986e+09 accepted 0  lowest_f 1.09854e+09\n"
     ]
    },
    {
     "name": "stderr",
     "output_type": "stream",
     "text": [
      "2020-10-22 11:59:54,307\tWARNING worker.py:1090 -- WARNING: 10 PYTHON workers have been started. This could be a result of using a large number of actors, or it could be a consequence of using nested tasks (see https://github.com/ray-project/ray/issues/3644) for some a discussion of workarounds.\n"
     ]
    },
    {
     "name": "stdout",
     "output_type": "stream",
     "text": [
      "\u001b[2m\u001b[36m(pid=11645)\u001b[0m warning: basinhopping: local minimization failure\n",
      "\u001b[2m\u001b[36m(pid=11645)\u001b[0m basinhopping step 0: f 2.11759e+16\n",
      "\u001b[2m\u001b[36m(pid=11465)\u001b[0m basinhopping step 3: f 1.35308e+12 trial_f 1.35308e+12 accepted 1  lowest_f 1.35308e+12\n",
      "\u001b[2m\u001b[36m(pid=11465)\u001b[0m found new global minimum on step 3 with function value 1.35308e+12\n",
      "\u001b[2m\u001b[36m(pid=11645)\u001b[0m warning: basinhopping: local minimization failure\n",
      "\u001b[2m\u001b[36m(pid=11645)\u001b[0m basinhopping step 1: f 2.11759e+16 trial_f 1.13876e+17 accepted 0  lowest_f 2.11759e+16\n",
      "\u001b[2m\u001b[36m(pid=11448)\u001b[0m warning: basinhopping: local minimization failure\n",
      "\u001b[2m\u001b[36m(pid=11448)\u001b[0m basinhopping step 9: f 7.96083e+11 trial_f 3.52952e+14 accepted 0  lowest_f 7.96083e+11\n",
      "\u001b[2m\u001b[36m(pid=11448)\u001b[0m basinhopping step 10: f 7.96083e+11 trial_f 1.13506e+12 accepted 0  lowest_f 7.96083e+11\n",
      "\u001b[2m\u001b[36m(pid=11448)\u001b[0m basinhopping step 0: f 5.36412e+11\n",
      "\u001b[2m\u001b[36m(pid=11448)\u001b[0m basinhopping step 1: f 5.36412e+11 trial_f 5.36412e+11 accepted 1  lowest_f 5.36412e+11\n",
      "\u001b[2m\u001b[36m(pid=11448)\u001b[0m basinhopping step 2: f 5.36412e+11 trial_f 5.36412e+11 accepted 1  lowest_f 5.36412e+11\n"
     ]
    },
    {
     "name": "stderr",
     "output_type": "stream",
     "text": [
      "2020-10-22 12:00:13,380\tWARNING worker.py:1090 -- WARNING: 10 PYTHON workers have been started. This could be a result of using a large number of actors, or it could be a consequence of using nested tasks (see https://github.com/ray-project/ray/issues/3644) for some a discussion of workarounds.\n"
     ]
    },
    {
     "name": "stdout",
     "output_type": "stream",
     "text": [
      "\u001b[2m\u001b[36m(pid=11465)\u001b[0m basinhopping step 4: f 1.35308e+12 trial_f 3.9354e+14 accepted 0  lowest_f 1.35308e+12\n",
      "\u001b[2m\u001b[36m(pid=11409)\u001b[0m warning: basinhopping: local minimization failure\n",
      "\u001b[2m\u001b[36m(pid=11409)\u001b[0m basinhopping step 10: f 2.39282e+11 trial_f 8.69708e+11 accepted 0  lowest_f 2.39282e+11\n",
      "\u001b[2m\u001b[36m(pid=11645)\u001b[0m basinhopping step 2: f 1.16511e+16 trial_f 1.16511e+16 accepted 1  lowest_f 1.16511e+16\n",
      "\u001b[2m\u001b[36m(pid=11645)\u001b[0m found new global minimum on step 2 with function value 1.16511e+16\n",
      "\u001b[2m\u001b[36m(pid=11615)\u001b[0m basinhopping step 1: f 4.66147e+09 trial_f 5.30859e+11 accepted 0  lowest_f 4.66147e+09\n",
      "\u001b[2m\u001b[36m(pid=11409)\u001b[0m basinhopping step 0: f 2.38813e+11\n",
      "\u001b[2m\u001b[36m(pid=11409)\u001b[0m basinhopping step 1: f 2.38813e+11 trial_f 2.3903e+11 accepted 0  lowest_f 2.38813e+11\n",
      "\u001b[2m\u001b[36m(pid=11409)\u001b[0m basinhopping step 2: f 2.38813e+11 trial_f 2.39166e+11 accepted 0  lowest_f 2.38813e+11\n"
     ]
    },
    {
     "name": "stderr",
     "output_type": "stream",
     "text": [
      "2020-10-22 12:00:19,407\tWARNING worker.py:1090 -- WARNING: 10 PYTHON workers have been started. This could be a result of using a large number of actors, or it could be a consequence of using nested tasks (see https://github.com/ray-project/ray/issues/3644) for some a discussion of workarounds.\n"
     ]
    },
    {
     "name": "stdout",
     "output_type": "stream",
     "text": [
      "\u001b[2m\u001b[36m(pid=11718)\u001b[0m warning: basinhopping: local minimization failure\n",
      "\u001b[2m\u001b[36m(pid=11718)\u001b[0m basinhopping step 0: f 6.98745e+11\n",
      "\u001b[2m\u001b[36m(pid=11615)\u001b[0m basinhopping step 2: f 4.66147e+09 trial_f 6.486e+10 accepted 0  lowest_f 4.66147e+09\n",
      "\u001b[2m\u001b[36m(pid=11615)\u001b[0m basinhopping step 3: f 4.66147e+09 trial_f 5.13001e+09 accepted 0  lowest_f 4.66147e+09\n",
      "\u001b[2m\u001b[36m(pid=11645)\u001b[0m warning: basinhopping: local minimization failure\n",
      "\u001b[2m\u001b[36m(pid=11645)\u001b[0m basinhopping step 3: f 1.63136e+09 trial_f 1.63136e+09 accepted 1  lowest_f 1.63136e+09\n",
      "\u001b[2m\u001b[36m(pid=11645)\u001b[0m found new global minimum on step 3 with function value 1.63136e+09\n",
      "\u001b[2m\u001b[36m(pid=11718)\u001b[0m warning: basinhopping: local minimization failure\n",
      "\u001b[2m\u001b[36m(pid=11718)\u001b[0m basinhopping step 1: f 5.59626e+11 trial_f 5.59626e+11 accepted 1  lowest_f 5.59626e+11\n",
      "\u001b[2m\u001b[36m(pid=11718)\u001b[0m found new global minimum on step 1 with function value 5.59626e+11\n",
      "\u001b[2m\u001b[36m(pid=11702)\u001b[0m warning: basinhopping: local minimization failure\n",
      "\u001b[2m\u001b[36m(pid=11702)\u001b[0m basinhopping step 0: f 2.74441e+12\n",
      "\u001b[2m\u001b[36m(pid=11615)\u001b[0m basinhopping step 4: f 4.66147e+09 trial_f 2.8344e+10 accepted 0  lowest_f 4.66147e+09\n",
      "\u001b[2m\u001b[36m(pid=11718)\u001b[0m basinhopping step 2: f 5.59626e+11 trial_f 5.24234e+15 accepted 0  lowest_f 5.59626e+11\n",
      "\u001b[2m\u001b[36m(pid=11645)\u001b[0m basinhopping step 4: f 1.63136e+09 trial_f 1.63294e+09 accepted 0  lowest_f 1.63136e+09\n",
      "\u001b[2m\u001b[36m(pid=11645)\u001b[0m warning: basinhopping: local minimization failure\n",
      "\u001b[2m\u001b[36m(pid=11645)\u001b[0m basinhopping step 5: f 1.6313e+09 trial_f 1.6313e+09 accepted 1  lowest_f 1.6313e+09\n",
      "\u001b[2m\u001b[36m(pid=11645)\u001b[0m found new global minimum on step 5 with function value 1.6313e+09\n",
      "\u001b[2m\u001b[36m(pid=11718)\u001b[0m basinhopping step 3: f 5.59626e+11 trial_f 6.43452e+15 accepted 0  lowest_f 5.59626e+11\n",
      "\u001b[2m\u001b[36m(pid=11615)\u001b[0m warning: basinhopping: local minimization failure\n",
      "\u001b[2m\u001b[36m(pid=11615)\u001b[0m basinhopping step 5: f 3.849e+09 trial_f 3.849e+09 accepted 1  lowest_f 3.849e+09\n",
      "\u001b[2m\u001b[36m(pid=11615)\u001b[0m found new global minimum on step 5 with function value 3.849e+09\n",
      "\u001b[2m\u001b[36m(pid=11615)\u001b[0m basinhopping step 6: f 3.849e+09 trial_f 4.43349e+09 accepted 0  lowest_f 3.849e+09\n",
      "\u001b[2m\u001b[36m(pid=11718)\u001b[0m warning: basinhopping: local minimization failure\n",
      "\u001b[2m\u001b[36m(pid=11718)\u001b[0m basinhopping step 4: f 5.59626e+11 trial_f 3.54044e+14 accepted 0  lowest_f 5.59626e+11\n",
      "\u001b[2m\u001b[36m(pid=11645)\u001b[0m warning: basinhopping: local minimization failure\n",
      "\u001b[2m\u001b[36m(pid=11645)\u001b[0m basinhopping step 6: f 1.6313e+09 trial_f 1.63136e+09 accepted 0  lowest_f 1.6313e+09\n",
      "\u001b[2m\u001b[36m(pid=11718)\u001b[0m basinhopping step 5: f 5.59626e+11 trial_f 6.92024e+11 accepted 0  lowest_f 5.59626e+11\n",
      "\u001b[2m\u001b[36m(pid=11702)\u001b[0m warning: basinhopping: local minimization failure\n",
      "\u001b[2m\u001b[36m(pid=11702)\u001b[0m basinhopping step 1: f 2.74441e+12 trial_f 2.74784e+12 accepted 0  lowest_f 2.74441e+12\n",
      "\u001b[2m\u001b[36m(pid=11645)\u001b[0m warning: basinhopping: local minimization failure\n",
      "\u001b[2m\u001b[36m(pid=11645)\u001b[0m basinhopping step 7: f 1.6313e+09 trial_f 1.63136e+09 accepted 0  lowest_f 1.6313e+09\n",
      "\u001b[2m\u001b[36m(pid=11718)\u001b[0m basinhopping step 6: f 5.59626e+11 trial_f 1.63304e+16 accepted 0  lowest_f 5.59626e+11\n",
      "\u001b[2m\u001b[36m(pid=11718)\u001b[0m basinhopping step 7: f 5.59626e+11 trial_f 6.92018e+11 accepted 0  lowest_f 5.59626e+11\n",
      "\u001b[2m\u001b[36m(pid=11615)\u001b[0m basinhopping step 7: f 3.849e+09 trial_f 9.5398e+09 accepted 0  lowest_f 3.849e+09\n",
      "\u001b[2m\u001b[36m(pid=11718)\u001b[0m warning: basinhopping: local minimization failure\n",
      "\u001b[2m\u001b[36m(pid=11718)\u001b[0m basinhopping step 8: f 5.59626e+11 trial_f 6.96387e+11 accepted 0  lowest_f 5.59626e+11\n",
      "\u001b[2m\u001b[36m(pid=11465)\u001b[0m basinhopping step 5: f 1.05813e+12 trial_f 1.05813e+12 accepted 1  lowest_f 1.05813e+12\n",
      "\u001b[2m\u001b[36m(pid=11465)\u001b[0m found new global minimum on step 5 with function value 1.05813e+12\n",
      "\u001b[2m\u001b[36m(pid=11615)\u001b[0m basinhopping step 8: f 3.849e+09 trial_f 5.60167e+09 accepted 0  lowest_f 3.849e+09\n",
      "\u001b[2m\u001b[36m(pid=11702)\u001b[0m basinhopping step 2: f 2.74441e+12 trial_f 2.74687e+12 accepted 0  lowest_f 2.74441e+12\n",
      "\u001b[2m\u001b[36m(pid=11718)\u001b[0m basinhopping step 9: f 5.59626e+11 trial_f 3.68582e+16 accepted 0  lowest_f 5.59626e+11\n",
      "\u001b[2m\u001b[36m(pid=11465)\u001b[0m basinhopping step 6: f 1.05813e+12 trial_f 2.32298e+14 accepted 0  lowest_f 1.05813e+12\n",
      "\u001b[2m\u001b[36m(pid=11645)\u001b[0m basinhopping step 8: f 1.6313e+09 trial_f 1.16444e+16 accepted 0  lowest_f 1.6313e+09\n",
      "\u001b[2m\u001b[36m(pid=11645)\u001b[0m warning: basinhopping: local minimization failure\n",
      "\u001b[2m\u001b[36m(pid=11645)\u001b[0m basinhopping step 9: f 1.6313e+09 trial_f 1.6313e+09 accepted 1  lowest_f 1.6313e+09\n",
      "\u001b[2m\u001b[36m(pid=11615)\u001b[0m basinhopping step 9: f 3.849e+09 trial_f 8.14192e+11 accepted 0  lowest_f 3.849e+09\n",
      "\u001b[2m\u001b[36m(pid=11645)\u001b[0m warning: basinhopping: local minimization failure\n",
      "\u001b[2m\u001b[36m(pid=11645)\u001b[0m basinhopping step 10: f 1.6313e+09 trial_f 1.6313e+09 accepted 1  lowest_f 1.6313e+09\n",
      "\u001b[2m\u001b[36m(pid=11645)\u001b[0m basinhopping step 0: f 1.62689e+09\n",
      "\u001b[2m\u001b[36m(pid=11645)\u001b[0m basinhopping step 1: f 1.62689e+09 trial_f 1.62689e+09 accepted 1  lowest_f 1.62689e+09\n",
      "\u001b[2m\u001b[36m(pid=11645)\u001b[0m basinhopping step 2: f 1.62689e+09 trial_f 1.62689e+09 accepted 1  lowest_f 1.62689e+09\n"
     ]
    },
    {
     "name": "stderr",
     "output_type": "stream",
     "text": [
      "2020-10-22 12:02:05,411\tWARNING worker.py:1090 -- WARNING: 10 PYTHON workers have been started. This could be a result of using a large number of actors, or it could be a consequence of using nested tasks (see https://github.com/ray-project/ray/issues/3644) for some a discussion of workarounds.\n"
     ]
    },
    {
     "name": "stdout",
     "output_type": "stream",
     "text": [
      "\u001b[2m\u001b[36m(pid=11702)\u001b[0m basinhopping step 3: f 2.74441e+12 trial_f 9.78988e+16 accepted 0  lowest_f 2.74441e+12\n",
      "\u001b[2m\u001b[36m(pid=11950)\u001b[0m basinhopping step 0: f 1.21388e+16\n",
      "\u001b[2m\u001b[36m(pid=11718)\u001b[0m basinhopping step 10: f 5.59626e+11 trial_f 6.92024e+11 accepted 0  lowest_f 5.59626e+11\n",
      "\u001b[2m\u001b[36m(pid=11718)\u001b[0m basinhopping step 0: f 4.43556e+11\n",
      "\u001b[2m\u001b[36m(pid=11718)\u001b[0m basinhopping step 1: f 4.43556e+11 trial_f 4.43556e+11 accepted 1  lowest_f 4.43556e+11\n",
      "\u001b[2m\u001b[36m(pid=11718)\u001b[0m basinhopping step 2: f 4.43556e+11 trial_f 4.43556e+11 accepted 1  lowest_f 4.43556e+11\n"
     ]
    },
    {
     "name": "stderr",
     "output_type": "stream",
     "text": [
      "2020-10-22 12:02:19,104\tWARNING worker.py:1090 -- WARNING: 10 PYTHON workers have been started. This could be a result of using a large number of actors, or it could be a consequence of using nested tasks (see https://github.com/ray-project/ray/issues/3644) for some a discussion of workarounds.\n"
     ]
    },
    {
     "name": "stdout",
     "output_type": "stream",
     "text": [
      "\u001b[2m\u001b[36m(pid=11950)\u001b[0m basinhopping step 1: f 1.34048e+09 trial_f 1.34048e+09 accepted 1  lowest_f 1.34048e+09\n",
      "\u001b[2m\u001b[36m(pid=11950)\u001b[0m found new global minimum on step 1 with function value 1.34048e+09\n",
      "\u001b[2m\u001b[36m(pid=11465)\u001b[0m basinhopping step 7: f 1.05813e+12 trial_f 2.25269e+14 accepted 0  lowest_f 1.05813e+12\n",
      "\u001b[2m\u001b[36m(pid=11615)\u001b[0m warning: basinhopping: local minimization failure\n",
      "\u001b[2m\u001b[36m(pid=11615)\u001b[0m basinhopping step 10: f 3.81559e+09 trial_f 3.81559e+09 accepted 1  lowest_f 3.81559e+09\n",
      "\u001b[2m\u001b[36m(pid=11615)\u001b[0m found new global minimum on step 10 with function value 3.81559e+09\n",
      "\u001b[2m\u001b[36m(pid=11615)\u001b[0m basinhopping step 0: f 3.80961e+09\n",
      "\u001b[2m\u001b[36m(pid=11966)\u001b[0m basinhopping step 0: f 4.586e+11\n",
      "\u001b[2m\u001b[36m(pid=11615)\u001b[0m basinhopping step 1: f 3.80923e+09 trial_f 3.80923e+09 accepted 1  lowest_f 3.80923e+09\n",
      "\u001b[2m\u001b[36m(pid=11615)\u001b[0m found new global minimum on step 1 with function value 3.80923e+09\n",
      "\u001b[2m\u001b[36m(pid=11950)\u001b[0m warning: basinhopping: local minimization failure\n",
      "\u001b[2m\u001b[36m(pid=11950)\u001b[0m basinhopping step 2: f 1.34048e+09 trial_f 1.28086e+17 accepted 0  lowest_f 1.34048e+09\n",
      "\u001b[2m\u001b[36m(pid=11615)\u001b[0m basinhopping step 2: f 3.80814e+09 trial_f 3.80814e+09 accepted 1  lowest_f 3.80814e+09\n",
      "\u001b[2m\u001b[36m(pid=11615)\u001b[0m found new global minimum on step 2 with function value 3.80814e+09\n"
     ]
    },
    {
     "name": "stderr",
     "output_type": "stream",
     "text": [
      "2020-10-22 12:02:30,390\tWARNING worker.py:1090 -- WARNING: 10 PYTHON workers have been started. This could be a result of using a large number of actors, or it could be a consequence of using nested tasks (see https://github.com/ray-project/ray/issues/3644) for some a discussion of workarounds.\n"
     ]
    },
    {
     "name": "stdout",
     "output_type": "stream",
     "text": [
      "\u001b[2m\u001b[36m(pid=11966)\u001b[0m basinhopping step 1: f 1.49613e+11 trial_f 1.49613e+11 accepted 1  lowest_f 1.49613e+11\n",
      "\u001b[2m\u001b[36m(pid=11966)\u001b[0m found new global minimum on step 1 with function value 1.49613e+11\n",
      "\u001b[2m\u001b[36m(pid=11465)\u001b[0m basinhopping step 8: f 1.05813e+12 trial_f 9.05609e+13 accepted 0  lowest_f 1.05813e+12\n",
      "\u001b[2m\u001b[36m(pid=11966)\u001b[0m basinhopping step 2: f 1.49613e+11 trial_f 5.24923e+11 accepted 0  lowest_f 1.49613e+11\n",
      "\u001b[2m\u001b[36m(pid=11465)\u001b[0m warning: basinhopping: local minimization failure\n",
      "\u001b[2m\u001b[36m(pid=11465)\u001b[0m basinhopping step 9: f 7.45117e+11 trial_f 7.45117e+11 accepted 1  lowest_f 7.45117e+11\n",
      "\u001b[2m\u001b[36m(pid=11465)\u001b[0m found new global minimum on step 9 with function value 7.45117e+11\n",
      "\u001b[2m\u001b[36m(pid=11979)\u001b[0m basinhopping step 0: f 2.90399e+09\n",
      "\u001b[2m\u001b[36m(pid=11465)\u001b[0m warning: basinhopping: local minimization failure\n",
      "\u001b[2m\u001b[36m(pid=11465)\u001b[0m basinhopping step 10: f 7.45117e+11 trial_f 2.00609e+12 accepted 0  lowest_f 7.45117e+11\n",
      "\u001b[2m\u001b[36m(pid=11465)\u001b[0m basinhopping step 0: f 7.29872e+11\n",
      "\u001b[2m\u001b[36m(pid=11979)\u001b[0m basinhopping step 1: f 2.90399e+09 trial_f 5.27925e+12 accepted 0  lowest_f 2.90399e+09\n",
      "\u001b[2m\u001b[36m(pid=11465)\u001b[0m basinhopping step 1: f 7.28804e+11 trial_f 7.28804e+11 accepted 1  lowest_f 7.28804e+11\n",
      "\u001b[2m\u001b[36m(pid=11465)\u001b[0m found new global minimum on step 1 with function value 7.28804e+11\n",
      "\u001b[2m\u001b[36m(pid=11465)\u001b[0m basinhopping step 2: f 7.25999e+11 trial_f 7.25999e+11 accepted 1  lowest_f 7.25999e+11\n",
      "\u001b[2m\u001b[36m(pid=11465)\u001b[0m found new global minimum on step 2 with function value 7.25999e+11\n",
      "\u001b[2m\u001b[36m(pid=11702)\u001b[0m basinhopping step 4: f 2.74441e+12 trial_f 2.78996e+15 accepted 0  lowest_f 2.74441e+12\n"
     ]
    },
    {
     "name": "stderr",
     "output_type": "stream",
     "text": [
      "2020-10-22 12:02:58,229\tWARNING worker.py:1090 -- WARNING: 10 PYTHON workers have been started. This could be a result of using a large number of actors, or it could be a consequence of using nested tasks (see https://github.com/ray-project/ray/issues/3644) for some a discussion of workarounds.\n"
     ]
    },
    {
     "name": "stdout",
     "output_type": "stream",
     "text": [
      "\u001b[2m\u001b[36m(pid=11950)\u001b[0m warning: basinhopping: local minimization failure\n",
      "\u001b[2m\u001b[36m(pid=11950)\u001b[0m basinhopping step 3: f 1.34048e+09 trial_f 2.43961e+09 accepted 0  lowest_f 1.34048e+09\n",
      "\u001b[2m\u001b[36m(pid=12006)\u001b[0m basinhopping step 0: f 5.00005e+11\n",
      "\u001b[2m\u001b[36m(pid=11702)\u001b[0m basinhopping step 5: f 2.74441e+12 trial_f 3.5645e+16 accepted 0  lowest_f 2.74441e+12\n",
      "\u001b[2m\u001b[36m(pid=11966)\u001b[0m basinhopping step 3: f 1.49613e+11 trial_f 4.586e+11 accepted 0  lowest_f 1.49613e+11\n",
      "\u001b[2m\u001b[36m(pid=11950)\u001b[0m warning: basinhopping: local minimization failure\n",
      "\u001b[2m\u001b[36m(pid=11950)\u001b[0m basinhopping step 4: f 1.34048e+09 trial_f 2.43397e+09 accepted 0  lowest_f 1.34048e+09\n",
      "\u001b[2m\u001b[36m(pid=12006)\u001b[0m basinhopping step 1: f 3.95894e+11 trial_f 3.95894e+11 accepted 1  lowest_f 3.95894e+11\n",
      "\u001b[2m\u001b[36m(pid=12006)\u001b[0m found new global minimum on step 1 with function value 3.95894e+11\n",
      "\u001b[2m\u001b[36m(pid=11950)\u001b[0m warning: basinhopping: local minimization failure\n",
      "\u001b[2m\u001b[36m(pid=11950)\u001b[0m basinhopping step 5: f 1.34048e+09 trial_f 2.03746e+16 accepted 0  lowest_f 1.34048e+09\n",
      "\u001b[2m\u001b[36m(pid=11950)\u001b[0m basinhopping step 6: f 1.34048e+09 trial_f 2.07502e+09 accepted 0  lowest_f 1.34048e+09\n",
      "\u001b[2m\u001b[36m(pid=11966)\u001b[0m basinhopping step 4: f 1.49613e+11 trial_f 4.98165e+15 accepted 0  lowest_f 1.49613e+11\n",
      "\u001b[2m\u001b[36m(pid=11979)\u001b[0m basinhopping step 2: f 2.90399e+09 trial_f 5.78396e+11 accepted 0  lowest_f 2.90399e+09\n",
      "\u001b[2m\u001b[36m(pid=11966)\u001b[0m basinhopping step 5: f 1.49613e+11 trial_f 4.97101e+15 accepted 0  lowest_f 1.49613e+11\n",
      "\u001b[2m\u001b[36m(pid=11979)\u001b[0m basinhopping step 3: f 2.90399e+09 trial_f 5.30268e+12 accepted 0  lowest_f 2.90399e+09\n",
      "\u001b[2m\u001b[36m(pid=11950)\u001b[0m warning: basinhopping: local minimization failure\n",
      "\u001b[2m\u001b[36m(pid=11950)\u001b[0m basinhopping step 7: f 1.34048e+09 trial_f 2.43961e+09 accepted 0  lowest_f 1.34048e+09\n",
      "\u001b[2m\u001b[36m(pid=11702)\u001b[0m warning: basinhopping: local minimization failure\n",
      "\u001b[2m\u001b[36m(pid=11702)\u001b[0m basinhopping step 6: f 7.70543e+11 trial_f 7.70543e+11 accepted 1  lowest_f 7.70543e+11\n",
      "\u001b[2m\u001b[36m(pid=11702)\u001b[0m found new global minimum on step 6 with function value 7.70543e+11\n",
      "\u001b[2m\u001b[36m(pid=11966)\u001b[0m basinhopping step 6: f 1.49613e+11 trial_f 5.02617e+15 accepted 0  lowest_f 1.49613e+11\n",
      "\u001b[2m\u001b[36m(pid=12006)\u001b[0m basinhopping step 2: f 3.95894e+11 trial_f 4.98331e+11 accepted 0  lowest_f 3.95894e+11\n",
      "\u001b[2m\u001b[36m(pid=12006)\u001b[0m warning: basinhopping: local minimization failure\n",
      "\u001b[2m\u001b[36m(pid=12006)\u001b[0m basinhopping step 3: f 3.95894e+11 trial_f 4.99998e+11 accepted 0  lowest_f 3.95894e+11\n",
      "\u001b[2m\u001b[36m(pid=11950)\u001b[0m warning: basinhopping: local minimization failure\n",
      "\u001b[2m\u001b[36m(pid=11950)\u001b[0m basinhopping step 8: f 1.34048e+09 trial_f 2.43961e+09 accepted 0  lowest_f 1.34048e+09\n",
      "\u001b[2m\u001b[36m(pid=11966)\u001b[0m basinhopping step 7: f 1.49613e+11 trial_f 4.22061e+14 accepted 0  lowest_f 1.49613e+11\n",
      "\u001b[2m\u001b[36m(pid=11979)\u001b[0m basinhopping step 4: f 2.90399e+09 trial_f 5.32101e+12 accepted 0  lowest_f 2.90399e+09\n",
      "\u001b[2m\u001b[36m(pid=11979)\u001b[0m basinhopping step 5: f 2.90399e+09 trial_f 3.8544e+09 accepted 0  lowest_f 2.90399e+09\n",
      "\u001b[2m\u001b[36m(pid=11979)\u001b[0m warning: basinhopping: local minimization failure\n",
      "\u001b[2m\u001b[36m(pid=11979)\u001b[0m basinhopping step 6: f 2.90399e+09 trial_f 5.01845e+09 accepted 0  lowest_f 2.90399e+09\n",
      "\u001b[2m\u001b[36m(pid=11950)\u001b[0m basinhopping step 9: f 1.34048e+09 trial_f 1.20219e+17 accepted 0  lowest_f 1.34048e+09\n",
      "\u001b[2m\u001b[36m(pid=11966)\u001b[0m basinhopping step 8: f 1.49613e+11 trial_f 2.14141e+16 accepted 0  lowest_f 1.49613e+11\n",
      "\u001b[2m\u001b[36m(pid=11702)\u001b[0m basinhopping step 7: f 7.70543e+11 trial_f 3.49514e+16 accepted 0  lowest_f 7.70543e+11\n",
      "\u001b[2m\u001b[36m(pid=12006)\u001b[0m basinhopping step 4: f 2.66925e+11 trial_f 2.66925e+11 accepted 1  lowest_f 2.66925e+11\n",
      "\u001b[2m\u001b[36m(pid=12006)\u001b[0m found new global minimum on step 4 with function value 2.66925e+11\n",
      "\u001b[2m\u001b[36m(pid=11950)\u001b[0m basinhopping step 10: f 1.34048e+09 trial_f 1.41705e+17 accepted 0  lowest_f 1.34048e+09\n",
      "\u001b[2m\u001b[36m(pid=11966)\u001b[0m basinhopping step 9: f 1.49613e+11 trial_f 6.79578e+15 accepted 0  lowest_f 1.49613e+11\n",
      "\u001b[2m\u001b[36m(pid=11979)\u001b[0m basinhopping step 7: f 2.46601e+09 trial_f 2.46601e+09 accepted 1  lowest_f 2.46601e+09\n",
      "\u001b[2m\u001b[36m(pid=11979)\u001b[0m found new global minimum on step 7 with function value 2.46601e+09\n",
      "\u001b[2m\u001b[36m(pid=11950)\u001b[0m basinhopping step 0: f 1.21774e+09\n",
      "\u001b[2m\u001b[36m(pid=11950)\u001b[0m basinhopping step 1: f 1.21491e+09 trial_f 1.21491e+09 accepted 1  lowest_f 1.21491e+09\n",
      "\u001b[2m\u001b[36m(pid=11950)\u001b[0m found new global minimum on step 1 with function value 1.21491e+09\n",
      "\u001b[2m\u001b[36m(pid=11950)\u001b[0m basinhopping step 2: f 1.18282e+09 trial_f 1.18282e+09 accepted 1  lowest_f 1.18282e+09\n",
      "\u001b[2m\u001b[36m(pid=11950)\u001b[0m found new global minimum on step 2 with function value 1.18282e+09\n"
     ]
    },
    {
     "name": "stderr",
     "output_type": "stream",
     "text": [
      "2020-10-22 12:04:22,464\tWARNING worker.py:1090 -- WARNING: 10 PYTHON workers have been started. This could be a result of using a large number of actors, or it could be a consequence of using nested tasks (see https://github.com/ray-project/ray/issues/3644) for some a discussion of workarounds.\n"
     ]
    },
    {
     "name": "stdout",
     "output_type": "stream",
     "text": [
      "\u001b[2m\u001b[36m(pid=11702)\u001b[0m basinhopping step 8: f 7.70543e+11 trial_f 1.24176e+17 accepted 0  lowest_f 7.70543e+11\n",
      "\u001b[2m\u001b[36m(pid=12119)\u001b[0m basinhopping step 0: f 5.20805e+15\n",
      "\u001b[2m\u001b[36m(pid=11979)\u001b[0m basinhopping step 8: f 2.46601e+09 trial_f 1.00475e+12 accepted 0  lowest_f 2.46601e+09\n",
      "\u001b[2m\u001b[36m(pid=11702)\u001b[0m basinhopping step 9: f 5.09678e+11 trial_f 5.09678e+11 accepted 1  lowest_f 5.09678e+11\n",
      "\u001b[2m\u001b[36m(pid=11702)\u001b[0m found new global minimum on step 9 with function value 5.09678e+11\n",
      "\u001b[2m\u001b[36m(pid=11979)\u001b[0m warning: basinhopping: local minimization failure\n",
      "\u001b[2m\u001b[36m(pid=11979)\u001b[0m basinhopping step 9: f 2.46601e+09 trial_f 4.88949e+09 accepted 0  lowest_f 2.46601e+09\n",
      "\u001b[2m\u001b[36m(pid=12119)\u001b[0m basinhopping step 1: f 5.20805e+15 trial_f 2.64569e+16 accepted 0  lowest_f 5.20805e+15\n",
      "\u001b[2m\u001b[36m(pid=11702)\u001b[0m warning: basinhopping: local minimization failure\n",
      "\u001b[2m\u001b[36m(pid=11702)\u001b[0m basinhopping step 10: f 5.09678e+11 trial_f 2.74799e+12 accepted 0  lowest_f 5.09678e+11\n",
      "\u001b[2m\u001b[36m(pid=11702)\u001b[0m basinhopping step 0: f 4.94281e+11\n",
      "\u001b[2m\u001b[36m(pid=12006)\u001b[0m basinhopping step 5: f 2.66925e+11 trial_f 3.72789e+14 accepted 0  lowest_f 2.66925e+11\n",
      "\u001b[2m\u001b[36m(pid=12119)\u001b[0m warning: basinhopping: local minimization failure\n",
      "\u001b[2m\u001b[36m(pid=12119)\u001b[0m basinhopping step 2: f 4.61503e+15 trial_f 4.61503e+15 accepted 1  lowest_f 4.61503e+15\n",
      "\u001b[2m\u001b[36m(pid=12119)\u001b[0m found new global minimum on step 2 with function value 4.61503e+15\n",
      "\u001b[2m\u001b[36m(pid=11702)\u001b[0m basinhopping step 1: f 4.94281e+11 trial_f 5.13644e+11 accepted 0  lowest_f 4.94281e+11\n",
      "\u001b[2m\u001b[36m(pid=11702)\u001b[0m basinhopping step 2: f 4.74649e+11 trial_f 4.74649e+11 accepted 1  lowest_f 4.74649e+11\n",
      "\u001b[2m\u001b[36m(pid=11702)\u001b[0m found new global minimum on step 2 with function value 4.74649e+11\n"
     ]
    },
    {
     "name": "stderr",
     "output_type": "stream",
     "text": [
      "2020-10-22 12:04:43,287\tWARNING worker.py:1090 -- WARNING: 10 PYTHON workers have been started. This could be a result of using a large number of actors, or it could be a consequence of using nested tasks (see https://github.com/ray-project/ray/issues/3644) for some a discussion of workarounds.\n"
     ]
    },
    {
     "name": "stdout",
     "output_type": "stream",
     "text": [
      "\u001b[2m\u001b[36m(pid=12146)\u001b[0m basinhopping step 0: f 9.98541e+14\n",
      "\u001b[2m\u001b[36m(pid=12006)\u001b[0m warning: basinhopping: local minimization failure\n",
      "\u001b[2m\u001b[36m(pid=12006)\u001b[0m basinhopping step 6: f 2.66925e+11 trial_f 5.00004e+11 accepted 0  lowest_f 2.66925e+11\n",
      "\u001b[2m\u001b[36m(pid=12146)\u001b[0m basinhopping step 1: f 1.52624e+12 trial_f 1.52624e+12 accepted 1  lowest_f 1.52624e+12\n",
      "\u001b[2m\u001b[36m(pid=12146)\u001b[0m found new global minimum on step 1 with function value 1.52624e+12\n",
      "\u001b[2m\u001b[36m(pid=12006)\u001b[0m warning: basinhopping: local minimization failure\n",
      "\u001b[2m\u001b[36m(pid=12006)\u001b[0m basinhopping step 7: f 2.66925e+11 trial_f 5.00008e+11 accepted 0  lowest_f 2.66925e+11\n",
      "\u001b[2m\u001b[36m(pid=11966)\u001b[0m basinhopping step 10: f 1.49613e+11 trial_f 3.63581e+11 accepted 0  lowest_f 1.49613e+11\n",
      "\u001b[2m\u001b[36m(pid=11966)\u001b[0m basinhopping step 0: f 1.49356e+11\n",
      "\u001b[2m\u001b[36m(pid=11966)\u001b[0m basinhopping step 1: f 1.49356e+11 trial_f 1.49678e+11 accepted 0  lowest_f 1.49356e+11\n",
      "\u001b[2m\u001b[36m(pid=11966)\u001b[0m basinhopping step 2: f 1.49356e+11 trial_f 1.49509e+11 accepted 0  lowest_f 1.49356e+11\n"
     ]
    },
    {
     "name": "stderr",
     "output_type": "stream",
     "text": [
      "2020-10-22 12:04:52,803\tWARNING worker.py:1090 -- WARNING: 10 PYTHON workers have been started. This could be a result of using a large number of actors, or it could be a consequence of using nested tasks (see https://github.com/ray-project/ray/issues/3644) for some a discussion of workarounds.\n"
     ]
    },
    {
     "name": "stdout",
     "output_type": "stream",
     "text": [
      "\u001b[2m\u001b[36m(pid=12119)\u001b[0m basinhopping step 3: f 4.61503e+15 trial_f 1.1012e+16 accepted 0  lowest_f 4.61503e+15\n",
      "\u001b[2m\u001b[36m(pid=12006)\u001b[0m basinhopping step 8: f 2.66925e+11 trial_f 3.9224e+14 accepted 0  lowest_f 2.66925e+11\n",
      "\u001b[2m\u001b[36m(pid=11979)\u001b[0m basinhopping step 10: f 2.46601e+09 trial_f 6.74597e+12 accepted 0  lowest_f 2.46601e+09\n",
      "\u001b[2m\u001b[36m(pid=11979)\u001b[0m basinhopping step 0: f 2.41245e+09\n",
      "\u001b[2m\u001b[36m(pid=12269)\u001b[0m basinhopping step 0: f 5.42692e+12\n",
      "\u001b[2m\u001b[36m(pid=12146)\u001b[0m warning: basinhopping: local minimization failure\n",
      "\u001b[2m\u001b[36m(pid=12146)\u001b[0m basinhopping step 2: f 3.04415e+11 trial_f 3.04415e+11 accepted 1  lowest_f 3.04415e+11\n",
      "\u001b[2m\u001b[36m(pid=12146)\u001b[0m found new global minimum on step 2 with function value 3.04415e+11\n",
      "\u001b[2m\u001b[36m(pid=11979)\u001b[0m basinhopping step 1: f 2.40873e+09 trial_f 2.40873e+09 accepted 1  lowest_f 2.40873e+09\n",
      "\u001b[2m\u001b[36m(pid=11979)\u001b[0m found new global minimum on step 1 with function value 2.40873e+09\n",
      "\u001b[2m\u001b[36m(pid=12146)\u001b[0m warning: basinhopping: local minimization failure\n",
      "\u001b[2m\u001b[36m(pid=12146)\u001b[0m basinhopping step 3: f 3.04415e+11 trial_f 1.52508e+12 accepted 0  lowest_f 3.04415e+11\n",
      "\u001b[2m\u001b[36m(pid=12119)\u001b[0m basinhopping step 4: f 4.61503e+15 trial_f 6.06404e+16 accepted 0  lowest_f 4.61503e+15\n",
      "\u001b[2m\u001b[36m(pid=11979)\u001b[0m basinhopping step 2: f 2.40652e+09 trial_f 2.40652e+09 accepted 1  lowest_f 2.40652e+09\n",
      "\u001b[2m\u001b[36m(pid=11979)\u001b[0m found new global minimum on step 2 with function value 2.40652e+09\n"
     ]
    },
    {
     "name": "stderr",
     "output_type": "stream",
     "text": [
      "2020-10-22 12:05:03,639\tWARNING worker.py:1090 -- WARNING: 10 PYTHON workers have been started. This could be a result of using a large number of actors, or it could be a consequence of using nested tasks (see https://github.com/ray-project/ray/issues/3644) for some a discussion of workarounds.\n"
     ]
    },
    {
     "name": "stdout",
     "output_type": "stream",
     "text": [
      "\u001b[2m\u001b[36m(pid=12282)\u001b[0m basinhopping step 0: f 6.62695e+09\n",
      "\u001b[2m\u001b[36m(pid=12146)\u001b[0m basinhopping step 4: f 3.04415e+11 trial_f 1.51916e+12 accepted 0  lowest_f 3.04415e+11\n",
      "\u001b[2m\u001b[36m(pid=12119)\u001b[0m basinhopping step 5: f 4.61503e+15 trial_f 6.81557e+16 accepted 0  lowest_f 4.61503e+15\n",
      "\u001b[2m\u001b[36m(pid=12006)\u001b[0m basinhopping step 9: f 2.66925e+11 trial_f 5.54522e+13 accepted 0  lowest_f 2.66925e+11\n",
      "\u001b[2m\u001b[36m(pid=12119)\u001b[0m warning: basinhopping: local minimization failure\n",
      "\u001b[2m\u001b[36m(pid=12119)\u001b[0m basinhopping step 6: f 4.61503e+15 trial_f 1.32871e+17 accepted 0  lowest_f 4.61503e+15\n",
      "\u001b[2m\u001b[36m(pid=12282)\u001b[0m warning: basinhopping: local minimization failure\n",
      "\u001b[2m\u001b[36m(pid=12282)\u001b[0m basinhopping step 1: f 6.62695e+09 trial_f 7.98019e+09 accepted 0  lowest_f 6.62695e+09\n",
      "\u001b[2m\u001b[36m(pid=12119)\u001b[0m warning: basinhopping: local minimization failure\n",
      "\u001b[2m\u001b[36m(pid=12119)\u001b[0m basinhopping step 7: f 4.61503e+15 trial_f 1.36272e+17 accepted 0  lowest_f 4.61503e+15\n",
      "\u001b[2m\u001b[36m(pid=12006)\u001b[0m basinhopping step 10: f 2.66925e+11 trial_f 4.39186e+11 accepted 0  lowest_f 2.66925e+11\n",
      "\u001b[2m\u001b[36m(pid=12006)\u001b[0m basinhopping step 0: f 2.65037e+11\n",
      "\u001b[2m\u001b[36m(pid=12119)\u001b[0m basinhopping step 8: f 4.61503e+15 trial_f 5.7114e+16 accepted 0  lowest_f 4.61503e+15\n",
      "\u001b[2m\u001b[36m(pid=12006)\u001b[0m basinhopping step 1: f 2.65037e+11 trial_f 2.66465e+11 accepted 0  lowest_f 2.65037e+11\n",
      "\u001b[2m\u001b[36m(pid=12269)\u001b[0m basinhopping step 1: f 5.42692e+12 trial_f 2.91834e+13 accepted 0  lowest_f 5.42692e+12\n",
      "\u001b[2m\u001b[36m(pid=12006)\u001b[0m basinhopping step 2: f 2.65037e+11 trial_f 2.65367e+11 accepted 0  lowest_f 2.65037e+11\n"
     ]
    },
    {
     "name": "stderr",
     "output_type": "stream",
     "text": [
      "2020-10-22 12:05:22,565\tWARNING worker.py:1090 -- WARNING: 10 PYTHON workers have been started. This could be a result of using a large number of actors, or it could be a consequence of using nested tasks (see https://github.com/ray-project/ray/issues/3644) for some a discussion of workarounds.\n"
     ]
    },
    {
     "name": "stdout",
     "output_type": "stream",
     "text": [
      "\u001b[2m\u001b[36m(pid=12324)\u001b[0m basinhopping step 0: f 7.32894e+10\n",
      "\u001b[2m\u001b[36m(pid=12146)\u001b[0m basinhopping step 5: f 3.04415e+11 trial_f 1.52567e+12 accepted 0  lowest_f 3.04415e+11\n",
      "\u001b[2m\u001b[36m(pid=12146)\u001b[0m basinhopping step 6: f 3.04415e+11 trial_f 1.52628e+12 accepted 0  lowest_f 3.04415e+11\n",
      "\u001b[2m\u001b[36m(pid=12282)\u001b[0m warning: basinhopping: local minimization failure\n",
      "\u001b[2m\u001b[36m(pid=12282)\u001b[0m basinhopping step 2: f 6.62695e+09 trial_f 7.96084e+09 accepted 0  lowest_f 6.62695e+09\n",
      "\u001b[2m\u001b[36m(pid=12119)\u001b[0m warning: basinhopping: local minimization failure\n",
      "\u001b[2m\u001b[36m(pid=12119)\u001b[0m basinhopping step 9: f 4.60105e+15 trial_f 4.60105e+15 accepted 1  lowest_f 4.60105e+15\n",
      "\u001b[2m\u001b[36m(pid=12119)\u001b[0m found new global minimum on step 9 with function value 4.60105e+15\n",
      "\u001b[2m\u001b[36m(pid=12119)\u001b[0m warning: basinhopping: local minimization failure\n",
      "\u001b[2m\u001b[36m(pid=12119)\u001b[0m basinhopping step 10: f 4.60105e+15 trial_f 4.60105e+15 accepted 1  lowest_f 4.60105e+15\n",
      "\u001b[2m\u001b[36m(pid=12119)\u001b[0m basinhopping step 0: f 1.35931e+09\n",
      "\u001b[2m\u001b[36m(pid=12119)\u001b[0m basinhopping step 1: f 1.35931e+09 trial_f 1.35931e+09 accepted 1  lowest_f 1.35931e+09\n",
      "\u001b[2m\u001b[36m(pid=12119)\u001b[0m basinhopping step 2: f 1.35931e+09 trial_f 1.35931e+09 accepted 1  lowest_f 1.35931e+09\n",
      "\u001b[2m\u001b[36m(pid=12282)\u001b[0m basinhopping step 3: f 4.99113e+09 trial_f 4.99113e+09 accepted 1  lowest_f 4.99113e+09\n",
      "\u001b[2m\u001b[36m(pid=12282)\u001b[0m found new global minimum on step 3 with function value 4.99113e+09\n"
     ]
    },
    {
     "name": "stderr",
     "output_type": "stream",
     "text": [
      "2020-10-22 12:05:41,507\tWARNING worker.py:1090 -- WARNING: 10 PYTHON workers have been started. This could be a result of using a large number of actors, or it could be a consequence of using nested tasks (see https://github.com/ray-project/ray/issues/3644) for some a discussion of workarounds.\n"
     ]
    },
    {
     "name": "stdout",
     "output_type": "stream",
     "text": [
      "\u001b[2m\u001b[36m(pid=12269)\u001b[0m basinhopping step 2: f 5.42692e+12 trial_f 2.8793e+13 accepted 0  lowest_f 5.42692e+12\n",
      "\u001b[2m\u001b[36m(pid=12324)\u001b[0m basinhopping step 1: f 7.32894e+10 trial_f 8.83201e+12 accepted 0  lowest_f 7.32894e+10\n",
      "\u001b[2m\u001b[36m(pid=12337)\u001b[0m warning: basinhopping: local minimization failure\n",
      "\u001b[2m\u001b[36m(pid=12337)\u001b[0m basinhopping step 0: f 4.34998e+15\n",
      "\u001b[2m\u001b[36m(pid=12282)\u001b[0m basinhopping step 4: f 4.54775e+09 trial_f 4.54775e+09 accepted 1  lowest_f 4.54775e+09\n",
      "\u001b[2m\u001b[36m(pid=12282)\u001b[0m found new global minimum on step 4 with function value 4.54775e+09\n",
      "\u001b[2m\u001b[36m(pid=12337)\u001b[0m basinhopping step 1: f 1.34023e+09 trial_f 1.34023e+09 accepted 1  lowest_f 1.34023e+09\n",
      "\u001b[2m\u001b[36m(pid=12337)\u001b[0m found new global minimum on step 1 with function value 1.34023e+09\n",
      "\u001b[2m\u001b[36m(pid=12269)\u001b[0m basinhopping step 3: f 5.26875e+11 trial_f 5.26875e+11 accepted 1  lowest_f 5.26875e+11\n",
      "\u001b[2m\u001b[36m(pid=12269)\u001b[0m found new global minimum on step 3 with function value 5.26875e+11\n",
      "\u001b[2m\u001b[36m(pid=12146)\u001b[0m basinhopping step 7: f 3.04415e+11 trial_f 1.52628e+12 accepted 0  lowest_f 3.04415e+11\n",
      "\u001b[2m\u001b[36m(pid=12337)\u001b[0m warning: basinhopping: local minimization failure\n",
      "\u001b[2m\u001b[36m(pid=12337)\u001b[0m basinhopping step 2: f 9.32371e+08 trial_f 9.32371e+08 accepted 1  lowest_f 9.32371e+08\n",
      "\u001b[2m\u001b[36m(pid=12337)\u001b[0m found new global minimum on step 2 with function value 9.32371e+08\n",
      "\u001b[2m\u001b[36m(pid=12282)\u001b[0m basinhopping step 5: f 4.54775e+09 trial_f 6.43369e+09 accepted 0  lowest_f 4.54775e+09\n",
      "\u001b[2m\u001b[36m(pid=12269)\u001b[0m basinhopping step 4: f 5.26875e+11 trial_f 3.02488e+13 accepted 0  lowest_f 5.26875e+11\n",
      "\u001b[2m\u001b[36m(pid=12337)\u001b[0m basinhopping step 3: f 9.32371e+08 trial_f 4.91677e+15 accepted 0  lowest_f 9.32371e+08\n",
      "\u001b[2m\u001b[36m(pid=12146)\u001b[0m basinhopping step 8: f 3.04415e+11 trial_f 1.52628e+12 accepted 0  lowest_f 3.04415e+11\n",
      "\u001b[2m\u001b[36m(pid=12146)\u001b[0m basinhopping step 9: f 3.04415e+11 trial_f 1.26722e+16 accepted 0  lowest_f 3.04415e+11\n",
      "\u001b[2m\u001b[36m(pid=12269)\u001b[0m warning: basinhopping: local minimization failure\n",
      "\u001b[2m\u001b[36m(pid=12269)\u001b[0m basinhopping step 5: f 5.26875e+11 trial_f 7.81275e+11 accepted 0  lowest_f 5.26875e+11\n",
      "\u001b[2m\u001b[36m(pid=12324)\u001b[0m basinhopping step 2: f 7.32894e+10 trial_f 8.28599e+12 accepted 0  lowest_f 7.32894e+10\n",
      "\u001b[2m\u001b[36m(pid=12337)\u001b[0m basinhopping step 4: f 9.32371e+08 trial_f 1.34202e+09 accepted 0  lowest_f 9.32371e+08\n",
      "\u001b[2m\u001b[36m(pid=12282)\u001b[0m basinhopping step 6: f 4.54775e+09 trial_f 4.84189e+09 accepted 0  lowest_f 4.54775e+09\n",
      "\u001b[2m\u001b[36m(pid=12269)\u001b[0m basinhopping step 6: f 5.26875e+11 trial_f 3.60321e+13 accepted 0  lowest_f 5.26875e+11\n",
      "\u001b[2m\u001b[36m(pid=12282)\u001b[0m basinhopping step 7: f 4.54775e+09 trial_f 4.03576e+13 accepted 0  lowest_f 4.54775e+09\n",
      "\u001b[2m\u001b[36m(pid=12269)\u001b[0m basinhopping step 7: f 6.56929e+10 trial_f 6.56929e+10 accepted 1  lowest_f 6.56929e+10\n",
      "\u001b[2m\u001b[36m(pid=12269)\u001b[0m found new global minimum on step 7 with function value 6.56929e+10\n",
      "\u001b[2m\u001b[36m(pid=12324)\u001b[0m basinhopping step 3: f 7.32894e+10 trial_f 1.94045e+11 accepted 0  lowest_f 7.32894e+10\n",
      "\u001b[2m\u001b[36m(pid=12282)\u001b[0m warning: basinhopping: local minimization failure\n",
      "\u001b[2m\u001b[36m(pid=12282)\u001b[0m basinhopping step 8: f 4.54775e+09 trial_f 7.98017e+09 accepted 0  lowest_f 4.54775e+09\n",
      "\u001b[2m\u001b[36m(pid=12324)\u001b[0m basinhopping step 4: f 7.32894e+10 trial_f 8.87753e+12 accepted 0  lowest_f 7.32894e+10\n",
      "\u001b[2m\u001b[36m(pid=12282)\u001b[0m basinhopping step 9: f 4.54775e+09 trial_f 5.04672e+13 accepted 0  lowest_f 4.54775e+09\n",
      "\u001b[2m\u001b[36m(pid=12282)\u001b[0m basinhopping step 10: f 4.54775e+09 trial_f 5.90791e+09 accepted 0  lowest_f 4.54775e+09\n",
      "\u001b[2m\u001b[36m(pid=12282)\u001b[0m basinhopping step 0: f 4.52152e+09\n",
      "\u001b[2m\u001b[36m(pid=12282)\u001b[0m basinhopping step 1: f 4.51862e+09 trial_f 4.51862e+09 accepted 1  lowest_f 4.51862e+09\n",
      "\u001b[2m\u001b[36m(pid=12282)\u001b[0m found new global minimum on step 1 with function value 4.51862e+09\n",
      "\u001b[2m\u001b[36m(pid=12146)\u001b[0m warning: basinhopping: local minimization failure\n",
      "\u001b[2m\u001b[36m(pid=12146)\u001b[0m basinhopping step 10: f 2.63819e+11 trial_f 2.63819e+11 accepted 1  lowest_f 2.63819e+11\n",
      "\u001b[2m\u001b[36m(pid=12146)\u001b[0m found new global minimum on step 10 with function value 2.63819e+11\n",
      "\u001b[2m\u001b[36m(pid=12282)\u001b[0m basinhopping step 2: f 4.51829e+09 trial_f 4.51829e+09 accepted 1  lowest_f 4.51829e+09\n",
      "\u001b[2m\u001b[36m(pid=12282)\u001b[0m found new global minimum on step 2 with function value 4.51829e+09\n"
     ]
    },
    {
     "name": "stderr",
     "output_type": "stream",
     "text": [
      "2020-10-22 12:07:02,249\tWARNING worker.py:1090 -- WARNING: 10 PYTHON workers have been started. This could be a result of using a large number of actors, or it could be a consequence of using nested tasks (see https://github.com/ray-project/ray/issues/3644) for some a discussion of workarounds.\n"
     ]
    },
    {
     "name": "stdout",
     "output_type": "stream",
     "text": [
      "\u001b[2m\u001b[36m(pid=12146)\u001b[0m basinhopping step 0: f 2.63749e+11\n",
      "\u001b[2m\u001b[36m(pid=12269)\u001b[0m warning: basinhopping: local minimization failure\n",
      "\u001b[2m\u001b[36m(pid=12269)\u001b[0m basinhopping step 8: f 6.56929e+10 trial_f 1.9022e+12 accepted 0  lowest_f 6.56929e+10\n",
      "\u001b[2m\u001b[36m(pid=12337)\u001b[0m warning: basinhopping: local minimization failure\n",
      "\u001b[2m\u001b[36m(pid=12337)\u001b[0m basinhopping step 5: f 9.32371e+08 trial_f 9.32371e+08 accepted 1  lowest_f 9.32371e+08\n",
      "\u001b[2m\u001b[36m(pid=12269)\u001b[0m warning: basinhopping: local minimization failure\n",
      "\u001b[2m\u001b[36m(pid=12269)\u001b[0m basinhopping step 9: f 6.56929e+10 trial_f 5.28272e+11 accepted 0  lowest_f 6.56929e+10\n",
      "\u001b[2m\u001b[36m(pid=12146)\u001b[0m basinhopping step 1: f 2.63749e+11 trial_f 2.63751e+11 accepted 0  lowest_f 2.63749e+11\n",
      "\u001b[2m\u001b[36m(pid=12146)\u001b[0m basinhopping step 2: f 2.63749e+11 trial_f 2.63766e+11 accepted 0  lowest_f 2.63749e+11\n"
     ]
    },
    {
     "name": "stderr",
     "output_type": "stream",
     "text": [
      "2020-10-22 12:07:08,671\tWARNING worker.py:1090 -- WARNING: 10 PYTHON workers have been started. This could be a result of using a large number of actors, or it could be a consequence of using nested tasks (see https://github.com/ray-project/ray/issues/3644) for some a discussion of workarounds.\n"
     ]
    },
    {
     "name": "stdout",
     "output_type": "stream",
     "text": [
      "\u001b[2m\u001b[36m(pid=12324)\u001b[0m basinhopping step 5: f 7.32894e+10 trial_f 7.86222e+10 accepted 0  lowest_f 7.32894e+10\n",
      "\u001b[2m\u001b[36m(pid=12446)\u001b[0m warning: basinhopping: local minimization failure\n",
      "\u001b[2m\u001b[36m(pid=12446)\u001b[0m basinhopping step 0: f 2.66823e+09\n",
      "\u001b[2m\u001b[36m(pid=12337)\u001b[0m basinhopping step 6: f 9.32371e+08 trial_f 1.30623e+16 accepted 0  lowest_f 9.32371e+08\n",
      "\u001b[2m\u001b[36m(pid=12446)\u001b[0m basinhopping step 1: f 2.66823e+09 trial_f 1.69467e+13 accepted 0  lowest_f 2.66823e+09\n",
      "\u001b[2m\u001b[36m(pid=12269)\u001b[0m warning: basinhopping: local minimization failure\n",
      "\u001b[2m\u001b[36m(pid=12269)\u001b[0m basinhopping step 10: f 6.56929e+10 trial_f 5.27187e+11 accepted 0  lowest_f 6.56929e+10\n",
      "\u001b[2m\u001b[36m(pid=12269)\u001b[0m basinhopping step 0: f 6.26952e+10\n",
      "\u001b[2m\u001b[36m(pid=12269)\u001b[0m basinhopping step 1: f 6.26952e+10 trial_f 6.27459e+10 accepted 0  lowest_f 6.26952e+10\n",
      "\u001b[2m\u001b[36m(pid=12269)\u001b[0m basinhopping step 2: f 6.26952e+10 trial_f 6.31338e+10 accepted 0  lowest_f 6.26952e+10\n"
     ]
    },
    {
     "name": "stderr",
     "output_type": "stream",
     "text": [
      "2020-10-22 12:07:27,179\tWARNING worker.py:1090 -- WARNING: 10 PYTHON workers have been started. This could be a result of using a large number of actors, or it could be a consequence of using nested tasks (see https://github.com/ray-project/ray/issues/3644) for some a discussion of workarounds.\n"
     ]
    },
    {
     "name": "stdout",
     "output_type": "stream",
     "text": [
      "\u001b[2m\u001b[36m(pid=12324)\u001b[0m basinhopping step 6: f 7.32894e+10 trial_f 2.29444e+13 accepted 0  lowest_f 7.32894e+10\n",
      "\u001b[2m\u001b[36m(pid=12446)\u001b[0m basinhopping step 2: f 2.66823e+09 trial_f 3.29151e+09 accepted 0  lowest_f 2.66823e+09\n",
      "\u001b[2m\u001b[36m(pid=12324)\u001b[0m basinhopping step 7: f 7.32894e+10 trial_f 2.13534e+13 accepted 0  lowest_f 7.32894e+10\n",
      "\u001b[2m\u001b[36m(pid=12476)\u001b[0m basinhopping step 0: f 1.15022e+14\n",
      "\u001b[2m\u001b[36m(pid=12324)\u001b[0m warning: basinhopping: local minimization failure\n",
      "\u001b[2m\u001b[36m(pid=12324)\u001b[0m basinhopping step 8: f 7.32894e+10 trial_f 6.76698e+11 accepted 0  lowest_f 7.32894e+10\n",
      "\u001b[2m\u001b[36m(pid=12337)\u001b[0m basinhopping step 7: f 9.32371e+08 trial_f 4.90612e+15 accepted 0  lowest_f 9.32371e+08\n",
      "\u001b[2m\u001b[36m(pid=12476)\u001b[0m basinhopping step 1: f 1.15022e+14 trial_f 1.50768e+15 accepted 0  lowest_f 1.15022e+14\n",
      "\u001b[2m\u001b[36m(pid=12446)\u001b[0m basinhopping step 3: f 2.66823e+09 trial_f 4.10379e+13 accepted 0  lowest_f 2.66823e+09\n",
      "\u001b[2m\u001b[36m(pid=12324)\u001b[0m basinhopping step 9: f 7.32894e+10 trial_f 2.55618e+11 accepted 0  lowest_f 7.32894e+10\n",
      "\u001b[2m\u001b[36m(pid=12476)\u001b[0m basinhopping step 2: f 1.41005e+11 trial_f 1.41005e+11 accepted 1  lowest_f 1.41005e+11\n",
      "\u001b[2m\u001b[36m(pid=12476)\u001b[0m found new global minimum on step 2 with function value 1.41005e+11\n",
      "\u001b[2m\u001b[36m(pid=12446)\u001b[0m warning: basinhopping: local minimization failure\n",
      "\u001b[2m\u001b[36m(pid=12446)\u001b[0m basinhopping step 4: f 2.66823e+09 trial_f 3.66647e+09 accepted 0  lowest_f 2.66823e+09\n",
      "\u001b[2m\u001b[36m(pid=12337)\u001b[0m warning: basinhopping: local minimization failure\n",
      "\u001b[2m\u001b[36m(pid=12337)\u001b[0m basinhopping step 8: f 9.32371e+08 trial_f 4.01336e+15 accepted 0  lowest_f 9.32371e+08\n",
      "\u001b[2m\u001b[36m(pid=12459)\u001b[0m warning: basinhopping: local minimization failure\n",
      "\u001b[2m\u001b[36m(pid=12459)\u001b[0m basinhopping step 0: f 1.55501e+09\n",
      "\u001b[2m\u001b[36m(pid=12324)\u001b[0m basinhopping step 10: f 7.32894e+10 trial_f 6.87357e+12 accepted 0  lowest_f 7.32894e+10\n",
      "\u001b[2m\u001b[36m(pid=12324)\u001b[0m basinhopping step 0: f 7.32485e+10\n",
      "\u001b[2m\u001b[36m(pid=12446)\u001b[0m basinhopping step 5: f 2.53832e+09 trial_f 2.53832e+09 accepted 1  lowest_f 2.53832e+09\n",
      "\u001b[2m\u001b[36m(pid=12446)\u001b[0m found new global minimum on step 5 with function value 2.53832e+09\n",
      "\u001b[2m\u001b[36m(pid=12324)\u001b[0m basinhopping step 1: f 7.32485e+10 trial_f 7.33101e+10 accepted 0  lowest_f 7.32485e+10\n",
      "\u001b[2m\u001b[36m(pid=12324)\u001b[0m basinhopping step 2: f 7.31957e+10 trial_f 7.31957e+10 accepted 1  lowest_f 7.31957e+10\n",
      "\u001b[2m\u001b[36m(pid=12324)\u001b[0m found new global minimum on step 2 with function value 7.31957e+10\n"
     ]
    },
    {
     "name": "stderr",
     "output_type": "stream",
     "text": [
      "2020-10-22 12:08:25,712\tWARNING worker.py:1090 -- WARNING: 10 PYTHON workers have been started. This could be a result of using a large number of actors, or it could be a consequence of using nested tasks (see https://github.com/ray-project/ray/issues/3644) for some a discussion of workarounds.\n"
     ]
    },
    {
     "name": "stdout",
     "output_type": "stream",
     "text": [
      "\u001b[2m\u001b[36m(pid=12476)\u001b[0m warning: basinhopping: local minimization failure\n",
      "\u001b[2m\u001b[36m(pid=12476)\u001b[0m basinhopping step 3: f 1.41005e+11 trial_f 3.87808e+11 accepted 0  lowest_f 1.41005e+11\n",
      "\u001b[2m\u001b[36m(pid=12446)\u001b[0m warning: basinhopping: local minimization failure\n",
      "\u001b[2m\u001b[36m(pid=12446)\u001b[0m basinhopping step 6: f 2.53832e+09 trial_f 4.19674e+09 accepted 0  lowest_f 2.53832e+09\n",
      "\u001b[2m\u001b[36m(pid=12476)\u001b[0m basinhopping step 4: f 1.41005e+11 trial_f 6.04602e+14 accepted 0  lowest_f 1.41005e+11\n",
      "\u001b[2m\u001b[36m(pid=12337)\u001b[0m basinhopping step 9: f 9.32371e+08 trial_f 2.08848e+15 accepted 0  lowest_f 9.32371e+08\n",
      "\u001b[2m\u001b[36m(pid=12532)\u001b[0m warning: basinhopping: local minimization failure\n",
      "\u001b[2m\u001b[36m(pid=12532)\u001b[0m basinhopping step 0: f 5.61137e+11\n",
      "\u001b[2m\u001b[36m(pid=12446)\u001b[0m basinhopping step 7: f 2.53832e+09 trial_f 1.69319e+13 accepted 0  lowest_f 2.53832e+09\n",
      "\u001b[2m\u001b[36m(pid=12337)\u001b[0m basinhopping step 10: f 9.32371e+08 trial_f 1.2934e+16 accepted 0  lowest_f 9.32371e+08\n",
      "\u001b[2m\u001b[36m(pid=12337)\u001b[0m basinhopping step 0: f 7.0508e+08\n",
      "\u001b[2m\u001b[36m(pid=12337)\u001b[0m basinhopping step 1: f 7.0508e+08 trial_f 7.0508e+08 accepted 1  lowest_f 7.0508e+08\n",
      "\u001b[2m\u001b[36m(pid=12337)\u001b[0m basinhopping step 2: f 7.0508e+08 trial_f 7.0508e+08 accepted 1  lowest_f 7.0508e+08\n"
     ]
    },
    {
     "name": "stderr",
     "output_type": "stream",
     "text": [
      "2020-10-22 12:08:45,317\tWARNING worker.py:1090 -- WARNING: 10 PYTHON workers have been started. This could be a result of using a large number of actors, or it could be a consequence of using nested tasks (see https://github.com/ray-project/ray/issues/3644) for some a discussion of workarounds.\n"
     ]
    },
    {
     "name": "stdout",
     "output_type": "stream",
     "text": [
      "\u001b[2m\u001b[36m(pid=12476)\u001b[0m basinhopping step 5: f 1.27338e+11 trial_f 1.27338e+11 accepted 1  lowest_f 1.27338e+11\n",
      "\u001b[2m\u001b[36m(pid=12476)\u001b[0m found new global minimum on step 5 with function value 1.27338e+11\n",
      "\u001b[2m\u001b[36m(pid=12546)\u001b[0m warning: basinhopping: local minimization failure\n",
      "\u001b[2m\u001b[36m(pid=12546)\u001b[0m basinhopping step 0: f 2.11205e+09\n",
      "\u001b[2m\u001b[36m(pid=12476)\u001b[0m warning: basinhopping: local minimization failure\n",
      "\u001b[2m\u001b[36m(pid=12476)\u001b[0m basinhopping step 6: f 1.27338e+11 trial_f 1.9811e+12 accepted 0  lowest_f 1.27338e+11\n",
      "\u001b[2m\u001b[36m(pid=12476)\u001b[0m basinhopping step 7: f 1.27338e+11 trial_f 6.78356e+14 accepted 0  lowest_f 1.27338e+11\n",
      "\u001b[2m\u001b[36m(pid=12532)\u001b[0m basinhopping step 1: f 3.29927e+11 trial_f 3.29927e+11 accepted 1  lowest_f 3.29927e+11\n",
      "\u001b[2m\u001b[36m(pid=12532)\u001b[0m found new global minimum on step 1 with function value 3.29927e+11\n",
      "\u001b[2m\u001b[36m(pid=12532)\u001b[0m basinhopping step 2: f 3.29927e+11 trial_f 9.05014e+14 accepted 0  lowest_f 3.29927e+11\n",
      "\u001b[2m\u001b[36m(pid=12446)\u001b[0m basinhopping step 8: f 8.29098e+08 trial_f 8.29098e+08 accepted 1  lowest_f 8.29098e+08\n",
      "\u001b[2m\u001b[36m(pid=12446)\u001b[0m found new global minimum on step 8 with function value 8.29098e+08\n",
      "\u001b[2m\u001b[36m(pid=12546)\u001b[0m warning: basinhopping: local minimization failure\n",
      "\u001b[2m\u001b[36m(pid=12546)\u001b[0m basinhopping step 1: f 2.11205e+09 trial_f 1.41459e+16 accepted 0  lowest_f 2.11205e+09\n",
      "\u001b[2m\u001b[36m(pid=12446)\u001b[0m basinhopping step 9: f 8.29098e+08 trial_f 3.97105e+13 accepted 0  lowest_f 8.29098e+08\n",
      "\u001b[2m\u001b[36m(pid=12546)\u001b[0m basinhopping step 2: f 2.11205e+09 trial_f 8.6124e+15 accepted 0  lowest_f 2.11205e+09\n",
      "\u001b[2m\u001b[36m(pid=12532)\u001b[0m basinhopping step 3: f 3.29927e+11 trial_f 4.14106e+11 accepted 0  lowest_f 3.29927e+11\n",
      "\u001b[2m\u001b[36m(pid=12446)\u001b[0m basinhopping step 10: f 8.29098e+08 trial_f 2.79743e+09 accepted 0  lowest_f 8.29098e+08\n",
      "\u001b[2m\u001b[36m(pid=12446)\u001b[0m basinhopping step 0: f 9.27439e+07\n",
      "\u001b[2m\u001b[36m(pid=12446)\u001b[0m basinhopping step 1: f 9.27439e+07 trial_f 2.50095e+08 accepted 0  lowest_f 9.27439e+07\n",
      "\u001b[2m\u001b[36m(pid=12446)\u001b[0m basinhopping step 2: f 9.27439e+07 trial_f 2.55765e+08 accepted 0  lowest_f 9.27439e+07\n",
      "\u001b[2m\u001b[36m(pid=12546)\u001b[0m basinhopping step 3: f 2.11205e+09 trial_f 1.43186e+17 accepted 0  lowest_f 2.11205e+09\n"
     ]
    },
    {
     "name": "stderr",
     "output_type": "stream",
     "text": [
      "2020-10-22 12:09:29,967\tWARNING worker.py:1090 -- WARNING: 10 PYTHON workers have been started. This could be a result of using a large number of actors, or it could be a consequence of using nested tasks (see https://github.com/ray-project/ray/issues/3644) for some a discussion of workarounds.\n"
     ]
    },
    {
     "name": "stdout",
     "output_type": "stream",
     "text": [
      "\u001b[2m\u001b[36m(pid=12532)\u001b[0m basinhopping step 4: f 3.29927e+11 trial_f 2.42639e+15 accepted 0  lowest_f 3.29927e+11\n",
      "\u001b[2m\u001b[36m(pid=12532)\u001b[0m basinhopping step 5: f 3.29927e+11 trial_f 1.35413e+14 accepted 0  lowest_f 3.29927e+11\n",
      "\u001b[2m\u001b[36m(pid=12532)\u001b[0m basinhopping step 6: f 3.29927e+11 trial_f 1.09507e+15 accepted 0  lowest_f 3.29927e+11\n",
      "\u001b[2m\u001b[36m(pid=12476)\u001b[0m basinhopping step 8: f 1.27338e+11 trial_f 1.28309e+11 accepted 0  lowest_f 1.27338e+11\n",
      "\u001b[2m\u001b[36m(pid=12476)\u001b[0m warning: basinhopping: local minimization failure\n",
      "\u001b[2m\u001b[36m(pid=12476)\u001b[0m basinhopping step 9: f 1.27338e+11 trial_f 3.9458e+11 accepted 0  lowest_f 1.27338e+11\n",
      "\u001b[2m\u001b[36m(pid=12476)\u001b[0m basinhopping step 10: f 1.27338e+11 trial_f 6.11233e+14 accepted 0  lowest_f 1.27338e+11\n",
      "\u001b[2m\u001b[36m(pid=12616)\u001b[0m basinhopping step 0: f 2.85224e+09\n",
      "\u001b[2m\u001b[36m(pid=12476)\u001b[0m basinhopping step 0: f 1.27157e+11\n",
      "\u001b[2m\u001b[36m(pid=12476)\u001b[0m basinhopping step 1: f 1.26708e+11 trial_f 1.26708e+11 accepted 1  lowest_f 1.26708e+11\n",
      "\u001b[2m\u001b[36m(pid=12476)\u001b[0m found new global minimum on step 1 with function value 1.26708e+11\n",
      "\u001b[2m\u001b[36m(pid=12476)\u001b[0m basinhopping step 2: f 1.26607e+11 trial_f 1.26607e+11 accepted 1  lowest_f 1.26607e+11\n",
      "\u001b[2m\u001b[36m(pid=12476)\u001b[0m found new global minimum on step 2 with function value 1.26607e+11\n"
     ]
    },
    {
     "name": "stderr",
     "output_type": "stream",
     "text": [
      "2020-10-22 12:10:08,393\tWARNING worker.py:1090 -- WARNING: 10 PYTHON workers have been started. This could be a result of using a large number of actors, or it could be a consequence of using nested tasks (see https://github.com/ray-project/ray/issues/3644) for some a discussion of workarounds.\n"
     ]
    },
    {
     "name": "stdout",
     "output_type": "stream",
     "text": [
      "\u001b[2m\u001b[36m(pid=12616)\u001b[0m basinhopping step 1: f 2.85224e+09 trial_f 2.46141e+12 accepted 0  lowest_f 2.85224e+09\n",
      "\u001b[2m\u001b[36m(pid=12532)\u001b[0m basinhopping step 7: f 3.29927e+11 trial_f 2.40353e+15 accepted 0  lowest_f 3.29927e+11\n",
      "\u001b[2m\u001b[36m(pid=12546)\u001b[0m warning: basinhopping: local minimization failure\n",
      "\u001b[2m\u001b[36m(pid=12546)\u001b[0m basinhopping step 4: f 2.11205e+09 trial_f 2.11205e+09 accepted 0  lowest_f 2.11205e+09\n",
      "\u001b[2m\u001b[36m(pid=12616)\u001b[0m warning: basinhopping: local minimization failure\n",
      "\u001b[2m\u001b[36m(pid=12616)\u001b[0m basinhopping step 2: f 2.85224e+09 trial_f 4.08571e+12 accepted 0  lowest_f 2.85224e+09\n",
      "\u001b[2m\u001b[36m(pid=12657)\u001b[0m basinhopping step 0: f 1.02471e+11\n",
      "\u001b[2m\u001b[36m(pid=12546)\u001b[0m warning: basinhopping: local minimization failure\n",
      "\u001b[2m\u001b[36m(pid=12546)\u001b[0m basinhopping step 5: f 2.09769e+09 trial_f 2.09769e+09 accepted 1  lowest_f 2.09769e+09\n",
      "\u001b[2m\u001b[36m(pid=12546)\u001b[0m found new global minimum on step 5 with function value 2.09769e+09\n",
      "\u001b[2m\u001b[36m(pid=12657)\u001b[0m basinhopping step 1: f 1.02471e+11 trial_f 5.69116e+12 accepted 0  lowest_f 1.02471e+11\n",
      "\u001b[2m\u001b[36m(pid=12459)\u001b[0m basinhopping step 1: f 1.55501e+09 trial_f 1.13445e+13 accepted 0  lowest_f 1.55501e+09\n",
      "\u001b[2m\u001b[36m(pid=12616)\u001b[0m basinhopping step 3: f 2.85224e+09 trial_f 5.46176e+09 accepted 0  lowest_f 2.85224e+09\n",
      "\u001b[2m\u001b[36m(pid=12546)\u001b[0m warning: basinhopping: local minimization failure\n",
      "\u001b[2m\u001b[36m(pid=12546)\u001b[0m basinhopping step 6: f 2.09769e+09 trial_f 2.09788e+09 accepted 0  lowest_f 2.09769e+09\n",
      "\u001b[2m\u001b[36m(pid=12459)\u001b[0m basinhopping step 2: f 1.55501e+09 trial_f 1.02163e+14 accepted 0  lowest_f 1.55501e+09\n",
      "\u001b[2m\u001b[36m(pid=12616)\u001b[0m basinhopping step 4: f 2.85224e+09 trial_f 3.50418e+09 accepted 0  lowest_f 2.85224e+09\n",
      "\u001b[2m\u001b[36m(pid=12657)\u001b[0m basinhopping step 2: f 1.02471e+11 trial_f 5.59917e+12 accepted 0  lowest_f 1.02471e+11\n",
      "\u001b[2m\u001b[36m(pid=12616)\u001b[0m basinhopping step 5: f 2.85224e+09 trial_f 7.49273e+12 accepted 0  lowest_f 2.85224e+09\n",
      "\u001b[2m\u001b[36m(pid=12532)\u001b[0m basinhopping step 8: f 3.29927e+11 trial_f 6.24069e+11 accepted 0  lowest_f 3.29927e+11\n",
      "\u001b[2m\u001b[36m(pid=12546)\u001b[0m basinhopping step 7: f 2.09769e+09 trial_f 2.02582e+17 accepted 0  lowest_f 2.09769e+09\n",
      "\u001b[2m\u001b[36m(pid=12459)\u001b[0m basinhopping step 3: f 1.55501e+09 trial_f 5.51162e+12 accepted 0  lowest_f 1.55501e+09\n",
      "\u001b[2m\u001b[36m(pid=12546)\u001b[0m warning: basinhopping: local minimization failure\n",
      "\u001b[2m\u001b[36m(pid=12546)\u001b[0m basinhopping step 8: f 2.09769e+09 trial_f 2.09769e+09 accepted 1  lowest_f 2.09769e+09\n",
      "\u001b[2m\u001b[36m(pid=12657)\u001b[0m warning: basinhopping: local minimization failure\n",
      "\u001b[2m\u001b[36m(pid=12657)\u001b[0m basinhopping step 3: f 1.02471e+11 trial_f 1.27895e+11 accepted 0  lowest_f 1.02471e+11\n",
      "\u001b[2m\u001b[36m(pid=12616)\u001b[0m warning: basinhopping: local minimization failure\n",
      "\u001b[2m\u001b[36m(pid=12616)\u001b[0m basinhopping step 6: f 2.85224e+09 trial_f 5.32816e+09 accepted 0  lowest_f 2.85224e+09\n",
      "\u001b[2m\u001b[36m(pid=12657)\u001b[0m basinhopping step 4: f 1.02471e+11 trial_f 1.70065e+13 accepted 0  lowest_f 1.02471e+11\n",
      "\u001b[2m\u001b[36m(pid=12459)\u001b[0m basinhopping step 4: f 1.55501e+09 trial_f 1.32304e+12 accepted 0  lowest_f 1.55501e+09\n",
      "\u001b[2m\u001b[36m(pid=12657)\u001b[0m warning: basinhopping: local minimization failure\n",
      "\u001b[2m\u001b[36m(pid=12657)\u001b[0m basinhopping step 5: f 1.02471e+11 trial_f 2.05564e+11 accepted 0  lowest_f 1.02471e+11\n",
      "\u001b[2m\u001b[36m(pid=12532)\u001b[0m basinhopping step 9: f 3.29927e+11 trial_f 3.29927e+11 accepted 1  lowest_f 3.29927e+11\n",
      "\u001b[2m\u001b[36m(pid=12546)\u001b[0m basinhopping step 9: f 2.09769e+09 trial_f 9.29247e+16 accepted 0  lowest_f 2.09769e+09\n",
      "\u001b[2m\u001b[36m(pid=12459)\u001b[0m basinhopping step 5: f 1.55501e+09 trial_f 7.01575e+13 accepted 0  lowest_f 1.55501e+09\n",
      "\u001b[2m\u001b[36m(pid=12532)\u001b[0m warning: basinhopping: local minimization failure\n",
      "\u001b[2m\u001b[36m(pid=12532)\u001b[0m basinhopping step 10: f 3.89887e+10 trial_f 3.89887e+10 accepted 1  lowest_f 3.89887e+10\n",
      "\u001b[2m\u001b[36m(pid=12532)\u001b[0m found new global minimum on step 10 with function value 3.89887e+10\n",
      "\u001b[2m\u001b[36m(pid=12532)\u001b[0m basinhopping step 0: f 3.77378e+10\n",
      "\u001b[2m\u001b[36m(pid=12532)\u001b[0m basinhopping step 1: f 3.77378e+10 trial_f 3.7911e+10 accepted 0  lowest_f 3.77378e+10\n",
      "\u001b[2m\u001b[36m(pid=12532)\u001b[0m basinhopping step 2: f 3.77378e+10 trial_f 3.78065e+10 accepted 0  lowest_f 3.77378e+10\n"
     ]
    },
    {
     "name": "stderr",
     "output_type": "stream",
     "text": [
      "2020-10-22 12:11:53,721\tWARNING worker.py:1090 -- WARNING: 10 PYTHON workers have been started. This could be a result of using a large number of actors, or it could be a consequence of using nested tasks (see https://github.com/ray-project/ray/issues/3644) for some a discussion of workarounds.\n"
     ]
    },
    {
     "name": "stdout",
     "output_type": "stream",
     "text": [
      "\u001b[2m\u001b[36m(pid=12546)\u001b[0m warning: basinhopping: local minimization failure\n",
      "\u001b[2m\u001b[36m(pid=12546)\u001b[0m basinhopping step 10: f 2.09769e+09 trial_f 2.09849e+09 accepted 0  lowest_f 2.09769e+09\n",
      "\u001b[2m\u001b[36m(pid=12546)\u001b[0m basinhopping step 0: f 2.07087e+09\n",
      "\u001b[2m\u001b[36m(pid=12616)\u001b[0m basinhopping step 7: f 2.85224e+09 trial_f 8.84781e+11 accepted 0  lowest_f 2.85224e+09\n",
      "\u001b[2m\u001b[36m(pid=12546)\u001b[0m basinhopping step 1: f 2.07087e+09 trial_f 2.07087e+09 accepted 1  lowest_f 2.07087e+09\n",
      "\u001b[2m\u001b[36m(pid=12546)\u001b[0m basinhopping step 2: f 2.07087e+09 trial_f 2.07087e+09 accepted 1  lowest_f 2.07087e+09\n"
     ]
    },
    {
     "name": "stderr",
     "output_type": "stream",
     "text": [
      "2020-10-22 12:11:55,534\tWARNING worker.py:1090 -- WARNING: 10 PYTHON workers have been started. This could be a result of using a large number of actors, or it could be a consequence of using nested tasks (see https://github.com/ray-project/ray/issues/3644) for some a discussion of workarounds.\n"
     ]
    },
    {
     "name": "stdout",
     "output_type": "stream",
     "text": [
      "\u001b[2m\u001b[36m(pid=12923)\u001b[0m warning: basinhopping: local minimization failure\n",
      "\u001b[2m\u001b[36m(pid=12923)\u001b[0m basinhopping step 0: f 1.42852e+09\n"
     ]
    }
   ],
   "source": [
    "optimal=ray.get(optimal)\n"
   ]
  },
  {
   "cell_type": "code",
   "execution_count": null,
   "metadata": {},
   "outputs": [],
   "source": [
    "for i in range(0,len(countries)):    \n",
    "\n",
    "    country=countries[i]\n",
    "    query = dfparam.query('country == \"{}\"'.format(country)).reset_index()\n",
    "    parameters = np.array(query.iloc[:, 2:])[0]\n",
    "    startdate,predict_range,s0,e0,a0,i0,r0,d0,startNCases,wcases,wrec = parameters\n",
    "    Date = datetime.strptime(startdate, \"%m/%d/%y\")\n",
    "    end_date = Date + timedelta(days=+int(optimal[i][1]))\n",
    "    dateStr=end_date.strftime(\"%m/%d/%y\")\n",
    "\n",
    "    j = query['index'].values[0]\n",
    "    dfparam.at[j, \"s0\"] = optimal[i][0]\n",
    "    dfparam.at[j, \"start-date\"] = dateStr\n",
    "    dfparam.at[j, \"i0\"] = optimal[i][2]\n",
    "    dfparam.at[j, \"WCASES\"] = optimal[i][3]\n",
    "    dfparam.at[j, \"WREC\"] = optimal[i][4]\n",
    "\n",
    "    dfparam.to_csv(\"data/param_optimized_Yabox.csv\", sep=\",\", index=False)\n",
    "    dfparam\n",
    "    "
   ]
  },
  {
   "cell_type": "code",
   "execution_count": null,
   "metadata": {},
   "outputs": [],
   "source": []
  },
  {
   "cell_type": "code",
   "execution_count": null,
   "metadata": {},
   "outputs": [],
   "source": []
  },
  {
   "cell_type": "code",
   "execution_count": null,
   "metadata": {},
   "outputs": [],
   "source": []
  },
  {
   "cell_type": "code",
   "execution_count": null,
   "metadata": {},
   "outputs": [],
   "source": []
  }
 ],
 "metadata": {
  "celltoolbar": "Edit Metadata",
  "kernelspec": {
   "display_name": "geo_env",
   "language": "python",
   "name": "geo_env"
  },
  "language_info": {
   "codemirror_mode": {
    "name": "ipython",
    "version": 3
   },
   "file_extension": ".py",
   "mimetype": "text/x-python",
   "name": "python",
   "nbconvert_exporter": "python",
   "pygments_lexer": "ipython3",
   "version": "3.6.10"
  }
 },
 "nbformat": 4,
 "nbformat_minor": 4
}
