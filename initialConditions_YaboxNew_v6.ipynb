version https://git-lfs.github.com/spec/v1
oid sha256:c25f6105273bbda434e114d95a1edc7e497b7c8a243e2cf32a2daf6bc52df940
size 531382
