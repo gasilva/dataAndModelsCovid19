{
 "cells": [
  {
   "cell_type": "markdown",
   "metadata": {},
   "source": [
    "# Optimize Initial Conditions\n",
    "## Yabox"
   ]
  },
  {
   "cell_type": "code",
   "execution_count": 1,
   "metadata": {},
   "outputs": [],
   "source": [
    "import numpy as np\n",
    "from datetime import datetime,timedelta,date\n",
    "import pandas as pd\n",
    "from yabox import DE"
   ]
  },
  {
   "cell_type": "markdown",
   "metadata": {},
   "source": [
    "# Initialize Ray"
   ]
  },
  {
   "cell_type": "code",
   "execution_count": 2,
   "metadata": {
    "tags": []
   },
   "outputs": [
    {
     "name": "stderr",
     "output_type": "stream",
     "text": [
      "2020-10-28 21:14:46,374\tINFO resource_spec.py:212 -- Starting Ray with 219.97 GiB memory available for workers and up to 1.0 GiB for objects. You can adjust these settings with ray.init(memory=<bytes>, object_store_memory=<bytes>).\n",
      "2020-10-28 21:14:46,680\tINFO services.py:1170 -- View the Ray dashboard at \u001b[1m\u001b[32mlocalhost:8265\u001b[39m\u001b[22m\n"
     ]
    },
    {
     "data": {
      "text/plain": [
       "ObjectID(45b95b1c8bd3a9c4ffffffff010000c801000000)"
      ]
     },
     "execution_count": 2,
     "metadata": {},
     "output_type": "execute_result"
    }
   ],
   "source": [
    "from environs import Env\n",
    "env = Env()\n",
    "env.str(\"CUDA_DEVICE_ORDER\",'PCI_BUS_ID')\n",
    "env.int(\"CUDA_VISIBLE_DEVICES\",1)\n",
    "env.int(\"NUMBA_ENABLE_CUDASIM\",1)\n",
    "env.bool(\"OMPI_MCA_opal_cuda_support\",True)\n",
    "\n",
    "import os\n",
    "import ray\n",
    "MB=1024*1024\n",
    "GB=MB*1024\n",
    "ray.shutdown()\n",
    "ray.init(object_store_memory=1*GB,memory=220*GB,\n",
    "         lru_evict=True,\n",
    "         driver_object_store_memory=500*MB,num_gpus=5,num_cpus=1,\n",
    "         ignore_reinit_error=True) # , include_webui=False)\n",
    "\n",
    "@ray.remote(num_gpus=1)\n",
    "def use_gpu():\n",
    "    print(\"ray.get_gpu_ids(): {}\".format(ray.get_gpu_ids()[0]))\n",
    "    print(\"CUDA_VISIBLE_DEVICES: {}\".format(os.environ[\"CUDA_VISIBLE_DEVICES\"]))\n",
    "\n",
    "use_gpu.remote()"
   ]
  },
  {
   "cell_type": "markdown",
   "metadata": {},
   "source": [
    "# Load New and Process Data from website data.brasil.io"
   ]
  },
  {
   "cell_type": "code",
   "execution_count": 3,
   "metadata": {
    "tags": []
   },
   "outputs": [],
   "source": [
    "%reload_ext autoreload\n",
    "%autoreload 2\n",
    "import get_data\n",
    "LoadData=True\n",
    "\n",
    "if LoadData:\n",
    "    get_data.get_data()"
   ]
  },
  {
   "cell_type": "markdown",
   "metadata": {},
   "source": [
    "# Functions to Load Processed Data"
   ]
  },
  {
   "cell_type": "code",
   "execution_count": 4,
   "metadata": {},
   "outputs": [],
   "source": [
    "def load_confirmed(country,start_date=None,end_date=None):\n",
    "    df = pd.read_csv('data/time_series_19-covid-Confirmed-country.csv')\n",
    "    country_df = df[df['Country/Region'] == country]\n",
    "    if start_date==None:\n",
    "        return country_df.iloc[0]\n",
    "    else: \n",
    "        return country_df.iloc[0].loc[start_date:end_date]\n",
    "\n",
    "def load_recovered(country,start_date=None,end_date=None):\n",
    "    df = pd.read_csv('data/time_series_19-covid-Recovered-country.csv')\n",
    "    country_df = df[df['Country/Region'] == country]\n",
    "    if start_date==None:\n",
    "        return country_df.iloc[0]\n",
    "    else: \n",
    "        return country_df.iloc[0].loc[start_date:end_date]\n",
    "\n",
    "def load_dead(country,start_date=None,end_date=None):\n",
    "    df = pd.read_csv('data/time_series_19-covid-Deaths-country.csv')\n",
    "    country_df = df[df['Country/Region'] == country]\n",
    "    if start_date==None:\n",
    "        return country_df.iloc[0]\n",
    "    else: \n",
    "        return country_df.iloc[0].loc[start_date:end_date]"
   ]
  },
  {
   "cell_type": "markdown",
   "metadata": {},
   "source": [
    "# Load solver"
   ]
  },
  {
   "cell_type": "code",
   "execution_count": 5,
   "metadata": {},
   "outputs": [
    {
     "name": "stdout",
     "output_type": "stream",
     "text": [
      "\u001b[2m\u001b[36m(pid=32144)\u001b[0m ray.get_gpu_ids(): 4\n",
      "\u001b[2m\u001b[36m(pid=32144)\u001b[0m CUDA_VISIBLE_DEVICES: 4\n"
     ]
    }
   ],
   "source": [
    "%reload_ext autoreload\n",
    "%autoreload 2\n",
    "import LearnerICRayNoLoadBH_v3NewModel as L "
   ]
  },
  {
   "cell_type": "markdown",
   "metadata": {},
   "source": [
    "# Data for Countries"
   ]
  },
  {
   "cell_type": "code",
   "execution_count": 6,
   "metadata": {},
   "outputs": [
    {
     "data": {
      "text/html": [
       "<div>\n",
       "<style scoped>\n",
       "    .dataframe tbody tr th:only-of-type {\n",
       "        vertical-align: middle;\n",
       "    }\n",
       "\n",
       "    .dataframe tbody tr th {\n",
       "        vertical-align: top;\n",
       "    }\n",
       "\n",
       "    .dataframe thead th {\n",
       "        text-align: right;\n",
       "    }\n",
       "</style>\n",
       "<table border=\"1\" class=\"dataframe\">\n",
       "  <thead>\n",
       "    <tr style=\"text-align: right;\">\n",
       "      <th></th>\n",
       "      <th>country</th>\n",
       "      <th>start-date</th>\n",
       "      <th>prediction-range</th>\n",
       "      <th>s0</th>\n",
       "      <th>e0</th>\n",
       "      <th>a0</th>\n",
       "      <th>i0</th>\n",
       "      <th>r0</th>\n",
       "      <th>d0</th>\n",
       "      <th>START</th>\n",
       "      <th>WCASES</th>\n",
       "      <th>WREC</th>\n",
       "      <th>WDTH</th>\n",
       "      <th>popTotal</th>\n",
       "    </tr>\n",
       "  </thead>\n",
       "  <tbody>\n",
       "    <tr>\n",
       "      <th>0</th>\n",
       "      <td>Brazil</td>\n",
       "      <td>3/2/20</td>\n",
       "      <td>200</td>\n",
       "      <td>2.125594e+08</td>\n",
       "      <td>0.0001</td>\n",
       "      <td>0.0001</td>\n",
       "      <td>200</td>\n",
       "      <td>100</td>\n",
       "      <td>50</td>\n",
       "      <td>50</td>\n",
       "      <td>0.15</td>\n",
       "      <td>0.05</td>\n",
       "      <td>0.8</td>\n",
       "      <td>2.125594e+08</td>\n",
       "    </tr>\n",
       "    <tr>\n",
       "      <th>1</th>\n",
       "      <td>China</td>\n",
       "      <td>1/28/20</td>\n",
       "      <td>200</td>\n",
       "      <td>1.439324e+09</td>\n",
       "      <td>0.0001</td>\n",
       "      <td>0.0001</td>\n",
       "      <td>200</td>\n",
       "      <td>100</td>\n",
       "      <td>50</td>\n",
       "      <td>50</td>\n",
       "      <td>0.15</td>\n",
       "      <td>0.05</td>\n",
       "      <td>0.8</td>\n",
       "      <td>1.439324e+09</td>\n",
       "    </tr>\n",
       "    <tr>\n",
       "      <th>2</th>\n",
       "      <td>Italy</td>\n",
       "      <td>2/28/20</td>\n",
       "      <td>200</td>\n",
       "      <td>6.046183e+07</td>\n",
       "      <td>0.0001</td>\n",
       "      <td>0.0001</td>\n",
       "      <td>200</td>\n",
       "      <td>100</td>\n",
       "      <td>50</td>\n",
       "      <td>50</td>\n",
       "      <td>0.15</td>\n",
       "      <td>0.05</td>\n",
       "      <td>0.8</td>\n",
       "      <td>6.046183e+07</td>\n",
       "    </tr>\n",
       "    <tr>\n",
       "      <th>3</th>\n",
       "      <td>US</td>\n",
       "      <td>2/20/20</td>\n",
       "      <td>200</td>\n",
       "      <td>3.310026e+08</td>\n",
       "      <td>0.0001</td>\n",
       "      <td>0.0001</td>\n",
       "      <td>200</td>\n",
       "      <td>100</td>\n",
       "      <td>50</td>\n",
       "      <td>50</td>\n",
       "      <td>0.15</td>\n",
       "      <td>0.05</td>\n",
       "      <td>0.8</td>\n",
       "      <td>3.310026e+08</td>\n",
       "    </tr>\n",
       "    <tr>\n",
       "      <th>4</th>\n",
       "      <td>India</td>\n",
       "      <td>3/10/20</td>\n",
       "      <td>200</td>\n",
       "      <td>1.380004e+09</td>\n",
       "      <td>0.0001</td>\n",
       "      <td>0.0001</td>\n",
       "      <td>200</td>\n",
       "      <td>100</td>\n",
       "      <td>50</td>\n",
       "      <td>50</td>\n",
       "      <td>0.15</td>\n",
       "      <td>0.05</td>\n",
       "      <td>0.8</td>\n",
       "      <td>1.380004e+09</td>\n",
       "    </tr>\n",
       "  </tbody>\n",
       "</table>\n",
       "</div>"
      ],
      "text/plain": [
       "  country start-date  prediction-range            s0      e0      a0   i0  \\\n",
       "0  Brazil     3/2/20               200  2.125594e+08  0.0001  0.0001  200   \n",
       "1   China    1/28/20               200  1.439324e+09  0.0001  0.0001  200   \n",
       "2   Italy    2/28/20               200  6.046183e+07  0.0001  0.0001  200   \n",
       "3      US    2/20/20               200  3.310026e+08  0.0001  0.0001  200   \n",
       "4   India    3/10/20               200  1.380004e+09  0.0001  0.0001  200   \n",
       "\n",
       "    r0  d0  START  WCASES  WREC  WDTH      popTotal  \n",
       "0  100  50     50    0.15  0.05   0.8  2.125594e+08  \n",
       "1  100  50     50    0.15  0.05   0.8  1.439324e+09  \n",
       "2  100  50     50    0.15  0.05   0.8  6.046183e+07  \n",
       "3  100  50     50    0.15  0.05   0.8  3.310026e+08  \n",
       "4  100  50     50    0.15  0.05   0.8  1.380004e+09  "
      ]
     },
     "metadata": {},
     "output_type": "display_data"
    }
   ],
   "source": [
    "dfparam = pd.read_csv(\"data/param.csv\")\n",
    "countries=dfparam.country\n",
    "popEst = pd.read_csv(\"data/WPP2019_TotalPopulationBySex.csv\")\n",
    "popEst['popTotal']=pd.to_numeric(popEst.PopTotal, errors='coerce')\n",
    "\n",
    "for country in countries:\n",
    "    if country==\"US\":\n",
    "        country2=\"United States of America\"    \n",
    "    else:\n",
    "        country2=country\n",
    "    dfparam.loc[dfparam.country==country,'popTotal']=popEst.loc[popEst.Location==country2].loc[popEst.Time==2020].iloc[0,8]*1000\n",
    "    dfparam.loc[dfparam.country==country,'s0']=popEst.loc[popEst.Location==country2].loc[popEst.Time==2020].iloc[0,8]*1000\n",
    "    \n",
    "display(dfparam)\n",
    "    "
   ]
  },
  {
   "cell_type": "markdown",
   "metadata": {},
   "source": [
    "# Functions for Optimization"
   ]
  },
  {
   "cell_type": "code",
   "execution_count": 7,
   "metadata": {},
   "outputs": [],
   "source": [
    "from scipy.integrate import odeint\n",
    "import sys\n",
    "import io\n",
    "import gc\n",
    "\n",
    "def create_f(country,e0,a0,date,endDate,predict_range, version):\n",
    "                \n",
    "    def fobjective(point):\n",
    "        dead=  load_dead(country,date,endDate)\n",
    "        recovered = load_recovered(country,date,endDate)\n",
    "        data = load_confirmed(country,date,endDate)-recovered-dead\n",
    "        cleanRecovered=False\n",
    "        s0, deltaDate, i0, d0, r0, startNCases, weigthCases, weigthRecov, weightDeath = point\n",
    "        end_date=datetime.strptime(date, \"%m/%d/%y\") + timedelta(days=deltaDate)\n",
    "        f=L.Learner.remote(country, end_date.strftime(\"%m/%d/%y\"), predict_range,\\\n",
    "                           s0, e0, a0, i0, r0, d0, startNCases, weigthCases, weigthRecov, weightDeath, \\\n",
    "                           cleanRecovered, version, data, dead, recovered, savedata=False)\n",
    "        result = f.train.remote() \n",
    "        result = ray.get(result) \n",
    "\n",
    "        del end_date,cleanRecovered, data, dead, point,f         \n",
    "\n",
    "        gc.collect()\n",
    "\n",
    "        return result\n",
    "    return fobjective"
   ]
  },
  {
   "cell_type": "code",
   "execution_count": 8,
   "metadata": {},
   "outputs": [],
   "source": [
    "@ray.remote(memory=50 * 1024 * 1024, max_calls=1)\n",
    "def opt(country,s0,i0,e0,a0,r0,d0,wcases,wrec,wdeath,date,endDate,startNCases, \n",
    "        predict_range, version):\n",
    "\n",
    "    bounds=[(20e3,s0),(-2,2),(0,500), (0,500),(0,500),(0,500),\\\n",
    "              (0.15,1.0),(0.1,0.5),(0.1,0.5)]\n",
    "    maxiterations=500\n",
    "    f=create_f(country,e0,a0,date,endDate,predict_range, version)\n",
    "    de = DE(f, bounds, maxiters=maxiterations)\n",
    "    for step in de.geniterator():\n",
    "        try:\n",
    "            idx = step.best_idx\n",
    "            norm_vector = step.population[idx]\n",
    "            best_params = de.denormalize([norm_vector])\n",
    "            del norm_vector, idx\n",
    "        except:\n",
    "            print(\"error in function evaluation\")\n",
    "    p=best_params[0]\n",
    "    del f, bounds, data, dead,best_params\n",
    "    \n",
    "    return p"
   ]
  },
  {
   "cell_type": "markdown",
   "metadata": {},
   "source": [
    "# Main Code"
   ]
  },
  {
   "cell_type": "code",
   "execution_count": 9,
   "metadata": {},
   "outputs": [
    {
     "data": {
      "application/javascript": [
       "IPython.OutputArea.prototype._should_scroll = function(lines){\n",
       "    return true;}\n"
      ],
      "text/plain": [
       "<IPython.core.display.Javascript object>"
      ]
     },
     "metadata": {},
     "output_type": "display_data"
    }
   ],
   "source": [
    "%%javascript\n",
    "IPython.OutputArea.prototype._should_scroll = function(lines){\n",
    "    return true;}"
   ]
  },
  {
   "cell_type": "code",
   "execution_count": 10,
   "metadata": {
    "tags": []
   },
   "outputs": [
    {
     "data": {
      "text/plain": [
       "0    Brazil\n",
       "1     China\n",
       "2     Italy\n",
       "3        US\n",
       "4     India\n",
       "Name: country, dtype: object"
      ]
     },
     "metadata": {},
     "output_type": "display_data"
    }
   ],
   "source": [
    "countries=dfparam.country\n",
    "display(countries)\n",
    "version=\"014\"\n",
    "gc.enable()\n",
    "\n",
    "flagFirstWave=True\n",
    "finalDate=date.today()+ timedelta(days=-1)\n",
    "finalDateStr= datetime.strftime(finalDate, '%-m/%-d/%y')\n",
    "if flagFirstWave:\n",
    "    firstWave=['10/1/20','6/1/20','8/1/20',finalDateStr,finalDateStr]\n",
    "else:\n",
    "    firstWave=[finalDateStr,finalDateStr,finalDateStr,finalDateStr,finalDateStr]\n",
    "\n",
    "optimal=[]\n",
    "i=0\n",
    "for country in countries:\n",
    "    #remove previous history file\n",
    "    strFile='./results/history_'+country+version+'.csv'\n",
    "    if os.path.isfile(strFile):\n",
    "        os.remove(strFile)\n",
    "    query = dfparam.query('country == \"{}\"'.format(country)).reset_index()\n",
    "    parameters = np.array(query.iloc[:, 2:])[0]\n",
    "    endDate=firstWave[i]\n",
    "    date,predict_range,s0,e0,a0,i0,r0,d0,startNCases,wcases,wrec,wdth, pop = parameters\n",
    "    optimal.append(opt.remote(country,s0,i0,e0,a0,r0,d0,wcases,wrec,wdth,date,endDate,startNCases, \n",
    "                                        predict_range, version)) \n",
    "    i+=1         "
   ]
  },
  {
   "cell_type": "code",
   "execution_count": null,
   "metadata": {
    "tags": [
     "outputPrepend"
    ]
   },
   "outputs": [
    {
     "name": "stderr",
     "output_type": "stream",
     "text": [
      "2020-10-28 21:14:49,139\tWARNING worker.py:1090 -- WARNING: 3 PYTHON workers have been started. This could be a result of using a large number of actors, or it could be a consequence of using nested tasks (see https://github.com/ray-project/ray/issues/3644) for some a discussion of workarounds.\n",
      "2020-10-28 21:14:50,055\tWARNING worker.py:1090 -- WARNING: 4 PYTHON workers have been started. This could be a result of using a large number of actors, or it could be a consequence of using nested tasks (see https://github.com/ray-project/ray/issues/3644) for some a discussion of workarounds.\n",
      "2020-10-28 21:14:50,452\tWARNING worker.py:1090 -- WARNING: 5 PYTHON workers have been started. This could be a result of using a large number of actors, or it could be a consequence of using nested tasks (see https://github.com/ray-project/ray/issues/3644) for some a discussion of workarounds.\n",
      "2020-10-28 21:14:51,364\tWARNING worker.py:1090 -- WARNING: 6 PYTHON workers have been started. This could be a result of using a large number of actors, or it could be a consequence of using nested tasks (see https://github.com/ray-project/ray/issues/3644) for some a discussion of workarounds.\n",
      "2020-10-28 21:14:51,802\tWARNING worker.py:1090 -- WARNING: 7 PYTHON workers have been started. This could be a result of using a large number of actors, or it could be a consequence of using nested tasks (see https://github.com/ray-project/ray/issues/3644) for some a discussion of workarounds.\n",
      "2020-10-28 21:14:52,739\tWARNING worker.py:1090 -- WARNING: 8 PYTHON workers have been started. This could be a result of using a large number of actors, or it could be a consequence of using nested tasks (see https://github.com/ray-project/ray/issues/3644) for some a discussion of workarounds.\n",
      "2020-10-28 21:14:53,145\tWARNING worker.py:1090 -- WARNING: 9 PYTHON workers have been started. This could be a result of using a large number of actors, or it could be a consequence of using nested tasks (see https://github.com/ray-project/ray/issues/3644) for some a discussion of workarounds.\n",
      "2020-10-28 21:14:54,098\tWARNING worker.py:1090 -- WARNING: 10 PYTHON workers have been started. This could be a result of using a large number of actors, or it could be a consequence of using nested tasks (see https://github.com/ray-project/ray/issues/3644) for some a discussion of workarounds.\n"
     ]
    },
    {
     "name": "stdout",
     "output_type": "stream",
     "text": [
      "\u001b[2m\u001b[36m(pid=32215)\u001b[0m warning: basinhopping: local minimization failure\n",
      "\u001b[2m\u001b[36m(pid=32215)\u001b[0m basinhopping step 0: f 3.28235e+15\n",
      "\u001b[2m\u001b[36m(pid=32254)\u001b[0m basinhopping step 0: f 7.60164e+09\n",
      "\u001b[2m\u001b[36m(pid=32254)\u001b[0m warning: basinhopping: local minimization failure\n",
      "\u001b[2m\u001b[36m(pid=32254)\u001b[0m basinhopping step 1: f 7.60164e+09 trial_f 1.00732e+10 accepted 0  lowest_f 7.60164e+09\n",
      "\u001b[2m\u001b[36m(pid=32215)\u001b[0m basinhopping step 1: f 1.29791e+09 trial_f 1.29791e+09 accepted 1  lowest_f 1.29791e+09\n",
      "\u001b[2m\u001b[36m(pid=32215)\u001b[0m found new global minimum on step 1 with function value 1.29791e+09\n",
      "\u001b[2m\u001b[36m(pid=32280)\u001b[0m basinhopping step 0: f 4.40347e+12\n",
      "\u001b[2m\u001b[36m(pid=32306)\u001b[0m warning: basinhopping: local minimization failure\n",
      "\u001b[2m\u001b[36m(pid=32306)\u001b[0m basinhopping step 0: f 2.88852e+12\n",
      "\u001b[2m\u001b[36m(pid=32215)\u001b[0m basinhopping step 2: f 1.29791e+09 trial_f 2.55532e+16 accepted 0  lowest_f 1.29791e+09\n",
      "\u001b[2m\u001b[36m(pid=32254)\u001b[0m basinhopping step 2: f 7.60164e+09 trial_f 1.0037e+10 accepted 0  lowest_f 7.60164e+09\n",
      "\u001b[2m\u001b[36m(pid=32189)\u001b[0m basinhopping step 0: f 1.60461e+11\n",
      "\u001b[2m\u001b[36m(pid=32306)\u001b[0m basinhopping step 1: f 2.88852e+12 trial_f 2.06219e+15 accepted 0  lowest_f 2.88852e+12\n",
      "\u001b[2m\u001b[36m(pid=32254)\u001b[0m basinhopping step 3: f 7.60164e+09 trial_f 2.66467e+13 accepted 0  lowest_f 7.60164e+09\n",
      "\u001b[2m\u001b[36m(pid=32280)\u001b[0m basinhopping step 1: f 4.40347e+12 trial_f 4.62656e+12 accepted 0  lowest_f 4.40347e+12\n",
      "\u001b[2m\u001b[36m(pid=32215)\u001b[0m basinhopping step 3: f 1.29791e+09 trial_f 2.58615e+16 accepted 0  lowest_f 1.29791e+09\n",
      "\u001b[2m\u001b[36m(pid=32189)\u001b[0m basinhopping step 1: f 1.60461e+11 trial_f 2.89031e+14 accepted 0  lowest_f 1.60461e+11\n",
      "\u001b[2m\u001b[36m(pid=32306)\u001b[0m basinhopping step 2: f 2.88852e+12 trial_f 8.04126e+15 accepted 0  lowest_f 2.88852e+12\n",
      "\u001b[2m\u001b[36m(pid=32254)\u001b[0m basinhopping step 4: f 7.33962e+09 trial_f 7.33962e+09 accepted 1  lowest_f 7.33962e+09\n",
      "\u001b[2m\u001b[36m(pid=32254)\u001b[0m found new global minimum on step 4 with function value 7.33962e+09\n",
      "\u001b[2m\u001b[36m(pid=32189)\u001b[0m basinhopping step 2: f 1.60461e+11 trial_f 1.1392e+15 accepted 0  lowest_f 1.60461e+11\n",
      "\u001b[2m\u001b[36m(pid=32215)\u001b[0m basinhopping step 4: f 1.29791e+09 trial_f 2.62855e+16 accepted 0  lowest_f 1.29791e+09\n",
      "\u001b[2m\u001b[36m(pid=32280)\u001b[0m warning: basinhopping: local minimization failure\n",
      "\u001b[2m\u001b[36m(pid=32280)\u001b[0m basinhopping step 2: f 2.48131e+12 trial_f 2.48131e+12 accepted 1  lowest_f 2.48131e+12\n",
      "\u001b[2m\u001b[36m(pid=32280)\u001b[0m found new global minimum on step 2 with function value 2.48131e+12\n",
      "\u001b[2m\u001b[36m(pid=32215)\u001b[0m basinhopping step 5: f 1.29791e+09 trial_f 4.12121e+16 accepted 0  lowest_f 1.29791e+09\n",
      "\u001b[2m\u001b[36m(pid=32254)\u001b[0m basinhopping step 5: f 7.33962e+09 trial_f 1.43895e+13 accepted 0  lowest_f 7.33962e+09\n",
      "\u001b[2m\u001b[36m(pid=32306)\u001b[0m basinhopping step 3: f 2.88852e+12 trial_f 3.05695e+12 accepted 0  lowest_f 2.88852e+12\n",
      "\u001b[2m\u001b[36m(pid=32280)\u001b[0m basinhopping step 3: f 2.48131e+12 trial_f 1.35075e+15 accepted 0  lowest_f 2.48131e+12\n",
      "\u001b[2m\u001b[36m(pid=32215)\u001b[0m warning: basinhopping: local minimization failure\n",
      "\u001b[2m\u001b[36m(pid=32215)\u001b[0m basinhopping step 6: f 1.29791e+09 trial_f 1.8281e+09 accepted 0  lowest_f 1.29791e+09\n",
      "\u001b[2m\u001b[36m(pid=32189)\u001b[0m basinhopping step 3: f 1.60461e+11 trial_f 4.84743e+14 accepted 0  lowest_f 1.60461e+11\n",
      "\u001b[2m\u001b[36m(pid=32306)\u001b[0m basinhopping step 4: f 2.88852e+12 trial_f 4.98661e+15 accepted 0  lowest_f 2.88852e+12\n",
      "\u001b[2m\u001b[36m(pid=32306)\u001b[0m warning: basinhopping: local minimization failure\n",
      "\u001b[2m\u001b[36m(pid=32306)\u001b[0m basinhopping step 5: f 2.88852e+12 trial_f 3.07016e+12 accepted 0  lowest_f 2.88852e+12\n",
      "\u001b[2m\u001b[36m(pid=32280)\u001b[0m basinhopping step 4: f 2.48131e+12 trial_f 2.17342e+14 accepted 0  lowest_f 2.48131e+12\n",
      "\u001b[2m\u001b[36m(pid=32215)\u001b[0m warning: basinhopping: local minimization failure\n",
      "\u001b[2m\u001b[36m(pid=32215)\u001b[0m basinhopping step 7: f 1.29791e+09 trial_f 1.85689e+09 accepted 0  lowest_f 1.29791e+09\n",
      "\u001b[2m\u001b[36m(pid=32215)\u001b[0m basinhopping step 8: f 1.29791e+09 trial_f 1.72912e+09 accepted 0  lowest_f 1.29791e+09\n",
      "\u001b[2m\u001b[36m(pid=32189)\u001b[0m basinhopping step 4: f 1.60461e+11 trial_f 4.60274e+13 accepted 0  lowest_f 1.60461e+11\n",
      "\u001b[2m\u001b[36m(pid=32280)\u001b[0m basinhopping step 5: f 2.48131e+12 trial_f 4.23177e+12 accepted 0  lowest_f 2.48131e+12\n",
      "\u001b[2m\u001b[36m(pid=32215)\u001b[0m warning: basinhopping: local minimization failure\n",
      "\u001b[2m\u001b[36m(pid=32215)\u001b[0m basinhopping step 9: f 1.29791e+09 trial_f 1.60335e+09 accepted 0  lowest_f 1.29791e+09\n",
      "\u001b[2m\u001b[36m(pid=32306)\u001b[0m warning: basinhopping: local minimization failure\n",
      "\u001b[2m\u001b[36m(pid=32306)\u001b[0m basinhopping step 6: f 2.88852e+12 trial_f 3.07016e+12 accepted 0  lowest_f 2.88852e+12\n",
      "\u001b[2m\u001b[36m(pid=32280)\u001b[0m basinhopping step 6: f 2.48131e+12 trial_f 1.57503e+15 accepted 0  lowest_f 2.48131e+12\n",
      "\u001b[2m\u001b[36m(pid=32215)\u001b[0m warning: basinhopping: local minimization failure\n",
      "\u001b[2m\u001b[36m(pid=32215)\u001b[0m basinhopping step 10: f 1.29791e+09 trial_f 1.77121e+09 accepted 0  lowest_f 1.29791e+09\n"
     ]
    },
    {
     "name": "stderr",
     "output_type": "stream",
     "text": [
      "2020-10-28 21:15:53,163\tWARNING worker.py:1090 -- WARNING: 10 PYTHON workers have been started. This could be a result of using a large number of actors, or it could be a consequence of using nested tasks (see https://github.com/ray-project/ray/issues/3644) for some a discussion of workarounds.\n"
     ]
    },
    {
     "name": "stdout",
     "output_type": "stream",
     "text": [
      "\u001b[2m\u001b[36m(pid=32254)\u001b[0m basinhopping step 6: f 7.33962e+09 trial_f 1.93274e+12 accepted 0  lowest_f 7.33962e+09\n",
      "\u001b[2m\u001b[36m(pid=32365)\u001b[0m basinhopping step 0: f 1.22676e+14\n",
      "\u001b[2m\u001b[36m(pid=32189)\u001b[0m basinhopping step 5: f 1.60461e+11 trial_f 5.63691e+13 accepted 0  lowest_f 1.60461e+11\n",
      "\u001b[2m\u001b[36m(pid=32306)\u001b[0m basinhopping step 7: f 2.88852e+12 trial_f 8.30604e+15 accepted 0  lowest_f 2.88852e+12\n",
      "\u001b[2m\u001b[36m(pid=32189)\u001b[0m basinhopping step 6: f 1.60461e+11 trial_f 3.90206e+14 accepted 0  lowest_f 1.60461e+11\n",
      "\u001b[2m\u001b[36m(pid=32365)\u001b[0m basinhopping step 1: f 6.2314e+08 trial_f 6.2314e+08 accepted 1  lowest_f 6.2314e+08\n",
      "\u001b[2m\u001b[36m(pid=32365)\u001b[0m found new global minimum on step 1 with function value 6.2314e+08\n",
      "\u001b[2m\u001b[36m(pid=32254)\u001b[0m basinhopping step 7: f 7.33962e+09 trial_f 1.48524e+13 accepted 0  lowest_f 7.33962e+09\n",
      "\u001b[2m\u001b[36m(pid=32365)\u001b[0m basinhopping step 2: f 6.2314e+08 trial_f 6.11994e+14 accepted 0  lowest_f 6.2314e+08\n",
      "\u001b[2m\u001b[36m(pid=32280)\u001b[0m basinhopping step 7: f 2.48131e+12 trial_f 1.56011e+15 accepted 0  lowest_f 2.48131e+12\n",
      "\u001b[2m\u001b[36m(pid=32254)\u001b[0m basinhopping step 8: f 7.33962e+09 trial_f 2.22521e+13 accepted 0  lowest_f 7.33962e+09\n",
      "\u001b[2m\u001b[36m(pid=32254)\u001b[0m warning: basinhopping: local minimization failure\n",
      "\u001b[2m\u001b[36m(pid=32254)\u001b[0m basinhopping step 9: f 7.33962e+09 trial_f 1.01233e+10 accepted 0  lowest_f 7.33962e+09\n",
      "\u001b[2m\u001b[36m(pid=32365)\u001b[0m basinhopping step 3: f 6.2314e+08 trial_f 6.2314e+08 accepted 1  lowest_f 6.2314e+08\n",
      "\u001b[2m\u001b[36m(pid=32280)\u001b[0m basinhopping step 8: f 2.48131e+12 trial_f 4.34168e+12 accepted 0  lowest_f 2.48131e+12\n",
      "\u001b[2m\u001b[36m(pid=32306)\u001b[0m basinhopping step 8: f 2.88852e+12 trial_f 3.06989e+12 accepted 0  lowest_f 2.88852e+12\n",
      "\u001b[2m\u001b[36m(pid=32189)\u001b[0m basinhopping step 7: f 1.60461e+11 trial_f 5.46471e+11 accepted 0  lowest_f 1.60461e+11\n",
      "\u001b[2m\u001b[36m(pid=32280)\u001b[0m basinhopping step 9: f 2.48131e+12 trial_f 4.62656e+12 accepted 0  lowest_f 2.48131e+12\n",
      "\u001b[2m\u001b[36m(pid=32306)\u001b[0m warning: basinhopping: local minimization failure\n",
      "\u001b[2m\u001b[36m(pid=32306)\u001b[0m basinhopping step 9: f 2.88852e+12 trial_f 3.07015e+12 accepted 0  lowest_f 2.88852e+12\n",
      "\u001b[2m\u001b[36m(pid=32365)\u001b[0m basinhopping step 4: f 6.2314e+08 trial_f 6.57055e+14 accepted 0  lowest_f 6.2314e+08\n",
      "\u001b[2m\u001b[36m(pid=32280)\u001b[0m basinhopping step 10: f 2.48131e+12 trial_f 1.63822e+15 accepted 0  lowest_f 2.48131e+12\n"
     ]
    },
    {
     "name": "stderr",
     "output_type": "stream",
     "text": [
      "2020-10-28 21:16:17,527\tWARNING worker.py:1090 -- WARNING: 10 PYTHON workers have been started. This could be a result of using a large number of actors, or it could be a consequence of using nested tasks (see https://github.com/ray-project/ray/issues/3644) for some a discussion of workarounds.\n"
     ]
    },
    {
     "name": "stdout",
     "output_type": "stream",
     "text": [
      "\u001b[2m\u001b[36m(pid=32254)\u001b[0m basinhopping step 10: f 7.33962e+09 trial_f 2.17427e+12 accepted 0  lowest_f 7.33962e+09\n",
      "\u001b[2m\u001b[36m(pid=32365)\u001b[0m basinhopping step 5: f 6.2314e+08 trial_f 6.2314e+08 accepted 1  lowest_f 6.2314e+08\n"
     ]
    },
    {
     "name": "stderr",
     "output_type": "stream",
     "text": [
      "2020-10-28 21:16:22,095\tWARNING worker.py:1090 -- WARNING: 10 PYTHON workers have been started. This could be a result of using a large number of actors, or it could be a consequence of using nested tasks (see https://github.com/ray-project/ray/issues/3644) for some a discussion of workarounds.\n"
     ]
    },
    {
     "name": "stdout",
     "output_type": "stream",
     "text": [
      "\u001b[2m\u001b[36m(pid=32365)\u001b[0m basinhopping step 6: f 6.2314e+08 trial_f 8.29787e+08 accepted 0  lowest_f 6.2314e+08\n",
      "\u001b[2m\u001b[36m(pid=32189)\u001b[0m basinhopping step 8: f 1.60461e+11 trial_f 1.76377e+14 accepted 0  lowest_f 1.60461e+11\n",
      "\u001b[2m\u001b[36m(pid=32434)\u001b[0m warning: basinhopping: local minimization failure\n",
      "\u001b[2m\u001b[36m(pid=32434)\u001b[0m basinhopping step 0: f 4.97014e+09\n",
      "\u001b[2m\u001b[36m(pid=32306)\u001b[0m warning: basinhopping: local minimization failure\n",
      "\u001b[2m\u001b[36m(pid=32306)\u001b[0m basinhopping step 10: f 2.88852e+12 trial_f 3.07016e+12 accepted 0  lowest_f 2.88852e+12\n"
     ]
    },
    {
     "name": "stderr",
     "output_type": "stream",
     "text": [
      "2020-10-28 21:16:26,777\tWARNING worker.py:1090 -- WARNING: 10 PYTHON workers have been started. This could be a result of using a large number of actors, or it could be a consequence of using nested tasks (see https://github.com/ray-project/ray/issues/3644) for some a discussion of workarounds.\n"
     ]
    },
    {
     "name": "stdout",
     "output_type": "stream",
     "text": [
      "\u001b[2m\u001b[36m(pid=32408)\u001b[0m basinhopping step 0: f 2.05414e+13\n",
      "\u001b[2m\u001b[36m(pid=32189)\u001b[0m basinhopping step 9: f 1.60461e+11 trial_f 5.55853e+11 accepted 0  lowest_f 1.60461e+11\n",
      "\u001b[2m\u001b[36m(pid=32434)\u001b[0m basinhopping step 1: f 4.97014e+09 trial_f 4.98514e+13 accepted 0  lowest_f 4.97014e+09\n",
      "\u001b[2m\u001b[36m(pid=32408)\u001b[0m basinhopping step 1: f 2.05414e+13 trial_f 4.7498e+14 accepted 0  lowest_f 2.05414e+13\n",
      "\u001b[2m\u001b[36m(pid=32434)\u001b[0m basinhopping step 2: f 4.97014e+09 trial_f 5.89661e+12 accepted 0  lowest_f 4.97014e+09\n",
      "\u001b[2m\u001b[36m(pid=32189)\u001b[0m basinhopping step 10: f 1.60461e+11 trial_f 3.94888e+14 accepted 0  lowest_f 1.60461e+11\n"
     ]
    },
    {
     "name": "stderr",
     "output_type": "stream",
     "text": [
      "2020-10-28 21:16:39,584\tWARNING worker.py:1090 -- WARNING: 10 PYTHON workers have been started. This could be a result of using a large number of actors, or it could be a consequence of using nested tasks (see https://github.com/ray-project/ray/issues/3644) for some a discussion of workarounds.\n"
     ]
    },
    {
     "name": "stdout",
     "output_type": "stream",
     "text": [
      "\u001b[2m\u001b[36m(pid=32365)\u001b[0m basinhopping step 7: f 6.2314e+08 trial_f 6.31215e+08 accepted 0  lowest_f 6.2314e+08\n",
      "\u001b[2m\u001b[36m(pid=32447)\u001b[0m basinhopping step 0: f 2.77856e+15\n",
      "\u001b[2m\u001b[36m(pid=32434)\u001b[0m warning: basinhopping: local minimization failure\n",
      "\u001b[2m\u001b[36m(pid=32434)\u001b[0m basinhopping step 3: f 4.96798e+09 trial_f 4.96798e+09 accepted 1  lowest_f 4.96798e+09\n",
      "\u001b[2m\u001b[36m(pid=32434)\u001b[0m found new global minimum on step 3 with function value 4.96798e+09\n",
      "\u001b[2m\u001b[36m(pid=32365)\u001b[0m basinhopping step 8: f 6.2314e+08 trial_f 8.33508e+08 accepted 0  lowest_f 6.2314e+08\n",
      "\u001b[2m\u001b[36m(pid=32434)\u001b[0m basinhopping step 4: f 3.56235e+09 trial_f 3.56235e+09 accepted 1  lowest_f 3.56235e+09\n",
      "\u001b[2m\u001b[36m(pid=32434)\u001b[0m found new global minimum on step 4 with function value 3.56235e+09\n",
      "\u001b[2m\u001b[36m(pid=32408)\u001b[0m basinhopping step 2: f 1.5274e+12 trial_f 1.5274e+12 accepted 1  lowest_f 1.5274e+12\n",
      "\u001b[2m\u001b[36m(pid=32408)\u001b[0m found new global minimum on step 2 with function value 1.5274e+12\n",
      "\u001b[2m\u001b[36m(pid=32460)\u001b[0m warning: basinhopping: local minimization failure\n",
      "\u001b[2m\u001b[36m(pid=32460)\u001b[0m basinhopping step 0: f 4.15846e+11\n",
      "\u001b[2m\u001b[36m(pid=32434)\u001b[0m basinhopping step 5: f 3.56235e+09 trial_f 5.89089e+12 accepted 0  lowest_f 3.56235e+09\n",
      "\u001b[2m\u001b[36m(pid=32365)\u001b[0m basinhopping step 9: f 6.2314e+08 trial_f 8.22801e+14 accepted 0  lowest_f 6.2314e+08\n",
      "\u001b[2m\u001b[36m(pid=32408)\u001b[0m basinhopping step 3: f 1.5274e+12 trial_f 1.39549e+14 accepted 0  lowest_f 1.5274e+12\n",
      "\u001b[2m\u001b[36m(pid=32460)\u001b[0m basinhopping step 1: f 4.15846e+11 trial_f 9.25852e+13 accepted 0  lowest_f 4.15846e+11\n",
      "\u001b[2m\u001b[36m(pid=32408)\u001b[0m basinhopping step 4: f 1.5274e+12 trial_f 4.61109e+13 accepted 0  lowest_f 1.5274e+12\n",
      "\u001b[2m\u001b[36m(pid=32447)\u001b[0m basinhopping step 1: f 2.77856e+15 trial_f 1.41815e+16 accepted 0  lowest_f 2.77856e+15\n",
      "\u001b[2m\u001b[36m(pid=32460)\u001b[0m basinhopping step 2: f 4.15846e+11 trial_f 8.38256e+13 accepted 0  lowest_f 4.15846e+11\n",
      "\u001b[2m\u001b[36m(pid=32460)\u001b[0m basinhopping step 3: f 4.15846e+11 trial_f 3.3584e+14 accepted 0  lowest_f 4.15846e+11\n",
      "\u001b[2m\u001b[36m(pid=32408)\u001b[0m basinhopping step 5: f 1.5274e+12 trial_f 3.64913e+13 accepted 0  lowest_f 1.5274e+12\n",
      "\u001b[2m\u001b[36m(pid=32365)\u001b[0m basinhopping step 10: f 6.2314e+08 trial_f 8.27725e+08 accepted 0  lowest_f 6.2314e+08\n"
     ]
    },
    {
     "name": "stderr",
     "output_type": "stream",
     "text": [
      "2020-10-28 21:17:06,243\tWARNING worker.py:1090 -- WARNING: 10 PYTHON workers have been started. This could be a result of using a large number of actors, or it could be a consequence of using nested tasks (see https://github.com/ray-project/ray/issues/3644) for some a discussion of workarounds.\n"
     ]
    },
    {
     "name": "stdout",
     "output_type": "stream",
     "text": [
      "\u001b[2m\u001b[36m(pid=32447)\u001b[0m basinhopping step 2: f 2.77856e+15 trial_f 3.28461e+15 accepted 0  lowest_f 2.77856e+15\n",
      "\u001b[2m\u001b[36m(pid=32434)\u001b[0m warning: basinhopping: local minimization failure\n",
      "\u001b[2m\u001b[36m(pid=32434)\u001b[0m basinhopping step 6: f 3.56235e+09 trial_f 4.56247e+09 accepted 0  lowest_f 3.56235e+09\n",
      "\u001b[2m\u001b[36m(pid=32522)\u001b[0m warning: basinhopping: local minimization failure\n",
      "\u001b[2m\u001b[36m(pid=32522)\u001b[0m basinhopping step 0: f 1.31042e+15\n",
      "\u001b[2m\u001b[36m(pid=32460)\u001b[0m basinhopping step 4: f 4.15846e+11 trial_f 3.03897e+13 accepted 0  lowest_f 4.15846e+11\n",
      "\u001b[2m\u001b[36m(pid=32522)\u001b[0m basinhopping step 1: f 1.31042e+15 trial_f 8.86769e+16 accepted 0  lowest_f 1.31042e+15\n",
      "\u001b[2m\u001b[36m(pid=32522)\u001b[0m basinhopping step 2: f 1.31042e+15 trial_f 8.20526e+15 accepted 0  lowest_f 1.31042e+15\n",
      "\u001b[2m\u001b[36m(pid=32447)\u001b[0m basinhopping step 3: f 2.42032e+15 trial_f 2.42032e+15 accepted 1  lowest_f 2.42032e+15\n",
      "\u001b[2m\u001b[36m(pid=32447)\u001b[0m found new global minimum on step 3 with function value 2.42032e+15\n",
      "\u001b[2m\u001b[36m(pid=32460)\u001b[0m basinhopping step 5: f 4.15846e+11 trial_f 6.89632e+13 accepted 0  lowest_f 4.15846e+11\n",
      "\u001b[2m\u001b[36m(pid=32447)\u001b[0m basinhopping step 4: f 2.42032e+15 trial_f 1.75743e+16 accepted 0  lowest_f 2.42032e+15\n",
      "\u001b[2m\u001b[36m(pid=32408)\u001b[0m basinhopping step 6: f 1.5274e+12 trial_f 2.05598e+14 accepted 0  lowest_f 1.5274e+12\n",
      "\u001b[2m\u001b[36m(pid=32434)\u001b[0m basinhopping step 7: f 3.56235e+09 trial_f 3.48507e+13 accepted 0  lowest_f 3.56235e+09\n",
      "\u001b[2m\u001b[36m(pid=32408)\u001b[0m warning: basinhopping: local minimization failure\n",
      "\u001b[2m\u001b[36m(pid=32408)\u001b[0m basinhopping step 7: f 1.5274e+12 trial_f 3.11992e+12 accepted 0  lowest_f 1.5274e+12\n",
      "\u001b[2m\u001b[36m(pid=32460)\u001b[0m warning: basinhopping: local minimization failure\n",
      "\u001b[2m\u001b[36m(pid=32460)\u001b[0m basinhopping step 6: f 4.15846e+11 trial_f 1.18372e+12 accepted 0  lowest_f 4.15846e+11\n",
      "\u001b[2m\u001b[36m(pid=32522)\u001b[0m basinhopping step 3: f 1.31042e+15 trial_f 1.80525e+16 accepted 0  lowest_f 1.31042e+15\n",
      "\u001b[2m\u001b[36m(pid=32408)\u001b[0m basinhopping step 8: f 1.5274e+12 trial_f 2.70992e+12 accepted 0  lowest_f 1.5274e+12\n",
      "\u001b[2m\u001b[36m(pid=32447)\u001b[0m basinhopping step 5: f 2.42032e+15 trial_f 4.65903e+16 accepted 0  lowest_f 2.42032e+15\n",
      "\u001b[2m\u001b[36m(pid=32460)\u001b[0m basinhopping step 7: f 4.15846e+11 trial_f 9.25139e+13 accepted 0  lowest_f 4.15846e+11\n",
      "\u001b[2m\u001b[36m(pid=32447)\u001b[0m warning: basinhopping: local minimization failure\n",
      "\u001b[2m\u001b[36m(pid=32447)\u001b[0m basinhopping step 6: f 1.42711e+12 trial_f 1.42711e+12 accepted 1  lowest_f 1.42711e+12\n",
      "\u001b[2m\u001b[36m(pid=32447)\u001b[0m found new global minimum on step 6 with function value 1.42711e+12\n",
      "\u001b[2m\u001b[36m(pid=32434)\u001b[0m basinhopping step 8: f 3.56235e+09 trial_f 6.62855e+13 accepted 0  lowest_f 3.56235e+09\n",
      "\u001b[2m\u001b[36m(pid=32408)\u001b[0m basinhopping step 9: f 1.5274e+12 trial_f 1.66346e+12 accepted 0  lowest_f 1.5274e+12\n",
      "\u001b[2m\u001b[36m(pid=32447)\u001b[0m basinhopping step 7: f 1.42344e+12 trial_f 1.42344e+12 accepted 1  lowest_f 1.42344e+12\n",
      "\u001b[2m\u001b[36m(pid=32447)\u001b[0m found new global minimum on step 7 with function value 1.42344e+12\n",
      "\u001b[2m\u001b[36m(pid=32434)\u001b[0m basinhopping step 9: f 2.56259e+09 trial_f 2.56259e+09 accepted 1  lowest_f 2.56259e+09\n",
      "\u001b[2m\u001b[36m(pid=32434)\u001b[0m found new global minimum on step 9 with function value 2.56259e+09\n",
      "\u001b[2m\u001b[36m(pid=32522)\u001b[0m warning: basinhopping: local minimization failure\n",
      "\u001b[2m\u001b[36m(pid=32522)\u001b[0m basinhopping step 4: f 1.31042e+15 trial_f 4.69595e+15 accepted 0  lowest_f 1.31042e+15\n",
      "\u001b[2m\u001b[36m(pid=32434)\u001b[0m basinhopping step 10: f 2.56259e+09 trial_f 2.19353e+14 accepted 0  lowest_f 2.56259e+09\n"
     ]
    },
    {
     "name": "stderr",
     "output_type": "stream",
     "text": [
      "2020-10-28 21:17:53,927\tWARNING worker.py:1090 -- WARNING: 10 PYTHON workers have been started. This could be a result of using a large number of actors, or it could be a consequence of using nested tasks (see https://github.com/ray-project/ray/issues/3644) for some a discussion of workarounds.\n"
     ]
    },
    {
     "name": "stdout",
     "output_type": "stream",
     "text": [
      "\u001b[2m\u001b[36m(pid=32522)\u001b[0m basinhopping step 5: f 1.31042e+15 trial_f 9.97983e+15 accepted 0  lowest_f 1.31042e+15\n",
      "\u001b[2m\u001b[36m(pid=32460)\u001b[0m basinhopping step 8: f 4.15846e+11 trial_f 1.91649e+12 accepted 0  lowest_f 4.15846e+11\n",
      "\u001b[2m\u001b[36m(pid=32447)\u001b[0m basinhopping step 8: f 1.42344e+12 trial_f 1.75857e+16 accepted 0  lowest_f 1.42344e+12\n",
      "\u001b[2m\u001b[36m(pid=32548)\u001b[0m warning: basinhopping: local minimization failure\n",
      "\u001b[2m\u001b[36m(pid=32548)\u001b[0m basinhopping step 0: f 6.22972e+09\n",
      "\u001b[2m\u001b[36m(pid=32408)\u001b[0m basinhopping step 10: f 1.5274e+12 trial_f 2.61805e+12 accepted 0  lowest_f 1.5274e+12\n"
     ]
    },
    {
     "name": "stderr",
     "output_type": "stream",
     "text": [
      "2020-10-28 21:18:02,795\tWARNING worker.py:1090 -- WARNING: 10 PYTHON workers have been started. This could be a result of using a large number of actors, or it could be a consequence of using nested tasks (see https://github.com/ray-project/ray/issues/3644) for some a discussion of workarounds.\n"
     ]
    },
    {
     "name": "stdout",
     "output_type": "stream",
     "text": [
      "\u001b[2m\u001b[36m(pid=32522)\u001b[0m warning: basinhopping: local minimization failure\n",
      "\u001b[2m\u001b[36m(pid=32522)\u001b[0m basinhopping step 6: f 1.31042e+15 trial_f 6.70765e+15 accepted 0  lowest_f 1.31042e+15\n",
      "\u001b[2m\u001b[36m(pid=32460)\u001b[0m basinhopping step 9: f 3.55711e+11 trial_f 3.55711e+11 accepted 1  lowest_f 3.55711e+11\n",
      "\u001b[2m\u001b[36m(pid=32460)\u001b[0m found new global minimum on step 9 with function value 3.55711e+11\n",
      "\u001b[2m\u001b[36m(pid=32447)\u001b[0m basinhopping step 9: f 1.42344e+12 trial_f 2.07473e+16 accepted 0  lowest_f 1.42344e+12\n",
      "\u001b[2m\u001b[36m(pid=32460)\u001b[0m basinhopping step 10: f 3.55711e+11 trial_f 8.05213e+13 accepted 0  lowest_f 3.55711e+11\n"
     ]
    },
    {
     "name": "stderr",
     "output_type": "stream",
     "text": [
      "2020-10-28 21:18:10,182\tWARNING worker.py:1090 -- WARNING: 10 PYTHON workers have been started. This could be a result of using a large number of actors, or it could be a consequence of using nested tasks (see https://github.com/ray-project/ray/issues/3644) for some a discussion of workarounds.\n"
     ]
    },
    {
     "name": "stdout",
     "output_type": "stream",
     "text": [
      "\u001b[2m\u001b[36m(pid=32563)\u001b[0m basinhopping step 0: f 6.49931e+12\n",
      "\u001b[2m\u001b[36m(pid=32522)\u001b[0m warning: basinhopping: local minimization failure\n",
      "\u001b[2m\u001b[36m(pid=32522)\u001b[0m basinhopping step 7: f 1.38159e+09 trial_f 1.38159e+09 accepted 1  lowest_f 1.38159e+09\n",
      "\u001b[2m\u001b[36m(pid=32522)\u001b[0m found new global minimum on step 7 with function value 1.38159e+09\n",
      "\u001b[2m\u001b[36m(pid=32522)\u001b[0m basinhopping step 8: f 1.38159e+09 trial_f 1.38265e+16 accepted 0  lowest_f 1.38159e+09\n",
      "\u001b[2m\u001b[36m(pid=32548)\u001b[0m basinhopping step 1: f 6.22972e+09 trial_f 2.77135e+12 accepted 0  lowest_f 6.22972e+09\n",
      "\u001b[2m\u001b[36m(pid=32447)\u001b[0m warning: basinhopping: local minimization failure\n",
      "\u001b[2m\u001b[36m(pid=32447)\u001b[0m basinhopping step 10: f 1.42344e+12 trial_f 1.42619e+12 accepted 0  lowest_f 1.42344e+12\n"
     ]
    },
    {
     "name": "stderr",
     "output_type": "stream",
     "text": [
      "2020-10-28 21:18:16,433\tWARNING worker.py:1090 -- WARNING: 10 PYTHON workers have been started. This could be a result of using a large number of actors, or it could be a consequence of using nested tasks (see https://github.com/ray-project/ray/issues/3644) for some a discussion of workarounds.\n"
     ]
    },
    {
     "name": "stdout",
     "output_type": "stream",
     "text": [
      "\u001b[2m\u001b[36m(pid=32548)\u001b[0m basinhopping step 2: f 6.22972e+09 trial_f 3.03881e+13 accepted 0  lowest_f 6.22972e+09\n",
      "\u001b[2m\u001b[36m(pid=32522)\u001b[0m warning: basinhopping: local minimization failure\n",
      "\u001b[2m\u001b[36m(pid=32522)\u001b[0m basinhopping step 9: f 1.38159e+09 trial_f 1.3831e+09 accepted 0  lowest_f 1.38159e+09\n",
      "\u001b[2m\u001b[36m(pid=32563)\u001b[0m basinhopping step 1: f 6.49931e+12 trial_f 1.60201e+14 accepted 0  lowest_f 6.49931e+12\n",
      "\u001b[2m\u001b[36m(pid=32548)\u001b[0m basinhopping step 3: f 6.22972e+09 trial_f 1.28153e+13 accepted 0  lowest_f 6.22972e+09\n",
      "\u001b[2m\u001b[36m(pid=32548)\u001b[0m warning: basinhopping: local minimization failure\n",
      "\u001b[2m\u001b[36m(pid=32548)\u001b[0m basinhopping step 4: f 6.22972e+09 trial_f 6.63763e+09 accepted 0  lowest_f 6.22972e+09\n",
      "\u001b[2m\u001b[36m(pid=32576)\u001b[0m basinhopping step 0: f 1.18321e+14\n",
      "\u001b[2m\u001b[36m(pid=32589)\u001b[0m basinhopping step 0: f 8.55593e+11\n",
      "\u001b[2m\u001b[36m(pid=32576)\u001b[0m basinhopping step 1: f 1.18321e+14 trial_f 7.55285e+14 accepted 0  lowest_f 1.18321e+14\n",
      "\u001b[2m\u001b[36m(pid=32548)\u001b[0m basinhopping step 5: f 6.22972e+09 trial_f 1.87039e+13 accepted 0  lowest_f 6.22972e+09\n",
      "\u001b[2m\u001b[36m(pid=32522)\u001b[0m basinhopping step 10: f 1.38159e+09 trial_f 9.97541e+15 accepted 0  lowest_f 1.38159e+09\n"
     ]
    },
    {
     "name": "stderr",
     "output_type": "stream",
     "text": [
      "2020-10-28 21:18:32,206\tWARNING worker.py:1090 -- WARNING: 10 PYTHON workers have been started. This could be a result of using a large number of actors, or it could be a consequence of using nested tasks (see https://github.com/ray-project/ray/issues/3644) for some a discussion of workarounds.\n"
     ]
    },
    {
     "name": "stdout",
     "output_type": "stream",
     "text": [
      "\u001b[2m\u001b[36m(pid=32548)\u001b[0m basinhopping step 6: f 6.22972e+09 trial_f 1.88836e+13 accepted 0  lowest_f 6.22972e+09\n",
      "\u001b[2m\u001b[36m(pid=32641)\u001b[0m basinhopping step 0: f 1.07526e+09\n",
      "\u001b[2m\u001b[36m(pid=32589)\u001b[0m warning: basinhopping: local minimization failure\n",
      "\u001b[2m\u001b[36m(pid=32589)\u001b[0m basinhopping step 1: f 8.55593e+11 trial_f 1.55043e+12 accepted 0  lowest_f 8.55593e+11\n",
      "\u001b[2m\u001b[36m(pid=32641)\u001b[0m basinhopping step 1: f 1.07526e+09 trial_f 1.21884e+09 accepted 0  lowest_f 1.07526e+09\n",
      "\u001b[2m\u001b[36m(pid=32576)\u001b[0m basinhopping step 2: f 1.18321e+14 trial_f 6.61888e+14 accepted 0  lowest_f 1.18321e+14\n",
      "\u001b[2m\u001b[36m(pid=32589)\u001b[0m basinhopping step 2: f 8.55593e+11 trial_f 1.54957e+12 accepted 0  lowest_f 8.55593e+11\n",
      "\u001b[2m\u001b[36m(pid=32641)\u001b[0m basinhopping step 2: f 1.07526e+09 trial_f 2.77409e+16 accepted 0  lowest_f 1.07526e+09\n",
      "\u001b[2m\u001b[36m(pid=32563)\u001b[0m basinhopping step 2: f 6.21168e+12 trial_f 6.21168e+12 accepted 1  lowest_f 6.21168e+12\n",
      "\u001b[2m\u001b[36m(pid=32563)\u001b[0m found new global minimum on step 2 with function value 6.21168e+12\n",
      "\u001b[2m\u001b[36m(pid=32589)\u001b[0m basinhopping step 3: f 8.55593e+11 trial_f 8.28005e+16 accepted 0  lowest_f 8.55593e+11\n",
      "\u001b[2m\u001b[36m(pid=32563)\u001b[0m warning: basinhopping: local minimization failure\n",
      "\u001b[2m\u001b[36m(pid=32563)\u001b[0m basinhopping step 3: f 6.21168e+12 trial_f 6.35129e+12 accepted 0  lowest_f 6.21168e+12\n",
      "\u001b[2m\u001b[36m(pid=32641)\u001b[0m basinhopping step 3: f 1.07526e+09 trial_f 2.45787e+16 accepted 0  lowest_f 1.07526e+09\n",
      "\u001b[2m\u001b[36m(pid=32589)\u001b[0m basinhopping step 4: f 8.55593e+11 trial_f 1.64715e+16 accepted 0  lowest_f 8.55593e+11\n",
      "\u001b[2m\u001b[36m(pid=32576)\u001b[0m basinhopping step 3: f 2.75316e+11 trial_f 2.75316e+11 accepted 1  lowest_f 2.75316e+11\n",
      "\u001b[2m\u001b[36m(pid=32576)\u001b[0m found new global minimum on step 3 with function value 2.75316e+11\n",
      "\u001b[2m\u001b[36m(pid=32641)\u001b[0m basinhopping step 4: f 1.07526e+09 trial_f 1.18825e+09 accepted 0  lowest_f 1.07526e+09\n",
      "\u001b[2m\u001b[36m(pid=32548)\u001b[0m basinhopping step 7: f 6.22972e+09 trial_f 2.89782e+12 accepted 0  lowest_f 6.22972e+09\n",
      "\u001b[2m\u001b[36m(pid=32576)\u001b[0m basinhopping step 4: f 2.75316e+11 trial_f 6.21728e+11 accepted 0  lowest_f 2.75316e+11\n",
      "\u001b[2m\u001b[36m(pid=32589)\u001b[0m warning: basinhopping: local minimization failure\n",
      "\u001b[2m\u001b[36m(pid=32589)\u001b[0m basinhopping step 5: f 8.55593e+11 trial_f 1.55045e+12 accepted 0  lowest_f 8.55593e+11\n",
      "\u001b[2m\u001b[36m(pid=32576)\u001b[0m basinhopping step 5: f 2.75316e+11 trial_f 6.21733e+11 accepted 0  lowest_f 2.75316e+11\n",
      "\u001b[2m\u001b[36m(pid=32563)\u001b[0m basinhopping step 4: f 6.21168e+12 trial_f 5.12243e+14 accepted 0  lowest_f 6.21168e+12\n",
      "\u001b[2m\u001b[36m(pid=32589)\u001b[0m warning: basinhopping: local minimization failure\n",
      "\u001b[2m\u001b[36m(pid=32589)\u001b[0m basinhopping step 6: f 8.55593e+11 trial_f 1.55044e+12 accepted 0  lowest_f 8.55593e+11\n",
      "\u001b[2m\u001b[36m(pid=32641)\u001b[0m basinhopping step 5: f 8.61391e+08 trial_f 8.61391e+08 accepted 1  lowest_f 8.61391e+08\n",
      "\u001b[2m\u001b[36m(pid=32641)\u001b[0m found new global minimum on step 5 with function value 8.61391e+08\n",
      "\u001b[2m\u001b[36m(pid=32589)\u001b[0m basinhopping step 7: f 8.55593e+11 trial_f 7.28786e+16 accepted 0  lowest_f 8.55593e+11\n",
      "\u001b[2m\u001b[36m(pid=32589)\u001b[0m warning: basinhopping: local minimization failure\n",
      "\u001b[2m\u001b[36m(pid=32589)\u001b[0m basinhopping step 8: f 8.55593e+11 trial_f 1.52607e+12 accepted 0  lowest_f 8.55593e+11\n",
      "\u001b[2m\u001b[36m(pid=32548)\u001b[0m basinhopping step 8: f 6.22972e+09 trial_f 1.65006e+13 accepted 0  lowest_f 6.22972e+09\n",
      "\u001b[2m\u001b[36m(pid=32563)\u001b[0m basinhopping step 5: f 6.21168e+12 trial_f 4.43949e+14 accepted 0  lowest_f 6.21168e+12\n",
      "\u001b[2m\u001b[36m(pid=32589)\u001b[0m basinhopping step 9: f 8.55593e+11 trial_f 1.54451e+12 accepted 0  lowest_f 8.55593e+11\n",
      "\u001b[2m\u001b[36m(pid=32589)\u001b[0m basinhopping step 10: f 8.55593e+11 trial_f 6.71233e+16 accepted 0  lowest_f 8.55593e+11\n"
     ]
    },
    {
     "name": "stderr",
     "output_type": "stream",
     "text": [
      "2020-10-28 21:19:06,647\tWARNING worker.py:1090 -- WARNING: 10 PYTHON workers have been started. This could be a result of using a large number of actors, or it could be a consequence of using nested tasks (see https://github.com/ray-project/ray/issues/3644) for some a discussion of workarounds.\n"
     ]
    },
    {
     "name": "stdout",
     "output_type": "stream",
     "text": [
      "\u001b[2m\u001b[36m(pid=32641)\u001b[0m basinhopping step 6: f 8.61391e+08 trial_f 4.55959e+15 accepted 0  lowest_f 8.61391e+08\n",
      "\u001b[2m\u001b[36m(pid=32576)\u001b[0m basinhopping step 6: f 2.75316e+11 trial_f 6.21704e+11 accepted 0  lowest_f 2.75316e+11\n",
      "\u001b[2m\u001b[36m(pid=32563)\u001b[0m basinhopping step 6: f 6.21168e+12 trial_f 6.43294e+12 accepted 0  lowest_f 6.21168e+12\n",
      "\u001b[2m\u001b[36m(pid=32548)\u001b[0m basinhopping step 9: f 6.22972e+09 trial_f 2.90822e+12 accepted 0  lowest_f 6.22972e+09\n",
      "\u001b[2m\u001b[36m(pid=32641)\u001b[0m basinhopping step 7: f 8.61391e+08 trial_f 1.22392e+09 accepted 0  lowest_f 8.61391e+08\n",
      "\u001b[2m\u001b[36m(pid=32548)\u001b[0m basinhopping step 10: f 5.12626e+09 trial_f 5.12626e+09 accepted 1  lowest_f 5.12626e+09\n",
      "\u001b[2m\u001b[36m(pid=32548)\u001b[0m found new global minimum on step 10 with function value 5.12626e+09\n",
      "\u001b[2m\u001b[36m(pid=32563)\u001b[0m warning: basinhopping: local minimization failure\n",
      "\u001b[2m\u001b[36m(pid=32563)\u001b[0m basinhopping step 7: f 6.21168e+12 trial_f 6.71092e+12 accepted 0  lowest_f 6.21168e+12\n"
     ]
    },
    {
     "name": "stderr",
     "output_type": "stream",
     "text": [
      "2020-10-28 21:19:12,349\tWARNING worker.py:1090 -- WARNING: 10 PYTHON workers have been started. This could be a result of using a large number of actors, or it could be a consequence of using nested tasks (see https://github.com/ray-project/ray/issues/3644) for some a discussion of workarounds.\n"
     ]
    },
    {
     "name": "stdout",
     "output_type": "stream",
     "text": [
      "\u001b[2m\u001b[36m(pid=32641)\u001b[0m basinhopping step 8: f 8.61391e+08 trial_f 2.63051e+16 accepted 0  lowest_f 8.61391e+08\n",
      "\u001b[2m\u001b[36m(pid=32563)\u001b[0m warning: basinhopping: local minimization failure\n",
      "\u001b[2m\u001b[36m(pid=32563)\u001b[0m basinhopping step 8: f 6.21168e+12 trial_f 6.71882e+12 accepted 0  lowest_f 6.21168e+12\n",
      "\u001b[2m\u001b[36m(pid=32641)\u001b[0m warning: basinhopping: local minimization failure\n",
      "\u001b[2m\u001b[36m(pid=32641)\u001b[0m basinhopping step 9: f 8.61391e+08 trial_f 6.61461e+15 accepted 0  lowest_f 8.61391e+08\n",
      "\u001b[2m\u001b[36m(pid=32576)\u001b[0m warning: basinhopping: local minimization failure\n",
      "\u001b[2m\u001b[36m(pid=32576)\u001b[0m basinhopping step 7: f 2.75316e+11 trial_f 6.05788e+11 accepted 0  lowest_f 2.75316e+11\n",
      "\u001b[2m\u001b[36m(pid=32697)\u001b[0m basinhopping step 0: f 2.99869e+09\n",
      "\u001b[2m\u001b[36m(pid=32684)\u001b[0m basinhopping step 0: f 7.03927e+15\n",
      "\u001b[2m\u001b[36m(pid=32697)\u001b[0m basinhopping step 1: f 2.99869e+09 trial_f 6.61601e+09 accepted 0  lowest_f 2.99869e+09\n",
      "\u001b[2m\u001b[36m(pid=32576)\u001b[0m warning: basinhopping: local minimization failure\n",
      "\u001b[2m\u001b[36m(pid=32576)\u001b[0m basinhopping step 8: f 2.75316e+11 trial_f 6.05788e+11 accepted 0  lowest_f 2.75316e+11\n",
      "\u001b[2m\u001b[36m(pid=32684)\u001b[0m basinhopping step 1: f 2.11438e+12 trial_f 2.11438e+12 accepted 1  lowest_f 2.11438e+12\n",
      "\u001b[2m\u001b[36m(pid=32684)\u001b[0m found new global minimum on step 1 with function value 2.11438e+12\n",
      "\u001b[2m\u001b[36m(pid=32641)\u001b[0m basinhopping step 10: f 8.61391e+08 trial_f 4.55959e+15 accepted 0  lowest_f 8.61391e+08\n"
     ]
    },
    {
     "name": "stderr",
     "output_type": "stream",
     "text": [
      "2020-10-28 21:19:36,914\tWARNING worker.py:1090 -- WARNING: 10 PYTHON workers have been started. This could be a result of using a large number of actors, or it could be a consequence of using nested tasks (see https://github.com/ray-project/ray/issues/3644) for some a discussion of workarounds.\n"
     ]
    },
    {
     "name": "stdout",
     "output_type": "stream",
     "text": [
      "\u001b[2m\u001b[36m(pid=32576)\u001b[0m basinhopping step 9: f 2.75316e+11 trial_f 1.03756e+14 accepted 0  lowest_f 2.75316e+11\n",
      "\u001b[2m\u001b[36m(pid=32576)\u001b[0m basinhopping step 10: f 2.75316e+11 trial_f 6.21733e+11 accepted 0  lowest_f 2.75316e+11\n"
     ]
    },
    {
     "name": "stderr",
     "output_type": "stream",
     "text": [
      "2020-10-28 21:19:37,771\tWARNING worker.py:1090 -- WARNING: 10 PYTHON workers have been started. This could be a result of using a large number of actors, or it could be a consequence of using nested tasks (see https://github.com/ray-project/ray/issues/3644) for some a discussion of workarounds.\n"
     ]
    },
    {
     "name": "stdout",
     "output_type": "stream",
     "text": [
      "\u001b[2m\u001b[36m(pid=32563)\u001b[0m basinhopping step 9: f 6.21168e+12 trial_f 4.08417e+14 accepted 0  lowest_f 6.21168e+12\n",
      "\u001b[2m\u001b[36m(pid=32710)\u001b[0m warning: basinhopping: local minimization failure\n",
      "\u001b[2m\u001b[36m(pid=32710)\u001b[0m basinhopping step 0: f 6.15062e+15\n",
      "\u001b[2m\u001b[36m(pid=32684)\u001b[0m basinhopping step 2: f 2.11438e+12 trial_f 6.42643e+16 accepted 0  lowest_f 2.11438e+12\n",
      "\u001b[2m\u001b[36m(pid=32710)\u001b[0m basinhopping step 1: f 6.15062e+15 trial_f 5.31543e+16 accepted 0  lowest_f 6.15062e+15\n",
      "\u001b[2m\u001b[36m(pid=32697)\u001b[0m warning: basinhopping: local minimization failure\n",
      "\u001b[2m\u001b[36m(pid=32697)\u001b[0m basinhopping step 2: f 2.99869e+09 trial_f 6.60438e+09 accepted 0  lowest_f 2.99869e+09\n",
      "\u001b[2m\u001b[36m(pid=32723)\u001b[0m basinhopping step 0: f 7.6554e+13\n",
      "\u001b[2m\u001b[36m(pid=32563)\u001b[0m basinhopping step 10: f 6.21168e+12 trial_f 1.58887e+14 accepted 0  lowest_f 6.21168e+12\n"
     ]
    },
    {
     "name": "stderr",
     "output_type": "stream",
     "text": [
      "2020-10-28 21:19:47,491\tWARNING worker.py:1090 -- WARNING: 10 PYTHON workers have been started. This could be a result of using a large number of actors, or it could be a consequence of using nested tasks (see https://github.com/ray-project/ray/issues/3644) for some a discussion of workarounds.\n"
     ]
    },
    {
     "name": "stdout",
     "output_type": "stream",
     "text": [
      "\u001b[2m\u001b[36m(pid=32684)\u001b[0m warning: basinhopping: local minimization failure\n",
      "\u001b[2m\u001b[36m(pid=32684)\u001b[0m basinhopping step 3: f 2.00658e+12 trial_f 2.00658e+12 accepted 1  lowest_f 2.00658e+12\n",
      "\u001b[2m\u001b[36m(pid=32684)\u001b[0m found new global minimum on step 3 with function value 2.00658e+12\n",
      "\u001b[2m\u001b[36m(pid=32736)\u001b[0m basinhopping step 0: f 3.08189e+14\n",
      "\u001b[2m\u001b[36m(pid=32723)\u001b[0m basinhopping step 1: f 9.94756e+11 trial_f 9.94756e+11 accepted 1  lowest_f 9.94756e+11\n",
      "\u001b[2m\u001b[36m(pid=32723)\u001b[0m found new global minimum on step 1 with function value 9.94756e+11\n",
      "\u001b[2m\u001b[36m(pid=32723)\u001b[0m basinhopping step 2: f 9.94756e+11 trial_f 2.05706e+15 accepted 0  lowest_f 9.94756e+11\n",
      "\u001b[2m\u001b[36m(pid=32697)\u001b[0m basinhopping step 3: f 2.99869e+09 trial_f 1.05189e+13 accepted 0  lowest_f 2.99869e+09\n",
      "\u001b[2m\u001b[36m(pid=32723)\u001b[0m basinhopping step 3: f 9.94756e+11 trial_f 5.13126e+14 accepted 0  lowest_f 9.94756e+11\n",
      "\u001b[2m\u001b[36m(pid=32697)\u001b[0m warning: basinhopping: local minimization failure\n",
      "\u001b[2m\u001b[36m(pid=32697)\u001b[0m basinhopping step 4: f 2.99869e+09 trial_f 6.76218e+09 accepted 0  lowest_f 2.99869e+09\n",
      "\u001b[2m\u001b[36m(pid=32684)\u001b[0m basinhopping step 4: f 2.00658e+12 trial_f 2.11431e+12 accepted 0  lowest_f 2.00658e+12\n",
      "\u001b[2m\u001b[36m(pid=32710)\u001b[0m basinhopping step 2: f 1.60425e+09 trial_f 1.60425e+09 accepted 1  lowest_f 1.60425e+09\n",
      "\u001b[2m\u001b[36m(pid=32710)\u001b[0m found new global minimum on step 2 with function value 1.60425e+09\n",
      "\u001b[2m\u001b[36m(pid=32723)\u001b[0m basinhopping step 4: f 3.39055e+11 trial_f 3.39055e+11 accepted 1  lowest_f 3.39055e+11\n",
      "\u001b[2m\u001b[36m(pid=32723)\u001b[0m found new global minimum on step 4 with function value 3.39055e+11\n",
      "\u001b[2m\u001b[36m(pid=32736)\u001b[0m basinhopping step 1: f 5.64046e+12 trial_f 5.64046e+12 accepted 1  lowest_f 5.64046e+12\n",
      "\u001b[2m\u001b[36m(pid=32736)\u001b[0m found new global minimum on step 1 with function value 5.64046e+12\n",
      "\u001b[2m\u001b[36m(pid=32723)\u001b[0m basinhopping step 5: f 3.39055e+11 trial_f 2.05707e+15 accepted 0  lowest_f 3.39055e+11\n",
      "\u001b[2m\u001b[36m(pid=32684)\u001b[0m basinhopping step 5: f 2.00658e+12 trial_f 4.41348e+16 accepted 0  lowest_f 2.00658e+12\n",
      "\u001b[2m\u001b[36m(pid=32697)\u001b[0m basinhopping step 5: f 2.99869e+09 trial_f 1.06098e+13 accepted 0  lowest_f 2.99869e+09\n",
      "\u001b[2m\u001b[36m(pid=32736)\u001b[0m basinhopping step 2: f 5.64046e+12 trial_f 5.77685e+12 accepted 0  lowest_f 5.64046e+12\n",
      "\u001b[2m\u001b[36m(pid=32736)\u001b[0m basinhopping step 3: f 5.64046e+12 trial_f 5.77717e+12 accepted 0  lowest_f 5.64046e+12\n",
      "\u001b[2m\u001b[36m(pid=32736)\u001b[0m basinhopping step 4: f 5.64046e+12 trial_f 1.85753e+15 accepted 0  lowest_f 5.64046e+12\n",
      "\u001b[2m\u001b[36m(pid=32697)\u001b[0m basinhopping step 6: f 2.99869e+09 trial_f 1.78035e+13 accepted 0  lowest_f 2.99869e+09\n",
      "\u001b[2m\u001b[36m(pid=32710)\u001b[0m warning: basinhopping: local minimization failure\n",
      "\u001b[2m\u001b[36m(pid=32710)\u001b[0m basinhopping step 3: f 1.60423e+09 trial_f 1.60423e+09 accepted 1  lowest_f 1.60423e+09\n",
      "\u001b[2m\u001b[36m(pid=32710)\u001b[0m found new global minimum on step 3 with function value 1.60423e+09\n",
      "\u001b[2m\u001b[36m(pid=32710)\u001b[0m warning: basinhopping: local minimization failure\n",
      "\u001b[2m\u001b[36m(pid=32710)\u001b[0m basinhopping step 4: f 1.60423e+09 trial_f 5.4291e+16 accepted 0  lowest_f 1.60423e+09\n",
      "\u001b[2m\u001b[36m(pid=32723)\u001b[0m basinhopping step 6: f 3.39055e+11 trial_f 7.85432e+13 accepted 0  lowest_f 3.39055e+11\n",
      "\u001b[2m\u001b[36m(pid=32697)\u001b[0m basinhopping step 7: f 2.99869e+09 trial_f 5.26695e+09 accepted 0  lowest_f 2.99869e+09\n",
      "\u001b[2m\u001b[36m(pid=32710)\u001b[0m warning: basinhopping: local minimization failure\n",
      "\u001b[2m\u001b[36m(pid=32710)\u001b[0m basinhopping step 5: f 1.60423e+09 trial_f 1.60423e+09 accepted 1  lowest_f 1.60423e+09\n",
      "\u001b[2m\u001b[36m(pid=32736)\u001b[0m basinhopping step 5: f 5.64046e+12 trial_f 2.65576e+14 accepted 0  lowest_f 5.64046e+12\n",
      "\u001b[2m\u001b[36m(pid=32697)\u001b[0m basinhopping step 8: f 2.99869e+09 trial_f 1.82074e+13 accepted 0  lowest_f 2.99869e+09\n",
      "\u001b[2m\u001b[36m(pid=32684)\u001b[0m basinhopping step 6: f 2.00658e+12 trial_f 2.06006e+12 accepted 0  lowest_f 2.00658e+12\n",
      "\u001b[2m\u001b[36m(pid=32710)\u001b[0m basinhopping step 6: f 1.60423e+09 trial_f 1.60695e+09 accepted 0  lowest_f 1.60423e+09\n",
      "\u001b[2m\u001b[36m(pid=32736)\u001b[0m basinhopping step 6: f 5.64046e+12 trial_f 3.05932e+14 accepted 0  lowest_f 5.64046e+12\n",
      "\u001b[2m\u001b[36m(pid=32723)\u001b[0m warning: basinhopping: local minimization failure\n",
      "\u001b[2m\u001b[36m(pid=32723)\u001b[0m basinhopping step 7: f 3.39055e+11 trial_f 1.64845e+12 accepted 0  lowest_f 3.39055e+11\n",
      "\u001b[2m\u001b[36m(pid=32697)\u001b[0m basinhopping step 9: f 2.99869e+09 trial_f 2.72589e+13 accepted 0  lowest_f 2.99869e+09\n",
      "\u001b[2m\u001b[36m(pid=32710)\u001b[0m warning: basinhopping: local minimization failure\n",
      "\u001b[2m\u001b[36m(pid=32710)\u001b[0m basinhopping step 7: f 1.60423e+09 trial_f 1.60423e+09 accepted 1  lowest_f 1.60423e+09\n",
      "\u001b[2m\u001b[36m(pid=32684)\u001b[0m basinhopping step 7: f 2.00658e+12 trial_f 6.43339e+16 accepted 0  lowest_f 2.00658e+12\n",
      "\u001b[2m\u001b[36m(pid=32736)\u001b[0m warning: basinhopping: local minimization failure\n",
      "\u001b[2m\u001b[36m(pid=32736)\u001b[0m basinhopping step 7: f 5.64046e+12 trial_f 5.7799e+12 accepted 0  lowest_f 5.64046e+12\n",
      "\u001b[2m\u001b[36m(pid=32684)\u001b[0m basinhopping step 8: f 2.00658e+12 trial_f 2.11431e+12 accepted 0  lowest_f 2.00658e+12\n",
      "\u001b[2m\u001b[36m(pid=32697)\u001b[0m warning: basinhopping: local minimization failure\n",
      "\u001b[2m\u001b[36m(pid=32697)\u001b[0m basinhopping step 10: f 2.99869e+09 trial_f 6.74583e+09 accepted 0  lowest_f 2.99869e+09\n"
     ]
    },
    {
     "name": "stderr",
     "output_type": "stream",
     "text": [
      "2020-10-28 21:20:48,736\tWARNING worker.py:1090 -- WARNING: 10 PYTHON workers have been started. This could be a result of using a large number of actors, or it could be a consequence of using nested tasks (see https://github.com/ray-project/ray/issues/3644) for some a discussion of workarounds.\n"
     ]
    },
    {
     "name": "stdout",
     "output_type": "stream",
     "text": [
      "\u001b[2m\u001b[36m(pid=32736)\u001b[0m basinhopping step 8: f 5.64046e+12 trial_f 5.66202e+12 accepted 0  lowest_f 5.64046e+12\n",
      "\u001b[2m\u001b[36m(pid=32684)\u001b[0m basinhopping step 9: f 2.00658e+12 trial_f 4.44555e+16 accepted 0  lowest_f 2.00658e+12\n",
      "\u001b[2m\u001b[36m(pid=32778)\u001b[0m basinhopping step 0: f 6.42595e+09\n",
      "\u001b[2m\u001b[36m(pid=32710)\u001b[0m /home/ats4i/anaconda3/envs/geo_env/lib/python3.6/site-packages/scipy/integrate/odepack.py:248: ODEintWarning: Repeated error test failures (internal error). Run with full_output = 1 to get quantitative information.\n",
      "\u001b[2m\u001b[36m(pid=32710)\u001b[0m   warnings.warn(warning_msg, ODEintWarning)\n",
      "\u001b[2m\u001b[36m(pid=32723)\u001b[0m basinhopping step 8: f 3.39055e+11 trial_f 4.95942e+14 accepted 0  lowest_f 3.39055e+11\n",
      "\u001b[2m\u001b[36m(pid=32778)\u001b[0m warning: basinhopping: local minimization failure\n",
      "\u001b[2m\u001b[36m(pid=32778)\u001b[0m basinhopping step 1: f 6.42595e+09 trial_f 9.16634e+09 accepted 0  lowest_f 6.42595e+09\n",
      "\u001b[2m\u001b[36m(pid=32736)\u001b[0m basinhopping step 9: f 5.64046e+12 trial_f 1.87215e+15 accepted 0  lowest_f 5.64046e+12\n",
      "\u001b[2m\u001b[36m(pid=32684)\u001b[0m basinhopping step 10: f 2.00658e+12 trial_f 5.45008e+16 accepted 0  lowest_f 2.00658e+12\n",
      "\u001b[2m\u001b[36m(pid=32710)\u001b[0m  lsoda--  at t(=r1) and step size h(=r2), the error\u0000\u0000\n",
      "\u001b[2m\u001b[36m(pid=32710)\u001b[0m        test failed repeatedly or with abs(h) = hmin\u0000\u0000\n",
      "\u001b[2m\u001b[36m(pid=32710)\u001b[0m       in above,  r1 =  0.1808444761733D+03   r2 =  0.6805064841954D-07\n",
      "\u001b[2m\u001b[36m(pid=32710)\u001b[0m  lsoda--  at t(=r1) and step size h(=r2), the error\u0000\u0000\n",
      "\u001b[2m\u001b[36m(pid=32710)\u001b[0m        test failed repeatedly or with abs(h) = hmin\u0000\u0000\n",
      "\u001b[2m\u001b[36m(pid=32710)\u001b[0m       in above,  r1 =  0.1808444774573D+03   r2 =  0.6805064827511D-07\n",
      "\u001b[2m\u001b[36m(pid=32710)\u001b[0m  lsoda--  at t(=r1) and step size h(=r2), the error\u0000\u0000\n",
      "\u001b[2m\u001b[36m(pid=32710)\u001b[0m        test failed repeatedly or with abs(h) = hmin\u0000\u0000\n",
      "\u001b[2m\u001b[36m(pid=32710)\u001b[0m       in above,  r1 =  0.1808444764542D+03   r2 =  0.6805064828859D-07\n",
      "\u001b[2m\u001b[36m(pid=32710)\u001b[0m  lsoda--  at t(=r1) and step size h(=r2), the error\u0000\u0000\n",
      "\u001b[2m\u001b[36m(pid=32710)\u001b[0m        test failed repeatedly or with abs(h) = hmin\u0000\u0000\n",
      "\u001b[2m\u001b[36m(pid=32710)\u001b[0m       in above,  r1 =  0.1785593477151D+03   r2 =  0.6816585530559D-07\n",
      "\u001b[2m\u001b[36m(pid=32710)\u001b[0m  lsoda--  at t(=r1) and step size h(=r2), the error\u0000\u0000\n",
      "\u001b[2m\u001b[36m(pid=32710)\u001b[0m        test failed repeatedly or with abs(h) = hmin\u0000\u0000\n",
      "\u001b[2m\u001b[36m(pid=32710)\u001b[0m       in above,  r1 =  0.1785784242016D+03   r2 =  0.6816484149996D-07\n",
      "\u001b[2m\u001b[36m(pid=32710)\u001b[0m  lsoda--  at t(=r1) and step size h(=r2), the error\u0000\u0000\n",
      "\u001b[2m\u001b[36m(pid=32710)\u001b[0m        test failed repeatedly or with abs(h) = hmin\u0000\u0000\n",
      "\u001b[2m\u001b[36m(pid=32710)\u001b[0m       in above,  r1 =  0.1808745381425D+03   r2 =  0.6805246404123D-07\n",
      "\u001b[2m\u001b[36m(pid=32710)\u001b[0m  lsoda--  at t(=r1) and step size h(=r2), the error\u0000\u0000\n",
      "\u001b[2m\u001b[36m(pid=32710)\u001b[0m        test failed repeatedly or with abs(h) = hmin\u0000\u0000\n",
      "\u001b[2m\u001b[36m(pid=32710)\u001b[0m       in above,  r1 =  0.1785459865369D+03   r2 =  0.6816680786551D-07\n",
      "\u001b[2m\u001b[36m(pid=32710)\u001b[0m  lsoda--  at t(=r1) and step size h(=r2), the error\u0000\u0000\n",
      "\u001b[2m\u001b[36m(pid=32710)\u001b[0m        test failed repeatedly or with abs(h) = hmin\u0000\u0000\n",
      "\u001b[2m\u001b[36m(pid=32710)\u001b[0m       in above,  r1 =  0.1816159589204D+03   r2 =  0.6809219449547D-07\n",
      "\u001b[2m\u001b[36m(pid=32710)\u001b[0m  lsoda--  at t(=r1) and step size h(=r2), the error\u0000\u0000\n",
      "\u001b[2m\u001b[36m(pid=32710)\u001b[0m        test failed repeatedly or with abs(h) = hmin\u0000\u0000\n",
      "\u001b[2m\u001b[36m(pid=32710)\u001b[0m       in above,  r1 =  0.1816159579324D+03   r2 =  0.6809219484367D-07\n",
      "\u001b[2m\u001b[36m(pid=32710)\u001b[0m  lsoda--  at t(=r1) and step size h(=r2), the error\u0000\u0000\n",
      "\u001b[2m\u001b[36m(pid=32710)\u001b[0m        test failed repeatedly or with abs(h) = hmin\u0000\u0000\n",
      "\u001b[2m\u001b[36m(pid=32710)\u001b[0m       in above,  r1 =  0.1816159589237D+03   r2 =  0.6809219450221D-07\n",
      "\u001b[2m\u001b[36m(pid=32710)\u001b[0m  lsoda--  at t(=r1) and step size h(=r2), the error\u0000\u0000\n",
      "\u001b[2m\u001b[36m(pid=32710)\u001b[0m        test failed repeatedly or with abs(h) = hmin\u0000\u0000\n",
      "\u001b[2m\u001b[36m(pid=32710)\u001b[0m       in above,  r1 =  0.2143486651878D+03   r2 =  0.6838094690635D-07\n",
      "\u001b[2m\u001b[36m(pid=32710)\u001b[0m  lsoda--  at t(=r1) and step size h(=r2), the error\u0000\u0000\n",
      "\u001b[2m\u001b[36m(pid=32710)\u001b[0m        test failed repeatedly or with abs(h) = hmin\u0000\u0000\n",
      "\u001b[2m\u001b[36m(pid=32710)\u001b[0m       in above,  r1 =  0.1785623959523D+03   r2 =  0.6816573094651D-07\n",
      "\u001b[2m\u001b[36m(pid=32710)\u001b[0m  lsoda--  at t(=r1) and step size h(=r2), the error\u0000\u0000\n",
      "\u001b[2m\u001b[36m(pid=32710)\u001b[0m        test failed repeatedly or with abs(h) = hmin\u0000\u0000\n",
      "\u001b[2m\u001b[36m(pid=32710)\u001b[0m       in above,  r1 =  0.1784655677014D+03   r2 =  0.6817069490013D-07\n",
      "\u001b[2m\u001b[36m(pid=32710)\u001b[0m  lsoda--  at t(=r1) and step size h(=r2), the error\u0000\u0000\n",
      "\u001b[2m\u001b[36m(pid=32710)\u001b[0m        test failed repeatedly or with abs(h) = hmin\u0000\u0000\n",
      "\u001b[2m\u001b[36m(pid=32710)\u001b[0m       in above,  r1 =  0.1786021776542D+03   r2 =  0.6816354630350D-07\n",
      "\u001b[2m\u001b[36m(pid=32710)\u001b[0m  lsoda--  at t(=r1) and step size h(=r2), the error\u0000\u0000\n",
      "\u001b[2m\u001b[36m(pid=32710)\u001b[0m        test failed repeatedly or with abs(h) = hmin\u0000\u0000\n",
      "\u001b[2m\u001b[36m(pid=32710)\u001b[0m       in above,  r1 =  0.1807334659824D+03   r2 =  0.6805302775615D-07\n",
      "\u001b[2m\u001b[36m(pid=32710)\u001b[0m  lsoda--  at t(=r1) and step size h(=r2), the error\u0000\u0000\n",
      "\u001b[2m\u001b[36m(pid=32710)\u001b[0m        test failed repeatedly or with abs(h) = hmin\u0000\u0000\n",
      "\u001b[2m\u001b[36m(pid=32710)\u001b[0m       in above,  r1 =  0.2138139677493D+03   r2 =  0.6787303210801D-07\n",
      "\u001b[2m\u001b[36m(pid=32710)\u001b[0m  lsoda--  at t(=r1) and step size h(=r2), the error\u0000\u0000\n",
      "\u001b[2m\u001b[36m(pid=32710)\u001b[0m        test failed repeatedly or with abs(h) = hmin\u0000\u0000\n",
      "\u001b[2m\u001b[36m(pid=32710)\u001b[0m       in above,  r1 =  0.2136257172703D+03   r2 =  0.6787232294931D-07\n",
      "\u001b[2m\u001b[36m(pid=32710)\u001b[0m  lsoda--  at t(=r1) and step size h(=r2), the error\u0000\u0000\n",
      "\u001b[2m\u001b[36m(pid=32710)\u001b[0m        test failed repeatedly or with abs(h) = hmin\u0000\u0000\n",
      "\u001b[2m\u001b[36m(pid=32710)\u001b[0m       in above,  r1 =  0.2136111004837D+03   r2 =  0.6787115830059D-07\n",
      "\u001b[2m\u001b[36m(pid=32710)\u001b[0m  lsoda--  at t(=r1) and step size h(=r2), the error\u0000\u0000\n",
      "\u001b[2m\u001b[36m(pid=32710)\u001b[0m        test failed repeatedly or with abs(h) = hmin\u0000\u0000\n",
      "\u001b[2m\u001b[36m(pid=32710)\u001b[0m       in above,  r1 =  0.2136257193095D+03   r2 =  0.6787232250019D-07\n",
      "\u001b[2m\u001b[36m(pid=32710)\u001b[0m  lsoda--  at t(=r1) and step size h(=r2), the error\u0000\u0000\n",
      "\u001b[2m\u001b[36m(pid=32710)\u001b[0m        test failed repeatedly or with abs(h) = hmin\u0000\u0000\n",
      "\u001b[2m\u001b[36m(pid=32710)\u001b[0m       in above,  r1 =  0.2136257172700D+03   r2 =  0.6787232294983D-07\n",
      "\u001b[2m\u001b[36m(pid=32710)\u001b[0m  lsoda--  at t(=r1) and step size h(=r2), the error\u0000\u0000\n",
      "\u001b[2m\u001b[36m(pid=32710)\u001b[0m        test failed repeatedly or with abs(h) = hmin\u0000\u0000\n",
      "\u001b[2m\u001b[36m(pid=32710)\u001b[0m       in above,  r1 =  0.2136652432027D+03   r2 =  0.6786830421037D-07\n",
      "\u001b[2m\u001b[36m(pid=32710)\u001b[0m  lsoda--  at t(=r1) and step size h(=r2), the error\u0000\u0000\n",
      "\u001b[2m\u001b[36m(pid=32710)\u001b[0m        test failed repeatedly or with abs(h) = hmin\u0000\u0000\n",
      "\u001b[2m\u001b[36m(pid=32710)\u001b[0m       in above,  r1 =  0.1784814872728D+03   r2 =  0.6816991353457D-07\n",
      "\u001b[2m\u001b[36m(pid=32710)\u001b[0m  lsoda--  at t(=r1) and step size h(=r2), the error\u0000\u0000\n",
      "\u001b[2m\u001b[36m(pid=32710)\u001b[0m        test failed repeatedly or with abs(h) = hmin\u0000\u0000\n",
      "\u001b[2m\u001b[36m(pid=32710)\u001b[0m       in above,  r1 =  0.2137000003169D+03   r2 =  0.6786729428620D-07\n",
      "\u001b[2m\u001b[36m(pid=32736)\u001b[0m basinhopping step 10: f 5.64046e+12 trial_f 5.77685e+12 accepted 0  lowest_f 5.64046e+12\n"
     ]
    },
    {
     "name": "stderr",
     "output_type": "stream",
     "text": [
      "2020-10-28 21:20:56,927\tWARNING worker.py:1090 -- WARNING: 9 PYTHON workers have been started. This could be a result of using a large number of actors, or it could be a consequence of using nested tasks (see https://github.com/ray-project/ray/issues/3644) for some a discussion of workarounds.\n",
      "2020-10-28 21:20:57,314\tWARNING worker.py:1090 -- WARNING: 10 PYTHON workers have been started. This could be a result of using a large number of actors, or it could be a consequence of using nested tasks (see https://github.com/ray-project/ray/issues/3644) for some a discussion of workarounds.\n"
     ]
    },
    {
     "name": "stdout",
     "output_type": "stream",
     "text": [
      "\u001b[2m\u001b[36m(pid=32710)\u001b[0m  lsoda--  at t(=r1) and step size h(=r2), the error\u0000\u0000\n",
      "\u001b[2m\u001b[36m(pid=32710)\u001b[0m        test failed repeatedly or with abs(h) = hmin\u0000\u0000\n",
      "\u001b[2m\u001b[36m(pid=32710)\u001b[0m       in above,  r1 =  0.1784611522816D+03   r2 =  0.6817063124689D-07\n",
      "\u001b[2m\u001b[36m(pid=32710)\u001b[0m  lsoda--  at t(=r1) and step size h(=r2), the error\u0000\u0000\n",
      "\u001b[2m\u001b[36m(pid=32710)\u001b[0m        test failed repeatedly or with abs(h) = hmin\u0000\u0000\n",
      "\u001b[2m\u001b[36m(pid=32710)\u001b[0m       in above,  r1 =  0.1808435860432D+03   r2 =  0.6805172457554D-07\n",
      "\u001b[2m\u001b[36m(pid=32710)\u001b[0m  lsoda--  at t(=r1) and step size h(=r2), the error\u0000\u0000\n",
      "\u001b[2m\u001b[36m(pid=32710)\u001b[0m        test failed repeatedly or with abs(h) = hmin\u0000\u0000\n",
      "\u001b[2m\u001b[36m(pid=32710)\u001b[0m       in above,  r1 =  0.2136840605275D+03   r2 =  0.6787602794978D-07\n",
      "\u001b[2m\u001b[36m(pid=32710)\u001b[0m  lsoda--  at t(=r1) and step size h(=r2), the error\u0000\u0000\n",
      "\u001b[2m\u001b[36m(pid=32710)\u001b[0m        test failed repeatedly or with abs(h) = hmin\u0000\u0000\n",
      "\u001b[2m\u001b[36m(pid=32710)\u001b[0m       in above,  r1 =  0.1784514516305D+03   r2 =  0.6817136567832D-07\n",
      "\u001b[2m\u001b[36m(pid=32710)\u001b[0m  lsoda--  at t(=r1) and step size h(=r2), the error\u0000\u0000\n",
      "\u001b[2m\u001b[36m(pid=32710)\u001b[0m        test failed repeatedly or with abs(h) = hmin\u0000\u0000\n",
      "\u001b[2m\u001b[36m(pid=32710)\u001b[0m       in above,  r1 =  0.2136840625789D+03   r2 =  0.6787604734890D-07\n",
      "\u001b[2m\u001b[36m(pid=32710)\u001b[0m  lsoda--  at t(=r1) and step size h(=r2), the error\u0000\u0000\n",
      "\u001b[2m\u001b[36m(pid=32710)\u001b[0m        test failed repeatedly or with abs(h) = hmin\u0000\u0000\n",
      "\u001b[2m\u001b[36m(pid=32710)\u001b[0m       in above,  r1 =  0.2136840605272D+03   r2 =  0.6787603042576D-07\n",
      "\u001b[2m\u001b[36m(pid=32710)\u001b[0m  lsoda--  at t(=r1) and step size h(=r2), the error\u0000\u0000\n",
      "\u001b[2m\u001b[36m(pid=32710)\u001b[0m        test failed repeatedly or with abs(h) = hmin\u0000\u0000\n",
      "\u001b[2m\u001b[36m(pid=32710)\u001b[0m       in above,  r1 =  0.1808863964089D+03   r2 =  0.6805045243001D-07\n",
      "\u001b[2m\u001b[36m(pid=32710)\u001b[0m  lsoda--  at t(=r1) and step size h(=r2), the error\u0000\u0000\n",
      "\u001b[2m\u001b[36m(pid=32710)\u001b[0m        test failed repeatedly or with abs(h) = hmin\u0000\u0000\n",
      "\u001b[2m\u001b[36m(pid=32710)\u001b[0m       in above,  r1 =  0.1808861361282D+03   r2 =  0.6805026690655D-07\n",
      "\u001b[2m\u001b[36m(pid=32710)\u001b[0m  lsoda--  at t(=r1) and step size h(=r2), the error\u0000\u0000\n",
      "\u001b[2m\u001b[36m(pid=32710)\u001b[0m        test failed repeatedly or with abs(h) = hmin\u0000\u0000\n",
      "\u001b[2m\u001b[36m(pid=32710)\u001b[0m       in above,  r1 =  0.2137340945029D+03   r2 =  0.6787134174290D-07\n",
      "\u001b[2m\u001b[36m(pid=32710)\u001b[0m  lsoda--  at t(=r1) and step size h(=r2), the error\u0000\u0000\n",
      "\u001b[2m\u001b[36m(pid=32710)\u001b[0m        test failed repeatedly or with abs(h) = hmin\u0000\u0000\n",
      "\u001b[2m\u001b[36m(pid=32710)\u001b[0m       in above,  r1 =  0.2136673333804D+03   r2 =  0.6786919132085D-07\n",
      "\u001b[2m\u001b[36m(pid=32710)\u001b[0m  lsoda--  at t(=r1) and step size h(=r2), the error\u0000\u0000\n",
      "\u001b[2m\u001b[36m(pid=32710)\u001b[0m        test failed repeatedly or with abs(h) = hmin\u0000\u0000\n",
      "\u001b[2m\u001b[36m(pid=32710)\u001b[0m       in above,  r1 =  0.1785491262855D+03   r2 =  0.6816580664847D-07\n",
      "\u001b[2m\u001b[36m(pid=32710)\u001b[0m  lsoda--  at t(=r1) and step size h(=r2), the error\u0000\u0000\n",
      "\u001b[2m\u001b[36m(pid=32710)\u001b[0m        test failed repeatedly or with abs(h) = hmin\u0000\u0000\n",
      "\u001b[2m\u001b[36m(pid=32710)\u001b[0m       in above,  r1 =  0.2136113015971D+03   r2 =  0.6787122866626D-07\n",
      "\u001b[2m\u001b[36m(pid=32710)\u001b[0m  lsoda--  at t(=r1) and step size h(=r2), the error\u0000\u0000\n",
      "\u001b[2m\u001b[36m(pid=32710)\u001b[0m        test failed repeatedly or with abs(h) = hmin\u0000\u0000\n",
      "\u001b[2m\u001b[36m(pid=32710)\u001b[0m       in above,  r1 =  0.2144128753300D+03   r2 =  0.6838176853392D-07\n",
      "\u001b[2m\u001b[36m(pid=32710)\u001b[0m  lsoda--  at t(=r1) and step size h(=r2), the error\u0000\u0000\n",
      "\u001b[2m\u001b[36m(pid=32710)\u001b[0m        test failed repeatedly or with abs(h) = hmin\u0000\u0000\n",
      "\u001b[2m\u001b[36m(pid=32710)\u001b[0m       in above,  r1 =  0.1785661780314D+03   r2 =  0.6816606055628D-07\n",
      "\u001b[2m\u001b[36m(pid=32710)\u001b[0m  lsoda--  at t(=r1) and step size h(=r2), the error\u0000\u0000\n",
      "\u001b[2m\u001b[36m(pid=32710)\u001b[0m        test failed repeatedly or with abs(h) = hmin\u0000\u0000\n",
      "\u001b[2m\u001b[36m(pid=32710)\u001b[0m       in above,  r1 =  0.2144128783513D+03   r2 =  0.6838179082697D-07\n",
      "\u001b[2m\u001b[36m(pid=32710)\u001b[0m  lsoda--  at t(=r1) and step size h(=r2), the error\u0000\u0000\n",
      "\u001b[2m\u001b[36m(pid=32710)\u001b[0m        test failed repeatedly or with abs(h) = hmin\u0000\u0000\n",
      "\u001b[2m\u001b[36m(pid=32710)\u001b[0m       in above,  r1 =  0.2144128753298D+03   r2 =  0.6838178863309D-07\n",
      "\u001b[2m\u001b[36m(pid=32710)\u001b[0m  lsoda--  at t(=r1) and step size h(=r2), the error\u0000\u0000\n",
      "\u001b[2m\u001b[36m(pid=32710)\u001b[0m        test failed repeatedly or with abs(h) = hmin\u0000\u0000\n",
      "\u001b[2m\u001b[36m(pid=32710)\u001b[0m       in above,  r1 =  0.1785601163733D+03   r2 =  0.6816583581600D-07\n",
      "\u001b[2m\u001b[36m(pid=32710)\u001b[0m  lsoda--  at t(=r1) and step size h(=r2), the error\u0000\u0000\n",
      "\u001b[2m\u001b[36m(pid=32710)\u001b[0m        test failed repeatedly or with abs(h) = hmin\u0000\u0000\n",
      "\u001b[2m\u001b[36m(pid=32710)\u001b[0m       in above,  r1 =  0.1784619200551D+03   r2 =  0.6817108449456D-07\n",
      "\u001b[2m\u001b[36m(pid=32710)\u001b[0m  lsoda--  at t(=r1) and step size h(=r2), the error\u0000\u0000\n",
      "\u001b[2m\u001b[36m(pid=32710)\u001b[0m        test failed repeatedly or with abs(h) = hmin\u0000\u0000\n",
      "\u001b[2m\u001b[36m(pid=32710)\u001b[0m       in above,  r1 =  0.1785573094928D+03   r2 =  0.6816597049792D-07\n",
      "\u001b[2m\u001b[36m(pid=32710)\u001b[0m  lsoda--  at t(=r1) and step size h(=r2), the error\u0000\u0000\n",
      "\u001b[2m\u001b[36m(pid=32710)\u001b[0m        test failed repeatedly or with abs(h) = hmin\u0000\u0000\n",
      "\u001b[2m\u001b[36m(pid=32710)\u001b[0m       in above,  r1 =  0.1785475553094D+03   r2 =  0.6816684541890D-07\n",
      "\u001b[2m\u001b[36m(pid=32710)\u001b[0m  lsoda--  at t(=r1) and step size h(=r2), the error\u0000\u0000\n",
      "\u001b[2m\u001b[36m(pid=32710)\u001b[0m        test failed repeatedly or with abs(h) = hmin\u0000\u0000\n",
      "\u001b[2m\u001b[36m(pid=32710)\u001b[0m       in above,  r1 =  0.1814742131294D+03   r2 =  0.6805978123294D-07\n",
      "\u001b[2m\u001b[36m(pid=32710)\u001b[0m  lsoda--  at t(=r1) and step size h(=r2), the error\u0000\u0000\n",
      "\u001b[2m\u001b[36m(pid=32710)\u001b[0m        test failed repeatedly or with abs(h) = hmin\u0000\u0000\n",
      "\u001b[2m\u001b[36m(pid=32710)\u001b[0m       in above,  r1 =  0.2011031233863D+03   r2 =  0.6797367385827D-07\n",
      "\u001b[2m\u001b[36m(pid=32710)\u001b[0m  lsoda--  at t(=r1) and step size h(=r2), the error\u0000\u0000\n",
      "\u001b[2m\u001b[36m(pid=32710)\u001b[0m        test failed repeatedly or with abs(h) = hmin\u0000\u0000\n",
      "\u001b[2m\u001b[36m(pid=32710)\u001b[0m       in above,  r1 =  0.1801465815785D+03   r2 =  0.6539962934747D-07\n",
      "\u001b[2m\u001b[36m(pid=32723)\u001b[0m warning: basinhopping: local minimization failure\n",
      "\u001b[2m\u001b[36m(pid=32723)\u001b[0m basinhopping step 9: f 3.39055e+11 trial_f 1.73915e+12 accepted 0  lowest_f 3.39055e+11\n",
      "\u001b[2m\u001b[36m(pid=32778)\u001b[0m basinhopping step 2: f 6.42595e+09 trial_f 6.68606e+13 accepted 0  lowest_f 6.42595e+09\n",
      "\u001b[2m\u001b[36m(pid=32710)\u001b[0m  lsoda--  at t(=r1) and step size h(=r2), the error\u0000\u0000\n",
      "\u001b[2m\u001b[36m(pid=32710)\u001b[0m        test failed repeatedly or with abs(h) = hmin\u0000\u0000\n",
      "\u001b[2m\u001b[36m(pid=32710)\u001b[0m       in above,  r1 =  0.1801465824384D+03   r2 =  0.6539966657009D-07\n",
      "\u001b[2m\u001b[36m(pid=32710)\u001b[0m  lsoda--  at t(=r1) and step size h(=r2), the error\u0000\u0000\n",
      "\u001b[2m\u001b[36m(pid=32710)\u001b[0m        test failed repeatedly or with abs(h) = hmin\u0000\u0000\n",
      "\u001b[2m\u001b[36m(pid=32710)\u001b[0m       in above,  r1 =  0.1801465815790D+03   r2 =  0.6539962937219D-07\n",
      "\u001b[2m\u001b[36m(pid=32710)\u001b[0m  lsoda--  at t(=r1) and step size h(=r2), the error\u0000\u0000\n",
      "\u001b[2m\u001b[36m(pid=32710)\u001b[0m        test failed repeatedly or with abs(h) = hmin\u0000\u0000\n",
      "\u001b[2m\u001b[36m(pid=32710)\u001b[0m       in above,  r1 =  0.1521845569919D+03   r2 =  0.6827958671363D-07\n",
      "\u001b[2m\u001b[36m(pid=32710)\u001b[0m  lsoda--  at t(=r1) and step size h(=r2), the error\u0000\u0000\n",
      "\u001b[2m\u001b[36m(pid=32710)\u001b[0m        test failed repeatedly or with abs(h) = hmin\u0000\u0000\n",
      "\u001b[2m\u001b[36m(pid=32710)\u001b[0m       in above,  r1 =  0.2015877545846D+03   r2 =  0.6836916817561D-07\n",
      "\u001b[2m\u001b[36m(pid=32710)\u001b[0m  lsoda--  at t(=r1) and step size h(=r2), the error\u0000\u0000\n",
      "\u001b[2m\u001b[36m(pid=32710)\u001b[0m        test failed repeatedly or with abs(h) = hmin\u0000\u0000\n",
      "\u001b[2m\u001b[36m(pid=32710)\u001b[0m       in above,  r1 =  0.2011031233863D+03   r2 =  0.6797367385827D-07\n",
      "\u001b[2m\u001b[36m(pid=32710)\u001b[0m  lsoda--  at t(=r1) and step size h(=r2), the error\u0000\u0000\n",
      "\u001b[2m\u001b[36m(pid=32710)\u001b[0m        test failed repeatedly or with abs(h) = hmin\u0000\u0000\n",
      "\u001b[2m\u001b[36m(pid=32710)\u001b[0m       in above,  r1 =  0.1808594707390D+03   r2 =  0.6805094511588D-07\n",
      "\u001b[2m\u001b[36m(pid=32710)\u001b[0m  lsoda--  at t(=r1) and step size h(=r2), the error\u0000\u0000\n",
      "\u001b[2m\u001b[36m(pid=32710)\u001b[0m        test failed repeatedly or with abs(h) = hmin\u0000\u0000\n",
      "\u001b[2m\u001b[36m(pid=32710)\u001b[0m       in above,  r1 =  0.1808594725524D+03   r2 =  0.6805094490259D-07\n",
      "\u001b[2m\u001b[36m(pid=32710)\u001b[0m  lsoda--  at t(=r1) and step size h(=r2), the error\u0000\u0000\n",
      "\u001b[2m\u001b[36m(pid=32710)\u001b[0m        test failed repeatedly or with abs(h) = hmin\u0000\u0000\n",
      "\u001b[2m\u001b[36m(pid=32710)\u001b[0m       in above,  r1 =  0.1808594713394D+03   r2 =  0.6805094526403D-07\n",
      "\u001b[2m\u001b[36m(pid=32710)\u001b[0m  lsoda--  at t(=r1) and step size h(=r2), the error\u0000\u0000\n",
      "\u001b[2m\u001b[36m(pid=32710)\u001b[0m        test failed repeatedly or with abs(h) = hmin\u0000\u0000\n",
      "\u001b[2m\u001b[36m(pid=32710)\u001b[0m       in above,  r1 =  0.2137153299817D+03   r2 =  0.6787398584186D-07\n",
      "\u001b[2m\u001b[36m(pid=32710)\u001b[0m  lsoda--  at t(=r1) and step size h(=r2), the error\u0000\u0000\n",
      "\u001b[2m\u001b[36m(pid=32710)\u001b[0m        test failed repeatedly or with abs(h) = hmin\u0000\u0000\n",
      "\u001b[2m\u001b[36m(pid=32710)\u001b[0m       in above,  r1 =  0.1785641054099D+03   r2 =  0.6816612078282D-07\n",
      "\u001b[2m\u001b[36m(pid=32710)\u001b[0m  lsoda--  at t(=r1) and step size h(=r2), the error\u0000\u0000\n",
      "\u001b[2m\u001b[36m(pid=32710)\u001b[0m        test failed repeatedly or with abs(h) = hmin\u0000\u0000\n",
      "\u001b[2m\u001b[36m(pid=32710)\u001b[0m       in above,  r1 =  0.2137308530749D+03   r2 =  0.6786989735077D-07\n",
      "\u001b[2m\u001b[36m(pid=32710)\u001b[0m  lsoda--  at t(=r1) and step size h(=r2), the error\u0000\u0000\n",
      "\u001b[2m\u001b[36m(pid=32710)\u001b[0m        test failed repeatedly or with abs(h) = hmin\u0000\u0000\n",
      "\u001b[2m\u001b[36m(pid=32710)\u001b[0m       in above,  r1 =  0.2138562068423D+03   r2 =  0.6838429392343D-07\n",
      "\u001b[2m\u001b[36m(pid=32710)\u001b[0m  lsoda--  at t(=r1) and step size h(=r2), the error\u0000\u0000\n",
      "\u001b[2m\u001b[36m(pid=32710)\u001b[0m        test failed repeatedly or with abs(h) = hmin\u0000\u0000\n",
      "\u001b[2m\u001b[36m(pid=32710)\u001b[0m       in above,  r1 =  0.1828181522167D+03   r2 =  0.6809527974592D-07\n",
      "\u001b[2m\u001b[36m(pid=32710)\u001b[0m  lsoda--  at t(=r1) and step size h(=r2), the error\u0000\u0000\n",
      "\u001b[2m\u001b[36m(pid=32710)\u001b[0m        test failed repeatedly or with abs(h) = hmin\u0000\u0000\n",
      "\u001b[2m\u001b[36m(pid=32710)\u001b[0m       in above,  r1 =  0.1786157284694D+03   r2 =  0.6817658303116D-07\n",
      "\u001b[2m\u001b[36m(pid=32710)\u001b[0m  lsoda--  at t(=r1) and step size h(=r2), the error\u0000\u0000\n",
      "\u001b[2m\u001b[36m(pid=32710)\u001b[0m        test failed repeatedly or with abs(h) = hmin\u0000\u0000\n",
      "\u001b[2m\u001b[36m(pid=32710)\u001b[0m       in above,  r1 =  0.1810501918531D+03   r2 =  0.6807602269746D-07\n",
      "\u001b[2m\u001b[36m(pid=32710)\u001b[0m  lsoda--  at t(=r1) and step size h(=r2), the error\u0000\u0000\n",
      "\u001b[2m\u001b[36m(pid=32710)\u001b[0m        test failed repeatedly or with abs(h) = hmin\u0000\u0000\n",
      "\u001b[2m\u001b[36m(pid=32710)\u001b[0m       in above,  r1 =  0.1804147982713D+03   r2 =  0.6808871018928D-07\n",
      "\u001b[2m\u001b[36m(pid=32710)\u001b[0m  lsoda--  at t(=r1) and step size h(=r2), the error\u0000\u0000\n",
      "\u001b[2m\u001b[36m(pid=32710)\u001b[0m        test failed repeatedly or with abs(h) = hmin\u0000\u0000\n",
      "\u001b[2m\u001b[36m(pid=32710)\u001b[0m       in above,  r1 =  0.1792960341672D+03   r2 =  0.6817903530861D-07\n",
      "\u001b[2m\u001b[36m(pid=32710)\u001b[0m  lsoda--  at t(=r1) and step size h(=r2), the error\u0000\u0000\n",
      "\u001b[2m\u001b[36m(pid=32710)\u001b[0m        test failed repeatedly or with abs(h) = hmin\u0000\u0000\n",
      "\u001b[2m\u001b[36m(pid=32710)\u001b[0m       in above,  r1 =  0.1976065399992D+03   r2 =  0.9103458804896D-07\n",
      "\u001b[2m\u001b[36m(pid=32710)\u001b[0m  lsoda--  at t(=r1) and step size h(=r2), the error\u0000\u0000\n",
      "\u001b[2m\u001b[36m(pid=32710)\u001b[0m        test failed repeatedly or with abs(h) = hmin\u0000\u0000\n",
      "\u001b[2m\u001b[36m(pid=32710)\u001b[0m       in above,  r1 =  0.1808589066263D+03   r2 =  0.6811402131437D-07\n",
      "\u001b[2m\u001b[36m(pid=32710)\u001b[0m  lsoda--  at t(=r1) and step size h(=r2), the error\u0000\u0000\n",
      "\u001b[2m\u001b[36m(pid=32710)\u001b[0m        test failed repeatedly or with abs(h) = hmin\u0000\u0000\n",
      "\u001b[2m\u001b[36m(pid=32710)\u001b[0m       in above,  r1 =  0.1815395725365D+03   r2 =  0.6806581042957D-07\n",
      "\u001b[2m\u001b[36m(pid=32710)\u001b[0m  lsoda--  at t(=r1) and step size h(=r2), the error\u0000\u0000\n",
      "\u001b[2m\u001b[36m(pid=32710)\u001b[0m        test failed repeatedly or with abs(h) = hmin\u0000\u0000\n",
      "\u001b[2m\u001b[36m(pid=32710)\u001b[0m       in above,  r1 =  0.1757177424496D+03   r2 =  0.6785378986885D-07\n",
      "\u001b[2m\u001b[36m(pid=32710)\u001b[0m  lsoda--  at t(=r1) and step size h(=r2), the error\u0000\u0000\n",
      "\u001b[2m\u001b[36m(pid=32710)\u001b[0m        test failed repeatedly or with abs(h) = hmin\u0000\u0000\n",
      "\u001b[2m\u001b[36m(pid=32710)\u001b[0m       in above,  r1 =  0.1789253328670D+03   r2 =  0.6812401502235D-07\n",
      "\u001b[2m\u001b[36m(pid=32710)\u001b[0m  lsoda--  at t(=r1) and step size h(=r2), the error\u0000\u0000\n",
      "\u001b[2m\u001b[36m(pid=32710)\u001b[0m        test failed repeatedly or with abs(h) = hmin\u0000\u0000\n",
      "\u001b[2m\u001b[36m(pid=32710)\u001b[0m       in above,  r1 =  0.1792778126535D+03   r2 =  0.6819750433276D-07\n"
     ]
    },
    {
     "name": "stdout",
     "output_type": "stream",
     "text": [
      "\u001b[2m\u001b[36m(pid=32723)\u001b[0m basinhopping step 10: f 3.39055e+11 trial_f 5.36413e+14 accepted 0  lowest_f 3.39055e+11\n"
     ]
    },
    {
     "name": "stderr",
     "output_type": "stream",
     "text": [
      "2020-10-28 21:21:05,072\tWARNING worker.py:1090 -- WARNING: 10 PYTHON workers have been started. This could be a result of using a large number of actors, or it could be a consequence of using nested tasks (see https://github.com/ray-project/ray/issues/3644) for some a discussion of workarounds.\n"
     ]
    },
    {
     "name": "stdout",
     "output_type": "stream",
     "text": [
      "\u001b[2m\u001b[36m(pid=32817)\u001b[0m warning: basinhopping: local minimization failure\n",
      "\u001b[2m\u001b[36m(pid=32817)\u001b[0m basinhopping step 0: f 3.44213e+12\n",
      "\u001b[2m\u001b[36m(pid=32778)\u001b[0m basinhopping step 3: f 6.42595e+09 trial_f 2.65043e+13 accepted 0  lowest_f 6.42595e+09\n",
      "\u001b[2m\u001b[36m(pid=32710)\u001b[0m  lsoda--  at t(=r1) and step size h(=r2), the error\u0000\u0000\n",
      "\u001b[2m\u001b[36m(pid=32710)\u001b[0m        test failed repeatedly or with abs(h) = hmin\u0000\u0000\n",
      "\u001b[2m\u001b[36m(pid=32710)\u001b[0m       in above,  r1 =  0.1791245908959D+03   r2 =  0.6811964714346D-07\n",
      "\u001b[2m\u001b[36m(pid=32710)\u001b[0m  lsoda--  at t(=r1) and step size h(=r2), the error\u0000\u0000\n",
      "\u001b[2m\u001b[36m(pid=32710)\u001b[0m        test failed repeatedly or with abs(h) = hmin\u0000\u0000\n",
      "\u001b[2m\u001b[36m(pid=32710)\u001b[0m       in above,  r1 =  0.1715197180168D+03   r2 =  0.6771980281714D-07\n",
      "\u001b[2m\u001b[36m(pid=32710)\u001b[0m  lsoda--  at t(=r1) and step size h(=r2), the error\u0000\u0000\n",
      "\u001b[2m\u001b[36m(pid=32710)\u001b[0m        test failed repeatedly or with abs(h) = hmin\u0000\u0000\n",
      "\u001b[2m\u001b[36m(pid=32710)\u001b[0m       in above,  r1 =  0.1798867025784D+03   r2 =  0.6813270366418D-07\n",
      "\u001b[2m\u001b[36m(pid=32710)\u001b[0m  lsoda--  at t(=r1) and step size h(=r2), the error\u0000\u0000\n",
      "\u001b[2m\u001b[36m(pid=32710)\u001b[0m        test failed repeatedly or with abs(h) = hmin\u0000\u0000\n",
      "\u001b[2m\u001b[36m(pid=32710)\u001b[0m       in above,  r1 =  0.1799364114927D+03   r2 =  0.6812852460632D-07\n",
      "\u001b[2m\u001b[36m(pid=32710)\u001b[0m  lsoda--  at t(=r1) and step size h(=r2), the error\u0000\u0000\n",
      "\u001b[2m\u001b[36m(pid=32710)\u001b[0m        test failed repeatedly or with abs(h) = hmin\u0000\u0000\n",
      "\u001b[2m\u001b[36m(pid=32710)\u001b[0m       in above,  r1 =  0.1799035181648D+03   r2 =  0.6813256372494D-07\n",
      "\u001b[2m\u001b[36m(pid=32710)\u001b[0m  lsoda--  at t(=r1) and step size h(=r2), the error\u0000\u0000\n",
      "\u001b[2m\u001b[36m(pid=32710)\u001b[0m        test failed repeatedly or with abs(h) = hmin\u0000\u0000\n",
      "\u001b[2m\u001b[36m(pid=32710)\u001b[0m       in above,  r1 =  0.1848663131097D+03   r2 =  0.6795132595794D-07\n",
      "\u001b[2m\u001b[36m(pid=32710)\u001b[0m  lsoda--  at t(=r1) and step size h(=r2), the error\u0000\u0000\n",
      "\u001b[2m\u001b[36m(pid=32710)\u001b[0m        test failed repeatedly or with abs(h) = hmin\u0000\u0000\n",
      "\u001b[2m\u001b[36m(pid=32710)\u001b[0m       in above,  r1 =  0.1803418825730D+03   r2 =  0.6768170919085D-07\n",
      "\u001b[2m\u001b[36m(pid=32710)\u001b[0m  lsoda--  at t(=r1) and step size h(=r2), the error\u0000\u0000\n",
      "\u001b[2m\u001b[36m(pid=32710)\u001b[0m        test failed repeatedly or with abs(h) = hmin\u0000\u0000\n",
      "\u001b[2m\u001b[36m(pid=32710)\u001b[0m       in above,  r1 =  0.1872606603966D+03   r2 =  0.6832849249207D-07\n",
      "\u001b[2m\u001b[36m(pid=32710)\u001b[0m  lsoda--  at t(=r1) and step size h(=r2), the error\u0000\u0000\n",
      "\u001b[2m\u001b[36m(pid=32710)\u001b[0m        test failed repeatedly or with abs(h) = hmin\u0000\u0000\n",
      "\u001b[2m\u001b[36m(pid=32710)\u001b[0m       in above,  r1 =  0.1848663131097D+03   r2 =  0.6795132595794D-07\n",
      "\u001b[2m\u001b[36m(pid=32710)\u001b[0m  lsoda--  at t(=r1) and step size h(=r2), the error\u0000\u0000\n",
      "\u001b[2m\u001b[36m(pid=32710)\u001b[0m        test failed repeatedly or with abs(h) = hmin\u0000\u0000\n",
      "\u001b[2m\u001b[36m(pid=32710)\u001b[0m       in above,  r1 =  0.1848663131097D+03   r2 =  0.6795132595794D-07\n",
      "\u001b[2m\u001b[36m(pid=32710)\u001b[0m  lsoda--  at t(=r1) and step size h(=r2), the error\u0000\u0000\n",
      "\u001b[2m\u001b[36m(pid=32710)\u001b[0m        test failed repeatedly or with abs(h) = hmin\u0000\u0000\n",
      "\u001b[2m\u001b[36m(pid=32710)\u001b[0m       in above,  r1 =  0.1801108197265D+03   r2 =  0.6806730259163D-07\n",
      "\u001b[2m\u001b[36m(pid=32710)\u001b[0m  lsoda--  at t(=r1) and step size h(=r2), the error\u0000\u0000\n",
      "\u001b[2m\u001b[36m(pid=32710)\u001b[0m        test failed repeatedly or with abs(h) = hmin\u0000\u0000\n",
      "\u001b[2m\u001b[36m(pid=32710)\u001b[0m       in above,  r1 =  0.1848663131097D+03   r2 =  0.6795132595794D-07\n",
      "\u001b[2m\u001b[36m(pid=32710)\u001b[0m  lsoda--  at t(=r1) and step size h(=r2), the error\u0000\u0000\n",
      "\u001b[2m\u001b[36m(pid=32710)\u001b[0m        test failed repeatedly or with abs(h) = hmin\u0000\u0000\n",
      "\u001b[2m\u001b[36m(pid=32710)\u001b[0m       in above,  r1 =  0.1848663131097D+03   r2 =  0.6795132595794D-07\n",
      "\u001b[2m\u001b[36m(pid=32710)\u001b[0m  lsoda--  at t(=r1) and step size h(=r2), the error\u0000\u0000\n",
      "\u001b[2m\u001b[36m(pid=32710)\u001b[0m        test failed repeatedly or with abs(h) = hmin\u0000\u0000\n",
      "\u001b[2m\u001b[36m(pid=32710)\u001b[0m       in above,  r1 =  0.1800666046951D+03   r2 =  0.6812103083994D-07\n",
      "\u001b[2m\u001b[36m(pid=32710)\u001b[0m  lsoda--  at t(=r1) and step size h(=r2), the error\u0000\u0000\n",
      "\u001b[2m\u001b[36m(pid=32710)\u001b[0m        test failed repeatedly or with abs(h) = hmin\u0000\u0000\n",
      "\u001b[2m\u001b[36m(pid=32710)\u001b[0m       in above,  r1 =  0.1802927272770D+03   r2 =  0.6709313456916D-07\n",
      "\u001b[2m\u001b[36m(pid=32710)\u001b[0m  lsoda--  at t(=r1) and step size h(=r2), the error\u0000\u0000\n",
      "\u001b[2m\u001b[36m(pid=32710)\u001b[0m        test failed repeatedly or with abs(h) = hmin\u0000\u0000\n",
      "\u001b[2m\u001b[36m(pid=32710)\u001b[0m       in above,  r1 =  0.1848663131097D+03   r2 =  0.6795132595794D-07\n",
      "\u001b[2m\u001b[36m(pid=32710)\u001b[0m  lsoda--  at t(=r1) and step size h(=r2), the error\u0000\u0000\n",
      "\u001b[2m\u001b[36m(pid=32710)\u001b[0m        test failed repeatedly or with abs(h) = hmin\u0000\u0000\n",
      "\u001b[2m\u001b[36m(pid=32710)\u001b[0m       in above,  r1 =  0.1848663131097D+03   r2 =  0.6795132595794D-07\n",
      "\u001b[2m\u001b[36m(pid=32710)\u001b[0m  lsoda--  at t(=r1) and step size h(=r2), the error\u0000\u0000\n",
      "\u001b[2m\u001b[36m(pid=32710)\u001b[0m        test failed repeatedly or with abs(h) = hmin\u0000\u0000\n",
      "\u001b[2m\u001b[36m(pid=32710)\u001b[0m       in above,  r1 =  0.1848663131097D+03   r2 =  0.6795132595794D-07\n",
      "\u001b[2m\u001b[36m(pid=32710)\u001b[0m  lsoda--  at t(=r1) and step size h(=r2), the error\u0000\u0000\n",
      "\u001b[2m\u001b[36m(pid=32710)\u001b[0m        test failed repeatedly or with abs(h) = hmin\u0000\u0000\n",
      "\u001b[2m\u001b[36m(pid=32710)\u001b[0m       in above,  r1 =  0.1848663131097D+03   r2 =  0.6795132595794D-07\n",
      "\u001b[2m\u001b[36m(pid=32710)\u001b[0m  lsoda--  at t(=r1) and step size h(=r2), the error\u0000\u0000\n",
      "\u001b[2m\u001b[36m(pid=32710)\u001b[0m        test failed repeatedly or with abs(h) = hmin\u0000\u0000\n",
      "\u001b[2m\u001b[36m(pid=32710)\u001b[0m       in above,  r1 =  0.1848663131097D+03   r2 =  0.6795132595794D-07\n",
      "\u001b[2m\u001b[36m(pid=32710)\u001b[0m  lsoda--  at t(=r1) and step size h(=r2), the error\u0000\u0000\n",
      "\u001b[2m\u001b[36m(pid=32710)\u001b[0m        test failed repeatedly or with abs(h) = hmin\u0000\u0000\n",
      "\u001b[2m\u001b[36m(pid=32710)\u001b[0m       in above,  r1 =  0.1800666046951D+03   r2 =  0.6812103083994D-07\n",
      "\u001b[2m\u001b[36m(pid=32710)\u001b[0m  lsoda--  at t(=r1) and step size h(=r2), the error\u0000\u0000\n",
      "\u001b[2m\u001b[36m(pid=32710)\u001b[0m        test failed repeatedly or with abs(h) = hmin\u0000\u0000\n",
      "\u001b[2m\u001b[36m(pid=32710)\u001b[0m       in above,  r1 =  0.1802927272770D+03   r2 =  0.6709313456916D-07\n",
      "\u001b[2m\u001b[36m(pid=32710)\u001b[0m  lsoda--  at t(=r1) and step size h(=r2), the error\u0000\u0000\n",
      "\u001b[2m\u001b[36m(pid=32710)\u001b[0m        test failed repeatedly or with abs(h) = hmin\u0000\u0000\n",
      "\u001b[2m\u001b[36m(pid=32710)\u001b[0m       in above,  r1 =  0.1848663131097D+03   r2 =  0.6795132595794D-07\n",
      "\u001b[2m\u001b[36m(pid=32808)\u001b[0m basinhopping step 0: f 1.22433e+12\n",
      "\u001b[2m\u001b[36m(pid=32817)\u001b[0m warning: basinhopping: local minimization failure\n",
      "\u001b[2m\u001b[36m(pid=32817)\u001b[0m basinhopping step 1: f 3.44213e+12 trial_f 4.18291e+12 accepted 0  lowest_f 3.44213e+12\n",
      "\u001b[2m\u001b[36m(pid=32710)\u001b[0m basinhopping step 8: f 1.60423e+09 trial_f 5.27109e+15 accepted 0  lowest_f 1.60423e+09\n",
      "\u001b[2m\u001b[36m(pid=32778)\u001b[0m basinhopping step 4: f 6.42595e+09 trial_f 6.36639e+12 accepted 0  lowest_f 6.42595e+09\n",
      "\u001b[2m\u001b[36m(pid=32710)\u001b[0m basinhopping step 9: f 1.60423e+09 trial_f 1.60723e+09 accepted 0  lowest_f 1.60423e+09\n",
      "\u001b[2m\u001b[36m(pid=32808)\u001b[0m warning: basinhopping: local minimization failure\n",
      "\u001b[2m\u001b[36m(pid=32808)\u001b[0m basinhopping step 1: f 1.22433e+12 trial_f 8.52598e+14 accepted 0  lowest_f 1.22433e+12\n",
      "\u001b[2m\u001b[36m(pid=32817)\u001b[0m basinhopping step 2: f 3.44213e+12 trial_f 1.05499e+15 accepted 0  lowest_f 3.44213e+12\n",
      "\u001b[2m\u001b[36m(pid=32834)\u001b[0m basinhopping step 0: f 4.14172e+10\n",
      "\u001b[2m\u001b[36m(pid=32808)\u001b[0m basinhopping step 2: f 8.67287e+11 trial_f 8.67287e+11 accepted 1  lowest_f 8.67287e+11\n",
      "\u001b[2m\u001b[36m(pid=32808)\u001b[0m found new global minimum on step 2 with function value 8.67287e+11\n",
      "\u001b[2m\u001b[36m(pid=32808)\u001b[0m warning: basinhopping: local minimization failure\n",
      "\u001b[2m\u001b[36m(pid=32808)\u001b[0m basinhopping step 3: f 8.67287e+11 trial_f 2.50246e+12 accepted 0  lowest_f 8.67287e+11\n",
      "\u001b[2m\u001b[36m(pid=32710)\u001b[0m basinhopping step 10: f 1.60423e+09 trial_f 5.49444e+16 accepted 0  lowest_f 1.60423e+09\n"
     ]
    },
    {
     "name": "stderr",
     "output_type": "stream",
     "text": [
      "2020-10-28 21:21:22,891\tWARNING worker.py:1090 -- WARNING: 10 PYTHON workers have been started. This could be a result of using a large number of actors, or it could be a consequence of using nested tasks (see https://github.com/ray-project/ray/issues/3644) for some a discussion of workarounds.\n"
     ]
    },
    {
     "name": "stdout",
     "output_type": "stream",
     "text": [
      "\u001b[2m\u001b[36m(pid=32834)\u001b[0m basinhopping step 1: f 4.14172e+10 trial_f 4.01536e+12 accepted 0  lowest_f 4.14172e+10\n",
      "\u001b[2m\u001b[36m(pid=32710)\u001b[0m  lsoda--  at t(=r1) and step size h(=r2), the error\u0000\u0000\n",
      "\u001b[2m\u001b[36m(pid=32710)\u001b[0m        test failed repeatedly or with abs(h) = hmin\u0000\u0000\n",
      "\u001b[2m\u001b[36m(pid=32710)\u001b[0m       in above,  r1 =  0.1848663131097D+03   r2 =  0.6795132595794D-07\n",
      "\u001b[2m\u001b[36m(pid=32710)\u001b[0m  lsoda--  at t(=r1) and step size h(=r2), the error\u0000\u0000\n",
      "\u001b[2m\u001b[36m(pid=32710)\u001b[0m        test failed repeatedly or with abs(h) = hmin\u0000\u0000\n",
      "\u001b[2m\u001b[36m(pid=32710)\u001b[0m       in above,  r1 =  0.1848663131097D+03   r2 =  0.6795132595794D-07\n",
      "\u001b[2m\u001b[36m(pid=32710)\u001b[0m  lsoda--  at t(=r1) and step size h(=r2), the error\u0000\u0000\n",
      "\u001b[2m\u001b[36m(pid=32710)\u001b[0m        test failed repeatedly or with abs(h) = hmin\u0000\u0000\n",
      "\u001b[2m\u001b[36m(pid=32710)\u001b[0m       in above,  r1 =  0.1848663131097D+03   r2 =  0.6795132595794D-07\n",
      "\u001b[2m\u001b[36m(pid=33017)\u001b[0m basinhopping step 0: f 3.25996e+15\n",
      "\u001b[2m\u001b[36m(pid=32778)\u001b[0m warning: basinhopping: local minimization failure\n",
      "\u001b[2m\u001b[36m(pid=32778)\u001b[0m basinhopping step 5: f 6.42595e+09 trial_f 9.16799e+09 accepted 0  lowest_f 6.42595e+09\n",
      "\u001b[2m\u001b[36m(pid=32834)\u001b[0m basinhopping step 2: f 4.14172e+10 trial_f 8.51941e+11 accepted 0  lowest_f 4.14172e+10\n",
      "\u001b[2m\u001b[36m(pid=32817)\u001b[0m basinhopping step 3: f 3.08398e+12 trial_f 3.08398e+12 accepted 1  lowest_f 3.08398e+12\n",
      "\u001b[2m\u001b[36m(pid=32817)\u001b[0m found new global minimum on step 3 with function value 3.08398e+12\n",
      "\u001b[2m\u001b[36m(pid=32778)\u001b[0m warning: basinhopping: local minimization failure\n",
      "\u001b[2m\u001b[36m(pid=32778)\u001b[0m basinhopping step 6: f 6.42595e+09 trial_f 1.46744e+13 accepted 0  lowest_f 6.42595e+09\n",
      "\u001b[2m\u001b[36m(pid=32808)\u001b[0m basinhopping step 4: f 8.67287e+11 trial_f 2.26746e+12 accepted 0  lowest_f 8.67287e+11\n",
      "\u001b[2m\u001b[36m(pid=32778)\u001b[0m warning: basinhopping: local minimization failure\n",
      "\u001b[2m\u001b[36m(pid=32778)\u001b[0m basinhopping step 7: f 6.42595e+09 trial_f 9.16336e+09 accepted 0  lowest_f 6.42595e+09\n",
      "\u001b[2m\u001b[36m(pid=32834)\u001b[0m basinhopping step 3: f 4.14172e+10 trial_f 1.48252e+11 accepted 0  lowest_f 4.14172e+10\n",
      "\u001b[2m\u001b[36m(pid=33017)\u001b[0m basinhopping step 1: f 2.74431e+15 trial_f 2.74431e+15 accepted 1  lowest_f 2.74431e+15\n",
      "\u001b[2m\u001b[36m(pid=33017)\u001b[0m found new global minimum on step 1 with function value 2.74431e+15\n",
      "\u001b[2m\u001b[36m(pid=33017)\u001b[0m basinhopping step 2: f 8.83233e+08 trial_f 8.83233e+08 accepted 1  lowest_f 8.83233e+08\n",
      "\u001b[2m\u001b[36m(pid=33017)\u001b[0m found new global minimum on step 2 with function value 8.83233e+08\n",
      "\u001b[2m\u001b[36m(pid=32834)\u001b[0m basinhopping step 4: f 4.14172e+10 trial_f 1.48278e+11 accepted 0  lowest_f 4.14172e+10\n",
      "\u001b[2m\u001b[36m(pid=32808)\u001b[0m warning: basinhopping: local minimization failure\n",
      "\u001b[2m\u001b[36m(pid=32808)\u001b[0m basinhopping step 5: f 4.89274e+11 trial_f 4.89274e+11 accepted 1  lowest_f 4.89274e+11\n",
      "\u001b[2m\u001b[36m(pid=32808)\u001b[0m found new global minimum on step 5 with function value 4.89274e+11\n",
      "\u001b[2m\u001b[36m(pid=32778)\u001b[0m basinhopping step 8: f 6.42595e+09 trial_f 3.82425e+13 accepted 0  lowest_f 6.42595e+09\n",
      "\u001b[2m\u001b[36m(pid=32778)\u001b[0m basinhopping step 9: f 6.42595e+09 trial_f 1.48022e+13 accepted 0  lowest_f 6.42595e+09\n",
      "\u001b[2m\u001b[36m(pid=33017)\u001b[0m warning: basinhopping: local minimization failure\n",
      "\u001b[2m\u001b[36m(pid=33017)\u001b[0m basinhopping step 3: f 8.83233e+08 trial_f 8.83235e+08 accepted 0  lowest_f 8.83233e+08\n",
      "\u001b[2m\u001b[36m(pid=33017)\u001b[0m warning: basinhopping: local minimization failure\n",
      "\u001b[2m\u001b[36m(pid=33017)\u001b[0m basinhopping step 4: f 8.83233e+08 trial_f 7.52449e+15 accepted 0  lowest_f 8.83233e+08\n",
      "\u001b[2m\u001b[36m(pid=32817)\u001b[0m basinhopping step 4: f 3.08398e+12 trial_f 3.08398e+12 accepted 1  lowest_f 3.08398e+12\n",
      "\u001b[2m\u001b[36m(pid=32834)\u001b[0m basinhopping step 5: f 4.14172e+10 trial_f 1.10362e+11 accepted 0  lowest_f 4.14172e+10\n",
      "\u001b[2m\u001b[36m(pid=32778)\u001b[0m basinhopping step 10: f 6.42595e+09 trial_f 9.06094e+09 accepted 0  lowest_f 6.42595e+09\n"
     ]
    },
    {
     "name": "stderr",
     "output_type": "stream",
     "text": [
      "2020-10-28 21:22:11,626\tWARNING worker.py:1090 -- WARNING: 10 PYTHON workers have been started. This could be a result of using a large number of actors, or it could be a consequence of using nested tasks (see https://github.com/ray-project/ray/issues/3644) for some a discussion of workarounds.\n"
     ]
    },
    {
     "name": "stdout",
     "output_type": "stream",
     "text": [
      "\u001b[2m\u001b[36m(pid=33017)\u001b[0m basinhopping step 5: f 8.83233e+08 trial_f 8.83464e+08 accepted 0  lowest_f 8.83233e+08\n",
      "\u001b[2m\u001b[36m(pid=32834)\u001b[0m basinhopping step 6: f 4.14172e+10 trial_f 2.33918e+12 accepted 0  lowest_f 4.14172e+10\n",
      "\u001b[2m\u001b[36m(pid=33049)\u001b[0m basinhopping step 0: f 3.68972e+09\n",
      "\u001b[2m\u001b[36m(pid=32808)\u001b[0m basinhopping step 6: f 4.89274e+11 trial_f 5.06917e+11 accepted 0  lowest_f 4.89274e+11\n",
      "\u001b[2m\u001b[36m(pid=33017)\u001b[0m warning: basinhopping: local minimization failure\n",
      "\u001b[2m\u001b[36m(pid=33017)\u001b[0m basinhopping step 6: f 7.60727e+08 trial_f 7.60727e+08 accepted 1  lowest_f 7.60727e+08\n",
      "\u001b[2m\u001b[36m(pid=33017)\u001b[0m found new global minimum on step 6 with function value 7.60727e+08\n",
      "\u001b[2m\u001b[36m(pid=32817)\u001b[0m basinhopping step 5: f 3.08398e+12 trial_f 1.743e+15 accepted 0  lowest_f 3.08398e+12\n",
      "\u001b[2m\u001b[36m(pid=33017)\u001b[0m warning: basinhopping: local minimization failure\n",
      "\u001b[2m\u001b[36m(pid=33017)\u001b[0m basinhopping step 7: f 7.60727e+08 trial_f 8.8361e+08 accepted 0  lowest_f 7.60727e+08\n",
      "\u001b[2m\u001b[36m(pid=32817)\u001b[0m basinhopping step 6: f 3.08398e+12 trial_f 7.82518e+14 accepted 0  lowest_f 3.08398e+12\n",
      "\u001b[2m\u001b[36m(pid=32817)\u001b[0m basinhopping step 7: f 3.08398e+12 trial_f 3.27721e+14 accepted 0  lowest_f 3.08398e+12\n",
      "\u001b[2m\u001b[36m(pid=32808)\u001b[0m basinhopping step 7: f 4.89274e+11 trial_f 1.3696e+15 accepted 0  lowest_f 4.89274e+11\n",
      "\u001b[2m\u001b[36m(pid=33049)\u001b[0m basinhopping step 1: f 3.68972e+09 trial_f 6.1575e+09 accepted 0  lowest_f 3.68972e+09\n",
      "\u001b[2m\u001b[36m(pid=32817)\u001b[0m basinhopping step 8: f 3.08398e+12 trial_f 1.04778e+15 accepted 0  lowest_f 3.08398e+12\n",
      "\u001b[2m\u001b[36m(pid=33049)\u001b[0m basinhopping step 2: f 3.68972e+09 trial_f 6.30281e+09 accepted 0  lowest_f 3.68972e+09\n",
      "\u001b[2m\u001b[36m(pid=32834)\u001b[0m basinhopping step 7: f 4.14172e+10 trial_f 2.78935e+11 accepted 0  lowest_f 4.14172e+10\n",
      "\u001b[2m\u001b[36m(pid=33017)\u001b[0m warning: basinhopping: local minimization failure\n",
      "\u001b[2m\u001b[36m(pid=33017)\u001b[0m basinhopping step 8: f 7.60727e+08 trial_f 3.26082e+15 accepted 0  lowest_f 7.60727e+08\n",
      "\u001b[2m\u001b[36m(pid=33049)\u001b[0m basinhopping step 3: f 3.68972e+09 trial_f 3.17257e+13 accepted 0  lowest_f 3.68972e+09\n",
      "\u001b[2m\u001b[36m(pid=33049)\u001b[0m basinhopping step 4: f 3.68972e+09 trial_f 3.10775e+12 accepted 0  lowest_f 3.68972e+09\n",
      "\u001b[2m\u001b[36m(pid=33049)\u001b[0m warning: basinhopping: local minimization failure\n",
      "\u001b[2m\u001b[36m(pid=33049)\u001b[0m basinhopping step 5: f 3.68972e+09 trial_f 6.3183e+09 accepted 0  lowest_f 3.68972e+09\n",
      "\u001b[2m\u001b[36m(pid=32817)\u001b[0m basinhopping step 9: f 3.08398e+12 trial_f 2.56205e+15 accepted 0  lowest_f 3.08398e+12\n",
      "\u001b[2m\u001b[36m(pid=32808)\u001b[0m basinhopping step 8: f 4.89274e+11 trial_f 2.05247e+14 accepted 0  lowest_f 4.89274e+11\n",
      "\u001b[2m\u001b[36m(pid=33049)\u001b[0m basinhopping step 6: f 3.60178e+09 trial_f 3.60178e+09 accepted 1  lowest_f 3.60178e+09\n",
      "\u001b[2m\u001b[36m(pid=33049)\u001b[0m found new global minimum on step 6 with function value 3.60178e+09\n",
      "\u001b[2m\u001b[36m(pid=33017)\u001b[0m basinhopping step 9: f 7.60727e+08 trial_f 1.81542e+16 accepted 0  lowest_f 7.60727e+08\n",
      "\u001b[2m\u001b[36m(pid=32817)\u001b[0m basinhopping step 10: f 3.08398e+12 trial_f 1.52045e+15 accepted 0  lowest_f 3.08398e+12\n",
      "\u001b[2m\u001b[36m(pid=33049)\u001b[0m basinhopping step 7: f 3.60178e+09 trial_f 6.30805e+09 accepted 0  lowest_f 3.60178e+09\n"
     ]
    },
    {
     "name": "stderr",
     "output_type": "stream",
     "text": [
      "2020-10-28 21:22:55,648\tWARNING worker.py:1090 -- WARNING: 10 PYTHON workers have been started. This could be a result of using a large number of actors, or it could be a consequence of using nested tasks (see https://github.com/ray-project/ray/issues/3644) for some a discussion of workarounds.\n"
     ]
    },
    {
     "name": "stdout",
     "output_type": "stream",
     "text": [
      "\u001b[2m\u001b[36m(pid=33017)\u001b[0m basinhopping step 10: f 7.60727e+08 trial_f 8.84469e+08 accepted 0  lowest_f 7.60727e+08\n"
     ]
    },
    {
     "name": "stderr",
     "output_type": "stream",
     "text": [
      "2020-10-28 21:23:02,270\tWARNING worker.py:1090 -- WARNING: 10 PYTHON workers have been started. This could be a result of using a large number of actors, or it could be a consequence of using nested tasks (see https://github.com/ray-project/ray/issues/3644) for some a discussion of workarounds.\n"
     ]
    },
    {
     "name": "stdout",
     "output_type": "stream",
     "text": [
      "\u001b[2m\u001b[36m(pid=33092)\u001b[0m warning: basinhopping: local minimization failure\n",
      "\u001b[2m\u001b[36m(pid=33092)\u001b[0m basinhopping step 0: f 3.62095e+12\n",
      "\u001b[2m\u001b[36m(pid=33118)\u001b[0m warning: basinhopping: local minimization failure\n",
      "\u001b[2m\u001b[36m(pid=33118)\u001b[0m basinhopping step 0: f 2.12398e+15\n",
      "\u001b[2m\u001b[36m(pid=32808)\u001b[0m warning: basinhopping: local minimization failure\n",
      "\u001b[2m\u001b[36m(pid=32808)\u001b[0m basinhopping step 9: f 4.89274e+11 trial_f 2.49652e+12 accepted 0  lowest_f 4.89274e+11\n",
      "\u001b[2m\u001b[36m(pid=32834)\u001b[0m warning: basinhopping: local minimization failure\n",
      "\u001b[2m\u001b[36m(pid=32834)\u001b[0m basinhopping step 8: f 4.14172e+10 trial_f 1.47774e+11 accepted 0  lowest_f 4.14172e+10\n",
      "\u001b[2m\u001b[36m(pid=33092)\u001b[0m basinhopping step 1: f 3.32938e+12 trial_f 3.32938e+12 accepted 1  lowest_f 3.32938e+12\n",
      "\u001b[2m\u001b[36m(pid=33092)\u001b[0m found new global minimum on step 1 with function value 3.32938e+12\n",
      "\u001b[2m\u001b[36m(pid=33049)\u001b[0m basinhopping step 8: f 3.60178e+09 trial_f 3.66686e+09 accepted 0  lowest_f 3.60178e+09\n",
      "\u001b[2m\u001b[36m(pid=32808)\u001b[0m basinhopping step 10: f 4.89274e+11 trial_f 1.36846e+15 accepted 0  lowest_f 4.89274e+11\n",
      "\u001b[2m\u001b[36m(pid=33118)\u001b[0m basinhopping step 1: f 1.7968e+09 trial_f 1.7968e+09 accepted 1  lowest_f 1.7968e+09\n",
      "\u001b[2m\u001b[36m(pid=33118)\u001b[0m found new global minimum on step 1 with function value 1.7968e+09\n"
     ]
    },
    {
     "name": "stderr",
     "output_type": "stream",
     "text": [
      "2020-10-28 21:23:16,503\tWARNING worker.py:1090 -- WARNING: 10 PYTHON workers have been started. This could be a result of using a large number of actors, or it could be a consequence of using nested tasks (see https://github.com/ray-project/ray/issues/3644) for some a discussion of workarounds.\n"
     ]
    },
    {
     "name": "stdout",
     "output_type": "stream",
     "text": [
      "\u001b[2m\u001b[36m(pid=33092)\u001b[0m basinhopping step 2: f 3.32938e+12 trial_f 4.0116e+14 accepted 0  lowest_f 3.32938e+12\n",
      "\u001b[2m\u001b[36m(pid=33049)\u001b[0m basinhopping step 9: f 3.60178e+09 trial_f 2.00543e+12 accepted 0  lowest_f 3.60178e+09\n",
      "\u001b[2m\u001b[36m(pid=33118)\u001b[0m basinhopping step 2: f 1.7968e+09 trial_f 1.6857e+16 accepted 0  lowest_f 1.7968e+09\n",
      "\u001b[2m\u001b[36m(pid=33092)\u001b[0m warning: basinhopping: local minimization failure\n",
      "\u001b[2m\u001b[36m(pid=33092)\u001b[0m basinhopping step 3: f 3.32938e+12 trial_f 5.48715e+15 accepted 0  lowest_f 3.32938e+12\n",
      "\u001b[2m\u001b[36m(pid=33118)\u001b[0m basinhopping step 3: f 1.7968e+09 trial_f 1.65998e+16 accepted 0  lowest_f 1.7968e+09\n",
      "\u001b[2m\u001b[36m(pid=33049)\u001b[0m basinhopping step 10: f 3.60178e+09 trial_f 3.14254e+13 accepted 0  lowest_f 3.60178e+09\n"
     ]
    },
    {
     "name": "stderr",
     "output_type": "stream",
     "text": [
      "2020-10-28 21:23:23,966\tWARNING worker.py:1090 -- WARNING: 10 PYTHON workers have been started. This could be a result of using a large number of actors, or it could be a consequence of using nested tasks (see https://github.com/ray-project/ray/issues/3644) for some a discussion of workarounds.\n"
     ]
    },
    {
     "name": "stdout",
     "output_type": "stream",
     "text": [
      "\u001b[2m\u001b[36m(pid=33132)\u001b[0m basinhopping step 0: f 3.19619e+12\n",
      "\u001b[2m\u001b[36m(pid=33092)\u001b[0m basinhopping step 4: f 3.32938e+12 trial_f 1.47314e+15 accepted 0  lowest_f 3.32938e+12\n",
      "\u001b[2m\u001b[36m(pid=32834)\u001b[0m basinhopping step 9: f 4.14172e+10 trial_f 5.07437e+11 accepted 0  lowest_f 4.14172e+10\n",
      "\u001b[2m\u001b[36m(pid=33118)\u001b[0m warning: basinhopping: local minimization failure\n",
      "\u001b[2m\u001b[36m(pid=33118)\u001b[0m basinhopping step 4: f 1.55175e+09 trial_f 1.55175e+09 accepted 1  lowest_f 1.55175e+09\n",
      "\u001b[2m\u001b[36m(pid=33118)\u001b[0m found new global minimum on step 4 with function value 1.55175e+09\n",
      "\u001b[2m\u001b[36m(pid=33092)\u001b[0m warning: basinhopping: local minimization failure\n",
      "\u001b[2m\u001b[36m(pid=33092)\u001b[0m basinhopping step 5: f 3.32938e+12 trial_f 6.23258e+15 accepted 0  lowest_f 3.32938e+12\n",
      "\u001b[2m\u001b[36m(pid=33118)\u001b[0m basinhopping step 5: f 1.55175e+09 trial_f 1.7968e+09 accepted 0  lowest_f 1.55175e+09\n",
      "\u001b[2m\u001b[36m(pid=33145)\u001b[0m basinhopping step 0: f 4.42475e+09\n",
      "\u001b[2m\u001b[36m(pid=32834)\u001b[0m basinhopping step 10: f 4.14172e+10 trial_f 1.36821e+12 accepted 0  lowest_f 4.14172e+10\n",
      "\u001b[2m\u001b[36m(pid=33118)\u001b[0m basinhopping step 6: f 1.55175e+09 trial_f 1.29644e+16 accepted 0  lowest_f 1.55175e+09\n"
     ]
    },
    {
     "name": "stderr",
     "output_type": "stream",
     "text": [
      "2020-10-28 21:23:34,639\tWARNING worker.py:1090 -- WARNING: 10 PYTHON workers have been started. This could be a result of using a large number of actors, or it could be a consequence of using nested tasks (see https://github.com/ray-project/ray/issues/3644) for some a discussion of workarounds.\n"
     ]
    },
    {
     "name": "stdout",
     "output_type": "stream",
     "text": [
      "\u001b[2m\u001b[36m(pid=33132)\u001b[0m warning: basinhopping: local minimization failure\n",
      "\u001b[2m\u001b[36m(pid=33132)\u001b[0m basinhopping step 1: f 8.53063e+11 trial_f 8.53063e+11 accepted 1  lowest_f 8.53063e+11\n",
      "\u001b[2m\u001b[36m(pid=33132)\u001b[0m found new global minimum on step 1 with function value 8.53063e+11\n",
      "\u001b[2m\u001b[36m(pid=33092)\u001b[0m basinhopping step 6: f 3.32938e+12 trial_f 6.81424e+14 accepted 0  lowest_f 3.32938e+12\n",
      "\u001b[2m\u001b[36m(pid=33092)\u001b[0m basinhopping step 7: f 3.32938e+12 trial_f 4.44003e+15 accepted 0  lowest_f 3.32938e+12\n",
      "\u001b[2m\u001b[36m(pid=33145)\u001b[0m basinhopping step 1: f 4.42475e+09 trial_f 6.62666e+09 accepted 0  lowest_f 4.42475e+09\n",
      "\u001b[2m\u001b[36m(pid=33159)\u001b[0m basinhopping step 0: f 4.87662e+13\n",
      "\u001b[2m\u001b[36m(pid=33132)\u001b[0m basinhopping step 2: f 8.53063e+11 trial_f 3.19619e+12 accepted 0  lowest_f 8.53063e+11\n",
      "\u001b[2m\u001b[36m(pid=33118)\u001b[0m basinhopping step 7: f 1.55175e+09 trial_f 1.7968e+09 accepted 0  lowest_f 1.55175e+09\n",
      "\u001b[2m\u001b[36m(pid=33145)\u001b[0m basinhopping step 2: f 4.42475e+09 trial_f 6.62109e+09 accepted 0  lowest_f 4.42475e+09\n",
      "\u001b[2m\u001b[36m(pid=33092)\u001b[0m basinhopping step 8: f 3.32938e+12 trial_f 2.54569e+15 accepted 0  lowest_f 3.32938e+12\n",
      "\u001b[2m\u001b[36m(pid=33132)\u001b[0m basinhopping step 3: f 8.53063e+11 trial_f 3.21365e+12 accepted 0  lowest_f 8.53063e+11\n",
      "\u001b[2m\u001b[36m(pid=33118)\u001b[0m basinhopping step 8: f 1.55175e+09 trial_f 2.22659e+15 accepted 0  lowest_f 1.55175e+09\n",
      "\u001b[2m\u001b[36m(pid=33159)\u001b[0m basinhopping step 1: f 4.86831e+13 trial_f 4.86831e+13 accepted 1  lowest_f 4.86831e+13\n",
      "\u001b[2m\u001b[36m(pid=33159)\u001b[0m found new global minimum on step 1 with function value 4.86831e+13\n",
      "\u001b[2m\u001b[36m(pid=33145)\u001b[0m basinhopping step 3: f 4.42475e+09 trial_f 5.46959e+12 accepted 0  lowest_f 4.42475e+09\n",
      "\u001b[2m\u001b[36m(pid=33145)\u001b[0m basinhopping step 4: f 4.42475e+09 trial_f 7.78243e+12 accepted 0  lowest_f 4.42475e+09\n",
      "\u001b[2m\u001b[36m(pid=33159)\u001b[0m warning: basinhopping: local minimization failure\n",
      "\u001b[2m\u001b[36m(pid=33159)\u001b[0m basinhopping step 2: f 4.11351e+11 trial_f 4.11351e+11 accepted 1  lowest_f 4.11351e+11\n",
      "\u001b[2m\u001b[36m(pid=33159)\u001b[0m found new global minimum on step 2 with function value 4.11351e+11\n",
      "\u001b[2m\u001b[36m(pid=33132)\u001b[0m basinhopping step 4: f 8.53063e+11 trial_f 3.49635e+16 accepted 0  lowest_f 8.53063e+11\n",
      "\u001b[2m\u001b[36m(pid=33092)\u001b[0m basinhopping step 9: f 3.32938e+12 trial_f 8.90035e+14 accepted 0  lowest_f 3.32938e+12\n",
      "\u001b[2m\u001b[36m(pid=33092)\u001b[0m warning: basinhopping: local minimization failure\n",
      "\u001b[2m\u001b[36m(pid=33092)\u001b[0m basinhopping step 10: f 3.32938e+12 trial_f 5.12603e+12 accepted 0  lowest_f 3.32938e+12\n"
     ]
    },
    {
     "name": "stderr",
     "output_type": "stream",
     "text": [
      "2020-10-28 21:24:08,117\tWARNING worker.py:1090 -- WARNING: 10 PYTHON workers have been started. This could be a result of using a large number of actors, or it could be a consequence of using nested tasks (see https://github.com/ray-project/ray/issues/3644) for some a discussion of workarounds.\n"
     ]
    },
    {
     "name": "stdout",
     "output_type": "stream",
     "text": [
      "\u001b[2m\u001b[36m(pid=33159)\u001b[0m basinhopping step 3: f 4.11351e+11 trial_f 3.34517e+14 accepted 0  lowest_f 4.11351e+11\n",
      "\u001b[2m\u001b[36m(pid=33145)\u001b[0m basinhopping step 5: f 4.42475e+09 trial_f 4.68178e+09 accepted 0  lowest_f 4.42475e+09\n",
      "\u001b[2m\u001b[36m(pid=33118)\u001b[0m basinhopping step 9: f 1.55175e+09 trial_f 1.7968e+09 accepted 0  lowest_f 1.55175e+09\n",
      "\u001b[2m\u001b[36m(pid=33145)\u001b[0m warning: basinhopping: local minimization failure\n",
      "\u001b[2m\u001b[36m(pid=33145)\u001b[0m basinhopping step 6: f 4.42475e+09 trial_f 9.91916e+11 accepted 0  lowest_f 4.42475e+09\n",
      "\u001b[2m\u001b[36m(pid=33159)\u001b[0m basinhopping step 4: f 4.11351e+11 trial_f 1.34384e+12 accepted 0  lowest_f 4.11351e+11\n",
      "\u001b[2m\u001b[36m(pid=33200)\u001b[0m basinhopping step 0: f 1.15684e+12\n",
      "\u001b[2m\u001b[36m(pid=33118)\u001b[0m basinhopping step 10: f 1.55175e+09 trial_f 1.78987e+09 accepted 0  lowest_f 1.55175e+09\n"
     ]
    },
    {
     "name": "stderr",
     "output_type": "stream",
     "text": [
      "2020-10-28 21:24:33,600\tWARNING worker.py:1090 -- WARNING: 10 PYTHON workers have been started. This could be a result of using a large number of actors, or it could be a consequence of using nested tasks (see https://github.com/ray-project/ray/issues/3644) for some a discussion of workarounds.\n"
     ]
    },
    {
     "name": "stdout",
     "output_type": "stream",
     "text": [
      "\u001b[2m\u001b[36m(pid=33132)\u001b[0m basinhopping step 5: f 8.53063e+11 trial_f 1.75079e+16 accepted 0  lowest_f 8.53063e+11\n",
      "\u001b[2m\u001b[36m(pid=33200)\u001b[0m warning: basinhopping: local minimization failure\n",
      "\u001b[2m\u001b[36m(pid=33200)\u001b[0m basinhopping step 1: f 1.15684e+12 trial_f 5.86329e+12 accepted 0  lowest_f 1.15684e+12\n",
      "\u001b[2m\u001b[36m(pid=33159)\u001b[0m warning: basinhopping: local minimization failure\n",
      "\u001b[2m\u001b[36m(pid=33159)\u001b[0m basinhopping step 5: f 3.06148e+11 trial_f 3.06148e+11 accepted 1  lowest_f 3.06148e+11\n",
      "\u001b[2m\u001b[36m(pid=33159)\u001b[0m found new global minimum on step 5 with function value 3.06148e+11\n",
      "\u001b[2m\u001b[36m(pid=33132)\u001b[0m warning: basinhopping: local minimization failure\n",
      "\u001b[2m\u001b[36m(pid=33132)\u001b[0m basinhopping step 6: f 8.53063e+11 trial_f 3.26858e+12 accepted 0  lowest_f 8.53063e+11\n",
      "\u001b[2m\u001b[36m(pid=33228)\u001b[0m warning: basinhopping: local minimization failure\n",
      "\u001b[2m\u001b[36m(pid=33228)\u001b[0m basinhopping step 0: f 6.0141e+15\n",
      "\u001b[2m\u001b[36m(pid=33132)\u001b[0m basinhopping step 7: f 8.53063e+11 trial_f 2.83967e+16 accepted 0  lowest_f 8.53063e+11\n",
      "\u001b[2m\u001b[36m(pid=33145)\u001b[0m basinhopping step 7: f 4.42475e+09 trial_f 1.0748e+12 accepted 0  lowest_f 4.42475e+09\n",
      "\u001b[2m\u001b[36m(pid=33145)\u001b[0m basinhopping step 8: f 4.42475e+09 trial_f 4.57464e+09 accepted 0  lowest_f 4.42475e+09\n",
      "\u001b[2m\u001b[36m(pid=33200)\u001b[0m basinhopping step 2: f 1.15684e+12 trial_f 8.58061e+14 accepted 0  lowest_f 1.15684e+12\n",
      "\u001b[2m\u001b[36m(pid=33228)\u001b[0m basinhopping step 1: f 6.0141e+15 trial_f 2.94345e+16 accepted 0  lowest_f 6.0141e+15\n",
      "\u001b[2m\u001b[36m(pid=33159)\u001b[0m basinhopping step 6: f 3.06148e+11 trial_f 4.86323e+13 accepted 0  lowest_f 3.06148e+11\n",
      "\u001b[2m\u001b[36m(pid=33145)\u001b[0m basinhopping step 9: f 4.42475e+09 trial_f 8.01431e+12 accepted 0  lowest_f 4.42475e+09\n",
      "\u001b[2m\u001b[36m(pid=33228)\u001b[0m basinhopping step 2: f 6.0141e+15 trial_f 3.13805e+16 accepted 0  lowest_f 6.0141e+15\n",
      "\u001b[2m\u001b[36m(pid=33145)\u001b[0m basinhopping step 10: f 3.11273e+09 trial_f 3.11273e+09 accepted 1  lowest_f 3.11273e+09\n",
      "\u001b[2m\u001b[36m(pid=33145)\u001b[0m found new global minimum on step 10 with function value 3.11273e+09\n"
     ]
    },
    {
     "name": "stderr",
     "output_type": "stream",
     "text": [
      "2020-10-28 21:24:57,997\tWARNING worker.py:1090 -- WARNING: 10 PYTHON workers have been started. This could be a result of using a large number of actors, or it could be a consequence of using nested tasks (see https://github.com/ray-project/ray/issues/3644) for some a discussion of workarounds.\n"
     ]
    },
    {
     "name": "stdout",
     "output_type": "stream",
     "text": [
      "\u001b[2m\u001b[36m(pid=33200)\u001b[0m basinhopping step 3: f 1.15684e+12 trial_f 5.3228e+12 accepted 0  lowest_f 1.15684e+12\n",
      "\u001b[2m\u001b[36m(pid=33228)\u001b[0m warning: basinhopping: local minimization failure\n",
      "\u001b[2m\u001b[36m(pid=33228)\u001b[0m basinhopping step 3: f 6.0141e+15 trial_f 3.20212e+16 accepted 0  lowest_f 6.0141e+15\n",
      "\u001b[2m\u001b[36m(pid=33132)\u001b[0m basinhopping step 8: f 8.53063e+11 trial_f 8.94855e+15 accepted 0  lowest_f 8.53063e+11\n",
      "\u001b[2m\u001b[36m(pid=33256)\u001b[0m warning: basinhopping: local minimization failure\n",
      "\u001b[2m\u001b[36m(pid=33256)\u001b[0m basinhopping step 0: f 5.94226e+09\n",
      "\u001b[2m\u001b[36m(pid=33256)\u001b[0m basinhopping step 1: f 5.94226e+09 trial_f 7.18987e+09 accepted 0  lowest_f 5.94226e+09\n",
      "\u001b[2m\u001b[36m(pid=33159)\u001b[0m basinhopping step 7: f 3.06148e+11 trial_f 2.14695e+14 accepted 0  lowest_f 3.06148e+11\n",
      "\u001b[2m\u001b[36m(pid=33132)\u001b[0m basinhopping step 9: f 8.53063e+11 trial_f 2.03302e+16 accepted 0  lowest_f 8.53063e+11\n",
      "\u001b[2m\u001b[36m(pid=33256)\u001b[0m basinhopping step 2: f 5.94226e+09 trial_f 6.4973e+09 accepted 0  lowest_f 5.94226e+09\n",
      "\u001b[2m\u001b[36m(pid=33228)\u001b[0m warning: basinhopping: local minimization failure\n",
      "\u001b[2m\u001b[36m(pid=33228)\u001b[0m basinhopping step 4: f 6.0141e+15 trial_f 3.20212e+16 accepted 0  lowest_f 6.0141e+15\n",
      "\u001b[2m\u001b[36m(pid=33256)\u001b[0m basinhopping step 3: f 5.94226e+09 trial_f 6.27312e+12 accepted 0  lowest_f 5.94226e+09\n",
      "\u001b[2m\u001b[36m(pid=33228)\u001b[0m warning: basinhopping: local minimization failure\n",
      "\u001b[2m\u001b[36m(pid=33228)\u001b[0m basinhopping step 5: f 6.0141e+15 trial_f 7.59924e+15 accepted 0  lowest_f 6.0141e+15\n",
      "\u001b[2m\u001b[36m(pid=33132)\u001b[0m basinhopping step 10: f 8.53063e+11 trial_f 3.19619e+12 accepted 0  lowest_f 8.53063e+11\n"
     ]
    },
    {
     "name": "stderr",
     "output_type": "stream",
     "text": [
      "2020-10-28 21:25:17,799\tWARNING worker.py:1090 -- WARNING: 10 PYTHON workers have been started. This could be a result of using a large number of actors, or it could be a consequence of using nested tasks (see https://github.com/ray-project/ray/issues/3644) for some a discussion of workarounds.\n"
     ]
    },
    {
     "name": "stdout",
     "output_type": "stream",
     "text": [
      "\u001b[2m\u001b[36m(pid=33159)\u001b[0m basinhopping step 8: f 3.06148e+11 trial_f 4.88114e+13 accepted 0  lowest_f 3.06148e+11\n",
      "\u001b[2m\u001b[36m(pid=33228)\u001b[0m warning: basinhopping: local minimization failure\n",
      "\u001b[2m\u001b[36m(pid=33228)\u001b[0m basinhopping step 6: f 6.0141e+15 trial_f 5.0777e+16 accepted 0  lowest_f 6.0141e+15\n",
      "\u001b[2m\u001b[36m(pid=33200)\u001b[0m basinhopping step 4: f 1.15684e+12 trial_f 5.53887e+13 accepted 0  lowest_f 1.15684e+12\n",
      "\u001b[2m\u001b[36m(pid=33228)\u001b[0m basinhopping step 7: f 6.0141e+15 trial_f 3.13805e+16 accepted 0  lowest_f 6.0141e+15\n",
      "\u001b[2m\u001b[36m(pid=33282)\u001b[0m basinhopping step 0: f 8.02032e+14\n",
      "\u001b[2m\u001b[36m(pid=33200)\u001b[0m basinhopping step 5: f 1.15684e+12 trial_f 4.91301e+14 accepted 0  lowest_f 1.15684e+12\n",
      "\u001b[2m\u001b[36m(pid=33228)\u001b[0m basinhopping step 8: f 1.0373e+09 trial_f 1.0373e+09 accepted 1  lowest_f 1.0373e+09\n",
      "\u001b[2m\u001b[36m(pid=33228)\u001b[0m found new global minimum on step 8 with function value 1.0373e+09\n",
      "\u001b[2m\u001b[36m(pid=33282)\u001b[0m basinhopping step 1: f 8.02032e+14 trial_f 6.111e+15 accepted 0  lowest_f 8.02032e+14\n",
      "\u001b[2m\u001b[36m(pid=33159)\u001b[0m warning: basinhopping: local minimization failure\n",
      "\u001b[2m\u001b[36m(pid=33159)\u001b[0m basinhopping step 9: f 3.06148e+11 trial_f 1.3438e+12 accepted 0  lowest_f 3.06148e+11\n",
      "\u001b[2m\u001b[36m(pid=33159)\u001b[0m basinhopping step 10: f 3.06148e+11 trial_f 9.91514e+14 accepted 0  lowest_f 3.06148e+11\n"
     ]
    },
    {
     "name": "stderr",
     "output_type": "stream",
     "text": [
      "2020-10-28 21:25:37,482\tWARNING worker.py:1090 -- WARNING: 10 PYTHON workers have been started. This could be a result of using a large number of actors, or it could be a consequence of using nested tasks (see https://github.com/ray-project/ray/issues/3644) for some a discussion of workarounds.\n"
     ]
    },
    {
     "name": "stdout",
     "output_type": "stream",
     "text": [
      "\u001b[2m\u001b[36m(pid=33200)\u001b[0m basinhopping step 6: f 1.15684e+12 trial_f 4.73359e+14 accepted 0  lowest_f 1.15684e+12\n",
      "\u001b[2m\u001b[36m(pid=33282)\u001b[0m basinhopping step 2: f 8.02032e+14 trial_f 4.55293e+15 accepted 0  lowest_f 8.02032e+14\n",
      "\u001b[2m\u001b[36m(pid=33256)\u001b[0m basinhopping step 4: f 5.94226e+09 trial_f 7.50457e+11 accepted 0  lowest_f 5.94226e+09\n",
      "\u001b[2m\u001b[36m(pid=33228)\u001b[0m basinhopping step 9: f 1.0373e+09 trial_f 4.35373e+15 accepted 0  lowest_f 1.0373e+09\n",
      "\u001b[2m\u001b[36m(pid=33295)\u001b[0m warning: basinhopping: local minimization failure\n",
      "\u001b[2m\u001b[36m(pid=33295)\u001b[0m basinhopping step 0: f 4.42777e+11\n",
      "\u001b[2m\u001b[36m(pid=33256)\u001b[0m basinhopping step 5: f 5.94226e+09 trial_f 4.97238e+12 accepted 0  lowest_f 5.94226e+09\n",
      "\u001b[2m\u001b[36m(pid=33282)\u001b[0m warning: basinhopping: local minimization failure\n",
      "\u001b[2m\u001b[36m(pid=33282)\u001b[0m basinhopping step 3: f 3.40871e+11 trial_f 3.40871e+11 accepted 1  lowest_f 3.40871e+11\n",
      "\u001b[2m\u001b[36m(pid=33282)\u001b[0m found new global minimum on step 3 with function value 3.40871e+11\n",
      "\u001b[2m\u001b[36m(pid=33295)\u001b[0m warning: basinhopping: local minimization failure\n",
      "\u001b[2m\u001b[36m(pid=33295)\u001b[0m basinhopping step 1: f 4.42777e+11 trial_f 6.46249e+11 accepted 0  lowest_f 4.42777e+11\n",
      "\u001b[2m\u001b[36m(pid=33282)\u001b[0m basinhopping step 4: f 3.40871e+11 trial_f 6.11168e+15 accepted 0  lowest_f 3.40871e+11\n",
      "\u001b[2m\u001b[36m(pid=33256)\u001b[0m basinhopping step 6: f 5.94226e+09 trial_f 7.53358e+11 accepted 0  lowest_f 5.94226e+09\n",
      "\u001b[2m\u001b[36m(pid=33200)\u001b[0m basinhopping step 7: f 1.15684e+12 trial_f 5.32716e+13 accepted 0  lowest_f 1.15684e+12\n",
      "\u001b[2m\u001b[36m(pid=33282)\u001b[0m basinhopping step 5: f 3.40871e+11 trial_f 4.88712e+15 accepted 0  lowest_f 3.40871e+11\n",
      "\u001b[2m\u001b[36m(pid=33200)\u001b[0m basinhopping step 8: f 1.15684e+12 trial_f 5.31136e+12 accepted 0  lowest_f 1.15684e+12\n",
      "\u001b[2m\u001b[36m(pid=33228)\u001b[0m basinhopping step 10: f 1.0373e+09 trial_f 4.26709e+15 accepted 0  lowest_f 1.0373e+09\n"
     ]
    },
    {
     "name": "stderr",
     "output_type": "stream",
     "text": [
      "2020-10-28 21:26:06,937\tWARNING worker.py:1090 -- WARNING: 10 PYTHON workers have been started. This could be a result of using a large number of actors, or it could be a consequence of using nested tasks (see https://github.com/ray-project/ray/issues/3644) for some a discussion of workarounds.\n"
     ]
    },
    {
     "name": "stdout",
     "output_type": "stream",
     "text": [
      "\u001b[2m\u001b[36m(pid=33295)\u001b[0m basinhopping step 2: f 4.42777e+11 trial_f 2.12563e+15 accepted 0  lowest_f 4.42777e+11\n",
      "\u001b[2m\u001b[36m(pid=33256)\u001b[0m basinhopping step 7: f 5.94226e+09 trial_f 5.00269e+12 accepted 0  lowest_f 5.94226e+09\n",
      "\u001b[2m\u001b[36m(pid=33282)\u001b[0m basinhopping step 6: f 3.40871e+11 trial_f 1.28846e+16 accepted 0  lowest_f 3.40871e+11\n",
      "\u001b[2m\u001b[36m(pid=33256)\u001b[0m warning: basinhopping: local minimization failure\n",
      "\u001b[2m\u001b[36m(pid=33256)\u001b[0m basinhopping step 8: f 5.94226e+09 trial_f 7.05828e+09 accepted 0  lowest_f 5.94226e+09\n",
      "\u001b[2m\u001b[36m(pid=33295)\u001b[0m basinhopping step 3: f 4.42777e+11 trial_f 2.59342e+15 accepted 0  lowest_f 4.42777e+11\n",
      "\u001b[2m\u001b[36m(pid=33323)\u001b[0m warning: basinhopping: local minimization failure\n",
      "\u001b[2m\u001b[36m(pid=33323)\u001b[0m basinhopping step 0: f 1.39064e+09\n",
      "\u001b[2m\u001b[36m(pid=33295)\u001b[0m basinhopping step 4: f 4.42777e+11 trial_f 9.20599e+11 accepted 0  lowest_f 4.42777e+11\n",
      "\u001b[2m\u001b[36m(pid=33295)\u001b[0m basinhopping step 5: f 4.42777e+11 trial_f 9.20599e+11 accepted 0  lowest_f 4.42777e+11\n",
      "\u001b[2m\u001b[36m(pid=33200)\u001b[0m basinhopping step 9: f 1.15684e+12 trial_f 5.76977e+12 accepted 0  lowest_f 1.15684e+12\n",
      "\u001b[2m\u001b[36m(pid=33323)\u001b[0m basinhopping step 1: f 1.39064e+09 trial_f 2.47658e+15 accepted 0  lowest_f 1.39064e+09\n",
      "\u001b[2m\u001b[36m(pid=33282)\u001b[0m basinhopping step 7: f 3.40871e+11 trial_f 1.38385e+12 accepted 0  lowest_f 3.40871e+11\n",
      "\u001b[2m\u001b[36m(pid=33200)\u001b[0m basinhopping step 10: f 1.15684e+12 trial_f 4.88588e+14 accepted 0  lowest_f 1.15684e+12\n"
     ]
    },
    {
     "name": "stderr",
     "output_type": "stream",
     "text": [
      "2020-10-28 21:26:23,483\tWARNING worker.py:1090 -- WARNING: 10 PYTHON workers have been started. This could be a result of using a large number of actors, or it could be a consequence of using nested tasks (see https://github.com/ray-project/ray/issues/3644) for some a discussion of workarounds.\n"
     ]
    },
    {
     "name": "stdout",
     "output_type": "stream",
     "text": [
      "\u001b[2m\u001b[36m(pid=33256)\u001b[0m basinhopping step 9: f 5.94226e+09 trial_f 7.42538e+09 accepted 0  lowest_f 5.94226e+09\n",
      "\u001b[2m\u001b[36m(pid=33323)\u001b[0m basinhopping step 2: f 1.38821e+09 trial_f 1.38821e+09 accepted 1  lowest_f 1.38821e+09\n",
      "\u001b[2m\u001b[36m(pid=33323)\u001b[0m found new global minimum on step 2 with function value 1.38821e+09\n",
      "\u001b[2m\u001b[36m(pid=33295)\u001b[0m basinhopping step 6: f 4.42777e+11 trial_f 2.50364e+14 accepted 0  lowest_f 4.42777e+11\n",
      "\u001b[2m\u001b[36m(pid=33351)\u001b[0m basinhopping step 0: f 4.5813e+12\n",
      "\u001b[2m\u001b[36m(pid=33256)\u001b[0m basinhopping step 10: f 5.94226e+09 trial_f 7.02809e+12 accepted 0  lowest_f 5.94226e+09\n"
     ]
    },
    {
     "name": "stderr",
     "output_type": "stream",
     "text": [
      "2020-10-28 21:26:35,232\tWARNING worker.py:1090 -- WARNING: 10 PYTHON workers have been started. This could be a result of using a large number of actors, or it could be a consequence of using nested tasks (see https://github.com/ray-project/ray/issues/3644) for some a discussion of workarounds.\n"
     ]
    },
    {
     "name": "stdout",
     "output_type": "stream",
     "text": [
      "\u001b[2m\u001b[36m(pid=33323)\u001b[0m basinhopping step 3: f 1.38821e+09 trial_f 1.38821e+09 accepted 0  lowest_f 1.38821e+09\n",
      "\u001b[2m\u001b[36m(pid=33282)\u001b[0m warning: basinhopping: local minimization failure\n",
      "\u001b[2m\u001b[36m(pid=33282)\u001b[0m basinhopping step 8: f 3.40871e+11 trial_f 3.74505e+11 accepted 0  lowest_f 3.40871e+11\n",
      "\u001b[2m\u001b[36m(pid=33364)\u001b[0m basinhopping step 0: f 9.85469e+09\n",
      "\u001b[2m\u001b[36m(pid=33351)\u001b[0m basinhopping step 1: f 4.5813e+12 trial_f 2.93763e+13 accepted 0  lowest_f 4.5813e+12\n",
      "\u001b[2m\u001b[36m(pid=33323)\u001b[0m basinhopping step 4: f 1.38821e+09 trial_f 4.28456e+14 accepted 0  lowest_f 1.38821e+09\n",
      "\u001b[2m\u001b[36m(pid=33282)\u001b[0m basinhopping step 9: f 3.40871e+11 trial_f 1.38324e+12 accepted 0  lowest_f 3.40871e+11\n",
      "\u001b[2m\u001b[36m(pid=33295)\u001b[0m basinhopping step 7: f 4.42777e+11 trial_f 9.20599e+11 accepted 0  lowest_f 4.42777e+11\n",
      "\u001b[2m\u001b[36m(pid=33282)\u001b[0m basinhopping step 10: f 3.40871e+11 trial_f 1.20852e+12 accepted 0  lowest_f 3.40871e+11\n"
     ]
    },
    {
     "name": "stderr",
     "output_type": "stream",
     "text": [
      "2020-10-28 21:26:48,185\tWARNING worker.py:1090 -- WARNING: 10 PYTHON workers have been started. This could be a result of using a large number of actors, or it could be a consequence of using nested tasks (see https://github.com/ray-project/ray/issues/3644) for some a discussion of workarounds.\n"
     ]
    },
    {
     "name": "stdout",
     "output_type": "stream",
     "text": [
      "\u001b[2m\u001b[36m(pid=33351)\u001b[0m basinhopping step 2: f 4.5813e+12 trial_f 6.71298e+13 accepted 0  lowest_f 4.5813e+12\n",
      "\u001b[2m\u001b[36m(pid=33377)\u001b[0m basinhopping step 0: f 1.1861e+16\n",
      "\u001b[2m\u001b[36m(pid=33295)\u001b[0m warning: basinhopping: local minimization failure\n",
      "\u001b[2m\u001b[36m(pid=33295)\u001b[0m basinhopping step 8: f 4.42777e+11 trial_f 9.20437e+11 accepted 0  lowest_f 4.42777e+11\n",
      "\u001b[2m\u001b[36m(pid=33364)\u001b[0m warning: basinhopping: local minimization failure\n",
      "\u001b[2m\u001b[36m(pid=33364)\u001b[0m basinhopping step 1: f 7.30773e+09 trial_f 7.30773e+09 accepted 1  lowest_f 7.30773e+09\n",
      "\u001b[2m\u001b[36m(pid=33364)\u001b[0m found new global minimum on step 1 with function value 7.30773e+09\n",
      "\u001b[2m\u001b[36m(pid=33351)\u001b[0m basinhopping step 3: f 4.54951e+12 trial_f 4.54951e+12 accepted 1  lowest_f 4.54951e+12\n",
      "\u001b[2m\u001b[36m(pid=33351)\u001b[0m found new global minimum on step 3 with function value 4.54951e+12\n",
      "\u001b[2m\u001b[36m(pid=33377)\u001b[0m basinhopping step 1: f 1.1861e+16 trial_f 7.3254e+16 accepted 0  lowest_f 1.1861e+16\n",
      "\u001b[2m\u001b[36m(pid=33323)\u001b[0m basinhopping step 5: f 1.38821e+09 trial_f 4.28224e+14 accepted 0  lowest_f 1.38821e+09\n",
      "\u001b[2m\u001b[36m(pid=33295)\u001b[0m basinhopping step 9: f 4.42777e+11 trial_f 2.56988e+15 accepted 0  lowest_f 4.42777e+11\n",
      "\u001b[2m\u001b[36m(pid=33295)\u001b[0m basinhopping step 10: f 4.42777e+11 trial_f 9.20599e+11 accepted 0  lowest_f 4.42777e+11\n"
     ]
    },
    {
     "name": "stderr",
     "output_type": "stream",
     "text": [
      "2020-10-28 21:26:58,925\tWARNING worker.py:1090 -- WARNING: 10 PYTHON workers have been started. This could be a result of using a large number of actors, or it could be a consequence of using nested tasks (see https://github.com/ray-project/ray/issues/3644) for some a discussion of workarounds.\n"
     ]
    },
    {
     "name": "stdout",
     "output_type": "stream",
     "text": [
      "\u001b[2m\u001b[36m(pid=33392)\u001b[0m basinhopping step 0: f 1.64695e+14\n",
      "\u001b[2m\u001b[36m(pid=33392)\u001b[0m basinhopping step 1: f 1.64695e+14 trial_f 6.68173e+15 accepted 0  lowest_f 1.64695e+14\n",
      "\u001b[2m\u001b[36m(pid=33323)\u001b[0m warning: basinhopping: local minimization failure\n",
      "\u001b[2m\u001b[36m(pid=33323)\u001b[0m basinhopping step 6: f 9.89659e+08 trial_f 9.89659e+08 accepted 1  lowest_f 9.89659e+08\n",
      "\u001b[2m\u001b[36m(pid=33323)\u001b[0m found new global minimum on step 6 with function value 9.89659e+08\n",
      "\u001b[2m\u001b[36m(pid=33351)\u001b[0m basinhopping step 4: f 4.54951e+12 trial_f 6.81429e+13 accepted 0  lowest_f 4.54951e+12\n",
      "\u001b[2m\u001b[36m(pid=33377)\u001b[0m basinhopping step 2: f 1.1861e+16 trial_f 6.24214e+16 accepted 0  lowest_f 1.1861e+16\n",
      "\u001b[2m\u001b[36m(pid=33351)\u001b[0m basinhopping step 5: f 4.54951e+12 trial_f 7.31224e+12 accepted 0  lowest_f 4.54951e+12\n",
      "\u001b[2m\u001b[36m(pid=33351)\u001b[0m basinhopping step 6: f 4.54951e+12 trial_f 1.61743e+14 accepted 0  lowest_f 4.54951e+12\n",
      "\u001b[2m\u001b[36m(pid=33351)\u001b[0m basinhopping step 7: f 4.45079e+12 trial_f 4.45079e+12 accepted 1  lowest_f 4.45079e+12\n",
      "\u001b[2m\u001b[36m(pid=33351)\u001b[0m found new global minimum on step 7 with function value 4.45079e+12\n",
      "\u001b[2m\u001b[36m(pid=33377)\u001b[0m basinhopping step 3: f 1.1861e+16 trial_f 2.09451e+17 accepted 0  lowest_f 1.1861e+16\n",
      "\u001b[2m\u001b[36m(pid=33392)\u001b[0m warning: basinhopping: local minimization failure\n",
      "\u001b[2m\u001b[36m(pid=33392)\u001b[0m basinhopping step 2: f 1.58049e+14 trial_f 1.58049e+14 accepted 1  lowest_f 1.58049e+14\n",
      "\u001b[2m\u001b[36m(pid=33392)\u001b[0m found new global minimum on step 2 with function value 1.58049e+14\n",
      "\u001b[2m\u001b[36m(pid=33351)\u001b[0m basinhopping step 8: f 4.45079e+12 trial_f 6.80841e+13 accepted 0  lowest_f 4.45079e+12\n",
      "\u001b[2m\u001b[36m(pid=33377)\u001b[0m warning: basinhopping: local minimization failure\n",
      "\u001b[2m\u001b[36m(pid=33377)\u001b[0m basinhopping step 4: f 3.61073e+12 trial_f 3.61073e+12 accepted 1  lowest_f 3.61073e+12\n",
      "\u001b[2m\u001b[36m(pid=33377)\u001b[0m found new global minimum on step 4 with function value 3.61073e+12\n",
      "\u001b[2m\u001b[36m(pid=33351)\u001b[0m basinhopping step 9: f 4.45079e+12 trial_f 6.77115e+12 accepted 0  lowest_f 4.45079e+12\n",
      "\u001b[2m\u001b[36m(pid=33323)\u001b[0m warning: basinhopping: local minimization failure\n",
      "\u001b[2m\u001b[36m(pid=33323)\u001b[0m basinhopping step 7: f 9.89659e+08 trial_f 5.40048e+14 accepted 0  lowest_f 9.89659e+08\n",
      "\u001b[2m\u001b[36m(pid=33392)\u001b[0m basinhopping step 3: f 7.21793e+11 trial_f 7.21793e+11 accepted 1  lowest_f 7.21793e+11\n",
      "\u001b[2m\u001b[36m(pid=33392)\u001b[0m found new global minimum on step 3 with function value 7.21793e+11\n",
      "\u001b[2m\u001b[36m(pid=33364)\u001b[0m basinhopping step 2: f 7.02645e+09 trial_f 7.02645e+09 accepted 1  lowest_f 7.02645e+09\n",
      "\u001b[2m\u001b[36m(pid=33364)\u001b[0m found new global minimum on step 2 with function value 7.02645e+09\n",
      "\u001b[2m\u001b[36m(pid=33323)\u001b[0m basinhopping step 8: f 9.89659e+08 trial_f 1.38821e+09 accepted 0  lowest_f 9.89659e+08\n",
      "\u001b[2m\u001b[36m(pid=33392)\u001b[0m basinhopping step 4: f 2.19579e+11 trial_f 2.19579e+11 accepted 1  lowest_f 2.19579e+11\n",
      "\u001b[2m\u001b[36m(pid=33392)\u001b[0m found new global minimum on step 4 with function value 2.19579e+11\n",
      "\u001b[2m\u001b[36m(pid=33377)\u001b[0m basinhopping step 5: f 3.61073e+12 trial_f 7.47276e+16 accepted 0  lowest_f 3.61073e+12\n",
      "\u001b[2m\u001b[36m(pid=33323)\u001b[0m basinhopping step 9: f 9.89659e+08 trial_f 3.32267e+15 accepted 0  lowest_f 9.89659e+08\n",
      "\u001b[2m\u001b[36m(pid=33364)\u001b[0m basinhopping step 3: f 7.02645e+09 trial_f 1.67074e+13 accepted 0  lowest_f 7.02645e+09\n",
      "\u001b[2m\u001b[36m(pid=33364)\u001b[0m basinhopping step 4: f 7.02645e+09 trial_f 9.99537e+09 accepted 0  lowest_f 7.02645e+09\n",
      "\u001b[2m\u001b[36m(pid=33377)\u001b[0m basinhopping step 6: f 3.61073e+12 trial_f 1.67641e+17 accepted 0  lowest_f 3.61073e+12\n",
      "\u001b[2m\u001b[36m(pid=33377)\u001b[0m warning: basinhopping: local minimization failure\n",
      "\u001b[2m\u001b[36m(pid=33377)\u001b[0m basinhopping step 7: f 3.61073e+12 trial_f 3.61178e+12 accepted 0  lowest_f 3.61073e+12\n",
      "\u001b[2m\u001b[36m(pid=33392)\u001b[0m basinhopping step 5: f 2.19579e+11 trial_f 7.14815e+11 accepted 0  lowest_f 2.19579e+11\n",
      "\u001b[2m\u001b[36m(pid=33323)\u001b[0m warning: basinhopping: local minimization failure\n",
      "\u001b[2m\u001b[36m(pid=33323)\u001b[0m basinhopping step 10: f 9.89659e+08 trial_f 1.38789e+09 accepted 0  lowest_f 9.89659e+08\n",
      "\u001b[2m\u001b[36m(pid=33377)\u001b[0m basinhopping step 8: f 3.61073e+12 trial_f 3.61073e+12 accepted 0  lowest_f 3.61073e+12\n"
     ]
    },
    {
     "name": "stderr",
     "output_type": "stream",
     "text": [
      "2020-10-28 21:27:49,955\tWARNING worker.py:1090 -- WARNING: 10 PYTHON workers have been started. This could be a result of using a large number of actors, or it could be a consequence of using nested tasks (see https://github.com/ray-project/ray/issues/3644) for some a discussion of workarounds.\n"
     ]
    },
    {
     "name": "stdout",
     "output_type": "stream",
     "text": [
      "\u001b[2m\u001b[36m(pid=33351)\u001b[0m basinhopping step 10: f 2.51907e+11 trial_f 2.51907e+11 accepted 1  lowest_f 2.51907e+11\n",
      "\u001b[2m\u001b[36m(pid=33351)\u001b[0m found new global minimum on step 10 with function value 2.51907e+11\n"
     ]
    },
    {
     "name": "stderr",
     "output_type": "stream",
     "text": [
      "2020-10-28 21:27:53,486\tWARNING worker.py:1090 -- WARNING: 10 PYTHON workers have been started. This could be a result of using a large number of actors, or it could be a consequence of using nested tasks (see https://github.com/ray-project/ray/issues/3644) for some a discussion of workarounds.\n"
     ]
    },
    {
     "name": "stdout",
     "output_type": "stream",
     "text": [
      "\u001b[2m\u001b[36m(pid=33377)\u001b[0m basinhopping step 9: f 3.61072e+12 trial_f 3.61072e+12 accepted 1  lowest_f 3.61072e+12\n",
      "\u001b[2m\u001b[36m(pid=33377)\u001b[0m found new global minimum on step 9 with function value 3.61072e+12\n",
      "\u001b[2m\u001b[36m(pid=33392)\u001b[0m basinhopping step 6: f 2.19579e+11 trial_f 1.38456e+15 accepted 0  lowest_f 2.19579e+11\n",
      "\u001b[2m\u001b[36m(pid=33364)\u001b[0m basinhopping step 5: f 5.92425e+09 trial_f 5.92425e+09 accepted 1  lowest_f 5.92425e+09\n",
      "\u001b[2m\u001b[36m(pid=33364)\u001b[0m found new global minimum on step 5 with function value 5.92425e+09\n",
      "\u001b[2m\u001b[36m(pid=33432)\u001b[0m basinhopping step 0: f 1.28674e+09\n",
      "\u001b[2m\u001b[36m(pid=33364)\u001b[0m basinhopping step 6: f 5.92425e+09 trial_f 6.49185e+09 accepted 0  lowest_f 5.92425e+09\n",
      "\u001b[2m\u001b[36m(pid=33377)\u001b[0m basinhopping step 10: f 3.61072e+12 trial_f 6.35013e+16 accepted 0  lowest_f 3.61072e+12\n"
     ]
    },
    {
     "name": "stderr",
     "output_type": "stream",
     "text": [
      "2020-10-28 21:28:04,696\tWARNING worker.py:1090 -- WARNING: 10 PYTHON workers have been started. This could be a result of using a large number of actors, or it could be a consequence of using nested tasks (see https://github.com/ray-project/ray/issues/3644) for some a discussion of workarounds.\n"
     ]
    },
    {
     "name": "stdout",
     "output_type": "stream",
     "text": [
      "\u001b[2m\u001b[36m(pid=33432)\u001b[0m basinhopping step 1: f 1.28674e+09 trial_f 1.28674e+09 accepted 1  lowest_f 1.28674e+09\n",
      "\u001b[2m\u001b[36m(pid=33432)\u001b[0m found new global minimum on step 1 with function value 1.28674e+09\n",
      "\u001b[2m\u001b[36m(pid=33445)\u001b[0m basinhopping step 0: f 5.29268e+12\n",
      "\u001b[2m\u001b[36m(pid=33445)\u001b[0m basinhopping step 1: f 5.29268e+12 trial_f 4.98381e+14 accepted 0  lowest_f 5.29268e+12\n",
      "\u001b[2m\u001b[36m(pid=33445)\u001b[0m basinhopping step 2: f 5.29268e+12 trial_f 5.37739e+12 accepted 0  lowest_f 5.29268e+12\n",
      "\u001b[2m\u001b[36m(pid=33392)\u001b[0m basinhopping step 7: f 2.19579e+11 trial_f 7.21812e+11 accepted 0  lowest_f 2.19579e+11\n",
      "\u001b[2m\u001b[36m(pid=33364)\u001b[0m warning: basinhopping: local minimization failure\n",
      "\u001b[2m\u001b[36m(pid=33364)\u001b[0m basinhopping step 7: f 5.92425e+09 trial_f 9.35411e+09 accepted 0  lowest_f 5.92425e+09\n",
      "\u001b[2m\u001b[36m(pid=33445)\u001b[0m basinhopping step 3: f 5.29268e+12 trial_f 4.55488e+14 accepted 0  lowest_f 5.29268e+12\n",
      "\u001b[2m\u001b[36m(pid=33432)\u001b[0m basinhopping step 2: f 1.28674e+09 trial_f 3.36838e+15 accepted 0  lowest_f 1.28674e+09\n",
      "\u001b[2m\u001b[36m(pid=33460)\u001b[0m warning: basinhopping: local minimization failure\n",
      "\u001b[2m\u001b[36m(pid=33460)\u001b[0m basinhopping step 0: f 6.87464e+15\n",
      "\u001b[2m\u001b[36m(pid=33445)\u001b[0m basinhopping step 4: f 5.29268e+12 trial_f 4.06597e+14 accepted 0  lowest_f 5.29268e+12\n",
      "\u001b[2m\u001b[36m(pid=33432)\u001b[0m basinhopping step 3: f 1.28674e+09 trial_f 4.81784e+15 accepted 0  lowest_f 1.28674e+09\n",
      "\u001b[2m\u001b[36m(pid=33460)\u001b[0m basinhopping step 1: f 6.87464e+15 trial_f 3.67605e+16 accepted 0  lowest_f 6.87464e+15\n",
      "\u001b[2m\u001b[36m(pid=33445)\u001b[0m basinhopping step 5: f 4.88313e+12 trial_f 4.88313e+12 accepted 1  lowest_f 4.88313e+12\n",
      "\u001b[2m\u001b[36m(pid=33445)\u001b[0m found new global minimum on step 5 with function value 4.88313e+12\n",
      "\u001b[2m\u001b[36m(pid=33392)\u001b[0m warning: basinhopping: local minimization failure\n",
      "\u001b[2m\u001b[36m(pid=33392)\u001b[0m basinhopping step 8: f 2.19579e+11 trial_f 7.21659e+11 accepted 0  lowest_f 2.19579e+11\n",
      "\u001b[2m\u001b[36m(pid=33460)\u001b[0m warning: basinhopping: local minimization failure\n",
      "\u001b[2m\u001b[36m(pid=33460)\u001b[0m basinhopping step 2: f 1.08009e+12 trial_f 1.08009e+12 accepted 1  lowest_f 1.08009e+12\n",
      "\u001b[2m\u001b[36m(pid=33460)\u001b[0m found new global minimum on step 2 with function value 1.08009e+12\n",
      "\u001b[2m\u001b[36m(pid=33432)\u001b[0m warning: basinhopping: local minimization failure\n",
      "\u001b[2m\u001b[36m(pid=33432)\u001b[0m basinhopping step 4: f 1.28674e+09 trial_f 8.1032e+14 accepted 0  lowest_f 1.28674e+09\n",
      "\u001b[2m\u001b[36m(pid=33460)\u001b[0m warning: basinhopping: local minimization failure\n",
      "\u001b[2m\u001b[36m(pid=33460)\u001b[0m basinhopping step 3: f 1.08009e+12 trial_f 1.08013e+12 accepted 0  lowest_f 1.08009e+12\n",
      "\u001b[2m\u001b[36m(pid=33392)\u001b[0m basinhopping step 9: f 2.19579e+11 trial_f 2.97367e+15 accepted 0  lowest_f 2.19579e+11\n",
      "\u001b[2m\u001b[36m(pid=33392)\u001b[0m basinhopping step 10: f 2.19579e+11 trial_f 7.21795e+11 accepted 0  lowest_f 2.19579e+11\n"
     ]
    },
    {
     "name": "stderr",
     "output_type": "stream",
     "text": [
      "2020-10-28 21:28:33,419\tWARNING worker.py:1090 -- WARNING: 10 PYTHON workers have been started. This could be a result of using a large number of actors, or it could be a consequence of using nested tasks (see https://github.com/ray-project/ray/issues/3644) for some a discussion of workarounds.\n"
     ]
    },
    {
     "name": "stdout",
     "output_type": "stream",
     "text": [
      "\u001b[2m\u001b[36m(pid=33432)\u001b[0m basinhopping step 5: f 1.28674e+09 trial_f 7.54246e+15 accepted 0  lowest_f 1.28674e+09\n",
      "\u001b[2m\u001b[36m(pid=33445)\u001b[0m basinhopping step 6: f 1.5936e+12 trial_f 1.5936e+12 accepted 1  lowest_f 1.5936e+12\n",
      "\u001b[2m\u001b[36m(pid=33445)\u001b[0m found new global minimum on step 6 with function value 1.5936e+12\n",
      "\u001b[2m\u001b[36m(pid=33486)\u001b[0m warning: basinhopping: local minimization failure\n",
      "\u001b[2m\u001b[36m(pid=33486)\u001b[0m basinhopping step 0: f 6.1469e+11\n",
      "\u001b[2m\u001b[36m(pid=33445)\u001b[0m basinhopping step 7: f 1.5936e+12 trial_f 3.81471e+14 accepted 0  lowest_f 1.5936e+12\n",
      "\u001b[2m\u001b[36m(pid=33486)\u001b[0m basinhopping step 1: f 6.07517e+11 trial_f 6.07517e+11 accepted 1  lowest_f 6.07517e+11\n",
      "\u001b[2m\u001b[36m(pid=33486)\u001b[0m found new global minimum on step 1 with function value 6.07517e+11\n",
      "\u001b[2m\u001b[36m(pid=33460)\u001b[0m basinhopping step 4: f 1.08009e+12 trial_f 5.16634e+15 accepted 0  lowest_f 1.08009e+12\n",
      "\u001b[2m\u001b[36m(pid=33445)\u001b[0m basinhopping step 8: f 1.5936e+12 trial_f 3.81057e+14 accepted 0  lowest_f 1.5936e+12\n",
      "\u001b[2m\u001b[36m(pid=33364)\u001b[0m basinhopping step 8: f 5.92425e+09 trial_f 9.9332e+09 accepted 0  lowest_f 5.92425e+09\n",
      "\u001b[2m\u001b[36m(pid=33432)\u001b[0m basinhopping step 6: f 1.28674e+09 trial_f 6.15775e+14 accepted 0  lowest_f 1.28674e+09\n",
      "\u001b[2m\u001b[36m(pid=33445)\u001b[0m basinhopping step 9: f 1.5936e+12 trial_f 5.86176e+13 accepted 0  lowest_f 1.5936e+12\n",
      "\u001b[2m\u001b[36m(pid=33432)\u001b[0m basinhopping step 7: f 1.28674e+09 trial_f 1.28674e+09 accepted 0  lowest_f 1.28674e+09\n",
      "\u001b[2m\u001b[36m(pid=33486)\u001b[0m basinhopping step 2: f 6.07517e+11 trial_f 7.27928e+14 accepted 0  lowest_f 6.07517e+11\n",
      "\u001b[2m\u001b[36m(pid=33364)\u001b[0m warning: basinhopping: local minimization failure\n",
      "\u001b[2m\u001b[36m(pid=33364)\u001b[0m basinhopping step 9: f 5.92425e+09 trial_f 1.00706e+10 accepted 0  lowest_f 5.92425e+09\n",
      "\u001b[2m\u001b[36m(pid=33445)\u001b[0m basinhopping step 10: f 1.5936e+12 trial_f 4.53487e+14 accepted 0  lowest_f 1.5936e+12\n"
     ]
    },
    {
     "name": "stderr",
     "output_type": "stream",
     "text": [
      "2020-10-28 21:28:58,184\tWARNING worker.py:1090 -- WARNING: 10 PYTHON workers have been started. This could be a result of using a large number of actors, or it could be a consequence of using nested tasks (see https://github.com/ray-project/ray/issues/3644) for some a discussion of workarounds.\n"
     ]
    },
    {
     "name": "stdout",
     "output_type": "stream",
     "text": [
      "\u001b[2m\u001b[36m(pid=33364)\u001b[0m basinhopping step 10: f 5.92425e+09 trial_f 9.93537e+09 accepted 0  lowest_f 5.92425e+09\n"
     ]
    },
    {
     "name": "stderr",
     "output_type": "stream",
     "text": [
      "2020-10-28 21:29:00,349\tWARNING worker.py:1090 -- WARNING: 10 PYTHON workers have been started. This could be a result of using a large number of actors, or it could be a consequence of using nested tasks (see https://github.com/ray-project/ray/issues/3644) for some a discussion of workarounds.\n"
     ]
    },
    {
     "name": "stdout",
     "output_type": "stream",
     "text": [
      "\u001b[2m\u001b[36m(pid=33460)\u001b[0m basinhopping step 5: f 1.08009e+12 trial_f 1.08012e+12 accepted 0  lowest_f 1.08009e+12\n",
      "\u001b[2m\u001b[36m(pid=33528)\u001b[0m warning: basinhopping: local minimization failure\n",
      "\u001b[2m\u001b[36m(pid=33528)\u001b[0m basinhopping step 0: f 2.78663e+12\n",
      "\u001b[2m\u001b[36m(pid=33460)\u001b[0m basinhopping step 6: f 1.08009e+12 trial_f 1.08012e+12 accepted 0  lowest_f 1.08009e+12\n",
      "\u001b[2m\u001b[36m(pid=33432)\u001b[0m warning: basinhopping: local minimization failure\n",
      "\u001b[2m\u001b[36m(pid=33432)\u001b[0m basinhopping step 8: f 7.90659e+08 trial_f 7.90659e+08 accepted 1  lowest_f 7.90659e+08\n",
      "\u001b[2m\u001b[36m(pid=33432)\u001b[0m found new global minimum on step 8 with function value 7.90659e+08\n",
      "\u001b[2m\u001b[36m(pid=33460)\u001b[0m basinhopping step 7: f 1.08009e+12 trial_f 1.08012e+12 accepted 0  lowest_f 1.08009e+12\n",
      "\u001b[2m\u001b[36m(pid=33541)\u001b[0m basinhopping step 0: f 2.28977e+09\n",
      "\u001b[2m\u001b[36m(pid=33528)\u001b[0m basinhopping step 1: f 2.78663e+12 trial_f 9.83358e+13 accepted 0  lowest_f 2.78663e+12\n",
      "\u001b[2m\u001b[36m(pid=33460)\u001b[0m basinhopping step 8: f 1.08009e+12 trial_f 2.91645e+16 accepted 0  lowest_f 1.08009e+12\n",
      "\u001b[2m\u001b[36m(pid=33432)\u001b[0m basinhopping step 9: f 7.90659e+08 trial_f 1.28488e+09 accepted 0  lowest_f 7.90659e+08\n",
      "\u001b[2m\u001b[36m(pid=33541)\u001b[0m basinhopping step 1: f 2.28977e+09 trial_f 4.37084e+13 accepted 0  lowest_f 2.28977e+09\n",
      "\u001b[2m\u001b[36m(pid=33460)\u001b[0m basinhopping step 9: f 1.08009e+12 trial_f 1.08012e+12 accepted 0  lowest_f 1.08009e+12\n",
      "\u001b[2m\u001b[36m(pid=33460)\u001b[0m basinhopping step 10: f 1.08009e+12 trial_f 1.08012e+12 accepted 0  lowest_f 1.08009e+12\n"
     ]
    },
    {
     "name": "stderr",
     "output_type": "stream",
     "text": [
      "2020-10-28 21:29:23,948\tWARNING worker.py:1090 -- WARNING: 10 PYTHON workers have been started. This could be a result of using a large number of actors, or it could be a consequence of using nested tasks (see https://github.com/ray-project/ray/issues/3644) for some a discussion of workarounds.\n"
     ]
    },
    {
     "name": "stdout",
     "output_type": "stream",
     "text": [
      "\u001b[2m\u001b[36m(pid=33432)\u001b[0m basinhopping step 10: f 7.90659e+08 trial_f 1.28674e+09 accepted 0  lowest_f 7.90659e+08\n"
     ]
    },
    {
     "name": "stderr",
     "output_type": "stream",
     "text": [
      "2020-10-28 21:29:28,252\tWARNING worker.py:1090 -- WARNING: 10 PYTHON workers have been started. This could be a result of using a large number of actors, or it could be a consequence of using nested tasks (see https://github.com/ray-project/ray/issues/3644) for some a discussion of workarounds.\n"
     ]
    },
    {
     "name": "stdout",
     "output_type": "stream",
     "text": [
      "\u001b[2m\u001b[36m(pid=33581)\u001b[0m basinhopping step 0: f 1.17224e+09\n",
      "\u001b[2m\u001b[36m(pid=33581)\u001b[0m basinhopping step 1: f 1.17224e+09 trial_f 1.26458e+09 accepted 0  lowest_f 1.17224e+09\n",
      "\u001b[2m\u001b[36m(pid=33581)\u001b[0m basinhopping step 2: f 8.21384e+08 trial_f 8.21384e+08 accepted 1  lowest_f 8.21384e+08\n",
      "\u001b[2m\u001b[36m(pid=33581)\u001b[0m found new global minimum on step 2 with function value 8.21384e+08\n",
      "\u001b[2m\u001b[36m(pid=33541)\u001b[0m basinhopping step 2: f 2.28977e+09 trial_f 3.21595e+12 accepted 0  lowest_f 2.28977e+09\n",
      "\u001b[2m\u001b[36m(pid=33581)\u001b[0m warning: basinhopping: local minimization failure\n",
      "\u001b[2m\u001b[36m(pid=33581)\u001b[0m basinhopping step 3: f 7.64333e+08 trial_f 7.64333e+08 accepted 1  lowest_f 7.64333e+08\n",
      "\u001b[2m\u001b[36m(pid=33581)\u001b[0m found new global minimum on step 3 with function value 7.64333e+08\n",
      "\u001b[2m\u001b[36m(pid=33541)\u001b[0m basinhopping step 3: f 2.28977e+09 trial_f 2.90487e+09 accepted 0  lowest_f 2.28977e+09\n",
      "\u001b[2m\u001b[36m(pid=33486)\u001b[0m basinhopping step 3: f 3.27242e+11 trial_f 3.27242e+11 accepted 1  lowest_f 3.27242e+11\n",
      "\u001b[2m\u001b[36m(pid=33486)\u001b[0m found new global minimum on step 3 with function value 3.27242e+11\n",
      "\u001b[2m\u001b[36m(pid=33528)\u001b[0m basinhopping step 2: f 1.20474e+12 trial_f 1.20474e+12 accepted 1  lowest_f 1.20474e+12\n",
      "\u001b[2m\u001b[36m(pid=33528)\u001b[0m found new global minimum on step 2 with function value 1.20474e+12\n",
      "\u001b[2m\u001b[36m(pid=33528)\u001b[0m basinhopping step 3: f 1.20474e+12 trial_f 2.77909e+12 accepted 0  lowest_f 1.20474e+12\n",
      "\u001b[2m\u001b[36m(pid=33581)\u001b[0m basinhopping step 4: f 7.64333e+08 trial_f 2.95171e+13 accepted 0  lowest_f 7.64333e+08\n",
      "\u001b[2m\u001b[36m(pid=33541)\u001b[0m basinhopping step 4: f 2.28977e+09 trial_f 4.3689e+09 accepted 0  lowest_f 2.28977e+09\n",
      "\u001b[2m\u001b[36m(pid=33567)\u001b[0m basinhopping step 0: f 1.03057e+16\n",
      "\u001b[2m\u001b[36m(pid=33486)\u001b[0m basinhopping step 4: f 3.27242e+11 trial_f 7.42083e+14 accepted 0  lowest_f 3.27242e+11\n",
      "\u001b[2m\u001b[36m(pid=33528)\u001b[0m basinhopping step 4: f 1.20474e+12 trial_f 8.82393e+13 accepted 0  lowest_f 1.20474e+12\n",
      "\u001b[2m\u001b[36m(pid=33528)\u001b[0m warning: basinhopping: local minimization failure\n",
      "\u001b[2m\u001b[36m(pid=33528)\u001b[0m basinhopping step 5: f 1.20474e+12 trial_f 2.27175e+12 accepted 0  lowest_f 1.20474e+12\n",
      "\u001b[2m\u001b[36m(pid=33528)\u001b[0m basinhopping step 6: f 1.20474e+12 trial_f 1.09343e+14 accepted 0  lowest_f 1.20474e+12\n",
      "\u001b[2m\u001b[36m(pid=33486)\u001b[0m basinhopping step 5: f 3.27242e+11 trial_f 5.35926e+11 accepted 0  lowest_f 3.27242e+11\n",
      "\u001b[2m\u001b[36m(pid=33528)\u001b[0m basinhopping step 7: f 1.20474e+12 trial_f 8.95155e+13 accepted 0  lowest_f 1.20474e+12\n",
      "\u001b[2m\u001b[36m(pid=33567)\u001b[0m basinhopping step 1: f 1.03057e+16 trial_f 1.12175e+16 accepted 0  lowest_f 1.03057e+16\n",
      "\u001b[2m\u001b[36m(pid=33541)\u001b[0m basinhopping step 5: f 2.28977e+09 trial_f 4.28836e+09 accepted 0  lowest_f 2.28977e+09\n",
      "\u001b[2m\u001b[36m(pid=33581)\u001b[0m warning: basinhopping: local minimization failure\n",
      "\u001b[2m\u001b[36m(pid=33581)\u001b[0m basinhopping step 5: f 7.64333e+08 trial_f 1.0596e+09 accepted 0  lowest_f 7.64333e+08\n",
      "\u001b[2m\u001b[36m(pid=33486)\u001b[0m warning: basinhopping: local minimization failure\n",
      "\u001b[2m\u001b[36m(pid=33486)\u001b[0m basinhopping step 6: f 3.27242e+11 trial_f 6.09966e+11 accepted 0  lowest_f 3.27242e+11\n",
      "\u001b[2m\u001b[36m(pid=33541)\u001b[0m warning: basinhopping: local minimization failure\n",
      "\u001b[2m\u001b[36m(pid=33541)\u001b[0m basinhopping step 6: f 2.28977e+09 trial_f 4.11773e+09 accepted 0  lowest_f 2.28977e+09\n",
      "\u001b[2m\u001b[36m(pid=33528)\u001b[0m basinhopping step 8: f 1.20474e+12 trial_f 4.59073e+13 accepted 0  lowest_f 1.20474e+12\n",
      "\u001b[2m\u001b[36m(pid=33567)\u001b[0m warning: basinhopping: local minimization failure\n",
      "\u001b[2m\u001b[36m(pid=33567)\u001b[0m basinhopping step 2: f 3.03478e+12 trial_f 3.03478e+12 accepted 1  lowest_f 3.03478e+12\n",
      "\u001b[2m\u001b[36m(pid=33567)\u001b[0m found new global minimum on step 2 with function value 3.03478e+12\n",
      "\u001b[2m\u001b[36m(pid=33486)\u001b[0m basinhopping step 7: f 3.27242e+11 trial_f 8.26917e+14 accepted 0  lowest_f 3.27242e+11\n",
      "\u001b[2m\u001b[36m(pid=33567)\u001b[0m basinhopping step 3: f 3.03478e+12 trial_f 1.04209e+16 accepted 0  lowest_f 3.03478e+12\n",
      "\u001b[2m\u001b[36m(pid=33581)\u001b[0m warning: basinhopping: local minimization failure\n",
      "\u001b[2m\u001b[36m(pid=33581)\u001b[0m basinhopping step 6: f 7.64333e+08 trial_f 1.93308e+13 accepted 0  lowest_f 7.64333e+08\n",
      "\u001b[2m\u001b[36m(pid=33567)\u001b[0m basinhopping step 4: f 3.03441e+12 trial_f 3.03441e+12 accepted 1  lowest_f 3.03441e+12\n",
      "\u001b[2m\u001b[36m(pid=33567)\u001b[0m found new global minimum on step 4 with function value 3.03441e+12\n",
      "\u001b[2m\u001b[36m(pid=33541)\u001b[0m basinhopping step 7: f 2.28977e+09 trial_f 4.60455e+12 accepted 0  lowest_f 2.28977e+09\n",
      "\u001b[2m\u001b[36m(pid=33486)\u001b[0m basinhopping step 8: f 3.27242e+11 trial_f 8.28741e+14 accepted 0  lowest_f 3.27242e+11\n",
      "\u001b[2m\u001b[36m(pid=33486)\u001b[0m basinhopping step 9: f 3.27242e+11 trial_f 6.11926e+11 accepted 0  lowest_f 3.27242e+11\n",
      "\u001b[2m\u001b[36m(pid=33581)\u001b[0m basinhopping step 7: f 7.64333e+08 trial_f 2.99562e+14 accepted 0  lowest_f 7.64333e+08\n",
      "\u001b[2m\u001b[36m(pid=33541)\u001b[0m basinhopping step 8: f 2.28977e+09 trial_f 3.21475e+12 accepted 0  lowest_f 2.28977e+09\n",
      "\u001b[2m\u001b[36m(pid=33567)\u001b[0m basinhopping step 5: f 3.03432e+12 trial_f 3.03432e+12 accepted 1  lowest_f 3.03432e+12\n",
      "\u001b[2m\u001b[36m(pid=33567)\u001b[0m found new global minimum on step 5 with function value 3.03432e+12\n",
      "\u001b[2m\u001b[36m(pid=33486)\u001b[0m basinhopping step 10: f 3.27242e+11 trial_f 5.59858e+11 accepted 0  lowest_f 3.27242e+11\n"
     ]
    },
    {
     "name": "stderr",
     "output_type": "stream",
     "text": [
      "2020-10-28 21:30:40,854\tWARNING worker.py:1090 -- WARNING: 10 PYTHON workers have been started. This could be a result of using a large number of actors, or it could be a consequence of using nested tasks (see https://github.com/ray-project/ray/issues/3644) for some a discussion of workarounds.\n"
     ]
    },
    {
     "name": "stdout",
     "output_type": "stream",
     "text": [
      "\u001b[2m\u001b[36m(pid=33541)\u001b[0m basinhopping step 9: f 2.28977e+09 trial_f 3.21631e+12 accepted 0  lowest_f 2.28977e+09\n",
      "\u001b[2m\u001b[36m(pid=33581)\u001b[0m basinhopping step 8: f 6.95953e+08 trial_f 6.95953e+08 accepted 1  lowest_f 6.95953e+08\n",
      "\u001b[2m\u001b[36m(pid=33581)\u001b[0m found new global minimum on step 8 with function value 6.95953e+08\n",
      "\u001b[2m\u001b[36m(pid=33528)\u001b[0m basinhopping step 9: f 1.20474e+12 trial_f 1.0909e+14 accepted 0  lowest_f 1.20474e+12\n",
      "\u001b[2m\u001b[36m(pid=33567)\u001b[0m basinhopping step 6: f 3.03432e+12 trial_f 2.7709e+16 accepted 0  lowest_f 3.03432e+12\n",
      "\u001b[2m\u001b[36m(pid=33581)\u001b[0m basinhopping step 9: f 6.93704e+08 trial_f 6.93704e+08 accepted 1  lowest_f 6.93704e+08\n",
      "\u001b[2m\u001b[36m(pid=33581)\u001b[0m found new global minimum on step 9 with function value 6.93704e+08\n",
      "\u001b[2m\u001b[36m(pid=33528)\u001b[0m basinhopping step 10: f 1.20474e+12 trial_f 8.62632e+13 accepted 0  lowest_f 1.20474e+12\n"
     ]
    },
    {
     "name": "stderr",
     "output_type": "stream",
     "text": [
      "2020-10-28 21:30:51,192\tWARNING worker.py:1090 -- WARNING: 10 PYTHON workers have been started. This could be a result of using a large number of actors, or it could be a consequence of using nested tasks (see https://github.com/ray-project/ray/issues/3644) for some a discussion of workarounds.\n"
     ]
    },
    {
     "name": "stdout",
     "output_type": "stream",
     "text": [
      "\u001b[2m\u001b[36m(pid=33541)\u001b[0m basinhopping step 10: f 2.28977e+09 trial_f 4.37157e+09 accepted 0  lowest_f 2.28977e+09\n"
     ]
    },
    {
     "name": "stderr",
     "output_type": "stream",
     "text": [
      "2020-10-28 21:30:51,904\tWARNING worker.py:1090 -- WARNING: 10 PYTHON workers have been started. This could be a result of using a large number of actors, or it could be a consequence of using nested tasks (see https://github.com/ray-project/ray/issues/3644) for some a discussion of workarounds.\n"
     ]
    },
    {
     "name": "stdout",
     "output_type": "stream",
     "text": [
      "\u001b[2m\u001b[36m(pid=33581)\u001b[0m warning: basinhopping: local minimization failure\n",
      "\u001b[2m\u001b[36m(pid=33581)\u001b[0m basinhopping step 10: f 6.93704e+08 trial_f 1.26275e+09 accepted 0  lowest_f 6.93704e+08\n"
     ]
    },
    {
     "name": "stderr",
     "output_type": "stream",
     "text": [
      "2020-10-28 21:30:56,018\tWARNING worker.py:1090 -- WARNING: 10 PYTHON workers have been started. This could be a result of using a large number of actors, or it could be a consequence of using nested tasks (see https://github.com/ray-project/ray/issues/3644) for some a discussion of workarounds.\n"
     ]
    },
    {
     "name": "stdout",
     "output_type": "stream",
     "text": [
      "\u001b[2m\u001b[36m(pid=33670)\u001b[0m warning: basinhopping: local minimization failure\n",
      "\u001b[2m\u001b[36m(pid=33670)\u001b[0m basinhopping step 0: f 3.04939e+12\n",
      "\u001b[2m\u001b[36m(pid=33682)\u001b[0m warning: basinhopping: local minimization failure\n",
      "\u001b[2m\u001b[36m(pid=33682)\u001b[0m basinhopping step 0: f 3.37734e+11\n",
      "\u001b[2m\u001b[36m(pid=33567)\u001b[0m basinhopping step 7: f 3.03432e+12 trial_f 8.45807e+16 accepted 0  lowest_f 3.03432e+12\n",
      "\u001b[2m\u001b[36m(pid=33567)\u001b[0m basinhopping step 8: f 3.03432e+12 trial_f 3.03443e+12 accepted 0  lowest_f 3.03432e+12\n",
      "\u001b[2m\u001b[36m(pid=33682)\u001b[0m basinhopping step 1: f 3.50482e+09 trial_f 3.50482e+09 accepted 1  lowest_f 3.50482e+09\n",
      "\u001b[2m\u001b[36m(pid=33682)\u001b[0m found new global minimum on step 1 with function value 3.50482e+09\n",
      "\u001b[2m\u001b[36m(pid=33698)\u001b[0m warning: basinhopping: local minimization failure\n",
      "\u001b[2m\u001b[36m(pid=33698)\u001b[0m basinhopping step 0: f 1.90215e+09\n",
      "\u001b[2m\u001b[36m(pid=33682)\u001b[0m warning: basinhopping: local minimization failure\n",
      "\u001b[2m\u001b[36m(pid=33682)\u001b[0m basinhopping step 2: f 3.50482e+09 trial_f 5.30288e+09 accepted 0  lowest_f 3.50482e+09\n",
      "\u001b[2m\u001b[36m(pid=33698)\u001b[0m basinhopping step 1: f 1.35074e+09 trial_f 1.35074e+09 accepted 1  lowest_f 1.35074e+09\n",
      "\u001b[2m\u001b[36m(pid=33698)\u001b[0m found new global minimum on step 1 with function value 1.35074e+09\n",
      "\u001b[2m\u001b[36m(pid=33698)\u001b[0m basinhopping step 2: f 1.35074e+09 trial_f 4.23023e+14 accepted 0  lowest_f 1.35074e+09\n",
      "\u001b[2m\u001b[36m(pid=33567)\u001b[0m basinhopping step 9: f 2.93709e+12 trial_f 2.93709e+12 accepted 1  lowest_f 2.93709e+12\n",
      "\u001b[2m\u001b[36m(pid=33567)\u001b[0m found new global minimum on step 9 with function value 2.93709e+12\n",
      "\u001b[2m\u001b[36m(pid=33682)\u001b[0m basinhopping step 3: f 3.50482e+09 trial_f 3.94286e+13 accepted 0  lowest_f 3.50482e+09\n",
      "\u001b[2m\u001b[36m(pid=33698)\u001b[0m basinhopping step 3: f 1.35074e+09 trial_f 5.38008e+15 accepted 0  lowest_f 1.35074e+09\n",
      "\u001b[2m\u001b[36m(pid=33698)\u001b[0m warning: basinhopping: local minimization failure\n",
      "\u001b[2m\u001b[36m(pid=33698)\u001b[0m basinhopping step 4: f 1.35074e+09 trial_f 2.05286e+09 accepted 0  lowest_f 1.35074e+09\n",
      "\u001b[2m\u001b[36m(pid=33567)\u001b[0m warning: basinhopping: local minimization failure\n",
      "\u001b[2m\u001b[36m(pid=33567)\u001b[0m basinhopping step 10: f 2.93709e+12 trial_f 6.62268e+16 accepted 0  lowest_f 2.93709e+12\n"
     ]
    },
    {
     "name": "stderr",
     "output_type": "stream",
     "text": [
      "2020-10-28 21:31:20,024\tWARNING worker.py:1090 -- WARNING: 10 PYTHON workers have been started. This could be a result of using a large number of actors, or it could be a consequence of using nested tasks (see https://github.com/ray-project/ray/issues/3644) for some a discussion of workarounds.\n"
     ]
    },
    {
     "name": "stdout",
     "output_type": "stream",
     "text": [
      "\u001b[2m\u001b[36m(pid=33682)\u001b[0m basinhopping step 4: f 3.50482e+09 trial_f 5.70159e+13 accepted 0  lowest_f 3.50482e+09\n",
      "\u001b[2m\u001b[36m(pid=33807)\u001b[0m warning: basinhopping: local minimization failure\n",
      "\u001b[2m\u001b[36m(pid=33807)\u001b[0m basinhopping step 0: f 2.5447e+12\n",
      "\u001b[2m\u001b[36m(pid=33682)\u001b[0m warning: basinhopping: local minimization failure\n",
      "\u001b[2m\u001b[36m(pid=33682)\u001b[0m basinhopping step 5: f 3.50482e+09 trial_f 5.17346e+09 accepted 0  lowest_f 3.50482e+09\n",
      "\u001b[2m\u001b[36m(pid=33670)\u001b[0m basinhopping step 1: f 3.04939e+12 trial_f 6.55984e+13 accepted 0  lowest_f 3.04939e+12\n",
      "\u001b[2m\u001b[36m(pid=33807)\u001b[0m warning: basinhopping: local minimization failure\n",
      "\u001b[2m\u001b[36m(pid=33807)\u001b[0m basinhopping step 1: f 2.5447e+12 trial_f 3.4942e+15 accepted 0  lowest_f 2.5447e+12\n",
      "\u001b[2m\u001b[36m(pid=33670)\u001b[0m basinhopping step 2: f 3.04939e+12 trial_f 3.67507e+12 accepted 0  lowest_f 3.04939e+12\n",
      "\u001b[2m\u001b[36m(pid=33682)\u001b[0m basinhopping step 6: f 3.50482e+09 trial_f 3.85133e+13 accepted 0  lowest_f 3.50482e+09\n",
      "\u001b[2m\u001b[36m(pid=33698)\u001b[0m basinhopping step 5: f 1.35074e+09 trial_f 4.20507e+14 accepted 0  lowest_f 1.35074e+09\n",
      "\u001b[2m\u001b[36m(pid=33807)\u001b[0m basinhopping step 2: f 2.5447e+12 trial_f 3.60777e+15 accepted 0  lowest_f 2.5447e+12\n",
      "\u001b[2m\u001b[36m(pid=33682)\u001b[0m basinhopping step 7: f 3.50482e+09 trial_f 3.84275e+13 accepted 0  lowest_f 3.50482e+09\n",
      "\u001b[2m\u001b[36m(pid=33698)\u001b[0m warning: basinhopping: local minimization failure\n",
      "\u001b[2m\u001b[36m(pid=33698)\u001b[0m basinhopping step 6: f 1.35074e+09 trial_f 1.51716e+09 accepted 0  lowest_f 1.35074e+09\n",
      "\u001b[2m\u001b[36m(pid=33682)\u001b[0m basinhopping step 8: f 3.50482e+09 trial_f 4.26023e+13 accepted 0  lowest_f 3.50482e+09\n",
      "\u001b[2m\u001b[36m(pid=33807)\u001b[0m basinhopping step 3: f 2.5447e+12 trial_f 4.83064e+15 accepted 0  lowest_f 2.5447e+12\n",
      "\u001b[2m\u001b[36m(pid=33682)\u001b[0m warning: basinhopping: local minimization failure\n",
      "\u001b[2m\u001b[36m(pid=33682)\u001b[0m basinhopping step 9: f 3.50482e+09 trial_f 4.26523e+09 accepted 0  lowest_f 3.50482e+09\n",
      "\u001b[2m\u001b[36m(pid=33698)\u001b[0m basinhopping step 7: f 1.35074e+09 trial_f 3.89611e+14 accepted 0  lowest_f 1.35074e+09\n",
      "\u001b[2m\u001b[36m(pid=33698)\u001b[0m basinhopping step 8: f 1.35074e+09 trial_f 2.62623e+15 accepted 0  lowest_f 1.35074e+09\n",
      "\u001b[2m\u001b[36m(pid=33698)\u001b[0m basinhopping step 9: f 1.35074e+09 trial_f 2.05078e+09 accepted 0  lowest_f 1.35074e+09\n",
      "\u001b[2m\u001b[36m(pid=33807)\u001b[0m warning: basinhopping: local minimization failure\n",
      "\u001b[2m\u001b[36m(pid=33807)\u001b[0m basinhopping step 4: f 4.70203e+11 trial_f 4.70203e+11 accepted 1  lowest_f 4.70203e+11\n",
      "\u001b[2m\u001b[36m(pid=33807)\u001b[0m found new global minimum on step 4 with function value 4.70203e+11\n",
      "\u001b[2m\u001b[36m(pid=33682)\u001b[0m warning: basinhopping: local minimization failure\n",
      "\u001b[2m\u001b[36m(pid=33682)\u001b[0m basinhopping step 10: f 3.50482e+09 trial_f 4.69483e+09 accepted 0  lowest_f 3.50482e+09\n"
     ]
    },
    {
     "name": "stderr",
     "output_type": "stream",
     "text": [
      "2020-10-28 21:31:59,655\tWARNING worker.py:1090 -- WARNING: 10 PYTHON workers have been started. This could be a result of using a large number of actors, or it could be a consequence of using nested tasks (see https://github.com/ray-project/ray/issues/3644) for some a discussion of workarounds.\n"
     ]
    },
    {
     "name": "stdout",
     "output_type": "stream",
     "text": [
      "\u001b[2m\u001b[36m(pid=33807)\u001b[0m basinhopping step 5: f 4.70203e+11 trial_f 3.50092e+15 accepted 0  lowest_f 4.70203e+11\n",
      "\u001b[2m\u001b[36m(pid=33975)\u001b[0m basinhopping step 0: f 6.01277e+09\n",
      "\u001b[2m\u001b[36m(pid=33698)\u001b[0m basinhopping step 10: f 1.35074e+09 trial_f 2.05832e+09 accepted 0  lowest_f 1.35074e+09\n",
      "\u001b[2m\u001b[36m(pid=33975)\u001b[0m basinhopping step 1: f 6.01277e+09 trial_f 1.56242e+13 accepted 0  lowest_f 6.01277e+09\n"
     ]
    },
    {
     "name": "stderr",
     "output_type": "stream",
     "text": [
      "2020-10-28 21:32:07,832\tWARNING worker.py:1090 -- WARNING: 10 PYTHON workers have been started. This could be a result of using a large number of actors, or it could be a consequence of using nested tasks (see https://github.com/ray-project/ray/issues/3644) for some a discussion of workarounds.\n"
     ]
    },
    {
     "name": "stdout",
     "output_type": "stream",
     "text": [
      "\u001b[2m\u001b[36m(pid=33807)\u001b[0m basinhopping step 6: f 4.70203e+11 trial_f 4.79465e+15 accepted 0  lowest_f 4.70203e+11\n",
      "\u001b[2m\u001b[36m(pid=33670)\u001b[0m warning: basinhopping: local minimization failure\n",
      "\u001b[2m\u001b[36m(pid=33670)\u001b[0m basinhopping step 3: f 3.04939e+12 trial_f 3.04939e+12 accepted 1  lowest_f 3.04939e+12\n",
      "\u001b[2m\u001b[36m(pid=33670)\u001b[0m found new global minimum on step 3 with function value 3.04939e+12\n",
      "\u001b[2m\u001b[36m(pid=33975)\u001b[0m warning: basinhopping: local minimization failure\n",
      "\u001b[2m\u001b[36m(pid=33975)\u001b[0m basinhopping step 2: f 6.01277e+09 trial_f 8.24537e+09 accepted 0  lowest_f 6.01277e+09\n",
      "\u001b[2m\u001b[36m(pid=33807)\u001b[0m warning: basinhopping: local minimization failure\n",
      "\u001b[2m\u001b[36m(pid=33807)\u001b[0m basinhopping step 7: f 4.70203e+11 trial_f 1.74555e+12 accepted 0  lowest_f 4.70203e+11\n",
      "\u001b[2m\u001b[36m(pid=33670)\u001b[0m warning: basinhopping: local minimization failure\n",
      "\u001b[2m\u001b[36m(pid=33670)\u001b[0m basinhopping step 4: f 3.04939e+12 trial_f 3.67822e+12 accepted 0  lowest_f 3.04939e+12\n",
      "\u001b[2m\u001b[36m(pid=33975)\u001b[0m basinhopping step 3: f 6.01277e+09 trial_f 1.60662e+13 accepted 0  lowest_f 6.01277e+09\n",
      "\u001b[2m\u001b[36m(pid=33642)\u001b[0m warning: basinhopping: local minimization failure\n",
      "\u001b[2m\u001b[36m(pid=33642)\u001b[0m basinhopping step 0: f 2.05848e+11\n",
      "\u001b[2m\u001b[36m(pid=33670)\u001b[0m basinhopping step 5: f 3.04939e+12 trial_f 3.63915e+12 accepted 0  lowest_f 3.04939e+12\n",
      "\u001b[2m\u001b[36m(pid=33807)\u001b[0m warning: basinhopping: local minimization failure\n",
      "\u001b[2m\u001b[36m(pid=33807)\u001b[0m basinhopping step 8: f 4.70203e+11 trial_f 3.78479e+14 accepted 0  lowest_f 4.70203e+11\n",
      "\u001b[2m\u001b[36m(pid=33642)\u001b[0m basinhopping step 1: f 2.05848e+11 trial_f 1.19446e+14 accepted 0  lowest_f 2.05848e+11\n",
      "\u001b[2m\u001b[36m(pid=33988)\u001b[0m basinhopping step 0: f 1.007e+16\n",
      "\u001b[2m\u001b[36m(pid=33670)\u001b[0m basinhopping step 6: f 3.04939e+12 trial_f 2.6703e+14 accepted 0  lowest_f 3.04939e+12\n",
      "\u001b[2m\u001b[36m(pid=33988)\u001b[0m warning: basinhopping: local minimization failure\n",
      "\u001b[2m\u001b[36m(pid=33988)\u001b[0m basinhopping step 1: f 1.63872e+09 trial_f 1.63872e+09 accepted 1  lowest_f 1.63872e+09\n",
      "\u001b[2m\u001b[36m(pid=33988)\u001b[0m found new global minimum on step 1 with function value 1.63872e+09\n",
      "\u001b[2m\u001b[36m(pid=33975)\u001b[0m warning: basinhopping: local minimization failure\n",
      "\u001b[2m\u001b[36m(pid=33975)\u001b[0m basinhopping step 4: f 6.01277e+09 trial_f 8.40566e+09 accepted 0  lowest_f 6.01277e+09\n",
      "\u001b[2m\u001b[36m(pid=33670)\u001b[0m basinhopping step 7: f 3.04939e+12 trial_f 4.11749e+14 accepted 0  lowest_f 3.04939e+12\n",
      "\u001b[2m\u001b[36m(pid=33642)\u001b[0m basinhopping step 2: f 2.05848e+11 trial_f 2.6626e+14 accepted 0  lowest_f 2.05848e+11\n",
      "\u001b[2m\u001b[36m(pid=33975)\u001b[0m basinhopping step 5: f 6.01277e+09 trial_f 2.44934e+12 accepted 0  lowest_f 6.01277e+09\n",
      "\u001b[2m\u001b[36m(pid=33807)\u001b[0m basinhopping step 9: f 4.70203e+11 trial_f 1.32965e+12 accepted 0  lowest_f 4.70203e+11\n",
      "\u001b[2m\u001b[36m(pid=33807)\u001b[0m basinhopping step 10: f 4.70203e+11 trial_f 2.54436e+12 accepted 0  lowest_f 4.70203e+11\n"
     ]
    },
    {
     "name": "stderr",
     "output_type": "stream",
     "text": [
      "2020-10-28 21:32:47,866\tWARNING worker.py:1090 -- WARNING: 10 PYTHON workers have been started. This could be a result of using a large number of actors, or it could be a consequence of using nested tasks (see https://github.com/ray-project/ray/issues/3644) for some a discussion of workarounds.\n"
     ]
    },
    {
     "name": "stdout",
     "output_type": "stream",
     "text": [
      "\u001b[2m\u001b[36m(pid=33642)\u001b[0m basinhopping step 3: f 2.05848e+11 trial_f 5.26097e+13 accepted 0  lowest_f 2.05848e+11\n",
      "\u001b[2m\u001b[36m(pid=33670)\u001b[0m basinhopping step 8: f 3.04939e+12 trial_f 3.5668e+12 accepted 0  lowest_f 3.04939e+12\n",
      "\u001b[2m\u001b[36m(pid=33670)\u001b[0m basinhopping step 9: f 3.04939e+12 trial_f 3.88206e+14 accepted 0  lowest_f 3.04939e+12\n",
      "\u001b[2m\u001b[36m(pid=33988)\u001b[0m basinhopping step 2: f 1.63872e+09 trial_f 1.6441e+09 accepted 0  lowest_f 1.63872e+09\n",
      "\u001b[2m\u001b[36m(pid=33642)\u001b[0m basinhopping step 4: f 2.05848e+11 trial_f 1.21421e+14 accepted 0  lowest_f 2.05848e+11\n",
      "\u001b[2m\u001b[36m(pid=33988)\u001b[0m basinhopping step 3: f 1.63872e+09 trial_f 9.67582e+16 accepted 0  lowest_f 1.63872e+09\n",
      "\u001b[2m\u001b[36m(pid=34040)\u001b[0m basinhopping step 0: f 8.83409e+15\n",
      "\u001b[2m\u001b[36m(pid=33988)\u001b[0m basinhopping step 4: f 1.63872e+09 trial_f 1.64052e+09 accepted 0  lowest_f 1.63872e+09\n",
      "\u001b[2m\u001b[36m(pid=34040)\u001b[0m basinhopping step 1: f 8.83409e+15 trial_f 8.56975e+16 accepted 0  lowest_f 8.83409e+15\n",
      "\u001b[2m\u001b[36m(pid=33975)\u001b[0m basinhopping step 6: f 6.01277e+09 trial_f 8.24791e+09 accepted 0  lowest_f 6.01277e+09\n",
      "\u001b[2m\u001b[36m(pid=33642)\u001b[0m warning: basinhopping: local minimization failure\n",
      "\u001b[2m\u001b[36m(pid=33642)\u001b[0m basinhopping step 5: f 2.05848e+11 trial_f 1.87624e+13 accepted 0  lowest_f 2.05848e+11\n",
      "\u001b[2m\u001b[36m(pid=33988)\u001b[0m basinhopping step 5: f 1.63872e+09 trial_f 1.6441e+09 accepted 0  lowest_f 1.63872e+09\n",
      "\u001b[2m\u001b[36m(pid=33642)\u001b[0m basinhopping step 6: f 2.05848e+11 trial_f 8.70683e+11 accepted 0  lowest_f 2.05848e+11\n",
      "\u001b[2m\u001b[36m(pid=34040)\u001b[0m basinhopping step 2: f 8.83409e+15 trial_f 5.38572e+16 accepted 0  lowest_f 8.83409e+15\n",
      "\u001b[2m\u001b[36m(pid=33642)\u001b[0m basinhopping step 7: f 2.05848e+11 trial_f 7.76068e+14 accepted 0  lowest_f 2.05848e+11\n",
      "\u001b[2m\u001b[36m(pid=33988)\u001b[0m basinhopping step 6: f 1.63872e+09 trial_f 9.58083e+16 accepted 0  lowest_f 1.63872e+09\n",
      "\u001b[2m\u001b[36m(pid=34040)\u001b[0m basinhopping step 3: f 8.83409e+15 trial_f 8.83513e+15 accepted 0  lowest_f 8.83409e+15\n",
      "\u001b[2m\u001b[36m(pid=33975)\u001b[0m basinhopping step 7: f 6.01277e+09 trial_f 8.38514e+09 accepted 0  lowest_f 6.01277e+09\n",
      "\u001b[2m\u001b[36m(pid=34040)\u001b[0m basinhopping step 4: f 1.53015e+12 trial_f 1.53015e+12 accepted 1  lowest_f 1.53015e+12\n",
      "\u001b[2m\u001b[36m(pid=34040)\u001b[0m found new global minimum on step 4 with function value 1.53015e+12\n",
      "\u001b[2m\u001b[36m(pid=33670)\u001b[0m warning: basinhopping: local minimization failure\n",
      "\u001b[2m\u001b[36m(pid=33670)\u001b[0m basinhopping step 10: f 3.04939e+12 trial_f 3.04939e+12 accepted 1  lowest_f 3.04939e+12\n"
     ]
    },
    {
     "name": "stderr",
     "output_type": "stream",
     "text": [
      "2020-10-28 21:33:25,804\tWARNING worker.py:1090 -- WARNING: 10 PYTHON workers have been started. This could be a result of using a large number of actors, or it could be a consequence of using nested tasks (see https://github.com/ray-project/ray/issues/3644) for some a discussion of workarounds.\n"
     ]
    },
    {
     "name": "stdout",
     "output_type": "stream",
     "text": [
      "\u001b[2m\u001b[36m(pid=33975)\u001b[0m basinhopping step 8: f 6.01277e+09 trial_f 1.54552e+12 accepted 0  lowest_f 6.01277e+09\n",
      "\u001b[2m\u001b[36m(pid=33988)\u001b[0m warning: basinhopping: local minimization failure\n",
      "\u001b[2m\u001b[36m(pid=33988)\u001b[0m basinhopping step 7: f 1.63872e+09 trial_f 1.64051e+09 accepted 0  lowest_f 1.63872e+09\n",
      "\u001b[2m\u001b[36m(pid=33988)\u001b[0m basinhopping step 8: f 1.63872e+09 trial_f 1.64403e+09 accepted 0  lowest_f 1.63872e+09\n",
      "\u001b[2m\u001b[36m(pid=33975)\u001b[0m basinhopping step 9: f 6.01277e+09 trial_f 2.4668e+12 accepted 0  lowest_f 6.01277e+09\n",
      "\u001b[2m\u001b[36m(pid=34167)\u001b[0m basinhopping step 0: f 5.91852e+12\n",
      "\u001b[2m\u001b[36m(pid=34167)\u001b[0m warning: basinhopping: local minimization failure\n",
      "\u001b[2m\u001b[36m(pid=34167)\u001b[0m basinhopping step 1: f 5.91852e+12 trial_f 8.80452e+14 accepted 0  lowest_f 5.91852e+12\n",
      "\u001b[2m\u001b[36m(pid=34040)\u001b[0m basinhopping step 5: f 1.53015e+12 trial_f 5.60262e+16 accepted 0  lowest_f 1.53015e+12\n",
      "\u001b[2m\u001b[36m(pid=33988)\u001b[0m basinhopping step 9: f 1.63872e+09 trial_f 9.66287e+16 accepted 0  lowest_f 1.63872e+09\n",
      "\u001b[2m\u001b[36m(pid=34167)\u001b[0m basinhopping step 2: f 5.91852e+12 trial_f 2.40366e+15 accepted 0  lowest_f 5.91852e+12\n",
      "\u001b[2m\u001b[36m(pid=33642)\u001b[0m warning: basinhopping: local minimization failure\n",
      "\u001b[2m\u001b[36m(pid=33642)\u001b[0m basinhopping step 8: f 2.05848e+11 trial_f 1.16784e+13 accepted 0  lowest_f 2.05848e+11\n",
      "\u001b[2m\u001b[36m(pid=34040)\u001b[0m warning: basinhopping: local minimization failure\n",
      "\u001b[2m\u001b[36m(pid=34040)\u001b[0m basinhopping step 6: f 1.53015e+12 trial_f 3.92956e+12 accepted 0  lowest_f 1.53015e+12\n",
      "\u001b[2m\u001b[36m(pid=33988)\u001b[0m basinhopping step 10: f 1.63872e+09 trial_f 1.00698e+16 accepted 0  lowest_f 1.63872e+09\n"
     ]
    },
    {
     "name": "stderr",
     "output_type": "stream",
     "text": [
      "2020-10-28 21:33:44,713\tWARNING worker.py:1090 -- WARNING: 10 PYTHON workers have been started. This could be a result of using a large number of actors, or it could be a consequence of using nested tasks (see https://github.com/ray-project/ray/issues/3644) for some a discussion of workarounds.\n"
     ]
    },
    {
     "name": "stdout",
     "output_type": "stream",
     "text": [
      "\u001b[2m\u001b[36m(pid=33975)\u001b[0m basinhopping step 10: f 4.52828e+09 trial_f 4.52828e+09 accepted 1  lowest_f 4.52828e+09\n",
      "\u001b[2m\u001b[36m(pid=33975)\u001b[0m found new global minimum on step 10 with function value 4.52828e+09\n"
     ]
    },
    {
     "name": "stderr",
     "output_type": "stream",
     "text": [
      "2020-10-28 21:33:45,232\tWARNING worker.py:1090 -- WARNING: 10 PYTHON workers have been started. This could be a result of using a large number of actors, or it could be a consequence of using nested tasks (see https://github.com/ray-project/ray/issues/3644) for some a discussion of workarounds.\n"
     ]
    },
    {
     "name": "stdout",
     "output_type": "stream",
     "text": [
      "\u001b[2m\u001b[36m(pid=34040)\u001b[0m warning: basinhopping: local minimization failure\n",
      "\u001b[2m\u001b[36m(pid=34040)\u001b[0m basinhopping step 7: f 1.53015e+12 trial_f 4.05897e+12 accepted 0  lowest_f 1.53015e+12\n",
      "\u001b[2m\u001b[36m(pid=34180)\u001b[0m warning: basinhopping: local minimization failure\n",
      "\u001b[2m\u001b[36m(pid=34180)\u001b[0m basinhopping step 0: f 5.53643e+15\n",
      "\u001b[2m\u001b[36m(pid=34180)\u001b[0m warning: basinhopping: local minimization failure\n",
      "\u001b[2m\u001b[36m(pid=34180)\u001b[0m basinhopping step 1: f 5.53643e+15 trial_f 6.56689e+16 accepted 0  lowest_f 5.53643e+15\n",
      "\u001b[2m\u001b[36m(pid=34167)\u001b[0m basinhopping step 3: f 5.91852e+12 trial_f 3.02502e+14 accepted 0  lowest_f 5.91852e+12\n",
      "\u001b[2m\u001b[36m(pid=34191)\u001b[0m basinhopping step 0: f 3.64119e+08\n",
      "\u001b[2m\u001b[36m(pid=34180)\u001b[0m warning: basinhopping: local minimization failure\n",
      "\u001b[2m\u001b[36m(pid=34180)\u001b[0m basinhopping step 2: f 5.53643e+15 trial_f 5.07987e+16 accepted 0  lowest_f 5.53643e+15\n",
      "\u001b[2m\u001b[36m(pid=33642)\u001b[0m basinhopping step 9: f 2.05848e+11 trial_f 3.93426e+14 accepted 0  lowest_f 2.05848e+11\n",
      "\u001b[2m\u001b[36m(pid=34191)\u001b[0m basinhopping step 1: f 3.64119e+08 trial_f 1.32299e+09 accepted 0  lowest_f 3.64119e+08\n",
      "\u001b[2m\u001b[36m(pid=34167)\u001b[0m basinhopping step 4: f 4.39993e+12 trial_f 4.39993e+12 accepted 1  lowest_f 4.39993e+12\n",
      "\u001b[2m\u001b[36m(pid=34167)\u001b[0m found new global minimum on step 4 with function value 4.39993e+12\n",
      "\u001b[2m\u001b[36m(pid=34040)\u001b[0m basinhopping step 8: f 1.53015e+12 trial_f 2.43048e+16 accepted 0  lowest_f 1.53015e+12\n",
      "\u001b[2m\u001b[36m(pid=33642)\u001b[0m basinhopping step 10: f 2.05848e+11 trial_f 1.64716e+14 accepted 0  lowest_f 2.05848e+11\n",
      "\u001b[2m\u001b[36m(pid=34180)\u001b[0m basinhopping step 3: f 5.53643e+15 trial_f 2.9587e+17 accepted 0  lowest_f 5.53643e+15\n"
     ]
    },
    {
     "name": "stderr",
     "output_type": "stream",
     "text": [
      "2020-10-28 21:34:00,684\tWARNING worker.py:1090 -- WARNING: 10 PYTHON workers have been started. This could be a result of using a large number of actors, or it could be a consequence of using nested tasks (see https://github.com/ray-project/ray/issues/3644) for some a discussion of workarounds.\n"
     ]
    },
    {
     "name": "stdout",
     "output_type": "stream",
     "text": [
      "\u001b[2m\u001b[36m(pid=34191)\u001b[0m basinhopping step 2: f 3.64119e+08 trial_f 2.92054e+09 accepted 0  lowest_f 3.64119e+08\n",
      "\u001b[2m\u001b[36m(pid=34040)\u001b[0m basinhopping step 9: f 1.53015e+12 trial_f 8.85312e+16 accepted 0  lowest_f 1.53015e+12\n",
      "\u001b[2m\u001b[36m(pid=34180)\u001b[0m basinhopping step 4: f 5.53643e+15 trial_f 4.18171e+16 accepted 0  lowest_f 5.53643e+15\n",
      "\u001b[2m\u001b[36m(pid=34167)\u001b[0m basinhopping step 5: f 4.39993e+12 trial_f 4.28553e+15 accepted 0  lowest_f 4.39993e+12\n",
      "\u001b[2m\u001b[36m(pid=34180)\u001b[0m basinhopping step 5: f 5.53643e+15 trial_f 4.24853e+16 accepted 0  lowest_f 5.53643e+15\n",
      "\u001b[2m\u001b[36m(pid=34180)\u001b[0m basinhopping step 6: f 5.53643e+15 trial_f 7.50211e+15 accepted 0  lowest_f 5.53643e+15\n",
      "\u001b[2m\u001b[36m(pid=34167)\u001b[0m basinhopping step 6: f 4.39993e+12 trial_f 1.67255e+15 accepted 0  lowest_f 4.39993e+12\n",
      "\u001b[2m\u001b[36m(pid=34180)\u001b[0m basinhopping step 7: f 2.3044e+09 trial_f 2.3044e+09 accepted 1  lowest_f 2.3044e+09\n",
      "\u001b[2m\u001b[36m(pid=34180)\u001b[0m found new global minimum on step 7 with function value 2.3044e+09\n",
      "\u001b[2m\u001b[36m(pid=34191)\u001b[0m basinhopping step 3: f 3.63539e+08 trial_f 3.63539e+08 accepted 1  lowest_f 3.63539e+08\n",
      "\u001b[2m\u001b[36m(pid=34191)\u001b[0m found new global minimum on step 3 with function value 3.63539e+08\n",
      "\u001b[2m\u001b[36m(pid=34208)\u001b[0m warning: basinhopping: local minimization failure\n",
      "\u001b[2m\u001b[36m(pid=34208)\u001b[0m basinhopping step 0: f 1.52822e+12\n",
      "\u001b[2m\u001b[36m(pid=34167)\u001b[0m warning: basinhopping: local minimization failure\n",
      "\u001b[2m\u001b[36m(pid=34167)\u001b[0m basinhopping step 7: f 4.39993e+12 trial_f 5.90246e+12 accepted 0  lowest_f 4.39993e+12\n",
      "\u001b[2m\u001b[36m(pid=34040)\u001b[0m basinhopping step 10: f 1.53015e+12 trial_f 1.24867e+16 accepted 0  lowest_f 1.53015e+12\n"
     ]
    },
    {
     "name": "stderr",
     "output_type": "stream",
     "text": [
      "2020-10-28 21:34:23,361\tWARNING worker.py:1090 -- WARNING: 10 PYTHON workers have been started. This could be a result of using a large number of actors, or it could be a consequence of using nested tasks (see https://github.com/ray-project/ray/issues/3644) for some a discussion of workarounds.\n"
     ]
    },
    {
     "name": "stdout",
     "output_type": "stream",
     "text": [
      "\u001b[2m\u001b[36m(pid=34167)\u001b[0m basinhopping step 8: f 4.39993e+12 trial_f 7.16805e+14 accepted 0  lowest_f 4.39993e+12\n",
      "\u001b[2m\u001b[36m(pid=34180)\u001b[0m basinhopping step 8: f 2.3044e+09 trial_f 2.30658e+09 accepted 0  lowest_f 2.3044e+09\n",
      "\u001b[2m\u001b[36m(pid=34234)\u001b[0m warning: basinhopping: local minimization failure\n",
      "\u001b[2m\u001b[36m(pid=34234)\u001b[0m basinhopping step 0: f 1.51048e+12\n",
      "\u001b[2m\u001b[36m(pid=34208)\u001b[0m warning: basinhopping: local minimization failure\n",
      "\u001b[2m\u001b[36m(pid=34208)\u001b[0m basinhopping step 1: f 1.52822e+12 trial_f 1.52822e+12 accepted 1  lowest_f 1.52822e+12\n",
      "\u001b[2m\u001b[36m(pid=34208)\u001b[0m basinhopping step 2: f 1.52822e+12 trial_f 1.53764e+12 accepted 0  lowest_f 1.52822e+12\n",
      "\u001b[2m\u001b[36m(pid=34167)\u001b[0m basinhopping step 9: f 4.39993e+12 trial_f 1.87054e+15 accepted 0  lowest_f 4.39993e+12\n",
      "\u001b[2m\u001b[36m(pid=34208)\u001b[0m warning: basinhopping: local minimization failure\n",
      "\u001b[2m\u001b[36m(pid=34208)\u001b[0m basinhopping step 3: f 1.52822e+12 trial_f 1.53857e+12 accepted 0  lowest_f 1.52822e+12\n",
      "\u001b[2m\u001b[36m(pid=34234)\u001b[0m warning: basinhopping: local minimization failure\n",
      "\u001b[2m\u001b[36m(pid=34234)\u001b[0m basinhopping step 1: f 1.01743e+12 trial_f 1.01743e+12 accepted 1  lowest_f 1.01743e+12\n",
      "\u001b[2m\u001b[36m(pid=34234)\u001b[0m found new global minimum on step 1 with function value 1.01743e+12\n",
      "\u001b[2m\u001b[36m(pid=34180)\u001b[0m basinhopping step 9: f 2.3044e+09 trial_f 4.32342e+16 accepted 0  lowest_f 2.3044e+09\n",
      "\u001b[2m\u001b[36m(pid=34234)\u001b[0m basinhopping step 2: f 1.01743e+12 trial_f 5.60305e+16 accepted 0  lowest_f 1.01743e+12\n",
      "\u001b[2m\u001b[36m(pid=34167)\u001b[0m warning: basinhopping: local minimization failure\n",
      "\u001b[2m\u001b[36m(pid=34167)\u001b[0m basinhopping step 10: f 3.99079e+12 trial_f 3.99079e+12 accepted 1  lowest_f 3.99079e+12\n",
      "\u001b[2m\u001b[36m(pid=34167)\u001b[0m found new global minimum on step 10 with function value 3.99079e+12\n"
     ]
    },
    {
     "name": "stderr",
     "output_type": "stream",
     "text": [
      "2020-10-28 21:34:49,670\tWARNING worker.py:1090 -- WARNING: 10 PYTHON workers have been started. This could be a result of using a large number of actors, or it could be a consequence of using nested tasks (see https://github.com/ray-project/ray/issues/3644) for some a discussion of workarounds.\n"
     ]
    },
    {
     "name": "stdout",
     "output_type": "stream",
     "text": [
      "\u001b[2m\u001b[36m(pid=34270)\u001b[0m basinhopping step 0: f 7.22304e+12\n",
      "\u001b[2m\u001b[36m(pid=34180)\u001b[0m basinhopping step 10: f 2.3044e+09 trial_f 4.31597e+16 accepted 0  lowest_f 2.3044e+09\n"
     ]
    },
    {
     "name": "stderr",
     "output_type": "stream",
     "text": [
      "2020-10-28 21:34:56,080\tWARNING worker.py:1090 -- WARNING: 10 PYTHON workers have been started. This could be a result of using a large number of actors, or it could be a consequence of using nested tasks (see https://github.com/ray-project/ray/issues/3644) for some a discussion of workarounds.\n"
     ]
    },
    {
     "name": "stdout",
     "output_type": "stream",
     "text": [
      "\u001b[2m\u001b[36m(pid=34234)\u001b[0m basinhopping step 3: f 1.01743e+12 trial_f 5.59522e+16 accepted 0  lowest_f 1.01743e+12\n",
      "\u001b[2m\u001b[36m(pid=34270)\u001b[0m basinhopping step 1: f 7.22304e+12 trial_f 3.09249e+15 accepted 0  lowest_f 7.22304e+12\n",
      "\u001b[2m\u001b[36m(pid=34270)\u001b[0m basinhopping step 2: f 7.22304e+12 trial_f 7.44041e+12 accepted 0  lowest_f 7.22304e+12\n",
      "\u001b[2m\u001b[36m(pid=34208)\u001b[0m basinhopping step 4: f 1.52822e+12 trial_f 1.53609e+12 accepted 0  lowest_f 1.52822e+12\n",
      "\u001b[2m\u001b[36m(pid=34270)\u001b[0m basinhopping step 3: f 7.22304e+12 trial_f 2.77636e+15 accepted 0  lowest_f 7.22304e+12\n",
      "\u001b[2m\u001b[36m(pid=34191)\u001b[0m basinhopping step 4: f 3.63539e+08 trial_f 3.72692e+08 accepted 0  lowest_f 3.63539e+08\n",
      "\u001b[2m\u001b[36m(pid=34301)\u001b[0m basinhopping step 0: f 2.41495e+15\n",
      "\u001b[2m\u001b[36m(pid=34234)\u001b[0m basinhopping step 4: f 1.01743e+12 trial_f 1.51048e+12 accepted 0  lowest_f 1.01743e+12\n",
      "\u001b[2m\u001b[36m(pid=34234)\u001b[0m basinhopping step 5: f 1.01743e+12 trial_f 9.84199e+16 accepted 0  lowest_f 1.01743e+12\n",
      "\u001b[2m\u001b[36m(pid=34208)\u001b[0m warning: basinhopping: local minimization failure\n",
      "\u001b[2m\u001b[36m(pid=34208)\u001b[0m basinhopping step 5: f 1.52822e+12 trial_f 1.52822e+12 accepted 1  lowest_f 1.52822e+12\n",
      "\u001b[2m\u001b[36m(pid=34234)\u001b[0m basinhopping step 6: f 1.01743e+12 trial_f 1.51015e+12 accepted 0  lowest_f 1.01743e+12\n",
      "\u001b[2m\u001b[36m(pid=34270)\u001b[0m basinhopping step 4: f 7.22304e+12 trial_f 2.52157e+15 accepted 0  lowest_f 7.22304e+12\n",
      "\u001b[2m\u001b[36m(pid=34191)\u001b[0m basinhopping step 5: f 3.63539e+08 trial_f 2.10149e+09 accepted 0  lowest_f 3.63539e+08\n",
      "\u001b[2m\u001b[36m(pid=34234)\u001b[0m basinhopping step 7: f 1.01743e+12 trial_f 1.51015e+12 accepted 0  lowest_f 1.01743e+12\n",
      "\u001b[2m\u001b[36m(pid=34301)\u001b[0m basinhopping step 1: f 2.41495e+15 trial_f 2.68069e+16 accepted 0  lowest_f 2.41495e+15\n",
      "\u001b[2m\u001b[36m(pid=34234)\u001b[0m basinhopping step 8: f 1.01743e+12 trial_f 9.84496e+16 accepted 0  lowest_f 1.01743e+12\n",
      "\u001b[2m\u001b[36m(pid=34270)\u001b[0m basinhopping step 5: f 7.22304e+12 trial_f 2.50541e+15 accepted 0  lowest_f 7.22304e+12\n",
      "\u001b[2m\u001b[36m(pid=34191)\u001b[0m basinhopping step 6: f 3.63539e+08 trial_f 4.3898e+09 accepted 0  lowest_f 3.63539e+08\n",
      "\u001b[2m\u001b[36m(pid=34234)\u001b[0m warning: basinhopping: local minimization failure\n",
      "\u001b[2m\u001b[36m(pid=34234)\u001b[0m basinhopping step 9: f 1.01743e+12 trial_f 1.51048e+12 accepted 0  lowest_f 1.01743e+12\n",
      "\u001b[2m\u001b[36m(pid=34270)\u001b[0m warning: basinhopping: local minimization failure\n",
      "\u001b[2m\u001b[36m(pid=34270)\u001b[0m basinhopping step 6: f 7.22304e+12 trial_f 2.7086e+15 accepted 0  lowest_f 7.22304e+12\n",
      "\u001b[2m\u001b[36m(pid=34234)\u001b[0m warning: basinhopping: local minimization failure\n",
      "\u001b[2m\u001b[36m(pid=34234)\u001b[0m basinhopping step 10: f 1.01743e+12 trial_f 1.51048e+12 accepted 0  lowest_f 1.01743e+12\n"
     ]
    },
    {
     "name": "stderr",
     "output_type": "stream",
     "text": [
      "2020-10-28 21:35:21,278\tWARNING worker.py:1090 -- WARNING: 10 PYTHON workers have been started. This could be a result of using a large number of actors, or it could be a consequence of using nested tasks (see https://github.com/ray-project/ray/issues/3644) for some a discussion of workarounds.\n"
     ]
    },
    {
     "name": "stdout",
     "output_type": "stream",
     "text": [
      "\u001b[2m\u001b[36m(pid=34208)\u001b[0m warning: basinhopping: local minimization failure\n",
      "\u001b[2m\u001b[36m(pid=34208)\u001b[0m basinhopping step 6: f 1.52822e+12 trial_f 1.52822e+12 accepted 1  lowest_f 1.52822e+12\n",
      "\u001b[2m\u001b[36m(pid=34301)\u001b[0m basinhopping step 2: f 2.41495e+15 trial_f 1.14795e+17 accepted 0  lowest_f 2.41495e+15\n",
      "\u001b[2m\u001b[36m(pid=34301)\u001b[0m warning: basinhopping: local minimization failure\n",
      "\u001b[2m\u001b[36m(pid=34301)\u001b[0m basinhopping step 3: f 2.41495e+15 trial_f 1.20175e+16 accepted 0  lowest_f 2.41495e+15\n",
      "\u001b[2m\u001b[36m(pid=34270)\u001b[0m warning: basinhopping: local minimization failure\n",
      "\u001b[2m\u001b[36m(pid=34270)\u001b[0m basinhopping step 7: f 7.22304e+12 trial_f 7.52562e+12 accepted 0  lowest_f 7.22304e+12\n",
      "\u001b[2m\u001b[36m(pid=34270)\u001b[0m basinhopping step 8: f 7.22304e+12 trial_f 2.65723e+15 accepted 0  lowest_f 7.22304e+12\n",
      "\u001b[2m\u001b[36m(pid=34270)\u001b[0m basinhopping step 9: f 7.22304e+12 trial_f 7.51912e+12 accepted 0  lowest_f 7.22304e+12\n",
      "\u001b[2m\u001b[36m(pid=34301)\u001b[0m warning: basinhopping: local minimization failure\n",
      "\u001b[2m\u001b[36m(pid=34301)\u001b[0m basinhopping step 4: f 2.41495e+15 trial_f 1.83019e+16 accepted 0  lowest_f 2.41495e+15\n",
      "\u001b[2m\u001b[36m(pid=34301)\u001b[0m warning: basinhopping: local minimization failure\n",
      "\u001b[2m\u001b[36m(pid=34301)\u001b[0m basinhopping step 5: f 2.41495e+15 trial_f 3.35016e+15 accepted 0  lowest_f 2.41495e+15\n",
      "\u001b[2m\u001b[36m(pid=34191)\u001b[0m basinhopping step 7: f 3.63539e+08 trial_f 2.97825e+09 accepted 0  lowest_f 3.63539e+08\n",
      "\u001b[2m\u001b[36m(pid=34270)\u001b[0m basinhopping step 10: f 7.22304e+12 trial_f 7.51912e+12 accepted 0  lowest_f 7.22304e+12\n"
     ]
    },
    {
     "name": "stderr",
     "output_type": "stream",
     "text": [
      "2020-10-28 21:35:35,155\tWARNING worker.py:1090 -- WARNING: 10 PYTHON workers have been started. This could be a result of using a large number of actors, or it could be a consequence of using nested tasks (see https://github.com/ray-project/ray/issues/3644) for some a discussion of workarounds.\n"
     ]
    },
    {
     "name": "stdout",
     "output_type": "stream",
     "text": [
      "\u001b[2m\u001b[36m(pid=34191)\u001b[0m basinhopping step 8: f 3.63539e+08 trial_f 9.06028e+09 accepted 0  lowest_f 3.63539e+08\n",
      "\u001b[2m\u001b[36m(pid=34208)\u001b[0m warning: basinhopping: local minimization failure\n",
      "\u001b[2m\u001b[36m(pid=34208)\u001b[0m basinhopping step 7: f 1.52822e+12 trial_f 1.52822e+12 accepted 1  lowest_f 1.52822e+12\n",
      "\u001b[2m\u001b[36m(pid=34327)\u001b[0m warning: basinhopping: local minimization failure\n",
      "\u001b[2m\u001b[36m(pid=34327)\u001b[0m basinhopping step 0: f 7.31863e+14\n",
      "\u001b[2m\u001b[36m(pid=34340)\u001b[0m basinhopping step 0: f 7.21604e+12\n",
      "\u001b[2m\u001b[36m(pid=34208)\u001b[0m basinhopping step 8: f 1.52822e+12 trial_f 1.26991e+15 accepted 0  lowest_f 1.52822e+12\n",
      "\u001b[2m\u001b[36m(pid=34301)\u001b[0m basinhopping step 6: f 1.35106e+09 trial_f 1.35106e+09 accepted 1  lowest_f 1.35106e+09\n",
      "\u001b[2m\u001b[36m(pid=34301)\u001b[0m found new global minimum on step 6 with function value 1.35106e+09\n",
      "\u001b[2m\u001b[36m(pid=34191)\u001b[0m basinhopping step 9: f 3.63539e+08 trial_f 9.85456e+08 accepted 0  lowest_f 3.63539e+08\n",
      "\u001b[2m\u001b[36m(pid=34301)\u001b[0m basinhopping step 7: f 1.34789e+09 trial_f 1.34789e+09 accepted 1  lowest_f 1.34789e+09\n",
      "\u001b[2m\u001b[36m(pid=34301)\u001b[0m found new global minimum on step 7 with function value 1.34789e+09\n",
      "\u001b[2m\u001b[36m(pid=34340)\u001b[0m basinhopping step 1: f 7.21604e+12 trial_f 3.09151e+15 accepted 0  lowest_f 7.21604e+12\n",
      "\u001b[2m\u001b[36m(pid=34327)\u001b[0m warning: basinhopping: local minimization failure\n",
      "\u001b[2m\u001b[36m(pid=34327)\u001b[0m basinhopping step 1: f 7.31863e+14 trial_f 7.31863e+14 accepted 1  lowest_f 7.31863e+14\n",
      "\u001b[2m\u001b[36m(pid=34208)\u001b[0m warning: basinhopping: local minimization failure\n",
      "\u001b[2m\u001b[36m(pid=34208)\u001b[0m basinhopping step 9: f 1.52822e+12 trial_f 1.52822e+12 accepted 1  lowest_f 1.52822e+12\n",
      "\u001b[2m\u001b[36m(pid=34340)\u001b[0m basinhopping step 2: f 7.21604e+12 trial_f 2.02064e+16 accepted 0  lowest_f 7.21604e+12\n",
      "\u001b[2m\u001b[36m(pid=34301)\u001b[0m warning: basinhopping: local minimization failure\n",
      "\u001b[2m\u001b[36m(pid=34301)\u001b[0m basinhopping step 8: f 1.34789e+09 trial_f 1.35165e+09 accepted 0  lowest_f 1.34789e+09\n",
      "\u001b[2m\u001b[36m(pid=34208)\u001b[0m basinhopping step 10: f 1.52822e+12 trial_f 7.17894e+14 accepted 0  lowest_f 1.52822e+12\n"
     ]
    },
    {
     "name": "stderr",
     "output_type": "stream",
     "text": [
      "2020-10-28 21:36:16,113\tWARNING worker.py:1090 -- WARNING: 10 PYTHON workers have been started. This could be a result of using a large number of actors, or it could be a consequence of using nested tasks (see https://github.com/ray-project/ray/issues/3644) for some a discussion of workarounds.\n"
     ]
    },
    {
     "name": "stdout",
     "output_type": "stream",
     "text": [
      "\u001b[2m\u001b[36m(pid=34340)\u001b[0m basinhopping step 3: f 7.21604e+12 trial_f 7.21604e+12 accepted 0  lowest_f 7.21604e+12\n",
      "\u001b[2m\u001b[36m(pid=34301)\u001b[0m basinhopping step 9: f 1.34789e+09 trial_f 2.72762e+16 accepted 0  lowest_f 1.34789e+09\n",
      "\u001b[2m\u001b[36m(pid=34301)\u001b[0m basinhopping step 10: f 1.34789e+09 trial_f 1.35097e+09 accepted 0  lowest_f 1.34789e+09\n",
      "\u001b[2m\u001b[36m(pid=34327)\u001b[0m warning: basinhopping: local minimization failure\n",
      "\u001b[2m\u001b[36m(pid=34327)\u001b[0m basinhopping step 2: f 7.31863e+14 trial_f 1.74439e+16 accepted 0  lowest_f 7.31863e+14\n"
     ]
    },
    {
     "name": "stderr",
     "output_type": "stream",
     "text": [
      "2020-10-28 21:36:23,164\tWARNING worker.py:1090 -- WARNING: 10 PYTHON workers have been started. This could be a result of using a large number of actors, or it could be a consequence of using nested tasks (see https://github.com/ray-project/ray/issues/3644) for some a discussion of workarounds.\n"
     ]
    },
    {
     "name": "stdout",
     "output_type": "stream",
     "text": [
      "\u001b[2m\u001b[36m(pid=34369)\u001b[0m basinhopping step 0: f 5.01111e+11\n",
      "\u001b[2m\u001b[36m(pid=34327)\u001b[0m basinhopping step 3: f 7.31863e+14 trial_f 3.00372e+17 accepted 0  lowest_f 7.31863e+14\n",
      "\u001b[2m\u001b[36m(pid=34191)\u001b[0m basinhopping step 10: f 3.63539e+08 trial_f 1.20593e+09 accepted 0  lowest_f 3.63539e+08\n"
     ]
    },
    {
     "name": "stderr",
     "output_type": "stream",
     "text": [
      "2020-10-28 21:36:33,531\tWARNING worker.py:1090 -- WARNING: 10 PYTHON workers have been started. This could be a result of using a large number of actors, or it could be a consequence of using nested tasks (see https://github.com/ray-project/ray/issues/3644) for some a discussion of workarounds.\n"
     ]
    },
    {
     "name": "stdout",
     "output_type": "stream",
     "text": [
      "\u001b[2m\u001b[36m(pid=34340)\u001b[0m basinhopping step 4: f 7.21604e+12 trial_f 4.68365e+14 accepted 0  lowest_f 7.21604e+12\n",
      "\u001b[2m\u001b[36m(pid=34382)\u001b[0m basinhopping step 0: f 2.04114e+15\n",
      "\u001b[2m\u001b[36m(pid=34327)\u001b[0m basinhopping step 4: f 3.30883e+12 trial_f 3.30883e+12 accepted 1  lowest_f 3.30883e+12\n",
      "\u001b[2m\u001b[36m(pid=34327)\u001b[0m found new global minimum on step 4 with function value 3.30883e+12\n",
      "\u001b[2m\u001b[36m(pid=34369)\u001b[0m basinhopping step 1: f 5.01111e+11 trial_f 5.84957e+11 accepted 0  lowest_f 5.01111e+11\n",
      "\u001b[2m\u001b[36m(pid=34382)\u001b[0m basinhopping step 1: f 1.95579e+09 trial_f 1.95579e+09 accepted 1  lowest_f 1.95579e+09\n",
      "\u001b[2m\u001b[36m(pid=34382)\u001b[0m found new global minimum on step 1 with function value 1.95579e+09\n",
      "\u001b[2m\u001b[36m(pid=34382)\u001b[0m basinhopping step 2: f 1.95579e+09 trial_f 1.378e+16 accepted 0  lowest_f 1.95579e+09\n",
      "\u001b[2m\u001b[36m(pid=34327)\u001b[0m basinhopping step 5: f 3.30883e+12 trial_f 1.53451e+16 accepted 0  lowest_f 3.30883e+12\n",
      "\u001b[2m\u001b[36m(pid=34327)\u001b[0m basinhopping step 6: f 3.30883e+12 trial_f 3.40986e+12 accepted 0  lowest_f 3.30883e+12\n",
      "\u001b[2m\u001b[36m(pid=34327)\u001b[0m basinhopping step 7: f 3.30883e+12 trial_f 3.36293e+12 accepted 0  lowest_f 3.30883e+12\n",
      "\u001b[2m\u001b[36m(pid=34369)\u001b[0m basinhopping step 2: f 5.01111e+11 trial_f 8.35791e+11 accepted 0  lowest_f 5.01111e+11\n",
      "\u001b[2m\u001b[36m(pid=34382)\u001b[0m basinhopping step 3: f 1.95579e+09 trial_f 1.95579e+09 accepted 1  lowest_f 1.95579e+09\n",
      "\u001b[2m\u001b[36m(pid=34369)\u001b[0m basinhopping step 3: f 5.01111e+11 trial_f 2.90871e+13 accepted 0  lowest_f 5.01111e+11\n",
      "\u001b[2m\u001b[36m(pid=34382)\u001b[0m warning: basinhopping: local minimization failure\n",
      "\u001b[2m\u001b[36m(pid=34382)\u001b[0m basinhopping step 4: f 1.37233e+09 trial_f 1.37233e+09 accepted 1  lowest_f 1.37233e+09\n",
      "\u001b[2m\u001b[36m(pid=34382)\u001b[0m found new global minimum on step 4 with function value 1.37233e+09\n",
      "\u001b[2m\u001b[36m(pid=34369)\u001b[0m basinhopping step 4: f 5.01111e+11 trial_f 3.27589e+13 accepted 0  lowest_f 5.01111e+11\n",
      "\u001b[2m\u001b[36m(pid=34382)\u001b[0m basinhopping step 5: f 1.37233e+09 trial_f 1.95577e+09 accepted 0  lowest_f 1.37233e+09\n",
      "\u001b[2m\u001b[36m(pid=34340)\u001b[0m basinhopping step 5: f 7.21604e+12 trial_f 7.21604e+12 accepted 1  lowest_f 7.21604e+12\n",
      "\u001b[2m\u001b[36m(pid=34395)\u001b[0m basinhopping step 0: f 5.29629e+09\n",
      "\u001b[2m\u001b[36m(pid=34369)\u001b[0m basinhopping step 5: f 5.01111e+11 trial_f 2.3158e+14 accepted 0  lowest_f 5.01111e+11\n",
      "\u001b[2m\u001b[36m(pid=34340)\u001b[0m basinhopping step 6: f 7.21604e+12 trial_f 1.16866e+15 accepted 0  lowest_f 7.21604e+12\n",
      "\u001b[2m\u001b[36m(pid=34369)\u001b[0m warning: basinhopping: local minimization failure\n",
      "\u001b[2m\u001b[36m(pid=34369)\u001b[0m basinhopping step 6: f 3.69943e+11 trial_f 3.69943e+11 accepted 1  lowest_f 3.69943e+11\n",
      "\u001b[2m\u001b[36m(pid=34369)\u001b[0m found new global minimum on step 6 with function value 3.69943e+11\n",
      "\u001b[2m\u001b[36m(pid=34382)\u001b[0m basinhopping step 6: f 1.37233e+09 trial_f 1.09334e+16 accepted 0  lowest_f 1.37233e+09\n",
      "\u001b[2m\u001b[36m(pid=34395)\u001b[0m basinhopping step 1: f 5.29629e+09 trial_f 2.44207e+13 accepted 0  lowest_f 5.29629e+09\n",
      "\u001b[2m\u001b[36m(pid=34327)\u001b[0m warning: basinhopping: local minimization failure\n",
      "\u001b[2m\u001b[36m(pid=34327)\u001b[0m basinhopping step 8: f 3.30883e+12 trial_f 5.70514e+12 accepted 0  lowest_f 3.30883e+12\n",
      "\u001b[2m\u001b[36m(pid=34382)\u001b[0m warning: basinhopping: local minimization failure\n",
      "\u001b[2m\u001b[36m(pid=34382)\u001b[0m basinhopping step 7: f 1.37233e+09 trial_f 1.95531e+09 accepted 0  lowest_f 1.37233e+09\n",
      "\u001b[2m\u001b[36m(pid=34327)\u001b[0m basinhopping step 9: f 3.30883e+12 trial_f 1.08627e+17 accepted 0  lowest_f 3.30883e+12\n",
      "\u001b[2m\u001b[36m(pid=34340)\u001b[0m basinhopping step 7: f 7.21604e+12 trial_f 1.16664e+15 accepted 0  lowest_f 7.21604e+12\n",
      "\u001b[2m\u001b[36m(pid=34395)\u001b[0m basinhopping step 2: f 5.29629e+09 trial_f 7.02418e+09 accepted 0  lowest_f 5.29629e+09\n",
      "\u001b[2m\u001b[36m(pid=34327)\u001b[0m basinhopping step 10: f 3.30883e+12 trial_f 3.40986e+12 accepted 0  lowest_f 3.30883e+12\n"
     ]
    },
    {
     "name": "stderr",
     "output_type": "stream",
     "text": [
      "2020-10-28 21:37:31,246\tWARNING worker.py:1090 -- WARNING: 10 PYTHON workers have been started. This could be a result of using a large number of actors, or it could be a consequence of using nested tasks (see https://github.com/ray-project/ray/issues/3644) for some a discussion of workarounds.\n"
     ]
    },
    {
     "name": "stdout",
     "output_type": "stream",
     "text": [
      "\u001b[2m\u001b[36m(pid=34395)\u001b[0m basinhopping step 3: f 5.29629e+09 trial_f 6.19458e+09 accepted 0  lowest_f 5.29629e+09\n",
      "\u001b[2m\u001b[36m(pid=34437)\u001b[0m basinhopping step 0: f 6.12686e+15\n",
      "\u001b[2m\u001b[36m(pid=34369)\u001b[0m basinhopping step 7: f 3.69943e+11 trial_f 3.14675e+13 accepted 0  lowest_f 3.69943e+11\n",
      "\u001b[2m\u001b[36m(pid=34395)\u001b[0m basinhopping step 4: f 5.29629e+09 trial_f 7.16286e+09 accepted 0  lowest_f 5.29629e+09\n",
      "\u001b[2m\u001b[36m(pid=34395)\u001b[0m warning: basinhopping: local minimization failure\n",
      "\u001b[2m\u001b[36m(pid=34395)\u001b[0m basinhopping step 5: f 5.29629e+09 trial_f 7.32176e+09 accepted 0  lowest_f 5.29629e+09\n",
      "\u001b[2m\u001b[36m(pid=34437)\u001b[0m basinhopping step 1: f 6.12686e+15 trial_f 6.13751e+15 accepted 0  lowest_f 6.12686e+15\n",
      "\u001b[2m\u001b[36m(pid=34369)\u001b[0m basinhopping step 8: f 3.69943e+11 trial_f 3.03545e+13 accepted 0  lowest_f 3.69943e+11\n",
      "\u001b[2m\u001b[36m(pid=34382)\u001b[0m basinhopping step 8: f 1.37233e+09 trial_f 2.14045e+15 accepted 0  lowest_f 1.37233e+09\n",
      "\u001b[2m\u001b[36m(pid=34437)\u001b[0m basinhopping step 2: f 3.64767e+12 trial_f 3.64767e+12 accepted 1  lowest_f 3.64767e+12\n",
      "\u001b[2m\u001b[36m(pid=34437)\u001b[0m found new global minimum on step 2 with function value 3.64767e+12\n",
      "\u001b[2m\u001b[36m(pid=34340)\u001b[0m basinhopping step 8: f 7.21604e+12 trial_f 7.21604e+12 accepted 1  lowest_f 7.21604e+12\n",
      "\u001b[2m\u001b[36m(pid=34437)\u001b[0m basinhopping step 3: f 3.64767e+12 trial_f 6.40244e+16 accepted 0  lowest_f 3.64767e+12\n",
      "\u001b[2m\u001b[36m(pid=34382)\u001b[0m basinhopping step 9: f 1.37233e+09 trial_f 1.86231e+15 accepted 0  lowest_f 1.37233e+09\n",
      "\u001b[2m\u001b[36m(pid=34437)\u001b[0m warning: basinhopping: local minimization failure\n",
      "\u001b[2m\u001b[36m(pid=34437)\u001b[0m basinhopping step 4: f 3.64767e+12 trial_f 3.64821e+12 accepted 0  lowest_f 3.64767e+12\n",
      "\u001b[2m\u001b[36m(pid=34395)\u001b[0m basinhopping step 6: f 5.29629e+09 trial_f 1.27859e+10 accepted 0  lowest_f 5.29629e+09\n",
      "\u001b[2m\u001b[36m(pid=34340)\u001b[0m basinhopping step 9: f 7.21604e+12 trial_f 7.21604e+12 accepted 1  lowest_f 7.21604e+12\n",
      "\u001b[2m\u001b[36m(pid=34437)\u001b[0m basinhopping step 5: f 3.64767e+12 trial_f 5.8599e+16 accepted 0  lowest_f 3.64767e+12\n",
      "\u001b[2m\u001b[36m(pid=34369)\u001b[0m basinhopping step 9: f 3.69943e+11 trial_f 2.27317e+14 accepted 0  lowest_f 3.69943e+11\n",
      "\u001b[2m\u001b[36m(pid=34437)\u001b[0m warning: basinhopping: local minimization failure\n",
      "\u001b[2m\u001b[36m(pid=34437)\u001b[0m basinhopping step 6: f 3.64767e+12 trial_f 9.38853e+15 accepted 0  lowest_f 3.64767e+12\n",
      "\u001b[2m\u001b[36m(pid=34382)\u001b[0m warning: basinhopping: local minimization failure\n",
      "\u001b[2m\u001b[36m(pid=34382)\u001b[0m basinhopping step 10: f 1.37233e+09 trial_f 1.58528e+09 accepted 0  lowest_f 1.37233e+09\n"
     ]
    },
    {
     "name": "stderr",
     "output_type": "stream",
     "text": [
      "2020-10-28 21:38:13,584\tWARNING worker.py:1090 -- WARNING: 10 PYTHON workers have been started. This could be a result of using a large number of actors, or it could be a consequence of using nested tasks (see https://github.com/ray-project/ray/issues/3644) for some a discussion of workarounds.\n"
     ]
    },
    {
     "name": "stdout",
     "output_type": "stream",
     "text": [
      "\u001b[2m\u001b[36m(pid=34437)\u001b[0m basinhopping step 7: f 3.56807e+12 trial_f 3.56807e+12 accepted 1  lowest_f 3.56807e+12\n",
      "\u001b[2m\u001b[36m(pid=34437)\u001b[0m found new global minimum on step 7 with function value 3.56807e+12\n",
      "\u001b[2m\u001b[36m(pid=34395)\u001b[0m basinhopping step 7: f 5.29629e+09 trial_f 8.30639e+11 accepted 0  lowest_f 5.29629e+09\n",
      "\u001b[2m\u001b[36m(pid=34340)\u001b[0m warning: basinhopping: local minimization failure\n",
      "\u001b[2m\u001b[36m(pid=34340)\u001b[0m basinhopping step 10: f 7.21604e+12 trial_f 4.3768e+14 accepted 0  lowest_f 7.21604e+12\n"
     ]
    },
    {
     "name": "stderr",
     "output_type": "stream",
     "text": [
      "2020-10-28 21:38:20,988\tWARNING worker.py:1090 -- WARNING: 10 PYTHON workers have been started. This could be a result of using a large number of actors, or it could be a consequence of using nested tasks (see https://github.com/ray-project/ray/issues/3644) for some a discussion of workarounds.\n"
     ]
    },
    {
     "name": "stdout",
     "output_type": "stream",
     "text": [
      "\u001b[2m\u001b[36m(pid=34493)\u001b[0m basinhopping step 0: f 1.10563e+09\n",
      "\u001b[2m\u001b[36m(pid=34532)\u001b[0m basinhopping step 0: f 4.30922e+14\n",
      "\u001b[2m\u001b[36m(pid=34437)\u001b[0m warning: basinhopping: local minimization failure\n",
      "\u001b[2m\u001b[36m(pid=34437)\u001b[0m basinhopping step 8: f 3.56807e+12 trial_f 3.64768e+12 accepted 0  lowest_f 3.56807e+12\n",
      "\u001b[2m\u001b[36m(pid=34369)\u001b[0m warning: basinhopping: local minimization failure\n",
      "\u001b[2m\u001b[36m(pid=34369)\u001b[0m basinhopping step 10: f 3.69943e+11 trial_f 2.90868e+13 accepted 0  lowest_f 3.69943e+11\n"
     ]
    },
    {
     "name": "stderr",
     "output_type": "stream",
     "text": [
      "2020-10-28 21:38:23,981\tWARNING worker.py:1090 -- WARNING: 10 PYTHON workers have been started. This could be a result of using a large number of actors, or it could be a consequence of using nested tasks (see https://github.com/ray-project/ray/issues/3644) for some a discussion of workarounds.\n"
     ]
    },
    {
     "name": "stdout",
     "output_type": "stream",
     "text": [
      "\u001b[2m\u001b[36m(pid=34437)\u001b[0m warning: basinhopping: local minimization failure\n",
      "\u001b[2m\u001b[36m(pid=34437)\u001b[0m basinhopping step 9: f 3.34618e+12 trial_f 3.34618e+12 accepted 1  lowest_f 3.34618e+12\n",
      "\u001b[2m\u001b[36m(pid=34437)\u001b[0m found new global minimum on step 9 with function value 3.34618e+12\n",
      "\u001b[2m\u001b[36m(pid=34545)\u001b[0m basinhopping step 0: f 1.19509e+11\n",
      "\u001b[2m\u001b[36m(pid=34532)\u001b[0m basinhopping step 1: f 4.30922e+14 trial_f 2.65383e+15 accepted 0  lowest_f 4.30922e+14\n",
      "\u001b[2m\u001b[36m(pid=34395)\u001b[0m basinhopping step 8: f 5.29629e+09 trial_f 5.58285e+12 accepted 0  lowest_f 5.29629e+09\n",
      "\u001b[2m\u001b[36m(pid=34437)\u001b[0m basinhopping step 10: f 3.34618e+12 trial_f 3.6171e+16 accepted 0  lowest_f 3.34618e+12\n"
     ]
    },
    {
     "name": "stderr",
     "output_type": "stream",
     "text": [
      "2020-10-28 21:38:32,946\tWARNING worker.py:1090 -- WARNING: 10 PYTHON workers have been started. This could be a result of using a large number of actors, or it could be a consequence of using nested tasks (see https://github.com/ray-project/ray/issues/3644) for some a discussion of workarounds.\n"
     ]
    },
    {
     "name": "stdout",
     "output_type": "stream",
     "text": [
      "\u001b[2m\u001b[36m(pid=34545)\u001b[0m basinhopping step 1: f 1.19509e+11 trial_f 4.83434e+11 accepted 0  lowest_f 1.19509e+11\n",
      "\u001b[2m\u001b[36m(pid=34493)\u001b[0m warning: basinhopping: local minimization failure\n",
      "\u001b[2m\u001b[36m(pid=34493)\u001b[0m basinhopping step 1: f 1.10563e+09 trial_f 8.56309e+15 accepted 0  lowest_f 1.10563e+09\n",
      "\u001b[2m\u001b[36m(pid=34395)\u001b[0m warning: basinhopping: local minimization failure\n",
      "\u001b[2m\u001b[36m(pid=34395)\u001b[0m basinhopping step 9: f 5.29629e+09 trial_f 6.51245e+09 accepted 0  lowest_f 5.29629e+09\n",
      "\u001b[2m\u001b[36m(pid=34532)\u001b[0m basinhopping step 2: f 4.91317e+12 trial_f 4.91317e+12 accepted 1  lowest_f 4.91317e+12\n",
      "\u001b[2m\u001b[36m(pid=34532)\u001b[0m found new global minimum on step 2 with function value 4.91317e+12\n",
      "\u001b[2m\u001b[36m(pid=34493)\u001b[0m basinhopping step 2: f 1.00271e+09 trial_f 1.00271e+09 accepted 1  lowest_f 1.00271e+09\n",
      "\u001b[2m\u001b[36m(pid=34493)\u001b[0m found new global minimum on step 2 with function value 1.00271e+09\n",
      "\u001b[2m\u001b[36m(pid=34395)\u001b[0m basinhopping step 10: f 4.47402e+09 trial_f 4.47402e+09 accepted 1  lowest_f 4.47402e+09\n",
      "\u001b[2m\u001b[36m(pid=34395)\u001b[0m found new global minimum on step 10 with function value 4.47402e+09\n"
     ]
    },
    {
     "name": "stderr",
     "output_type": "stream",
     "text": [
      "2020-10-28 21:38:41,598\tWARNING worker.py:1090 -- WARNING: 10 PYTHON workers have been started. This could be a result of using a large number of actors, or it could be a consequence of using nested tasks (see https://github.com/ray-project/ray/issues/3644) for some a discussion of workarounds.\n"
     ]
    },
    {
     "name": "stdout",
     "output_type": "stream",
     "text": [
      "\u001b[2m\u001b[36m(pid=34545)\u001b[0m basinhopping step 2: f 1.19509e+11 trial_f 4.10191e+13 accepted 0  lowest_f 1.19509e+11\n"
     ]
    }
   ],
   "source": [
    "optimal=ray.get(optimal)\n"
   ]
  },
  {
   "cell_type": "code",
   "execution_count": null,
   "metadata": {},
   "outputs": [],
   "source": [
    "for i in range(0,len(countries)):    \n",
    "\n",
    "    country=countries[i]\n",
    "    query = dfparam.query('country == \"{}\"'.format(country)).reset_index()\n",
    "    parameters = np.array(query.iloc[:, 2:])[0]\n",
    "    startdate,predict_range,s0,e0,a0,i0,r0,d0,startNCases,wcases,wrec = parameters\n",
    "    Date = datetime.strptime(startdate, \"%m/%d/%y\")\n",
    "    end_date = Date + timedelta(days=+int(optimal[i][1]))\n",
    "    dateStr=end_date.strftime(\"%m/%d/%y\")\n",
    "\n",
    "    j = query['index'].values[0]\n",
    "    dfparam.at[j, \"s0\"] = optimal[i][0]\n",
    "    dfparam.at[j, \"start-date\"] = dateStr\n",
    "    dfparam.at[j, \"i0\"] = optimal[i][2]\n",
    "    dfparam.at[j, \"WCASES\"] = optimal[i][3]\n",
    "    dfparam.at[j, \"WREC\"] = optimal[i][4]\n",
    "\n",
    "    dfparam.to_csv(\"data/param_optimized_Yabox.csv\", sep=\",\", index=False)\n",
    "    dfparam\n",
    "    "
   ]
  },
  {
   "cell_type": "code",
   "execution_count": null,
   "metadata": {},
   "outputs": [],
   "source": []
  },
  {
   "cell_type": "code",
   "execution_count": null,
   "metadata": {},
   "outputs": [],
   "source": []
  },
  {
   "cell_type": "code",
   "execution_count": null,
   "metadata": {},
   "outputs": [],
   "source": []
  },
  {
   "cell_type": "code",
   "execution_count": null,
   "metadata": {},
   "outputs": [],
   "source": []
  }
 ],
 "metadata": {
  "celltoolbar": "Edit Metadata",
  "kernelspec": {
   "display_name": "geo_env",
   "language": "python",
   "name": "geo_env"
  },
  "language_info": {
   "codemirror_mode": {
    "name": "ipython",
    "version": 3
   },
   "file_extension": ".py",
   "mimetype": "text/x-python",
   "name": "python",
   "nbconvert_exporter": "python",
   "pygments_lexer": "ipython3",
   "version": "3.6.10"
  }
 },
 "nbformat": 4,
 "nbformat_minor": 4
}
