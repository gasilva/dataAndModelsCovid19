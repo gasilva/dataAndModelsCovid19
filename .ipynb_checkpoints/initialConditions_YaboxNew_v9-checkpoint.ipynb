{
 "cells": [
  {
   "cell_type": "markdown",
   "metadata": {},
   "source": [
    "# Optimize Initial Conditions\n",
    "## Yabox"
   ]
  },
  {
   "cell_type": "code",
   "execution_count": 1,
   "metadata": {},
   "outputs": [],
   "source": [
    "import numpy as np\n",
    "from datetime import datetime,timedelta\n",
    "import pandas as pd\n",
    "from yabox import DE"
   ]
  },
  {
   "cell_type": "markdown",
   "metadata": {},
   "source": [
    "# Initialize Ray"
   ]
  },
  {
   "cell_type": "code",
   "execution_count": 2,
   "metadata": {
    "tags": []
   },
   "outputs": [
    {
     "name": "stderr",
     "output_type": "stream",
     "text": [
      "2020-10-29 15:17:00,893\tINFO resource_spec.py:212 -- Starting Ray with 219.97 GiB memory available for workers and up to 1.0 GiB for objects. You can adjust these settings with ray.init(memory=<bytes>, object_store_memory=<bytes>).\n",
      "2020-10-29 15:17:01,206\tINFO services.py:1170 -- View the Ray dashboard at \u001b[1m\u001b[32mlocalhost:8266\u001b[39m\u001b[22m\n"
     ]
    },
    {
     "data": {
      "text/plain": [
       "ObjectID(45b95b1c8bd3a9c4ffffffff010000c801000000)"
      ]
     },
     "execution_count": 2,
     "metadata": {},
     "output_type": "execute_result"
    }
   ],
   "source": [
    "from environs import Env\n",
    "env = Env()\n",
    "env.str(\"CUDA_DEVICE_ORDER\",'PCI_BUS_ID')\n",
    "env.int(\"CUDA_VISIBLE_DEVICES\",1)\n",
    "env.int(\"NUMBA_ENABLE_CUDASIM\",1)\n",
    "env.bool(\"OMPI_MCA_opal_cuda_support\",True)\n",
    "\n",
    "import os\n",
    "import ray\n",
    "MB=1024*1024\n",
    "GB=MB*1024\n",
    "ray.shutdown()\n",
    "ray.init(object_store_memory=1*GB,memory=220*GB,\n",
    "         lru_evict=True,\n",
    "         driver_object_store_memory=500*MB,num_gpus=5,num_cpus=1,\n",
    "         ignore_reinit_error=True) # , include_webui=False)\n",
    "\n",
    "@ray.remote(num_gpus=1)\n",
    "def use_gpu():\n",
    "    print(\"ray.get_gpu_ids(): {}\".format(ray.get_gpu_ids()[0]))\n",
    "    print(\"CUDA_VISIBLE_DEVICES: {}\".format(os.environ[\"CUDA_VISIBLE_DEVICES\"]))\n",
    "\n",
    "use_gpu.remote()"
   ]
  },
  {
   "cell_type": "markdown",
   "metadata": {},
   "source": [
    "# Load New and Process Data from website data.brasil.io"
   ]
  },
  {
   "cell_type": "code",
   "execution_count": 3,
   "metadata": {
    "tags": []
   },
   "outputs": [
    {
     "name": "stdout",
     "output_type": "stream",
     "text": [
      "\u001b[2m\u001b[36m(pid=33996)\u001b[0m ray.get_gpu_ids(): 4\n",
      "\u001b[2m\u001b[36m(pid=33996)\u001b[0m CUDA_VISIBLE_DEVICES: 4\n"
     ]
    }
   ],
   "source": [
    "%reload_ext autoreload\n",
    "%autoreload 2\n",
    "import get_data\n",
    "LoadData=True\n",
    "\n",
    "if LoadData:\n",
    "    get_data.get_data()"
   ]
  },
  {
   "cell_type": "markdown",
   "metadata": {},
   "source": [
    "# Functions to Load Processed Data"
   ]
  },
  {
   "cell_type": "code",
   "execution_count": 4,
   "metadata": {},
   "outputs": [],
   "source": [
    "def load_confirmed(country,start_date=None,end_date=None):\n",
    "    df = pd.read_csv('data/time_series_19-covid-Confirmed-country.csv')\n",
    "    country_df = df[df['Country/Region'] == country]\n",
    "    if start_date==None:\n",
    "        return country_df.iloc[0]\n",
    "    else: \n",
    "        return country_df.iloc[0].loc[start_date:end_date]\n",
    "\n",
    "def load_recovered(country,start_date=None,end_date=None):\n",
    "    df = pd.read_csv('data/time_series_19-covid-Recovered-country.csv')\n",
    "    country_df = df[df['Country/Region'] == country]\n",
    "    if start_date==None:\n",
    "        return country_df.iloc[0]\n",
    "    else: \n",
    "        return country_df.iloc[0].loc[start_date:end_date]\n",
    "\n",
    "def load_dead(country,start_date=None,end_date=None):\n",
    "    df = pd.read_csv('data/time_series_19-covid-Deaths-country.csv')\n",
    "    country_df = df[df['Country/Region'] == country]\n",
    "    if start_date==None:\n",
    "        return country_df.iloc[0]\n",
    "    else: \n",
    "        return country_df.iloc[0].loc[start_date:end_date]"
   ]
  },
  {
   "cell_type": "markdown",
   "metadata": {},
   "source": [
    "# Load solver"
   ]
  },
  {
   "cell_type": "code",
   "execution_count": 5,
   "metadata": {},
   "outputs": [],
   "source": [
    "%reload_ext autoreload\n",
    "%autoreload 2\n",
    "import LearnerICRayNoLoadBH_v4NewModel as L "
   ]
  },
  {
   "cell_type": "markdown",
   "metadata": {},
   "source": [
    "# Data for Countries"
   ]
  },
  {
   "cell_type": "code",
   "execution_count": 6,
   "metadata": {},
   "outputs": [
    {
     "data": {
      "text/html": [
       "<div>\n",
       "<style scoped>\n",
       "    .dataframe tbody tr th:only-of-type {\n",
       "        vertical-align: middle;\n",
       "    }\n",
       "\n",
       "    .dataframe tbody tr th {\n",
       "        vertical-align: top;\n",
       "    }\n",
       "\n",
       "    .dataframe thead th {\n",
       "        text-align: right;\n",
       "    }\n",
       "</style>\n",
       "<table border=\"1\" class=\"dataframe\">\n",
       "  <thead>\n",
       "    <tr style=\"text-align: right;\">\n",
       "      <th></th>\n",
       "      <th>country</th>\n",
       "      <th>start-date</th>\n",
       "      <th>prediction-range</th>\n",
       "      <th>s0</th>\n",
       "      <th>e0</th>\n",
       "      <th>a0</th>\n",
       "      <th>i0</th>\n",
       "      <th>r0</th>\n",
       "      <th>d0</th>\n",
       "      <th>START</th>\n",
       "      <th>WCASES</th>\n",
       "      <th>WREC</th>\n",
       "      <th>WDTH</th>\n",
       "      <th>popTotal</th>\n",
       "    </tr>\n",
       "  </thead>\n",
       "  <tbody>\n",
       "    <tr>\n",
       "      <th>0</th>\n",
       "      <td>Brazil</td>\n",
       "      <td>3/2/20</td>\n",
       "      <td>200</td>\n",
       "      <td>2.125594e+08</td>\n",
       "      <td>0.0001</td>\n",
       "      <td>0.0001</td>\n",
       "      <td>200</td>\n",
       "      <td>100</td>\n",
       "      <td>50</td>\n",
       "      <td>50</td>\n",
       "      <td>0.15</td>\n",
       "      <td>0.05</td>\n",
       "      <td>0.8</td>\n",
       "      <td>2.125594e+08</td>\n",
       "    </tr>\n",
       "    <tr>\n",
       "      <th>1</th>\n",
       "      <td>China</td>\n",
       "      <td>1/28/20</td>\n",
       "      <td>200</td>\n",
       "      <td>1.439324e+09</td>\n",
       "      <td>0.0001</td>\n",
       "      <td>0.0001</td>\n",
       "      <td>200</td>\n",
       "      <td>100</td>\n",
       "      <td>50</td>\n",
       "      <td>50</td>\n",
       "      <td>0.15</td>\n",
       "      <td>0.05</td>\n",
       "      <td>0.8</td>\n",
       "      <td>1.439324e+09</td>\n",
       "    </tr>\n",
       "    <tr>\n",
       "      <th>2</th>\n",
       "      <td>Italy</td>\n",
       "      <td>2/28/20</td>\n",
       "      <td>200</td>\n",
       "      <td>6.046183e+07</td>\n",
       "      <td>0.0001</td>\n",
       "      <td>0.0001</td>\n",
       "      <td>200</td>\n",
       "      <td>100</td>\n",
       "      <td>50</td>\n",
       "      <td>50</td>\n",
       "      <td>0.15</td>\n",
       "      <td>0.05</td>\n",
       "      <td>0.8</td>\n",
       "      <td>6.046183e+07</td>\n",
       "    </tr>\n",
       "    <tr>\n",
       "      <th>3</th>\n",
       "      <td>US</td>\n",
       "      <td>2/20/20</td>\n",
       "      <td>200</td>\n",
       "      <td>3.310026e+08</td>\n",
       "      <td>0.0001</td>\n",
       "      <td>0.0001</td>\n",
       "      <td>200</td>\n",
       "      <td>100</td>\n",
       "      <td>50</td>\n",
       "      <td>50</td>\n",
       "      <td>0.15</td>\n",
       "      <td>0.05</td>\n",
       "      <td>0.8</td>\n",
       "      <td>3.310026e+08</td>\n",
       "    </tr>\n",
       "    <tr>\n",
       "      <th>4</th>\n",
       "      <td>India</td>\n",
       "      <td>3/10/20</td>\n",
       "      <td>200</td>\n",
       "      <td>1.380004e+09</td>\n",
       "      <td>0.0001</td>\n",
       "      <td>0.0001</td>\n",
       "      <td>200</td>\n",
       "      <td>100</td>\n",
       "      <td>50</td>\n",
       "      <td>50</td>\n",
       "      <td>0.15</td>\n",
       "      <td>0.05</td>\n",
       "      <td>0.8</td>\n",
       "      <td>1.380004e+09</td>\n",
       "    </tr>\n",
       "  </tbody>\n",
       "</table>\n",
       "</div>"
      ],
      "text/plain": [
       "  country start-date  prediction-range            s0      e0      a0   i0  \\\n",
       "0  Brazil     3/2/20               200  2.125594e+08  0.0001  0.0001  200   \n",
       "1   China    1/28/20               200  1.439324e+09  0.0001  0.0001  200   \n",
       "2   Italy    2/28/20               200  6.046183e+07  0.0001  0.0001  200   \n",
       "3      US    2/20/20               200  3.310026e+08  0.0001  0.0001  200   \n",
       "4   India    3/10/20               200  1.380004e+09  0.0001  0.0001  200   \n",
       "\n",
       "    r0  d0  START  WCASES  WREC  WDTH      popTotal  \n",
       "0  100  50     50    0.15  0.05   0.8  2.125594e+08  \n",
       "1  100  50     50    0.15  0.05   0.8  1.439324e+09  \n",
       "2  100  50     50    0.15  0.05   0.8  6.046183e+07  \n",
       "3  100  50     50    0.15  0.05   0.8  3.310026e+08  \n",
       "4  100  50     50    0.15  0.05   0.8  1.380004e+09  "
      ]
     },
     "metadata": {},
     "output_type": "display_data"
    }
   ],
   "source": [
    "dfparam = pd.read_csv(\"data/param.csv\")\n",
    "countries=dfparam.country\n",
    "popEst = pd.read_csv(\"data/WPP2019_TotalPopulationBySex.csv\")\n",
    "popEst['popTotal']=pd.to_numeric(popEst.PopTotal, errors='coerce')\n",
    "\n",
    "for country in countries:\n",
    "    if country==\"US\":\n",
    "        country2=\"United States of America\"    \n",
    "    else:\n",
    "        country2=country\n",
    "    dfparam.loc[dfparam.country==country,'popTotal']=popEst.loc[popEst.Location==country2].loc[popEst.Time==2020].iloc[0,8]*1000\n",
    "    dfparam.loc[dfparam.country==country,'s0']=popEst.loc[popEst.Location==country2].loc[popEst.Time==2020].iloc[0,8]*1000\n",
    "    \n",
    "display(dfparam)\n",
    "    "
   ]
  },
  {
   "cell_type": "markdown",
   "metadata": {},
   "source": [
    "# Functions for Optimization"
   ]
  },
  {
   "cell_type": "code",
   "execution_count": 7,
   "metadata": {},
   "outputs": [],
   "source": [
    "from scipy.integrate import odeint\n",
    "import sys\n",
    "import io\n",
    "import gc\n",
    "\n",
    "def create_f(country,e0,a0,date, end_dateFirstWave, predict_range, version):\n",
    "                \n",
    "    def fobjective(point):\n",
    "        \n",
    "        dead=  load_dead(country,date, end_dateFirstWave)\n",
    "        recovered = load_recovered(country,date, end_dateFirstWave)\n",
    "        data = load_confirmed(country,date, end_dateFirstWave)-recovered-dead\n",
    "        cleanRecovered=False\n",
    "        s0, deltaDate, i0, d0, r0, startNCases  = point\n",
    "        end_date=datetime.strptime(date, \"%m/%d/%y\") + timedelta(days=deltaDate)\n",
    "        f=L.Learner.remote(country, end_date.strftime(\"%m/%d/%y\"), predict_range,\\\n",
    "                           s0, e0, a0, i0, r0, d0, startNCases, \\\n",
    "                           cleanRecovered, version, data, dead, recovered, savedata=False)\n",
    "        result = f.train.remote() \n",
    "        result = ray.get(result) \n",
    "\n",
    "        del end_date,cleanRecovered, data, dead, point,f         \n",
    "\n",
    "        gc.collect()\n",
    "\n",
    "        return result\n",
    "    return fobjective"
   ]
  },
  {
   "cell_type": "code",
   "execution_count": 8,
   "metadata": {},
   "outputs": [],
   "source": [
    "@ray.remote(memory=50 * 1024 * 1024, max_calls=1)\n",
    "def opt(country,s0,i0,e0,a0,r0,d0,date,end_date,startNCases, \n",
    "        predict_range, version):\n",
    "\n",
    "    bounds=[(5e3,s0),(-2,2),(0,250), (0,250),(0,250),(0,250)]\n",
    "    maxiterations=500\n",
    "    f=create_f(country,e0,a0,date,end_date, predict_range, version)\n",
    "    de = DE(f, bounds, maxiters=maxiterations)\n",
    "    for step in de.geniterator():\n",
    "        try:\n",
    "            idx = step.best_idx\n",
    "            norm_vector = step.population[idx]\n",
    "            best_params = de.denormalize([norm_vector])\n",
    "            del norm_vector, idx\n",
    "        except:\n",
    "            print(\"error in function evaluation\")\n",
    "    p=best_params[0]\n",
    "    del f, bounds, data, dead,best_params\n",
    "    \n",
    "    return p"
   ]
  },
  {
   "cell_type": "markdown",
   "metadata": {},
   "source": [
    "# Main Code"
   ]
  },
  {
   "cell_type": "code",
   "execution_count": 9,
   "metadata": {},
   "outputs": [
    {
     "data": {
      "application/javascript": [
       "IPython.OutputArea.prototype._should_scroll = function(lines){\n",
       "    return true;}\n"
      ],
      "text/plain": [
       "<IPython.core.display.Javascript object>"
      ]
     },
     "metadata": {},
     "output_type": "display_data"
    }
   ],
   "source": [
    "%%javascript\n",
    "IPython.OutputArea.prototype._should_scroll = function(lines){\n",
    "    return true;}"
   ]
  },
  {
   "cell_type": "code",
   "execution_count": 10,
   "metadata": {
    "tags": []
   },
   "outputs": [
    {
     "data": {
      "text/plain": [
       "0    Brazil\n",
       "1     China\n",
       "2     Italy\n",
       "3        US\n",
       "4     India\n",
       "Name: country, dtype: object"
      ]
     },
     "metadata": {},
     "output_type": "display_data"
    }
   ],
   "source": [
    "countries=dfparam.country\n",
    "display(countries)\n",
    "version=\"015\"\n",
    "gc.enable()\n",
    "firstWave=['10/1/20','6/1/20','8/1/20','10/25/20','10/25/20']\n",
    "\n",
    "optimal=[]\n",
    "i=0\n",
    "\n",
    "for country in countries:\n",
    "    #remove previous history file\n",
    "    strFile='./results/history_'+country+version+'.csv'\n",
    "    if os.path.isfile(strFile):\n",
    "        os.remove(strFile)\n",
    "    query = dfparam.query('country == \"{}\"'.format(country)).reset_index()\n",
    "    parameters = np.array(query.iloc[:, 2:])[0]\n",
    "    endDate = datetime.strptime(firstWave[i], '%m/%d/%y')\n",
    "    end_date= datetime.strftime(endDate, '%-m/%-d/%y')\n",
    "    date,predict_range,s0,e0,a0,i0,r0,d0,startNCases,wcases,wrec,wdth, pop = parameters\n",
    "    optimal.append(opt.remote(country,s0,i0,e0,a0,r0,d0,date,end_date,startNCases, \n",
    "                                        predict_range, version)) \n",
    "    i+=1        "
   ]
  },
  {
   "cell_type": "code",
   "execution_count": 11,
   "metadata": {
    "tags": [
     "outputPrepend"
    ]
   },
   "outputs": [
    {
     "ename": "RayTaskError(TypeError)",
     "evalue": "\u001b[36mray::__main__.opt()\u001b[39m (pid=33996, ip=192.168.0.104)\n  File \"/home/ats4i/anaconda3/envs/geo_env/lib/python3.6/inspect.py\", line 2997, in bind\n    return args[0]._bind(args[1:], kwargs)\n  File \"/home/ats4i/anaconda3/envs/geo_env/lib/python3.6/inspect.py\", line 2912, in _bind\n    raise TypeError(msg) from None\nTypeError: missing a required argument: 'data'\n\nDuring handling of the above exception, another exception occurred:\n\n\u001b[36mray::__main__.opt()\u001b[39m (pid=33996, ip=192.168.0.104)\n  File \"python/ray/_raylet.pyx\", line 459, in ray._raylet.execute_task\n  File \"python/ray/_raylet.pyx\", line 462, in ray._raylet.execute_task\n  File \"python/ray/_raylet.pyx\", line 463, in ray._raylet.execute_task\n  File \"<ipython-input-8-1ca64d264f44>\", line 9, in opt\n  File \"/home/ats4i/anaconda3/envs/geo_env/lib/python3.6/site-packages/yabox/algorithms/de.py\", line 170, in geniterator\n    it = self.iterator()\n  File \"/home/ats4i/anaconda3/envs/geo_env/lib/python3.6/site-packages/yabox/algorithms/de.py\", line 167, in iterator\n    return iter(DEIterator(self))\n  File \"/home/ats4i/anaconda3/envs/geo_env/lib/python3.6/site-packages/yabox/algorithms/de.py\", line 9, in __init__\n    self.fitness = de.evaluate(self.population)\n  File \"/home/ats4i/anaconda3/envs/geo_env/lib/python3.6/site-packages/yabox/algorithms/de.py\", line 161, in evaluate\n    return self.evaluate_denormalized(PD)\n  File \"/home/ats4i/anaconda3/envs/geo_env/lib/python3.6/site-packages/yabox/algorithms/de.py\", line 164, in evaluate_denormalized\n    return [self.fobj(ind) for ind in PD]\n  File \"/home/ats4i/anaconda3/envs/geo_env/lib/python3.6/site-packages/yabox/algorithms/de.py\", line 164, in <listcomp>\n    return [self.fobj(ind) for ind in PD]\n  File \"<ipython-input-7-54ddbc6977ff>\", line 18, in fobjective\n  File \"/home/ats4i/anaconda3/envs/geo_env/lib/python3.6/site-packages/ray/actor.py\", line 378, in remote\n    return self._remote(args=args, kwargs=kwargs)\n  File \"/home/ats4i/anaconda3/envs/geo_env/lib/python3.6/site-packages/ray/actor.py\", line 544, in _remote\n    kwargs)\n  File \"/home/ats4i/anaconda3/envs/geo_env/lib/python3.6/site-packages/ray/signature.py\", line 117, in flatten_args\n    raise TypeError(str(exc))\nTypeError: missing a required argument: 'data'",
     "output_type": "error",
     "traceback": [
      "\u001b[0;31m---------------------------------------------------------------------------\u001b[0m",
      "\u001b[0;31mRayTaskError(TypeError)\u001b[0m                   Traceback (most recent call last)",
      "\u001b[0;32m<ipython-input-11-65179efefafc>\u001b[0m in \u001b[0;36m<module>\u001b[0;34m\u001b[0m\n\u001b[0;32m----> 1\u001b[0;31m \u001b[0moptimal\u001b[0m\u001b[0;34m=\u001b[0m\u001b[0mray\u001b[0m\u001b[0;34m.\u001b[0m\u001b[0mget\u001b[0m\u001b[0;34m(\u001b[0m\u001b[0moptimal\u001b[0m\u001b[0;34m)\u001b[0m\u001b[0;34m\u001b[0m\u001b[0;34m\u001b[0m\u001b[0m\n\u001b[0m",
      "\u001b[0;32m~/anaconda3/envs/geo_env/lib/python3.6/site-packages/ray/worker.py\u001b[0m in \u001b[0;36mget\u001b[0;34m(object_ids, timeout)\u001b[0m\n\u001b[1;32m   1513\u001b[0m                     \u001b[0mworker\u001b[0m\u001b[0;34m.\u001b[0m\u001b[0mcore_worker\u001b[0m\u001b[0;34m.\u001b[0m\u001b[0mdump_object_store_memory_usage\u001b[0m\u001b[0;34m(\u001b[0m\u001b[0;34m)\u001b[0m\u001b[0;34m\u001b[0m\u001b[0;34m\u001b[0m\u001b[0m\n\u001b[1;32m   1514\u001b[0m                 \u001b[0;32mif\u001b[0m \u001b[0misinstance\u001b[0m\u001b[0;34m(\u001b[0m\u001b[0mvalue\u001b[0m\u001b[0;34m,\u001b[0m \u001b[0mRayTaskError\u001b[0m\u001b[0;34m)\u001b[0m\u001b[0;34m:\u001b[0m\u001b[0;34m\u001b[0m\u001b[0;34m\u001b[0m\u001b[0m\n\u001b[0;32m-> 1515\u001b[0;31m                     \u001b[0;32mraise\u001b[0m \u001b[0mvalue\u001b[0m\u001b[0;34m.\u001b[0m\u001b[0mas_instanceof_cause\u001b[0m\u001b[0;34m(\u001b[0m\u001b[0;34m)\u001b[0m\u001b[0;34m\u001b[0m\u001b[0;34m\u001b[0m\u001b[0m\n\u001b[0m\u001b[1;32m   1516\u001b[0m                 \u001b[0;32melse\u001b[0m\u001b[0;34m:\u001b[0m\u001b[0;34m\u001b[0m\u001b[0;34m\u001b[0m\u001b[0m\n\u001b[1;32m   1517\u001b[0m                     \u001b[0;32mraise\u001b[0m \u001b[0mvalue\u001b[0m\u001b[0;34m\u001b[0m\u001b[0;34m\u001b[0m\u001b[0m\n",
      "\u001b[0;31mRayTaskError(TypeError)\u001b[0m: \u001b[36mray::__main__.opt()\u001b[39m (pid=33996, ip=192.168.0.104)\n  File \"/home/ats4i/anaconda3/envs/geo_env/lib/python3.6/inspect.py\", line 2997, in bind\n    return args[0]._bind(args[1:], kwargs)\n  File \"/home/ats4i/anaconda3/envs/geo_env/lib/python3.6/inspect.py\", line 2912, in _bind\n    raise TypeError(msg) from None\nTypeError: missing a required argument: 'data'\n\nDuring handling of the above exception, another exception occurred:\n\n\u001b[36mray::__main__.opt()\u001b[39m (pid=33996, ip=192.168.0.104)\n  File \"python/ray/_raylet.pyx\", line 459, in ray._raylet.execute_task\n  File \"python/ray/_raylet.pyx\", line 462, in ray._raylet.execute_task\n  File \"python/ray/_raylet.pyx\", line 463, in ray._raylet.execute_task\n  File \"<ipython-input-8-1ca64d264f44>\", line 9, in opt\n  File \"/home/ats4i/anaconda3/envs/geo_env/lib/python3.6/site-packages/yabox/algorithms/de.py\", line 170, in geniterator\n    it = self.iterator()\n  File \"/home/ats4i/anaconda3/envs/geo_env/lib/python3.6/site-packages/yabox/algorithms/de.py\", line 167, in iterator\n    return iter(DEIterator(self))\n  File \"/home/ats4i/anaconda3/envs/geo_env/lib/python3.6/site-packages/yabox/algorithms/de.py\", line 9, in __init__\n    self.fitness = de.evaluate(self.population)\n  File \"/home/ats4i/anaconda3/envs/geo_env/lib/python3.6/site-packages/yabox/algorithms/de.py\", line 161, in evaluate\n    return self.evaluate_denormalized(PD)\n  File \"/home/ats4i/anaconda3/envs/geo_env/lib/python3.6/site-packages/yabox/algorithms/de.py\", line 164, in evaluate_denormalized\n    return [self.fobj(ind) for ind in PD]\n  File \"/home/ats4i/anaconda3/envs/geo_env/lib/python3.6/site-packages/yabox/algorithms/de.py\", line 164, in <listcomp>\n    return [self.fobj(ind) for ind in PD]\n  File \"<ipython-input-7-54ddbc6977ff>\", line 18, in fobjective\n  File \"/home/ats4i/anaconda3/envs/geo_env/lib/python3.6/site-packages/ray/actor.py\", line 378, in remote\n    return self._remote(args=args, kwargs=kwargs)\n  File \"/home/ats4i/anaconda3/envs/geo_env/lib/python3.6/site-packages/ray/actor.py\", line 544, in _remote\n    kwargs)\n  File \"/home/ats4i/anaconda3/envs/geo_env/lib/python3.6/site-packages/ray/signature.py\", line 117, in flatten_args\n    raise TypeError(str(exc))\nTypeError: missing a required argument: 'data'"
     ]
    }
   ],
   "source": [
    "optimal=ray.get(optimal)\n"
   ]
  },
  {
   "cell_type": "code",
   "execution_count": null,
   "metadata": {},
   "outputs": [],
   "source": [
    "for i in range(0,len(countries)):    \n",
    "\n",
    "    country=countries[i]\n",
    "    query = dfparam.query('country == \"{}\"'.format(country)).reset_index()\n",
    "    parameters = np.array(query.iloc[:, 2:])[0]\n",
    "    startdate,predict_range,s0,e0,a0,i0,r0,d0,startNCases,wcases,wrec = parameters\n",
    "    Date = datetime.strptime(startdate, \"%m/%d/%y\")\n",
    "    end_date = Date + timedelta(days=+int(optimal[i][1]))\n",
    "    dateStr=end_date.strftime(\"%m/%d/%y\")\n",
    "\n",
    "    j = query['index'].values[0]\n",
    "    dfparam.at[j, \"s0\"] = optimal[i][0]\n",
    "    dfparam.at[j, \"start-date\"] = dateStr\n",
    "    dfparam.at[j, \"i0\"] = optimal[i][2]\n",
    "    dfparam.at[j, \"WCASES\"] = optimal[i][3]\n",
    "    dfparam.at[j, \"WREC\"] = optimal[i][4]\n",
    "\n",
    "    dfparam.to_csv(\"data/param_optimized_Yabox.csv\", sep=\",\", index=False)\n",
    "    dfparam\n",
    "    "
   ]
  },
  {
   "cell_type": "code",
   "execution_count": null,
   "metadata": {},
   "outputs": [],
   "source": []
  },
  {
   "cell_type": "code",
   "execution_count": null,
   "metadata": {},
   "outputs": [],
   "source": []
  },
  {
   "cell_type": "code",
   "execution_count": null,
   "metadata": {},
   "outputs": [],
   "source": []
  },
  {
   "cell_type": "code",
   "execution_count": null,
   "metadata": {},
   "outputs": [],
   "source": []
  }
 ],
 "metadata": {
  "celltoolbar": "Edit Metadata",
  "kernelspec": {
   "display_name": "geo_env",
   "language": "python",
   "name": "geo_env"
  },
  "language_info": {
   "codemirror_mode": {
    "name": "ipython",
    "version": 3
   },
   "file_extension": ".py",
   "mimetype": "text/x-python",
   "name": "python",
   "nbconvert_exporter": "python",
   "pygments_lexer": "ipython3",
   "version": "3.6.10"
  }
 },
 "nbformat": 4,
 "nbformat_minor": 4
}
