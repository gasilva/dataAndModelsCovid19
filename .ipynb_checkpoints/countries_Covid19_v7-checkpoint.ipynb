version https://git-lfs.github.com/spec/v1
oid sha256:70ca2f3331d89619ba7be9268435c0ec660a1f9d3c56175cee76b487901758dd
size 1399525
