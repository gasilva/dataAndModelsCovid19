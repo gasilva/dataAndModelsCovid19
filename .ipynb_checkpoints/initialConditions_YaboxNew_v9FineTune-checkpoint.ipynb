{
 "cells": [
  {
   "cell_type": "markdown",
   "metadata": {},
   "source": [
    "# Optimize Initial Conditions\n",
    "## Yabox"
   ]
  },
  {
   "cell_type": "code",
   "execution_count": 1,
   "metadata": {},
   "outputs": [],
   "source": [
    "import numpy as np\n",
    "from datetime import datetime,timedelta,date\n",
    "import pandas as pd\n",
    "from scipy.optimize import basinhopping"
   ]
  },
  {
   "cell_type": "markdown",
   "metadata": {},
   "source": [
    "# Initialize Ray"
   ]
  },
  {
   "cell_type": "code",
   "execution_count": 2,
   "metadata": {
    "tags": []
   },
   "outputs": [
    {
     "name": "stderr",
     "output_type": "stream",
     "text": [
      "2020-11-05 14:40:48,633\tINFO resource_spec.py:212 -- Starting Ray with 219.97 GiB memory available for workers and up to 1.0 GiB for objects. You can adjust these settings with ray.init(memory=<bytes>, object_store_memory=<bytes>).\n",
      "2020-11-05 14:40:49,071\tINFO services.py:1170 -- View the Ray dashboard at \u001b[1m\u001b[32mlocalhost:8267\u001b[39m\u001b[22m\n"
     ]
    },
    {
     "data": {
      "text/plain": [
       "ObjectID(45b95b1c8bd3a9c4ffffffff010000c801000000)"
      ]
     },
     "execution_count": 2,
     "metadata": {},
     "output_type": "execute_result"
    }
   ],
   "source": [
    "from environs import Env\n",
    "env = Env()\n",
    "env.str(\"CUDA_DEVICE_ORDER\",'PCI_BUS_ID')\n",
    "env.int(\"CUDA_VISIBLE_DEVICES\",1)\n",
    "env.int(\"NUMBA_ENABLE_CUDASIM\",1)\n",
    "env.bool(\"OMPI_MCA_opal_cuda_support\",True)\n",
    "\n",
    "import os\n",
    "import ray\n",
    "MB=1024*1024\n",
    "GB=MB*1024\n",
    "ray.shutdown()\n",
    "ray.init(object_store_memory=1*GB,memory=220*GB,\n",
    "         lru_evict=True,\n",
    "         driver_object_store_memory=500*MB,num_gpus=5,num_cpus=1,\n",
    "         ignore_reinit_error=True) # , include_webui=False)\n",
    "\n",
    "@ray.remote(num_gpus=1)\n",
    "def use_gpu():\n",
    "    print(\"ray.get_gpu_ids(): {}\".format(ray.get_gpu_ids()[0]))\n",
    "    print(\"CUDA_VISIBLE_DEVICES: {}\".format(os.environ[\"CUDA_VISIBLE_DEVICES\"]))\n",
    "\n",
    "use_gpu.remote()"
   ]
  },
  {
   "cell_type": "markdown",
   "metadata": {},
   "source": [
    "# Load New and Process Data from website data.brasil.io"
   ]
  },
  {
   "cell_type": "code",
   "execution_count": 3,
   "metadata": {
    "tags": []
   },
   "outputs": [
    {
     "name": "stdout",
     "output_type": "stream",
     "text": [
      "\u001b[2m\u001b[36m(pid=17506)\u001b[0m ray.get_gpu_ids(): 4\n",
      "\u001b[2m\u001b[36m(pid=17506)\u001b[0m CUDA_VISIBLE_DEVICES: 4\n"
     ]
    }
   ],
   "source": [
    "%reload_ext autoreload\n",
    "%autoreload 2\n",
    "import get_data\n",
    "LoadData=True\n",
    "\n",
    "if LoadData:\n",
    "    get_data.get_data()"
   ]
  },
  {
   "cell_type": "markdown",
   "metadata": {},
   "source": [
    "# Functions to Load Processed Data"
   ]
  },
  {
   "cell_type": "code",
   "execution_count": 4,
   "metadata": {},
   "outputs": [],
   "source": [
    "def load_confirmed(country,start_date=None,end_date=None):\n",
    "    df = pd.read_csv('data/time_series_19-covid-Confirmed-country.csv')\n",
    "    country_df = df[df['Country/Region'] == country]\n",
    "    if start_date==None:\n",
    "        return country_df.iloc[0]\n",
    "    else: \n",
    "        return country_df.iloc[0].loc[start_date:end_date]\n",
    "\n",
    "def load_recovered(country,start_date=None,end_date=None):\n",
    "    df = pd.read_csv('data/time_series_19-covid-Recovered-country.csv')\n",
    "    country_df = df[df['Country/Region'] == country]\n",
    "    if start_date==None:\n",
    "        return country_df.iloc[0]\n",
    "    else: \n",
    "        return country_df.iloc[0].loc[start_date:end_date]\n",
    "\n",
    "def load_dead(country,start_date=None,end_date=None):\n",
    "    df = pd.read_csv('data/time_series_19-covid-Deaths-country.csv')\n",
    "    country_df = df[df['Country/Region'] == country]\n",
    "    if start_date==None:\n",
    "        return country_df.iloc[0]\n",
    "    else: \n",
    "        return country_df.iloc[0].loc[start_date:end_date]"
   ]
  },
  {
   "cell_type": "markdown",
   "metadata": {},
   "source": [
    "# Load solver"
   ]
  },
  {
   "cell_type": "code",
   "execution_count": 5,
   "metadata": {},
   "outputs": [],
   "source": [
    "%reload_ext autoreload\n",
    "%autoreload 2\n",
    "import LearnerICRayNoLoadBH_v3NewModel as L "
   ]
  },
  {
   "cell_type": "markdown",
   "metadata": {},
   "source": [
    "# Data for Countries"
   ]
  },
  {
   "cell_type": "code",
   "execution_count": 6,
   "metadata": {},
   "outputs": [
    {
     "data": {
      "text/html": [
       "<div>\n",
       "<style scoped>\n",
       "    .dataframe tbody tr th:only-of-type {\n",
       "        vertical-align: middle;\n",
       "    }\n",
       "\n",
       "    .dataframe tbody tr th {\n",
       "        vertical-align: top;\n",
       "    }\n",
       "\n",
       "    .dataframe thead th {\n",
       "        text-align: right;\n",
       "    }\n",
       "</style>\n",
       "<table border=\"1\" class=\"dataframe\">\n",
       "  <thead>\n",
       "    <tr style=\"text-align: right;\">\n",
       "      <th></th>\n",
       "      <th>country</th>\n",
       "      <th>start-date</th>\n",
       "      <th>prediction-range</th>\n",
       "      <th>s0</th>\n",
       "      <th>e0</th>\n",
       "      <th>a0</th>\n",
       "      <th>i0</th>\n",
       "      <th>r0</th>\n",
       "      <th>d0</th>\n",
       "      <th>START</th>\n",
       "      <th>WCASES</th>\n",
       "      <th>WREC</th>\n",
       "      <th>WDTH</th>\n",
       "      <th>popTotal</th>\n",
       "    </tr>\n",
       "  </thead>\n",
       "  <tbody>\n",
       "    <tr>\n",
       "      <th>0</th>\n",
       "      <td>Brazil</td>\n",
       "      <td>03/01/20</td>\n",
       "      <td>200</td>\n",
       "      <td>9088665</td>\n",
       "      <td>0.0</td>\n",
       "      <td>0.0</td>\n",
       "      <td>231</td>\n",
       "      <td>307</td>\n",
       "      <td>404</td>\n",
       "      <td>264</td>\n",
       "      <td>1.0</td>\n",
       "      <td>1.0</td>\n",
       "      <td>1.0</td>\n",
       "      <td>2.125594e+08</td>\n",
       "    </tr>\n",
       "    <tr>\n",
       "      <th>1</th>\n",
       "      <td>China</td>\n",
       "      <td>01/29/20</td>\n",
       "      <td>200</td>\n",
       "      <td>170883</td>\n",
       "      <td>0.0</td>\n",
       "      <td>0.0</td>\n",
       "      <td>365</td>\n",
       "      <td>162</td>\n",
       "      <td>56</td>\n",
       "      <td>372</td>\n",
       "      <td>1.0</td>\n",
       "      <td>1.0</td>\n",
       "      <td>1.0</td>\n",
       "      <td>1.439324e+09</td>\n",
       "    </tr>\n",
       "    <tr>\n",
       "      <th>2</th>\n",
       "      <td>Italy</td>\n",
       "      <td>02/27/20</td>\n",
       "      <td>200</td>\n",
       "      <td>486349</td>\n",
       "      <td>0.0</td>\n",
       "      <td>0.0</td>\n",
       "      <td>4</td>\n",
       "      <td>374</td>\n",
       "      <td>73</td>\n",
       "      <td>107</td>\n",
       "      <td>1.0</td>\n",
       "      <td>1.0</td>\n",
       "      <td>1.0</td>\n",
       "      <td>6.046183e+07</td>\n",
       "    </tr>\n",
       "    <tr>\n",
       "      <th>3</th>\n",
       "      <td>US</td>\n",
       "      <td>02/18/20</td>\n",
       "      <td>200</td>\n",
       "      <td>15342759</td>\n",
       "      <td>0.0</td>\n",
       "      <td>0.0</td>\n",
       "      <td>51</td>\n",
       "      <td>355</td>\n",
       "      <td>312</td>\n",
       "      <td>276</td>\n",
       "      <td>1.0</td>\n",
       "      <td>1.0</td>\n",
       "      <td>1.0</td>\n",
       "      <td>3.310026e+08</td>\n",
       "    </tr>\n",
       "    <tr>\n",
       "      <th>4</th>\n",
       "      <td>India</td>\n",
       "      <td>03/08/20</td>\n",
       "      <td>200</td>\n",
       "      <td>16760693</td>\n",
       "      <td>0.0</td>\n",
       "      <td>0.0</td>\n",
       "      <td>9</td>\n",
       "      <td>297</td>\n",
       "      <td>262</td>\n",
       "      <td>378</td>\n",
       "      <td>1.0</td>\n",
       "      <td>1.0</td>\n",
       "      <td>1.0</td>\n",
       "      <td>1.380004e+09</td>\n",
       "    </tr>\n",
       "  </tbody>\n",
       "</table>\n",
       "</div>"
      ],
      "text/plain": [
       "  country start-date  prediction-range        s0   e0   a0   i0   r0   d0  \\\n",
       "0  Brazil   03/01/20               200   9088665  0.0  0.0  231  307  404   \n",
       "1   China   01/29/20               200    170883  0.0  0.0  365  162   56   \n",
       "2   Italy   02/27/20               200    486349  0.0  0.0    4  374   73   \n",
       "3      US   02/18/20               200  15342759  0.0  0.0   51  355  312   \n",
       "4   India   03/08/20               200  16760693  0.0  0.0    9  297  262   \n",
       "\n",
       "   START  WCASES  WREC  WDTH      popTotal  \n",
       "0    264     1.0   1.0   1.0  2.125594e+08  \n",
       "1    372     1.0   1.0   1.0  1.439324e+09  \n",
       "2    107     1.0   1.0   1.0  6.046183e+07  \n",
       "3    276     1.0   1.0   1.0  3.310026e+08  \n",
       "4    378     1.0   1.0   1.0  1.380004e+09  "
      ]
     },
     "metadata": {},
     "output_type": "display_data"
    }
   ],
   "source": [
    "modelHist = \"YaboxAndBasinHopping\"\n",
    "dfparam = pd.read_csv(\"data/param_optimized_\"+modelHist+\"_HistMin.csv\")\n",
    "countries=dfparam.country\n",
    "popEst = pd.read_csv(\"data/WPP2019_TotalPopulationBySex.csv\")\n",
    "popEst['popTotal']=pd.to_numeric(popEst.PopTotal, errors='coerce')\n",
    "\n",
    "for country in countries:\n",
    "    if country==\"US\":\n",
    "        country2=\"United States of America\"    \n",
    "    else:\n",
    "        country2=country\n",
    "    dfparam.loc[dfparam.country==country,'popTotal']=popEst.loc[popEst.Location==country2].loc[popEst.Time==2020].iloc[0,8]*1000\n",
    "#     dfparam.loc[dfparam.country==country,'s0']=popEst.loc[popEst.Location==country2].loc[popEst.Time==2020].iloc[0,8]*1000\n",
    "    \n",
    "display(dfparam)\n",
    "    "
   ]
  },
  {
   "cell_type": "markdown",
   "metadata": {},
   "source": [
    "# Functions for Optimization"
   ]
  },
  {
   "cell_type": "code",
   "execution_count": 7,
   "metadata": {},
   "outputs": [],
   "source": [
    "from scipy.integrate import odeint\n",
    "import sys\n",
    "import io\n",
    "import gc\n",
    "\n",
    "def create_f(country,e0,a0,date, end_dateFirstWave, wcases, wrec, wdth, predict_range, version):\n",
    "                \n",
    "    def fobjective(point):\n",
    "        \n",
    "        dead=  load_dead(country,date, end_dateFirstWave)\n",
    "        recovered = load_recovered(country,date, end_dateFirstWave)\n",
    "        data = load_confirmed(country,date, end_dateFirstWave)-recovered-dead\n",
    "        cleanRecovered=False\n",
    "        s0, deltaDate, i0, d0, r0, startNCases  = point\n",
    "        end_date=datetime.strptime(date, \"%m/%d/%y\") + timedelta(days=deltaDate)\n",
    "        f=L.Learner.remote(country, end_date.strftime(\"%m/%d/%y\"), predict_range,\\\n",
    "                           s0, e0, a0, i0, r0, d0, startNCases, wcases, wrec, wdth,\\\n",
    "                           cleanRecovered, version, data, dead, recovered, savedata=False)\n",
    "        result = f.train.remote() \n",
    "        result = ray.get(result) \n",
    "\n",
    "        del end_date,cleanRecovered, data, dead, point,f         \n",
    "\n",
    "        gc.collect()\n",
    "\n",
    "        return result\n",
    "    return fobjective"
   ]
  },
  {
   "cell_type": "code",
   "execution_count": 8,
   "metadata": {},
   "outputs": [],
   "source": [
    "@ray.remote(memory=50 * 1024 * 1024, max_calls=1)\n",
    "def opt(country,s0,i0,e0,a0,r0,d0,date,end_date,startNCases, wcases, wrec, wdth,\n",
    "        predict_range, version):\n",
    "\n",
    "    bnds=[(s0/1.5,s0*1.5),(0,0),(i0/1.2,i0*1.2),(r0/1.2,r0*1.2),(d0/1.2,d0*1.2),(startNCases/1.2,startNCases*1.2)]\n",
    "    f=create_f(country,e0,a0,date,end_date, wcases, wrec, wdth, predict_range, version)\n",
    "    x0 = [s0, 0, i0,r0,d0,startNCases]\n",
    "    minimizer_kwargs = { \"method\": \"L-BFGS-B\",\"bounds\":bnds }\n",
    "    optimal = basinhopping(f, x0, minimizer_kwargs=minimizer_kwargs,niter=10,disp=True)  \n",
    "    del f, bnds, x0\n",
    "    \n",
    "    return optimal.x"
   ]
  },
  {
   "cell_type": "markdown",
   "metadata": {},
   "source": [
    "# Main Code"
   ]
  },
  {
   "cell_type": "code",
   "execution_count": 9,
   "metadata": {},
   "outputs": [
    {
     "data": {
      "application/javascript": [
       "IPython.OutputArea.prototype._should_scroll = function(lines){\n",
       "    return true;}\n"
      ],
      "text/plain": [
       "<IPython.core.display.Javascript object>"
      ]
     },
     "metadata": {},
     "output_type": "display_data"
    }
   ],
   "source": [
    "%%javascript\n",
    "IPython.OutputArea.prototype._should_scroll = function(lines){\n",
    "    return true;}"
   ]
  },
  {
   "cell_type": "code",
   "execution_count": 10,
   "metadata": {},
   "outputs": [],
   "source": [
    "flagFirstWave=True\n",
    "finalDate=date.today()+ timedelta(days=-1)\n",
    "finalDateStr= datetime.strftime(finalDate, '%-m/%-d/%y')\n",
    "\n",
    "if flagFirstWave:\n",
    "    #'10/1/20' Brazil\n",
    "    #'10/25/20' US, India\n",
    "    firstWave=[finalDateStr,'6/1/20','8/1/20',finalDateStr,finalDateStr]\n",
    "else:\n",
    "    firstWave=[finalDateStr,finalDateStr,finalDateStr,finalDateStr,finalDateStr]"
   ]
  },
  {
   "cell_type": "code",
   "execution_count": 11,
   "metadata": {
    "tags": []
   },
   "outputs": [
    {
     "data": {
      "text/plain": [
       "0    Brazil\n",
       "1     China\n",
       "2     Italy\n",
       "3        US\n",
       "4     India\n",
       "Name: country, dtype: object"
      ]
     },
     "metadata": {},
     "output_type": "display_data"
    }
   ],
   "source": [
    "countries=dfparam.country\n",
    "display(countries)\n",
    "version=\"114\"\n",
    "gc.enable()\n",
    "\n",
    "optimal=[]\n",
    "i=0\n",
    "\n",
    "for country in countries:\n",
    "    #remove previous history file\n",
    "    strFile='./results/history_'+country+version+'.csv'\n",
    "    if os.path.isfile(strFile):\n",
    "        os.remove(strFile)\n",
    "    query = dfparam.query('country == \"{}\"'.format(country)).reset_index()\n",
    "    parameters = np.array(query.iloc[:, 2:])[0]\n",
    "    endDate = datetime.strptime(firstWave[i], '%m/%d/%y')\n",
    "    end_dateStr= datetime.strftime(endDate, '%-m/%-d/%y')\n",
    "    date,predict_range,s0,e0,a0,i0,r0,d0,startNCases,wcases,wrec,wdth, pop = parameters\n",
    "    dateD = datetime.strptime(date, '%m/%d/%y')\n",
    "    dateStr= datetime.strftime(dateD, '%-m/%-d/%y')\n",
    "    optimal.append(opt.remote(country,s0,i0,e0,a0,r0,d0,dateStr,end_dateStr,startNCases, wcases, wrec, wdth,\n",
    "                                        predict_range, version)) \n",
    "    i+=1        "
   ]
  },
  {
   "cell_type": "code",
   "execution_count": null,
   "metadata": {
    "tags": [
     "outputPrepend"
    ]
   },
   "outputs": [
    {
     "name": "stderr",
     "output_type": "stream",
     "text": [
      "2020-11-05 14:40:51,659\tWARNING worker.py:1090 -- WARNING: 3 PYTHON workers have been started. This could be a result of using a large number of actors, or it could be a consequence of using nested tasks (see https://github.com/ray-project/ray/issues/3644) for some a discussion of workarounds.\n",
      "2020-11-05 14:40:52,632\tWARNING worker.py:1090 -- WARNING: 4 PYTHON workers have been started. This could be a result of using a large number of actors, or it could be a consequence of using nested tasks (see https://github.com/ray-project/ray/issues/3644) for some a discussion of workarounds.\n",
      "2020-11-05 14:40:53,021\tWARNING worker.py:1090 -- WARNING: 5 PYTHON workers have been started. This could be a result of using a large number of actors, or it could be a consequence of using nested tasks (see https://github.com/ray-project/ray/issues/3644) for some a discussion of workarounds.\n",
      "2020-11-05 14:40:53,973\tWARNING worker.py:1090 -- WARNING: 6 PYTHON workers have been started. This could be a result of using a large number of actors, or it could be a consequence of using nested tasks (see https://github.com/ray-project/ray/issues/3644) for some a discussion of workarounds.\n",
      "2020-11-05 14:40:54,399\tWARNING worker.py:1090 -- WARNING: 7 PYTHON workers have been started. This could be a result of using a large number of actors, or it could be a consequence of using nested tasks (see https://github.com/ray-project/ray/issues/3644) for some a discussion of workarounds.\n",
      "2020-11-05 14:40:55,363\tWARNING worker.py:1090 -- WARNING: 8 PYTHON workers have been started. This could be a result of using a large number of actors, or it could be a consequence of using nested tasks (see https://github.com/ray-project/ray/issues/3644) for some a discussion of workarounds.\n",
      "2020-11-05 14:40:55,790\tWARNING worker.py:1090 -- WARNING: 9 PYTHON workers have been started. This could be a result of using a large number of actors, or it could be a consequence of using nested tasks (see https://github.com/ray-project/ray/issues/3644) for some a discussion of workarounds.\n"
     ]
    },
    {
     "name": "stdout",
     "output_type": "stream",
     "text": [
      "\u001b[2m\u001b[36m(pid=17550)\u001b[0m basinhopping step 0: f 2.12927e+11\n"
     ]
    },
    {
     "name": "stderr",
     "output_type": "stream",
     "text": [
      "2020-11-05 14:40:56,763\tWARNING worker.py:1090 -- WARNING: 10 PYTHON workers have been started. This could be a result of using a large number of actors, or it could be a consequence of using nested tasks (see https://github.com/ray-project/ray/issues/3644) for some a discussion of workarounds.\n"
     ]
    },
    {
     "name": "stdout",
     "output_type": "stream",
     "text": [
      "\u001b[2m\u001b[36m(pid=17654)\u001b[0m basinhopping step 0: f 3.16061e+11\n",
      "\u001b[2m\u001b[36m(pid=17576)\u001b[0m basinhopping step 0: f 6.91445e+08\n",
      "\u001b[2m\u001b[36m(pid=17628)\u001b[0m basinhopping step 0: f 1.71494e+12\n",
      "\u001b[2m\u001b[36m(pid=17654)\u001b[0m basinhopping step 1: f 3.16061e+11 trial_f 7.53532e+12 accepted 0  lowest_f 3.16061e+11\n",
      "\u001b[2m\u001b[36m(pid=17550)\u001b[0m basinhopping step 1: f 2.12927e+11 trial_f 1.78907e+13 accepted 0  lowest_f 2.12927e+11\n",
      "\u001b[2m\u001b[36m(pid=17628)\u001b[0m basinhopping step 1: f 1.71494e+12 trial_f 4.3715e+13 accepted 0  lowest_f 1.71494e+12\n",
      "\u001b[2m\u001b[36m(pid=17576)\u001b[0m basinhopping step 1: f 5.15679e+08 trial_f 5.15679e+08 accepted 1  lowest_f 5.15679e+08\n",
      "\u001b[2m\u001b[36m(pid=17576)\u001b[0m found new global minimum on step 1 with function value 5.15679e+08\n",
      "\u001b[2m\u001b[36m(pid=17654)\u001b[0m basinhopping step 2: f 3.16061e+11 trial_f 6.82153e+12 accepted 0  lowest_f 3.16061e+11\n",
      "\u001b[2m\u001b[36m(pid=17602)\u001b[0m basinhopping step 0: f 5.92934e+08\n",
      "\u001b[2m\u001b[36m(pid=17654)\u001b[0m basinhopping step 3: f 3.16061e+11 trial_f 9.85118e+12 accepted 0  lowest_f 3.16061e+11\n",
      "\u001b[2m\u001b[36m(pid=17628)\u001b[0m basinhopping step 2: f 1.71494e+12 trial_f 4.92196e+13 accepted 0  lowest_f 1.71494e+12\n",
      "\u001b[2m\u001b[36m(pid=17654)\u001b[0m basinhopping step 4: f 3.16061e+11 trial_f 1.73152e+13 accepted 0  lowest_f 3.16061e+11\n",
      "\u001b[2m\u001b[36m(pid=17602)\u001b[0m basinhopping step 1: f 5.92934e+08 trial_f 3.33968e+10 accepted 0  lowest_f 5.92934e+08\n",
      "\u001b[2m\u001b[36m(pid=17576)\u001b[0m basinhopping step 2: f 5.15679e+08 trial_f 5.21806e+08 accepted 0  lowest_f 5.15679e+08\n",
      "\u001b[2m\u001b[36m(pid=17628)\u001b[0m basinhopping step 3: f 1.71494e+12 trial_f 1.05575e+13 accepted 0  lowest_f 1.71494e+12\n",
      "\u001b[2m\u001b[36m(pid=17628)\u001b[0m basinhopping step 4: f 1.71494e+12 trial_f 4.36922e+13 accepted 0  lowest_f 1.71494e+12\n",
      "\u001b[2m\u001b[36m(pid=17576)\u001b[0m basinhopping step 3: f 5.15679e+08 trial_f 6.90079e+08 accepted 0  lowest_f 5.15679e+08\n",
      "\u001b[2m\u001b[36m(pid=17550)\u001b[0m basinhopping step 2: f 2.12927e+11 trial_f 2.43926e+11 accepted 0  lowest_f 2.12927e+11\n",
      "\u001b[2m\u001b[36m(pid=17654)\u001b[0m basinhopping step 5: f 3.16061e+11 trial_f 5.37264e+12 accepted 0  lowest_f 3.16061e+11\n",
      "\u001b[2m\u001b[36m(pid=17628)\u001b[0m basinhopping step 5: f 1.71494e+12 trial_f 1.06429e+14 accepted 0  lowest_f 1.71494e+12\n",
      "\u001b[2m\u001b[36m(pid=17628)\u001b[0m basinhopping step 6: f 1.71494e+12 trial_f 2.42363e+14 accepted 0  lowest_f 1.71494e+12\n",
      "\u001b[2m\u001b[36m(pid=17576)\u001b[0m basinhopping step 4: f 5.15679e+08 trial_f 5.19266e+08 accepted 0  lowest_f 5.15679e+08\n",
      "\u001b[2m\u001b[36m(pid=17550)\u001b[0m basinhopping step 3: f 2.12927e+11 trial_f 7.87128e+12 accepted 0  lowest_f 2.12927e+11\n",
      "\u001b[2m\u001b[36m(pid=17550)\u001b[0m warning: basinhopping: local minimization failure\n",
      "\u001b[2m\u001b[36m(pid=17550)\u001b[0m basinhopping step 4: f 2.12927e+11 trial_f 6.54398e+12 accepted 0  lowest_f 2.12927e+11\n",
      "\u001b[2m\u001b[36m(pid=17654)\u001b[0m basinhopping step 6: f 3.16061e+11 trial_f 9.96323e+12 accepted 0  lowest_f 3.16061e+11\n",
      "\u001b[2m\u001b[36m(pid=17550)\u001b[0m basinhopping step 5: f 2.12927e+11 trial_f 2.90592e+13 accepted 0  lowest_f 2.12927e+11\n",
      "\u001b[2m\u001b[36m(pid=17654)\u001b[0m basinhopping step 7: f 3.15853e+11 trial_f 3.15853e+11 accepted 1  lowest_f 3.15853e+11\n",
      "\u001b[2m\u001b[36m(pid=17654)\u001b[0m found new global minimum on step 7 with function value 3.15853e+11\n",
      "\u001b[2m\u001b[36m(pid=17576)\u001b[0m basinhopping step 5: f 5.15679e+08 trial_f 6.93133e+08 accepted 0  lowest_f 5.15679e+08\n",
      "\u001b[2m\u001b[36m(pid=17628)\u001b[0m basinhopping step 7: f 1.71494e+12 trial_f 4.40327e+13 accepted 0  lowest_f 1.71494e+12\n",
      "\u001b[2m\u001b[36m(pid=17654)\u001b[0m basinhopping step 8: f 3.15853e+11 trial_f 1.93745e+12 accepted 0  lowest_f 3.15853e+11\n",
      "\u001b[2m\u001b[36m(pid=17602)\u001b[0m basinhopping step 2: f 5.92934e+08 trial_f 6.02171e+08 accepted 0  lowest_f 5.92934e+08\n",
      "\u001b[2m\u001b[36m(pid=17628)\u001b[0m basinhopping step 8: f 1.71494e+12 trial_f 8.30014e+12 accepted 0  lowest_f 1.71494e+12\n",
      "\u001b[2m\u001b[36m(pid=17550)\u001b[0m basinhopping step 6: f 2.12927e+11 trial_f 7.83447e+12 accepted 0  lowest_f 2.12927e+11\n",
      "\u001b[2m\u001b[36m(pid=17654)\u001b[0m basinhopping step 9: f 3.15853e+11 trial_f 1.53922e+12 accepted 0  lowest_f 3.15853e+11\n",
      "\u001b[2m\u001b[36m(pid=17602)\u001b[0m basinhopping step 3: f 5.92934e+08 trial_f 1.99014e+09 accepted 0  lowest_f 5.92934e+08\n",
      "\u001b[2m\u001b[36m(pid=17550)\u001b[0m basinhopping step 7: f 2.12927e+11 trial_f 2.92253e+13 accepted 0  lowest_f 2.12927e+11\n",
      "\u001b[2m\u001b[36m(pid=17628)\u001b[0m basinhopping step 9: f 1.71494e+12 trial_f 1.06307e+14 accepted 0  lowest_f 1.71494e+12\n",
      "\u001b[2m\u001b[36m(pid=17654)\u001b[0m basinhopping step 10: f 3.15853e+11 trial_f 3.59436e+13 accepted 0  lowest_f 3.15853e+11\n"
     ]
    },
    {
     "name": "stderr",
     "output_type": "stream",
     "text": [
      "2020-11-05 14:42:23,773\tWARNING worker.py:1090 -- WARNING: 10 PYTHON workers have been started. This could be a result of using a large number of actors, or it could be a consequence of using nested tasks (see https://github.com/ray-project/ray/issues/3644) for some a discussion of workarounds.\n"
     ]
    },
    {
     "name": "stdout",
     "output_type": "stream",
     "text": [
      "\u001b[2m\u001b[36m(pid=17924)\u001b[0m basinhopping step 0: f 3.2246e+11\n",
      "\u001b[2m\u001b[36m(pid=17628)\u001b[0m warning: basinhopping: local minimization failure\n",
      "\u001b[2m\u001b[36m(pid=17628)\u001b[0m basinhopping step 10: f 1.71494e+12 trial_f 8.21078e+12 accepted 0  lowest_f 1.71494e+12\n"
     ]
    },
    {
     "name": "stderr",
     "output_type": "stream",
     "text": [
      "2020-11-05 14:42:29,065\tWARNING worker.py:1090 -- WARNING: 10 PYTHON workers have been started. This could be a result of using a large number of actors, or it could be a consequence of using nested tasks (see https://github.com/ray-project/ray/issues/3644) for some a discussion of workarounds.\n"
     ]
    },
    {
     "name": "stdout",
     "output_type": "stream",
     "text": [
      "\u001b[2m\u001b[36m(pid=17602)\u001b[0m basinhopping step 4: f 5.92934e+08 trial_f 7.08207e+09 accepted 0  lowest_f 5.92934e+08\n",
      "\u001b[2m\u001b[36m(pid=17550)\u001b[0m basinhopping step 8: f 2.12927e+11 trial_f 2.90686e+13 accepted 0  lowest_f 2.12927e+11\n",
      "\u001b[2m\u001b[36m(pid=17924)\u001b[0m basinhopping step 1: f 3.2246e+11 trial_f 7.72015e+12 accepted 0  lowest_f 3.2246e+11\n",
      "\u001b[2m\u001b[36m(pid=17550)\u001b[0m basinhopping step 9: f 2.12927e+11 trial_f 6.46276e+11 accepted 0  lowest_f 2.12927e+11\n"
     ]
    }
   ],
   "source": [
    "optimal=ray.get(optimal)\n"
   ]
  },
  {
   "cell_type": "code",
   "execution_count": null,
   "metadata": {},
   "outputs": [],
   "source": [
    "for i in range(0,len(countries)):    \n",
    "\n",
    "    #s0, deltaDate, i0, d0, r0, startNCases  = point\n",
    "    # deltaDate not used at all\n",
    "    j = query['index'].values[0]\n",
    "    dfparam.at[j, \"s0\"] = optimal[i][0]\n",
    "    dfparam.at[j, \"i0\"] = optimal[i][2]\n",
    "    dfparam.at[j, \"r0\"] = optimal[i][3]\n",
    "    dfparam.at[j, \"d0\"] = optimal[i][4]\n",
    "    dfparam.at[j, \"startNCases\"] = optimal[i][5]\n",
    "\n",
    "    dfparam.to_csv(\"data/param_optimized_FineTune.csv\", sep=\",\", index=False)\n",
    "    display(dfparam)\n",
    "    "
   ]
  },
  {
   "cell_type": "code",
   "execution_count": null,
   "metadata": {},
   "outputs": [],
   "source": []
  },
  {
   "cell_type": "code",
   "execution_count": null,
   "metadata": {},
   "outputs": [],
   "source": []
  },
  {
   "cell_type": "code",
   "execution_count": null,
   "metadata": {},
   "outputs": [],
   "source": []
  },
  {
   "cell_type": "code",
   "execution_count": null,
   "metadata": {},
   "outputs": [],
   "source": []
  }
 ],
 "metadata": {
  "celltoolbar": "Edit Metadata",
  "kernelspec": {
   "display_name": "geo_env",
   "language": "python",
   "name": "geo_env"
  },
  "language_info": {
   "codemirror_mode": {
    "name": "ipython",
    "version": 3
   },
   "file_extension": ".py",
   "mimetype": "text/x-python",
   "name": "python",
   "nbconvert_exporter": "python",
   "pygments_lexer": "ipython3",
   "version": "3.6.10"
  }
 },
 "nbformat": 4,
 "nbformat_minor": 4
}
