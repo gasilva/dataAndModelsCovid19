{
 "cells": [
  {
   "cell_type": "markdown",
   "metadata": {},
   "source": [
    "# COVID19 - Countries"
   ]
  },
  {
   "cell_type": "code",
   "execution_count": 1,
   "metadata": {
    "tags": []
   },
   "outputs": [],
   "source": [
    "from environs import Env\n",
    "env = Env()\n",
    "env.str(\"CUDA_DEVICE_ORDER\",'PCI_BUS_ID')\n",
    "env.int(\"CUDA_VISIBLE_DEVICES\",1)\n",
    "env.int(\"NUMBA_ENABLE_CUDASIM\",1)\n",
    "env.bool(\"OMPI_MCA_opal_cuda_support\",True)\n",
    "\n",
    "import os\n",
    "import ray\n",
    "# MB=1024*1024\n",
    "# GB=MB*1024\n",
    "# ray.init(num_gpus=5,num_cpus=1)\n",
    "# @ray.remote(num_gpus=1)\n",
    "# def use_gpu():\n",
    "#     print(\"ray.get_gpu_ids(): {}\".format(ray.get_gpu_ids()[0]))\n",
    "#     print(\"CUDA_VISIBLE_DEVICES: {}\".format(os.environ[\"CUDA_VISIBLE_DEVICES\"]))\n",
    "\n",
    "# use_gpu.remote()"
   ]
  },
  {
   "cell_type": "code",
   "execution_count": 2,
   "metadata": {},
   "outputs": [],
   "source": [
    "import urllib.request\n",
    "import pandas as pd\n",
    "import numpy as np\n",
    "from datetime import datetime,timedelta"
   ]
  },
  {
   "cell_type": "code",
   "execution_count": 3,
   "metadata": {
    "tags": []
   },
   "outputs": [],
   "source": [
    "# Download data\n",
    "import get_data as gd\n",
    "LoadData=True\n",
    "\n",
    "if LoadData:\n",
    "    gd.get_data()"
   ]
  },
  {
   "cell_type": "markdown",
   "metadata": {},
   "source": [
    "# SEAIR-D Model Equations\n",
    "\n",
    "$$\\begin{array}{l}\\frac{d s}{d t}=-[\\beta i(t) + \\beta_2 a(t)-\\mu] \\cdot s(t)\\\\ \n",
    "\\frac{d e}{d t}=[\\beta i(t) + \\beta_2 a(t)] \\cdot s(t) -(\\sigma+\\mu) \\cdot e(t)\\\\ \n",
    "\\frac{d a}{d t}=\\sigma e(t) \\cdot (1-p)-(\\gamma+\\mu) \\cdot a(t) \\\\\n",
    "\\frac{d i}{d t}=\\sigma e(t) \\cdot p - (\\gamma + \\sigma_2 + \\sigma_3 + \\mu) \\cdot i(t)\\\\ \n",
    "\\frac{d r}{d t}=(b + \\sigma_2) \\cdot i(t) + \\gamma \\cdot a(t) - \\mu \\cdot r(t)\\\\\n",
    "\\frac{d k}{d t}=(a + \\sigma_3 - \\mu) \\cdot d(t)\n",
    "\\end{array}$$\n",
    "\n",
    "The sum of all people accounted is equal to population considered:\n",
    "\n",
    "$$s + e + a + i + r + k = N$$\n",
    "\n",
    "The derivate is:\n",
    "\n",
    "$$\\frac{d s}{d t}+\\frac{d e}{d t}+\\frac{d a}{d t}+\\frac{d i}{d t}+\\frac{d r}{d t}+\\frac{d k}{d t} = 0$$\n",
    "\n",
    "The last equation does not need to be solve because:\n",
    "\n",
    "$$\\frac{d k}{d t}=-(\\frac{d s}{d t}+\\frac{d e}{d t}+\\frac{d a}{d t}+\\frac{d i}{d t}+\\frac{d r}{d t})$$\n",
    "\n",
    "The sum of all rates are equal to zero! The importance of this equation is that it conservates the rates.\n"
   ]
  },
  {
   "cell_type": "markdown",
   "metadata": {},
   "source": [
    "## Parameters"
   ]
  },
  {
   "cell_type": "markdown",
   "metadata": {},
   "source": [
    "N: the population considered\n",
    "\n",
    "$\\beta$: Effective contact rate [1/min]\n",
    "    \n",
    "$\\gamma$: Recovery(+Mortality) rate $\\gamma=(a+b)$ [1/min]\n",
    "\n",
    "$a$: mortality of healed  [1/min]\n",
    "\n",
    "$b$: recovery rate  [1/min]\n",
    "\n",
    "$\\sigma$: is the rate at which individuals move from the exposed to the infectious classes. Its reciprocal ($1/\\sigma$) is the average latent (exposed) period.\n",
    "\n",
    "$\\sigma_2$: is the rate at which individuals move from the infectious to the healed classes. Its reciprocal ($1/\\sigma_2$) is the average latent (exposed) period\n",
    "\n",
    "$\\sigma_3$: is the rate at which individuals move from the infectious to the dead classes. Its reciprocal ($1/\\sigma_3$) is the average latent (exposed) period\n",
    "    \n",
    "$p$: is the fraction of the exposed which become symptomatic infectious sub-population.\n",
    "\n",
    "$(1-p)$: is the fraction of the exposed which becomes asymptomatic infectious sub-population."
   ]
  },
  {
   "cell_type": "markdown",
   "metadata": {},
   "source": [
    "## Options: Param.CSV file, changeCSV, Adjust Param, Save CSV, Select Specific DRS"
   ]
  },
  {
   "cell_type": "code",
   "execution_count": 4,
   "metadata": {},
   "outputs": [],
   "source": [
    "from IPython.display import display, HTML, Markdown\n",
    "\n",
    "paramOpt=1\n",
    "changeCSV=True\n",
    "adjustParam=True\n",
    "paramSave=False\n",
    "selectCountries=False"
   ]
  },
  {
   "cell_type": "markdown",
   "metadata": {},
   "source": [
    "## Different Options to Load Param.CSV file"
   ]
  },
  {
   "cell_type": "code",
   "execution_count": 5,
   "metadata": {},
   "outputs": [],
   "source": [
    "if paramOpt==0:\n",
    "    paramFile=\"data/param_optimized_Yabox_HistMin-Copy1.csv\"\n",
    "    version = \"001\"\n",
    "    model = \"YaboxIC\"    \n",
    "\n",
    "if paramOpt==1:\n",
    "    paramFile=\"data/param_optimized_Yabox_HistMin.csv\"\n",
    "    version = \"003\"\n",
    "    model = \"YaboxIC\"    "
   ]
  },
  {
   "cell_type": "code",
   "execution_count": 6,
   "metadata": {},
   "outputs": [
    {
     "data": {
      "text/markdown": [
       "## Original Initial Parameters"
      ],
      "text/plain": [
       "<IPython.core.display.Markdown object>"
      ]
     },
     "metadata": {},
     "output_type": "display_data"
    },
    {
     "data": {
      "text/html": [
       "<div>\n",
       "<style scoped>\n",
       "    .dataframe tbody tr th:only-of-type {\n",
       "        vertical-align: middle;\n",
       "    }\n",
       "\n",
       "    .dataframe tbody tr th {\n",
       "        vertical-align: top;\n",
       "    }\n",
       "\n",
       "    .dataframe thead th {\n",
       "        text-align: right;\n",
       "    }\n",
       "</style>\n",
       "<table border=\"1\" class=\"dataframe\">\n",
       "  <thead>\n",
       "    <tr style=\"text-align: right;\">\n",
       "      <th></th>\n",
       "      <th>country</th>\n",
       "      <th>start-date</th>\n",
       "      <th>prediction-range</th>\n",
       "      <th>s0</th>\n",
       "      <th>e0</th>\n",
       "      <th>a0</th>\n",
       "      <th>i0</th>\n",
       "      <th>r0</th>\n",
       "      <th>d0</th>\n",
       "      <th>START</th>\n",
       "      <th>WCASES</th>\n",
       "      <th>WREC</th>\n",
       "    </tr>\n",
       "  </thead>\n",
       "  <tbody>\n",
       "    <tr>\n",
       "      <th>0</th>\n",
       "      <td>Brazil</td>\n",
       "      <td>03/05/20</td>\n",
       "      <td>200</td>\n",
       "      <td>14760588</td>\n",
       "      <td>0</td>\n",
       "      <td>0</td>\n",
       "      <td>33</td>\n",
       "      <td>0</td>\n",
       "      <td>121</td>\n",
       "      <td>149</td>\n",
       "      <td>0.2823</td>\n",
       "      <td>0.1813</td>\n",
       "    </tr>\n",
       "    <tr>\n",
       "      <th>1</th>\n",
       "      <td>China</td>\n",
       "      <td>01/27/20</td>\n",
       "      <td>200</td>\n",
       "      <td>391756</td>\n",
       "      <td>0</td>\n",
       "      <td>0</td>\n",
       "      <td>2</td>\n",
       "      <td>0</td>\n",
       "      <td>178</td>\n",
       "      <td>99</td>\n",
       "      <td>0.2530</td>\n",
       "      <td>0.2059</td>\n",
       "    </tr>\n",
       "    <tr>\n",
       "      <th>2</th>\n",
       "      <td>Italy</td>\n",
       "      <td>02/29/20</td>\n",
       "      <td>200</td>\n",
       "      <td>643531</td>\n",
       "      <td>0</td>\n",
       "      <td>0</td>\n",
       "      <td>191</td>\n",
       "      <td>0</td>\n",
       "      <td>113</td>\n",
       "      <td>131</td>\n",
       "      <td>0.0641</td>\n",
       "      <td>0.1625</td>\n",
       "    </tr>\n",
       "    <tr>\n",
       "      <th>3</th>\n",
       "      <td>US</td>\n",
       "      <td>02/22/20</td>\n",
       "      <td>200</td>\n",
       "      <td>85527338</td>\n",
       "      <td>0</td>\n",
       "      <td>0</td>\n",
       "      <td>209</td>\n",
       "      <td>0</td>\n",
       "      <td>185</td>\n",
       "      <td>24</td>\n",
       "      <td>0.2523</td>\n",
       "      <td>0.1744</td>\n",
       "    </tr>\n",
       "    <tr>\n",
       "      <th>4</th>\n",
       "      <td>India</td>\n",
       "      <td>03/14/20</td>\n",
       "      <td>200</td>\n",
       "      <td>390053627</td>\n",
       "      <td>0</td>\n",
       "      <td>0</td>\n",
       "      <td>231</td>\n",
       "      <td>0</td>\n",
       "      <td>60</td>\n",
       "      <td>109</td>\n",
       "      <td>0.0677</td>\n",
       "      <td>0.0301</td>\n",
       "    </tr>\n",
       "  </tbody>\n",
       "</table>\n",
       "</div>"
      ],
      "text/plain": [
       "  country start-date  prediction-range         s0  e0  a0   i0  r0   d0  \\\n",
       "0  Brazil   03/05/20               200   14760588   0   0   33   0  121   \n",
       "1   China   01/27/20               200     391756   0   0    2   0  178   \n",
       "2   Italy   02/29/20               200     643531   0   0  191   0  113   \n",
       "3      US   02/22/20               200   85527338   0   0  209   0  185   \n",
       "4   India   03/14/20               200  390053627   0   0  231   0   60   \n",
       "\n",
       "   START  WCASES    WREC  \n",
       "0    149  0.2823  0.1813  \n",
       "1     99  0.2530  0.2059  \n",
       "2    131  0.0641  0.1625  \n",
       "3     24  0.2523  0.1744  \n",
       "4    109  0.0677  0.0301  "
      ]
     },
     "metadata": {},
     "output_type": "display_data"
    }
   ],
   "source": [
    "dfparam = pd.read_csv(paramFile)\n",
    "dfparam = dfparam.dropna()\n",
    "dfparam.e0=0\n",
    "dfparam.r0=0\n",
    "\n",
    "display(Markdown(\"## Original Initial Parameters\"))\n",
    "display(dfparam)"
   ]
  },
  {
   "cell_type": "markdown",
   "metadata": {},
   "source": [
    "## Modify param.csv file to fit better the data"
   ]
  },
  {
   "cell_type": "code",
   "execution_count": 7,
   "metadata": {},
   "outputs": [
    {
     "data": {
      "text/markdown": [
       "## Modified Initial Parameters"
      ],
      "text/plain": [
       "<IPython.core.display.Markdown object>"
      ]
     },
     "metadata": {},
     "output_type": "display_data"
    },
    {
     "data": {
      "text/html": [
       "<div>\n",
       "<style scoped>\n",
       "    .dataframe tbody tr th:only-of-type {\n",
       "        vertical-align: middle;\n",
       "    }\n",
       "\n",
       "    .dataframe tbody tr th {\n",
       "        vertical-align: top;\n",
       "    }\n",
       "\n",
       "    .dataframe thead th {\n",
       "        text-align: right;\n",
       "    }\n",
       "</style>\n",
       "<table border=\"1\" class=\"dataframe\">\n",
       "  <thead>\n",
       "    <tr style=\"text-align: right;\">\n",
       "      <th></th>\n",
       "      <th>country</th>\n",
       "      <th>start-date</th>\n",
       "      <th>prediction-range</th>\n",
       "      <th>s0</th>\n",
       "      <th>e0</th>\n",
       "      <th>a0</th>\n",
       "      <th>i0</th>\n",
       "      <th>r0</th>\n",
       "      <th>d0</th>\n",
       "      <th>START</th>\n",
       "      <th>WCASES</th>\n",
       "      <th>WREC</th>\n",
       "    </tr>\n",
       "  </thead>\n",
       "  <tbody>\n",
       "    <tr>\n",
       "      <th>0</th>\n",
       "      <td>Brazil</td>\n",
       "      <td>03/05/20</td>\n",
       "      <td>200</td>\n",
       "      <td>14760588</td>\n",
       "      <td>0</td>\n",
       "      <td>0</td>\n",
       "      <td>33</td>\n",
       "      <td>0</td>\n",
       "      <td>121</td>\n",
       "      <td>149</td>\n",
       "      <td>0.2823</td>\n",
       "      <td>0.1813</td>\n",
       "    </tr>\n",
       "    <tr>\n",
       "      <th>1</th>\n",
       "      <td>China</td>\n",
       "      <td>01/27/20</td>\n",
       "      <td>200</td>\n",
       "      <td>587634</td>\n",
       "      <td>0</td>\n",
       "      <td>0</td>\n",
       "      <td>2</td>\n",
       "      <td>0</td>\n",
       "      <td>178</td>\n",
       "      <td>99</td>\n",
       "      <td>0.2530</td>\n",
       "      <td>0.2059</td>\n",
       "    </tr>\n",
       "    <tr>\n",
       "      <th>2</th>\n",
       "      <td>Italy</td>\n",
       "      <td>02/29/20</td>\n",
       "      <td>200</td>\n",
       "      <td>965296</td>\n",
       "      <td>0</td>\n",
       "      <td>0</td>\n",
       "      <td>191</td>\n",
       "      <td>0</td>\n",
       "      <td>113</td>\n",
       "      <td>131</td>\n",
       "      <td>0.0641</td>\n",
       "      <td>0.1625</td>\n",
       "    </tr>\n",
       "    <tr>\n",
       "      <th>3</th>\n",
       "      <td>US</td>\n",
       "      <td>02/22/20</td>\n",
       "      <td>200</td>\n",
       "      <td>85527338</td>\n",
       "      <td>0</td>\n",
       "      <td>0</td>\n",
       "      <td>209</td>\n",
       "      <td>0</td>\n",
       "      <td>185</td>\n",
       "      <td>24</td>\n",
       "      <td>0.2523</td>\n",
       "      <td>0.1744</td>\n",
       "    </tr>\n",
       "    <tr>\n",
       "      <th>4</th>\n",
       "      <td>India</td>\n",
       "      <td>03/14/20</td>\n",
       "      <td>200</td>\n",
       "      <td>390053627</td>\n",
       "      <td>0</td>\n",
       "      <td>0</td>\n",
       "      <td>231</td>\n",
       "      <td>0</td>\n",
       "      <td>60</td>\n",
       "      <td>109</td>\n",
       "      <td>0.0677</td>\n",
       "      <td>0.0301</td>\n",
       "    </tr>\n",
       "  </tbody>\n",
       "</table>\n",
       "</div>"
      ],
      "text/plain": [
       "  country start-date  prediction-range         s0  e0  a0   i0  r0   d0  \\\n",
       "0  Brazil   03/05/20               200   14760588   0   0   33   0  121   \n",
       "1   China   01/27/20               200     587634   0   0    2   0  178   \n",
       "2   Italy   02/29/20               200     965296   0   0  191   0  113   \n",
       "3      US   02/22/20               200   85527338   0   0  209   0  185   \n",
       "4   India   03/14/20               200  390053627   0   0  231   0   60   \n",
       "\n",
       "   START  WCASES    WREC  \n",
       "0    149  0.2823  0.1813  \n",
       "1     99  0.2530  0.2059  \n",
       "2    131  0.0641  0.1625  \n",
       "3     24  0.2523  0.1744  \n",
       "4    109  0.0677  0.0301  "
      ]
     },
     "metadata": {},
     "output_type": "display_data"
    }
   ],
   "source": [
    "if changeCSV and (paramOpt==1):\n",
    "    dfparam['s0'] = pd.to_numeric(dfparam['s0'],errors='coerce')\n",
    "    dfparam['i0'] = pd.to_numeric(dfparam['i0'],errors='coerce')\n",
    "    dfparam['d0'] = pd.to_numeric(dfparam['d0'],errors='coerce')\n",
    "    dfparam['s0'] = dfparam['s0'].astype(float)\n",
    "    dfparam['i0'] = dfparam['i0'].astype(float)\n",
    "    dfparam['d0'] = dfparam['d0'].astype(float)\n",
    "    dfparam.loc[dfparam.country=='Italy','s0'] = dfparam.loc[dfparam.country=='Italy','s0']*1.5\n",
    "    dfparam.loc[dfparam.country=='China','s0'] = dfparam.loc[dfparam.country=='China','s0']*1.5\n",
    "    dfparam.loc[dfparam.country=='India','s0'] = dfparam.loc[dfparam.country=='Brazil','s0']*1.2\n",
    "    dfparam.loc[dfparam.country=='US','s0'] = dfparam.loc[dfparam.country=='Brazil','s0']*1.3\n",
    "\n",
    "\n",
    "# if adjustParam:\n",
    "#     sCorrect=[1.38,1.0,1.05,1.5,1.5,1.4,1.1,1.5,1.15,1.55,1.35,1.2,1.35,1.15,1.55,1.45,1.25]\n",
    "#     dfparam.s0=dfparam.s0.multiply(sCorrect[:len(DRS)], axis=0)\n",
    "\n",
    "if selectCountries and paramOpt==0:\n",
    "    countries=['Brazil', \n",
    "         'US']\n",
    "\n",
    "if not selectCountries:\n",
    "    countries=dfparam.country    \n",
    "\n",
    "dfparam['s0'] = dfparam['s0'].astype(int)\n",
    "dfparam['i0'] = dfparam['i0'].astype(int)\n",
    "dfparam['d0'] = dfparam['d0'].astype(int)\n",
    "\n",
    "if paramSave:\n",
    "    dfparam.to_csv(\"new_\"+paramFile)    \n",
    "\n",
    "display(Markdown(\"## Modified Initial Parameters\"))\n",
    "display(dfparam)"
   ]
  },
  {
   "cell_type": "markdown",
   "metadata": {},
   "source": [
    "# Solver Loading and Version"
   ]
  },
  {
   "cell_type": "code",
   "execution_count": 8,
   "metadata": {
    "scrolled": true,
    "tags": []
   },
   "outputs": [
    {
     "name": "stderr",
     "output_type": "stream",
     "text": [
      "2020-09-28 11:55:17,702\tINFO resource_spec.py:212 -- Starting Ray with 229.98 GiB memory available for workers and up to 68.5 GiB for objects. You can adjust these settings with ray.init(memory=<bytes>, object_store_memory=<bytes>).\n",
      "2020-09-28 11:55:18,046\tINFO services.py:1170 -- View the Ray dashboard at \u001b[1m\u001b[32mlocalhost:8266\u001b[39m\u001b[22m\n"
     ]
    }
   ],
   "source": [
    "%reload_ext autoreload\n",
    "%autoreload 2\n",
    "import LearnerYabox_v2 as Learner #Yabox"
   ]
  },
  {
   "cell_type": "code",
   "execution_count": 9,
   "metadata": {},
   "outputs": [
    {
     "data": {
      "text/plain": [
       "0    Brazil\n",
       "1     China\n",
       "2     Italy\n",
       "3        US\n",
       "4     India\n",
       "Name: country, dtype: object"
      ]
     },
     "metadata": {},
     "output_type": "display_data"
    }
   ],
   "source": [
    "allCountries=True\n",
    "cleanRecovered=False\n",
    "version=\"1\"\n",
    "\n",
    "if allCountries:\n",
    "    display(countries)\n",
    "else:\n",
    "    countrySelected=\"Brazil\"\n",
    "    display(countrySelected)"
   ]
  },
  {
   "cell_type": "code",
   "execution_count": 10,
   "metadata": {},
   "outputs": [
    {
     "data": {
      "application/javascript": [
       "IPython.OutputArea.prototype._should_scroll = function(lines){\n",
       "    return true;}\n"
      ],
      "text/plain": [
       "<IPython.core.display.Javascript object>"
      ]
     },
     "metadata": {},
     "output_type": "display_data"
    }
   ],
   "source": [
    "%%javascript\n",
    "IPython.OutputArea.prototype._should_scroll = function(lines){\n",
    "    return true;}"
   ]
  },
  {
   "cell_type": "markdown",
   "metadata": {},
   "source": [
    "# Main Loop"
   ]
  },
  {
   "cell_type": "code",
   "execution_count": null,
   "metadata": {},
   "outputs": [
    {
     "name": "stderr",
     "output_type": "stream",
     "text": [
      "2020-09-28 11:55:18,995\tWARNING worker.py:1090 -- WARNING: 3 PYTHON workers have been started. This could be a result of using a large number of actors, or it could be a consequence of using nested tasks (see https://github.com/ray-project/ray/issues/3644) for some a discussion of workarounds.\n"
     ]
    },
    {
     "name": "stdout",
     "output_type": "stream",
     "text": [
      "\u001b[2m\u001b[36m(pid=10747)\u001b[0m \r",
      "  0%|          | 0/15125000.0 [00:00<?, ?it/s]\n"
     ]
    },
    {
     "name": "stderr",
     "output_type": "stream",
     "text": [
      "2020-09-28 11:55:19,433\tWARNING worker.py:1090 -- WARNING: 4 PYTHON workers have been started. This could be a result of using a large number of actors, or it could be a consequence of using nested tasks (see https://github.com/ray-project/ray/issues/3644) for some a discussion of workarounds.\n"
     ]
    },
    {
     "name": "stdout",
     "output_type": "stream",
     "text": [
      "\u001b[2m\u001b[36m(pid=10780)\u001b[0m \r",
      "  0%|          | 0/15125000.0 [00:00<?, ?it/s]\n"
     ]
    },
    {
     "name": "stderr",
     "output_type": "stream",
     "text": [
      "2020-09-28 11:55:19,869\tWARNING worker.py:1090 -- WARNING: 5 PYTHON workers have been started. This could be a result of using a large number of actors, or it could be a consequence of using nested tasks (see https://github.com/ray-project/ray/issues/3644) for some a discussion of workarounds.\n"
     ]
    },
    {
     "name": "stdout",
     "output_type": "stream",
     "text": [
      "  0%|          | 0/15125000.0 [00:00<?, ?it/s]\n",
      "  0%|          | 0/15125000.0 [00:00<?, ?it/s]\n",
      "  0%|          | 0/15125000.0 [00:00<?, ?it/s]\n",
      "  0%|          | 0/15125000.0 [00:03<?, ?it/s]\n",
      "  0%|          | 0/15125000.0 [00:02<?, ?it/s]\n",
      "  0%|          | 0/15125000.0 [00:02<?, ?it/s]\n",
      "  0%|          | 0/15125000.0 [00:03<?, ?it/s]\n",
      "  0%|          | 1/15125000.0 [00:04<6551:46:58,  1.56s/it]\n",
      "  0%|          | 1/15125000.0 [00:04<5954:03:21,  1.42s/it]\n",
      "  0%|          | 1/15125000.0 [00:03<5541:01:57,  1.32s/it]\n",
      "  0%|          | 0/15125000.0 [00:03<?, ?it/s]\n",
      "  0%|          | 3/15125000.0 [00:05<4736:20:17,  1.13s/it]\n",
      "  0%|          | 3/15125000.0 [00:05<5083:21:19,  1.21s/it]\n",
      "  0%|          | 3/15125000.0 [00:06<5545:37:43,  1.32s/it]\n",
      "  0%|          | 1/15125000.0 [00:05<7087:01:03,  1.69s/it]\n",
      "  0%|          | 1/15125000.0 [00:05<7831:28:47,  1.86s/it]\n",
      "  0%|          | 6/15125000.0 [00:06<3869:00:31,  1.09it/s]\n",
      "  0%|          | 6/15125000.0 [00:07<4189:49:40,  1.00it/s]\n",
      "  0%|          | 6/15125000.0 [00:07<4521:30:53,  1.08s/it]\n",
      "  0%|          | 3/15125000.0 [00:06<6000:20:11,  1.43s/it]\n",
      "  0%|          | 10/15125000.0 [00:07<3127:45:17,  1.34it/s]\n",
      "  0%|          | 3/15125000.0 [00:07<6657:57:00,  1.58s/it]\n",
      "  0%|          | 10/15125000.0 [00:08<3397:00:25,  1.24it/s]\n",
      "  0%|          | 10/15125000.0 [00:09<3656:01:02,  1.15it/s]\n",
      "  0%|          | 6/15125000.0 [00:08<4946:48:13,  1.18s/it]\n",
      "  0%|          | 15/15125000.0 [00:09<2528:49:00,  1.66it/s]\n",
      "  0%|          | 15/15125000.0 [00:10<2738:04:07,  1.53it/s]\n",
      "  0%|          | 15/15125000.0 [00:10<2953:36:03,  1.42it/s]\n",
      "  0%|          | 6/15125000.0 [00:09<5433:35:18,  1.29s/it]\n",
      "  0%|          | 21/15125000.0 [00:10<2048:11:28,  2.05it/s]\n",
      "  0%|          | 10/15125000.0 [00:10<3995:14:13,  1.05it/s]\n",
      "  0%|          | 21/15125000.0 [00:11<2217:57:48,  1.89it/s]\n",
      "  0%|          | 21/15125000.0 [00:12<2389:24:53,  1.76it/s]\n",
      "  0%|          | 28/15125000.0 [00:11<1667:59:23,  2.52it/s]\n",
      "  0%|          | 10/15125000.0 [00:11<4379:42:21,  1.04s/it]\n",
      "  0%|          | 15/15125000.0 [00:11<3219:45:42,  1.30it/s]\n",
      "  0%|          | 28/15125000.0 [00:13<1823:26:16,  2.30it/s]\n",
      "  0%|          | 28/15125000.0 [00:13<1945:06:15,  2.16it/s]\n",
      "  0%|          | 36/15125000.0 [00:13<1374:39:50,  3.06it/s]\n",
      "  0%|          | 15/15125000.0 [00:12<3519:35:19,  1.19it/s]\n",
      "  0%|          | 21/15125000.0 [00:13<2604:53:40,  1.61it/s]\n",
      "  0%|          | 36/15125000.0 [00:14<1514:14:51,  2.77it/s]\n",
      "  0%|          | 45/15125000.0 [00:14<1145:19:34,  3.67it/s]\n",
      "  0%|          | 36/15125000.0 [00:15<1603:37:34,  2.62it/s]\n",
      "  0%|          | 21/15125000.0 [00:14<2836:33:30,  1.48it/s]\n",
      "  0%|          | 45/15125000.0 [00:16<1265:07:20,  3.32it/s]\n",
      "  0%|          | 28/15125000.0 [00:15<2126:34:10,  1.98it/s]\n",
      "  0%|          | 55/15125000.0 [00:15<968:43:26,  4.34it/s] \n",
      "  0%|          | 45/15125000.0 [00:17<1340:00:52,  3.14it/s]\n",
      "  0%|          | 55/15125000.0 [00:17<1075:47:03,  3.91it/s]\n",
      "  0%|          | 66/15125000.0 [00:17<835:40:24,  5.03it/s]\n",
      "  0%|          | 28/15125000.0 [00:16<2322:32:46,  1.81it/s]\n",
      "  0%|          | 36/15125000.0 [00:17<1765:26:50,  2.38it/s]\n",
      "  0%|          | 55/15125000.0 [00:18<1124:37:57,  3.74it/s]\n",
      "  0%|          | 78/15125000.0 [00:18<718:40:48,  5.85it/s]\n",
      "  0%|          | 66/15125000.0 [00:19<924:09:43,  4.55it/s] \n",
      "  0%|          | 66/15125000.0 [00:20<958:18:12,  4.38it/s] \n",
      "  0%|          | 45/15125000.0 [00:18<1474:41:47,  2.85it/s]\n",
      "  0%|          | 36/15125000.0 [00:18<1907:39:42,  2.20it/s]\n",
      "  0%|          | 91/15125000.0 [00:19<633:45:20,  6.63it/s]\n",
      "  0%|          | 78/15125000.0 [00:20<802:46:10,  5.23it/s]\n",
      "  0%|          | 78/15125000.0 [00:21<829:36:12,  5.06it/s]\n",
      "  0%|          | 55/15125000.0 [00:20<1241:45:40,  3.38it/s]\n",
      "  0%|          | 45/15125000.0 [00:20<1584:09:33,  2.65it/s]\n",
      "  0%|          | 105/15125000.0 [00:21<564:33:50,  7.44it/s]\n",
      "  0%|          | 91/15125000.0 [00:22<702:43:39,  5.98it/s]\n",
      "  0%|          | 91/15125000.0 [00:23<723:21:03,  5.81it/s]\n",
      "  0%|          | 120/15125000.0 [00:22<504:06:15,  8.33it/s]\n",
      "  0%|          | 66/15125000.0 [00:22<1071:03:21,  3.92it/s]\n",
      "  0%|          | 55/15125000.0 [00:21<1331:21:41,  3.16it/s]\n",
      "  0%|          | 105/15125000.0 [00:23<619:13:41,  6.78it/s]\n",
      "  0%|          | 105/15125000.0 [00:24<637:52:10,  6.59it/s]\n",
      "  0%|          | 136/15125000.0 [00:23<454:10:51,  9.25it/s]\n",
      "  0%|          | 78/15125000.0 [00:23<925:29:42,  4.54it/s] \n",
      "  0%|          | 120/15125000.0 [00:24<557:14:30,  7.54it/s]\n",
      "  0%|          | 66/15125000.0 [00:23<1135:36:25,  3.70it/s]\n",
      "  0%|          | 120/15125000.0 [00:25<567:01:23,  7.41it/s]\n",
      "  0%|          | 153/15125000.0 [00:25<411:41:27, 10.21it/s]\n",
      "  0%|          | 91/15125000.0 [00:25<808:18:32,  5.20it/s]\n",
      "  0%|          | 136/15125000.0 [00:26<504:26:14,  8.33it/s]\n",
      "  0%|          | 78/15125000.0 [00:25<980:40:36,  4.28it/s] \n",
      "  0%|          | 171/15125000.0 [00:26<379:22:57, 11.07it/s]\n",
      "  0%|          | 136/15125000.0 [00:27<510:03:19,  8.24it/s]\n",
      "  0%|          | 153/15125000.0 [00:27<458:28:49,  9.16it/s]\n",
      "  0%|          | 105/15125000.0 [00:27<716:18:15,  5.87it/s]\n",
      "  0%|          | 190/15125000.0 [00:27<350:27:51, 11.99it/s]\n",
      "  0%|          | 153/15125000.0 [00:28<463:26:43,  9.07it/s]\n",
      "  0%|          | 91/15125000.0 [00:27<857:31:44,  4.90it/s]\n",
      "  0%|          | 171/15125000.0 [00:29<421:00:14,  9.98it/s]\n",
      "  0%|          | 210/15125000.0 [00:28<324:38:03, 12.94it/s]\n",
      "  0%|          | 120/15125000.0 [00:28<640:57:59,  6.55it/s]\n",
      "  0%|          | 171/15125000.0 [00:30<425:47:18,  9.87it/s]\n",
      "  0%|          | 105/15125000.0 [00:28<755:42:28,  5.56it/s]\n",
      "  0%|          | 190/15125000.0 [00:30<388:14:19, 10.82it/s]\n",
      "  0%|          | 231/15125000.0 [00:30<303:25:06, 13.85it/s]\n",
      "  0%|          | 190/15125000.0 [00:31<393:37:45, 10.67it/s]\n",
      "  0%|          | 136/15125000.0 [00:30<582:01:44,  7.22it/s]\n",
      "  0%|          | 253/15125000.0 [00:31<283:30:03, 14.82it/s]\n",
      "  0%|          | 120/15125000.0 [00:30<669:58:30,  6.27it/s]\n",
      "  0%|          | 210/15125000.0 [00:32<359:24:45, 11.69it/s]\n",
      "  0%|          | 210/15125000.0 [00:33<367:40:46, 11.43it/s]\n",
      "  0%|          | 153/15125000.0 [00:32<526:55:05,  7.97it/s]\n",
      "  0%|          | 276/15125000.0 [00:32<269:21:35, 15.60it/s]\n",
      "  0%|          | 231/15125000.0 [00:33<335:47:58, 12.51it/s]\n",
      "  0%|          | 136/15125000.0 [00:32<601:07:18,  6.99it/s]\n",
      "  0%|          | 231/15125000.0 [00:34<343:06:40, 12.24it/s]\n",
      "  0%|          | 300/15125000.0 [00:33<253:10:54, 16.59it/s]\n",
      "  0%|          | 171/15125000.0 [00:33<487:45:45,  8.61it/s]\n",
      "  0%|          | 253/15125000.0 [00:34<314:35:15, 13.36it/s]\n",
      "  0%|          | 153/15125000.0 [00:34<550:19:43,  7.63it/s]\n",
      "  0%|          | 253/15125000.0 [00:35<317:17:18, 13.24it/s]\n",
      "  0%|          | 325/15125000.0 [00:35<238:33:29, 17.61it/s]\n",
      "  0%|          | 276/15125000.0 [00:36<299:02:37, 14.05it/s]\n",
      "  0%|          | 190/15125000.0 [00:35<450:57:46,  9.32it/s]\n",
      "  0%|          | 351/15125000.0 [00:36<225:12:57, 18.65it/s]\n",
      "  0%|          | 276/15125000.0 [00:37<300:08:12, 14.00it/s]\n",
      "  0%|          | 171/15125000.0 [00:35<503:02:04,  8.35it/s]\n",
      "  0%|          | 300/15125000.0 [00:37<281:08:03, 14.94it/s]\n",
      "  0%|          | 210/15125000.0 [00:37<416:50:49, 10.08it/s]\n",
      "  0%|          | 378/15125000.0 [00:37<212:59:33, 19.73it/s]\n",
      "  0%|          | 300/15125000.0 [00:38<280:29:59, 14.98it/s]\n",
      "  0%|          | 190/15125000.0 [00:37<460:41:08,  9.12it/s]\n",
      "  0%|          | 325/15125000.0 [00:38<266:24:57, 15.77it/s]\n",
      "  0%|          | 406/15125000.0 [00:38<203:03:10, 20.69it/s]\n",
      "  0%|          | 231/15125000.0 [00:38<387:15:04, 10.85it/s]\n",
      "  0%|          | 325/15125000.0 [00:40<266:07:46, 15.79it/s]\n",
      "  0%|          | 210/15125000.0 [00:39<427:32:14,  9.83it/s]\n",
      "  0%|          | 351/15125000.0 [00:40<252:58:40, 16.61it/s]\n",
      "  0%|          | 435/15125000.0 [00:39<193:46:30, 21.68it/s]\n",
      "  0%|          | 351/15125000.0 [00:41<252:58:02, 16.61it/s]\n",
      "  0%|          | 253/15125000.0 [00:40<364:02:24, 11.54it/s]\n",
      "  0%|          | 465/15125000.0 [00:41<187:19:44, 22.43it/s]\n",
      "  0%|          | 378/15125000.0 [00:41<242:03:40, 17.36it/s]\n",
      "  0%|          | 231/15125000.0 [00:40<403:23:16, 10.42it/s]\n",
      "  0%|          | 378/15125000.0 [00:42<242:06:41, 17.35it/s]\n",
      "  0%|          | 496/15125000.0 [00:42<179:40:14, 23.38it/s]\n",
      "  0%|          | 276/15125000.0 [00:41<345:23:27, 12.16it/s]\n"
     ]
    },
    {
     "name": "stdout",
     "output_type": "stream",
     "text": [
      "  0%|          | 406/15125000.0 [00:43<231:41:10, 18.13it/s]\n",
      "  0%|          | 253/15125000.0 [00:42<382:58:14, 10.97it/s]\n",
      "  0%|          | 406/15125000.0 [00:44<233:42:36, 17.98it/s]\n",
      "  0%|          | 528/15125000.0 [00:43<173:42:38, 24.19it/s]\n",
      "  0%|          | 300/15125000.0 [00:43<325:50:04, 12.89it/s]\n",
      "  0%|          | 435/15125000.0 [00:44<223:33:58, 18.79it/s]\n",
      "  0%|          | 435/15125000.0 [00:45<220:49:16, 19.03it/s]\n",
      "  0%|          | 561/15125000.0 [00:44<166:25:04, 25.25it/s]\n",
      "  0%|          | 276/15125000.0 [00:44<364:01:06, 11.54it/s]\n",
      "  0%|          | 465/15125000.0 [00:45<215:11:17, 19.52it/s]\n",
      "  0%|          | 325/15125000.0 [00:45<308:17:32, 13.63it/s]\n",
      "  0%|          | 595/15125000.0 [00:45<160:29:09, 26.18it/s]\n",
      "  0%|          | 465/15125000.0 [00:46<208:49:27, 20.12it/s]\n",
      "  0%|          | 300/15125000.0 [00:45<342:02:53, 12.28it/s]\n",
      "  0%|          | 496/15125000.0 [00:47<205:38:55, 20.43it/s]\n",
      "  0%|          | 630/15125000.0 [00:47<153:02:03, 27.45it/s]\n",
      "  0%|          | 351/15125000.0 [00:46<292:54:02, 14.34it/s]\n",
      "  0%|          | 496/15125000.0 [00:48<202:08:04, 20.78it/s]\n",
      "  0%|          | 666/15125000.0 [00:48<147:03:43, 28.57it/s]\n",
      "  0%|          | 528/15125000.0 [00:48<198:36:44, 21.15it/s]\n",
      "  0%|          | 325/15125000.0 [00:47<326:44:52, 12.86it/s]\n",
      "  0%|          | 528/15125000.0 [00:49<190:37:02, 22.04it/s]\n",
      "  0%|          | 378/15125000.0 [00:48<279:20:15, 15.04it/s]\n",
      "  0%|          | 703/15125000.0 [00:49<141:53:59, 29.61it/s]\n",
      "  0%|          | 561/15125000.0 [00:50<190:30:15, 22.05it/s]\n",
      "  0%|          | 561/15125000.0 [00:50<181:12:39, 23.18it/s]\n",
      "  0%|          | 351/15125000.0 [00:49<312:27:33, 13.45it/s]\n",
      "  0%|          | 406/15125000.0 [00:49<268:08:55, 15.67it/s]\n",
      "  0%|          | 741/15125000.0 [00:50<137:55:28, 30.46it/s]\n",
      "  0%|          | 595/15125000.0 [00:51<183:33:29, 22.89it/s]\n",
      "  0%|          | 595/15125000.0 [00:51<170:55:10, 24.58it/s]\n",
      "  0%|          | 780/15125000.0 [00:51<133:04:29, 31.57it/s]\n",
      "  0%|          | 435/15125000.0 [00:51<254:24:35, 16.51it/s]\n",
      "  0%|          | 378/15125000.0 [00:51<299:17:53, 14.04it/s]\n",
      "  0%|          | 630/15125000.0 [00:53<162:13:14, 25.90it/s]\n",
      "  0%|          | 630/15125000.0 [00:52<175:54:13, 23.88it/s]\n",
      "  0%|          | 820/15125000.0 [00:52<128:48:35, 32.62it/s]\n",
      "  0%|          | 666/15125000.0 [00:54<156:29:57, 26.84it/s]\n",
      "  0%|          | 465/15125000.0 [00:53<245:32:06, 17.11it/s]\n",
      "  0%|          | 666/15125000.0 [00:54<169:17:12, 24.82it/s]\n",
      "  0%|          | 406/15125000.0 [00:52<284:56:42, 14.74it/s]\n",
      "  0%|          | 861/15125000.0 [00:53<123:56:29, 33.90it/s]\n",
      "  0%|          | 703/15125000.0 [00:55<150:06:16, 27.99it/s]\n",
      "  0%|          | 703/15125000.0 [00:55<164:40:45, 25.51it/s]\n",
      "  0%|          | 903/15125000.0 [00:54<119:01:53, 35.29it/s]\n",
      "  0%|          | 496/15125000.0 [00:54<235:40:03, 17.83it/s]\n",
      "  0%|          | 435/15125000.0 [00:54<271:35:48, 15.47it/s]\n",
      "  0%|          | 741/15125000.0 [00:56<144:45:24, 29.02it/s]\n",
      "  0%|          | 946/15125000.0 [00:56<115:01:08, 36.53it/s]\n",
      "  0%|          | 741/15125000.0 [00:56<158:55:41, 26.43it/s]\n",
      "  0%|          | 528/15125000.0 [00:56<225:48:13, 18.61it/s]\n",
      "  0%|          | 465/15125000.0 [00:56<261:45:28, 16.05it/s]\n",
      "  0%|          | 780/15125000.0 [00:57<138:51:02, 30.26it/s]\n",
      "  0%|          | 990/15125000.0 [00:57<111:45:17, 37.59it/s]\n",
      "  0%|          | 780/15125000.0 [00:57<152:04:52, 27.62it/s]\n",
      "  0%|          | 820/15125000.0 [00:58<132:42:00, 31.66it/s]\n",
      "  0%|          | 561/15125000.0 [00:57<216:05:04, 19.44it/s]\n",
      "  0%|          | 1035/15125000.0 [00:58<108:16:57, 38.80it/s]\n",
      "  0%|          | 496/15125000.0 [00:57<249:41:13, 16.83it/s]\n",
      "  0%|          | 820/15125000.0 [00:59<147:09:15, 28.55it/s]\n",
      "  0%|          | 861/15125000.0 [01:00<126:31:43, 33.20it/s]\n",
      "  0%|          | 1081/15125000.0 [00:59<103:44:35, 40.50it/s]\n",
      "  0%|          | 595/15125000.0 [00:59<204:41:59, 20.52it/s]\n",
      "  0%|          | 861/15125000.0 [01:00<141:19:32, 29.73it/s]\n",
      "  0%|          | 903/15125000.0 [01:01<119:39:53, 35.11it/s]\n",
      "  0%|          | 1128/15125000.0 [01:00<100:37:28, 41.75it/s]\n",
      "  0%|          | 528/15125000.0 [00:59<240:41:21, 17.46it/s]\n",
      "  0%|          | 630/15125000.0 [01:00<196:52:30, 21.34it/s]\n",
      "  0%|          | 946/15125000.0 [01:02<113:35:41, 36.98it/s]\n",
      "  0%|          | 903/15125000.0 [01:01<137:05:02, 30.65it/s]\n",
      "  0%|          | 1176/15125000.0 [01:01<99:02:27, 42.42it/s] \n",
      "  0%|          | 561/15125000.0 [01:01<231:20:26, 18.16it/s]\n",
      "  0%|          | 990/15125000.0 [01:03<107:17:10, 39.16it/s]\n",
      "  0%|          | 1225/15125000.0 [01:02<96:35:58, 43.49it/s]\n",
      "  0%|          | 666/15125000.0 [01:02<186:04:50, 22.58it/s]\n",
      "  0%|          | 946/15125000.0 [01:03<132:33:13, 31.69it/s]\n",
      "  0%|          | 1035/15125000.0 [01:04<102:57:08, 40.81it/s]\n",
      "  0%|          | 1275/15125000.0 [01:03<94:25:54, 44.49it/s]\n",
      "  0%|          | 595/15125000.0 [01:02<223:48:59, 18.77it/s]\n"
     ]
    }
   ],
   "source": [
    "results=[]\n",
    "if allCountries:\n",
    "    for country in countries:\n",
    "        query = dfparam.query('country == \"{}\"'.format(country)).reset_index()\n",
    "        parameters = np.array(query.iloc[:, 2:])[0]\n",
    "        current = datetime.strptime(parameters[0], '%m/%d/%y')\n",
    "        parameters[0] = datetime.strftime(current, '%-m/%-d/%y')\n",
    "        f=Learner.Learner.remote(country, *parameters, cleanRecovered, version)\n",
    "        result = f.train.remote() \n",
    "        results.append(result)\n",
    "else:\n",
    "    country = countrySelected \n",
    "    query = dfparam.query('country == \"{}\"'.format(country)).reset_index()\n",
    "    parameters = np.array(query.iloc[:, 2:])[0]\n",
    "    current = datetime.strptime(parameters[0], '%m/%d/%y')\n",
    "    parameters[0] = datetime.strftime(current, '%-m/%-d/%y')\n",
    "    f=Learner.Learner.remote(country, *parameters, cleanRecovered, version)\n",
    "    result = f.train.remote() \n",
    "    results.append(result)\n",
    "\n",
    "# #execute all the queue with max_runner_cap at a time    \n",
    "results = ray.get(results)"
   ]
  },
  {
   "cell_type": "code",
   "execution_count": null,
   "metadata": {},
   "outputs": [],
   "source": [
    "ray.shutdown()"
   ]
  },
  {
   "cell_type": "markdown",
   "metadata": {},
   "source": [
    "# Plots"
   ]
  },
  {
   "cell_type": "code",
   "execution_count": null,
   "metadata": {},
   "outputs": [],
   "source": [
    "%matplotlib inline \n",
    "import matplotlib.pyplot as plt\n",
    "import pandas as pd\n",
    "#%load_ext autoreload\n",
    "%reload_ext autoreload\n",
    "%autoreload 2\n",
    "import covid_plots_v2 as covid_plots"
   ]
  },
  {
   "cell_type": "code",
   "execution_count": null,
   "metadata": {},
   "outputs": [],
   "source": [
    "def loadDataFrame(filename):\n",
    "    df= pd.read_pickle(filename)\n",
    "    df.columns = [c.lower().replace(' ', '_') for c in df.columns]\n",
    "    df.columns = [c.lower().replace('(', '') for c in df.columns]\n",
    "    df.columns = [c.lower().replace(')', '') for c in df.columns]\n",
    "    return df"
   ]
  },
  {
   "cell_type": "code",
   "execution_count": null,
   "metadata": {},
   "outputs": [],
   "source": [
    "#main country for analysis\n",
    "countryMain = \"Brazil\"\n",
    "\n",
    "#select districts for plotting\n",
    "countries4Plot=['China',\n",
    "               'US',\n",
    "               'India',\n",
    "               'Italy',\n",
    "               countryMain]\n",
    "\n",
    "#Choose here your options\n",
    "#opt=0 all plots\n",
    "#opt=1 corona log plot\n",
    "#opt=2 logistic model prediction\n",
    "#opt=3 bar plot with growth rate\n",
    "#opt=4 log plot + bar plot\n",
    "#opt=5 SEAIR-D Model\n",
    "opt = 5\n",
    "\n",
    "#number of cases to start plotting model in log graph - real data = 100\n",
    "startCase=100\n",
    "\n",
    "#all DRS for plotting\n",
    "countries=dfparam.country"
   ]
  },
  {
   "cell_type": "code",
   "execution_count": null,
   "metadata": {},
   "outputs": [],
   "source": [
    "#do not allow the scrolling of the plots"
   ]
  },
  {
   "cell_type": "code",
   "execution_count": null,
   "metadata": {},
   "outputs": [],
   "source": [
    "%%javascript\n",
    "IPython.OutputArea.prototype._should_scroll = function(lines){\n",
    "    return false;}"
   ]
  },
  {
   "cell_type": "code",
   "execution_count": null,
   "metadata": {},
   "outputs": [],
   "source": [
    "#plots one district or all districts  \n",
    "if opt==5:\n",
    "    allCountries=True\n",
    "else:\n",
    "    allCountries=False\n",
    "    \n",
    "if allCountries:\n",
    "    for country in countries:\n",
    "        query = dfparam.query('country == \"{}\"'.format(country)).reset_index()\n",
    "        startCase = query['START'][0]\n",
    "        startdate = query['start-date'][0]\n",
    "        predict_range = query['prediction-range'][0]\n",
    "        #calcula data máxima dos gráficos\n",
    "        #100 dias é usado como máximo dos cálculos da derivada das mortes\n",
    "        lastDate='9/22/20'\n",
    "        maxDate= datetime.strptime(lastDate, \"%m/%d/%y\") + timedelta(days = 100) #\"2020-08-31\"\n",
    "        maxDateStr = maxDate.strftime(\"%-m/%-d/%y\")\n",
    "        covid_plots.covid_plots(country, countries4Plot, startdate, predict_range, \\\n",
    "                        startCase, opt, version, show=True, maxDate=maxDateStr, model=model)\n",
    "else: \n",
    "    query = dfparam.query('country == \"{}\"'.format(country)).reset_index()\n",
    "    startdate = query['start-date'][0]\n",
    "    predict_range = query['prediction-range'][0]\n",
    "    startCase = query['START'][0]\n",
    "    #calcula data máxima dos gráficos\n",
    "    #100 dias é usado como máximo dos cálculos da derivada das mortes\n",
    "    lastDate='9/22/20'\n",
    "    maxDate= datetime.strptime(lastDate, \"%m/%d/%y\") + timedelta(days = 100) #\"2020-08-31\"\n",
    "    maxDateStr = maxDate.strftime(\"%-m/%-d/%y\")   \n",
    "    covid_plots.covid_plots(country, countries4Plot,  startdate, predict_range, \\\n",
    "                       startCase, opt, version, show=True, maxDate=maxDateStr, model=model)"
   ]
  },
  {
   "cell_type": "code",
   "execution_count": null,
   "metadata": {},
   "outputs": [],
   "source": []
  },
  {
   "cell_type": "code",
   "execution_count": null,
   "metadata": {},
   "outputs": [],
   "source": []
  },
  {
   "cell_type": "code",
   "execution_count": null,
   "metadata": {},
   "outputs": [],
   "source": []
  },
  {
   "cell_type": "code",
   "execution_count": null,
   "metadata": {},
   "outputs": [],
   "source": []
  }
 ],
 "metadata": {
  "kernelspec": {
   "display_name": "geo_env",
   "language": "python",
   "name": "geo_env"
  },
  "language_info": {
   "codemirror_mode": {
    "name": "ipython",
    "version": 3
   },
   "file_extension": ".py",
   "mimetype": "text/x-python",
   "name": "python",
   "nbconvert_exporter": "python",
   "pygments_lexer": "ipython3",
   "version": "3.6.10"
  }
 },
 "nbformat": 4,
 "nbformat_minor": 4
}
