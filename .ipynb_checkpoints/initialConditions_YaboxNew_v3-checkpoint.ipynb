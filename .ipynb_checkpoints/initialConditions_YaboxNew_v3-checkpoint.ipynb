version https://git-lfs.github.com/spec/v1
oid sha256:46d1f0031d6f450ba5a1b9415516b298585b190473b419f07b6c0ef718e3e44f
size 6238880
