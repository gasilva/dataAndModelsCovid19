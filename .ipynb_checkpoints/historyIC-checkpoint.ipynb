version https://git-lfs.github.com/spec/v1
oid sha256:adfeae098fb8d05820f2cdba12172b53f74c0770bbebfcb98fc74c6f6f0b953c
size 18369654
