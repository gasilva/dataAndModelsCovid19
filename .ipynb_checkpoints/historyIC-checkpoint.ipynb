version https://git-lfs.github.com/spec/v1
oid sha256:c327b816cf4f8dc0a138865a6d947c8fd92e97856646bcabc0f35e9fad60f00d
size 18110495
