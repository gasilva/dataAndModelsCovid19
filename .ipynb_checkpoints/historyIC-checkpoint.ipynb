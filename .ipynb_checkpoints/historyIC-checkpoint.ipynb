version https://git-lfs.github.com/spec/v1
oid sha256:e4b57b57ca95a7e6a4eb1e4ff4dcc65affcd9c82a5264066f21b516926aa65f2
size 16832968
