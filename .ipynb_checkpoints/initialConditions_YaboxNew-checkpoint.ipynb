version https://git-lfs.github.com/spec/v1
oid sha256:4587cdac322b660c09c594f87d5818c63fd6109e5742a44f40619687bcb7daf2
size 22012442
