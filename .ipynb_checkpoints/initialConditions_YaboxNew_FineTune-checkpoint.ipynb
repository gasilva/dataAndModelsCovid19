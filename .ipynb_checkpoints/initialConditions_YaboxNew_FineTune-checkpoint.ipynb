version https://git-lfs.github.com/spec/v1
oid sha256:82e959ced27c85a352c1f5a88b29ce8d43e6d8510f29037c7fbd75235668f8b6
size 11315
