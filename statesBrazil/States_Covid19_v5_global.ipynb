version https://git-lfs.github.com/spec/v1
oid sha256:93c6487b39531a440ee83a7d460df5338e585aa007a13bf337732614278afc13
size 509286
