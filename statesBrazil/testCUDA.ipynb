version https://git-lfs.github.com/spec/v1
oid sha256:c31767c4c28ede474689117e640de9c000d343858efcd710ef5a8440218506cc
size 5492
