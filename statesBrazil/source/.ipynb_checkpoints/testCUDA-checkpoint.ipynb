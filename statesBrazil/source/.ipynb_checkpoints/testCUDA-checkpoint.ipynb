{
 "cells": [
  {
   "cell_type": "code",
   "execution_count": 5,
   "metadata": {},
   "outputs": [
    {
     "name": "stderr",
     "output_type": "stream",
     "text": [
      "2020-06-24 16:14:14,234\tINFO resource_spec.py:204 -- Starting Ray with 102.54 GiB memory available for workers and up to 47.94 GiB for objects. You can adjust these settings with ray.init(memory=<bytes>, object_store_memory=<bytes>).\n",
      "2020-06-24 16:14:14,463\tWARNING services.py:923 -- Redis failed to start, retrying now.\n",
      "2020-06-24 16:14:14,688\tINFO services.py:1163 -- View the Ray dashboard at \u001b[1m\u001b[32mlocalhost:8267\u001b[39m\u001b[22m\n"
     ]
    },
    {
     "data": {
      "text/plain": [
       "ObjectID(45b95b1c8bd3a9c4ffffffff010000c001000000)"
      ]
     },
     "execution_count": 5,
     "metadata": {},
     "output_type": "execute_result"
    },
    {
     "name": "stdout",
     "output_type": "stream",
     "text": [
      "\u001b[2m\u001b[36m(pid=89576)\u001b[0m ray.get_gpu_ids(): 512\n",
      "\u001b[2m\u001b[36m(pid=89576)\u001b[0m CUDA_VISIBLE_DEVICES: 512\n"
     ]
    }
   ],
   "source": [
    "import os, ray\n",
    "import cupy as cupy\n",
    "from numba import cuda\n",
    "from environs import Env\n",
    "env = Env()\n",
    "gpus=512\n",
    "env.str(\"CUDA_DEVICE_ORDER\",'PCI_BUS_ID')\n",
    "env.int(\"CUDA_VISIBLE_DEVICES\",512)\n",
    "env.int(\"NUMBA_ENABLE_CUDASIM\",1)\n",
    "env.bool(\"OMPI_MCA_opal_cuda_support\",True)\n",
    "\n",
    "ray.shutdown()\n",
    "ray.init(num_gpus=513,num_cpus=1)\n",
    "\n",
    "@ray.remote(num_gpus=1)\n",
    "def use_gpu():\n",
    "    print(\"ray.get_gpu_ids(): {}\".format(ray.get_gpu_ids()[0]))\n",
    "    print(\"CUDA_VISIBLE_DEVICES: {}\".format(os.environ[\"CUDA_VISIBLE_DEVICES\"]))\n",
    "\n",
    "use_gpu.remote()"
   ]
  },
  {
   "cell_type": "code",
   "execution_count": 6,
   "metadata": {},
   "outputs": [
    {
     "name": "stdout",
     "output_type": "stream",
     "text": [
      "Cuda available:  True\n",
      "Device name: Quadro P620\n"
     ]
    }
   ],
   "source": [
    "import torch\n",
    "print(\"Cuda available: \", torch.cuda.is_available())\n",
    "print(\"Device name:\", torch.cuda.get_device_name())"
   ]
  },
  {
   "cell_type": "code",
   "execution_count": 7,
   "metadata": {},
   "outputs": [],
   "source": [
    "import numpy as np\n",
    "import numba\n",
    "\n",
    "@numba.stencil\n",
    "def _smooth(x):\n",
    "    return (x[-1, -1] + x[-1, 0] + x[-1, 1] +\n",
    "            x[ 0, -1] + x[ 0, 0] + x[ 0, 1] +\n",
    "            x[ 1, -1] + x[ 1, 0] + x[ 1, 1]) // 9\n",
    "\n",
    "@numba.njit\n",
    "def smooth_cpu(x):\n",
    "    return _smooth(x)"
   ]
  },
  {
   "cell_type": "code",
   "execution_count": 8,
   "metadata": {},
   "outputs": [],
   "source": [
    "from numba import cuda\n",
    "\n",
    "@cuda.jit\n",
    "def smooth_gpu(x, out):\n",
    "    i, j = cuda.grid(2)\n",
    "    n, m = x.shape\n",
    "    if 1 <= i < n - 1 and 1 <= j < m - 1:\n",
    "        out[i, j] = (x[i - 1, j - 1] + x[i - 1, j] + x[i - 1, j + 1] +\n",
    "                     x[i    , j - 1] + x[i    , j] + x[i    , j + 1] +\n",
    "                     x[i + 1, j - 1] + x[i + 1, j] + x[i + 1, j + 1]) // 9"
   ]
  },
  {
   "cell_type": "code",
   "execution_count": 9,
   "metadata": {},
   "outputs": [
    {
     "name": "stdout",
     "output_type": "stream",
     "text": [
      "416 ms ± 1.34 ms per loop (mean ± std. dev. of 7 runs, 1 loop each)\n"
     ]
    }
   ],
   "source": [
    "x_cpu = np.ones((10000, 10000), dtype='int8')\n",
    "\n",
    "%timeit smooth_cpu(x_cpu)"
   ]
  },
  {
   "cell_type": "code",
   "execution_count": null,
   "metadata": {},
   "outputs": [],
   "source": [
    "import cupy,math\n",
    "\n",
    "x_gpu = cupy.ones((10000, 10000), dtype='int8')\n",
    "out_gpu = cupy.zeros((10000, 10000), dtype='int8')\n",
    "\n",
    "# I copied the four lines below from the Numba docs\n",
    "threadsperblock = (16, 16)\n",
    "blockspergrid_x = math.ceil(x_gpu.shape[0] / threadsperblock[0])\n",
    "blockspergrid_y = math.ceil(x_gpu.shape[1] / threadsperblock[1])\n",
    "blockspergrid = (blockspergrid_x, blockspergrid_y)\n",
    "\n",
    "%timeit smooth_gpu[blockspergrid, threadsperblock](x_gpu, out_gpu)"
   ]
  },
  {
   "cell_type": "code",
   "execution_count": 10,
   "metadata": {},
   "outputs": [
    {
     "ename": "TypeError",
     "evalue": "__init__() got an unexpected keyword argument 'debug'",
     "output_type": "error",
     "traceback": [
      "\u001b[0;31m---------------------------------------------------------------------------\u001b[0m",
      "\u001b[0;31mTypeError\u001b[0m                                 Traceback (most recent call last)",
      "\u001b[0;32m<ipython-input-10-bbc88ebad435>\u001b[0m in \u001b[0;36m<module>\u001b[0;34m\u001b[0m\n\u001b[1;32m      3\u001b[0m \u001b[0;32mfrom\u001b[0m \u001b[0mtimeit\u001b[0m \u001b[0;32mimport\u001b[0m \u001b[0mdefault_timer\u001b[0m \u001b[0;32mas\u001b[0m \u001b[0mtimer\u001b[0m\u001b[0;34m\u001b[0m\u001b[0;34m\u001b[0m\u001b[0m\n\u001b[1;32m      4\u001b[0m \u001b[0;34m\u001b[0m\u001b[0m\n\u001b[0;32m----> 5\u001b[0;31m \u001b[0;34m@\u001b[0m\u001b[0mcuda\u001b[0m\u001b[0;34m.\u001b[0m\u001b[0mjit\u001b[0m\u001b[0;34m(\u001b[0m\u001b[0mdevice\u001b[0m\u001b[0;34m=\u001b[0m\u001b[0;32mTrue\u001b[0m\u001b[0;34m)\u001b[0m\u001b[0;34m\u001b[0m\u001b[0;34m\u001b[0m\u001b[0m\n\u001b[0m\u001b[1;32m      6\u001b[0m \u001b[0;32mdef\u001b[0m \u001b[0mmandel\u001b[0m\u001b[0;34m(\u001b[0m\u001b[0mx\u001b[0m\u001b[0;34m,\u001b[0m \u001b[0my\u001b[0m\u001b[0;34m,\u001b[0m \u001b[0mmax_iters\u001b[0m\u001b[0;34m)\u001b[0m\u001b[0;34m:\u001b[0m\u001b[0;34m\u001b[0m\u001b[0;34m\u001b[0m\u001b[0m\n\u001b[1;32m      7\u001b[0m   \"\"\"\n",
      "\u001b[0;32m~/anaconda3/envs/geo_env/lib/python3.6/site-packages/numba/cuda/decorators.py\u001b[0m in \u001b[0;36mautojitwrapper\u001b[0;34m(func)\u001b[0m\n\u001b[1;32m     62\u001b[0m                 \u001b[0;32mdef\u001b[0m \u001b[0mautojitwrapper\u001b[0m\u001b[0;34m(\u001b[0m\u001b[0mfunc\u001b[0m\u001b[0;34m)\u001b[0m\u001b[0;34m:\u001b[0m\u001b[0;34m\u001b[0m\u001b[0;34m\u001b[0m\u001b[0m\n\u001b[1;32m     63\u001b[0m                     return FakeCUDAKernel(func, device=device, fastmath=fastmath,\n\u001b[0;32m---> 64\u001b[0;31m                                           debug=debug)\n\u001b[0m\u001b[1;32m     65\u001b[0m             \u001b[0;32melse\u001b[0m\u001b[0;34m:\u001b[0m\u001b[0;34m\u001b[0m\u001b[0;34m\u001b[0m\u001b[0m\n\u001b[1;32m     66\u001b[0m                 \u001b[0;32mdef\u001b[0m \u001b[0mautojitwrapper\u001b[0m\u001b[0;34m(\u001b[0m\u001b[0mfunc\u001b[0m\u001b[0;34m)\u001b[0m\u001b[0;34m:\u001b[0m\u001b[0;34m\u001b[0m\u001b[0;34m\u001b[0m\u001b[0m\n",
      "\u001b[0;31mTypeError\u001b[0m: __init__() got an unexpected keyword argument 'debug'"
     ]
    }
   ],
   "source": [
    "import numpy as np\n",
    "from pylab import imshow, show\n",
    "from timeit import default_timer as timer\n",
    "\n",
    "@cuda.jit(device=True)\n",
    "def mandel(x, y, max_iters):\n",
    "  \"\"\"\n",
    "  Given the real and imaginary parts of a complex number,\n",
    "  determine if it is a candidate for membership in the Mandelbrot\n",
    "  set given a fixed number of iterations.\n",
    "  \"\"\"\n",
    "  c = complex(x, y)\n",
    "  z = 0.0j\n",
    "  for i in range(max_iters):\n",
    "    z = z*z + c\n",
    "    if (z.real*z.real + z.imag*z.imag) >= 4:\n",
    "      return i\n",
    "\n",
    "  return max_iters\n",
    "\n",
    "@cuda.jit\n",
    "def mandel_kernel(min_x, max_x, min_y, max_y, image, iters):\n",
    "  height = image.shape[0]\n",
    "  width = image.shape[1]\n",
    "\n",
    "  pixel_size_x = (max_x - min_x) / width\n",
    "  pixel_size_y = (max_y - min_y) / height\n",
    "\n",
    "  startX = cuda.blockDim.x * cuda.blockIdx.x + cuda.threadIdx.x\n",
    "  startY = cuda.blockDim.y * cuda.blockIdx.y + cuda.threadIdx.y\n",
    "  gridX = cuda.gridDim.x * cuda.blockDim.x;\n",
    "  gridY = cuda.gridDim.y * cuda.blockDim.y;\n",
    "\n",
    "  for x in range(startX, width, gridX):\n",
    "    real = min_x + x * pixel_size_x\n",
    "    for y in range(startY, height, gridY):\n",
    "      imag = min_y + y * pixel_size_y \n",
    "      image[y, x] = mandel(real, imag, iters)\n",
    "\n",
    "gimage = np.zeros((1024, 1536), dtype = np.uint8)\n",
    "blockdim = (32, 8)\n",
    "griddim = (32,16)\n",
    "\n",
    "start = timer()\n",
    "d_image = cuda.to_device(gimage)\n",
    "mandel_kernel[griddim, blockdim](-2.0, 1.0, -1.0, 1.0, d_image, 20) \n",
    "d_image.to_host()\n",
    "dt = timer() - start\n",
    "\n",
    "print (\"Mandelbrot created on GPU in %f s\" % dt)\n",
    "\n",
    "imshow(gimage)"
   ]
  },
  {
   "cell_type": "code",
   "execution_count": null,
   "metadata": {},
   "outputs": [],
   "source": []
  }
 ],
 "metadata": {
  "kernelspec": {
   "display_name": "maps_env",
   "language": "python",
   "name": "maps_env"
  },
  "language_info": {
   "codemirror_mode": {
    "name": "ipython",
    "version": 3
   },
   "file_extension": ".py",
   "mimetype": "text/x-python",
   "name": "python",
   "nbconvert_exporter": "python",
   "pygments_lexer": "ipython3",
   "version": "3.8.3"
  }
 },
 "nbformat": 4,
 "nbformat_minor": 4
}
