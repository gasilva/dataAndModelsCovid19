version https://git-lfs.github.com/spec/v1
oid sha256:a33a39ae57e8aef1509ce3bd00f463e66377214d1fce6e79f0012a1e1529271d
size 24127
