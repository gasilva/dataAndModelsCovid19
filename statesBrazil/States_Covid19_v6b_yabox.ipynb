version https://git-lfs.github.com/spec/v1
oid sha256:92d96c81bc3010916d69b2feffd58cdd28f2f7fb81e4ad40a002afa29122bbc6
size 9410488
