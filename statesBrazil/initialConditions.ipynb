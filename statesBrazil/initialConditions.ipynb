version https://git-lfs.github.com/spec/v1
oid sha256:9f361e6fdc2fe088547058acc0b267865cf73217a4df3f905780c0a9fc95e10d
size 35255
