{
 "cells": [
  {
   "cell_type": "code",
   "execution_count": null,
   "metadata": {},
   "outputs": [],
   "source": []
  },
  {
   "cell_type": "code",
   "execution_count": 1,
   "metadata": {},
   "outputs": [],
   "source": [
    "from scipy.optimize import brute\n",
    "import numpy as np\n",
    "from datetime import datetime,timedelta\n",
    "import pandas as pd"
   ]
  },
  {
   "cell_type": "code",
   "execution_count": 2,
   "metadata": {},
   "outputs": [
    {
     "output_type": "stream",
     "name": "stderr",
     "text": "2020-05-18 15:50:35,154\tWARNING resource_spec.py:163 -- Warning: Capping object memory store to 20.0GB. To increase this further, specify `object_store_memory` when calling ray.init() or ray start.\n2020-05-18 15:50:35,156\tINFO resource_spec.py:205 -- Starting Ray with 120.7 GiB memory available for workers and up to 18.63 GiB for objects. You can adjust these settings with ray.init(memory=<bytes>, object_store_memory=<bytes>).\n"
    }
   ],
   "source": [
    "# Load solver\n",
    "import ray\n",
    "import LearnerYabox_v2a as Learner "
   ]
  },
  {
   "cell_type": "code",
   "execution_count": 3,
   "metadata": {},
   "outputs": [],
   "source": [
    "import ray"
   ]
  },
  {
   "cell_type": "code",
   "execution_count": 5,
   "metadata": {},
   "outputs": [
    {
     "output_type": "execute_result",
     "data": {
      "text/plain": "                               DRS  start-date  prediction-range        s0  \\\n0        DRS 01 - Grande São Paulo  2020-03-22               150  900000.0   \n1               DRS 02 - Araçatuba  2020-04-01               150     500.0   \n2              DRS 03 - Araraquara  2020-04-01               150    2000.0   \n3        DRS 04 - Baixada Santista  2020-04-01               150    8000.0   \n4                DRS 05 - Barretos  2020-04-01               150    2000.0   \n5                   DRS 06 - Bauru  2020-04-01               150   10000.0   \n6                DRS 07 - Campinas  2020-04-01               150   20000.0   \n7                  DRS 08 - Franca  2020-04-01               150    1000.0   \n8                 DRS 09 - Marília  2020-04-01               150    5000.0   \n9              DRS 10 - Piracicaba  2020-04-01               150   10000.0   \n10    DRS 11 - Presidente Prudente  2020-04-01               150    1000.0   \n11               DRS 12 - Registro  2020-04-01               150    1000.0   \n12         DRS 13 - Ribeirão Preto  2020-04-01               150    5000.0   \n13  DRS 14 - São João da Boa Vista  2020-04-01               150    2000.0   \n14  DRS 15 - São José do Rio Preto  2020-04-01               150   10000.0   \n15               DRS 16 - Sorocaba  2020-04-01               150    1200.0   \n16                DRS 17 - Taubaté  2020-04-01               150   10000.0   \n\n        e0      a0       i0      r0       d0  START  RATIO  WCASES  WREC  \n0   0.0001  0.0001   0.0001  0.0001  80.0000   1500    0.1     0.6   0.1  \n1   0.0001  0.0001   0.0001  0.0001   0.0001      0    0.1     0.4   0.1  \n2   0.0001  0.0001   0.0001  0.0001   0.0001      0    0.1     0.4   0.1  \n3   0.0001  0.0001   0.0001  0.0001   0.0001      0    0.1     0.4   0.1  \n4   0.0001  0.0001   0.0001  0.0001   0.0001      0    0.1     0.4   0.1  \n5   0.0001  0.0001   4.0000  0.0001   0.0001      0    0.1     0.4   0.1  \n6   0.0001  0.0001  40.0000  0.0001   0.0001      0    0.1     0.4   0.1  \n7   0.0001  0.0001   0.0001  0.0001   0.0001      0    0.1     0.4   0.1  \n8   0.0001  0.0001   0.0001  0.0001   0.0001      0    0.1     0.4   0.1  \n9   0.0001  0.0001   0.0001  0.0001   1.0000      0    0.1     0.4   0.1  \n10  0.0001  0.0001   0.0001  0.0001   0.0001      0    0.1     0.4   0.1  \n11  0.0001  0.0001   0.0001  0.0001   0.0001      0    0.1     0.4   0.1  \n12  0.0001  0.0001   0.0001  0.0001   0.0001      5    0.1     0.4   0.1  \n13  0.0001  0.0001   0.0001  0.0001   0.0001      0    0.1     0.4   0.1  \n14  0.0001  0.0001   0.0001  0.0001   0.0001      0    0.1     0.4   0.1  \n15  0.0001  0.0001   2.0000  0.0001   0.0001      0    0.1     0.4   0.1  \n16  0.0001  0.0001  17.0000  0.0001   2.0000      0    0.1     0.4   0.1  ",
      "text/html": "<div>\n<style scoped>\n    .dataframe tbody tr th:only-of-type {\n        vertical-align: middle;\n    }\n\n    .dataframe tbody tr th {\n        vertical-align: top;\n    }\n\n    .dataframe thead th {\n        text-align: right;\n    }\n</style>\n<table border=\"1\" class=\"dataframe\">\n  <thead>\n    <tr style=\"text-align: right;\">\n      <th></th>\n      <th>DRS</th>\n      <th>start-date</th>\n      <th>prediction-range</th>\n      <th>s0</th>\n      <th>e0</th>\n      <th>a0</th>\n      <th>i0</th>\n      <th>r0</th>\n      <th>d0</th>\n      <th>START</th>\n      <th>RATIO</th>\n      <th>WCASES</th>\n      <th>WREC</th>\n    </tr>\n  </thead>\n  <tbody>\n    <tr>\n      <th>0</th>\n      <td>DRS 01 - Grande São Paulo</td>\n      <td>2020-03-22</td>\n      <td>150</td>\n      <td>900000.0</td>\n      <td>0.0001</td>\n      <td>0.0001</td>\n      <td>0.0001</td>\n      <td>0.0001</td>\n      <td>80.0000</td>\n      <td>1500</td>\n      <td>0.1</td>\n      <td>0.6</td>\n      <td>0.1</td>\n    </tr>\n    <tr>\n      <th>1</th>\n      <td>DRS 02 - Araçatuba</td>\n      <td>2020-04-01</td>\n      <td>150</td>\n      <td>500.0</td>\n      <td>0.0001</td>\n      <td>0.0001</td>\n      <td>0.0001</td>\n      <td>0.0001</td>\n      <td>0.0001</td>\n      <td>0</td>\n      <td>0.1</td>\n      <td>0.4</td>\n      <td>0.1</td>\n    </tr>\n    <tr>\n      <th>2</th>\n      <td>DRS 03 - Araraquara</td>\n      <td>2020-04-01</td>\n      <td>150</td>\n      <td>2000.0</td>\n      <td>0.0001</td>\n      <td>0.0001</td>\n      <td>0.0001</td>\n      <td>0.0001</td>\n      <td>0.0001</td>\n      <td>0</td>\n      <td>0.1</td>\n      <td>0.4</td>\n      <td>0.1</td>\n    </tr>\n    <tr>\n      <th>3</th>\n      <td>DRS 04 - Baixada Santista</td>\n      <td>2020-04-01</td>\n      <td>150</td>\n      <td>8000.0</td>\n      <td>0.0001</td>\n      <td>0.0001</td>\n      <td>0.0001</td>\n      <td>0.0001</td>\n      <td>0.0001</td>\n      <td>0</td>\n      <td>0.1</td>\n      <td>0.4</td>\n      <td>0.1</td>\n    </tr>\n    <tr>\n      <th>4</th>\n      <td>DRS 05 - Barretos</td>\n      <td>2020-04-01</td>\n      <td>150</td>\n      <td>2000.0</td>\n      <td>0.0001</td>\n      <td>0.0001</td>\n      <td>0.0001</td>\n      <td>0.0001</td>\n      <td>0.0001</td>\n      <td>0</td>\n      <td>0.1</td>\n      <td>0.4</td>\n      <td>0.1</td>\n    </tr>\n    <tr>\n      <th>5</th>\n      <td>DRS 06 - Bauru</td>\n      <td>2020-04-01</td>\n      <td>150</td>\n      <td>10000.0</td>\n      <td>0.0001</td>\n      <td>0.0001</td>\n      <td>4.0000</td>\n      <td>0.0001</td>\n      <td>0.0001</td>\n      <td>0</td>\n      <td>0.1</td>\n      <td>0.4</td>\n      <td>0.1</td>\n    </tr>\n    <tr>\n      <th>6</th>\n      <td>DRS 07 - Campinas</td>\n      <td>2020-04-01</td>\n      <td>150</td>\n      <td>20000.0</td>\n      <td>0.0001</td>\n      <td>0.0001</td>\n      <td>40.0000</td>\n      <td>0.0001</td>\n      <td>0.0001</td>\n      <td>0</td>\n      <td>0.1</td>\n      <td>0.4</td>\n      <td>0.1</td>\n    </tr>\n    <tr>\n      <th>7</th>\n      <td>DRS 08 - Franca</td>\n      <td>2020-04-01</td>\n      <td>150</td>\n      <td>1000.0</td>\n      <td>0.0001</td>\n      <td>0.0001</td>\n      <td>0.0001</td>\n      <td>0.0001</td>\n      <td>0.0001</td>\n      <td>0</td>\n      <td>0.1</td>\n      <td>0.4</td>\n      <td>0.1</td>\n    </tr>\n    <tr>\n      <th>8</th>\n      <td>DRS 09 - Marília</td>\n      <td>2020-04-01</td>\n      <td>150</td>\n      <td>5000.0</td>\n      <td>0.0001</td>\n      <td>0.0001</td>\n      <td>0.0001</td>\n      <td>0.0001</td>\n      <td>0.0001</td>\n      <td>0</td>\n      <td>0.1</td>\n      <td>0.4</td>\n      <td>0.1</td>\n    </tr>\n    <tr>\n      <th>9</th>\n      <td>DRS 10 - Piracicaba</td>\n      <td>2020-04-01</td>\n      <td>150</td>\n      <td>10000.0</td>\n      <td>0.0001</td>\n      <td>0.0001</td>\n      <td>0.0001</td>\n      <td>0.0001</td>\n      <td>1.0000</td>\n      <td>0</td>\n      <td>0.1</td>\n      <td>0.4</td>\n      <td>0.1</td>\n    </tr>\n    <tr>\n      <th>10</th>\n      <td>DRS 11 - Presidente Prudente</td>\n      <td>2020-04-01</td>\n      <td>150</td>\n      <td>1000.0</td>\n      <td>0.0001</td>\n      <td>0.0001</td>\n      <td>0.0001</td>\n      <td>0.0001</td>\n      <td>0.0001</td>\n      <td>0</td>\n      <td>0.1</td>\n      <td>0.4</td>\n      <td>0.1</td>\n    </tr>\n    <tr>\n      <th>11</th>\n      <td>DRS 12 - Registro</td>\n      <td>2020-04-01</td>\n      <td>150</td>\n      <td>1000.0</td>\n      <td>0.0001</td>\n      <td>0.0001</td>\n      <td>0.0001</td>\n      <td>0.0001</td>\n      <td>0.0001</td>\n      <td>0</td>\n      <td>0.1</td>\n      <td>0.4</td>\n      <td>0.1</td>\n    </tr>\n    <tr>\n      <th>12</th>\n      <td>DRS 13 - Ribeirão Preto</td>\n      <td>2020-04-01</td>\n      <td>150</td>\n      <td>5000.0</td>\n      <td>0.0001</td>\n      <td>0.0001</td>\n      <td>0.0001</td>\n      <td>0.0001</td>\n      <td>0.0001</td>\n      <td>5</td>\n      <td>0.1</td>\n      <td>0.4</td>\n      <td>0.1</td>\n    </tr>\n    <tr>\n      <th>13</th>\n      <td>DRS 14 - São João da Boa Vista</td>\n      <td>2020-04-01</td>\n      <td>150</td>\n      <td>2000.0</td>\n      <td>0.0001</td>\n      <td>0.0001</td>\n      <td>0.0001</td>\n      <td>0.0001</td>\n      <td>0.0001</td>\n      <td>0</td>\n      <td>0.1</td>\n      <td>0.4</td>\n      <td>0.1</td>\n    </tr>\n    <tr>\n      <th>14</th>\n      <td>DRS 15 - São José do Rio Preto</td>\n      <td>2020-04-01</td>\n      <td>150</td>\n      <td>10000.0</td>\n      <td>0.0001</td>\n      <td>0.0001</td>\n      <td>0.0001</td>\n      <td>0.0001</td>\n      <td>0.0001</td>\n      <td>0</td>\n      <td>0.1</td>\n      <td>0.4</td>\n      <td>0.1</td>\n    </tr>\n    <tr>\n      <th>15</th>\n      <td>DRS 16 - Sorocaba</td>\n      <td>2020-04-01</td>\n      <td>150</td>\n      <td>1200.0</td>\n      <td>0.0001</td>\n      <td>0.0001</td>\n      <td>2.0000</td>\n      <td>0.0001</td>\n      <td>0.0001</td>\n      <td>0</td>\n      <td>0.1</td>\n      <td>0.4</td>\n      <td>0.1</td>\n    </tr>\n    <tr>\n      <th>16</th>\n      <td>DRS 17 - Taubaté</td>\n      <td>2020-04-01</td>\n      <td>150</td>\n      <td>10000.0</td>\n      <td>0.0001</td>\n      <td>0.0001</td>\n      <td>17.0000</td>\n      <td>0.0001</td>\n      <td>2.0000</td>\n      <td>0</td>\n      <td>0.1</td>\n      <td>0.4</td>\n      <td>0.1</td>\n    </tr>\n  </tbody>\n</table>\n</div>"
     },
     "metadata": {},
     "execution_count": 5
    }
   ],
   "source": [
    "# Initial parameters\n",
    "dfparam = pd.read_csv(\"data/param.csv\")\n",
    "dfparam"
   ]
  },
  {
   "cell_type": "code",
   "execution_count": 6,
   "metadata": {},
   "outputs": [],
   "source": [
    "df = pd.read_csv(\"data/dados_total_estados.csv\")\n",
    "df"
   ]
  },
  {
   "cell_type": "code",
   "execution_count": 7,
   "metadata": {},
   "outputs": [],
   "source": [
    "#@ray.remote\n",
    "def opt(state,e0,a0,r0,d0,date,version):\n",
    "    rranges = [slice(1e5,2e6,1e5),slice(-2,2,4),slice(0,1000,1000),slice(0.1,0.6,0.1),slice(0.1,0.2,0.05)]\n",
    "    optimal = brute(fobjective,        \n",
    "        ranges=rranges,\n",
    "        args=(state,e0,a0,r0,d0,date,version), full_output=True, disp=True, finish=None)\n",
    "    \n",
    "    return optimal"
   ]
  },
  {
   "cell_type": "code",
   "execution_count": 8,
   "metadata": {},
   "outputs": [],
   "source": [
    "from scipy.integrate import odeint\n",
    "\n",
    "def fobjective(point,state,e0,a0,r0,d0,date,version):\n",
    "    results=[]\n",
    "    s0, deltaDate, i0, weigthCases, weigthRecov = point\n",
    "    \n",
    "    startNCases = 20\n",
    "    ratio = 0.1\n",
    "    version = 1\n",
    "    cleanRecovered = False\n",
    "    \n",
    "    Date = datetime.strptime(date, \"%Y-%m-%d\")\n",
    "    end_date = Date + timedelta(days=+int(deltaDate))\n",
    "    dateStr=end_date.strftime(\"%Y-%m-%d\")\n",
    "    \n",
    "    predict_range = 120\n",
    "    \n",
    "    learner = Learner.Learner.remote(state,dateStr, \n",
    "                                     predict_range,s0, e0, a0, i0, r0, d0, \n",
    "                                     startNCases, ratio, wcases, wrec,\n",
    "                                     cleanRecovered, version, savedata=False)\n",
    "    \n",
    "    results.append(learner.train.remote())\n",
    "    results = ray.get(results)\n",
    "    return results"
   ]
  },
  {
   "cell_type": "code",
   "execution_count": 10,
   "metadata": {},
   "outputs": [
    {
     "output_type": "error",
     "ename": "RayTaskError",
     "evalue": "\u001b[36mray_Learner:train()\u001b[39m (pid=22951, host=jedha)\n  File \"/home/ats4i/Desktop/corona/dataAndModelsCovid19/regionsSP/Learner.py\", line 152, in train\n    end=datetime.strptime(new_index[len(new_index)-2],'%Y-%m-%d'))\n  File \"/home/ats4i/anaconda3/lib/python3.7/site-packages/pandas/core/generic.py\", line 5192, in __setattr__\n    return object.__setattr__(self, name, value)\n  File \"pandas/_libs/properties.pyx\", line 67, in pandas._libs.properties.AxisProperty.__set__\n  File \"/home/ats4i/anaconda3/lib/python3.7/site-packages/pandas/core/generic.py\", line 690, in _set_axis\n    self._data.set_axis(axis, labels)\n  File \"/home/ats4i/anaconda3/lib/python3.7/site-packages/pandas/core/internals/managers.py\", line 183, in set_axis\n    \"values have {new} elements\".format(old=old_len, new=new_len)\nValueError: Length mismatch: Expected axis has 60 elements, new values have 59 elements\n",
     "traceback": [
      "\u001b[0;31m---------------------------------------------------------------------------\u001b[0m",
      "\u001b[0;31mRayTaskError\u001b[0m                              Traceback (most recent call last)",
      "\u001b[0;32m<ipython-input-10-10f2d02e0f64>\u001b[0m in \u001b[0;36m<module>\u001b[0;34m\u001b[0m\n\u001b[1;32m     42\u001b[0m     \u001b[0mversion\u001b[0m \u001b[0;34m=\u001b[0m \u001b[0;36m1\u001b[0m\u001b[0;34m\u001b[0m\u001b[0;34m\u001b[0m\u001b[0m\n\u001b[1;32m     43\u001b[0m     \u001b[0moptimal\u001b[0m \u001b[0;34m=\u001b[0m \u001b[0;34m[\u001b[0m\u001b[0;34m]\u001b[0m\u001b[0;34m\u001b[0m\u001b[0;34m\u001b[0m\u001b[0m\n\u001b[0;32m---> 44\u001b[0;31m     \u001b[0moptimal\u001b[0m\u001b[0;34m.\u001b[0m\u001b[0mappend\u001b[0m\u001b[0;34m(\u001b[0m\u001b[0mopt\u001b[0m\u001b[0;34m(\u001b[0m\u001b[0mdistrictRegion\u001b[0m\u001b[0;34m,\u001b[0m\u001b[0me0\u001b[0m\u001b[0;34m,\u001b[0m\u001b[0ma0\u001b[0m\u001b[0;34m,\u001b[0m\u001b[0mr0\u001b[0m\u001b[0;34m,\u001b[0m\u001b[0md0\u001b[0m\u001b[0;34m,\u001b[0m\u001b[0mstartdate\u001b[0m\u001b[0;34m,\u001b[0m\u001b[0mversion\u001b[0m\u001b[0;34m)\u001b[0m\u001b[0;34m)\u001b[0m\u001b[0;34m\u001b[0m\u001b[0;34m\u001b[0m\u001b[0m\n\u001b[0m\u001b[1;32m     45\u001b[0m \u001b[0;34m\u001b[0m\u001b[0m\n\u001b[1;32m     46\u001b[0m     \u001b[0mprint\u001b[0m\u001b[0;34m(\u001b[0m\u001b[0;34m\"DRS = {}\\n\"\u001b[0m\u001b[0;34m.\u001b[0m\u001b[0mformat\u001b[0m\u001b[0;34m(\u001b[0m\u001b[0mdistrictRegion\u001b[0m\u001b[0;34m)\u001b[0m\u001b[0;34m)\u001b[0m\u001b[0;34m\u001b[0m\u001b[0;34m\u001b[0m\u001b[0m\n",
      "\u001b[0;32m<ipython-input-7-9a5ec9716b52>\u001b[0m in \u001b[0;36mopt\u001b[0;34m(districtRegion, e0, a0, r0, d0, date, version)\u001b[0m\n\u001b[1;32m      4\u001b[0m     optimal = brute(fobjective,        \n\u001b[1;32m      5\u001b[0m         \u001b[0mranges\u001b[0m\u001b[0;34m=\u001b[0m\u001b[0mrranges\u001b[0m\u001b[0;34m,\u001b[0m\u001b[0;34m\u001b[0m\u001b[0;34m\u001b[0m\u001b[0m\n\u001b[0;32m----> 6\u001b[0;31m         args=(districtRegion,e0,a0,r0,d0,date,version), full_output=True, disp=True, finish=None)\n\u001b[0m\u001b[1;32m      7\u001b[0m \u001b[0;34m\u001b[0m\u001b[0m\n\u001b[1;32m      8\u001b[0m     \u001b[0;32mreturn\u001b[0m \u001b[0moptimal\u001b[0m\u001b[0;34m\u001b[0m\u001b[0;34m\u001b[0m\u001b[0m\n",
      "\u001b[0;32m~/anaconda3/lib/python3.7/site-packages/scipy/optimize/optimize.py\u001b[0m in \u001b[0;36mbrute\u001b[0;34m(func, ranges, args, Ns, full_output, finish, disp, workers)\u001b[0m\n\u001b[1;32m   2915\u001b[0m     \u001b[0;31m# iterate over input arrays, possibly in parallel\u001b[0m\u001b[0;34m\u001b[0m\u001b[0;34m\u001b[0m\u001b[0;34m\u001b[0m\u001b[0m\n\u001b[1;32m   2916\u001b[0m     \u001b[0;32mwith\u001b[0m \u001b[0mMapWrapper\u001b[0m\u001b[0;34m(\u001b[0m\u001b[0mpool\u001b[0m\u001b[0;34m=\u001b[0m\u001b[0mworkers\u001b[0m\u001b[0;34m)\u001b[0m \u001b[0;32mas\u001b[0m \u001b[0mmapper\u001b[0m\u001b[0;34m:\u001b[0m\u001b[0;34m\u001b[0m\u001b[0;34m\u001b[0m\u001b[0m\n\u001b[0;32m-> 2917\u001b[0;31m         \u001b[0mJout\u001b[0m \u001b[0;34m=\u001b[0m \u001b[0mnp\u001b[0m\u001b[0;34m.\u001b[0m\u001b[0marray\u001b[0m\u001b[0;34m(\u001b[0m\u001b[0mlist\u001b[0m\u001b[0;34m(\u001b[0m\u001b[0mmapper\u001b[0m\u001b[0;34m(\u001b[0m\u001b[0mwrapped_func\u001b[0m\u001b[0;34m,\u001b[0m \u001b[0mgrid\u001b[0m\u001b[0;34m)\u001b[0m\u001b[0;34m)\u001b[0m\u001b[0;34m)\u001b[0m\u001b[0;34m\u001b[0m\u001b[0;34m\u001b[0m\u001b[0m\n\u001b[0m\u001b[1;32m   2918\u001b[0m         \u001b[0;32mif\u001b[0m \u001b[0;34m(\u001b[0m\u001b[0mN\u001b[0m \u001b[0;34m==\u001b[0m \u001b[0;36m1\u001b[0m\u001b[0;34m)\u001b[0m\u001b[0;34m:\u001b[0m\u001b[0;34m\u001b[0m\u001b[0;34m\u001b[0m\u001b[0m\n\u001b[1;32m   2919\u001b[0m             \u001b[0mgrid\u001b[0m \u001b[0;34m=\u001b[0m \u001b[0;34m(\u001b[0m\u001b[0mgrid\u001b[0m\u001b[0;34m,\u001b[0m\u001b[0;34m)\u001b[0m\u001b[0;34m\u001b[0m\u001b[0;34m\u001b[0m\u001b[0m\n",
      "\u001b[0;32m~/anaconda3/lib/python3.7/site-packages/scipy/optimize/optimize.py\u001b[0m in \u001b[0;36m__call__\u001b[0;34m(self, x)\u001b[0m\n\u001b[1;32m   2986\u001b[0m     \u001b[0;32mdef\u001b[0m \u001b[0m__call__\u001b[0m\u001b[0;34m(\u001b[0m\u001b[0mself\u001b[0m\u001b[0;34m,\u001b[0m \u001b[0mx\u001b[0m\u001b[0;34m)\u001b[0m\u001b[0;34m:\u001b[0m\u001b[0;34m\u001b[0m\u001b[0;34m\u001b[0m\u001b[0m\n\u001b[1;32m   2987\u001b[0m         \u001b[0;31m# flatten needed for one dimensional case.\u001b[0m\u001b[0;34m\u001b[0m\u001b[0;34m\u001b[0m\u001b[0;34m\u001b[0m\u001b[0m\n\u001b[0;32m-> 2988\u001b[0;31m         \u001b[0;32mreturn\u001b[0m \u001b[0mself\u001b[0m\u001b[0;34m.\u001b[0m\u001b[0mf\u001b[0m\u001b[0;34m(\u001b[0m\u001b[0mnp\u001b[0m\u001b[0;34m.\u001b[0m\u001b[0masarray\u001b[0m\u001b[0;34m(\u001b[0m\u001b[0mx\u001b[0m\u001b[0;34m)\u001b[0m\u001b[0;34m.\u001b[0m\u001b[0mflatten\u001b[0m\u001b[0;34m(\u001b[0m\u001b[0;34m)\u001b[0m\u001b[0;34m,\u001b[0m \u001b[0;34m*\u001b[0m\u001b[0mself\u001b[0m\u001b[0;34m.\u001b[0m\u001b[0margs\u001b[0m\u001b[0;34m)\u001b[0m\u001b[0;34m\u001b[0m\u001b[0;34m\u001b[0m\u001b[0m\n\u001b[0m\u001b[1;32m   2989\u001b[0m \u001b[0;34m\u001b[0m\u001b[0m\n\u001b[1;32m   2990\u001b[0m \u001b[0;34m\u001b[0m\u001b[0m\n",
      "\u001b[0;32m<ipython-input-8-1244ee6919fe>\u001b[0m in \u001b[0;36mfobjective\u001b[0;34m(point, districtRegion, e0, a0, r0, d0, date, version)\u001b[0m\n\u001b[1;32m     74\u001b[0m \u001b[0;34m\u001b[0m\u001b[0m\n\u001b[1;32m     75\u001b[0m     \u001b[0mresults\u001b[0m\u001b[0;34m.\u001b[0m\u001b[0mappend\u001b[0m\u001b[0;34m(\u001b[0m\u001b[0mlearner\u001b[0m\u001b[0;34m.\u001b[0m\u001b[0mtrain\u001b[0m\u001b[0;34m.\u001b[0m\u001b[0mremote\u001b[0m\u001b[0;34m(\u001b[0m\u001b[0;34m)\u001b[0m\u001b[0;34m)\u001b[0m\u001b[0;34m\u001b[0m\u001b[0;34m\u001b[0m\u001b[0m\n\u001b[0;32m---> 76\u001b[0;31m     \u001b[0mresults\u001b[0m \u001b[0;34m=\u001b[0m \u001b[0mray\u001b[0m\u001b[0;34m.\u001b[0m\u001b[0mget\u001b[0m\u001b[0;34m(\u001b[0m\u001b[0mresults\u001b[0m\u001b[0;34m)\u001b[0m\u001b[0;34m\u001b[0m\u001b[0;34m\u001b[0m\u001b[0m\n\u001b[0m\u001b[1;32m     77\u001b[0m     \u001b[0;32mreturn\u001b[0m \u001b[0mresults\u001b[0m\u001b[0;34m\u001b[0m\u001b[0;34m\u001b[0m\u001b[0m\n",
      "\u001b[0;32m~/anaconda3/lib/python3.7/site-packages/ray/worker.py\u001b[0m in \u001b[0;36mget\u001b[0;34m(object_ids)\u001b[0m\n\u001b[1;32m   2347\u001b[0m                 \u001b[0;32mif\u001b[0m \u001b[0misinstance\u001b[0m\u001b[0;34m(\u001b[0m\u001b[0mvalue\u001b[0m\u001b[0;34m,\u001b[0m \u001b[0mray\u001b[0m\u001b[0;34m.\u001b[0m\u001b[0mexceptions\u001b[0m\u001b[0;34m.\u001b[0m\u001b[0mUnreconstructableError\u001b[0m\u001b[0;34m)\u001b[0m\u001b[0;34m:\u001b[0m\u001b[0;34m\u001b[0m\u001b[0;34m\u001b[0m\u001b[0m\n\u001b[1;32m   2348\u001b[0m                     \u001b[0mworker\u001b[0m\u001b[0;34m.\u001b[0m\u001b[0mdump_object_store_memory_usage\u001b[0m\u001b[0;34m(\u001b[0m\u001b[0;34m)\u001b[0m\u001b[0;34m\u001b[0m\u001b[0;34m\u001b[0m\u001b[0m\n\u001b[0;32m-> 2349\u001b[0;31m                 \u001b[0;32mraise\u001b[0m \u001b[0mvalue\u001b[0m\u001b[0;34m\u001b[0m\u001b[0;34m\u001b[0m\u001b[0m\n\u001b[0m\u001b[1;32m   2350\u001b[0m \u001b[0;34m\u001b[0m\u001b[0m\n\u001b[1;32m   2351\u001b[0m         \u001b[0;31m# Run post processors.\u001b[0m\u001b[0;34m\u001b[0m\u001b[0;34m\u001b[0m\u001b[0;34m\u001b[0m\u001b[0m\n",
      "\u001b[0;31mRayTaskError\u001b[0m: \u001b[36mray_Learner:train()\u001b[39m (pid=22951, host=jedha)\n  File \"/home/ats4i/Desktop/corona/dataAndModelsCovid19/regionsSP/Learner.py\", line 152, in train\n    end=datetime.strptime(new_index[len(new_index)-2],'%Y-%m-%d'))\n  File \"/home/ats4i/anaconda3/lib/python3.7/site-packages/pandas/core/generic.py\", line 5192, in __setattr__\n    return object.__setattr__(self, name, value)\n  File \"pandas/_libs/properties.pyx\", line 67, in pandas._libs.properties.AxisProperty.__set__\n  File \"/home/ats4i/anaconda3/lib/python3.7/site-packages/pandas/core/generic.py\", line 690, in _set_axis\n    self._data.set_axis(axis, labels)\n  File \"/home/ats4i/anaconda3/lib/python3.7/site-packages/pandas/core/internals/managers.py\", line 183, in set_axis\n    \"values have {new} elements\".format(old=old_len, new=new_len)\nValueError: Length mismatch: Expected axis has 60 elements, new values have 59 elements\n"
     ]
    }
   ],
   "source": [
    "states=['SP','ES','MG','RJ','PE','CE','AM']\n",
    "allStates=False\n",
    "version=\"10\"\n",
    "\n",
    "optimal=[]\n",
    "if allStates:\n",
    "    for state in states:\n",
    "    #for districtRegion in DRS:\n",
    "        query = dfparam.query('state == \"{}\"'.format(state)).reset_index()\n",
    "        parameters = np.array(query.iloc[:, 2:])[0]\n",
    "        startdate,predictionrange,s0,e0,a0,i0,r0,d0,START,ratio,wcases,wrec = parameters\n",
    "        optimal = []\n",
    "        optimal.append(opt(state,e0,a0,r0,d0,startdate,version)) \n",
    "        print(\"State = {}\\n\".format(state)\n",
    "        print(\"S0 = {}\\n\".format(optimal[i][0][0]))\n",
    "        print(\"Delta Date Days = {}\\n\".format(optimal[i][0][1]))   \n",
    "        print(\"I0 = {}\\n\".format(optimal[i][0][2]))\n",
    "        print(\"wcases = {}\\n\".format(optimal[i][0][3]))\n",
    "        print(\"wrec = {}\\n\".format(optimal[i][0][4]))\n",
    "        print(\"Function Minimum = {}\\n\".format(optimal[i][1]))\n",
    "        j = query['index'].values[0]\n",
    "        dfparam.at[j, \"s0\"] = optimal[i][0][0]\n",
    "        dfparam.at[j, \"i0\"] = optimal[i][0][2]\n",
    "        dfparam.at[j, \"WCASES\"] = optimal[i][0][3]\n",
    "        dfparam.at[j, \"WREC\"] = optimal[i][0][4]\n",
    "        \n",
    "else:\n",
    "    state = \"ES\" \n",
    "    query = dfparam.query('state == \"{}\"'.format(state)).reset_index()\n",
    "    parameters = np.array(query.iloc[:, 2:])[0]\n",
    "    startdate,predictionrange,s0,e0,a0,i0,r0,d0,START,ratio,wcases,wrec = parameters\n",
    "    optimal = []\n",
    "    optimal.append(opt(state,e0,a0,r0,d0,startdate,version))\n",
    "    \n",
    "    print(\"state = {}\\n\".format(state))\n",
    "    print(\"S0 = {}\\n\".format(optimal[0][0][0]))\n",
    "    print(\"Delta Date Days = {}\\n\".format(optimal[0][0][1]))   \n",
    "    print(\"I0 = {}\\n\".format(optimal[0][0][2])) \n",
    "    print(\"wcases = {}\\n\".format(optimal[i][0][3]))\n",
    "    print(\"wrec = {}\\n\".format(optimal[i][0][4]))\n",
    "    print(\"Function Minimum = {}\\n\".format(optimal[0][1]))\n",
    "    \n",
    "    j = query['index'].values[0]\n",
    "    dfparam.at[j, \"s0\"] = optimal[0][0][0]\n",
    "    dfparam.at[j, \"i0\"] = optimal[0][0][2]\n",
    "    dfparam.at[j, \"WCASES\"] = optimal[i][0][3]\n",
    "    dfparam.at[j, \"WREC\"] = optimal[i][0][4]"
   ]
  },
  {
   "cell_type": "code",
   "execution_count": 11,
   "metadata": {},
   "outputs": [],
   "source": [
    "ray.shutdown()"
   ]
  },
  {
   "cell_type": "code",
   "execution_count": 13,
   "metadata": {},
   "outputs": [
    {
     "output_type": "execute_result",
     "data": {
      "text/plain": "                               DRS  start-date  prediction-range        s0  \\\n0        DRS 01 - Grande São Paulo  2020-03-22               150  900000.0   \n1               DRS 02 - Araçatuba  2020-04-01               150     500.0   \n2              DRS 03 - Araraquara  2020-04-01               150    2000.0   \n3        DRS 04 - Baixada Santista  2020-04-01               150    8000.0   \n4                DRS 05 - Barretos  2020-04-01               150    2000.0   \n5                   DRS 06 - Bauru  2020-04-01               150   10000.0   \n6                DRS 07 - Campinas  2020-04-01               150   20000.0   \n7                  DRS 08 - Franca  2020-04-01               150    1000.0   \n8                 DRS 09 - Marília  2020-04-01               150    5000.0   \n9              DRS 10 - Piracicaba  2020-04-01               150   10000.0   \n10    DRS 11 - Presidente Prudente  2020-04-01               150    1000.0   \n11               DRS 12 - Registro  2020-04-01               150    1000.0   \n12         DRS 13 - Ribeirão Preto  2020-04-01               150    5000.0   \n13  DRS 14 - São João da Boa Vista  2020-04-01               150    2000.0   \n14  DRS 15 - São José do Rio Preto  2020-04-01               150   10000.0   \n15               DRS 16 - Sorocaba  2020-04-01               150    1200.0   \n16                DRS 17 - Taubaté  2020-04-01               150   10000.0   \n\n        e0      a0       i0      r0       d0  START  RATIO  WCASES  WREC  \n0   0.0001  0.0001   0.0001  0.0001  80.0000   1500    0.1     0.6   0.1  \n1   0.0001  0.0001   0.0001  0.0001   0.0001      0    0.1     0.4   0.1  \n2   0.0001  0.0001   0.0001  0.0001   0.0001      0    0.1     0.4   0.1  \n3   0.0001  0.0001   0.0001  0.0001   0.0001      0    0.1     0.4   0.1  \n4   0.0001  0.0001   0.0001  0.0001   0.0001      0    0.1     0.4   0.1  \n5   0.0001  0.0001   4.0000  0.0001   0.0001      0    0.1     0.4   0.1  \n6   0.0001  0.0001  40.0000  0.0001   0.0001      0    0.1     0.4   0.1  \n7   0.0001  0.0001   0.0001  0.0001   0.0001      0    0.1     0.4   0.1  \n8   0.0001  0.0001   0.0001  0.0001   0.0001      0    0.1     0.4   0.1  \n9   0.0001  0.0001   0.0001  0.0001   1.0000      0    0.1     0.4   0.1  \n10  0.0001  0.0001   0.0001  0.0001   0.0001      0    0.1     0.4   0.1  \n11  0.0001  0.0001   0.0001  0.0001   0.0001      0    0.1     0.4   0.1  \n12  0.0001  0.0001   0.0001  0.0001   0.0001      5    0.1     0.4   0.1  \n13  0.0001  0.0001   0.0001  0.0001   0.0001      0    0.1     0.4   0.1  \n14  0.0001  0.0001   0.0001  0.0001   0.0001      0    0.1     0.4   0.1  \n15  0.0001  0.0001   2.0000  0.0001   0.0001      0    0.1     0.4   0.1  \n16  0.0001  0.0001  17.0000  0.0001   2.0000      0    0.1     0.4   0.1  ",
      "text/html": "<div>\n<style scoped>\n    .dataframe tbody tr th:only-of-type {\n        vertical-align: middle;\n    }\n\n    .dataframe tbody tr th {\n        vertical-align: top;\n    }\n\n    .dataframe thead th {\n        text-align: right;\n    }\n</style>\n<table border=\"1\" class=\"dataframe\">\n  <thead>\n    <tr style=\"text-align: right;\">\n      <th></th>\n      <th>DRS</th>\n      <th>start-date</th>\n      <th>prediction-range</th>\n      <th>s0</th>\n      <th>e0</th>\n      <th>a0</th>\n      <th>i0</th>\n      <th>r0</th>\n      <th>d0</th>\n      <th>START</th>\n      <th>RATIO</th>\n      <th>WCASES</th>\n      <th>WREC</th>\n    </tr>\n  </thead>\n  <tbody>\n    <tr>\n      <th>0</th>\n      <td>DRS 01 - Grande São Paulo</td>\n      <td>2020-03-22</td>\n      <td>150</td>\n      <td>900000.0</td>\n      <td>0.0001</td>\n      <td>0.0001</td>\n      <td>0.0001</td>\n      <td>0.0001</td>\n      <td>80.0000</td>\n      <td>1500</td>\n      <td>0.1</td>\n      <td>0.6</td>\n      <td>0.1</td>\n    </tr>\n    <tr>\n      <th>1</th>\n      <td>DRS 02 - Araçatuba</td>\n      <td>2020-04-01</td>\n      <td>150</td>\n      <td>500.0</td>\n      <td>0.0001</td>\n      <td>0.0001</td>\n      <td>0.0001</td>\n      <td>0.0001</td>\n      <td>0.0001</td>\n      <td>0</td>\n      <td>0.1</td>\n      <td>0.4</td>\n      <td>0.1</td>\n    </tr>\n    <tr>\n      <th>2</th>\n      <td>DRS 03 - Araraquara</td>\n      <td>2020-04-01</td>\n      <td>150</td>\n      <td>2000.0</td>\n      <td>0.0001</td>\n      <td>0.0001</td>\n      <td>0.0001</td>\n      <td>0.0001</td>\n      <td>0.0001</td>\n      <td>0</td>\n      <td>0.1</td>\n      <td>0.4</td>\n      <td>0.1</td>\n    </tr>\n    <tr>\n      <th>3</th>\n      <td>DRS 04 - Baixada Santista</td>\n      <td>2020-04-01</td>\n      <td>150</td>\n      <td>8000.0</td>\n      <td>0.0001</td>\n      <td>0.0001</td>\n      <td>0.0001</td>\n      <td>0.0001</td>\n      <td>0.0001</td>\n      <td>0</td>\n      <td>0.1</td>\n      <td>0.4</td>\n      <td>0.1</td>\n    </tr>\n    <tr>\n      <th>4</th>\n      <td>DRS 05 - Barretos</td>\n      <td>2020-04-01</td>\n      <td>150</td>\n      <td>2000.0</td>\n      <td>0.0001</td>\n      <td>0.0001</td>\n      <td>0.0001</td>\n      <td>0.0001</td>\n      <td>0.0001</td>\n      <td>0</td>\n      <td>0.1</td>\n      <td>0.4</td>\n      <td>0.1</td>\n    </tr>\n    <tr>\n      <th>5</th>\n      <td>DRS 06 - Bauru</td>\n      <td>2020-04-01</td>\n      <td>150</td>\n      <td>10000.0</td>\n      <td>0.0001</td>\n      <td>0.0001</td>\n      <td>4.0000</td>\n      <td>0.0001</td>\n      <td>0.0001</td>\n      <td>0</td>\n      <td>0.1</td>\n      <td>0.4</td>\n      <td>0.1</td>\n    </tr>\n    <tr>\n      <th>6</th>\n      <td>DRS 07 - Campinas</td>\n      <td>2020-04-01</td>\n      <td>150</td>\n      <td>20000.0</td>\n      <td>0.0001</td>\n      <td>0.0001</td>\n      <td>40.0000</td>\n      <td>0.0001</td>\n      <td>0.0001</td>\n      <td>0</td>\n      <td>0.1</td>\n      <td>0.4</td>\n      <td>0.1</td>\n    </tr>\n    <tr>\n      <th>7</th>\n      <td>DRS 08 - Franca</td>\n      <td>2020-04-01</td>\n      <td>150</td>\n      <td>1000.0</td>\n      <td>0.0001</td>\n      <td>0.0001</td>\n      <td>0.0001</td>\n      <td>0.0001</td>\n      <td>0.0001</td>\n      <td>0</td>\n      <td>0.1</td>\n      <td>0.4</td>\n      <td>0.1</td>\n    </tr>\n    <tr>\n      <th>8</th>\n      <td>DRS 09 - Marília</td>\n      <td>2020-04-01</td>\n      <td>150</td>\n      <td>5000.0</td>\n      <td>0.0001</td>\n      <td>0.0001</td>\n      <td>0.0001</td>\n      <td>0.0001</td>\n      <td>0.0001</td>\n      <td>0</td>\n      <td>0.1</td>\n      <td>0.4</td>\n      <td>0.1</td>\n    </tr>\n    <tr>\n      <th>9</th>\n      <td>DRS 10 - Piracicaba</td>\n      <td>2020-04-01</td>\n      <td>150</td>\n      <td>10000.0</td>\n      <td>0.0001</td>\n      <td>0.0001</td>\n      <td>0.0001</td>\n      <td>0.0001</td>\n      <td>1.0000</td>\n      <td>0</td>\n      <td>0.1</td>\n      <td>0.4</td>\n      <td>0.1</td>\n    </tr>\n    <tr>\n      <th>10</th>\n      <td>DRS 11 - Presidente Prudente</td>\n      <td>2020-04-01</td>\n      <td>150</td>\n      <td>1000.0</td>\n      <td>0.0001</td>\n      <td>0.0001</td>\n      <td>0.0001</td>\n      <td>0.0001</td>\n      <td>0.0001</td>\n      <td>0</td>\n      <td>0.1</td>\n      <td>0.4</td>\n      <td>0.1</td>\n    </tr>\n    <tr>\n      <th>11</th>\n      <td>DRS 12 - Registro</td>\n      <td>2020-04-01</td>\n      <td>150</td>\n      <td>1000.0</td>\n      <td>0.0001</td>\n      <td>0.0001</td>\n      <td>0.0001</td>\n      <td>0.0001</td>\n      <td>0.0001</td>\n      <td>0</td>\n      <td>0.1</td>\n      <td>0.4</td>\n      <td>0.1</td>\n    </tr>\n    <tr>\n      <th>12</th>\n      <td>DRS 13 - Ribeirão Preto</td>\n      <td>2020-04-01</td>\n      <td>150</td>\n      <td>5000.0</td>\n      <td>0.0001</td>\n      <td>0.0001</td>\n      <td>0.0001</td>\n      <td>0.0001</td>\n      <td>0.0001</td>\n      <td>5</td>\n      <td>0.1</td>\n      <td>0.4</td>\n      <td>0.1</td>\n    </tr>\n    <tr>\n      <th>13</th>\n      <td>DRS 14 - São João da Boa Vista</td>\n      <td>2020-04-01</td>\n      <td>150</td>\n      <td>2000.0</td>\n      <td>0.0001</td>\n      <td>0.0001</td>\n      <td>0.0001</td>\n      <td>0.0001</td>\n      <td>0.0001</td>\n      <td>0</td>\n      <td>0.1</td>\n      <td>0.4</td>\n      <td>0.1</td>\n    </tr>\n    <tr>\n      <th>14</th>\n      <td>DRS 15 - São José do Rio Preto</td>\n      <td>2020-04-01</td>\n      <td>150</td>\n      <td>10000.0</td>\n      <td>0.0001</td>\n      <td>0.0001</td>\n      <td>0.0001</td>\n      <td>0.0001</td>\n      <td>0.0001</td>\n      <td>0</td>\n      <td>0.1</td>\n      <td>0.4</td>\n      <td>0.1</td>\n    </tr>\n    <tr>\n      <th>15</th>\n      <td>DRS 16 - Sorocaba</td>\n      <td>2020-04-01</td>\n      <td>150</td>\n      <td>1200.0</td>\n      <td>0.0001</td>\n      <td>0.0001</td>\n      <td>2.0000</td>\n      <td>0.0001</td>\n      <td>0.0001</td>\n      <td>0</td>\n      <td>0.1</td>\n      <td>0.4</td>\n      <td>0.1</td>\n    </tr>\n    <tr>\n      <th>16</th>\n      <td>DRS 17 - Taubaté</td>\n      <td>2020-04-01</td>\n      <td>150</td>\n      <td>10000.0</td>\n      <td>0.0001</td>\n      <td>0.0001</td>\n      <td>17.0000</td>\n      <td>0.0001</td>\n      <td>2.0000</td>\n      <td>0</td>\n      <td>0.1</td>\n      <td>0.4</td>\n      <td>0.1</td>\n    </tr>\n  </tbody>\n</table>\n</div>"
     },
     "metadata": {},
     "execution_count": 13
    }
   ],
   "source": [
    "dfparam\n"
   ]
  },
  {
   "cell_type": "code",
   "execution_count": null,
   "metadata": {},
   "outputs": [],
   "source": [
    "dfparam.to_csv(\"data/param_optimized.csv\", sep=\",\", index=False)"
   ]
  },
  {
   "cell_type": "code",
   "execution_count": null,
   "metadata": {},
   "outputs": [],
   "source": []
  }
 ],
 "metadata": {
  "kernelspec": {
   "display_name": "Python 3",
   "language": "python",
   "name": "python3"
  },
  "language_info": {
   "codemirror_mode": {
    "name": "ipython",
    "version": 3
   },
   "file_extension": ".py",
   "mimetype": "text/x-python",
   "name": "python",
   "nbconvert_exporter": "python",
   "pygments_lexer": "ipython3",
   "version": "3.7.6-final"
  }
 },
 "nbformat": 4,
 "nbformat_minor": 4
}