{
 "cells": [
  {
   "cell_type": "markdown",
   "metadata": {},
   "source": [
    "# Initial Conditions Optimization\n",
    "## Plot History"
   ]
  },
  {
   "cell_type": "code",
   "execution_count": 188,
   "metadata": {},
   "outputs": [],
   "source": [
    "%matplotlib inline\n",
    "import matplotlib\n",
    "matplotlib.font_manager._rebuild()\n",
    "import matplotlib as mpl\n",
    "import matplotlib.pyplot as plt\n",
    "import pandas as pd\n",
    "import numpy as np\n",
    "from datetime import datetime,timedelta\n",
    "import matplotlib.style as style\n",
    "style.use('fivethirtyeight')\n",
    "import ray\n",
    "import io\n",
    "import os\n",
    "from IPython.display import display, HTML, Markdown"
   ]
  },
  {
   "cell_type": "code",
   "execution_count": null,
   "metadata": {},
   "outputs": [
    {
     "name": "stdout",
     "output_type": "stream",
     "text": [
      "Baixando arquivos brasil.io...\n"
     ]
    }
   ],
   "source": [
    "# Download data\n",
    "import get_data_v2 as gd\n",
    "LoadData=False\n",
    "\n",
    "if LoadData:\n",
    "    gd.get_data()"
   ]
  },
  {
   "cell_type": "markdown",
   "metadata": {},
   "source": [
    "## Load Humor Sans, PlayFair Display and Roboto Fonts"
   ]
  },
  {
   "cell_type": "code",
   "execution_count": null,
   "metadata": {},
   "outputs": [],
   "source": [
    "from tempfile import NamedTemporaryFile\n",
    "import urllib.request\n",
    "import matplotlib.font_manager as fm\n",
    "\n",
    "def newFont(github_url,sizeFont):\n",
    "    headers = {}\n",
    "    headers[\n",
    "        \"User-Agent\"\n",
    "    ] = \"Mozilla/5.0 (X11; Linux i686) AppleWebKit/537.17 (KHTML, like Gecko) Chrome/24.0.1312.27 Safari/537.17\"\n",
    "    url = github_url + '?raw=true'  # You want the actual file, not some html\n",
    "    request = urllib.request.Request(url, headers=headers)\n",
    "    response = urllib.request.urlopen(request)\n",
    "    f = NamedTemporaryFile(delete=False, suffix='.ttf')\n",
    "    f.write(response.read())\n",
    "    f.close()    \n",
    "    return fm.FontProperties(fname=f.name, size=sizeFont)\n",
    "\n",
    "github_url = 'https://www.1001fonts.com/download/font/playfair-display.regular.ttf'\n",
    "heading_font = newFont(github_url,20)\n",
    "\n",
    "github_url = 'https://www.1001fonts.com/download/font/roboto.regular.ttf'\n",
    "subtitle_font = newFont(github_url,16)\n",
    "\n",
    "github_url = 'https://github.com/ipython/xkcd-font/blob/master/xkcd/build/xkcd-Regular.otf'\n",
    "comic_font = newFont(github_url,18)\n"
   ]
  },
  {
   "cell_type": "markdown",
   "metadata": {},
   "source": [
    "# Main code"
   ]
  },
  {
   "cell_type": "code",
   "execution_count": null,
   "metadata": {},
   "outputs": [],
   "source": [
    "%%javascript\n",
    "IPython.OutputArea.prototype._should_scroll = function(lines){\n",
    "    return false;}"
   ]
  },
  {
   "cell_type": "markdown",
   "metadata": {},
   "source": [
    "## Load Initial Parameters"
   ]
  },
  {
   "cell_type": "code",
   "execution_count": null,
   "metadata": {},
   "outputs": [],
   "source": [
    "dfparam = pd.read_csv(\"data/param.csv\")\n",
    "display(dfparam)\n"
   ]
  },
  {
   "cell_type": "markdown",
   "metadata": {},
   "source": [
    "## Select data set"
   ]
  },
  {
   "cell_type": "code",
   "execution_count": null,
   "metadata": {},
   "outputs": [],
   "source": [
    "opt=6\n",
    "newModel=False\n",
    "\n",
    "#select history file version, model and states\n",
    "if opt==5:\n",
    "    version=105\n",
    "    newModel=True\n",
    "    model=\"Yabox\"\n",
    "    states=dfparam.state\n",
    "    \n",
    "if opt==6:\n",
    "    version=119\n",
    "    newModel=True\n",
    "    model=\"Yabox\"\n",
    "    states=dfparam.state\n",
    "    \n",
    "display(states)"
   ]
  },
  {
   "cell_type": "code",
   "execution_count": null,
   "metadata": {},
   "outputs": [],
   "source": [
    "strFile=\"results/IC_optimizedStates\"+str(version)+\".csv\"\n",
    "if os.path.isfile(strFile):\n",
    "    os.remove(strFile)"
   ]
  },
  {
   "cell_type": "markdown",
   "metadata": {},
   "source": [
    "## Plot and Save Results"
   ]
  },
  {
   "cell_type": "code",
   "execution_count": null,
   "metadata": {},
   "outputs": [],
   "source": [
    "ggtot=[]\n",
    "for state in states:\n",
    "    versionStr=str(version)\n",
    "    dateparse = lambda x: datetime.strptime(x, ' %Y-%m-%d')\n",
    "    histOptAll= pd.read_table('./results/history_'+state+versionStr+'.csv', sep=\",\", \\\n",
    "                                index_col=0, header=None, parse_dates=[3], date_parser=dateparse,\n",
    "        names = [\"state\",\"gtot\",\\\n",
    "            \"s0\",\"startdate\",\"i0\",\"d0\",\"startNcases\",\"wcases\",\"wrec\"])\n",
    "    histOptAll = histOptAll[['gtot', 'startdate','startNcases','s0',\"i0\",\"d0\",\"wcases\",\"wrec\"]]      \n",
    "        \n",
    "    #clean data\n",
    "    histOptAll=histOptAll.dropna(how='all')\n",
    "    histOptAll.gtot=pd.to_numeric(histOptAll.gtot, errors='coerce')\n",
    "    histOptAll = histOptAll.reset_index(drop=True)\n",
    "    histOptAll = histOptAll[histOptAll.loc[:,\"gtot\"]<0.5e14]\n",
    "    \n",
    "    #format integers and decimal places\n",
    "#     histOptAll['gtot'] = histOptAll['gtot'].apply(lambda x: int(x+0.5))\n",
    "    histOptAll['d0'] = histOptAll['d0'].apply(lambda x: int(x+0.5))\n",
    "    histOptAll['startNcases'] = histOptAll['startNcases'].apply(lambda x: int(x+0.5))\n",
    "    histOptAll['s0'] = histOptAll['s0'].apply(lambda x: int(x+0.5))\n",
    "    histOptAll['i0'] = histOptAll['i0'].apply(lambda x: int(x+0.5))\n",
    "    histOptAll['wcases'] = histOptAll['wcases'].apply(lambda x: round(x,4))\n",
    "    histOptAll['wrec'] = histOptAll['wrec'].apply(lambda x: round(x,4))\n",
    "    \n",
    "    #print optimum parameters\n",
    "    histOpt=histOptAll[histOptAll.gtot==min(histOptAll.gtot)]\n",
    "    histOpt=histOpt.head(1)\n",
    "    display(Markdown(\"# Results for \"+state+\" State\"))\n",
    "    display(histOpt.iloc[:,0:8])\n",
    "    histOpt.to_csv(\"data/vars_optimized_\"+state+model+\"HistMin.csv\", sep=\",\"\n",
    "                   , index=False)\n",
    "        \n",
    "    #current parameters\n",
    "    query = dfparam.query('state == \"{}\"'.format(state)).reset_index()\n",
    "    parameters = np.array(query.iloc[:, 2:])[0]\n",
    "    if len(parameters)>12:\n",
    "        date,predict_range,s0,e0,a0,i0,r0,d0,startNCases,ratio,wcases,wrec,popEst = parameters\n",
    "    else:\n",
    "        date,predict_range,s0,e0,a0,i0,r0,d0,startNCases,ratio,wcases,wrec = parameters\n",
    "    \n",
    "    #query parameters\n",
    "    j = query['index'].values[0]\n",
    "    \n",
    "    #define s0, i0 and d0\n",
    "    dfparam.at[j, \"s0\"] = histOpt.s0\n",
    "#     dfparam.at[j, \"r0\"] = histOpt.s0*0.25\n",
    "    dfparam['s0'] = dfparam['s0'].astype(int)\n",
    "    dfparam.at[j, \"i0\"] = histOpt.i0\n",
    "    dfparam['i0'] = dfparam['i0'].astype(int)\n",
    "    dfparam.at[j, \"d0\"] = histOpt.d0\n",
    "    dfparam.at[j, \"START\"] = histOpt.startNcases\n",
    "    \n",
    "    dfparam['a0'] = dfparam['a0'].astype(int)\n",
    "    dfparam['e0'] = dfparam['e0'].astype(int)\n",
    "    dfparam['r0'] = dfparam['r0'].astype(int)\n",
    "    dfparam['d0'] = dfparam['d0'].astype(int)\n",
    "    #define Start N Cases\n",
    "    dfparam['START'] = dfparam['START'].astype(int)\n",
    "    #define date, wcases, wrec\n",
    "    dfparam.at[j, \"start-date\"] = histOpt.startdate.dt.strftime('%Y-%m-%d').values[0]\n",
    "    dfparam.at[j, \"WCASES\"] = histOpt.wcases\n",
    "    dfparam.at[j, \"WREC\"] = histOpt.wrec\n",
    "    \n",
    "    dfparam.r0=0\n",
    "    \n",
    "    #save new parameters\n",
    "    dfparam.to_csv(\"data/param_optimized_\"+model+\"_HistMin\"+versionStr+\".csv\", sep=\",\", index=False)\n",
    "    dfparam.to_csv(\"data/param_optimized_\"+model+\"_HistMin.csv\", sep=\",\", index=False)\n",
    "    \n",
    "    ggtot.append(histOpt.gtot.values[0])\n",
    "    \n",
    "    #prepare plotting\n",
    "    color_bg = '#FEF1E5'\n",
    "    # lighter_highlight = '#FAE6E1'\n",
    "    darker_highlight = '#FBEADC'\n",
    "    plt.rc('font', size=14)\n",
    "    \n",
    "    with plt.xkcd():\n",
    "        fig, ax = plt.subplots(figsize=(15, 10),facecolor=color_bg)\n",
    "        ax.patch.set_facecolor(darker_highlight)\n",
    "        \n",
    "        #fonts for the thicks\n",
    "        for label in (ax.get_xticklabels() + ax.get_yticklabels()):\n",
    "            label.set_fontproperties(comic_font)\n",
    "            label.set_fontsize(16) # Size here overrides font_prop\n",
    "        \n",
    "        #labels for x and y axis\n",
    "        plt.xlabel(\"Iterations\", fontproperties=comic_font, alpha = .75)\n",
    "        plt.ylabel(\"Error in Objective Function\", fontproperties=comic_font, alpha = .75)\n",
    "        \n",
    "        # Hide the left, right and top spines\n",
    "        ax.spines['left'].set_visible(False)\n",
    "        ax.spines['right'].set_visible(False)\n",
    "        ax.spines['top'].set_visible(False)\n",
    "\n",
    "        #PLOTTING itself\n",
    "        x=histOptAll.index\n",
    "        y=histOptAll.gtot\n",
    "        ax.plot(x,y, label=\"gtot\")\n",
    "        display(Markdown(\"## 5 Lowest Results\"))\n",
    "        histMin=histOptAll.nsmallest(5, ['gtot']).sort_values('gtot').iloc[:,0:8]\n",
    "        display(histMin)\n",
    "\n",
    "        ax.scatter(histMin.index, histMin.gtot,label=\"5 lowest\",c='red',marker='*',s=400)\n",
    "        histOptAll.rolling(100).mean()['gtot'].plot(label=\"100th average\",c='gray')\n",
    "\n",
    "        # Adding a title and a subtitle\n",
    "        plt.text(x = 0.02, y = 1.14, s = \"Initial Conditions Optimization - \"+state,\n",
    "                    fontsize = 26, weight = 'bold', alpha = .75,transform=ax.transAxes, \n",
    "                    fontproperties=heading_font)\n",
    "        plt.text(x = 0.02, y = 1.09,\n",
    "                    s = \"optimization by \"+model,\n",
    "                    fontsize = 20, alpha = .85,transform=ax.transAxes, \n",
    "                    fontproperties=subtitle_font)\n",
    "        \n",
    "        leg=ax.legend(frameon=False,prop=comic_font,fontsize=16)\n",
    "        for lh in leg.legendHandles: \n",
    "            lh.set_alpha(0.75)\n",
    "        ax.grid(True, linestyle='--', linewidth='2', color='white',alpha=0.1)\n",
    "\n",
    "        fig.tight_layout()\n",
    "        strFile ='./results/convergence_'+state+versionStr+'.png'\n",
    "        fig.savefig(strFile, facecolor=fig.get_facecolor(), edgecolor=fig.get_edgecolor())\n",
    "        plt.show()\n",
    "        \n",
    "        fig, ax = plt.subplots(figsize=(15, 10),facecolor=color_bg)\n",
    "        ax.patch.set_facecolor(darker_highlight)\n",
    "        \n",
    "        # Hide the left, right and top spines\n",
    "        ax.spines['left'].set_visible(False)\n",
    "        ax.spines['right'].set_visible(False)\n",
    "        ax.spines['top'].set_visible(False)\n",
    "        \n",
    "        #fonts for the thicks\n",
    "        for label in (ax.get_xticklabels() + ax.get_yticklabels()):\n",
    "            label.set_fontproperties(comic_font)\n",
    "            label.set_fontsize(16) # Size here overrides font_prop\n",
    "        \n",
    "        histMin=histOptAll.iloc[:,0:8]\n",
    "        histMin.sort_index(inplace=True)\n",
    "        \n",
    "        histMin['error']=histMin.gtot/histMin.gtot.max()*100\n",
    "        x=histMin.index[histMin.error<histMin.error.mean()-0.4*histMin.error.std()]\n",
    "        y=histMin.error[histMin.error<histMin.error.mean()-0.4*histMin.error.std()]\n",
    "                \n",
    "        ax.plot(x, y, label=\"mean-$0.4 \\cdot \\sigma$\",c='green')\n",
    "        histMin2=histMin.nsmallest(10, ['gtot']).sort_values('gtot')\n",
    "        ax.scatter(histMin2.index, histMin2.gtot/histMin.gtot.max()*100,\n",
    "                   label=\"10 lowest\",c='red',marker='*',s=400)\n",
    "        \n",
    "        #labels for x and y axis\n",
    "        plt.xlabel(\"Iterations\", fontproperties=comic_font, alpha = .75)\n",
    "        plt.ylabel(\"Relative Error $g_{tot}/max(g_{tot})$ [%]\", \n",
    "                   fontproperties=comic_font, alpha = .75)\n",
    "\n",
    "        # Adding a title and a subtitle\n",
    "        plt.text(x = 0.02, y = 1.14, s = \"Selected Minimum Values - \"+state,\n",
    "                    fontsize = 26, weight = 'bold', alpha = .75,transform=ax.transAxes, \n",
    "                    fontproperties=heading_font)\n",
    "        plt.text(x = 0.02, y = 1.09,\n",
    "                    s = \"optimization by \"+model,\n",
    "                    fontsize = 20, alpha = .85,transform=ax.transAxes, \n",
    "                    fontproperties=subtitle_font)\n",
    "        \n",
    "        leg=ax.legend(frameon=False,prop=comic_font,fontsize=16)\n",
    "        for lh in leg.legendHandles: \n",
    "            lh.set_alpha(0.75)\n",
    "        ax.grid(True, linestyle='--', linewidth='2', color='white',alpha=0.1)\n",
    "\n",
    "        fig.tight_layout()\n",
    "        strFile ='./results/minimumPoints_'+state+versionStr+'.png'\n",
    "        fig.savefig(strFile, facecolor=fig.get_facecolor(), edgecolor=fig.get_edgecolor())\n",
    "        plt.show()"
   ]
  },
  {
   "cell_type": "code",
   "execution_count": null,
   "metadata": {},
   "outputs": [],
   "source": [
    "display(Markdown(\"# Final Results for Initial Conditions\"))\n",
    "display(Markdown(\"## \"+model+\" optimization model\"))\n",
    "\n",
    "from IPython.display import HTML\n",
    "\n",
    "dfparam[\"gtot\"] = pd.Series(ggtot)\n",
    "gtot_min=dfparam.gtot.min()\n",
    "gtot_max=dfparam.gtot.max()\n",
    "gtot_range=gtot_max-gtot_min\n",
    "gtot_mean=dfparam.gtot.mean()\n",
    "gtot_std=dfparam.gtot.std()\n",
    "\n",
    "dfparam['gtot'] = dfparam['gtot'].astype(int)\n",
    "dfparam['RATIO'] = 0.0\n",
    "dfparam['RATIO'] = dfparam['RATIO'].round(decimals=2)\n",
    "\n",
    "gtot_high=(gtot_mean)/gtot_range\n",
    "gtot_low=abs(gtot_mean-gtot_std)/gtot_range\n",
    "\n",
    "s = dfparam.style.background_gradient(cmap='RdYlGn_r',\n",
    "            axis=0,subset=['s0','i0','d0','gtot'],low=gtot_low/2.74,high=gtot_high/100)\n",
    "display(s)"
   ]
  },
  {
   "cell_type": "code",
   "execution_count": null,
   "metadata": {},
   "outputs": [],
   "source": []
  }
 ],
 "metadata": {
  "kernelspec": {
   "display_name": "geo_env",
   "language": "python",
   "name": "geo_env"
  },
  "language_info": {
   "codemirror_mode": {
    "name": "ipython",
    "version": 3
   },
   "file_extension": ".py",
   "mimetype": "text/x-python",
   "name": "python",
   "nbconvert_exporter": "python",
   "pygments_lexer": "ipython3",
   "version": "3.6.11"
  },
  "varInspector": {
   "cols": {
    "lenName": 16,
    "lenType": 16,
    "lenVar": 40
   },
   "kernels_config": {
    "python": {
     "delete_cmd_postfix": "",
     "delete_cmd_prefix": "del ",
     "library": "var_list.py",
     "varRefreshCmd": "print(var_dic_list())"
    },
    "r": {
     "delete_cmd_postfix": ") ",
     "delete_cmd_prefix": "rm(",
     "library": "var_list.r",
     "varRefreshCmd": "cat(var_dic_list()) "
    }
   },
   "types_to_exclude": [
    "module",
    "function",
    "builtin_function_or_method",
    "instance",
    "_Feature"
   ],
   "window_display": false
  }
 },
 "nbformat": 4,
 "nbformat_minor": 2
}
