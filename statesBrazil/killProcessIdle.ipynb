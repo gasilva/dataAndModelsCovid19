{
 "cells": [
  {
   "cell_type": "code",
   "execution_count": null,
   "metadata": {},
   "outputs": [],
   "source": [
    "import os \n",
    "nameof_killfile=\"ray::IDLE\"\n",
    "\n",
    "if os.path.exists(nameof_killfile): \n",
    "    os.remove(nameof_killfile) \n",
    "else:\n",
    "    killit=open(nameof_killfile,\"w\") \n",
    "    killit.close()"
   ]
  },
  {
   "cell_type": "code",
   "execution_count": null,
   "metadata": {},
   "outputs": [],
   "source": [
    "import os\n",
    "import subprocess\n",
    "\n",
    "subprocess = subprocess.Popen(['ps', '-A'], stdout=subprocess.PIPE)\n",
    "output, error = subprocess.communicate()\n",
    "\n",
    "target_process = \"ray::IDLE\"\n",
    "for line in output.splitlines():\n",
    "    if target_process in str(line):\n",
    "        pid = int(line.split(None, 1)[0])\n",
    "        os.kill(pid, 9)"
   ]
  },
  {
   "cell_type": "code",
   "execution_count": 5,
   "metadata": {},
   "outputs": [
    {
     "data": {
      "application/vnd.jupyter.widget-view+json": {
       "model_id": "7c8b4de0c941486fb53d79dacaebfa13",
       "version_major": 2,
       "version_minor": 0
      },
      "text/plain": [
       "MapView(layout=Layout(height='400px', width='100%'))"
      ]
     },
     "metadata": {},
     "output_type": "display_data"
    },
    {
     "data": {
      "text/html": [
       "<div class=\"map-static-img-preview-1c670bc4-997a-4e6a-a018-0c684fbc57f6\"><img src=\"\"></img></div>"
      ],
      "text/plain": [
       "<IPython.core.display.HTML object>"
      ]
     },
     "metadata": {},
     "output_type": "display_data"
    }
   ],
   "source": [
    "from arcgis.gis import GIS\n",
    "my_gis = GIS()\n",
    "m = my_gis.map()\n",
    "m"
   ]
  },
  {
   "cell_type": "code",
   "execution_count": null,
   "metadata": {},
   "outputs": [],
   "source": [
    "import os, ray\n",
    "\n",
    "# ray.init()\n",
    "\n",
    "@ray.remote(num_gpus=1)\n",
    "def use_gpu():\n",
    "    print(\"ray.get_gpu_ids(): {}\".format(ray.get_gpu_ids()))\n",
    "    print(\"CUDA_VISIBLE_DEVICES: {}\".format(os.environ[\"CUDA_VISIBLE_DEVICES\"]))"
   ]
  },
  {
   "cell_type": "code",
   "execution_count": null,
   "metadata": {},
   "outputs": [],
   "source": [
    "use_gpu.remote()"
   ]
  },
  {
   "cell_type": "code",
   "execution_count": null,
   "metadata": {},
   "outputs": [],
   "source": [
    "os.environ[\"CUDA_VISIBLE_DEVICES\"]=\"512\""
   ]
  },
  {
   "cell_type": "code",
   "execution_count": 4,
   "metadata": {},
   "outputs": [
    {
     "data": {
      "text/plain": [
       "ObjectID(ef0a6c221819881cffffffff010000c801000000)"
      ]
     },
     "execution_count": 4,
     "metadata": {},
     "output_type": "execute_result"
    },
    {
     "name": "stdout",
     "output_type": "stream",
     "text": [
      "\u001b[2m\u001b[36m(pid=2822)\u001b[0m ray.get_gpu_ids(): [0]\n",
      "\u001b[2m\u001b[36m(pid=2822)\u001b[0m CUDA_VISIBLE_DEVICES: 0\n"
     ]
    },
    {
     "name": "stderr",
     "output_type": "stream",
     "text": [
      "2020-06-11 20:31:29,194\tWARNING worker.py:1090 -- The node with node id 786e89a041c7d2a2e9963dc9cbf2d3f433cec6dd has been marked dead because the detector has missed too many heartbeats from it.\n"
     ]
    },
    {
     "name": "stdout",
     "output_type": "stream",
     "text": [
      "\u001b[2m\u001b[33m(pid=raylet)\u001b[0m F0611 20:31:29.208494  2686 node_manager.cc:559]  Check failed: node_id != self_node_id_ Exiting because this node manager has mistakenly been marked dead by the monitor.\n",
      "\u001b[2m\u001b[33m(pid=raylet)\u001b[0m *** Check failure stack trace: ***\n",
      "\u001b[2m\u001b[33m(pid=raylet)\u001b[0m     @     0x55ce3745c76d  google::LogMessage::Fail()\n",
      "\u001b[2m\u001b[33m(pid=raylet)\u001b[0m     @     0x55ce3745dbdc  google::LogMessage::SendToLog()\n",
      "\u001b[2m\u001b[33m(pid=raylet)\u001b[0m     @     0x55ce3745c449  google::LogMessage::Flush()\n",
      "\u001b[2m\u001b[33m(pid=raylet)\u001b[0m     @     0x55ce3745c661  google::LogMessage::~LogMessage()\n",
      "\u001b[2m\u001b[33m(pid=raylet)\u001b[0m     @     0x55ce3711d029  ray::RayLog::~RayLog()\n",
      "\u001b[2m\u001b[33m(pid=raylet)\u001b[0m     @     0x55ce36efc810  ray::raylet::NodeManager::NodeRemoved()\n",
      "\u001b[2m\u001b[33m(pid=raylet)\u001b[0m     @     0x55ce36efc9ec  _ZNSt17_Function_handlerIFvRKN3ray8ClientIDERKNS0_3rpc11GcsNodeInfoEEZNS0_6raylet11NodeManager11RegisterGcsEvEUlS3_S7_E0_E9_M_invokeERKSt9_Any_dataS3_S7_\n",
      "\u001b[2m\u001b[33m(pid=raylet)\u001b[0m     @     0x55ce36fb6682  ray::gcs::ClientTable::HandleNotification()\n",
      "\u001b[2m\u001b[33m(pid=raylet)\u001b[0m     @     0x55ce36fb6b6b  _ZNSt17_Function_handlerIFvPN3ray3gcs14RedisGcsClientERKNS0_8ClientIDERKSt6vectorINS0_3rpc11GcsNodeInfoESaIS9_EEEZNS1_11ClientTable21SubscribeToNodeChangeERKSt8functionIFvS6_RKS9_EERKSG_IFvNS0_6StatusEEEEUlS3_RKNS0_8UniqueIDESD_E_E9_M_invokeERKSt9_Any_dataS3_S6_SD_\n",
      "\u001b[2m\u001b[33m(pid=raylet)\u001b[0m     @     0x55ce36fb9908  _ZNSt17_Function_handlerIFvPN3ray3gcs14RedisGcsClientERKNS0_8ClientIDENS0_3rpc13GcsChangeModeERKSt6vectorINS7_11GcsNodeInfoESaISA_EEEZNS1_3LogIS4_SA_E9SubscribeERKNS0_5JobIDES6_RKSt8functionIFvS3_S6_SE_EERKSL_IFvS3_EEEUlS3_S6_S8_SE_E_E9_M_invokeERKSt9_Any_dataS3_S6_S8_SE_\n",
      "\u001b[2m\u001b[33m(pid=raylet)\u001b[0m     @     0x55ce36fb718e  _ZNSt17_Function_handlerIFvSt10shared_ptrIN3ray3gcs13CallbackReplyEEEZNS2_3LogINS1_8ClientIDENS1_3rpc11GcsNodeInfoEE9SubscribeERKNS1_5JobIDERKS7_RKSt8functionIFvPNS2_14RedisGcsClientESF_NS8_13GcsChangeModeERKSt6vectorIS9_SaIS9_EEEERKSG_IFvSI_EEEUlS4_E_E9_M_invokeERKSt9_Any_dataS4_\n",
      "\u001b[2m\u001b[33m(pid=raylet)\u001b[0m     @     0x55ce36f93d0b  _ZN5boost4asio6detail18completion_handlerIZN3ray3gcs20RedisCallbackManager12CallbackItem8DispatchERSt10shared_ptrINS4_13CallbackReplyEEEUlvE_E11do_completeEPvPNS1_19scheduler_operationERKNS_6system10error_codeEm\n",
      "\u001b[2m\u001b[33m(pid=raylet)\u001b[0m     @     0x55ce373ee41f  boost::asio::detail::scheduler::do_run_one()\n",
      "\u001b[2m\u001b[33m(pid=raylet)\u001b[0m     @     0x55ce373ef921  boost::asio::detail::scheduler::run()\n",
      "\u001b[2m\u001b[33m(pid=raylet)\u001b[0m     @     0x55ce373f07c2  boost::asio::io_context::run()\n",
      "\u001b[2m\u001b[33m(pid=raylet)\u001b[0m     @     0x55ce36e6c669  main\n",
      "\u001b[2m\u001b[33m(pid=raylet)\u001b[0m     @     0x7f3ed255d725  __libc_start_main\n",
      "\u001b[2m\u001b[33m(pid=raylet)\u001b[0m     @     0x55ce36e7d331  (unknown)\n",
      "\u001b[2m\u001b[36m(pid=2762)\u001b[0m E0611 20:31:29.748100  2968 core_worker.cc:646] Raylet failed. Shutting down.\n",
      "\u001b[2m\u001b[36m(pid=2766)\u001b[0m E0611 20:31:29.776155  2980 core_worker.cc:646] Raylet failed. Shutting down.\n",
      "\u001b[2m\u001b[36m(pid=2768)\u001b[0m E0611 20:31:29.782421  2993 core_worker.cc:646] Raylet failed. Shutting down.\n",
      "\u001b[2m\u001b[36m(pid=2771)\u001b[0m E0611 20:31:29.784766  2996 core_worker.cc:646] Raylet failed. Shutting down.\n",
      "\u001b[2m\u001b[36m(pid=2772)\u001b[0m E0611 20:31:29.798283  3015 core_worker.cc:646] Raylet failed. Shutting down.\n",
      "\u001b[2m\u001b[36m(pid=2796)\u001b[0m E0611 20:31:29.894743  3056 core_worker.cc:646] Raylet failed. Shutting down.\n",
      "\u001b[2m\u001b[36m(pid=2782)\u001b[0m E0611 20:31:29.896545  3059 core_worker.cc:646] Raylet failed. Shutting down.\n",
      "\u001b[2m\u001b[36m(pid=2773)\u001b[0m E0611 20:31:29.897295  3063 core_worker.cc:646] Raylet failed. Shutting down.\n",
      "\u001b[2m\u001b[36m(pid=2794)\u001b[0m E0611 20:31:29.898357  3066 core_worker.cc:646] Raylet failed. Shutting down.\n",
      "\u001b[2m\u001b[36m(pid=2761)\u001b[0m E0611 20:31:29.898063  3067 core_worker.cc:646] Raylet failed. Shutting down.\n",
      "\u001b[2m\u001b[36m(pid=2781)\u001b[0m E0611 20:31:29.900624  3070 core_worker.cc:646] Raylet failed. Shutting down.\n",
      "\u001b[2m\u001b[36m(pid=2808)\u001b[0m E0611 20:31:29.902007  3069 core_worker.cc:646] Raylet failed. Shutting down.\n",
      "\u001b[2m\u001b[36m(pid=2801)\u001b[0m E0611 20:31:30.041718  3214 core_worker.cc:646] Raylet failed. Shutting down.\n",
      "\u001b[2m\u001b[36m(pid=2817)\u001b[0m E0611 20:31:30.048200  3260 core_worker.cc:646] Raylet failed. Shutting down.\n",
      "\u001b[2m\u001b[36m(pid=2795)\u001b[0m E0611 20:31:30.048338  3256 core_worker.cc:646] Raylet failed. Shutting down.\n",
      "\u001b[2m\u001b[36m(pid=2791)\u001b[0m E0611 20:31:30.048421  3258 core_worker.cc:646] Raylet failed. Shutting down.\n",
      "\u001b[2m\u001b[36m(pid=2814)\u001b[0m E0611 20:31:30.044219  3231 core_worker.cc:646] Raylet failed. Shutting down.\n",
      "\u001b[2m\u001b[36m(pid=2788)\u001b[0m E0611 20:31:30.052382  3268 core_worker.cc:646] Raylet failed. Shutting down.\n",
      "\u001b[2m\u001b[36m(pid=2790)\u001b[0m E0611 20:31:30.043622  3248 core_worker.cc:646] Raylet failed. Shutting down.\n",
      "\u001b[2m\u001b[36m(pid=2823)\u001b[0m E0611 20:31:30.051813  3266 core_worker.cc:646] Raylet failed. Shutting down.\n",
      "\u001b[2m\u001b[36m(pid=2786)\u001b[0m E0611 20:31:30.049793  3263 core_worker.cc:646] Raylet failed. Shutting down.\n",
      "\u001b[2m\u001b[36m(pid=2798)\u001b[0m E0611 20:31:30.050698  3259 core_worker.cc:646] Raylet failed. Shutting down.\n",
      "\u001b[2m\u001b[36m(pid=2819)\u001b[0m E0611 20:31:30.051525  3264 core_worker.cc:646] Raylet failed. Shutting down.\n",
      "\u001b[2m\u001b[36m(pid=2764)\u001b[0m E0611 20:31:30.048489  3257 core_worker.cc:646] Raylet failed. Shutting down.\n",
      "\u001b[2m\u001b[36m(pid=2812)\u001b[0m E0611 20:31:30.045037  3233 core_worker.cc:646] Raylet failed. Shutting down.\n",
      "\u001b[2m\u001b[36m(pid=2803)\u001b[0m E0611 20:31:30.044956  3235 core_worker.cc:646] Raylet failed. Shutting down.\n",
      "\u001b[2m\u001b[36m(pid=2815)\u001b[0m E0611 20:31:30.050726  3267 core_worker.cc:646] Raylet failed. Shutting down.\n",
      "\u001b[2m\u001b[36m(pid=2779)\u001b[0m E0611 20:31:30.044675  3232 core_worker.cc:646] Raylet failed. Shutting down.\n",
      "\u001b[2m\u001b[36m(pid=2809)\u001b[0m E0611 20:31:30.045375  3237 core_worker.cc:646] Raylet failed. Shutting down.\n",
      "\u001b[2m\u001b[36m(pid=2822)\u001b[0m E0611 20:31:30.115658  3327 core_worker.cc:646] Raylet failed. Shutting down.\n",
      "\u001b[2m\u001b[36m(pid=2776)\u001b[0m E0611 20:31:30.113083  3321 core_worker.cc:646] Raylet failed. Shutting down.\n",
      "\u001b[2m\u001b[36m(pid=2820)\u001b[0m E0611 20:31:30.114832  3324 core_worker.cc:646] Raylet failed. Shutting down.\n",
      "\u001b[2m\u001b[36m(pid=2821)\u001b[0m E0611 20:31:30.117260  3328 core_worker.cc:646] Raylet failed. Shutting down.\n",
      "\u001b[2m\u001b[36m(pid=2813)\u001b[0m E0611 20:31:30.115027  3325 core_worker.cc:646] Raylet failed. Shutting down.\n",
      "\u001b[2m\u001b[36m(pid=2774)\u001b[0m E0611 20:31:30.113220  3322 core_worker.cc:646] Raylet failed. Shutting down.\n",
      "\u001b[2m\u001b[36m(pid=2804)\u001b[0m E0611 20:31:30.115279  3326 core_worker.cc:646] Raylet failed. Shutting down.\n"
     ]
    }
   ],
   "source": [
    "use_gpu.remote()"
   ]
  },
  {
   "cell_type": "code",
   "execution_count": null,
   "metadata": {},
   "outputs": [],
   "source": [
    "import tensorflow\n",
    "from tensorflow.python.client import device_lib\n",
    "print(device_lib.list_local_devices())"
   ]
  },
  {
   "cell_type": "code",
   "execution_count": null,
   "metadata": {},
   "outputs": [],
   "source": []
  }
 ],
 "metadata": {
  "kernelspec": {
   "display_name": "Python 3.7.6 64-bit",
   "language": "python",
   "name": "python37664bit3e0f3b694958461c8d2556a3e8d5c43b"
  },
  "language_info": {
   "codemirror_mode": {
    "name": "ipython",
    "version": 3
   },
   "file_extension": ".py",
   "mimetype": "text/x-python",
   "name": "python",
   "nbconvert_exporter": "python",
   "pygments_lexer": "ipython3",
   "version": "3.7.6"
  }
 },
 "nbformat": 4,
 "nbformat_minor": 4
}
