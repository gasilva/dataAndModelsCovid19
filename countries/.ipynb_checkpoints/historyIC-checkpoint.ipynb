version https://git-lfs.github.com/spec/v1
oid sha256:022877c344bd5629e0dbf011de4b5f07fd7eef215b2967a2085ab3d268b21d8d
size 27324
