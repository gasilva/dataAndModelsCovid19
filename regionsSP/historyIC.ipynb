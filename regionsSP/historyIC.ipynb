version https://git-lfs.github.com/spec/v1
oid sha256:b1c242c36905118405775cc3c46a3266f2c63863150ef466bb8fa569d405e95a
size 17603411
