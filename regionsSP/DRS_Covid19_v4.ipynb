{
 "cells": [
  {
   "cell_type": "markdown",
   "metadata": {},
   "source": [
    "# COVID19 - District Region"
   ]
  },
  {
   "cell_type": "markdown",
   "metadata": {},
   "source": [
    "Install necessary packages for parallel computation:\n",
    "\n",
    "```\n",
    "pip install ipyparallel\n",
    "ipcluster nbextension enable\n",
    "pip install parallel-execute\n",
    "```\n",
    "\n",
    "To install for all users on JupyterHub, as root:\n",
    "```\n",
    "jupyter nbextension install --sys-prefix --py ipyparallel\n",
    "jupyter nbextension enable --sys-prefix --py ipyparallel\n",
    "jupyter serverextension enable --sys-prefix --py ipyparallel\n",
    "```\n",
    "\n",
    "start cluster at jupyter notebook interface"
   ]
  },
  {
   "cell_type": "code",
   "execution_count": null,
   "metadata": {},
   "outputs": [],
   "source": [
    "import urllib.request\n",
    "import pandas as pd\n",
    "import numpy as np"
   ]
  },
  {
   "cell_type": "code",
   "execution_count": null,
   "metadata": {},
   "outputs": [],
   "source": [
    "# Download data\n",
    "import get_data\n",
    "LoadData=False\n",
    "\n",
    "if LoadData:\n",
    "    get_data.get_data()"
   ]
  },
  {
   "cell_type": "code",
   "execution_count": null,
   "metadata": {},
   "outputs": [],
   "source": [
    "dfSP = pd.read_csv(\"data/dados_municipios_SP.csv\")\n",
    "dfSP\n",
    "dfSP.query('DRS == \"{}\"'.format('DRS 01 - Grande São Paulo'))"
   ]
  },
  {
   "cell_type": "code",
   "execution_count": null,
   "metadata": {},
   "outputs": [],
   "source": [
    "# Model"
   ]
  },
  {
   "cell_type": "code",
   "execution_count": null,
   "metadata": {},
   "outputs": [],
   "source": [
    "# lista DRSs\n",
    "DRS = list(dfSP[\"DRS\"].unique())\n",
    "DRS.remove(\"Indefinido\")\n",
    "DRS"
   ]
  },
  {
   "cell_type": "markdown",
   "metadata": {},
   "source": [
    "# SEAIR-D Model Equations\n",
    "\n",
    "$$\\begin{array}{l}\\frac{d s}{d t}=-[\\beta i(t) + \\beta_2 a(t)-\\mu] \\cdot s(t)\\\\ \n",
    "\\frac{d e}{d t}=[\\beta i(t) + \\beta_2 a(t)] \\cdot s(t) -(\\sigma+\\mu) \\cdot e(t)\\\\ \n",
    "\\frac{d a}{d t}=\\sigma e(t) \\cdot (1-p)-(\\gamma+\\mu) \\cdot a(t) \\\\\n",
    "\\frac{d i}{d t}=\\sigma e(t) \\cdot p - (\\gamma + \\sigma_2 + \\sigma_3 + \\mu) \\cdot i(t)\\\\ \n",
    "\\frac{d r}{d t}=(b + \\sigma_2) \\cdot i(t) + \\gamma \\cdot a(t) - \\mu \\cdot r(t)\\\\\n",
    "\\frac{d k}{d t}=(a + \\sigma_3 - \\mu) \\cdot d(t)\n",
    "\\end{array}$$\n",
    "\n",
    "The last equation does not need to be solve because:\n",
    "\n",
    "$$\\frac{d k}{d t}=-(\\frac{d e}{d t}+\\frac{d a}{d t}+\\frac{d i}{d t}+\\frac{d r}{d t})$$\n",
    "\n",
    "The sum of all rates are equal to zero! The importance of this equation is that it conservates the rates.\n"
   ]
  },
  {
   "cell_type": "markdown",
   "metadata": {},
   "source": [
    "## Parameters"
   ]
  },
  {
   "cell_type": "markdown",
   "metadata": {},
   "source": [
    "$\\beta$: Effective contact rate [1/min]\n",
    "    \n",
    "$\\gamma$: Recovery(+Mortality) rate $\\gamma=(a+b)$ [1/min]\n",
    "\n",
    "$a$: mortality of healed  [1/min]\n",
    "\n",
    "$b$: recovery rate  [1/min]\n",
    "\n",
    "$\\sigma$: is the rate at which individuals move from the exposed to the infectious classes. Its reciprocal ($1/\\sigma$) is the average latent (exposed) period.\n",
    "\n",
    "$\\sigma_2$: is the rate at which individuals move from the infectious to the healed classes. Its reciprocal ($1/\\sigma_2$) is the average latent (exposed) period\n",
    "\n",
    "$\\sigma_3$: is the rate at which individuals move from the infectious to the dead classes. Its reciprocal ($1/\\sigma_3$) is the average latent (exposed) period\n",
    "    \n",
    "$p$: is the fraction of the exposed which become symptomatic infectious sub-population.\n",
    "\n",
    "$(1-p)$: is the fraction of the exposed which becomes asymptomatic infectious sub-population."
   ]
  },
  {
   "cell_type": "code",
   "execution_count": null,
   "metadata": {},
   "outputs": [],
   "source": [
    "#objective function Odeint solver\n",
    "from scipy.integrate import odeint\n",
    "\n",
    "#objective function Odeint solver\n",
    "def lossOdeint(point, data, death, s_0, e_0, a_0, i_0, r_0, d_0, startNCases, ratioRecovered, weigthCases, weigthRecov):\n",
    "    size = len(data)\n",
    "    beta, beta2, sigma, sigma2, sigma3, gamma, b, mu = point\n",
    "    def SEAIRD(y,t):\n",
    "        S = y[0]\n",
    "        E = y[1]\n",
    "        A = y[2]\n",
    "        I = y[3]\n",
    "        R = y[4]\n",
    "        D = y[5]\n",
    "        p=0.2\n",
    "        # beta2=beta\n",
    "        y0=-(beta2*A+beta*I)*S+mu*S #S\n",
    "        y1=(beta2*A+beta*I)*S-sigma*E-mu*E #E\n",
    "        y2=sigma*E*(1-p)-gamma*A-mu*A #A\n",
    "        y3=sigma*E*p-gamma*I-sigma2*I-sigma3*I-mu*I#I\n",
    "        y4=b*I+gamma*A+sigma2*I-mu*R #R\n",
    "        y5=(-(y0+y1+y2+y3+y4)) #D\n",
    "        return [y0,y1,y2,y3,y4,y5]\n",
    "\n",
    "    y0=[s_0,e_0,a_0,i_0,r_0,d_0]\n",
    "    tspan=np.arange(0, size, 1)\n",
    "    res=odeint(SEAIRD,y0,tspan,hmax=0.01)\n",
    "\n",
    "    l1=0\n",
    "    l2=0\n",
    "    l3=0\n",
    "    tot=0\n",
    "\n",
    "    for i in range(0,len(data.values)):\n",
    "        if data.values[i]>startNCases:\n",
    "            l1 = l1+(res[i,3] - data.values[i])**2\n",
    "            l2 = l2+(res[i,5] - death.values[i])**2\n",
    "            newRecovered=min(1e6,data.values[i]*ratioRecovered)\n",
    "            l3 = l3+(res[i,4] - newRecovered)**2\n",
    "            tot+=1\n",
    "    l1=np.sqrt(l1/max(1,tot))\n",
    "    l2=np.sqrt(l2/max(1,tot))\n",
    "    l3=np.sqrt(l3/max(1,tot))\n",
    "    \n",
    "    #weight for cases\n",
    "    u = weigthCases  #Brazil US 0.1\n",
    "    w = weigthRecov\n",
    "    #weight for deaths\n",
    "    v = max(0,1. - u - w)\n",
    "    \n",
    "    return u*l1 + v*l2 + w*l3"
   ]
  },
  {
   "cell_type": "code",
   "execution_count": null,
   "metadata": {},
   "outputs": [],
   "source": [
    "# Initial parameters\n",
    "dfparam = pd.read_csv(\"data/param.csv\")\n",
    "dfparam"
   ]
  },
  {
   "cell_type": "code",
   "execution_count": null,
   "metadata": {},
   "outputs": [],
   "source": [
    "# Initial parameter optimization"
   ]
  },
  {
   "cell_type": "code",
   "execution_count": null,
   "metadata": {
    "scrolled": true
   },
   "outputs": [],
   "source": [
    "import ray\n",
    "\n",
    "# Load solver\n",
    "GlobalOptimization = False\n",
    "Yabox = True\n",
    "\n",
    "if GlobalOptimization:\n",
    "    import LearnerGlobalOpt as Learner  # basinhopping global optimization (several times minimize)\n",
    "elif Yabox:\n",
    "    import LearnerYabox as Learner #Yabox\n",
    "else:\n",
    "    import Learner as Learner #minimize"
   ]
  },
  {
   "cell_type": "code",
   "execution_count": null,
   "metadata": {},
   "outputs": [],
   "source": [
    "allDistricts=False\n",
    "\n",
    "results=[]\n",
    "if allDistricts:\n",
    "    for districtRegion in DRS:\n",
    "        query = dfparam.query('DRS == \"{}\"'.format(districtRegion)).reset_index()\n",
    "        parameters = np.array(query.iloc[:, 2:])[0]\n",
    "        learner = Learner.Learner.remote(districtRegion, lossOdeint, *parameters)\n",
    "        #learner.train()\n",
    "        #add function evaluation to the queue\n",
    "        results.append(learner.train.remote())\n",
    "else:\n",
    "    districtRegion= \"DRS 01 - Grande São Paulo\" #'DRS 08 - Franca' \\\n",
    "    #'DRS 14 - São João da Boa Vista' #'DRS 04 - Baixada Santista' \\\n",
    "    #'DRS 11 - Presidente Prudente' #'DRS 13 - Ribeirão Preto' \\\n",
    "    #'DRS 05 - Barretos' #'DRS 12 - Registro' #'DRS 15 - São José do Rio Preto' \\\n",
    "    #'DRS 10 - Piracicaba'#'DRS 17 - Taubaté'#'DRS 02 - Araçatuba'# \\\n",
    "    #'DRS 03 - Araraquara' #DRS 07 - Campinas'#'DRS 16 - Sorocaba'#'DRS 06 - Bauru' \\\n",
    "    #'DRS 09 - Marília' #\"DRS 01 - Grande São Paulo\"\n",
    "    query = dfparam.query('DRS == \"{}\"'.format(districtRegion)).reset_index()\n",
    "    parameters = np.array(query.iloc[:, 2:])[0]\n",
    "    cleanRecovered = False\n",
    "    version = \"1\"\n",
    "    learner = Learner.Learner.remote(districtRegion, lossOdeint, *parameters, cleanRecovered, version)\n",
    "    #learner.train()\n",
    "    #add function evaluation to the queue\n",
    "    results.append(learner.train.remote())\n",
    "\n",
    "# #execute all the queue with max_runner_cap at a time    \n",
    "results = ray.get(results)"
   ]
  },
  {
   "cell_type": "code",
   "execution_count": null,
   "metadata": {},
   "outputs": [],
   "source": [
    "ray.shutdown()"
   ]
  },
  {
   "cell_type": "code",
   "execution_count": null,
   "metadata": {},
   "outputs": [],
   "source": [
    "# Save data as csv\n",
    "import glob\n",
    "import os\n",
    "\n",
    "path = './results/data'\n",
    "files = glob.glob(os.path.join(path, \"*.csv\"))\n",
    "\n",
    "df = (pd.read_csv(f).assign(DRS = f.split(\" - \")[-1].split(\".\")[0]) for f in files)\n",
    "df_all_drs = pd.concat(df, ignore_index=True)\n",
    "df_all_drs.index.name = 'index'\n",
    "df_all_drs.to_csv('./data/SEAIRD_sigmaOpt_AllDRS'+'.csv', sep=\",\")"
   ]
  },
  {
   "cell_type": "markdown",
   "metadata": {},
   "source": [
    "# Plots"
   ]
  },
  {
   "cell_type": "code",
   "execution_count": null,
   "metadata": {},
   "outputs": [],
   "source": [
    "import matplotlib.pyplot as plt\n",
    "import covid_plots"
   ]
  },
  {
   "cell_type": "code",
   "execution_count": null,
   "metadata": {},
   "outputs": [],
   "source": [
    "def loadDataFrame(filename):\n",
    "    df= pd.read_pickle(filename)\n",
    "    df.columns = [c.lower().replace(' ', '_') for c in df.columns]\n",
    "    df.columns = [c.lower().replace('(', '') for c in df.columns]\n",
    "    df.columns = [c.lower().replace(')', '') for c in df.columns]\n",
    "    return df"
   ]
  },
  {
   "cell_type": "code",
   "execution_count": null,
   "metadata": {},
   "outputs": [],
   "source": [
    "#DRS 01 - Grande São Paulo\n",
    "#DRS 02 - Araçatuba\n",
    "#DRS 03 - Araraquara\n",
    "#DRS 04 - Baixada Santista\n",
    "#DRS 05 - Barretos\n",
    "#DRS 06 - Bauru\n",
    "#DRS 07 - Campinas\n",
    "#DRS 08 - Franca\n",
    "#DRS 09 - Marília\n",
    "#DRS 10 - Piracicaba\n",
    "#DRS 11 - Presidente Prudente\n",
    "#DRS 12 - Registro\n",
    "#DRS 13 - Ribeirão Preto\n",
    "#DRS 14 - São João da Boa Vista\n",
    "#DRS 15 - São José do Rio Preto\n",
    "#DRS 16 - Sorocaba\n",
    "#DRS 17 - Taubaté\n",
    "\n",
    "#select districts for plotting\n",
    "districts4Plot=['DRS 01 - Grande São Paulo',\n",
    "               'DRS 04 - Baixada Santista',\n",
    "               'DRS 07 - Campinas',\n",
    "               'DRS 05 - Barretos',\n",
    "               districtRegion]\n",
    "\n",
    "#main district region for analysis\n",
    "#districtRegion = \"DRS 01 - Grande São Paulo\"\n",
    "\n",
    "#Choose here your options\n",
    "#opt=0 all plots\n",
    "#opt=1 corona log plot\n",
    "#opt=2 logistic model prediction\n",
    "#opt=3 bar plot with growth rate\n",
    "#opt=4 log plot + bar plot\n",
    "#opt=5 SEAIR-D Model\n",
    "opt = 5\n",
    "\n",
    "#versio'n to identify the png file result\n",
    "version = \"1\"\n",
    "\n",
    "#parameters for plotting\n",
    "query = dfparam.query('DRS == \"{}\"'.format(districtRegion)).reset_index()\n",
    "startdate = query['start-date'][0]\n",
    "predict_range = query['prediction-range'][0]\n",
    "\n",
    "#number of cases to start plotting model in log graph - real data = 100\n",
    "startCase=1"
   ]
  },
  {
   "cell_type": "code",
   "execution_count": null,
   "metadata": {},
   "outputs": [],
   "source": [
    "#do not allow the scrolling of the plots"
   ]
  },
  {
   "cell_type": "code",
   "execution_count": null,
   "metadata": {},
   "outputs": [],
   "source": [
    "%%javascript\n",
    "IPython.OutputArea.prototype._should_scroll = function(lines){\n",
    "    return false;}"
   ]
  },
  {
   "cell_type": "code",
   "execution_count": null,
   "metadata": {},
   "outputs": [],
   "source": [
    "#plots one district or all districts\n",
    "\n",
    "if allDistricts:\n",
    "    for districtRegion in DRS:\n",
    "        covid_plots.covid_plots(districtRegion, districts4Plot, startdate,predict_range, \\\n",
    "                                startCase, 5, version, show=True)\n",
    "else: \n",
    "    covid_plots.covid_plots(districtRegion, districts4Plot, startdate,predict_range, \\\n",
    "                                startCase, opt, version, show=True)"
   ]
  },
  {
   "cell_type": "code",
   "execution_count": null,
   "metadata": {},
   "outputs": [],
   "source": []
  },
  {
   "cell_type": "code",
   "execution_count": null,
   "metadata": {},
   "outputs": [],
   "source": []
  },
  {
   "cell_type": "code",
   "execution_count": null,
   "metadata": {},
   "outputs": [],
   "source": []
  },
  {
   "cell_type": "code",
   "execution_count": null,
   "metadata": {},
   "outputs": [],
   "source": []
  }
 ],
 "metadata": {
  "kernelspec": {
   "display_name": "Python 3",
   "language": "python",
   "name": "python3"
  },
  "language_info": {
   "codemirror_mode": {
    "name": "ipython",
    "version": 3
   },
   "file_extension": ".py",
   "mimetype": "text/x-python",
   "name": "python",
   "nbconvert_exporter": "python",
   "pygments_lexer": "ipython3",
   "version": "3.7.3"
  }
 },
 "nbformat": 4,
 "nbformat_minor": 4
}
