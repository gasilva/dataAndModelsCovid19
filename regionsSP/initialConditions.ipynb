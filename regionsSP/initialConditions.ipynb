version https://git-lfs.github.com/spec/v1
oid sha256:00284c3411c47034b942ee81f562f5861ce9a402ed0a47807a285f3684fd32c7
size 9200
