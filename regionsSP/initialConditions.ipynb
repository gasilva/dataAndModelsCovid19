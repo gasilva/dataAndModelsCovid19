{
 "cells": [
  {
   "cell_type": "code",
   "execution_count": null,
   "metadata": {},
   "outputs": [],
   "source": []
  },
  {
   "cell_type": "code",
   "execution_count": null,
   "metadata": {},
   "outputs": [],
   "source": [
    "from scipy.optimize import brute\n",
    "import numpy as np\n",
    "from datetime import datetime,timedelta\n",
    "import pandas as pd"
   ]
  },
  {
   "cell_type": "code",
   "execution_count": null,
   "metadata": {},
   "outputs": [],
   "source": [
    "# Load solver\n",
    "GlobalOptimization = False\n",
    "import ray\n",
    "\n",
    "if GlobalOptimization:\n",
    "    import LearnerGlobalOpt as Learner  # basinhopping global optimization (several times minimize)\n",
    "else:\n",
    "    import Learner #minimize"
   ]
  },
  {
   "cell_type": "code",
   "execution_count": null,
   "metadata": {},
   "outputs": [],
   "source": [
    "import ray"
   ]
  },
  {
   "cell_type": "code",
   "execution_count": null,
   "metadata": {},
   "outputs": [],
   "source": [
    "# Initial parameters\n",
    "dfparam = pd.read_csv(\"data/param.csv\")\n",
    "dfparam"
   ]
  },
  {
   "cell_type": "code",
   "execution_count": null,
   "metadata": {},
   "outputs": [],
   "source": [
    "dfSP = pd.read_csv(\"data/dados_municipios_SP.csv\")\n",
    "dfSP\n",
    "\n",
    "# lista DRSs\n",
    "DRS = list(dfSP[\"DRS\"].unique())\n",
    "DRS.remove(\"Indefinido\")"
   ]
  },
  {
   "cell_type": "code",
   "execution_count": null,
   "metadata": {},
   "outputs": [],
   "source": [
    "#@ray.remote\n",
    "def opt(districtRegion,e0,a0,r0,d0,date,version,wcases,wrec):\n",
    "    rranges = [slice(1e5,2e6,1e5),slice(-2,2,4),slice(0,1000,1000)]\n",
    "    optimal = brute(fobjective,        \n",
    "        ranges=rranges,\n",
    "        args=(districtRegion,e0,a0,r0,d0,date,version,wcases,wrec), full_output=True, disp=True, finish=None)\n",
    "    \n",
    "    return optimal"
   ]
  },
  {
   "cell_type": "code",
   "execution_count": null,
   "metadata": {},
   "outputs": [],
   "source": [
    "from scipy.integrate import odeint\n",
    "\n",
    "def fobjective(point,districtRegion,e0,a0,r0,d0,date,version,wcases,wrec):\n",
    "    results=[]\n",
    "    s0, deltaDate, i0 = point\n",
    "    \n",
    "    startNCases = 20\n",
    "    ratio = 0.1\n",
    "    version = 1\n",
    "    cleanRecovered = False\n",
    "    \n",
    "    Date = datetime.strptime(date, \"%Y-%m-%d\")\n",
    "    end_date = Date + timedelta(days=+int(deltaDate))\n",
    "    dateStr=end_date.strftime(\"%Y-%m-%d\")\n",
    "    \n",
    "    \n",
    "    predict_range = 60\n",
    "    \n",
    "    \n",
    "    #objective function Odeint solver\n",
    "    def lossOdeint(point, data, death, s_0, e_0, a_0, i_0, r_0, d_0, startNCases, ratioRecovered, weigthCases, weigthRecov):\n",
    "        size = len(data)\n",
    "        beta, beta2, sigma, sigma2, sigma3, gamma, b, mu = point\n",
    "        def SEAIRD(y,t):\n",
    "            S = y[0]\n",
    "            E = y[1]\n",
    "            A = y[2]\n",
    "            I = y[3]\n",
    "            R = y[4]\n",
    "            D = y[5]\n",
    "            p=0.2\n",
    "            # beta2=beta\n",
    "            y0=-(beta2*A+beta*I)*S+mu*S #S\n",
    "            y1=(beta2*A+beta*I)*S-sigma*E-mu*E #E\n",
    "            y2=sigma*E*(1-p)-gamma*A-mu*A #A\n",
    "            y3=sigma*E*p-gamma*I-sigma2*I-sigma3*I-mu*I#I\n",
    "            y4=b*I+gamma*A+sigma2*I-mu*R #R\n",
    "            y5=(-(y0+y1+y2+y3+y4)) #D\n",
    "            return [y0,y1,y2,y3,y4,y5]\n",
    "\n",
    "        y0=[s_0,e_0,a_0,i_0,r_0,d_0]\n",
    "        tspan=np.arange(0, size, 1)\n",
    "        res=odeint(SEAIRD,y0,tspan,hmax=0.01)\n",
    "\n",
    "        l1=0\n",
    "        l2=0\n",
    "        l3=0\n",
    "        tot=0\n",
    "\n",
    "        for i in range(0,len(data.values)):\n",
    "            if data.values[i]>startNCases:\n",
    "                l1 = l1+(res[i,3] - data.values[i])**2\n",
    "                l2 = l2+(res[i,5] - death.values[i])**2\n",
    "                newRecovered=min(1e6,data.values[i]*ratioRecovered)\n",
    "                l3 = l3+(res[i,4] - newRecovered)**2\n",
    "                tot+=1\n",
    "        l1=np.sqrt(l1/max(1,tot))\n",
    "        l2=np.sqrt(l2/max(1,tot))\n",
    "        l3=np.sqrt(l3/max(1,tot))\n",
    "\n",
    "        #weight for cases\n",
    "        u = weigthCases  #Brazil US 0.1\n",
    "        w = weigthRecov\n",
    "        #weight for deaths\n",
    "        v = max(0,1. - u - w)\n",
    "        \n",
    "        #print(u*l1 + v*l2 + w*l3)\n",
    "        return u*l1 + v*l2 + w*l3\n",
    "    \n",
    "    learner = Learner.Learner.remote(districtRegion, lossOdeint,dateStr, \n",
    "                                     predict_range,s0, e0, a0, i0, r0, d0, \n",
    "                                     startNCases, ratio, wcases, wrec,\n",
    "                                     cleanRecovered, version, savedata=False)\n",
    "    \n",
    "    results.append(learner.train.remote())\n",
    "    results = ray.get(results)\n",
    "    return results"
   ]
  },
  {
   "cell_type": "code",
   "execution_count": null,
   "metadata": {},
   "outputs": [],
   "source": [
    "allDistricts=False\n",
    "\n",
    "optimal=[]\n",
    "if allDistricts:\n",
    "    for i in range(len(DRS))\n",
    "    #for districtRegion in DRS:\n",
    "        query = dfparam.query('DRS == \"{}\"'.format(DRS[i])).reset_index()\n",
    "        parameters = np.array(query.iloc[:, 2:])[0]\n",
    "        startdate,predictionrange,s0,e0,a0,i0,r0,d0,START,ratio,wcases,wrec = parameters\n",
    "\n",
    "        version = 1\n",
    "        optimal = []\n",
    "        optimal.append(opt(districtRegion,e0,a0,r0,d0,startdate,version,wcases,wrec)) \n",
    "        \n",
    "        print(\"DRS = {}\\n\".format(DRS[i]))\n",
    "        print(\"S0 = {}\\n\".format(optimal[i][0][0]))\n",
    "        print(\"Delta Date Days = {}\\n\".format(optimal[i][0][1]))   \n",
    "        print(\"I0 = {}\\n\".format(optimal[i][0][2]))   \n",
    "        print(\"Function Minimum = {}\\n\".format(optimal[i][1]))\n",
    "        \n",
    "        j = query['index'].values[0]\n",
    "        dfparam.at[j, \"s0\"] = optimal[i][0][0]\n",
    "        dfparam.at[j, \"i0\"] = optimal[i][0][2]\n",
    "        \n",
    "else:\n",
    "    districtRegion= \"DRS 01 - Grande São Paulo\" #'DRS 08 - Franca' \\\n",
    "    #'DRS 14 - São João da Boa Vista' #'DRS 04 - Baixada Santista' \\\n",
    "    #'DRS 11 - Presidente Prudente' #'DRS 13 - Ribeirão Preto' \\\n",
    "    #'DRS 05 - Barretos' #'DRS 12 - Registro' #'DRS 15 - São José do Rio Preto' \\\n",
    "    #'DRS 10 - Piracicaba'#'DRS 17 - Taubaté'#'DRS 02 - Araçatuba'# \\\n",
    "    #'DRS 03 - Araraquara' #DRS 07 - Campinas'#'DRS 16 - Sorocaba'#'DRS 06 - Bauru' \\\n",
    "    #'DRS 09 - Marília' #\"DRS 01 - Grande São Paulo\"\n",
    "\n",
    "    query = dfparam.query('DRS == \"{}\"'.format(districtRegion)).reset_index()\n",
    "    parameters = np.array(query.iloc[:, 2:])[0]\n",
    "    startdate,predictionrange,s0,e0,a0,i0,r0,d0,START,ratio,wcases,wrec = parameters\n",
    "\n",
    "    version = 1\n",
    "    optimal = []\n",
    "    optimal.append(opt(districtRegion,e0,a0,r0,d0,startdate,version,wcases,wrec))\n",
    "    \n",
    "    print(\"DRS = {}\\n\".format(DRS[i]))\n",
    "    print(\"S0 = {}\\n\".format(optimal[0][0][0]))\n",
    "    print(\"Delta Date Days = {}\\n\".format(optimal[0][0][1]))   \n",
    "    print(\"I0 = {}\\n\".format(optimal[0][0][2]))   \n",
    "    print(\"Function Minimum = {}\\n\".format(optimal[0][1]))\n",
    "    \n",
    "    j = query['index'].values[0]\n",
    "    dfparam.at[j, \"s0\"] = optimal[0][0][0]\n",
    "    dfparam.at[j, \"i0\"] = optimal[0][0][2]"
   ]
  },
  {
   "cell_type": "code",
   "execution_count": null,
   "metadata": {},
   "outputs": [],
   "source": [
    "ray.shutdown()"
   ]
  },
  {
   "cell_type": "code",
   "execution_count": null,
   "metadata": {},
   "outputs": [],
   "source": [
    "dfparam.to_csv(\"data/param.csv\", sep=\",\", index=False)"
   ]
  }
 ],
 "metadata": {
  "kernelspec": {
   "display_name": "Python 3",
   "language": "python",
   "name": "python3"
  },
  "language_info": {
   "codemirror_mode": {
    "name": "ipython",
    "version": 3
   },
   "file_extension": ".py",
   "mimetype": "text/x-python",
   "name": "python",
   "nbconvert_exporter": "python",
   "pygments_lexer": "ipython3",
   "version": "3.7.3"
  }
 },
 "nbformat": 4,
 "nbformat_minor": 4
}
