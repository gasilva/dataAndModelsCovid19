version https://git-lfs.github.com/spec/v1
oid sha256:1a1cd0b9d1c65f0db6d8d86b6b5aad8d394f79bcce6b7af327f88366b1e3174d
size 2484609
