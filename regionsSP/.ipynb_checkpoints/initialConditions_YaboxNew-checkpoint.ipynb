version https://git-lfs.github.com/spec/v1
oid sha256:43bfe12152a0ae4bb6eaabcb04f222fdf66833b7bb21712cb83094a18e8863aa
size 6545279
