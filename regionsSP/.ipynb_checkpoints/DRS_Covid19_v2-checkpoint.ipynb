version https://git-lfs.github.com/spec/v1
oid sha256:4d7378a25f69836fe3f0f3ae96cf14ef6c0689ffd5a8f73a007a7fee5e44c8d5
size 70496
