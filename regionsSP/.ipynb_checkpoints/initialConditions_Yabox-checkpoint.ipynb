version https://git-lfs.github.com/spec/v1
oid sha256:14226d82ad742608b9a7bbf3718e28ccf41499d511915a1638b96a3651ea2999
size 41507865
