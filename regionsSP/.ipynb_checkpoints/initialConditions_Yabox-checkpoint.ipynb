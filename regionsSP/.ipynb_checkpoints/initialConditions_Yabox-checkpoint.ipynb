{
 "cells": [
  {
   "cell_type": "markdown",
   "metadata": {},
   "source": [
    "# Optimize Initial Conditions\n",
    "## Yabox"
   ]
  },
  {
   "cell_type": "code",
   "execution_count": 1,
   "metadata": {},
   "outputs": [],
   "source": [
    "from scipy.optimize import brute\n",
    "import numpy as np\n",
    "from datetime import datetime,timedelta\n",
    "import pandas as pd\n",
    "from yabox import DE"
   ]
  },
  {
   "cell_type": "markdown",
   "metadata": {},
   "source": [
    "# Initialize Ray"
   ]
  },
  {
   "cell_type": "code",
   "execution_count": 2,
   "metadata": {
    "tags": []
   },
   "outputs": [
    {
     "name": "stderr",
     "output_type": "stream",
     "text": [
      "2020-07-26 19:04:13,623\tINFO resource_spec.py:212 -- Starting Ray with 0.98 GiB memory available for workers and up to 1.0 GiB for objects. You can adjust these settings with ray.init(memory=<bytes>, object_store_memory=<bytes>).\n",
      "2020-07-26 19:04:14,032\tINFO services.py:1170 -- View the Ray dashboard at \u001b[1m\u001b[32mlocalhost:8267\u001b[39m\u001b[22m\n"
     ]
    },
    {
     "data": {
      "text/plain": [
       "ObjectID(45b95b1c8bd3a9c4ffffffff010000c801000000)"
      ]
     },
     "execution_count": 2,
     "metadata": {},
     "output_type": "execute_result"
    }
   ],
   "source": [
    "from environs import Env\n",
    "env = Env()\n",
    "env.str(\"CUDA_DEVICE_ORDER\",'PCI_BUS_ID')\n",
    "env.int(\"CUDA_VISIBLE_DEVICES\",1)\n",
    "env.int(\"NUMBA_ENABLE_CUDASIM\",1)\n",
    "env.bool(\"OMPI_MCA_opal_cuda_support\",True)\n",
    "\n",
    "import os\n",
    "import ray\n",
    "MB=1024*1024\n",
    "GB=MB*1024\n",
    "ray.shutdown()\n",
    "ray.init(object_store_memory=1*GB,memory=1*GB,\n",
    "         #lru_evict=True,\n",
    "         driver_object_store_memory=500*MB,num_gpus=4,num_cpus=10,\n",
    "         ignore_reinit_error=True) # , include_webui=False, ignore_reinit_error=True)\n",
    "\n",
    "@ray.remote(num_gpus=1)\n",
    "def use_gpu():\n",
    "    print(\"ray.get_gpu_ids(): {}\".format(ray.get_gpu_ids()[0]))\n",
    "    print(\"CUDA_VISIBLE_DEVICES: {}\".format(os.environ[\"CUDA_VISIBLE_DEVICES\"]))\n",
    "\n",
    "use_gpu.remote()"
   ]
  },
  {
   "cell_type": "markdown",
   "metadata": {},
   "source": [
    "# Load New and Process Data from website data.brasil.io"
   ]
  },
  {
   "cell_type": "code",
   "execution_count": 3,
   "metadata": {
    "tags": []
   },
   "outputs": [
    {
     "name": "stdout",
     "output_type": "stream",
     "text": [
      "Baixando arquivos brasil.io...\n",
      "\u001b[2m\u001b[36m(pid=23977)\u001b[0m ray.get_gpu_ids(): 3\n",
      "\u001b[2m\u001b[36m(pid=23977)\u001b[0m CUDA_VISIBLE_DEVICES: 3\n"
     ]
    }
   ],
   "source": [
    "import get_data\n",
    "LoadData=True\n",
    "\n",
    "if LoadData:\n",
    "    get_data.get_data()"
   ]
  },
  {
   "cell_type": "markdown",
   "metadata": {},
   "source": [
    "# Functions to Load Processed Data"
   ]
  },
  {
   "cell_type": "code",
   "execution_count": 4,
   "metadata": {},
   "outputs": [],
   "source": [
    "def load_confirmed(districtRegion, start_date):\n",
    "    dateparse = lambda x: datetime.strptime(x, '%Y-%m-%d')\n",
    "    df = pd.read_csv('./data/DRS_confirmados.csv',delimiter=',',parse_dates=True, date_parser=dateparse)\n",
    "    y=[]\n",
    "    x=[]\n",
    "    for i in range(0,len(df.date)):\n",
    "        y.append(df[state].values[i])\n",
    "        x.append(df.date.values[i])\n",
    "    df2=pd.DataFrame(data=y,index=x,columns=[\"\"])\n",
    "    df2=df2[start_date:]\n",
    "    del x,y,df,dateparse\n",
    "    return df2\n",
    "\n",
    "def load_dead(districtRegion, start_date):\n",
    "    dateparse = lambda x: datetime.strptime(x, '%Y-%m-%d')\n",
    "    df = pd.read_csv('./data/DRS_mortes.csv',delimiter=',',parse_dates=True, date_parser=dateparse)\n",
    "    y=[]\n",
    "    x=[]\n",
    "    for i in range(0,len(df.date)):\n",
    "        y.append(df[state].values[i])\n",
    "        x.append(df.date.values[i])\n",
    "    df2=pd.DataFrame(data=y,index=x,columns=[\"\"])\n",
    "    df2=df2[start_date:]\n",
    "    del x,y,df,dateparse\n",
    "    return df2"
   ]
  },
  {
   "cell_type": "markdown",
   "metadata": {},
   "source": [
    "# Load solver"
   ]
  },
  {
   "cell_type": "code",
   "execution_count": 5,
   "metadata": {},
   "outputs": [],
   "source": [
    "import LearnerICRayNoLoadBH as L "
   ]
  },
  {
   "cell_type": "markdown",
   "metadata": {},
   "source": [
    "# Data for States"
   ]
  },
  {
   "cell_type": "code",
   "execution_count": 6,
   "metadata": {},
   "outputs": [],
   "source": [
    "dfparam = pd.read_csv(\"data/param.csv\")\n",
    "dfparam\n",
    "DRS=dfparam.DRS"
   ]
  },
  {
   "cell_type": "code",
   "execution_count": 7,
   "metadata": {},
   "outputs": [
    {
     "data": {
      "text/html": [
       "<div>\n",
       "<style scoped>\n",
       "    .dataframe tbody tr th:only-of-type {\n",
       "        vertical-align: middle;\n",
       "    }\n",
       "\n",
       "    .dataframe tbody tr th {\n",
       "        vertical-align: top;\n",
       "    }\n",
       "\n",
       "    .dataframe thead th {\n",
       "        text-align: right;\n",
       "    }\n",
       "</style>\n",
       "<table border=\"1\" class=\"dataframe\">\n",
       "  <thead>\n",
       "    <tr style=\"text-align: right;\">\n",
       "      <th></th>\n",
       "      <th>date</th>\n",
       "      <th>state</th>\n",
       "      <th>city</th>\n",
       "      <th>place_type</th>\n",
       "      <th>confirmed</th>\n",
       "      <th>deaths</th>\n",
       "      <th>order_for_place</th>\n",
       "      <th>is_last</th>\n",
       "      <th>popEst</th>\n",
       "      <th>city_ibge_code</th>\n",
       "      <th>confirmed_per_100k_inhabitants</th>\n",
       "      <th>death_rate</th>\n",
       "      <th>DRS</th>\n",
       "    </tr>\n",
       "  </thead>\n",
       "  <tbody>\n",
       "    <tr>\n",
       "      <th>0</th>\n",
       "      <td>2020-07-25</td>\n",
       "      <td>SP</td>\n",
       "      <td>TOTAL</td>\n",
       "      <td>state</td>\n",
       "      <td>479481</td>\n",
       "      <td>21517</td>\n",
       "      <td>150</td>\n",
       "      <td>True</td>\n",
       "      <td>45919049.0</td>\n",
       "      <td>35.0</td>\n",
       "      <td>1044.18757</td>\n",
       "      <td>0.0449</td>\n",
       "      <td>Indefinido</td>\n",
       "    </tr>\n",
       "    <tr>\n",
       "      <th>1</th>\n",
       "      <td>2020-07-24</td>\n",
       "      <td>SP</td>\n",
       "      <td>TOTAL</td>\n",
       "      <td>state</td>\n",
       "      <td>463218</td>\n",
       "      <td>21206</td>\n",
       "      <td>149</td>\n",
       "      <td>False</td>\n",
       "      <td>45919049.0</td>\n",
       "      <td>35.0</td>\n",
       "      <td>1008.77089</td>\n",
       "      <td>0.0458</td>\n",
       "      <td>Indefinido</td>\n",
       "    </tr>\n",
       "    <tr>\n",
       "      <th>2</th>\n",
       "      <td>2020-07-23</td>\n",
       "      <td>SP</td>\n",
       "      <td>TOTAL</td>\n",
       "      <td>state</td>\n",
       "      <td>452007</td>\n",
       "      <td>20894</td>\n",
       "      <td>148</td>\n",
       "      <td>False</td>\n",
       "      <td>45919049.0</td>\n",
       "      <td>35.0</td>\n",
       "      <td>984.35619</td>\n",
       "      <td>0.0462</td>\n",
       "      <td>Indefinido</td>\n",
       "    </tr>\n",
       "    <tr>\n",
       "      <th>3</th>\n",
       "      <td>2020-07-22</td>\n",
       "      <td>SP</td>\n",
       "      <td>TOTAL</td>\n",
       "      <td>state</td>\n",
       "      <td>439446</td>\n",
       "      <td>20532</td>\n",
       "      <td>147</td>\n",
       "      <td>False</td>\n",
       "      <td>45919049.0</td>\n",
       "      <td>35.0</td>\n",
       "      <td>957.00153</td>\n",
       "      <td>0.0467</td>\n",
       "      <td>Indefinido</td>\n",
       "    </tr>\n",
       "    <tr>\n",
       "      <th>4</th>\n",
       "      <td>2020-07-21</td>\n",
       "      <td>SP</td>\n",
       "      <td>TOTAL</td>\n",
       "      <td>state</td>\n",
       "      <td>422669</td>\n",
       "      <td>20171</td>\n",
       "      <td>146</td>\n",
       "      <td>False</td>\n",
       "      <td>45919049.0</td>\n",
       "      <td>35.0</td>\n",
       "      <td>920.46549</td>\n",
       "      <td>0.0477</td>\n",
       "      <td>Indefinido</td>\n",
       "    </tr>\n",
       "    <tr>\n",
       "      <th>...</th>\n",
       "      <td>...</td>\n",
       "      <td>...</td>\n",
       "      <td>...</td>\n",
       "      <td>...</td>\n",
       "      <td>...</td>\n",
       "      <td>...</td>\n",
       "      <td>...</td>\n",
       "      <td>...</td>\n",
       "      <td>...</td>\n",
       "      <td>...</td>\n",
       "      <td>...</td>\n",
       "      <td>...</td>\n",
       "      <td>...</td>\n",
       "    </tr>\n",
       "    <tr>\n",
       "      <th>54126</th>\n",
       "      <td>2020-06-23</td>\n",
       "      <td>SP</td>\n",
       "      <td>Óleo</td>\n",
       "      <td>city</td>\n",
       "      <td>1</td>\n",
       "      <td>0</td>\n",
       "      <td>5</td>\n",
       "      <td>False</td>\n",
       "      <td>2496.0</td>\n",
       "      <td>3533809.0</td>\n",
       "      <td>40.06410</td>\n",
       "      <td>0.0000</td>\n",
       "      <td>DRS 09 - Marília</td>\n",
       "    </tr>\n",
       "    <tr>\n",
       "      <th>54127</th>\n",
       "      <td>2020-06-22</td>\n",
       "      <td>SP</td>\n",
       "      <td>Óleo</td>\n",
       "      <td>city</td>\n",
       "      <td>1</td>\n",
       "      <td>0</td>\n",
       "      <td>4</td>\n",
       "      <td>False</td>\n",
       "      <td>2496.0</td>\n",
       "      <td>3533809.0</td>\n",
       "      <td>40.06410</td>\n",
       "      <td>0.0000</td>\n",
       "      <td>DRS 09 - Marília</td>\n",
       "    </tr>\n",
       "    <tr>\n",
       "      <th>54128</th>\n",
       "      <td>2020-06-21</td>\n",
       "      <td>SP</td>\n",
       "      <td>Óleo</td>\n",
       "      <td>city</td>\n",
       "      <td>1</td>\n",
       "      <td>0</td>\n",
       "      <td>3</td>\n",
       "      <td>False</td>\n",
       "      <td>2496.0</td>\n",
       "      <td>3533809.0</td>\n",
       "      <td>40.06410</td>\n",
       "      <td>0.0000</td>\n",
       "      <td>DRS 09 - Marília</td>\n",
       "    </tr>\n",
       "    <tr>\n",
       "      <th>54129</th>\n",
       "      <td>2020-06-20</td>\n",
       "      <td>SP</td>\n",
       "      <td>Óleo</td>\n",
       "      <td>city</td>\n",
       "      <td>1</td>\n",
       "      <td>0</td>\n",
       "      <td>2</td>\n",
       "      <td>False</td>\n",
       "      <td>2496.0</td>\n",
       "      <td>3533809.0</td>\n",
       "      <td>40.06410</td>\n",
       "      <td>0.0000</td>\n",
       "      <td>DRS 09 - Marília</td>\n",
       "    </tr>\n",
       "    <tr>\n",
       "      <th>54130</th>\n",
       "      <td>2020-06-19</td>\n",
       "      <td>SP</td>\n",
       "      <td>Óleo</td>\n",
       "      <td>city</td>\n",
       "      <td>1</td>\n",
       "      <td>0</td>\n",
       "      <td>1</td>\n",
       "      <td>False</td>\n",
       "      <td>2496.0</td>\n",
       "      <td>3533809.0</td>\n",
       "      <td>40.06410</td>\n",
       "      <td>0.0000</td>\n",
       "      <td>DRS 09 - Marília</td>\n",
       "    </tr>\n",
       "  </tbody>\n",
       "</table>\n",
       "<p>54131 rows × 13 columns</p>\n",
       "</div>"
      ],
      "text/plain": [
       "             date state   city place_type  confirmed  deaths  order_for_place  \\\n",
       "0      2020-07-25    SP  TOTAL      state     479481   21517              150   \n",
       "1      2020-07-24    SP  TOTAL      state     463218   21206              149   \n",
       "2      2020-07-23    SP  TOTAL      state     452007   20894              148   \n",
       "3      2020-07-22    SP  TOTAL      state     439446   20532              147   \n",
       "4      2020-07-21    SP  TOTAL      state     422669   20171              146   \n",
       "...           ...   ...    ...        ...        ...     ...              ...   \n",
       "54126  2020-06-23    SP   Óleo       city          1       0                5   \n",
       "54127  2020-06-22    SP   Óleo       city          1       0                4   \n",
       "54128  2020-06-21    SP   Óleo       city          1       0                3   \n",
       "54129  2020-06-20    SP   Óleo       city          1       0                2   \n",
       "54130  2020-06-19    SP   Óleo       city          1       0                1   \n",
       "\n",
       "       is_last      popEst  city_ibge_code  confirmed_per_100k_inhabitants  \\\n",
       "0         True  45919049.0            35.0                      1044.18757   \n",
       "1        False  45919049.0            35.0                      1008.77089   \n",
       "2        False  45919049.0            35.0                       984.35619   \n",
       "3        False  45919049.0            35.0                       957.00153   \n",
       "4        False  45919049.0            35.0                       920.46549   \n",
       "...        ...         ...             ...                             ...   \n",
       "54126    False      2496.0       3533809.0                        40.06410   \n",
       "54127    False      2496.0       3533809.0                        40.06410   \n",
       "54128    False      2496.0       3533809.0                        40.06410   \n",
       "54129    False      2496.0       3533809.0                        40.06410   \n",
       "54130    False      2496.0       3533809.0                        40.06410   \n",
       "\n",
       "       death_rate               DRS  \n",
       "0          0.0449        Indefinido  \n",
       "1          0.0458        Indefinido  \n",
       "2          0.0462        Indefinido  \n",
       "3          0.0467        Indefinido  \n",
       "4          0.0477        Indefinido  \n",
       "...           ...               ...  \n",
       "54126      0.0000  DRS 09 - Marília  \n",
       "54127      0.0000  DRS 09 - Marília  \n",
       "54128      0.0000  DRS 09 - Marília  \n",
       "54129      0.0000  DRS 09 - Marília  \n",
       "54130      0.0000  DRS 09 - Marília  \n",
       "\n",
       "[54131 rows x 13 columns]"
      ]
     },
     "execution_count": 7,
     "metadata": {},
     "output_type": "execute_result"
    }
   ],
   "source": [
    "dfSP = pd.read_csv(\"data/dados_municipios_SP.csv\")\n",
    "\n",
    "# lista DRSs\n",
    "DRS = list(dfSP[\"DRS\"].unique())\n",
    "DRS.remove(\"Indefinido\")\n",
    "\n",
    "dfSP"
   ]
  },
  {
   "cell_type": "markdown",
   "metadata": {},
   "source": [
    "# Functions for Optimization"
   ]
  },
  {
   "cell_type": "code",
   "execution_count": 8,
   "metadata": {},
   "outputs": [],
   "source": [
    "from scipy.integrate import odeint\n",
    "import sys\n",
    "import io\n",
    "import gc\n",
    "\n",
    "def create_f(districtRegion,e0,a0,r0,date, ratio, predict_range, version):\n",
    "                \n",
    "    def fobjective(point):\n",
    "        \n",
    "        dead=  load_dead(districtRegion,date)\n",
    "        data = load_confirmed(districtRegion,date)*(1-ratio)-dead\n",
    "        cleanRecovered=False\n",
    "        s0, deltaDate, i0, d0, startNCases, weigthCases, weigthRecov = point\n",
    "        end_date=datetime.strptime(date, \"%Y-%m-%d\") + timedelta(days=deltaDate)\n",
    "        f=L.Learner.remote(state, end_date.strftime(\"%Y-%m-%d\"), predict_range,\\\n",
    "                           s0, e0, a0, i0, r0, d0, startNCases, ratio, weigthCases, weigthRecov, \\\n",
    "                           cleanRecovered, version, data, dead, savedata=False)\n",
    "        result = f.train.remote() \n",
    "        result = ray.get(result) \n",
    "\n",
    "        del end_date,cleanRecovered, data, dead, point,f         \n",
    "\n",
    "        gc.collect()\n",
    "\n",
    "        return result\n",
    "    return fobjective"
   ]
  },
  {
   "cell_type": "code",
   "execution_count": 9,
   "metadata": {},
   "outputs": [],
   "source": [
    "@ray.remote(memory=50 * 1024 * 1024, max_calls=1)\n",
    "def opt(districtRegion,s0,i0,e0,a0,r0,d0,wcases,date,startNCases, ratio, predict_range, version):\n",
    "\n",
    "    bounds=[(s0*0.8,s0*1.5),(-2,2),(i0/2,i0*2), (0,d0*1.2), (0,startNCases*1.2),\\\n",
    "              (0.3,0.8),(0.02,0.08)]\n",
    "    maxiterations=500\n",
    "    f=create_f(districtRegion,e0,a0,r0,date, ratio, predict_range, version)\n",
    "    de = DE(f, bounds, maxiters=maxiterations)\n",
    "    for step in de.geniterator():\n",
    "        try:\n",
    "            idx = step.best_idx\n",
    "            norm_vector = step.population[idx]\n",
    "            best_params = de.denormalize([norm_vector])\n",
    "            del norm_vector, idx\n",
    "        except:\n",
    "            print(\"error in function evaluation\")\n",
    "    p=best_params[0]\n",
    "    del f, bounds, data, dead,best_params\n",
    "    \n",
    "    return p"
   ]
  },
  {
   "cell_type": "markdown",
   "metadata": {},
   "source": [
    "# Main Code"
   ]
  },
  {
   "cell_type": "code",
   "execution_count": 10,
   "metadata": {},
   "outputs": [
    {
     "data": {
      "application/javascript": [
       "IPython.OutputArea.prototype._should_scroll = function(lines){\n",
       "    return true;}\n"
      ],
      "text/plain": [
       "<IPython.core.display.Javascript object>"
      ]
     },
     "metadata": {},
     "output_type": "display_data"
    }
   ],
   "source": [
    "%%javascript\n",
    "IPython.OutputArea.prototype._should_scroll = function(lines){\n",
    "    return true;}"
   ]
  },
  {
   "cell_type": "code",
   "execution_count": 15,
   "metadata": {
    "tags": []
   },
   "outputs": [
    {
     "data": {
      "text/plain": [
       "0          DRS 01 - Grande São Paulo\n",
       "1                 DRS 02 - Araçatuba\n",
       "2                DRS 03 - Araraquara\n",
       "3          DRS 04 - Baixada Santista\n",
       "4                  DRS 05 - Barretos\n",
       "5                     DRS 06 - Bauru\n",
       "6                  DRS 07 - Campinas\n",
       "7                    DRS 08 - Franca\n",
       "8                   DRS 09 - Marília\n",
       "9                DRS 10 - Piracicaba\n",
       "10      DRS 11 - Presidente Prudente\n",
       "11                 DRS 12 - Registro\n",
       "12           DRS 13 - Ribeirão Preto\n",
       "13    DRS 14 - São João da Boa Vista\n",
       "14    DRS 15 - São José do Rio Preto\n",
       "15                 DRS 16 - Sorocaba\n",
       "16                  DRS 17 - Taubaté\n",
       "Name: DRS, dtype: object"
      ]
     },
     "metadata": {},
     "output_type": "display_data"
    }
   ],
   "source": [
    "DRS=dfparam.DRS\n",
    "display(DRS)\n",
    "allStates=True\n",
    "version=\"105\"\n",
    "gc.enable()\n",
    "\n",
    "optimal=[]\n",
    "if allStates:\n",
    "    for districtRegion in DRS:\n",
    "        #remove previous history file\n",
    "        strFile='./results/history_'+districtRegion+version+'.csv'\n",
    "        if os.path.isfile(strFile):\n",
    "            os.remove(strFile)\n",
    "        query = dfparam.query('DRS == \"{}\"'.format(districtRegion)).reset_index()\n",
    "        parameters = np.array(query.iloc[:, 2:])[0]\n",
    "        date,predict_range,s0,e0,a0,i0,r0,d0,startNCases,ratio,wcases,wrec = parameters\n",
    "        optimal.append(opt.remote(districtRegion,s0,i0,e0,a0,r0,d0,wcases,date,startNCases, ratio, predict_range, version))        \n",
    "else:\n",
    "    districtRegion = \"DRS 01 - Grande São Paulo\" #'DRS 08 - Franca' \\\n",
    "    #'DRS 14 - São João da Boa Vista' #'DRS 04 - Baixada Santista' \\\n",
    "    #'DRS 11 - Presidente Prudente' #'DRS 13 - Ribeirão Preto' \\\n",
    "    #'DRS 05 - Barretos' #'DRS 12 - Registro' #'DRS 15 - São José do Rio Preto' \\\n",
    "    #'DRS 10 - Piracicaba'#'DRS 17 - Taubaté'#'DRS 02 - Araçatuba'# \\\n",
    "    #'DRS 03 - Araraquara' #DRS 07 - Campinas'#'DRS 16 - Sorocaba'#'DRS 06 - Bauru' \\\n",
    "    #'DRS 09 - Marília' #\"DRS 01 - Grande São Paulo\"\n",
    "\n",
    "    #remove previous history file\n",
    "    strFile='./results/history_'+districtRegion+version+'.csv'\n",
    "    if os.path.isfile(strFile):\n",
    "        os.remove(strFile)\n",
    "    query = dfparam.query('state == \"{}\"'.format(districtRegion)).reset_index()\n",
    "    parameters = np.array(query.iloc[:, 2:])[0]\n",
    "    start_date,predict_range,s0,e0,a0,i0,r0,d0,startNCases,ratio,wcases,wrec = parameters\n",
    "    optimal.append(opt.remote(districtRegion,s0,i0,e0,a0,r0,d0,wcasesdate,startNCases, ratio, predict_range, version))        "
   ]
  },
  {
   "cell_type": "code",
   "execution_count": null,
   "metadata": {
    "tags": [
     "outputPrepend"
    ]
   },
   "outputs": [],
   "source": [
    "optimal=ray.get(optimal)\n"
   ]
  },
  {
   "cell_type": "code",
   "execution_count": null,
   "metadata": {},
   "outputs": [],
   "source": [
    "for i in range(0,len(DRS)):    \n",
    "\n",
    "    districtRegion=DRS[i]\n",
    "    query = dfparam.query('DRS == \"{}\"'.format(districtRegion)).reset_index()\n",
    "    parameters = np.array(query.iloc[:, 2:])[0]\n",
    "    startdate,predict_range,s0,e0,a0,i0,r0,d0,startNCases,ratio,wcases,wrec = parameters\n",
    "    Date = datetime.strptime(startdate, \"%Y-%m-%d\")\n",
    "    end_date = Date + timedelta(days=+int(optimal[i][1]))\n",
    "    dateStr=end_date.strftime(\"%Y-%m-%d\")\n",
    "\n",
    "    j = query['index'].values[0]\n",
    "    dfparam.at[j, \"s0\"] = optimal[i][0]\n",
    "    dfparam.at[j, \"start-date\"] = dateStr\n",
    "    dfparam.at[j, \"i0\"] = optimal[i][2]\n",
    "    dfparam.at[j, \"WCASES\"] = optimal[i][3]\n",
    "    dfparam.at[j, \"WREC\"] = optimal[i][4]\n",
    "\n",
    "    dfparam.to_csv(\"data/param_optimized_Yabox.csv\", sep=\",\", index=False)\n",
    "    dfparam\n",
    "    "
   ]
  },
  {
   "cell_type": "code",
   "execution_count": null,
   "metadata": {},
   "outputs": [],
   "source": []
  },
  {
   "cell_type": "code",
   "execution_count": null,
   "metadata": {},
   "outputs": [],
   "source": []
  },
  {
   "cell_type": "code",
   "execution_count": null,
   "metadata": {},
   "outputs": [],
   "source": []
  },
  {
   "cell_type": "code",
   "execution_count": null,
   "metadata": {},
   "outputs": [],
   "source": []
  }
 ],
 "metadata": {
  "celltoolbar": "Edit Metadata",
  "kernelspec": {
   "display_name": "geo_env",
   "language": "python",
   "name": "geo_env"
  },
  "language_info": {
   "codemirror_mode": {
    "name": "ipython",
    "version": 3
   },
   "file_extension": ".py",
   "mimetype": "text/x-python",
   "name": "python",
   "nbconvert_exporter": "python",
   "pygments_lexer": "ipython3",
   "version": "3.6.10"
  }
 },
 "nbformat": 4,
 "nbformat_minor": 4
}
