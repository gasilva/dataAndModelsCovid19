version https://git-lfs.github.com/spec/v1
oid sha256:a89400b474655b75078749cd2be93798728b37ecb9f29862c9b2ac9e8993e6a1
size 10780140
