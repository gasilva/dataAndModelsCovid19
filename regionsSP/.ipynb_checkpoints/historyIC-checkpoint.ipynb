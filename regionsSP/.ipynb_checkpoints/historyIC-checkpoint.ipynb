version https://git-lfs.github.com/spec/v1
oid sha256:79660d1af0b6072b58a1e43bd51152faa5121e0d4d85ba4fb57994dea78cb2c4
size 29341
