version https://git-lfs.github.com/spec/v1
oid sha256:53aaae68ad06f713d56149e57240bc555e9806fc0e9a41ad28542991743e41d7
size 16714864
