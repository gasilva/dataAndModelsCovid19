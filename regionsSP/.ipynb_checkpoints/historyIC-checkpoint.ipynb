version https://git-lfs.github.com/spec/v1
oid sha256:e89888e31eb3a409f8a538ee15378493d87fbc9392d3cce9b56745e51b313c04
size 16978300
