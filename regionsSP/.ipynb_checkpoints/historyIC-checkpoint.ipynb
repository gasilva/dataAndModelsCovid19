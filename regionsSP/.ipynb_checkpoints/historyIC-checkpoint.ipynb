version https://git-lfs.github.com/spec/v1
oid sha256:ebf5512ab86698481e359a2a0c8c2f2313b9725aa11f8f0ce3692d9053f4718e
size 31731606
