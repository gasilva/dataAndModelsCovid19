version https://git-lfs.github.com/spec/v1
oid sha256:a970a5a1e05b4e7aa7ecd4aea5b9b75125e9d05885a77327e7afa3fdf6a3cd47
size 688430
