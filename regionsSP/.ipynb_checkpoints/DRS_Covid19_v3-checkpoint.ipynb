version https://git-lfs.github.com/spec/v1
oid sha256:5bb1c6b15da5a5bd728d9dd2aa0a852a35473ea441888c2abbd52476fb8c4115
size 686528
