version https://git-lfs.github.com/spec/v1
oid sha256:823c992eaa41771e6c7cc1e3424fc2196b1bb4e20c2ce65e47b0a6bf2171ba3e
size 70412
