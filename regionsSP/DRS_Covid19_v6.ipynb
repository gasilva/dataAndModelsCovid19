version https://git-lfs.github.com/spec/v1
oid sha256:b06c857e3880e6643141213b9388c5cd1639ba7ab13a2fa827853103e0ac0a7d
size 247686
