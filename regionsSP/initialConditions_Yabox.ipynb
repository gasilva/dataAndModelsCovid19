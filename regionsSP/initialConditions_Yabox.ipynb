version https://git-lfs.github.com/spec/v1
oid sha256:fce87ea01ee09e1327a1c2c2ff38de173c341e8fcfaccda1737c5b7934180a7b
size 21287526
