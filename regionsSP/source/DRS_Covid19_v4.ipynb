{
 "cells": [
  {
   "cell_type": "markdown",
   "metadata": {},
   "source": [
    "# COVID19 - District Region"
   ]
  },
  {
   "cell_type": "markdown",
   "metadata": {},
   "source": [
    "Install necessary packages for parallel computation:\n",
    "\n",
    "```\n",
    "pip install ipyparallel\n",
    "ipcluster nbextension enable\n",
    "pip install parallel-execute\n",
    "```\n",
    "\n",
    "To install for all users on JupyterHub, as root:\n",
    "```\n",
    "jupyter nbextension install --sys-prefix --py ipyparallel\n",
    "jupyter nbextension enable --sys-prefix --py ipyparallel\n",
    "jupyter serverextension enable --sys-prefix --py ipyparallel\n",
    "```\n",
    "\n",
    "start cluster at jupyter notebook interface"
   ]
  },
  {
   "cell_type": "code",
<<<<<<< HEAD
<<<<<<< HEAD
   "execution_count": null,
=======
   "execution_count": 21,
>>>>>>> c2306d5e7570cdf3827b57ad6b21996cc3ec2052
=======
   "execution_count": 1,
>>>>>>> delete jupyter notebook v3 regionsSP
   "metadata": {},
   "outputs": [],
   "source": [
    "import urllib.request\n",
    "import pandas as pd\n",
    "import numpy as np"
   ]
  },
  {
   "cell_type": "code",
<<<<<<< HEAD
<<<<<<< HEAD
   "execution_count": null,
=======
   "execution_count": 26,
>>>>>>> c2306d5e7570cdf3827b57ad6b21996cc3ec2052
=======
   "execution_count": 2,
>>>>>>> delete jupyter notebook v3 regionsSP
   "metadata": {},
   "outputs": [
    {
     "output_type": "stream",
     "name": "stdout",
     "text": "Baixando arquivos brasil.io...\n"
    }
   ],
   "source": [
    "# Download data\n",
    "import get_data\n",
    "LoadData=True\n",
    "\n",
    "if LoadData:\n",
    "    get_data.get_data()"
   ]
  },
  {
   "cell_type": "code",
   "execution_count": 3,
   "metadata": {},
   "outputs": [
    {
     "output_type": "execute_result",
     "data": {
      "text/plain": "             date state                city place_type  confirmed  deaths  \\\n0      2020-05-18    SP               TOTAL      state      63066    4823   \n1      2020-05-17    SP               TOTAL      state      62345    4782   \n2      2020-05-16    SP               TOTAL      state      61183    4688   \n3      2020-05-15    SP               TOTAL      state      58378    4501   \n4      2020-05-14    SP               TOTAL      state      54286    4315   \n...           ...   ...                 ...        ...        ...     ...   \n13658  2020-05-12    SP  Álvaro de Carvalho       city          1       0   \n13659  2020-05-11    SP  Álvaro de Carvalho       city          1       0   \n13660  2020-05-10    SP  Álvaro de Carvalho       city          1       0   \n13661  2020-05-09    SP  Álvaro de Carvalho       city          1       0   \n13662  2020-05-08    SP  Álvaro de Carvalho       city          1       0   \n\n       order_for_place  is_last      popEst  city_ibge_code  \\\n0                   82     True  45919049.0            35.0   \n1                   81    False  45919049.0            35.0   \n2                   80    False  45919049.0            35.0   \n3                   79    False  45919049.0            35.0   \n4                   78    False  45919049.0            35.0   \n...                ...      ...         ...             ...   \n13658                5    False      5227.0       3501400.0   \n13659                4    False      5227.0       3501400.0   \n13660                3    False      5227.0       3501400.0   \n13661                2    False      5227.0       3501400.0   \n13662                1    False      5227.0       3501400.0   \n\n       confirmed_per_100k_inhabitants  death_rate               DRS  \n0                           137.34169      0.0765        Indefinido  \n1                           135.77154      0.0767        Indefinido  \n2                           133.24100      0.0766        Indefinido  \n3                           127.13242      0.0771        Indefinido  \n4                           118.22109      0.0795        Indefinido  \n...                               ...         ...               ...  \n13658                        19.13143      0.0000  DRS 09 - Marília  \n13659                        19.13143      0.0000  DRS 09 - Marília  \n13660                        19.13143      0.0000  DRS 09 - Marília  \n13661                        19.13143      0.0000  DRS 09 - Marília  \n13662                        19.13143      0.0000  DRS 09 - Marília  \n\n[13663 rows x 13 columns]",
      "text/html": "<div>\n<style scoped>\n    .dataframe tbody tr th:only-of-type {\n        vertical-align: middle;\n    }\n\n    .dataframe tbody tr th {\n        vertical-align: top;\n    }\n\n    .dataframe thead th {\n        text-align: right;\n    }\n</style>\n<table border=\"1\" class=\"dataframe\">\n  <thead>\n    <tr style=\"text-align: right;\">\n      <th></th>\n      <th>date</th>\n      <th>state</th>\n      <th>city</th>\n      <th>place_type</th>\n      <th>confirmed</th>\n      <th>deaths</th>\n      <th>order_for_place</th>\n      <th>is_last</th>\n      <th>popEst</th>\n      <th>city_ibge_code</th>\n      <th>confirmed_per_100k_inhabitants</th>\n      <th>death_rate</th>\n      <th>DRS</th>\n    </tr>\n  </thead>\n  <tbody>\n    <tr>\n      <th>0</th>\n      <td>2020-05-18</td>\n      <td>SP</td>\n      <td>TOTAL</td>\n      <td>state</td>\n      <td>63066</td>\n      <td>4823</td>\n      <td>82</td>\n      <td>True</td>\n      <td>45919049.0</td>\n      <td>35.0</td>\n      <td>137.34169</td>\n      <td>0.0765</td>\n      <td>Indefinido</td>\n    </tr>\n    <tr>\n      <th>1</th>\n      <td>2020-05-17</td>\n      <td>SP</td>\n      <td>TOTAL</td>\n      <td>state</td>\n      <td>62345</td>\n      <td>4782</td>\n      <td>81</td>\n      <td>False</td>\n      <td>45919049.0</td>\n      <td>35.0</td>\n      <td>135.77154</td>\n      <td>0.0767</td>\n      <td>Indefinido</td>\n    </tr>\n    <tr>\n      <th>2</th>\n      <td>2020-05-16</td>\n      <td>SP</td>\n      <td>TOTAL</td>\n      <td>state</td>\n      <td>61183</td>\n      <td>4688</td>\n      <td>80</td>\n      <td>False</td>\n      <td>45919049.0</td>\n      <td>35.0</td>\n      <td>133.24100</td>\n      <td>0.0766</td>\n      <td>Indefinido</td>\n    </tr>\n    <tr>\n      <th>3</th>\n      <td>2020-05-15</td>\n      <td>SP</td>\n      <td>TOTAL</td>\n      <td>state</td>\n      <td>58378</td>\n      <td>4501</td>\n      <td>79</td>\n      <td>False</td>\n      <td>45919049.0</td>\n      <td>35.0</td>\n      <td>127.13242</td>\n      <td>0.0771</td>\n      <td>Indefinido</td>\n    </tr>\n    <tr>\n      <th>4</th>\n      <td>2020-05-14</td>\n      <td>SP</td>\n      <td>TOTAL</td>\n      <td>state</td>\n      <td>54286</td>\n      <td>4315</td>\n      <td>78</td>\n      <td>False</td>\n      <td>45919049.0</td>\n      <td>35.0</td>\n      <td>118.22109</td>\n      <td>0.0795</td>\n      <td>Indefinido</td>\n    </tr>\n    <tr>\n      <th>...</th>\n      <td>...</td>\n      <td>...</td>\n      <td>...</td>\n      <td>...</td>\n      <td>...</td>\n      <td>...</td>\n      <td>...</td>\n      <td>...</td>\n      <td>...</td>\n      <td>...</td>\n      <td>...</td>\n      <td>...</td>\n      <td>...</td>\n    </tr>\n    <tr>\n      <th>13658</th>\n      <td>2020-05-12</td>\n      <td>SP</td>\n      <td>Álvaro de Carvalho</td>\n      <td>city</td>\n      <td>1</td>\n      <td>0</td>\n      <td>5</td>\n      <td>False</td>\n      <td>5227.0</td>\n      <td>3501400.0</td>\n      <td>19.13143</td>\n      <td>0.0000</td>\n      <td>DRS 09 - Marília</td>\n    </tr>\n    <tr>\n      <th>13659</th>\n      <td>2020-05-11</td>\n      <td>SP</td>\n      <td>Álvaro de Carvalho</td>\n      <td>city</td>\n      <td>1</td>\n      <td>0</td>\n      <td>4</td>\n      <td>False</td>\n      <td>5227.0</td>\n      <td>3501400.0</td>\n      <td>19.13143</td>\n      <td>0.0000</td>\n      <td>DRS 09 - Marília</td>\n    </tr>\n    <tr>\n      <th>13660</th>\n      <td>2020-05-10</td>\n      <td>SP</td>\n      <td>Álvaro de Carvalho</td>\n      <td>city</td>\n      <td>1</td>\n      <td>0</td>\n      <td>3</td>\n      <td>False</td>\n      <td>5227.0</td>\n      <td>3501400.0</td>\n      <td>19.13143</td>\n      <td>0.0000</td>\n      <td>DRS 09 - Marília</td>\n    </tr>\n    <tr>\n      <th>13661</th>\n      <td>2020-05-09</td>\n      <td>SP</td>\n      <td>Álvaro de Carvalho</td>\n      <td>city</td>\n      <td>1</td>\n      <td>0</td>\n      <td>2</td>\n      <td>False</td>\n      <td>5227.0</td>\n      <td>3501400.0</td>\n      <td>19.13143</td>\n      <td>0.0000</td>\n      <td>DRS 09 - Marília</td>\n    </tr>\n    <tr>\n      <th>13662</th>\n      <td>2020-05-08</td>\n      <td>SP</td>\n      <td>Álvaro de Carvalho</td>\n      <td>city</td>\n      <td>1</td>\n      <td>0</td>\n      <td>1</td>\n      <td>False</td>\n      <td>5227.0</td>\n      <td>3501400.0</td>\n      <td>19.13143</td>\n      <td>0.0000</td>\n      <td>DRS 09 - Marília</td>\n    </tr>\n  </tbody>\n</table>\n<p>13663 rows × 13 columns</p>\n</div>"
     },
     "metadata": {},
     "execution_count": 3
    }
   ],
   "source": [
    "dfSP = pd.read_csv(\"data/dados_municipios_SP.csv\")\n",
    "dfSP\n",
    "dfSP.query('DRS == \"{}\"'.format('DRS 01 - Grande São Paulo'))"
   ]
  },
  {
   "cell_type": "code",
   "execution_count": 4,
   "metadata": {},
   "outputs": [],
   "source": [
    "# Model"
   ]
  },
  {
   "cell_type": "code",
   "execution_count": 5,
   "metadata": {},
   "outputs": [
    {
     "output_type": "execute_result",
     "data": {
      "text/plain": "['DRS 09 - Marília',\n 'DRS 15 - São José do Rio Preto',\n 'DRS 14 - São João da Boa Vista',\n 'DRS 06 - Bauru',\n 'DRS 16 - Sorocaba',\n 'DRS 05 - Barretos',\n 'DRS 13 - Ribeirão Preto',\n 'DRS 02 - Araçatuba',\n 'DRS 07 - Campinas',\n 'DRS 03 - Araraquara',\n 'DRS 11 - Presidente Prudente',\n 'DRS 17 - Taubaté',\n 'DRS 10 - Piracicaba',\n 'DRS 01 - Grande São Paulo',\n 'DRS 12 - Registro',\n 'DRS 04 - Baixada Santista',\n 'DRS 08 - Franca']"
     },
     "metadata": {},
     "execution_count": 5
    }
   ],
   "source": [
    "# lista DRSs\n",
    "DRS = list(dfSP[\"DRS\"].unique())\n",
    "DRS.remove(\"Indefinido\")\n",
    "DRS"
   ]
  },
  {
   "cell_type": "markdown",
   "metadata": {},
   "source": [
    "# SEAIR-D Model Equations\n",
    "\n",
    "$$\\begin{array}{l}\\frac{d s}{d t}=-[\\beta i(t) + \\beta_2 a(t)-\\mu] \\cdot s(t)\\\\ \n",
    "\\frac{d e}{d t}=[\\beta i(t) + \\beta_2 a(t)] \\cdot s(t) -(\\sigma+\\mu) \\cdot e(t)\\\\ \n",
    "\\frac{d a}{d t}=\\sigma e(t) \\cdot (1-p)-(\\gamma+\\mu) \\cdot a(t) \\\\\n",
    "\\frac{d i}{d t}=\\sigma e(t) \\cdot p - (\\gamma + \\sigma_2 + \\sigma_3 + \\mu) \\cdot i(t)\\\\ \n",
    "\\frac{d r}{d t}=(b + \\sigma_2) \\cdot i(t) + \\gamma \\cdot a(t) - \\mu \\cdot r(t)\\\\\n",
    "\\frac{d k}{d t}=(a + \\sigma_3 - \\mu) \\cdot d(t)\n",
    "\\end{array}$$\n",
    "\n",
    "The last equation does not need to be solve because:\n",
    "\n",
    "$$\\frac{d k}{d t}=-(\\frac{d e}{d t}+\\frac{d a}{d t}+\\frac{d i}{d t}+\\frac{d r}{d t})$$\n",
    "\n",
    "The sum of all rates are equal to zero! The importance of this equation is that it conservates the rates.\n"
   ]
  },
  {
   "cell_type": "markdown",
   "metadata": {},
   "source": [
    "## Parameters"
   ]
  },
  {
   "cell_type": "markdown",
   "metadata": {},
   "source": [
    "$\\beta$: Effective contact rate [1/min]\n",
    "    \n",
    "$\\gamma$: Recovery(+Mortality) rate $\\gamma=(a+b)$ [1/min]\n",
    "\n",
    "$a$: mortality of healed  [1/min]\n",
    "\n",
    "$b$: recovery rate  [1/min]\n",
    "\n",
    "$\\sigma$: is the rate at which individuals move from the exposed to the infectious classes. Its reciprocal ($1/\\sigma$) is the average latent (exposed) period.\n",
    "\n",
    "$\\sigma_2$: is the rate at which individuals move from the infectious to the healed classes. Its reciprocal ($1/\\sigma_2$) is the average latent (exposed) period\n",
    "\n",
    "$\\sigma_3$: is the rate at which individuals move from the infectious to the dead classes. Its reciprocal ($1/\\sigma_3$) is the average latent (exposed) period\n",
    "    \n",
    "$p$: is the fraction of the exposed which become symptomatic infectious sub-population.\n",
    "\n",
    "$(1-p)$: is the fraction of the exposed which becomes asymptomatic infectious sub-population."
   ]
  },
  {
   "cell_type": "code",
   "execution_count": 6,
   "metadata": {},
   "outputs": [],
   "source": [
    "#objective function Odeint solver\n",
    "from scipy.integrate import odeint\n",
    "\n",
    "#objective function Odeint solver\n",
    "def lossOdeint(point, data, death, s_0, e_0, a_0, i_0, r_0, d_0, startNCases, ratioRecovered, weigthCases, weigthRecov):\n",
    "    size = len(data)\n",
    "    beta, beta2, sigma, sigma2, sigma3, gamma, b, mu = point\n",
    "    def SEAIRD(y,t):\n",
    "        S = y[0]\n",
    "        E = y[1]\n",
    "        A = y[2]\n",
    "        I = y[3]\n",
    "        R = y[4]\n",
    "        D = y[5]\n",
    "        p=0.2\n",
    "        # beta2=beta\n",
    "        y0=-(beta2*A+beta*I)*S+mu*S #S\n",
    "        y1=(beta2*A+beta*I)*S-sigma*E-mu*E #E\n",
    "        y2=sigma*E*(1-p)-gamma*A-mu*A #A\n",
    "        y3=sigma*E*p-gamma*I-sigma2*I-sigma3*I-mu*I#I\n",
    "        y4=b*I+gamma*A+sigma2*I-mu*R #R\n",
    "        y5=(-(y0+y1+y2+y3+y4)) #D\n",
    "        return [y0,y1,y2,y3,y4,y5]\n",
    "\n",
    "    y0=[s_0,e_0,a_0,i_0,r_0,d_0]\n",
    "    tspan=np.arange(0, size, 1)\n",
    "    res=odeint(SEAIRD,y0,tspan,hmax=0.01)\n",
    "\n",
    "    l1=0\n",
    "    l2=0\n",
    "    l3=0\n",
    "    tot=0\n",
    "\n",
    "    for i in range(0,len(data.values)):\n",
    "        if data.values[i]>startNCases:\n",
    "            l1 = l1+(res[i,3] - data.values[i])**2\n",
    "            l2 = l2+(res[i,5] - death.values[i])**2\n",
    "            newRecovered=min(1e6,data.values[i]*ratioRecovered)\n",
    "            l3 = l3+(res[i,4] - newRecovered)**2\n",
    "            tot+=1\n",
    "    l1=np.sqrt(l1/max(1,tot))\n",
    "    l2=np.sqrt(l2/max(1,tot))\n",
    "    l3=np.sqrt(l3/max(1,tot))\n",
    "    \n",
    "    #weight for cases\n",
    "    u = weigthCases  #Brazil US 0.1\n",
    "    w = weigthRecov\n",
    "    #weight for deaths\n",
    "    v = max(0,1. - u - w)\n",
    "    \n",
    "    return u*l1 + v*l2 + w*l3"
   ]
  },
  {
   "cell_type": "code",
   "execution_count": 7,
   "metadata": {},
   "outputs": [
    {
     "output_type": "execute_result",
     "data": {
      "text/plain": "                               DRS  start-date  prediction-range        s0  \\\n0        DRS 01 - Grande São Paulo  2020-03-22               150  900000.0   \n1               DRS 02 - Araçatuba  2020-04-01               150     500.0   \n2              DRS 03 - Araraquara  2020-04-01               150    2000.0   \n3        DRS 04 - Baixada Santista  2020-04-01               150    8000.0   \n4                DRS 05 - Barretos  2020-04-01               150    2000.0   \n5                   DRS 06 - Bauru  2020-04-01               150   10000.0   \n6                DRS 07 - Campinas  2020-04-01               150   20000.0   \n7                  DRS 08 - Franca  2020-04-01               150    1000.0   \n8                 DRS 09 - Marília  2020-04-01               150    5000.0   \n9              DRS 10 - Piracicaba  2020-04-01               150   10000.0   \n10    DRS 11 - Presidente Prudente  2020-04-01               150    1000.0   \n11               DRS 12 - Registro  2020-04-01               150    1000.0   \n12         DRS 13 - Ribeirão Preto  2020-04-01               150    5000.0   \n13  DRS 14 - São João da Boa Vista  2020-04-01               150    2000.0   \n14  DRS 15 - São José do Rio Preto  2020-04-01               150   10000.0   \n15               DRS 16 - Sorocaba  2020-04-01               150    1200.0   \n16                DRS 17 - Taubaté  2020-04-01               150   10000.0   \n\n        e0      a0       i0      r0       d0  START  RATIO  WCASES  WREC  \n0   0.0001  0.0001   0.0001  0.0001  80.0000   1500    0.1     0.6   0.1  \n1   0.0001  0.0001   0.0001  0.0001   0.0001      0    0.1     0.4   0.1  \n2   0.0001  0.0001   0.0001  0.0001   0.0001      0    0.1     0.4   0.1  \n3   0.0001  0.0001   0.0001  0.0001   0.0001      0    0.1     0.4   0.1  \n4   0.0001  0.0001   0.0001  0.0001   0.0001      0    0.1     0.4   0.1  \n5   0.0001  0.0001   4.0000  0.0001   0.0001      0    0.1     0.4   0.1  \n6   0.0001  0.0001  40.0000  0.0001   0.0001      0    0.1     0.4   0.1  \n7   0.0001  0.0001   0.0001  0.0001   0.0001      0    0.1     0.4   0.1  \n8   0.0001  0.0001   0.0001  0.0001   0.0001      0    0.1     0.4   0.1  \n9   0.0001  0.0001   0.0001  0.0001   1.0000      0    0.1     0.4   0.1  \n10  0.0001  0.0001   0.0001  0.0001   0.0001      0    0.1     0.4   0.1  \n11  0.0001  0.0001   0.0001  0.0001   0.0001      0    0.1     0.4   0.1  \n12  0.0001  0.0001   0.0001  0.0001   0.0001      5    0.1     0.4   0.1  \n13  0.0001  0.0001   0.0001  0.0001   0.0001      0    0.1     0.4   0.1  \n14  0.0001  0.0001   0.0001  0.0001   0.0001      0    0.1     0.4   0.1  \n15  0.0001  0.0001   2.0000  0.0001   0.0001      0    0.1     0.4   0.1  \n16  0.0001  0.0001  17.0000  0.0001   2.0000      0    0.1     0.4   0.1  ",
      "text/html": "<div>\n<style scoped>\n    .dataframe tbody tr th:only-of-type {\n        vertical-align: middle;\n    }\n\n    .dataframe tbody tr th {\n        vertical-align: top;\n    }\n\n    .dataframe thead th {\n        text-align: right;\n    }\n</style>\n<table border=\"1\" class=\"dataframe\">\n  <thead>\n    <tr style=\"text-align: right;\">\n      <th></th>\n      <th>DRS</th>\n      <th>start-date</th>\n      <th>prediction-range</th>\n      <th>s0</th>\n      <th>e0</th>\n      <th>a0</th>\n      <th>i0</th>\n      <th>r0</th>\n      <th>d0</th>\n      <th>START</th>\n      <th>RATIO</th>\n      <th>WCASES</th>\n      <th>WREC</th>\n    </tr>\n  </thead>\n  <tbody>\n    <tr>\n      <th>0</th>\n      <td>DRS 01 - Grande São Paulo</td>\n      <td>2020-03-22</td>\n      <td>150</td>\n      <td>900000.0</td>\n      <td>0.0001</td>\n      <td>0.0001</td>\n      <td>0.0001</td>\n      <td>0.0001</td>\n      <td>80.0000</td>\n      <td>1500</td>\n      <td>0.1</td>\n      <td>0.6</td>\n      <td>0.1</td>\n    </tr>\n    <tr>\n      <th>1</th>\n      <td>DRS 02 - Araçatuba</td>\n      <td>2020-04-01</td>\n      <td>150</td>\n      <td>500.0</td>\n      <td>0.0001</td>\n      <td>0.0001</td>\n      <td>0.0001</td>\n      <td>0.0001</td>\n      <td>0.0001</td>\n      <td>0</td>\n      <td>0.1</td>\n      <td>0.4</td>\n      <td>0.1</td>\n    </tr>\n    <tr>\n      <th>2</th>\n      <td>DRS 03 - Araraquara</td>\n      <td>2020-04-01</td>\n      <td>150</td>\n      <td>2000.0</td>\n      <td>0.0001</td>\n      <td>0.0001</td>\n      <td>0.0001</td>\n      <td>0.0001</td>\n      <td>0.0001</td>\n      <td>0</td>\n      <td>0.1</td>\n      <td>0.4</td>\n      <td>0.1</td>\n    </tr>\n    <tr>\n      <th>3</th>\n      <td>DRS 04 - Baixada Santista</td>\n      <td>2020-04-01</td>\n      <td>150</td>\n      <td>8000.0</td>\n      <td>0.0001</td>\n      <td>0.0001</td>\n      <td>0.0001</td>\n      <td>0.0001</td>\n      <td>0.0001</td>\n      <td>0</td>\n      <td>0.1</td>\n      <td>0.4</td>\n      <td>0.1</td>\n    </tr>\n    <tr>\n      <th>4</th>\n      <td>DRS 05 - Barretos</td>\n      <td>2020-04-01</td>\n      <td>150</td>\n      <td>2000.0</td>\n      <td>0.0001</td>\n      <td>0.0001</td>\n      <td>0.0001</td>\n      <td>0.0001</td>\n      <td>0.0001</td>\n      <td>0</td>\n      <td>0.1</td>\n      <td>0.4</td>\n      <td>0.1</td>\n    </tr>\n    <tr>\n      <th>5</th>\n      <td>DRS 06 - Bauru</td>\n      <td>2020-04-01</td>\n      <td>150</td>\n      <td>10000.0</td>\n      <td>0.0001</td>\n      <td>0.0001</td>\n      <td>4.0000</td>\n      <td>0.0001</td>\n      <td>0.0001</td>\n      <td>0</td>\n      <td>0.1</td>\n      <td>0.4</td>\n      <td>0.1</td>\n    </tr>\n    <tr>\n      <th>6</th>\n      <td>DRS 07 - Campinas</td>\n      <td>2020-04-01</td>\n      <td>150</td>\n      <td>20000.0</td>\n      <td>0.0001</td>\n      <td>0.0001</td>\n      <td>40.0000</td>\n      <td>0.0001</td>\n      <td>0.0001</td>\n      <td>0</td>\n      <td>0.1</td>\n      <td>0.4</td>\n      <td>0.1</td>\n    </tr>\n    <tr>\n      <th>7</th>\n      <td>DRS 08 - Franca</td>\n      <td>2020-04-01</td>\n      <td>150</td>\n      <td>1000.0</td>\n      <td>0.0001</td>\n      <td>0.0001</td>\n      <td>0.0001</td>\n      <td>0.0001</td>\n      <td>0.0001</td>\n      <td>0</td>\n      <td>0.1</td>\n      <td>0.4</td>\n      <td>0.1</td>\n    </tr>\n    <tr>\n      <th>8</th>\n      <td>DRS 09 - Marília</td>\n      <td>2020-04-01</td>\n      <td>150</td>\n      <td>5000.0</td>\n      <td>0.0001</td>\n      <td>0.0001</td>\n      <td>0.0001</td>\n      <td>0.0001</td>\n      <td>0.0001</td>\n      <td>0</td>\n      <td>0.1</td>\n      <td>0.4</td>\n      <td>0.1</td>\n    </tr>\n    <tr>\n      <th>9</th>\n      <td>DRS 10 - Piracicaba</td>\n      <td>2020-04-01</td>\n      <td>150</td>\n      <td>10000.0</td>\n      <td>0.0001</td>\n      <td>0.0001</td>\n      <td>0.0001</td>\n      <td>0.0001</td>\n      <td>1.0000</td>\n      <td>0</td>\n      <td>0.1</td>\n      <td>0.4</td>\n      <td>0.1</td>\n    </tr>\n    <tr>\n      <th>10</th>\n      <td>DRS 11 - Presidente Prudente</td>\n      <td>2020-04-01</td>\n      <td>150</td>\n      <td>1000.0</td>\n      <td>0.0001</td>\n      <td>0.0001</td>\n      <td>0.0001</td>\n      <td>0.0001</td>\n      <td>0.0001</td>\n      <td>0</td>\n      <td>0.1</td>\n      <td>0.4</td>\n      <td>0.1</td>\n    </tr>\n    <tr>\n      <th>11</th>\n      <td>DRS 12 - Registro</td>\n      <td>2020-04-01</td>\n      <td>150</td>\n      <td>1000.0</td>\n      <td>0.0001</td>\n      <td>0.0001</td>\n      <td>0.0001</td>\n      <td>0.0001</td>\n      <td>0.0001</td>\n      <td>0</td>\n      <td>0.1</td>\n      <td>0.4</td>\n      <td>0.1</td>\n    </tr>\n    <tr>\n      <th>12</th>\n      <td>DRS 13 - Ribeirão Preto</td>\n      <td>2020-04-01</td>\n      <td>150</td>\n      <td>5000.0</td>\n      <td>0.0001</td>\n      <td>0.0001</td>\n      <td>0.0001</td>\n      <td>0.0001</td>\n      <td>0.0001</td>\n      <td>5</td>\n      <td>0.1</td>\n      <td>0.4</td>\n      <td>0.1</td>\n    </tr>\n    <tr>\n      <th>13</th>\n      <td>DRS 14 - São João da Boa Vista</td>\n      <td>2020-04-01</td>\n      <td>150</td>\n      <td>2000.0</td>\n      <td>0.0001</td>\n      <td>0.0001</td>\n      <td>0.0001</td>\n      <td>0.0001</td>\n      <td>0.0001</td>\n      <td>0</td>\n      <td>0.1</td>\n      <td>0.4</td>\n      <td>0.1</td>\n    </tr>\n    <tr>\n      <th>14</th>\n      <td>DRS 15 - São José do Rio Preto</td>\n      <td>2020-04-01</td>\n      <td>150</td>\n      <td>10000.0</td>\n      <td>0.0001</td>\n      <td>0.0001</td>\n      <td>0.0001</td>\n      <td>0.0001</td>\n      <td>0.0001</td>\n      <td>0</td>\n      <td>0.1</td>\n      <td>0.4</td>\n      <td>0.1</td>\n    </tr>\n    <tr>\n      <th>15</th>\n      <td>DRS 16 - Sorocaba</td>\n      <td>2020-04-01</td>\n      <td>150</td>\n      <td>1200.0</td>\n      <td>0.0001</td>\n      <td>0.0001</td>\n      <td>2.0000</td>\n      <td>0.0001</td>\n      <td>0.0001</td>\n      <td>0</td>\n      <td>0.1</td>\n      <td>0.4</td>\n      <td>0.1</td>\n    </tr>\n    <tr>\n      <th>16</th>\n      <td>DRS 17 - Taubaté</td>\n      <td>2020-04-01</td>\n      <td>150</td>\n      <td>10000.0</td>\n      <td>0.0001</td>\n      <td>0.0001</td>\n      <td>17.0000</td>\n      <td>0.0001</td>\n      <td>2.0000</td>\n      <td>0</td>\n      <td>0.1</td>\n      <td>0.4</td>\n      <td>0.1</td>\n    </tr>\n  </tbody>\n</table>\n</div>"
     },
     "metadata": {},
     "execution_count": 7
    }
   ],
   "source": [
    "# Initial parameters\n",
    "dfparam = pd.read_csv(\"data/param.csv\")\n",
    "dfparam"
   ]
  },
  {
   "cell_type": "code",
   "execution_count": 8,
   "metadata": {},
   "outputs": [],
   "source": [
    "# Initial parameter optimization"
   ]
  },
  {
   "cell_type": "code",
<<<<<<< HEAD
<<<<<<< HEAD
   "execution_count": null,
   "metadata": {
    "scrolled": true
   },
   "outputs": [],
=======
   "execution_count": 104,
=======
   "execution_count": 9,
>>>>>>> delete jupyter notebook v3 regionsSP
   "metadata": {
    "scrolled": true
   },
   "outputs": [
    {
     "output_type": "stream",
     "name": "stderr",
     "text": "2020-05-19 13:27:15,642\tWARNING resource_spec.py:163 -- Warning: Capping object memory store to 20.0GB. To increase this further, specify `object_store_memory` when calling ray.init() or ray start.\n2020-05-19 13:27:15,643\tINFO resource_spec.py:205 -- Starting Ray with 119.63 GiB memory available for workers and up to 18.63 GiB for objects. You can adjust these settings with ray.init(memory=<bytes>, object_store_memory=<bytes>).\n2020-05-19 13:27:16,713\tWARNING resource_spec.py:163 -- Warning: Capping object memory store to 20.0GB. To increase this further, specify `object_store_memory` when calling ray.init() or ray start.\n2020-05-19 13:27:16,715\tINFO resource_spec.py:205 -- Starting Ray with 119.58 GiB memory available for workers and up to 18.63 GiB for objects. You can adjust these settings with ray.init(memory=<bytes>, object_store_memory=<bytes>).\n"
    }
   ],
>>>>>>> c2306d5e7570cdf3827b57ad6b21996cc3ec2052
   "source": [
    "import ray\n",
    "ray.shutdown()\n",
    "ray.init()\n",
    "\n",
    "# Load solver\n",
    "GlobalOptimization = False\n",
    "Yabox = True\n",
    "\n",
    "if GlobalOptimization:\n",
    "    import LearnerGlobalOpt as Learner  # basinhopping global optimization (several times minimize)\n",
    "elif Yabox:\n",
    "    import LearnerYabox as Learner #Yabox\n",
    "else:\n",
    "    import Learner as Learner #minimize"
   ]
  },
  {
   "cell_type": "code",
<<<<<<< HEAD
   "execution_count": null,
   "metadata": {},
   "outputs": [],
=======
   "execution_count": 105,
   "metadata": {},
   "outputs": [
    {
     "output_type": "stream",
     "name": "stderr",
     "text": "2020-05-18 09:11:41,214\tWARNING actor.py:678 -- Actor is garbage collected in the wrong driver. Actor id = ActorID(d8bf913e01000000), class name = Learner.\n"
    },
    {
     "output_type": "error",
     "ename": "RayTaskError",
     "evalue": "\u001b[36mray_Learner:train()\u001b[39m (pid=531, host=jedha)\n  File \"/home/ats4i/Desktop/corona/dataAndModelsCovid19/regionsSP/Learner.py\", line 152, in train\n    end=datetime.strptime(new_index[len(new_index)-2],'%Y-%m-%d'))\n  File \"/home/ats4i/anaconda3/lib/python3.7/site-packages/pandas/core/generic.py\", line 5192, in __setattr__\n    return object.__setattr__(self, name, value)\n  File \"pandas/_libs/properties.pyx\", line 67, in pandas._libs.properties.AxisProperty.__set__\n  File \"/home/ats4i/anaconda3/lib/python3.7/site-packages/pandas/core/generic.py\", line 690, in _set_axis\n    self._data.set_axis(axis, labels)\n  File \"/home/ats4i/anaconda3/lib/python3.7/site-packages/pandas/core/internals/managers.py\", line 183, in set_axis\n    \"values have {new} elements\".format(old=old_len, new=new_len)\nValueError: Length mismatch: Expected axis has 150 elements, new values have 149 elements\n",
     "traceback": [
      "\u001b[0;31m---------------------------------------------------------------------------\u001b[0m",
      "\u001b[0;31mRayTaskError\u001b[0m                              Traceback (most recent call last)",
      "\u001b[0;32m<ipython-input-105-7b0d731daa4e>\u001b[0m in \u001b[0;36m<module>\u001b[0;34m\u001b[0m\n\u001b[1;32m     28\u001b[0m \u001b[0;34m\u001b[0m\u001b[0m\n\u001b[1;32m     29\u001b[0m \u001b[0;31m# #execute all the queue with max_runner_cap at a time\u001b[0m\u001b[0;34m\u001b[0m\u001b[0;34m\u001b[0m\u001b[0;34m\u001b[0m\u001b[0m\n\u001b[0;32m---> 30\u001b[0;31m \u001b[0mresults\u001b[0m \u001b[0;34m=\u001b[0m \u001b[0mray\u001b[0m\u001b[0;34m.\u001b[0m\u001b[0mget\u001b[0m\u001b[0;34m(\u001b[0m\u001b[0mresults\u001b[0m\u001b[0;34m)\u001b[0m\u001b[0;34m\u001b[0m\u001b[0;34m\u001b[0m\u001b[0m\n\u001b[0m",
      "\u001b[0;32m~/anaconda3/lib/python3.7/site-packages/ray/worker.py\u001b[0m in \u001b[0;36mget\u001b[0;34m(object_ids)\u001b[0m\n\u001b[1;32m   2347\u001b[0m                 \u001b[0;32mif\u001b[0m \u001b[0misinstance\u001b[0m\u001b[0;34m(\u001b[0m\u001b[0mvalue\u001b[0m\u001b[0;34m,\u001b[0m \u001b[0mray\u001b[0m\u001b[0;34m.\u001b[0m\u001b[0mexceptions\u001b[0m\u001b[0;34m.\u001b[0m\u001b[0mUnreconstructableError\u001b[0m\u001b[0;34m)\u001b[0m\u001b[0;34m:\u001b[0m\u001b[0;34m\u001b[0m\u001b[0;34m\u001b[0m\u001b[0m\n\u001b[1;32m   2348\u001b[0m                     \u001b[0mworker\u001b[0m\u001b[0;34m.\u001b[0m\u001b[0mdump_object_store_memory_usage\u001b[0m\u001b[0;34m(\u001b[0m\u001b[0;34m)\u001b[0m\u001b[0;34m\u001b[0m\u001b[0;34m\u001b[0m\u001b[0m\n\u001b[0;32m-> 2349\u001b[0;31m                 \u001b[0;32mraise\u001b[0m \u001b[0mvalue\u001b[0m\u001b[0;34m\u001b[0m\u001b[0;34m\u001b[0m\u001b[0m\n\u001b[0m\u001b[1;32m   2350\u001b[0m \u001b[0;34m\u001b[0m\u001b[0m\n\u001b[1;32m   2351\u001b[0m         \u001b[0;31m# Run post processors.\u001b[0m\u001b[0;34m\u001b[0m\u001b[0;34m\u001b[0m\u001b[0;34m\u001b[0m\u001b[0m\n",
      "\u001b[0;31mRayTaskError\u001b[0m: \u001b[36mray_Learner:train()\u001b[39m (pid=531, host=jedha)\n  File \"/home/ats4i/Desktop/corona/dataAndModelsCovid19/regionsSP/Learner.py\", line 152, in train\n    end=datetime.strptime(new_index[len(new_index)-2],'%Y-%m-%d'))\n  File \"/home/ats4i/anaconda3/lib/python3.7/site-packages/pandas/core/generic.py\", line 5192, in __setattr__\n    return object.__setattr__(self, name, value)\n  File \"pandas/_libs/properties.pyx\", line 67, in pandas._libs.properties.AxisProperty.__set__\n  File \"/home/ats4i/anaconda3/lib/python3.7/site-packages/pandas/core/generic.py\", line 690, in _set_axis\n    self._data.set_axis(axis, labels)\n  File \"/home/ats4i/anaconda3/lib/python3.7/site-packages/pandas/core/internals/managers.py\", line 183, in set_axis\n    \"values have {new} elements\".format(old=old_len, new=new_len)\nValueError: Length mismatch: Expected axis has 150 elements, new values have 149 elements\n"
     ]
    }
   ],
>>>>>>> c2306d5e7570cdf3827b57ad6b21996cc3ec2052
   "source": [
    "allDistricts = False\n",
    "\n",
    "results=[]\n",
    "if allDistricts:\n",
    "    for districtRegion in DRS:\n",
    "        query = dfparam.query('DRS == \"{}\"'.format(districtRegion)).reset_index()\n",
    "        parameters = np.array(query.iloc[:, 2:])[0]\n",
    "        learner = Learner.Learner.remote(districtRegion, lossOdeint, *parameters)\n",
    "        #learner.train()\n",
    "        #add function evaluation to the queue\n",
    "        results.append(learner.train.remote())\n",
    "else:\n",
    "    districtRegion= \"DRS 01 - Grande São Paulo\" #'DRS 08 - Franca' \\\n",
    "    #'DRS 14 - São João da Boa Vista' #'DRS 04 - Baixada Santista' \\\n",
    "    #'DRS 11 - Presidente Prudente' #'DRS 13 - Ribeirão Preto' \\\n",
    "    #'DRS 05 - Barretos' #'DRS 12 - Registro' #'DRS 15 - São José do Rio Preto' \\\n",
    "    #'DRS 10 - Piracicaba'#'DRS 17 - Taubaté'#'DRS 02 - Araçatuba'# \\\n",
    "    #'DRS 03 - Araraquara' #DRS 07 - Campinas'#'DRS 16 - Sorocaba'#'DRS 06 - Bauru' \\\n",
    "    #'DRS 09 - Marília' #\"DRS 01 - Grande São Paulo\"\n",
    "    query = dfparam.query('DRS == \"{}\"'.format(districtRegion)).reset_index()\n",
    "    parameters = np.array(query.iloc[:, 2:])[0]\n",
    "    cleanRecovered = False\n",
    "    version = \"1\"\n",
    "    learner = Learner.Learner.remote(districtRegion, lossOdeint, *parameters, cleanRecovered, version)\n",
    "    #learner.train()\n",
    "    #add function evaluation to the queue\n",
    "    results.append(learner.train.remote())\n",
    "\n",
    "# #execute all the queue with max_runner_cap at a time    \n",
    "results = ray.get(results)"
   ]
  },
  {
   "cell_type": "code",
   "execution_count": 106,
   "metadata": {},
   "outputs": [],
   "source": [
    "ray.shutdown()"
   ]
  },
  {
   "cell_type": "code",
<<<<<<< HEAD
   "execution_count": null,
=======
   "execution_count": 107,
>>>>>>> c2306d5e7570cdf3827b57ad6b21996cc3ec2052
   "metadata": {},
   "outputs": [],
   "source": [
    "# Save data as csv\n",
    "import glob\n",
    "import os\n",
    "\n",
    "path = './results/data'\n",
    "files = glob.glob(os.path.join(path, \"*.csv\"))\n",
    "\n",
    "df = (pd.read_csv(f).assign(DRS = f.split(\" - \")[-1].split(\".\")[0]) for f in files)\n",
    "df_all_drs = pd.concat(df, ignore_index=True)\n",
    "df_all_drs.index.name = 'index'\n",
    "df_all_drs.to_csv('./data/SEAIRD_sigmaOpt_AllDRS'+'.csv', sep=\",\")"
   ]
  },
  {
   "cell_type": "markdown",
   "metadata": {},
   "source": [
    "# Plots"
   ]
  },
  {
   "cell_type": "code",
<<<<<<< HEAD
   "execution_count": null,
=======
   "execution_count": 108,
>>>>>>> c2306d5e7570cdf3827b57ad6b21996cc3ec2052
   "metadata": {},
   "outputs": [],
   "source": [
    "import matplotlib.pyplot as plt\n",
    "import covid_plots"
   ]
  },
  {
   "cell_type": "code",
<<<<<<< HEAD
   "execution_count": null,
=======
   "execution_count": 109,
>>>>>>> c2306d5e7570cdf3827b57ad6b21996cc3ec2052
   "metadata": {},
   "outputs": [],
   "source": [
    "def loadDataFrame(filename):\n",
    "    df= pd.read_pickle(filename)\n",
    "    df.columns = [c.lower().replace(' ', '_') for c in df.columns]\n",
    "    df.columns = [c.lower().replace('(', '') for c in df.columns]\n",
    "    df.columns = [c.lower().replace(')', '') for c in df.columns]\n",
    "    return df"
   ]
  },
  {
   "cell_type": "code",
<<<<<<< HEAD
   "execution_count": null,
=======
   "execution_count": 110,
>>>>>>> c2306d5e7570cdf3827b57ad6b21996cc3ec2052
   "metadata": {},
   "outputs": [],
   "source": [
    "#DRS 01 - Grande São Paulo\n",
    "#DRS 02 - Araçatuba\n",
    "#DRS 03 - Araraquara\n",
    "#DRS 04 - Baixada Santista\n",
    "#DRS 05 - Barretos\n",
    "#DRS 06 - Bauru\n",
    "#DRS 07 - Campinas\n",
    "#DRS 08 - Franca\n",
    "#DRS 09 - Marília\n",
    "#DRS 10 - Piracicaba\n",
    "#DRS 11 - Presidente Prudente\n",
    "#DRS 12 - Registro\n",
    "#DRS 13 - Ribeirão Preto\n",
    "#DRS 14 - São João da Boa Vista\n",
    "#DRS 15 - São José do Rio Preto\n",
    "#DRS 16 - Sorocaba\n",
    "#DRS 17 - Taubaté\n",
    "\n",
    "#select districts for plotting\n",
    "districts4Plot=['DRS 01 - Grande São Paulo',\n",
    "               'DRS 04 - Baixada Santista',\n",
    "               'DRS 07 - Campinas',\n",
    "               'DRS 05 - Barretos',\n",
    "               districtRegion]\n",
    "\n",
    "#main district region for analysis\n",
    "#districtRegion = \"DRS 01 - Grande São Paulo\"\n",
    "\n",
    "#Choose here your options\n",
    "#opt=0 all plots\n",
    "#opt=1 corona log plot\n",
    "#opt=2 logistic model prediction\n",
    "#opt=3 bar plot with growth rate\n",
    "#opt=4 log plot + bar plot\n",
    "#opt=5 SEAIR-D Model\n",
    "opt = 5\n",
    "\n",
    "#versio'n to identify the png file result\n",
    "version = \"1\"\n",
    "\n",
    "#parameters for plotting\n",
    "query = dfparam.query('DRS == \"{}\"'.format(districtRegion)).reset_index()\n",
    "startdate = query['start-date'][0]\n",
    "predict_range = query['prediction-range'][0]\n",
    "\n",
    "#number of cases to start plotting model in log graph - real data = 100\n",
    "startCase=1"
   ]
  },
  {
   "cell_type": "code",
<<<<<<< HEAD
   "execution_count": null,
=======
   "execution_count": 111,
>>>>>>> c2306d5e7570cdf3827b57ad6b21996cc3ec2052
   "metadata": {},
   "outputs": [],
   "source": [
    "#do not allow the scrolling of the plots"
   ]
  },
  {
   "cell_type": "code",
<<<<<<< HEAD
   "execution_count": null,
   "metadata": {},
   "outputs": [],
=======
   "execution_count": 112,
   "metadata": {},
   "outputs": [
    {
     "output_type": "display_data",
     "data": {
      "text/plain": "<IPython.core.display.Javascript object>",
      "application/javascript": "IPython.OutputArea.prototype._should_scroll = function(lines){\n    return false;}\n"
     },
     "metadata": {}
    }
   ],
>>>>>>> c2306d5e7570cdf3827b57ad6b21996cc3ec2052
   "source": [
    "%%javascript\n",
    "IPython.OutputArea.prototype._should_scroll = function(lines){\n",
    "    return false;}"
   ]
  },
  {
   "cell_type": "code",
<<<<<<< HEAD
   "execution_count": null,
   "metadata": {},
   "outputs": [],
=======
   "execution_count": 113,
   "metadata": {},
   "outputs": [
    {
     "output_type": "error",
     "ename": "ValueError",
     "evalue": "view limit minimum -7.945775999922562e+16 is less than 1 and is an invalid Matplotlib date value. This often happens if you pass a non-datetime value to an axis that has datetime units",
     "traceback": [
      "\u001b[0;31m---------------------------------------------------------------------------\u001b[0m",
      "\u001b[0;31mValueError\u001b[0m                                Traceback (most recent call last)",
      "\u001b[0;32m<ipython-input-113-c4ea2cb5dc02>\u001b[0m in \u001b[0;36m<module>\u001b[0;34m\u001b[0m\n\u001b[1;32m      7\u001b[0m \u001b[0;32melse\u001b[0m\u001b[0;34m:\u001b[0m\u001b[0;34m\u001b[0m\u001b[0;34m\u001b[0m\u001b[0m\n\u001b[1;32m      8\u001b[0m     covid_plots.covid_plots(districtRegion, districts4Plot, startdate,predict_range, \\\n\u001b[0;32m----> 9\u001b[0;31m                                 startCase, opt, version, show=True)\n\u001b[0m",
      "\u001b[0;32m~/Desktop/corona/dataAndModelsCovid19/regionsSP/covid_plots.py\u001b[0m in \u001b[0;36mcovid_plots\u001b[0;34m(districtRegion, districts4Plot, startdate, predict_range, startCase, opt, version, show)\u001b[0m\n\u001b[1;32m    491\u001b[0m         \u001b[0;31m#save simulation results for comparison and use in another codes/routines\u001b[0m\u001b[0;34m\u001b[0m\u001b[0;34m\u001b[0m\u001b[0;34m\u001b[0m\u001b[0m\n\u001b[1;32m    492\u001b[0m         \u001b[0mstrFile\u001b[0m \u001b[0;34m=\u001b[0m\u001b[0;34m\"./results/modelSEAIRDOpt\"\u001b[0m\u001b[0;34m+\u001b[0m\u001b[0mdistrictRegion\u001b[0m\u001b[0;34m+\u001b[0m\u001b[0;34m\".png\"\u001b[0m\u001b[0;34m\u001b[0m\u001b[0;34m\u001b[0m\u001b[0m\n\u001b[0;32m--> 493\u001b[0;31m         \u001b[0msavePlot\u001b[0m\u001b[0;34m(\u001b[0m\u001b[0mstrFile\u001b[0m\u001b[0;34m)\u001b[0m\u001b[0;34m\u001b[0m\u001b[0;34m\u001b[0m\u001b[0m\n\u001b[0m\u001b[1;32m    494\u001b[0m \u001b[0;34m\u001b[0m\u001b[0m\n\u001b[1;32m    495\u001b[0m         \u001b[0mfig\u001b[0m\u001b[0;34m,\u001b[0m \u001b[0max\u001b[0m \u001b[0;34m=\u001b[0m \u001b[0mplt\u001b[0m\u001b[0;34m.\u001b[0m\u001b[0msubplots\u001b[0m\u001b[0;34m(\u001b[0m\u001b[0mfigsize\u001b[0m\u001b[0;34m=\u001b[0m\u001b[0;34m(\u001b[0m\u001b[0;36m15\u001b[0m\u001b[0;34m,\u001b[0m \u001b[0;36m10\u001b[0m\u001b[0;34m)\u001b[0m\u001b[0;34m)\u001b[0m\u001b[0;34m\u001b[0m\u001b[0;34m\u001b[0m\u001b[0m\n",
      "\u001b[0;32m~/Desktop/corona/dataAndModelsCovid19/regionsSP/covid_plots.py\u001b[0m in \u001b[0;36msavePlot\u001b[0;34m(strFile)\u001b[0m\n\u001b[1;32m     26\u001b[0m     \u001b[0;32mif\u001b[0m \u001b[0mos\u001b[0m\u001b[0;34m.\u001b[0m\u001b[0mpath\u001b[0m\u001b[0;34m.\u001b[0m\u001b[0misfile\u001b[0m\u001b[0;34m(\u001b[0m\u001b[0mstrFile\u001b[0m\u001b[0;34m)\u001b[0m\u001b[0;34m:\u001b[0m\u001b[0;34m\u001b[0m\u001b[0;34m\u001b[0m\u001b[0m\n\u001b[1;32m     27\u001b[0m         \u001b[0mos\u001b[0m\u001b[0;34m.\u001b[0m\u001b[0mremove\u001b[0m\u001b[0;34m(\u001b[0m\u001b[0mstrFile\u001b[0m\u001b[0;34m)\u001b[0m   \u001b[0;31m# Opt.: os.system(\"del \"+strFile)\u001b[0m\u001b[0;34m\u001b[0m\u001b[0;34m\u001b[0m\u001b[0m\n\u001b[0;32m---> 28\u001b[0;31m     \u001b[0mplt\u001b[0m\u001b[0;34m.\u001b[0m\u001b[0msavefig\u001b[0m\u001b[0;34m(\u001b[0m\u001b[0mstrFile\u001b[0m\u001b[0;34m,\u001b[0m\u001b[0mdpi\u001b[0m\u001b[0;34m=\u001b[0m\u001b[0;36m600\u001b[0m\u001b[0;34m)\u001b[0m\u001b[0;34m\u001b[0m\u001b[0;34m\u001b[0m\u001b[0m\n\u001b[0m\u001b[1;32m     29\u001b[0m \u001b[0;34m\u001b[0m\u001b[0m\n\u001b[1;32m     30\u001b[0m \u001b[0;32mdef\u001b[0m \u001b[0mlogistic_model\u001b[0m\u001b[0;34m(\u001b[0m\u001b[0mx\u001b[0m\u001b[0;34m,\u001b[0m\u001b[0ma\u001b[0m\u001b[0;34m,\u001b[0m\u001b[0mb\u001b[0m\u001b[0;34m,\u001b[0m\u001b[0mc\u001b[0m\u001b[0;34m)\u001b[0m\u001b[0;34m:\u001b[0m\u001b[0;34m\u001b[0m\u001b[0;34m\u001b[0m\u001b[0m\n",
      "\u001b[0;32m~/anaconda3/lib/python3.7/site-packages/matplotlib/pyplot.py\u001b[0m in \u001b[0;36msavefig\u001b[0;34m(*args, **kwargs)\u001b[0m\n\u001b[1;32m    720\u001b[0m \u001b[0;32mdef\u001b[0m \u001b[0msavefig\u001b[0m\u001b[0;34m(\u001b[0m\u001b[0;34m*\u001b[0m\u001b[0margs\u001b[0m\u001b[0;34m,\u001b[0m \u001b[0;34m**\u001b[0m\u001b[0mkwargs\u001b[0m\u001b[0;34m)\u001b[0m\u001b[0;34m:\u001b[0m\u001b[0;34m\u001b[0m\u001b[0;34m\u001b[0m\u001b[0m\n\u001b[1;32m    721\u001b[0m     \u001b[0mfig\u001b[0m \u001b[0;34m=\u001b[0m \u001b[0mgcf\u001b[0m\u001b[0;34m(\u001b[0m\u001b[0;34m)\u001b[0m\u001b[0;34m\u001b[0m\u001b[0;34m\u001b[0m\u001b[0m\n\u001b[0;32m--> 722\u001b[0;31m     \u001b[0mres\u001b[0m \u001b[0;34m=\u001b[0m \u001b[0mfig\u001b[0m\u001b[0;34m.\u001b[0m\u001b[0msavefig\u001b[0m\u001b[0;34m(\u001b[0m\u001b[0;34m*\u001b[0m\u001b[0margs\u001b[0m\u001b[0;34m,\u001b[0m \u001b[0;34m**\u001b[0m\u001b[0mkwargs\u001b[0m\u001b[0;34m)\u001b[0m\u001b[0;34m\u001b[0m\u001b[0;34m\u001b[0m\u001b[0m\n\u001b[0m\u001b[1;32m    723\u001b[0m     \u001b[0mfig\u001b[0m\u001b[0;34m.\u001b[0m\u001b[0mcanvas\u001b[0m\u001b[0;34m.\u001b[0m\u001b[0mdraw_idle\u001b[0m\u001b[0;34m(\u001b[0m\u001b[0;34m)\u001b[0m   \u001b[0;31m# need this if 'transparent=True' to reset colors\u001b[0m\u001b[0;34m\u001b[0m\u001b[0;34m\u001b[0m\u001b[0m\n\u001b[1;32m    724\u001b[0m     \u001b[0;32mreturn\u001b[0m \u001b[0mres\u001b[0m\u001b[0;34m\u001b[0m\u001b[0;34m\u001b[0m\u001b[0m\n",
      "\u001b[0;32m~/anaconda3/lib/python3.7/site-packages/matplotlib/figure.py\u001b[0m in \u001b[0;36msavefig\u001b[0;34m(self, fname, transparent, **kwargs)\u001b[0m\n\u001b[1;32m   2178\u001b[0m             \u001b[0mself\u001b[0m\u001b[0;34m.\u001b[0m\u001b[0mpatch\u001b[0m\u001b[0;34m.\u001b[0m\u001b[0mset_visible\u001b[0m\u001b[0;34m(\u001b[0m\u001b[0mframeon\u001b[0m\u001b[0;34m)\u001b[0m\u001b[0;34m\u001b[0m\u001b[0;34m\u001b[0m\u001b[0m\n\u001b[1;32m   2179\u001b[0m \u001b[0;34m\u001b[0m\u001b[0m\n\u001b[0;32m-> 2180\u001b[0;31m         \u001b[0mself\u001b[0m\u001b[0;34m.\u001b[0m\u001b[0mcanvas\u001b[0m\u001b[0;34m.\u001b[0m\u001b[0mprint_figure\u001b[0m\u001b[0;34m(\u001b[0m\u001b[0mfname\u001b[0m\u001b[0;34m,\u001b[0m \u001b[0;34m**\u001b[0m\u001b[0mkwargs\u001b[0m\u001b[0;34m)\u001b[0m\u001b[0;34m\u001b[0m\u001b[0;34m\u001b[0m\u001b[0m\n\u001b[0m\u001b[1;32m   2181\u001b[0m \u001b[0;34m\u001b[0m\u001b[0m\n\u001b[1;32m   2182\u001b[0m         \u001b[0;32mif\u001b[0m \u001b[0mframeon\u001b[0m\u001b[0;34m:\u001b[0m\u001b[0;34m\u001b[0m\u001b[0;34m\u001b[0m\u001b[0m\n",
      "\u001b[0;32m~/anaconda3/lib/python3.7/site-packages/matplotlib/backend_bases.py\u001b[0m in \u001b[0;36mprint_figure\u001b[0;34m(self, filename, dpi, facecolor, edgecolor, orientation, format, bbox_inches, **kwargs)\u001b[0m\n\u001b[1;32m   2087\u001b[0m                     \u001b[0morientation\u001b[0m\u001b[0;34m=\u001b[0m\u001b[0morientation\u001b[0m\u001b[0;34m,\u001b[0m\u001b[0;34m\u001b[0m\u001b[0;34m\u001b[0m\u001b[0m\n\u001b[1;32m   2088\u001b[0m                     \u001b[0mbbox_inches_restore\u001b[0m\u001b[0;34m=\u001b[0m\u001b[0m_bbox_inches_restore\u001b[0m\u001b[0;34m,\u001b[0m\u001b[0;34m\u001b[0m\u001b[0;34m\u001b[0m\u001b[0m\n\u001b[0;32m-> 2089\u001b[0;31m                     **kwargs)\n\u001b[0m\u001b[1;32m   2090\u001b[0m             \u001b[0;32mfinally\u001b[0m\u001b[0;34m:\u001b[0m\u001b[0;34m\u001b[0m\u001b[0;34m\u001b[0m\u001b[0m\n\u001b[1;32m   2091\u001b[0m                 \u001b[0;32mif\u001b[0m \u001b[0mbbox_inches\u001b[0m \u001b[0;32mand\u001b[0m \u001b[0mrestore_bbox\u001b[0m\u001b[0;34m:\u001b[0m\u001b[0;34m\u001b[0m\u001b[0;34m\u001b[0m\u001b[0m\n",
      "\u001b[0;32m~/anaconda3/lib/python3.7/site-packages/matplotlib/backends/backend_agg.py\u001b[0m in \u001b[0;36mprint_png\u001b[0;34m(self, filename_or_obj, metadata, pil_kwargs, *args, **kwargs)\u001b[0m\n\u001b[1;32m    525\u001b[0m \u001b[0;34m\u001b[0m\u001b[0m\n\u001b[1;32m    526\u001b[0m         \u001b[0;32melse\u001b[0m\u001b[0;34m:\u001b[0m\u001b[0;34m\u001b[0m\u001b[0;34m\u001b[0m\u001b[0m\n\u001b[0;32m--> 527\u001b[0;31m             \u001b[0mFigureCanvasAgg\u001b[0m\u001b[0;34m.\u001b[0m\u001b[0mdraw\u001b[0m\u001b[0;34m(\u001b[0m\u001b[0mself\u001b[0m\u001b[0;34m)\u001b[0m\u001b[0;34m\u001b[0m\u001b[0;34m\u001b[0m\u001b[0m\n\u001b[0m\u001b[1;32m    528\u001b[0m             \u001b[0mrenderer\u001b[0m \u001b[0;34m=\u001b[0m \u001b[0mself\u001b[0m\u001b[0;34m.\u001b[0m\u001b[0mget_renderer\u001b[0m\u001b[0;34m(\u001b[0m\u001b[0;34m)\u001b[0m\u001b[0;34m\u001b[0m\u001b[0;34m\u001b[0m\u001b[0m\n\u001b[1;32m    529\u001b[0m             \u001b[0;32mwith\u001b[0m \u001b[0mcbook\u001b[0m\u001b[0;34m.\u001b[0m\u001b[0m_setattr_cm\u001b[0m\u001b[0;34m(\u001b[0m\u001b[0mrenderer\u001b[0m\u001b[0;34m,\u001b[0m \u001b[0mdpi\u001b[0m\u001b[0;34m=\u001b[0m\u001b[0mself\u001b[0m\u001b[0;34m.\u001b[0m\u001b[0mfigure\u001b[0m\u001b[0;34m.\u001b[0m\u001b[0mdpi\u001b[0m\u001b[0;34m)\u001b[0m\u001b[0;34m,\u001b[0m\u001b[0;31m \u001b[0m\u001b[0;31m\\\u001b[0m\u001b[0;34m\u001b[0m\u001b[0;34m\u001b[0m\u001b[0m\n",
      "\u001b[0;32m~/anaconda3/lib/python3.7/site-packages/matplotlib/backends/backend_agg.py\u001b[0m in \u001b[0;36mdraw\u001b[0;34m(self)\u001b[0m\n\u001b[1;32m    386\u001b[0m         \u001b[0mself\u001b[0m\u001b[0;34m.\u001b[0m\u001b[0mrenderer\u001b[0m \u001b[0;34m=\u001b[0m \u001b[0mself\u001b[0m\u001b[0;34m.\u001b[0m\u001b[0mget_renderer\u001b[0m\u001b[0;34m(\u001b[0m\u001b[0mcleared\u001b[0m\u001b[0;34m=\u001b[0m\u001b[0;32mTrue\u001b[0m\u001b[0;34m)\u001b[0m\u001b[0;34m\u001b[0m\u001b[0;34m\u001b[0m\u001b[0m\n\u001b[1;32m    387\u001b[0m         \u001b[0;32mwith\u001b[0m \u001b[0mRendererAgg\u001b[0m\u001b[0;34m.\u001b[0m\u001b[0mlock\u001b[0m\u001b[0;34m:\u001b[0m\u001b[0;34m\u001b[0m\u001b[0;34m\u001b[0m\u001b[0m\n\u001b[0;32m--> 388\u001b[0;31m             \u001b[0mself\u001b[0m\u001b[0;34m.\u001b[0m\u001b[0mfigure\u001b[0m\u001b[0;34m.\u001b[0m\u001b[0mdraw\u001b[0m\u001b[0;34m(\u001b[0m\u001b[0mself\u001b[0m\u001b[0;34m.\u001b[0m\u001b[0mrenderer\u001b[0m\u001b[0;34m)\u001b[0m\u001b[0;34m\u001b[0m\u001b[0;34m\u001b[0m\u001b[0m\n\u001b[0m\u001b[1;32m    389\u001b[0m             \u001b[0;31m# A GUI class may be need to update a window using this draw, so\u001b[0m\u001b[0;34m\u001b[0m\u001b[0;34m\u001b[0m\u001b[0;34m\u001b[0m\u001b[0m\n\u001b[1;32m    390\u001b[0m             \u001b[0;31m# don't forget to call the superclass.\u001b[0m\u001b[0;34m\u001b[0m\u001b[0;34m\u001b[0m\u001b[0;34m\u001b[0m\u001b[0m\n",
      "\u001b[0;32m~/anaconda3/lib/python3.7/site-packages/matplotlib/artist.py\u001b[0m in \u001b[0;36mdraw_wrapper\u001b[0;34m(artist, renderer, *args, **kwargs)\u001b[0m\n\u001b[1;32m     36\u001b[0m                 \u001b[0mrenderer\u001b[0m\u001b[0;34m.\u001b[0m\u001b[0mstart_filter\u001b[0m\u001b[0;34m(\u001b[0m\u001b[0;34m)\u001b[0m\u001b[0;34m\u001b[0m\u001b[0;34m\u001b[0m\u001b[0m\n\u001b[1;32m     37\u001b[0m \u001b[0;34m\u001b[0m\u001b[0m\n\u001b[0;32m---> 38\u001b[0;31m             \u001b[0;32mreturn\u001b[0m \u001b[0mdraw\u001b[0m\u001b[0;34m(\u001b[0m\u001b[0martist\u001b[0m\u001b[0;34m,\u001b[0m \u001b[0mrenderer\u001b[0m\u001b[0;34m,\u001b[0m \u001b[0;34m*\u001b[0m\u001b[0margs\u001b[0m\u001b[0;34m,\u001b[0m \u001b[0;34m**\u001b[0m\u001b[0mkwargs\u001b[0m\u001b[0;34m)\u001b[0m\u001b[0;34m\u001b[0m\u001b[0;34m\u001b[0m\u001b[0m\n\u001b[0m\u001b[1;32m     39\u001b[0m         \u001b[0;32mfinally\u001b[0m\u001b[0;34m:\u001b[0m\u001b[0;34m\u001b[0m\u001b[0;34m\u001b[0m\u001b[0m\n\u001b[1;32m     40\u001b[0m             \u001b[0;32mif\u001b[0m \u001b[0martist\u001b[0m\u001b[0;34m.\u001b[0m\u001b[0mget_agg_filter\u001b[0m\u001b[0;34m(\u001b[0m\u001b[0;34m)\u001b[0m \u001b[0;32mis\u001b[0m \u001b[0;32mnot\u001b[0m \u001b[0;32mNone\u001b[0m\u001b[0;34m:\u001b[0m\u001b[0;34m\u001b[0m\u001b[0;34m\u001b[0m\u001b[0m\n",
      "\u001b[0;32m~/anaconda3/lib/python3.7/site-packages/matplotlib/figure.py\u001b[0m in \u001b[0;36mdraw\u001b[0;34m(self, renderer)\u001b[0m\n\u001b[1;32m   1707\u001b[0m             \u001b[0mself\u001b[0m\u001b[0;34m.\u001b[0m\u001b[0mpatch\u001b[0m\u001b[0;34m.\u001b[0m\u001b[0mdraw\u001b[0m\u001b[0;34m(\u001b[0m\u001b[0mrenderer\u001b[0m\u001b[0;34m)\u001b[0m\u001b[0;34m\u001b[0m\u001b[0;34m\u001b[0m\u001b[0m\n\u001b[1;32m   1708\u001b[0m             mimage._draw_list_compositing_images(\n\u001b[0;32m-> 1709\u001b[0;31m                 renderer, self, artists, self.suppressComposite)\n\u001b[0m\u001b[1;32m   1710\u001b[0m \u001b[0;34m\u001b[0m\u001b[0m\n\u001b[1;32m   1711\u001b[0m             \u001b[0mrenderer\u001b[0m\u001b[0;34m.\u001b[0m\u001b[0mclose_group\u001b[0m\u001b[0;34m(\u001b[0m\u001b[0;34m'figure'\u001b[0m\u001b[0;34m)\u001b[0m\u001b[0;34m\u001b[0m\u001b[0;34m\u001b[0m\u001b[0m\n",
      "\u001b[0;32m~/anaconda3/lib/python3.7/site-packages/matplotlib/image.py\u001b[0m in \u001b[0;36m_draw_list_compositing_images\u001b[0;34m(renderer, parent, artists, suppress_composite)\u001b[0m\n\u001b[1;32m    133\u001b[0m     \u001b[0;32mif\u001b[0m \u001b[0mnot_composite\u001b[0m \u001b[0;32mor\u001b[0m \u001b[0;32mnot\u001b[0m \u001b[0mhas_images\u001b[0m\u001b[0;34m:\u001b[0m\u001b[0;34m\u001b[0m\u001b[0;34m\u001b[0m\u001b[0m\n\u001b[1;32m    134\u001b[0m         \u001b[0;32mfor\u001b[0m \u001b[0ma\u001b[0m \u001b[0;32min\u001b[0m \u001b[0martists\u001b[0m\u001b[0;34m:\u001b[0m\u001b[0;34m\u001b[0m\u001b[0;34m\u001b[0m\u001b[0m\n\u001b[0;32m--> 135\u001b[0;31m             \u001b[0ma\u001b[0m\u001b[0;34m.\u001b[0m\u001b[0mdraw\u001b[0m\u001b[0;34m(\u001b[0m\u001b[0mrenderer\u001b[0m\u001b[0;34m)\u001b[0m\u001b[0;34m\u001b[0m\u001b[0;34m\u001b[0m\u001b[0m\n\u001b[0m\u001b[1;32m    136\u001b[0m     \u001b[0;32melse\u001b[0m\u001b[0;34m:\u001b[0m\u001b[0;34m\u001b[0m\u001b[0;34m\u001b[0m\u001b[0m\n\u001b[1;32m    137\u001b[0m         \u001b[0;31m# Composite any adjacent images together\u001b[0m\u001b[0;34m\u001b[0m\u001b[0;34m\u001b[0m\u001b[0;34m\u001b[0m\u001b[0m\n",
      "\u001b[0;32m~/anaconda3/lib/python3.7/site-packages/matplotlib/artist.py\u001b[0m in \u001b[0;36mdraw_wrapper\u001b[0;34m(artist, renderer, *args, **kwargs)\u001b[0m\n\u001b[1;32m     36\u001b[0m                 \u001b[0mrenderer\u001b[0m\u001b[0;34m.\u001b[0m\u001b[0mstart_filter\u001b[0m\u001b[0;34m(\u001b[0m\u001b[0;34m)\u001b[0m\u001b[0;34m\u001b[0m\u001b[0;34m\u001b[0m\u001b[0m\n\u001b[1;32m     37\u001b[0m \u001b[0;34m\u001b[0m\u001b[0m\n\u001b[0;32m---> 38\u001b[0;31m             \u001b[0;32mreturn\u001b[0m \u001b[0mdraw\u001b[0m\u001b[0;34m(\u001b[0m\u001b[0martist\u001b[0m\u001b[0;34m,\u001b[0m \u001b[0mrenderer\u001b[0m\u001b[0;34m,\u001b[0m \u001b[0;34m*\u001b[0m\u001b[0margs\u001b[0m\u001b[0;34m,\u001b[0m \u001b[0;34m**\u001b[0m\u001b[0mkwargs\u001b[0m\u001b[0;34m)\u001b[0m\u001b[0;34m\u001b[0m\u001b[0;34m\u001b[0m\u001b[0m\n\u001b[0m\u001b[1;32m     39\u001b[0m         \u001b[0;32mfinally\u001b[0m\u001b[0;34m:\u001b[0m\u001b[0;34m\u001b[0m\u001b[0;34m\u001b[0m\u001b[0m\n\u001b[1;32m     40\u001b[0m             \u001b[0;32mif\u001b[0m \u001b[0martist\u001b[0m\u001b[0;34m.\u001b[0m\u001b[0mget_agg_filter\u001b[0m\u001b[0;34m(\u001b[0m\u001b[0;34m)\u001b[0m \u001b[0;32mis\u001b[0m \u001b[0;32mnot\u001b[0m \u001b[0;32mNone\u001b[0m\u001b[0;34m:\u001b[0m\u001b[0;34m\u001b[0m\u001b[0;34m\u001b[0m\u001b[0m\n",
      "\u001b[0;32m~/anaconda3/lib/python3.7/site-packages/matplotlib/axes/_base.py\u001b[0m in \u001b[0;36mdraw\u001b[0;34m(self, renderer, inframe)\u001b[0m\n\u001b[1;32m   2645\u001b[0m             \u001b[0mrenderer\u001b[0m\u001b[0;34m.\u001b[0m\u001b[0mstop_rasterizing\u001b[0m\u001b[0;34m(\u001b[0m\u001b[0;34m)\u001b[0m\u001b[0;34m\u001b[0m\u001b[0;34m\u001b[0m\u001b[0m\n\u001b[1;32m   2646\u001b[0m \u001b[0;34m\u001b[0m\u001b[0m\n\u001b[0;32m-> 2647\u001b[0;31m         \u001b[0mmimage\u001b[0m\u001b[0;34m.\u001b[0m\u001b[0m_draw_list_compositing_images\u001b[0m\u001b[0;34m(\u001b[0m\u001b[0mrenderer\u001b[0m\u001b[0;34m,\u001b[0m \u001b[0mself\u001b[0m\u001b[0;34m,\u001b[0m \u001b[0martists\u001b[0m\u001b[0;34m)\u001b[0m\u001b[0;34m\u001b[0m\u001b[0;34m\u001b[0m\u001b[0m\n\u001b[0m\u001b[1;32m   2648\u001b[0m \u001b[0;34m\u001b[0m\u001b[0m\n\u001b[1;32m   2649\u001b[0m         \u001b[0mrenderer\u001b[0m\u001b[0;34m.\u001b[0m\u001b[0mclose_group\u001b[0m\u001b[0;34m(\u001b[0m\u001b[0;34m'axes'\u001b[0m\u001b[0;34m)\u001b[0m\u001b[0;34m\u001b[0m\u001b[0;34m\u001b[0m\u001b[0m\n",
      "\u001b[0;32m~/anaconda3/lib/python3.7/site-packages/matplotlib/image.py\u001b[0m in \u001b[0;36m_draw_list_compositing_images\u001b[0;34m(renderer, parent, artists, suppress_composite)\u001b[0m\n\u001b[1;32m    133\u001b[0m     \u001b[0;32mif\u001b[0m \u001b[0mnot_composite\u001b[0m \u001b[0;32mor\u001b[0m \u001b[0;32mnot\u001b[0m \u001b[0mhas_images\u001b[0m\u001b[0;34m:\u001b[0m\u001b[0;34m\u001b[0m\u001b[0;34m\u001b[0m\u001b[0m\n\u001b[1;32m    134\u001b[0m         \u001b[0;32mfor\u001b[0m \u001b[0ma\u001b[0m \u001b[0;32min\u001b[0m \u001b[0martists\u001b[0m\u001b[0;34m:\u001b[0m\u001b[0;34m\u001b[0m\u001b[0;34m\u001b[0m\u001b[0m\n\u001b[0;32m--> 135\u001b[0;31m             \u001b[0ma\u001b[0m\u001b[0;34m.\u001b[0m\u001b[0mdraw\u001b[0m\u001b[0;34m(\u001b[0m\u001b[0mrenderer\u001b[0m\u001b[0;34m)\u001b[0m\u001b[0;34m\u001b[0m\u001b[0;34m\u001b[0m\u001b[0m\n\u001b[0m\u001b[1;32m    136\u001b[0m     \u001b[0;32melse\u001b[0m\u001b[0;34m:\u001b[0m\u001b[0;34m\u001b[0m\u001b[0;34m\u001b[0m\u001b[0m\n\u001b[1;32m    137\u001b[0m         \u001b[0;31m# Composite any adjacent images together\u001b[0m\u001b[0;34m\u001b[0m\u001b[0;34m\u001b[0m\u001b[0;34m\u001b[0m\u001b[0m\n",
      "\u001b[0;32m~/anaconda3/lib/python3.7/site-packages/matplotlib/artist.py\u001b[0m in \u001b[0;36mdraw_wrapper\u001b[0;34m(artist, renderer, *args, **kwargs)\u001b[0m\n\u001b[1;32m     36\u001b[0m                 \u001b[0mrenderer\u001b[0m\u001b[0;34m.\u001b[0m\u001b[0mstart_filter\u001b[0m\u001b[0;34m(\u001b[0m\u001b[0;34m)\u001b[0m\u001b[0;34m\u001b[0m\u001b[0;34m\u001b[0m\u001b[0m\n\u001b[1;32m     37\u001b[0m \u001b[0;34m\u001b[0m\u001b[0m\n\u001b[0;32m---> 38\u001b[0;31m             \u001b[0;32mreturn\u001b[0m \u001b[0mdraw\u001b[0m\u001b[0;34m(\u001b[0m\u001b[0martist\u001b[0m\u001b[0;34m,\u001b[0m \u001b[0mrenderer\u001b[0m\u001b[0;34m,\u001b[0m \u001b[0;34m*\u001b[0m\u001b[0margs\u001b[0m\u001b[0;34m,\u001b[0m \u001b[0;34m**\u001b[0m\u001b[0mkwargs\u001b[0m\u001b[0;34m)\u001b[0m\u001b[0;34m\u001b[0m\u001b[0;34m\u001b[0m\u001b[0m\n\u001b[0m\u001b[1;32m     39\u001b[0m         \u001b[0;32mfinally\u001b[0m\u001b[0;34m:\u001b[0m\u001b[0;34m\u001b[0m\u001b[0;34m\u001b[0m\u001b[0m\n\u001b[1;32m     40\u001b[0m             \u001b[0;32mif\u001b[0m \u001b[0martist\u001b[0m\u001b[0;34m.\u001b[0m\u001b[0mget_agg_filter\u001b[0m\u001b[0;34m(\u001b[0m\u001b[0;34m)\u001b[0m \u001b[0;32mis\u001b[0m \u001b[0;32mnot\u001b[0m \u001b[0;32mNone\u001b[0m\u001b[0;34m:\u001b[0m\u001b[0;34m\u001b[0m\u001b[0;34m\u001b[0m\u001b[0m\n",
      "\u001b[0;32m~/anaconda3/lib/python3.7/site-packages/matplotlib/axis.py\u001b[0m in \u001b[0;36mdraw\u001b[0;34m(self, renderer, *args, **kwargs)\u001b[0m\n\u001b[1;32m   1201\u001b[0m         \u001b[0mrenderer\u001b[0m\u001b[0;34m.\u001b[0m\u001b[0mopen_group\u001b[0m\u001b[0;34m(\u001b[0m\u001b[0m__name__\u001b[0m\u001b[0;34m)\u001b[0m\u001b[0;34m\u001b[0m\u001b[0;34m\u001b[0m\u001b[0m\n\u001b[1;32m   1202\u001b[0m \u001b[0;34m\u001b[0m\u001b[0m\n\u001b[0;32m-> 1203\u001b[0;31m         \u001b[0mticks_to_draw\u001b[0m \u001b[0;34m=\u001b[0m \u001b[0mself\u001b[0m\u001b[0;34m.\u001b[0m\u001b[0m_update_ticks\u001b[0m\u001b[0;34m(\u001b[0m\u001b[0;34m)\u001b[0m\u001b[0;34m\u001b[0m\u001b[0;34m\u001b[0m\u001b[0m\n\u001b[0m\u001b[1;32m   1204\u001b[0m         ticklabelBoxes, ticklabelBoxes2 = self._get_tick_bboxes(ticks_to_draw,\n\u001b[1;32m   1205\u001b[0m                                                                 renderer)\n",
      "\u001b[0;32m~/anaconda3/lib/python3.7/site-packages/matplotlib/axis.py\u001b[0m in \u001b[0;36m_update_ticks\u001b[0;34m(self)\u001b[0m\n\u001b[1;32m   1077\u001b[0m         \u001b[0mthe\u001b[0m \u001b[0maxes\u001b[0m\u001b[0;34m.\u001b[0m  \u001b[0mReturn\u001b[0m \u001b[0mthe\u001b[0m \u001b[0mlist\u001b[0m \u001b[0mof\u001b[0m \u001b[0mticks\u001b[0m \u001b[0mthat\u001b[0m \u001b[0mwill\u001b[0m \u001b[0mbe\u001b[0m \u001b[0mdrawn\u001b[0m\u001b[0;34m.\u001b[0m\u001b[0;34m\u001b[0m\u001b[0;34m\u001b[0m\u001b[0m\n\u001b[1;32m   1078\u001b[0m         \"\"\"\n\u001b[0;32m-> 1079\u001b[0;31m         \u001b[0mmajor_locs\u001b[0m \u001b[0;34m=\u001b[0m \u001b[0mself\u001b[0m\u001b[0;34m.\u001b[0m\u001b[0mget_majorticklocs\u001b[0m\u001b[0;34m(\u001b[0m\u001b[0;34m)\u001b[0m\u001b[0;34m\u001b[0m\u001b[0;34m\u001b[0m\u001b[0m\n\u001b[0m\u001b[1;32m   1080\u001b[0m         \u001b[0mmajor_labels\u001b[0m \u001b[0;34m=\u001b[0m \u001b[0mself\u001b[0m\u001b[0;34m.\u001b[0m\u001b[0mmajor\u001b[0m\u001b[0;34m.\u001b[0m\u001b[0mformatter\u001b[0m\u001b[0;34m.\u001b[0m\u001b[0mformat_ticks\u001b[0m\u001b[0;34m(\u001b[0m\u001b[0mmajor_locs\u001b[0m\u001b[0;34m)\u001b[0m\u001b[0;34m\u001b[0m\u001b[0;34m\u001b[0m\u001b[0m\n\u001b[1;32m   1081\u001b[0m         \u001b[0mmajor_ticks\u001b[0m \u001b[0;34m=\u001b[0m \u001b[0mself\u001b[0m\u001b[0;34m.\u001b[0m\u001b[0mget_major_ticks\u001b[0m\u001b[0;34m(\u001b[0m\u001b[0mlen\u001b[0m\u001b[0;34m(\u001b[0m\u001b[0mmajor_locs\u001b[0m\u001b[0;34m)\u001b[0m\u001b[0;34m)\u001b[0m\u001b[0;34m\u001b[0m\u001b[0;34m\u001b[0m\u001b[0m\n",
      "\u001b[0;32m~/anaconda3/lib/python3.7/site-packages/matplotlib/axis.py\u001b[0m in \u001b[0;36mget_majorticklocs\u001b[0;34m(self)\u001b[0m\n\u001b[1;32m   1322\u001b[0m     \u001b[0;32mdef\u001b[0m \u001b[0mget_majorticklocs\u001b[0m\u001b[0;34m(\u001b[0m\u001b[0mself\u001b[0m\u001b[0;34m)\u001b[0m\u001b[0;34m:\u001b[0m\u001b[0;34m\u001b[0m\u001b[0;34m\u001b[0m\u001b[0m\n\u001b[1;32m   1323\u001b[0m         \u001b[0;34m\"\"\"Get the array of major tick locations in data coordinates.\"\"\"\u001b[0m\u001b[0;34m\u001b[0m\u001b[0;34m\u001b[0m\u001b[0m\n\u001b[0;32m-> 1324\u001b[0;31m         \u001b[0;32mreturn\u001b[0m \u001b[0mself\u001b[0m\u001b[0;34m.\u001b[0m\u001b[0mmajor\u001b[0m\u001b[0;34m.\u001b[0m\u001b[0mlocator\u001b[0m\u001b[0;34m(\u001b[0m\u001b[0;34m)\u001b[0m\u001b[0;34m\u001b[0m\u001b[0;34m\u001b[0m\u001b[0m\n\u001b[0m\u001b[1;32m   1325\u001b[0m \u001b[0;34m\u001b[0m\u001b[0m\n\u001b[1;32m   1326\u001b[0m     \u001b[0;32mdef\u001b[0m \u001b[0mget_minorticklocs\u001b[0m\u001b[0;34m(\u001b[0m\u001b[0mself\u001b[0m\u001b[0;34m)\u001b[0m\u001b[0;34m:\u001b[0m\u001b[0;34m\u001b[0m\u001b[0;34m\u001b[0m\u001b[0m\n",
      "\u001b[0;32m~/anaconda3/lib/python3.7/site-packages/matplotlib/dates.py\u001b[0m in \u001b[0;36m__call__\u001b[0;34m(self)\u001b[0m\n\u001b[1;32m   1426\u001b[0m     \u001b[0;32mdef\u001b[0m \u001b[0m__call__\u001b[0m\u001b[0;34m(\u001b[0m\u001b[0mself\u001b[0m\u001b[0;34m)\u001b[0m\u001b[0;34m:\u001b[0m\u001b[0;34m\u001b[0m\u001b[0;34m\u001b[0m\u001b[0m\n\u001b[1;32m   1427\u001b[0m         \u001b[0;34m'Return the locations of the ticks'\u001b[0m\u001b[0;34m\u001b[0m\u001b[0;34m\u001b[0m\u001b[0m\n\u001b[0;32m-> 1428\u001b[0;31m         \u001b[0mself\u001b[0m\u001b[0;34m.\u001b[0m\u001b[0mrefresh\u001b[0m\u001b[0;34m(\u001b[0m\u001b[0;34m)\u001b[0m\u001b[0;34m\u001b[0m\u001b[0;34m\u001b[0m\u001b[0m\n\u001b[0m\u001b[1;32m   1429\u001b[0m         \u001b[0;32mreturn\u001b[0m \u001b[0mself\u001b[0m\u001b[0;34m.\u001b[0m\u001b[0m_locator\u001b[0m\u001b[0;34m(\u001b[0m\u001b[0;34m)\u001b[0m\u001b[0;34m\u001b[0m\u001b[0;34m\u001b[0m\u001b[0m\n\u001b[1;32m   1430\u001b[0m \u001b[0;34m\u001b[0m\u001b[0m\n",
      "\u001b[0;32m~/anaconda3/lib/python3.7/site-packages/matplotlib/dates.py\u001b[0m in \u001b[0;36mrefresh\u001b[0;34m(self)\u001b[0m\n\u001b[1;32m   1446\u001b[0m     \u001b[0;32mdef\u001b[0m \u001b[0mrefresh\u001b[0m\u001b[0;34m(\u001b[0m\u001b[0mself\u001b[0m\u001b[0;34m)\u001b[0m\u001b[0;34m:\u001b[0m\u001b[0;34m\u001b[0m\u001b[0;34m\u001b[0m\u001b[0m\n\u001b[1;32m   1447\u001b[0m         \u001b[0;34m'Refresh internal information based on current limits.'\u001b[0m\u001b[0;34m\u001b[0m\u001b[0;34m\u001b[0m\u001b[0m\n\u001b[0;32m-> 1448\u001b[0;31m         \u001b[0mdmin\u001b[0m\u001b[0;34m,\u001b[0m \u001b[0mdmax\u001b[0m \u001b[0;34m=\u001b[0m \u001b[0mself\u001b[0m\u001b[0;34m.\u001b[0m\u001b[0mviewlim_to_dt\u001b[0m\u001b[0;34m(\u001b[0m\u001b[0;34m)\u001b[0m\u001b[0;34m\u001b[0m\u001b[0;34m\u001b[0m\u001b[0m\n\u001b[0m\u001b[1;32m   1449\u001b[0m         \u001b[0mself\u001b[0m\u001b[0;34m.\u001b[0m\u001b[0m_locator\u001b[0m \u001b[0;34m=\u001b[0m \u001b[0mself\u001b[0m\u001b[0;34m.\u001b[0m\u001b[0mget_locator\u001b[0m\u001b[0;34m(\u001b[0m\u001b[0mdmin\u001b[0m\u001b[0;34m,\u001b[0m \u001b[0mdmax\u001b[0m\u001b[0;34m)\u001b[0m\u001b[0;34m\u001b[0m\u001b[0;34m\u001b[0m\u001b[0m\n\u001b[1;32m   1450\u001b[0m \u001b[0;34m\u001b[0m\u001b[0m\n",
      "\u001b[0;32m~/anaconda3/lib/python3.7/site-packages/matplotlib/dates.py\u001b[0m in \u001b[0;36mviewlim_to_dt\u001b[0;34m(self)\u001b[0m\n\u001b[1;32m   1197\u001b[0m                              \u001b[0;34m'often happens if you pass a non-datetime '\u001b[0m\u001b[0;34m\u001b[0m\u001b[0;34m\u001b[0m\u001b[0m\n\u001b[1;32m   1198\u001b[0m                              \u001b[0;34m'value to an axis that has datetime units'\u001b[0m\u001b[0;34m\u001b[0m\u001b[0;34m\u001b[0m\u001b[0m\n\u001b[0;32m-> 1199\u001b[0;31m                              .format(vmin))\n\u001b[0m\u001b[1;32m   1200\u001b[0m         \u001b[0;32mreturn\u001b[0m \u001b[0mnum2date\u001b[0m\u001b[0;34m(\u001b[0m\u001b[0mvmin\u001b[0m\u001b[0;34m,\u001b[0m \u001b[0mself\u001b[0m\u001b[0;34m.\u001b[0m\u001b[0mtz\u001b[0m\u001b[0;34m)\u001b[0m\u001b[0;34m,\u001b[0m \u001b[0mnum2date\u001b[0m\u001b[0;34m(\u001b[0m\u001b[0mvmax\u001b[0m\u001b[0;34m,\u001b[0m \u001b[0mself\u001b[0m\u001b[0;34m.\u001b[0m\u001b[0mtz\u001b[0m\u001b[0;34m)\u001b[0m\u001b[0;34m\u001b[0m\u001b[0;34m\u001b[0m\u001b[0m\n\u001b[1;32m   1201\u001b[0m \u001b[0;34m\u001b[0m\u001b[0m\n",
      "\u001b[0;31mValueError\u001b[0m: view limit minimum -7.945775999922562e+16 is less than 1 and is an invalid Matplotlib date value. This often happens if you pass a non-datetime value to an axis that has datetime units"
     ]
    }
   ],
>>>>>>> c2306d5e7570cdf3827b57ad6b21996cc3ec2052
   "source": [
    "#plots one district or all districts\n",
    "\n",
    "if allDistricts:\n",
    "    for districtRegion in DRS:\n",
    "        covid_plots.covid_plots(districtRegion, districts4Plot, startdate,predict_range, \\\n",
    "                                startCase, 5, version, show=True)\n",
    "else: \n",
    "    covid_plots.covid_plots(districtRegion, districts4Plot, startdate,predict_range, \\\n",
    "                                startCase, opt, version, show=True)"
   ]
  },
  {
   "cell_type": "code",
   "execution_count": null,
   "metadata": {},
   "outputs": [],
   "source": []
  },
  {
   "cell_type": "code",
   "execution_count": null,
   "metadata": {},
   "outputs": [],
   "source": []
  },
  {
   "cell_type": "code",
   "execution_count": null,
   "metadata": {},
   "outputs": [],
   "source": []
  },
  {
   "cell_type": "code",
   "execution_count": null,
   "metadata": {},
   "outputs": [],
   "source": []
  }
 ],
 "metadata": {
  "kernelspec": {
   "display_name": "Python 3",
   "language": "python",
   "name": "python3"
  },
  "language_info": {
   "codemirror_mode": {
    "name": "ipython",
    "version": 3
   },
   "file_extension": ".py",
   "mimetype": "text/x-python",
   "name": "python",
   "nbconvert_exporter": "python",
   "pygments_lexer": "ipython3",
   "version": "3.7.6-final"
  }
 },
 "nbformat": 4,
 "nbformat_minor": 4
}