version https://git-lfs.github.com/spec/v1
oid sha256:a1ec1ec8ac02f4076a96bbbda4dc83a16516c063e621a52f2abadaec1e2643ca
size 2540365
