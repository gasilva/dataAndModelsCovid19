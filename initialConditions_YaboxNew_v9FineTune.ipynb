version https://git-lfs.github.com/spec/v1
oid sha256:f60c6e90344a5270bb8857692aab46ab9568de0d5e9bad766c20c4198518d45f
size 18615408
